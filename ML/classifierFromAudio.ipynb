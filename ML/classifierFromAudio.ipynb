{
 "cells": [
  {
   "cell_type": "code",
   "execution_count": 1,
   "metadata": {},
   "outputs": [
    {
     "name": "stdout",
     "output_type": "stream",
     "text": [
      "Number of classes: 38\n",
      "\n",
      "With ADC interpolation to length 600:\n",
      "ADC1 shape: torch.Size([600])\n",
      "ADC2 shape: torch.Size([600])\n",
      "Audio Sampling Rate: 48000\n",
      "ADC Highcut: 3700\n"
     ]
    }
   ],
   "source": [
    "import torch\n",
    "from torch.utils.data import Dataset\n",
    "import numpy as np\n",
    "import json\n",
    "from scipy import signal\n",
    "import os\n",
    "\n",
    "class MemmapDataset(Dataset):\n",
    "    def __init__(self, descriptor_path, padding_handling=\"remove\", interp_length=None, transform=None, filter=False):\n",
    "        \"\"\"\n",
    "        Args:\n",
    "            descriptor_path (str): Path to the descriptor JSON file (e.g., 'descriptor.json').\n",
    "            padding_handling (str or float): How to handle np.inf padding values.\n",
    "                - \"remove\" (default): Remove the padded np.inf values and return variable-length arrays.\n",
    "                - A float: Replace any np.inf values with the given float.\n",
    "            interp_length (int, optional): If provided, the ADC data (adc1 and adc2) will be\n",
    "                first stripped of np.inf padding and then interpolated to this fixed length.\n",
    "            transform (callable, optional): Optional transform to be applied on a sample.\n",
    "            filter (bool, optional): Whether to apply a bandpass filter to the audio data.\n",
    "        \"\"\"\n",
    "        # Load descriptor from JSON file.\n",
    "        with open(descriptor_path, 'r') as f:\n",
    "            self.descriptor = json.load(f)\n",
    "        \n",
    "        # Extract required parameters from the descriptor.\n",
    "        self.audio_sampling_rate = self.descriptor['audio_sampling_rate']\n",
    "        self.adc_sampling_rate = self.descriptor['adc_sampling_rate']\n",
    "        self.audio_lowcut       = self.descriptor['audio_lowcut']\n",
    "        self.audio_highcut      = self.descriptor['audio_highcut']\n",
    "        self.adc_lowcut         = self.descriptor['adc_lowcut']\n",
    "        self.adc_highcut        = self.descriptor['adc_highcut']\n",
    "        self.max_audio_len      = self.descriptor['max_audio_len']\n",
    "        self.max_adc_len        = self.descriptor['max_adc_len']\n",
    "        self.n_segments         = self.descriptor['n_segments']\n",
    "        self.memmap_filename    = self.descriptor['memmap_filename']\n",
    "        self.dataset_mapping    = self.descriptor['dataset_mapping']\n",
    "        # Rebuild the dtype from the descriptor.\n",
    "        self.dtype = np.dtype([tuple(item) for item in self.descriptor['dtype']])\n",
    "        \n",
    "        # Open the memmap file in read-only mode using the number of segments from the descriptor.\n",
    "        self.memmap = np.memmap(self.memmap_filename, dtype=self.dtype, mode='r', shape=(self.n_segments,))\n",
    "        \n",
    "        self.transform = transform\n",
    "        self.padding_handling = padding_handling\n",
    "        self.interp_length = interp_length\n",
    "        self.filter = filter\n",
    "\n",
    "    def __len__(self):\n",
    "        return self.n_segments\n",
    "\n",
    "    def __getitem__(self, index):\n",
    "        # Retrieve the record from the memmap.\n",
    "        row = self.memmap[index]\n",
    "        \n",
    "        # Convert fixed-size arrays to numpy arrays.\n",
    "        audio_arr = np.array(row['audio'])\n",
    "        adc1_arr = np.array(row['adc1'])\n",
    "        adc2_arr = np.array(row['adc2'])\n",
    "        \n",
    "        # Process audio channel using the padding handling method.\n",
    "        audio_arr = self._handle_padding(audio_arr, self.padding_handling)\n",
    "        adc1_arr = self._handle_padding(adc1_arr, self.padding_handling)\n",
    "        adc2_arr = self._handle_padding(adc2_arr, self.padding_handling)\n",
    "        \n",
    "        if self.filter:\n",
    "            audio_arr = self.BPfilter(audio_arr, self.audio_sampling_rate, self.audio_lowcut, self.audio_highcut)\n",
    "            adc1_arr = self.BPfilter(adc1_arr, self.adc_sampling_rate, self.adc_lowcut, self.adc_highcut)\n",
    "            adc2_arr = self.BPfilter(adc2_arr, self.adc_sampling_rate, self.adc_lowcut, self.adc_highcut)\n",
    "\n",
    "        # Process ADC channels.\n",
    "        if self.interp_length is not None:\n",
    "            audio_arr = self._interpolate_channel(audio_arr, self.interp_length)\n",
    "            adc1_arr = self._interpolate_channel(adc1_arr, self.interp_length)\n",
    "            adc2_arr = self._interpolate_channel(adc2_arr, self.interp_length)\n",
    "        \n",
    "        # Create a sample tuple.\n",
    "        # Use .copy() to ensure the arrays have positive strides.\n",
    "        sample = ( \n",
    "            int(row['id']), \n",
    "            torch.from_numpy(audio_arr.copy()).float(),  \n",
    "            torch.from_numpy(adc1_arr.copy()).float(), \n",
    "            torch.from_numpy(adc2_arr.copy()).float(),  \n",
    "        )\n",
    "        \n",
    "        if self.transform:\n",
    "            sample = self.transform(sample)\n",
    "        return sample\n",
    "\n",
    "    def _handle_padding(self, arr, mode):\n",
    "        \"\"\"\n",
    "        Handle the np.inf padded values in the array.\n",
    "        If mode is \"remove\", return the array with inf values removed.\n",
    "        If mode is a float, replace inf values with that float.\n",
    "        \"\"\"\n",
    "        if mode == \"remove\":\n",
    "            return arr[~np.isinf(arr)]\n",
    "        elif isinstance(mode, (int, float)):\n",
    "            return np.where(np.isinf(arr), mode, arr)\n",
    "        else:\n",
    "            raise ValueError(\"Invalid padding_handling value. Use 'remove' or a float value.\")\n",
    "\n",
    "    def _interpolate_channel(self, arr, target_length):\n",
    "        \"\"\"\n",
    "        Remove np.inf values from the array and linearly interpolate\n",
    "        to the target_length.\n",
    "        \"\"\"\n",
    "        # Remove padded inf values.\n",
    "        valid = arr[~np.isinf(arr)]\n",
    "        if len(valid) == 0:\n",
    "            # If there is no valid data, return an array of zeros.\n",
    "            return np.zeros(target_length, dtype=arr.dtype)\n",
    "        # Generate new indices for interpolation.\n",
    "        old_indices = np.arange(len(valid))\n",
    "        new_indices = np.linspace(0, len(valid) - 1, target_length)\n",
    "        return np.interp(new_indices, old_indices, valid)[:target_length]\n",
    "\n",
    "    def get(self, field):\n",
    "        \"\"\"\n",
    "        Return the value of the given descriptor field.\n",
    "        For example, dataset.get(\"audio_sampling_rate\") returns the audio sampling rate.\n",
    "        \"\"\"\n",
    "        return self.descriptor.get(field, None)\n",
    "\n",
    "    def id_to_dataset(self, id):\n",
    "        \"\"\"\n",
    "        Return the dataset string for the given ID.\n",
    "        \"\"\"\n",
    "        return self.dataset_mapping.get(str(id), \"Unknown\")\n",
    "\n",
    "    def get_Nclasses(self):\n",
    "        \"\"\"\n",
    "        Return the number of unique datasets in the dataset_mapping.\n",
    "        \"\"\"\n",
    "        return len(set(self.dataset_mapping.values()))\n",
    "    \n",
    "    def BPfilter(self, data, fs, lowcut_hz=None, highcut_hz=None):\n",
    "        \"\"\"\n",
    "        Apply a bandpass Butterworth filter to the input data.\n",
    "        \n",
    "        Parameters:\n",
    "        data : array-like\n",
    "            The input signal to filter\n",
    "        fs : float\n",
    "            Sampling frequency in Hz\n",
    "        lowcut_hz : float, optional\n",
    "            Lower cutoff frequency in Hz. If None, defaults to 20 Hz\n",
    "        highcut_hz : float, optional\n",
    "            Upper cutoff frequency in Hz. If None, defaults to fs/4 Hz\n",
    "            \n",
    "        Returns:\n",
    "        array-like\n",
    "            The filtered signal\n",
    "        \"\"\"\n",
    "        # Default cutoff frequencies if not provided.\n",
    "        if lowcut_hz is None:\n",
    "            lowcut_hz = 20  # Default lower cutoff of 20 Hz\n",
    "        if highcut_hz is None:\n",
    "            highcut_hz = fs/4  # Default upper cutoff at quarter of sampling rate\n",
    "        \n",
    "        # Convert cutoff frequencies to normalized units (0 to 1).\n",
    "        nyquist = fs / 2\n",
    "        low = lowcut_hz / nyquist\n",
    "        high = highcut_hz / nyquist\n",
    "        \n",
    "        # Create a 4th-order bandpass Butterworth filter.\n",
    "        b, a = signal.butter(2, [low, high], btype='band')\n",
    "        \n",
    "        # Apply zero-phase filtering using filtfilt.\n",
    "        filtered_data = signal.filtfilt(b, a, data)\n",
    "        return filtered_data\n",
    "\n",
    "class normalizer():\n",
    "    def __init__(self, mean, std):\n",
    "        self.mean = mean\n",
    "        self.std = std\n",
    "\n",
    "    def __call__(self, sample):\n",
    "        id, audio, adc1, adc2 = sample\n",
    "        audio = (audio - self.mean[0]) / self.std[0]\n",
    "        adc1 = (adc1 - self.mean[1]) / self.std[1]\n",
    "        adc2 = (adc2 - self.mean[1]) / self.std[1]\n",
    "        return id, audio, adc1, adc2\n",
    "\n",
    "input_length = 600\n",
    "# Path to the descriptor JSON file.\n",
    "descriptor_path = 'samdescriptor.json'\n",
    "# Create a dataset instance that interpolates ADC channels to length 300, with filtering.\n",
    "dataset = MemmapDataset(descriptor_path, padding_handling=\"remove\", interp_length=input_length, filter=True)\n",
    "# dataset = MemmapDataset(descriptor_path, padding_handling=\"remove\", filter=True)\n",
    "transform = normalizer(mean=[dataset.get(\"audio_mean\"), dataset.get(\"adc_mean\")], std=[dataset.get(\"audio_std\"), dataset.get(\"adc_std\")])\n",
    "dataset.transform = transform\n",
    "output_length = dataset.get_Nclasses()\n",
    "print(\"Number of classes:\", output_length)\n",
    "sample = dataset[1]\n",
    "print(f\"\\nWith ADC interpolation to length {input_length}:\")\n",
    "print(\"ADC1 shape:\", sample[2].shape)\n",
    "print(\"ADC2 shape:\", sample[3].shape)\n",
    "\n",
    "# Demonstrate accessing a descriptor field.\n",
    "print(\"Audio Sampling Rate:\", dataset.get(\"audio_sampling_rate\"))\n",
    "print(\"ADC Highcut:\", dataset.get(\"adc_highcut\"))\n"
   ]
  },
  {
   "cell_type": "code",
   "execution_count": 2,
   "metadata": {},
   "outputs": [
    {
     "data": {
      "image/png": "[encoded data removed]",
      "text/plain": [
       "<Figure size 1000x800 with 3 Axes>"
      ]
     },
     "metadata": {},
     "output_type": "display_data"
    }
   ],
   "source": [
    "import matplotlib.pyplot as plt\n",
    "\n",
    "\n",
    "rng_index = np.random.randint(0, len(dataset))\n",
    "sample = dataset[rng_index]\n",
    "\n",
    "sample_id, audio, adc1, adc2 = sample  # unpack the tuple\n",
    "\n",
    "# Convert tensors to numpy arrays for plotting\n",
    "audio_np = audio.numpy()\n",
    "adc1_np = adc1.numpy()\n",
    "adc2_np = adc2.numpy()\n",
    "\n",
    "# Create a figure with three subplots for audio, ADC1, and ADC2.\n",
    "fig, axs = plt.subplots(3, 1, figsize=(10, 8))\n",
    "\n",
    "axs[0].plot(audio_np)\n",
    "axs[0].set_title(f\"Audio Sample (ID: {sample_id}=>{dataset.id_to_dataset(sample_id)})\")\n",
    "axs[0].set_xlabel(\"Time\")\n",
    "axs[0].set_ylabel(\"Amplitude\")\n",
    "\n",
    "axs[1].plot(adc1_np)\n",
    "axs[1].set_title(f\"ADC1 Sample (n={len(adc1_np)} samples)\")\n",
    "axs[1].set_xlabel(\"Time\")\n",
    "axs[1].set_ylabel(\"Amplitude\")\n",
    "\n",
    "axs[2].plot(adc2_np)\n",
    "axs[2].set_title(f\"ADC2 Sample (n={len(adc2_np)} samples)\")\n",
    "axs[2].set_xlabel(\"Time\")\n",
    "axs[2].set_ylabel(\"Amplitude\")\n",
    "\n",
    "plt.tight_layout()\n",
    "plt.show()\n"
   ]
  },
  {
   "cell_type": "code",
   "execution_count": 3,
   "metadata": {},
   "outputs": [
    {
     "name": "stdout",
     "output_type": "stream",
     "text": [
      "Output shape is: torch.Size([4, 38])\n",
      "InceptionTime(\n",
      "  (inception_blocks): Sequential(\n",
      "    (0): InceptionBlock(\n",
      "      (branch1): Sequential(\n",
      "        (0): Conv1d(2, 128, kernel_size=(9,), stride=(1,), padding=(4,), bias=False)\n",
      "        (1): BatchNorm1d(128, eps=1e-05, momentum=0.1, affine=True, track_running_stats=True)\n",
      "        (2): ELU(alpha=1.0, inplace=True)\n",
      "      )\n",
      "      (branch2): Sequential(\n",
      "        (0): Conv1d(2, 128, kernel_size=(19,), stride=(1,), padding=(9,), bias=False)\n",
      "        (1): BatchNorm1d(128, eps=1e-05, momentum=0.1, affine=True, track_running_stats=True)\n",
      "        (2): ELU(alpha=1.0, inplace=True)\n",
      "      )\n",
      "      (branch3): Sequential(\n",
      "        (0): Conv1d(2, 128, kernel_size=(39,), stride=(1,), padding=(19,), bias=False)\n",
      "        (1): BatchNorm1d(128, eps=1e-05, momentum=0.1, affine=True, track_running_stats=True)\n",
      "        (2): ELU(alpha=1.0, inplace=True)\n",
      "      )\n",
      "      (branch4): Sequential(\n",
      "        (0): MaxPool1d(kernel_size=3, stride=1, padding=1, dilation=1, ceil_mode=False)\n",
      "        (1): Conv1d(2, 128, kernel_size=(1,), stride=(1,), bias=False)\n",
      "        (2): BatchNorm1d(128, eps=1e-05, momentum=0.1, affine=True, track_running_stats=True)\n",
      "        (3): ELU(alpha=1.0, inplace=True)\n",
      "      )\n",
      "      (conv_linear): Conv1d(512, 128, kernel_size=(1,), stride=(1,), bias=False)\n",
      "      (conv_linear_bn): BatchNorm1d(128, eps=1e-05, momentum=0.1, affine=True, track_running_stats=True)\n",
      "      (skip_conv): Sequential(\n",
      "        (0): Conv1d(2, 128, kernel_size=(1,), stride=(1,), bias=False)\n",
      "        (1): BatchNorm1d(128, eps=1e-05, momentum=0.1, affine=True, track_running_stats=True)\n",
      "      )\n",
      "      (final_activation): ELU(alpha=1.0, inplace=True)\n",
      "    )\n",
      "    (1): InceptionBlock(\n",
      "      (bottleneck): Conv1d(128, 64, kernel_size=(1,), stride=(1,), bias=False)\n",
      "      (bottleneck_bn): BatchNorm1d(64, eps=1e-05, momentum=0.1, affine=True, track_running_stats=True)\n",
      "      (branch1): Sequential(\n",
      "        (0): Conv1d(64, 128, kernel_size=(9,), stride=(1,), padding=(4,), bias=False)\n",
      "        (1): BatchNorm1d(128, eps=1e-05, momentum=0.1, affine=True, track_running_stats=True)\n",
      "        (2): ELU(alpha=1.0, inplace=True)\n",
      "      )\n",
      "      (branch2): Sequential(\n",
      "        (0): Conv1d(64, 128, kernel_size=(19,), stride=(1,), padding=(9,), bias=False)\n",
      "        (1): BatchNorm1d(128, eps=1e-05, momentum=0.1, affine=True, track_running_stats=True)\n",
      "        (2): ELU(alpha=1.0, inplace=True)\n",
      "      )\n",
      "      (branch3): Sequential(\n",
      "        (0): Conv1d(64, 128, kernel_size=(39,), stride=(1,), padding=(19,), bias=False)\n",
      "        (1): BatchNorm1d(128, eps=1e-05, momentum=0.1, affine=True, track_running_stats=True)\n",
      "        (2): ELU(alpha=1.0, inplace=True)\n",
      "      )\n",
      "      (branch4): Sequential(\n",
      "        (0): MaxPool1d(kernel_size=3, stride=1, padding=1, dilation=1, ceil_mode=False)\n",
      "        (1): Conv1d(128, 128, kernel_size=(1,), stride=(1,), bias=False)\n",
      "        (2): BatchNorm1d(128, eps=1e-05, momentum=0.1, affine=True, track_running_stats=True)\n",
      "        (3): ELU(alpha=1.0, inplace=True)\n",
      "      )\n",
      "      (conv_linear): Conv1d(512, 128, kernel_size=(1,), stride=(1,), bias=False)\n",
      "      (conv_linear_bn): BatchNorm1d(128, eps=1e-05, momentum=0.1, affine=True, track_running_stats=True)\n",
      "      (final_activation): ELU(alpha=1.0, inplace=True)\n",
      "    )\n",
      "    (2): InceptionBlock(\n",
      "      (bottleneck): Conv1d(128, 64, kernel_size=(1,), stride=(1,), bias=False)\n",
      "      (bottleneck_bn): BatchNorm1d(64, eps=1e-05, momentum=0.1, affine=True, track_running_stats=True)\n",
      "      (branch1): Sequential(\n",
      "        (0): Conv1d(64, 128, kernel_size=(9,), stride=(1,), padding=(4,), bias=False)\n",
      "        (1): BatchNorm1d(128, eps=1e-05, momentum=0.1, affine=True, track_running_stats=True)\n",
      "        (2): ELU(alpha=1.0, inplace=True)\n",
      "      )\n",
      "      (branch2): Sequential(\n",
      "        (0): Conv1d(64, 128, kernel_size=(19,), stride=(1,), padding=(9,), bias=False)\n",
      "        (1): BatchNorm1d(128, eps=1e-05, momentum=0.1, affine=True, track_running_stats=True)\n",
      "        (2): ELU(alpha=1.0, inplace=True)\n",
      "      )\n",
      "      (branch3): Sequential(\n",
      "        (0): Conv1d(64, 128, kernel_size=(39,), stride=(1,), padding=(19,), bias=False)\n",
      "        (1): BatchNorm1d(128, eps=1e-05, momentum=0.1, affine=True, track_running_stats=True)\n",
      "        (2): ELU(alpha=1.0, inplace=True)\n",
      "      )\n",
      "      (branch4): Sequential(\n",
      "        (0): MaxPool1d(kernel_size=3, stride=1, padding=1, dilation=1, ceil_mode=False)\n",
      "        (1): Conv1d(128, 128, kernel_size=(1,), stride=(1,), bias=False)\n",
      "        (2): BatchNorm1d(128, eps=1e-05, momentum=0.1, affine=True, track_running_stats=True)\n",
      "        (3): ELU(alpha=1.0, inplace=True)\n",
      "      )\n",
      "      (conv_linear): Conv1d(512, 128, kernel_size=(1,), stride=(1,), bias=False)\n",
      "      (conv_linear_bn): BatchNorm1d(128, eps=1e-05, momentum=0.1, affine=True, track_running_stats=True)\n",
      "      (final_activation): ELU(alpha=1.0, inplace=True)\n",
      "    )\n",
      "    (3): InceptionBlock(\n",
      "      (bottleneck): Conv1d(128, 64, kernel_size=(1,), stride=(1,), bias=False)\n",
      "      (bottleneck_bn): BatchNorm1d(64, eps=1e-05, momentum=0.1, affine=True, track_running_stats=True)\n",
      "      (branch1): Sequential(\n",
      "        (0): Conv1d(64, 128, kernel_size=(9,), stride=(1,), padding=(4,), bias=False)\n",
      "        (1): BatchNorm1d(128, eps=1e-05, momentum=0.1, affine=True, track_running_stats=True)\n",
      "        (2): ELU(alpha=1.0, inplace=True)\n",
      "      )\n",
      "      (branch2): Sequential(\n",
      "        (0): Conv1d(64, 128, kernel_size=(19,), stride=(1,), padding=(9,), bias=False)\n",
      "        (1): BatchNorm1d(128, eps=1e-05, momentum=0.1, affine=True, track_running_stats=True)\n",
      "        (2): ELU(alpha=1.0, inplace=True)\n",
      "      )\n",
      "      (branch3): Sequential(\n",
      "        (0): Conv1d(64, 128, kernel_size=(39,), stride=(1,), padding=(19,), bias=False)\n",
      "        (1): BatchNorm1d(128, eps=1e-05, momentum=0.1, affine=True, track_running_stats=True)\n",
      "        (2): ELU(alpha=1.0, inplace=True)\n",
      "      )\n",
      "      (branch4): Sequential(\n",
      "        (0): MaxPool1d(kernel_size=3, stride=1, padding=1, dilation=1, ceil_mode=False)\n",
      "        (1): Conv1d(128, 128, kernel_size=(1,), stride=(1,), bias=False)\n",
      "        (2): BatchNorm1d(128, eps=1e-05, momentum=0.1, affine=True, track_running_stats=True)\n",
      "        (3): ELU(alpha=1.0, inplace=True)\n",
      "      )\n",
      "      (conv_linear): Conv1d(512, 128, kernel_size=(1,), stride=(1,), bias=False)\n",
      "      (conv_linear_bn): BatchNorm1d(128, eps=1e-05, momentum=0.1, affine=True, track_running_stats=True)\n",
      "      (final_activation): ELU(alpha=1.0, inplace=True)\n",
      "    )\n",
      "    (4): InceptionBlock(\n",
      "      (bottleneck): Conv1d(128, 64, kernel_size=(1,), stride=(1,), bias=False)\n",
      "      (bottleneck_bn): BatchNorm1d(64, eps=1e-05, momentum=0.1, affine=True, track_running_stats=True)\n",
      "      (branch1): Sequential(\n",
      "        (0): Conv1d(64, 128, kernel_size=(9,), stride=(1,), padding=(4,), bias=False)\n",
      "        (1): BatchNorm1d(128, eps=1e-05, momentum=0.1, affine=True, track_running_stats=True)\n",
      "        (2): ELU(alpha=1.0, inplace=True)\n",
      "      )\n",
      "      (branch2): Sequential(\n",
      "        (0): Conv1d(64, 128, kernel_size=(19,), stride=(1,), padding=(9,), bias=False)\n",
      "        (1): BatchNorm1d(128, eps=1e-05, momentum=0.1, affine=True, track_running_stats=True)\n",
      "        (2): ELU(alpha=1.0, inplace=True)\n",
      "      )\n",
      "      (branch3): Sequential(\n",
      "        (0): Conv1d(64, 128, kernel_size=(39,), stride=(1,), padding=(19,), bias=False)\n",
      "        (1): BatchNorm1d(128, eps=1e-05, momentum=0.1, affine=True, track_running_stats=True)\n",
      "        (2): ELU(alpha=1.0, inplace=True)\n",
      "      )\n",
      "      (branch4): Sequential(\n",
      "        (0): MaxPool1d(kernel_size=3, stride=1, padding=1, dilation=1, ceil_mode=False)\n",
      "        (1): Conv1d(128, 128, kernel_size=(1,), stride=(1,), bias=False)\n",
      "        (2): BatchNorm1d(128, eps=1e-05, momentum=0.1, affine=True, track_running_stats=True)\n",
      "        (3): ELU(alpha=1.0, inplace=True)\n",
      "      )\n",
      "      (conv_linear): Conv1d(512, 128, kernel_size=(1,), stride=(1,), bias=False)\n",
      "      (conv_linear_bn): BatchNorm1d(128, eps=1e-05, momentum=0.1, affine=True, track_running_stats=True)\n",
      "      (final_activation): ELU(alpha=1.0, inplace=True)\n",
      "    )\n",
      "  )\n",
      "  (global_pool): AdaptiveAvgPool1d(output_size=1)\n",
      "  (fc): Linear(in_features=128, out_features=38, bias=True)\n",
      ")\n",
      "Model Size: 10.11 MB\n"
     ]
    }
   ],
   "source": [
    "# from torchprofile import profile_macs\n",
    "\n",
    "import torch.nn as nn\n",
    "import torch.nn.functional as F\n",
    "\n",
    "# the data shape is (batch_size, 2, input_length)\n",
    "# where 2 is the number of ADC channels and input_length is the length of each ADC channel.\n",
    "# the output shape is (batch_size, output_length) where output_length is the number of classes.\n",
    "\n",
    "# def computeModelStats(model, input_shape):\n",
    "#     dummy_input = torch.randn(input_shape)\n",
    "#     macs = profile_macs(model, dummy_input)\n",
    "#     params = sum(p.numel() for p in model.parameters())\n",
    "#     model_size = params * 4 / (1024 ** 2)  # Convert to MB assuming 32-bit (4 bytes) precision\n",
    "#     print(f\"MACs: {macs}\")\n",
    "#     print(f\"Parameters: {params}\")\n",
    "#     print(f\"Model Size: {model_size:.2f} MB\")\n",
    "\n",
    "def computeModelSize(model):\n",
    "    params = sum(p.numel() for p in model.parameters())\n",
    "    model_size = params * 4 / (1024 ** 2)  # Convert to MB assuming 32-bit (4 bytes) precision\n",
    "    return model_size\n",
    "\n",
    "\n",
    "class ResNetBlock(nn.Module):\n",
    "    def __init__(self, in_channels, out_channels, stride=1):\n",
    "        super(ResNetBlock, self).__init__()\n",
    "        self.conv1 = nn.Conv1d(in_channels, out_channels, kernel_size=3, stride=stride, padding=1, bias=False)\n",
    "        self.bn1 = nn.BatchNorm1d(out_channels)\n",
    "        self.relu = nn.ELU(inplace=True)\n",
    "        self.conv2 = nn.Conv1d(out_channels, out_channels, kernel_size=3, stride=1, padding=1, bias=False)\n",
    "        self.bn2 = nn.BatchNorm1d(out_channels)\n",
    "        self.shortcut = nn.Sequential()\n",
    "        if stride != 1 or in_channels != out_channels:\n",
    "            self.shortcut = nn.Sequential(\n",
    "                nn.Conv1d(in_channels, out_channels, kernel_size=1, stride=stride, bias=False),\n",
    "                nn.BatchNorm1d(out_channels)\n",
    "            )\n",
    "\n",
    "    def forward(self, x):\n",
    "        out = self.conv1(x)\n",
    "        out = self.bn1(out)\n",
    "        out = self.relu(out)\n",
    "        out = self.conv2(out)\n",
    "        out = self.bn2(out)\n",
    "        out += self.shortcut(x)\n",
    "        out = self.relu(out)\n",
    "        return out\n",
    "\n",
    "class AudioResNet(nn.Module):\n",
    "    def __init__(self, input_length, input_dim,output_length):\n",
    "        super(AudioResNet, self).__init__()\n",
    "        self.conv1 = nn.Conv1d(input_dim, 64, kernel_size=7, stride=2, padding=3)\n",
    "        self.bn1 = nn.BatchNorm1d(64)\n",
    "        self.relu = nn.ELU(inplace=True)\n",
    "        self.maxpool = nn.MaxPool1d(kernel_size=3, stride=2, padding=1)\n",
    "        self.layer1 = self._make_layer(64, 128, 2)\n",
    "        self.layer2 = self._make_layer(128, 256, 2, stride=2)\n",
    "        self.layer3 = self._make_layer(256, 512, 2, stride=2)\n",
    "        self.layer4 = self._make_layer(512, 512, 4, stride=2)\n",
    "        self.avgpool = nn.AdaptiveAvgPool1d(1)\n",
    "        self.fc = nn.Linear(512, output_length)\n",
    "\n",
    "    def _make_layer(self, in_channels, out_channels, blocks, stride=1):\n",
    "        layers = []\n",
    "        layers.append(ResNetBlock(in_channels, out_channels, stride))\n",
    "        for _ in range(1, blocks):\n",
    "            layers.append(ResNetBlock(out_channels, out_channels))\n",
    "        return nn.Sequential(*layers)\n",
    "\n",
    "    def forward(self, x):\n",
    "        x = self.conv1(x)\n",
    "        x = self.bn1(x)\n",
    "        x = self.relu(x)\n",
    "        x = self.maxpool(x)\n",
    "        x = self.layer1(x)\n",
    "        x = self.layer2(x)\n",
    "        x = self.layer3(x)\n",
    "        x = self.layer4(x)\n",
    "        x = self.avgpool(x)\n",
    "        x = torch.flatten(x, 1)\n",
    "        x = self.fc(x)\n",
    "        return x\n",
    "\n",
    "class ResNet(nn.Module):\n",
    "    def __init__(self, input_length, input_dim,output_length):\n",
    "        super(ResNet, self).__init__()\n",
    "        self.conv1 = nn.Conv1d(input_dim, 64, kernel_size=7, stride=2, padding=3)\n",
    "        self.bn1 = nn.BatchNorm1d(64)\n",
    "        self.relu = nn.ELU(inplace=True)\n",
    "        self.maxpool = nn.MaxPool1d(kernel_size=3, stride=2, padding=1)\n",
    "        self.layer1 = self._make_layer( 64, 128, 4)\n",
    "        self.layer2 = self._make_layer(128, 256, 2, stride=2)\n",
    "        self.layer3 = self._make_layer(256, 512, 2, stride=2)\n",
    "        self.layer4 = self._make_layer(512, 512, 4, stride=2)\n",
    "        self.avgpool = nn.AdaptiveAvgPool1d(1)\n",
    "        self.fc = nn.Linear(512, output_length)\n",
    "\n",
    "    def _make_layer(self, in_channels, out_channels, blocks, stride=1):\n",
    "        layers = []\n",
    "        layers.append(ResNetBlock(in_channels, out_channels, stride))\n",
    "        for _ in range(1, blocks):\n",
    "            layers.append(ResNetBlock(out_channels, out_channels))\n",
    "        return nn.Sequential(*layers)\n",
    "\n",
    "    def forward(self, x):\n",
    "        x = self.conv1(x)\n",
    "        x = self.bn1(x)\n",
    "        x = self.relu(x)\n",
    "        x = self.maxpool(x)\n",
    "        x = self.layer1(x)\n",
    "        x = self.layer2(x)\n",
    "        x = self.layer3(x)\n",
    "        x = self.layer4(x)\n",
    "        x = self.avgpool(x)\n",
    "        x = torch.flatten(x, 1)\n",
    "        x = self.fc(x)\n",
    "        return x\n",
    "\n",
    "\n",
    "\n",
    "class SmallResNet(nn.Module):\n",
    "    def __init__(self, input_length, input_dim, output_length):\n",
    "        super(SmallResNet, self).__init__()\n",
    "        self.conv1 = nn.Conv1d(input_dim, 32, kernel_size=7, stride=2, padding=3)\n",
    "        self.bn1 = nn.BatchNorm1d(32)\n",
    "        self.relu = nn.ELU(inplace=True)\n",
    "        self.maxpool = nn.MaxPool1d(kernel_size=3, stride=2, padding=1)\n",
    "        self.layer1 = self._make_layer(32, 64, 4)\n",
    "        self.layer2 = self._make_layer(64, 128, 4, stride=2)\n",
    "        self.layer3 = self._make_layer(128, 256, 4, stride=2)\n",
    "        self.layer4 = self._make_layer(256, 512, 4, stride=2)\n",
    "        self.avgpool = nn.AdaptiveAvgPool1d(1)\n",
    "        self.fc = nn.Linear(512, output_length)\n",
    "\n",
    "    def _make_layer(self, in_channels, out_channels, blocks, stride=1):\n",
    "        layers = []\n",
    "        layers.append(ResNetBlock(in_channels, out_channels, stride))\n",
    "        for _ in range(1, blocks):\n",
    "            layers.append(ResNetBlock(out_channels, out_channels))\n",
    "        return nn.Sequential(*layers)\n",
    "\n",
    "    def forward(self, x):\n",
    "        x = self.conv1(x)\n",
    "        x = self.bn1(x)\n",
    "        x = self.relu(x)\n",
    "        x = self.maxpool(x)\n",
    "        x = self.layer1(x)\n",
    "        x = self.layer2(x)\n",
    "        x = self.layer3(x)\n",
    "        x = self.layer4(x)\n",
    "        x = self.avgpool(x)\n",
    "        x = torch.flatten(x, 1)\n",
    "        x = self.fc(x)\n",
    "        return x\n",
    "\n",
    "\n",
    "class InceptionBlock(nn.Module):\n",
    "    \"\"\"\n",
    "    An Inception-style block for 1D signals.\n",
    "    Each block includes:\n",
    "      1) Optional bottleneck conv (1x1) to reduce input channels if needed\n",
    "      2) Three parallel conv branches with different kernel sizes\n",
    "      3) A parallel max-pool branch\n",
    "      4) Concatenation of all branches\n",
    "      5) A 1x1 'linear' conv to reduce channels back to 'out_channels'\n",
    "      6) Optional skip connection if use_residual=True\n",
    "    \"\"\"\n",
    "    def __init__(self, \n",
    "                 in_channels: int,\n",
    "                 out_channels: int,\n",
    "                 kernel_sizes: list = [9, 19, 39],\n",
    "                 bottleneck_channels: int = 32,\n",
    "                 use_residual: bool = True):\n",
    "        \"\"\"\n",
    "        Args:\n",
    "            in_channels: Number of input channels\n",
    "            out_channels: Number of output channels (post concatenation reduction)\n",
    "            kernel_sizes: Sizes for the parallel convolutions\n",
    "            bottleneck_channels: Bottleneck channels for the optional 1x1 conv\n",
    "            use_residual: Whether to add a residual (skip) connection\n",
    "        \"\"\"\n",
    "        super(InceptionBlock, self).__init__()\n",
    "        self.use_residual = use_residual\n",
    "        \n",
    "        # 1) Bottleneck if input channels are larger than the bottleneck size\n",
    "        if in_channels > bottleneck_channels:\n",
    "            self.bottleneck = nn.Conv1d(in_channels, bottleneck_channels, kernel_size=1, bias=False)\n",
    "            self.bottleneck_bn = nn.BatchNorm1d(bottleneck_channels)\n",
    "            conv_in = bottleneck_channels\n",
    "        else:\n",
    "            self.bottleneck = None\n",
    "            conv_in = in_channels\n",
    "        \n",
    "        # 2) Three parallel conv branches with different kernel sizes\n",
    "        self.branch1 = nn.Sequential(\n",
    "            nn.Conv1d(conv_in, out_channels, kernel_size=kernel_sizes[0], \n",
    "                      padding=kernel_sizes[0] // 2, bias=False),\n",
    "            nn.BatchNorm1d(out_channels),\n",
    "            nn.ELU(inplace=True)\n",
    "        )\n",
    "        self.branch2 = nn.Sequential(\n",
    "            nn.Conv1d(conv_in, out_channels, kernel_size=kernel_sizes[1], \n",
    "                      padding=kernel_sizes[1] // 2, bias=False),\n",
    "            nn.BatchNorm1d(out_channels),\n",
    "            nn.ELU(inplace=True)\n",
    "        )\n",
    "        self.branch3 = nn.Sequential(\n",
    "            nn.Conv1d(conv_in, out_channels, kernel_size=kernel_sizes[2], \n",
    "                      padding=kernel_sizes[2] // 2, bias=False),\n",
    "            nn.BatchNorm1d(out_channels),\n",
    "            nn.ELU(inplace=True)\n",
    "        )\n",
    "\n",
    "        # 3) Pooling branch\n",
    "        self.branch4 = nn.Sequential(\n",
    "            nn.MaxPool1d(kernel_size=3, stride=1, padding=1),\n",
    "            nn.Conv1d(in_channels, out_channels, kernel_size=1, bias=False),\n",
    "            nn.BatchNorm1d(out_channels),\n",
    "            nn.ELU(inplace=True)\n",
    "        )\n",
    "\n",
    "        # 4) 1x1 'linear' conv to reduce from 4*out_channels -> out_channels\n",
    "        self.conv_linear = nn.Conv1d(4 * out_channels, out_channels, kernel_size=1, bias=False)\n",
    "        self.conv_linear_bn = nn.BatchNorm1d(out_channels)\n",
    "        \n",
    "        # If using a residual connection but in_channels != out_channels, we align dims\n",
    "        self.skip_conv = None\n",
    "        if use_residual and in_channels != out_channels:\n",
    "            self.skip_conv = nn.Sequential(\n",
    "                nn.Conv1d(in_channels, out_channels, kernel_size=1, bias=False),\n",
    "                nn.BatchNorm1d(out_channels)\n",
    "            )\n",
    "\n",
    "        self.final_activation = nn.ELU(inplace=True)\n",
    "\n",
    "    def forward(self, x: torch.Tensor) -> torch.Tensor:\n",
    "        # Bottleneck if configured\n",
    "        if self.bottleneck is not None:\n",
    "            x_bottleneck = self.bottleneck_bn(self.bottleneck(x))\n",
    "        else:\n",
    "            x_bottleneck = x\n",
    "\n",
    "        # Parallel branches\n",
    "        out1 = self.branch1(x_bottleneck)\n",
    "        out2 = self.branch2(x_bottleneck)\n",
    "        out3 = self.branch3(x_bottleneck)\n",
    "        out4 = self.branch4(x)\n",
    "\n",
    "        # Concatenate\n",
    "        merged = torch.cat([out1, out2, out3, out4], dim=1)   # (B, 4*out_channels, L)\n",
    "\n",
    "        # Linear conv to get back to out_channels\n",
    "        merged = self.conv_linear_bn(self.conv_linear(merged))  # (B, out_channels, L)\n",
    "\n",
    "        # Residual/skip connection\n",
    "        if self.use_residual:\n",
    "            skip = x\n",
    "            if self.skip_conv is not None:\n",
    "                skip = self.skip_conv(x)\n",
    "            merged = self.final_activation(merged + skip)\n",
    "        else:\n",
    "            merged = self.final_activation(merged)\n",
    "\n",
    "        return merged\n",
    "\n",
    "\n",
    "class InceptionTime(nn.Module):\n",
    "    \"\"\"\n",
    "    An InceptionTime model that stacks several InceptionBlocks in sequence\n",
    "    and then applies global average pooling + a final linear classifier.\n",
    "    \"\"\"\n",
    "    def __init__(self, \n",
    "                 input_length: int,\n",
    "                 input_dim: int,\n",
    "                 output_length: int,\n",
    "                 num_filters: int = 32,\n",
    "                 bottleneck_channels: int = 32,\n",
    "                 num_inception_blocks: int = 3):\n",
    "        \"\"\"\n",
    "        Args:\n",
    "            input_length: Unused directly here, but kept for parity with other models.\n",
    "            input_dim: Number of input channels (e.g., 2 if you have 2 ADC channels).\n",
    "            output_length: Number of output classes.\n",
    "            num_filters: Base number of filters for each inception branch\n",
    "            bottleneck_channels: Bottleneck size for optional 1x1 conv\n",
    "            num_inception_blocks: How many Inception blocks to stack\n",
    "        \"\"\"\n",
    "        super(InceptionTime, self).__init__()\n",
    "        \n",
    "        blocks = []\n",
    "        current_in_channels = input_dim\n",
    "        for _ in range(num_inception_blocks):\n",
    "            block = InceptionBlock(\n",
    "                in_channels=current_in_channels,\n",
    "                out_channels=num_filters,\n",
    "                kernel_sizes=[9, 19, 39],\n",
    "                bottleneck_channels=bottleneck_channels,\n",
    "                use_residual=True\n",
    "            )\n",
    "            blocks.append(block)\n",
    "            current_in_channels = num_filters\n",
    "        \n",
    "        self.inception_blocks = nn.Sequential(*blocks)\n",
    "        \n",
    "        # Adaptive average pool to (B, C, 1)\n",
    "        self.global_pool = nn.AdaptiveAvgPool1d(1)\n",
    "        \n",
    "        # Final fully-connected classification layer\n",
    "        self.fc = nn.Linear(num_filters, output_length)\n",
    "\n",
    "    def forward(self, x: torch.Tensor) -> torch.Tensor:\n",
    "        # Pass input through stacked Inception blocks\n",
    "        x = self.inception_blocks(x)  # (B, num_filters, L)\n",
    "        \n",
    "        # Global average pool\n",
    "        x = self.global_pool(x)       # (B, num_filters, 1)\n",
    "        x = x.squeeze(-1)            # (B, num_filters)\n",
    "        \n",
    "        # Fully-connected classification\n",
    "        x = self.fc(x)               # (B, output_length)\n",
    "        return x\n",
    "\n",
    "# Test the model with dummy data\n",
    "dummy = torch.randn(4, 2, input_length)\n",
    "# model = ResNet(input_length, 2, output_length)\n",
    "model = InceptionTime(input_length, 2, output_length, num_filters=128, bottleneck_channels=64, num_inception_blocks=5)  # For InceptionTime\n",
    "amodel = AudioResNet(input_length, 1, output_length)  # For AudioResNet\n",
    "amodel.load_state_dict(torch.load(\"best_audiomodel.pth\"), strict=False)  # Load weights from \"best_audiomodel.pth\"\n",
    "# Smodel = SmallResNet(input_length, 2, output_length)\n",
    "output = model(dummy)\n",
    "# Soutput = Smodel(dummy)\n",
    "print(\"Output shape is:\", output.shape)\n",
    "print(model)\n",
    "# print(\"Small Output shape is:\", Soutput.shape)\n",
    "# print(Smodel)\n",
    "\n",
    "# Compute model stats\n",
    "# computeModelStats(model, (1, 2, input_length))\n",
    "print(f\"Model Size: {computeModelSize(model):.2f} MB\")\n",
    "# print(f\"Small Model Size: {computeModelSize(Smodel):.2f} MB\")"
   ]
  },
  {
   "cell_type": "code",
   "execution_count": 4,
   "metadata": {},
   "outputs": [],
   "source": [
    "import torch\n",
    "import torch.nn as nn\n",
    "from tqdm import tqdm\n",
    "\n",
    "def train_epoch(\n",
    "    model,\n",
    "    dataloader,\n",
    "    epochs,\n",
    "    learning_rate,\n",
    "    optimizer=None,\n",
    "    loss_function=None,\n",
    "    scheduler=None,\n",
    "    device='cpu',\n",
    "    verbose=0,\n",
    "    log_interval=100,\n",
    "    logger=None,\n",
    "    amodel=None  # Pass the AudioResNet model for the second output comparison\n",
    "):\n",
    "    if loss_function is None:\n",
    "        loss_function = nn.CrossEntropyLoss()\n",
    "    \n",
    "    if optimizer is None:\n",
    "        optimizer = torch.optim.Adam(model.parameters(), lr=learning_rate)\n",
    "\n",
    "    model.to(device)\n",
    "    model.train()\n",
    "    amodel.to(device)  # Ensure the teacher model is also on the same device\n",
    "    amodel.eval()  # Set the teacher model to evaluation mode\n",
    "\n",
    "    epoch_results = []\n",
    "\n",
    "    for epoch in tqdm(range(epochs), desc=\"Training Epochs\", disable=(verbose == 0)):\n",
    "        total_loss = 0.0\n",
    "        correct = 0\n",
    "        total = 0\n",
    "        num_batches = 0\n",
    "        \n",
    "        for batch_idx, (ids, audio, adc1, adc2) in enumerate(dataloader):\n",
    "            audio = audio.to(device)\n",
    "            adc1 = adc1.to(device)\n",
    "            adc2 = adc2.to(device)\n",
    "            ids = ids.to(device)\n",
    "            \n",
    "            adc = torch.stack((adc1, adc2), dim=1)\n",
    "            adc+= torch.randn_like(adc) * 0.04\n",
    "            outputs = model(adc)\n",
    "\n",
    "            with torch.no_grad():\n",
    "                teacher_outputs = amodel(audio.unsqueeze(1))  # Pass audio through AudioResNet (teacher model)\n",
    "            \n",
    "            loss1 = loss_function(outputs, ids)  # Standard classification loss\n",
    "            loss2 = nn.KLDivLoss(reduction=\"batchmean\")(\n",
    "                torch.log_softmax(outputs / 2.0, dim=1),  # Student logits (scaled)\n",
    "                torch.softmax(teacher_outputs / 2.0, dim=1)  # Teacher logits (scaled)\n",
    "            )  # Knowledge distillation loss\n",
    "            # Combine the two losses\n",
    "            loss = loss1 + 0.9 * loss2\n",
    "            \n",
    "            optimizer.zero_grad()\n",
    "            loss.backward()\n",
    "            optimizer.step()\n",
    "            \n",
    "            total_loss += loss.item()\n",
    "            num_batches += 1\n",
    "            \n",
    "            _, predicted = torch.max(outputs, 1)\n",
    "            correct += (predicted == ids).sum().item()\n",
    "            total += ids.size(0)\n",
    "            \n",
    "            # if verbose > 0 and (batch_idx % log_interval == 0):\n",
    "            #     msg = f\"[TRAIN] Epoch: {epoch}/{epochs}, Batch: {batch_idx}, Loss: {loss.item():.4f}, Accuracy: {100 * correct / total:.2f}%\"\n",
    "            #     if verbose == 1:\n",
    "            #         print(msg)\n",
    "            #     if logger is not None and verbose != 0:\n",
    "            #         logger.log({\"split\": \"train\", \"epoch\": epoch, \"batch_idx\": batch_idx, \"loss\": loss.item(), \"accuracy\": 100 * correct / total})\n",
    "\n",
    "        if scheduler is not None:\n",
    "            scheduler.step()\n",
    "\n",
    "        avg_loss = total_loss / max(num_batches, 1)\n",
    "        accuracy = 100 * correct / total\n",
    "        epoch_results.append((avg_loss, accuracy))\n",
    "        if verbose == 1:\n",
    "            print(f\"[TRAIN] End of Epoch {epoch}, Avg Loss: {avg_loss:.4f}, Accuracy: {accuracy:.2f}%\")\n",
    "        if logger is not None and verbose != 0:\n",
    "            logger.log({\"split\": \"train\", \"epoch\": epoch, \"avg_loss\": avg_loss, \"accuracy\": accuracy})\n",
    "\n",
    "\n",
    "    return epoch_results\n",
    "\n",
    "\n",
    "def test_epoch(\n",
    "    model,\n",
    "    dataloader,\n",
    "    epochs=1,\n",
    "    loss_function=None,\n",
    "    device='cpu',\n",
    "    verbose=0,\n",
    "    log_interval=100,\n",
    "    logger=None,\n",
    "):\n",
    "    if loss_function is None:\n",
    "        loss_function = nn.CrossEntropyLoss()\n",
    "\n",
    "    model.to(device)\n",
    "    model.eval()\n",
    "\n",
    "    epoch_results = []\n",
    "\n",
    "    for epoch in tqdm(range(epochs), desc=\"Testing Epochs\", disable=(verbose == 0)):\n",
    "        total_loss = 0.0\n",
    "        correct = 0\n",
    "        total = 0\n",
    "        num_batches = 0\n",
    "\n",
    "        with torch.no_grad():\n",
    "            for batch_idx, (ids, audio, adc1, adc2) in enumerate(dataloader):\n",
    "                ids = ids.to(device)\n",
    "                adc1 = adc1.to(device)\n",
    "                adc2 = adc2.to(device)\n",
    "                audio = audio.to(device)  # Ensure audio is on the same device\n",
    "                \n",
    "                adc = torch.stack((adc1, adc2), dim=1)\n",
    "                outputs = model(adc)\n",
    "                loss = loss_function(outputs, ids)\n",
    "                \n",
    "                total_loss += loss.item()\n",
    "                num_batches += 1\n",
    "                \n",
    "                _, predicted = torch.max(outputs, 1)\n",
    "                correct += (predicted == ids).sum().item()\n",
    "                total += ids.size(0)\n",
    "                \n",
    "                # if verbose > 0 and (batch_idx % log_interval == 0):\n",
    "                #     msg = f\"[TEST] Epoch: {epoch}/{epochs}, Batch: {batch_idx}, Loss: {loss.item():.4f}, Accuracy: {100 * correct / total:.2f}%\"\n",
    "                #     if verbose == 1:\n",
    "                #         print(msg)\n",
    "                #     if logger is not None and verbose != 0:\n",
    "                #         logger.log({\"split\": \"test\", \"epoch\": epoch, \"batch_idx\": batch_idx, \"loss\": loss.item(), \"accuracy\": 100 * correct / total})\n",
    "\n",
    "        avg_loss = total_loss / max(num_batches, 1)\n",
    "        accuracy = 100 * correct / total\n",
    "        epoch_results.append((avg_loss, accuracy))\n",
    "        if verbose == 1:\n",
    "            print(f\"[TEST] End of Epoch {epoch}, Avg Loss: {avg_loss:.4f}, Accuracy: {accuracy:.2f}%\")\n",
    "        if logger is not None and verbose != 0:\n",
    "            logger.log({\"split\": \"test\", \"epoch\": epoch, \"avg_loss\": avg_loss, \"accuracy\": accuracy})\n",
    "\n",
    "    return epoch_results\n"
   ]
  },
  {
   "cell_type": "code",
   "execution_count": 5,
   "metadata": {},
   "outputs": [
    {
     "name": "stdout",
     "output_type": "stream",
     "text": [
      "Batch 1:\n",
      "IDs: tensor([ 7, 24, 27, 18, 27,  8,  4,  9, 21,  9, 34, 25, 13,  1, 13, 32,  1, 23,\n",
      "        33, 12, 27, 16, 30, 34,  7, 15, 31, 29, 36, 33, 27, 34])\n",
      "Audio shape: torch.Size([32, 600])\n",
      "ADC1 shape: torch.Size([32, 600])\n",
      "ADC2 shape: torch.Size([32, 600])\n",
      "Batch 2:\n",
      "IDs: tensor([ 4, 10, 18, 12, 12,  6, 24,  9,  6, 36,  5, 36,  4, 30, 16, 12, 12, 12,\n",
      "        36, 32, 24, 12, 14, 33, 19,  7,  6, 32, 20, 20,  8, 21])\n",
      "Audio shape: torch.Size([32, 600])\n",
      "ADC1 shape: torch.Size([32, 600])\n",
      "ADC2 shape: torch.Size([32, 600])\n",
      "Batch 1:\n",
      "IDs: tensor([20, 15, 20, 35,  1, 34, 12,  8,  1, 31, 34, 32, 15, 22,  4,  4, 28,  8,\n",
      "        31, 33, 23, 19, 16, 33, 32, 37, 20, 27, 24, 36,  2, 28])\n",
      "Audio shape: torch.Size([32, 600])\n",
      "ADC1 shape: torch.Size([32, 600])\n",
      "ADC2 shape: torch.Size([32, 600])\n",
      "Batch 2:\n",
      "IDs: tensor([ 6, 35, 23, 29, 31, 23, 32,  4, 22,  7, 10, 35, 17, 16, 18, 31, 15, 36,\n",
      "        37, 25, 20, 10, 37, 14, 24, 33, 29, 12, 10,  5, 18, 18])\n",
      "Audio shape: torch.Size([32, 600])\n",
      "ADC1 shape: torch.Size([32, 600])\n",
      "ADC2 shape: torch.Size([32, 600])\n",
      "Number of training samples: 1571\n",
      "Number of validation samples: 674\n"
     ]
    }
   ],
   "source": [
    "from torch.utils.data import DataLoader, random_split\n",
    "\n",
    "# Define the dataset split ratio\n",
    "train_ratio = 0.7\n",
    "val_ratio = 0.3\n",
    "\n",
    "# Calculate the number of samples for training and validation\n",
    "train_size = int(train_ratio * len(dataset))\n",
    "val_size = len(dataset) - train_size\n",
    "\n",
    "# Split the dataset into training and validation sets\n",
    "train_dataset, val_dataset = random_split(dataset, [train_size, val_size])\n",
    "\n",
    "# Create DataLoader instances for training and validation sets\n",
    "batch_size = 32\n",
    "train_loader = DataLoader(train_dataset, batch_size=batch_size, shuffle=True, drop_last=True, num_workers=4)\n",
    "val_loader = DataLoader(val_dataset, batch_size=batch_size, shuffle=False, drop_last=True, num_workers=4)\n",
    "\n",
    "# Sample 100 elements from both training and validation datasets for testing\n",
    "for i, (ids, audio, adc1, adc2) in enumerate(train_loader):\n",
    "    print(f\"Batch {i+1}:\")\n",
    "    print(\"IDs:\", ids)\n",
    "    print(\"Audio shape:\", audio.shape)\n",
    "    print(\"ADC1 shape:\", adc1.shape)\n",
    "    print(\"ADC2 shape:\", adc2.shape)\n",
    "    if i >= 1:  # Stop after the first batch\n",
    "        break\n",
    "\n",
    "for i, (ids, audio, adc1, adc2) in enumerate(val_loader):\n",
    "    print(f\"Batch {i+1}:\")\n",
    "    print(\"IDs:\", ids)\n",
    "    print(\"Audio shape:\", audio.shape)\n",
    "    print(\"ADC1 shape:\", adc1.shape)\n",
    "    print(\"ADC2 shape:\", adc2.shape)\n",
    "    if i >= 1:  # Stop after the first batch\n",
    "        break\n",
    "    \n",
    "\n",
    "\n",
    "print(f\"Number of training samples: {len(train_dataset)}\")\n",
    "print(f\"Number of validation samples: {len(val_dataset)}\")\n"
   ]
  },
  {
   "cell_type": "code",
   "execution_count": 6,
   "metadata": {},
   "outputs": [],
   "source": [
    "# !wandb login"
   ]
  },
  {
   "cell_type": "code",
   "execution_count": 7,
   "metadata": {},
   "outputs": [],
   "source": [
    "# import wandb\n",
    "\n",
    "# # Initialize W&B\n",
    "# wandb.init(project=\"Murmurations\")\n",
    "\n",
    "# # Configure W&B logging\n",
    "# config = wandb.config\n",
    "# config.learning_rate = 0.001\n",
    "# config.epochs = 10\n",
    "# config.batch_size = 4\n"
   ]
  },
  {
   "cell_type": "code",
   "execution_count": 8,
   "metadata": {},
   "outputs": [
    {
     "name": "stdout",
     "output_type": "stream",
     "text": [
      "Using device: cuda:0\n"
     ]
    }
   ],
   "source": [
    "TOTAL_EPOCHS = 240\n",
    "PER_EPOCH = 2\n",
    "\n",
    "optimizer = torch.optim.Adam(model.parameters(), lr=0.001, weight_decay=1e-5)\n",
    "criterion = torch.nn.CrossEntropyLoss(label_smoothing=0.2)\n",
    "# criterion = torch.nn.CrossEntropyLoss()\n",
    "# scheduler = torch.optim.lr_scheduler.StepLR(optimizer, step_size=50, gamma=0.5)\n",
    "# scheduler = torch.optim.lr_scheduler.CosineAnnealingLR(optimizer, TOTAL_EPOCHS, eta_min=0.0001)\n",
    "scheduler = torch.optim.lr_scheduler.CosineAnnealingWarmRestarts(optimizer, T_0=10, T_mult=3, eta_min=0.0001)\n",
    "if torch.backends.mps.is_available():\n",
    "    global_device = torch.device(\"mps\")\n",
    "else:\n",
    "    global_device = torch.device(\"cuda:0\" if torch.cuda.is_available() else \"cpu\")\n",
    "print(\"Using device:\", global_device)\n",
    "verbosity = 1"
   ]
  },
  {
   "cell_type": "code",
   "execution_count": 9,
   "metadata": {},
   "outputs": [
    {
     "name": "stderr",
     "output_type": "stream",
     "text": [
      "TOTAL Epochs:   0%|          | 0/240 [00:00<?, ?it/s]"
     ]
    },
    {
     "name": "stdout",
     "output_type": "stream",
     "text": [
      "[TRAIN] End of Epoch 0, Avg Loss: 3.3426, Accuracy: 19.71%\n"
     ]
    },
    {
     "name": "stderr",
     "output_type": "stream",
     "text": [
      "Training Epochs: 100%|██████████| 2/2 [00:03<00:00,  1.90s/it]\n"
     ]
    },
    {
     "name": "stdout",
     "output_type": "stream",
     "text": [
      "[TRAIN] End of Epoch 1, Avg Loss: 2.9461, Accuracy: 36.16%\n"
     ]
    },
    {
     "name": "stderr",
     "output_type": "stream",
     "text": [
      "Testing Epochs: 100%|██████████| 1/1 [00:00<00:00,  2.48it/s]\n",
      "TOTAL Epochs:   0%|          | 1/240 [00:04<16:54,  4.25s/it]"
     ]
    },
    {
     "name": "stdout",
     "output_type": "stream",
     "text": [
      "[TEST] End of Epoch 0, Avg Loss: 2.6782, Accuracy: 40.18%\n"
     ]
    },
    {
     "name": "stderr",
     "output_type": "stream",
     "text": []
    },
    {
     "name": "stdout",
     "output_type": "stream",
     "text": [
      "[TRAIN] End of Epoch 0, Avg Loss: 2.7086, Accuracy: 52.17%\n"
     ]
    },
    {
     "name": "stderr",
     "output_type": "stream",
     "text": [
      "Training Epochs: 100%|██████████| 2/2 [00:03<00:00,  1.68s/it]\n"
     ]
    },
    {
     "name": "stdout",
     "output_type": "stream",
     "text": [
      "[TRAIN] End of Epoch 1, Avg Loss: 2.5526, Accuracy: 59.38%\n"
     ]
    },
    {
     "name": "stderr",
     "output_type": "stream",
     "text": [
      "Testing Epochs: 100%|██████████| 1/1 [00:00<00:00,  2.42it/s]\n",
      "TOTAL Epochs:   1%|          | 2/240 [00:08<15:45,  3.97s/it]"
     ]
    },
    {
     "name": "stdout",
     "output_type": "stream",
     "text": [
      "[TEST] End of Epoch 0, Avg Loss: 2.3703, Accuracy: 56.70%\n"
     ]
    },
    {
     "name": "stderr",
     "output_type": "stream",
     "text": []
    },
    {
     "name": "stdout",
     "output_type": "stream",
     "text": [
      "[TRAIN] End of Epoch 0, Avg Loss: 2.4171, Accuracy: 65.50%\n"
     ]
    },
    {
     "name": "stderr",
     "output_type": "stream",
     "text": [
      "Training Epochs: 100%|██████████| 2/2 [00:03<00:00,  1.69s/it]\n"
     ]
    },
    {
     "name": "stdout",
     "output_type": "stream",
     "text": [
      "[TRAIN] End of Epoch 1, Avg Loss: 2.2902, Accuracy: 73.41%\n"
     ]
    },
    {
     "name": "stderr",
     "output_type": "stream",
     "text": [
      "Testing Epochs: 100%|██████████| 1/1 [00:00<00:00,  2.42it/s]\n",
      "TOTAL Epochs:   1%|▏         | 3/240 [00:11<15:22,  3.89s/it]"
     ]
    },
    {
     "name": "stdout",
     "output_type": "stream",
     "text": [
      "[TEST] End of Epoch 0, Avg Loss: 2.1014, Accuracy: 74.26%\n"
     ]
    },
    {
     "name": "stderr",
     "output_type": "stream",
     "text": []
    },
    {
     "name": "stdout",
     "output_type": "stream",
     "text": [
      "[TRAIN] End of Epoch 0, Avg Loss: 2.1914, Accuracy: 77.93%\n"
     ]
    },
    {
     "name": "stderr",
     "output_type": "stream",
     "text": [
      "Training Epochs: 100%|██████████| 2/2 [00:03<00:00,  1.69s/it]\n"
     ]
    },
    {
     "name": "stdout",
     "output_type": "stream",
     "text": [
      "[TRAIN] End of Epoch 1, Avg Loss: 2.1196, Accuracy: 80.93%\n"
     ]
    },
    {
     "name": "stderr",
     "output_type": "stream",
     "text": [
      "Testing Epochs: 100%|██████████| 1/1 [00:00<00:00,  2.47it/s]\n",
      "TOTAL Epochs:   2%|▏         | 4/240 [00:15<15:09,  3.85s/it]"
     ]
    },
    {
     "name": "stdout",
     "output_type": "stream",
     "text": [
      "[TEST] End of Epoch 0, Avg Loss: 2.0150, Accuracy: 79.46%\n"
     ]
    },
    {
     "name": "stderr",
     "output_type": "stream",
     "text": []
    },
    {
     "name": "stdout",
     "output_type": "stream",
     "text": [
      "[TRAIN] End of Epoch 0, Avg Loss: 2.0396, Accuracy: 84.89%\n"
     ]
    },
    {
     "name": "stderr",
     "output_type": "stream",
     "text": [
      "Training Epochs: 100%|██████████| 2/2 [00:02<00:00,  1.06s/it]\n"
     ]
    },
    {
     "name": "stdout",
     "output_type": "stream",
     "text": [
      "[TRAIN] End of Epoch 1, Avg Loss: 2.0034, Accuracy: 86.29%\n"
     ]
    },
    {
     "name": "stderr",
     "output_type": "stream",
     "text": [
      "Testing Epochs: 100%|██████████| 1/1 [00:00<00:00,  2.46it/s]\n",
      "TOTAL Epochs:   2%|▏         | 5/240 [00:18<13:14,  3.38s/it]"
     ]
    },
    {
     "name": "stdout",
     "output_type": "stream",
     "text": [
      "[TEST] End of Epoch 0, Avg Loss: 1.9407, Accuracy: 80.80%\n"
     ]
    },
    {
     "name": "stderr",
     "output_type": "stream",
     "text": []
    },
    {
     "name": "stdout",
     "output_type": "stream",
     "text": [
      "[TRAIN] End of Epoch 0, Avg Loss: 2.2338, Accuracy: 74.62%\n"
     ]
    },
    {
     "name": "stderr",
     "output_type": "stream",
     "text": [
      "Training Epochs: 100%|██████████| 2/2 [00:03<00:00,  1.68s/it]\n"
     ]
    },
    {
     "name": "stdout",
     "output_type": "stream",
     "text": [
      "[TRAIN] End of Epoch 1, Avg Loss: 2.1667, Accuracy: 75.38%\n"
     ]
    },
    {
     "name": "stderr",
     "output_type": "stream",
     "text": [
      "Testing Epochs: 100%|██████████| 1/1 [00:00<00:00,  2.48it/s]\n",
      "TOTAL Epochs:   2%|▎         | 6/240 [00:21<13:42,  3.51s/it]"
     ]
    },
    {
     "name": "stdout",
     "output_type": "stream",
     "text": [
      "[TEST] End of Epoch 0, Avg Loss: 2.1415, Accuracy: 66.52%\n"
     ]
    },
    {
     "name": "stderr",
     "output_type": "stream",
     "text": []
    },
    {
     "name": "stdout",
     "output_type": "stream",
     "text": [
      "[TRAIN] End of Epoch 0, Avg Loss: 2.1000, Accuracy: 80.10%\n"
     ]
    },
    {
     "name": "stderr",
     "output_type": "stream",
     "text": [
      "Training Epochs: 100%|██████████| 2/2 [00:03<00:00,  1.70s/it]\n"
     ]
    },
    {
     "name": "stdout",
     "output_type": "stream",
     "text": [
      "[TRAIN] End of Epoch 1, Avg Loss: 2.0337, Accuracy: 81.44%\n"
     ]
    },
    {
     "name": "stderr",
     "output_type": "stream",
     "text": [
      "Testing Epochs: 100%|██████████| 1/1 [00:00<00:00,  2.27it/s]\n",
      "TOTAL Epochs:   3%|▎         | 7/240 [00:25<14:04,  3.62s/it]"
     ]
    },
    {
     "name": "stdout",
     "output_type": "stream",
     "text": [
      "[TEST] End of Epoch 0, Avg Loss: 2.0853, Accuracy: 68.01%\n"
     ]
    },
    {
     "name": "stderr",
     "output_type": "stream",
     "text": []
    },
    {
     "name": "stdout",
     "output_type": "stream",
     "text": [
      "[TRAIN] End of Epoch 0, Avg Loss: 1.9871, Accuracy: 83.99%\n"
     ]
    },
    {
     "name": "stderr",
     "output_type": "stream",
     "text": [
      "Training Epochs: 100%|██████████| 2/2 [00:03<00:00,  1.69s/it]\n"
     ]
    },
    {
     "name": "stdout",
     "output_type": "stream",
     "text": [
      "[TRAIN] End of Epoch 1, Avg Loss: 1.9484, Accuracy: 86.10%\n"
     ]
    },
    {
     "name": "stderr",
     "output_type": "stream",
     "text": [
      "Testing Epochs: 100%|██████████| 1/1 [00:00<00:00,  2.45it/s]\n",
      "TOTAL Epochs:   3%|▎         | 8/240 [00:29<14:14,  3.68s/it]"
     ]
    },
    {
     "name": "stdout",
     "output_type": "stream",
     "text": [
      "[TEST] End of Epoch 0, Avg Loss: 1.9146, Accuracy: 76.49%\n"
     ]
    },
    {
     "name": "stderr",
     "output_type": "stream",
     "text": []
    },
    {
     "name": "stdout",
     "output_type": "stream",
     "text": [
      "[TRAIN] End of Epoch 0, Avg Loss: 1.8947, Accuracy: 88.20%\n"
     ]
    },
    {
     "name": "stderr",
     "output_type": "stream",
     "text": [
      "Training Epochs: 100%|██████████| 2/2 [00:03<00:00,  1.70s/it]\n"
     ]
    },
    {
     "name": "stdout",
     "output_type": "stream",
     "text": [
      "[TRAIN] End of Epoch 1, Avg Loss: 1.8511, Accuracy: 89.99%\n"
     ]
    },
    {
     "name": "stderr",
     "output_type": "stream",
     "text": [
      "Testing Epochs: 100%|██████████| 1/1 [00:00<00:00,  2.45it/s]\n",
      "TOTAL Epochs:   4%|▍         | 9/240 [00:33<14:19,  3.72s/it]"
     ]
    },
    {
     "name": "stdout",
     "output_type": "stream",
     "text": [
      "[TEST] End of Epoch 0, Avg Loss: 1.8672, Accuracy: 78.87%\n"
     ]
    },
    {
     "name": "stderr",
     "output_type": "stream",
     "text": []
    },
    {
     "name": "stdout",
     "output_type": "stream",
     "text": [
      "[TRAIN] End of Epoch 0, Avg Loss: 1.8261, Accuracy: 91.01%\n"
     ]
    },
    {
     "name": "stderr",
     "output_type": "stream",
     "text": [
      "Training Epochs: 100%|██████████| 2/2 [00:03<00:00,  1.70s/it]\n"
     ]
    },
    {
     "name": "stdout",
     "output_type": "stream",
     "text": [
      "[TRAIN] End of Epoch 1, Avg Loss: 1.7915, Accuracy: 91.71%\n"
     ]
    },
    {
     "name": "stderr",
     "output_type": "stream",
     "text": [
      "Testing Epochs: 100%|██████████| 1/1 [00:00<00:00,  2.48it/s]\n",
      "TOTAL Epochs:   4%|▍         | 10/240 [00:37<14:22,  3.75s/it]"
     ]
    },
    {
     "name": "stdout",
     "output_type": "stream",
     "text": [
      "[TEST] End of Epoch 0, Avg Loss: 1.8221, Accuracy: 82.14%\n"
     ]
    },
    {
     "name": "stderr",
     "output_type": "stream",
     "text": []
    },
    {
     "name": "stdout",
     "output_type": "stream",
     "text": [
      "[TRAIN] End of Epoch 0, Avg Loss: 1.7467, Accuracy: 93.62%\n"
     ]
    },
    {
     "name": "stderr",
     "output_type": "stream",
     "text": [
      "Training Epochs: 100%|██████████| 2/2 [00:03<00:00,  1.71s/it]\n"
     ]
    },
    {
     "name": "stdout",
     "output_type": "stream",
     "text": [
      "[TRAIN] End of Epoch 1, Avg Loss: 1.7368, Accuracy: 94.01%\n"
     ]
    },
    {
     "name": "stderr",
     "output_type": "stream",
     "text": [
      "Testing Epochs: 100%|██████████| 1/1 [00:00<00:00,  2.37it/s]\n",
      "TOTAL Epochs:   5%|▍         | 11/240 [00:41<14:25,  3.78s/it]"
     ]
    },
    {
     "name": "stdout",
     "output_type": "stream",
     "text": [
      "[TEST] End of Epoch 0, Avg Loss: 1.8049, Accuracy: 79.76%\n"
     ]
    },
    {
     "name": "stderr",
     "output_type": "stream",
     "text": []
    },
    {
     "name": "stdout",
     "output_type": "stream",
     "text": [
      "[TRAIN] End of Epoch 0, Avg Loss: 1.6965, Accuracy: 94.07%\n"
     ]
    },
    {
     "name": "stderr",
     "output_type": "stream",
     "text": [
      "Training Epochs: 100%|██████████| 2/2 [00:03<00:00,  1.68s/it]\n"
     ]
    },
    {
     "name": "stdout",
     "output_type": "stream",
     "text": [
      "[TRAIN] End of Epoch 1, Avg Loss: 1.6779, Accuracy: 95.85%\n"
     ]
    },
    {
     "name": "stderr",
     "output_type": "stream",
     "text": [
      "Testing Epochs: 100%|██████████| 1/1 [00:00<00:00,  2.46it/s]\n",
      "TOTAL Epochs:   5%|▌         | 12/240 [00:44<14:21,  3.78s/it]"
     ]
    },
    {
     "name": "stdout",
     "output_type": "stream",
     "text": [
      "[TEST] End of Epoch 0, Avg Loss: 1.8297, Accuracy: 81.10%\n"
     ]
    },
    {
     "name": "stderr",
     "output_type": "stream",
     "text": []
    },
    {
     "name": "stdout",
     "output_type": "stream",
     "text": [
      "[TRAIN] End of Epoch 0, Avg Loss: 1.6469, Accuracy: 96.49%\n"
     ]
    },
    {
     "name": "stderr",
     "output_type": "stream",
     "text": [
      "Training Epochs: 100%|██████████| 2/2 [00:02<00:00,  1.08s/it]\n"
     ]
    },
    {
     "name": "stdout",
     "output_type": "stream",
     "text": [
      "[TRAIN] End of Epoch 1, Avg Loss: 1.6084, Accuracy: 97.51%\n"
     ]
    },
    {
     "name": "stderr",
     "output_type": "stream",
     "text": [
      "Testing Epochs: 100%|██████████| 1/1 [00:00<00:00,  2.45it/s]\n",
      "TOTAL Epochs:   5%|▌         | 13/240 [00:47<12:55,  3.42s/it]"
     ]
    },
    {
     "name": "stdout",
     "output_type": "stream",
     "text": [
      "[TEST] End of Epoch 0, Avg Loss: 1.7309, Accuracy: 85.42%\n"
     ]
    },
    {
     "name": "stderr",
     "output_type": "stream",
     "text": []
    },
    {
     "name": "stdout",
     "output_type": "stream",
     "text": [
      "[TRAIN] End of Epoch 0, Avg Loss: 1.5773, Accuracy: 98.02%\n"
     ]
    },
    {
     "name": "stderr",
     "output_type": "stream",
     "text": [
      "Training Epochs: 100%|██████████| 2/2 [00:03<00:00,  1.67s/it]\n"
     ]
    },
    {
     "name": "stdout",
     "output_type": "stream",
     "text": [
      "[TRAIN] End of Epoch 1, Avg Loss: 1.5635, Accuracy: 98.79%\n"
     ]
    },
    {
     "name": "stderr",
     "output_type": "stream",
     "text": [
      "Testing Epochs: 100%|██████████| 1/1 [00:00<00:00,  2.48it/s]\n",
      "TOTAL Epochs:   6%|▌         | 14/240 [00:51<13:15,  3.52s/it]"
     ]
    },
    {
     "name": "stdout",
     "output_type": "stream",
     "text": [
      "[TEST] End of Epoch 0, Avg Loss: 1.7019, Accuracy: 84.52%\n"
     ]
    },
    {
     "name": "stderr",
     "output_type": "stream",
     "text": []
    },
    {
     "name": "stdout",
     "output_type": "stream",
     "text": [
      "[TRAIN] End of Epoch 0, Avg Loss: 1.5420, Accuracy: 99.30%\n"
     ]
    },
    {
     "name": "stderr",
     "output_type": "stream",
     "text": [
      "Training Epochs: 100%|██████████| 2/2 [00:03<00:00,  1.68s/it]\n"
     ]
    },
    {
     "name": "stdout",
     "output_type": "stream",
     "text": [
      "[TRAIN] End of Epoch 1, Avg Loss: 1.5118, Accuracy: 99.55%\n"
     ]
    },
    {
     "name": "stderr",
     "output_type": "stream",
     "text": [
      "Testing Epochs: 100%|██████████| 1/1 [00:00<00:00,  2.47it/s]\n",
      "TOTAL Epochs:   6%|▋         | 15/240 [00:54<13:29,  3.60s/it]"
     ]
    },
    {
     "name": "stdout",
     "output_type": "stream",
     "text": [
      "[TEST] End of Epoch 0, Avg Loss: 1.7015, Accuracy: 87.20%\n"
     ]
    },
    {
     "name": "stderr",
     "output_type": "stream",
     "text": []
    },
    {
     "name": "stdout",
     "output_type": "stream",
     "text": [
      "[TRAIN] End of Epoch 0, Avg Loss: 1.4900, Accuracy: 99.87%\n"
     ]
    },
    {
     "name": "stderr",
     "output_type": "stream",
     "text": [
      "Training Epochs: 100%|██████████| 2/2 [00:03<00:00,  1.71s/it]\n"
     ]
    },
    {
     "name": "stdout",
     "output_type": "stream",
     "text": [
      "[TRAIN] End of Epoch 1, Avg Loss: 1.4834, Accuracy: 99.55%\n"
     ]
    },
    {
     "name": "stderr",
     "output_type": "stream",
     "text": [
      "Testing Epochs: 100%|██████████| 1/1 [00:00<00:00,  2.41it/s]\n",
      "TOTAL Epochs:   7%|▋         | 16/240 [00:58<13:41,  3.67s/it]"
     ]
    },
    {
     "name": "stdout",
     "output_type": "stream",
     "text": [
      "[TEST] End of Epoch 0, Avg Loss: 1.6637, Accuracy: 89.29%\n"
     ]
    },
    {
     "name": "stderr",
     "output_type": "stream",
     "text": []
    },
    {
     "name": "stdout",
     "output_type": "stream",
     "text": [
      "[TRAIN] End of Epoch 0, Avg Loss: 1.4648, Accuracy: 99.81%\n"
     ]
    },
    {
     "name": "stderr",
     "output_type": "stream",
     "text": [
      "Training Epochs: 100%|██████████| 2/2 [00:03<00:00,  1.70s/it]\n"
     ]
    },
    {
     "name": "stdout",
     "output_type": "stream",
     "text": [
      "[TRAIN] End of Epoch 1, Avg Loss: 1.4449, Accuracy: 99.81%\n"
     ]
    },
    {
     "name": "stderr",
     "output_type": "stream",
     "text": [
      "Testing Epochs: 100%|██████████| 1/1 [00:00<00:00,  2.45it/s]\n",
      "TOTAL Epochs:   7%|▋         | 17/240 [01:02<13:48,  3.72s/it]"
     ]
    },
    {
     "name": "stdout",
     "output_type": "stream",
     "text": [
      "[TEST] End of Epoch 0, Avg Loss: 1.6530, Accuracy: 89.14%\n"
     ]
    },
    {
     "name": "stderr",
     "output_type": "stream",
     "text": []
    },
    {
     "name": "stdout",
     "output_type": "stream",
     "text": [
      "[TRAIN] End of Epoch 0, Avg Loss: 1.4359, Accuracy: 99.94%\n"
     ]
    },
    {
     "name": "stderr",
     "output_type": "stream",
     "text": [
      "Training Epochs: 100%|██████████| 2/2 [00:03<00:00,  1.70s/it]\n"
     ]
    },
    {
     "name": "stdout",
     "output_type": "stream",
     "text": [
      "[TRAIN] End of Epoch 1, Avg Loss: 1.4329, Accuracy: 99.87%\n"
     ]
    },
    {
     "name": "stderr",
     "output_type": "stream",
     "text": [
      "Testing Epochs: 100%|██████████| 1/1 [00:00<00:00,  2.41it/s]\n",
      "TOTAL Epochs:   8%|▊         | 18/240 [01:06<13:52,  3.75s/it]"
     ]
    },
    {
     "name": "stdout",
     "output_type": "stream",
     "text": [
      "[TEST] End of Epoch 0, Avg Loss: 1.6405, Accuracy: 89.14%\n"
     ]
    },
    {
     "name": "stderr",
     "output_type": "stream",
     "text": []
    },
    {
     "name": "stdout",
     "output_type": "stream",
     "text": [
      "[TRAIN] End of Epoch 0, Avg Loss: 1.4267, Accuracy: 100.00%\n"
     ]
    },
    {
     "name": "stderr",
     "output_type": "stream",
     "text": [
      "Training Epochs: 100%|██████████| 2/2 [00:03<00:00,  1.69s/it]\n"
     ]
    },
    {
     "name": "stdout",
     "output_type": "stream",
     "text": [
      "[TRAIN] End of Epoch 1, Avg Loss: 1.4127, Accuracy: 100.00%\n"
     ]
    },
    {
     "name": "stderr",
     "output_type": "stream",
     "text": [
      "Testing Epochs: 100%|██████████| 1/1 [00:00<00:00,  2.35it/s]\n",
      "TOTAL Epochs:   8%|▊         | 19/240 [01:10<13:53,  3.77s/it]"
     ]
    },
    {
     "name": "stdout",
     "output_type": "stream",
     "text": [
      "[TEST] End of Epoch 0, Avg Loss: 1.6400, Accuracy: 88.99%\n"
     ]
    },
    {
     "name": "stderr",
     "output_type": "stream",
     "text": []
    },
    {
     "name": "stdout",
     "output_type": "stream",
     "text": [
      "[TRAIN] End of Epoch 0, Avg Loss: 1.4078, Accuracy: 100.00%\n"
     ]
    },
    {
     "name": "stderr",
     "output_type": "stream",
     "text": [
      "Training Epochs: 100%|██████████| 2/2 [00:03<00:00,  1.70s/it]\n"
     ]
    },
    {
     "name": "stdout",
     "output_type": "stream",
     "text": [
      "[TRAIN] End of Epoch 1, Avg Loss: 1.4101, Accuracy: 100.00%\n"
     ]
    },
    {
     "name": "stderr",
     "output_type": "stream",
     "text": [
      "Testing Epochs: 100%|██████████| 1/1 [00:00<00:00,  2.36it/s]\n",
      "TOTAL Epochs:   8%|▊         | 20/240 [01:14<13:53,  3.79s/it]"
     ]
    },
    {
     "name": "stdout",
     "output_type": "stream",
     "text": [
      "[TEST] End of Epoch 0, Avg Loss: 1.6261, Accuracy: 88.84%\n"
     ]
    },
    {
     "name": "stderr",
     "output_type": "stream",
     "text": []
    },
    {
     "name": "stdout",
     "output_type": "stream",
     "text": [
      "[TRAIN] End of Epoch 0, Avg Loss: 1.7212, Accuracy: 93.05%\n"
     ]
    },
    {
     "name": "stderr",
     "output_type": "stream",
     "text": [
      "Training Epochs: 100%|██████████| 2/2 [00:03<00:00,  1.71s/it]\n"
     ]
    },
    {
     "name": "stdout",
     "output_type": "stream",
     "text": [
      "[TRAIN] End of Epoch 1, Avg Loss: 1.7075, Accuracy: 94.20%\n"
     ]
    },
    {
     "name": "stderr",
     "output_type": "stream",
     "text": [
      "Testing Epochs: 100%|██████████| 1/1 [00:00<00:00,  2.45it/s]\n",
      "TOTAL Epochs:   9%|▉         | 21/240 [01:17<13:52,  3.80s/it]"
     ]
    },
    {
     "name": "stdout",
     "output_type": "stream",
     "text": [
      "[TEST] End of Epoch 0, Avg Loss: 1.9280, Accuracy: 75.74%\n"
     ]
    },
    {
     "name": "stderr",
     "output_type": "stream",
     "text": []
    },
    {
     "name": "stdout",
     "output_type": "stream",
     "text": [
      "[TRAIN] End of Epoch 0, Avg Loss: 1.6578, Accuracy: 95.85%\n"
     ]
    },
    {
     "name": "stderr",
     "output_type": "stream",
     "text": [
      "Training Epochs: 100%|██████████| 2/2 [00:02<00:00,  1.09s/it]\n"
     ]
    },
    {
     "name": "stdout",
     "output_type": "stream",
     "text": [
      "[TRAIN] End of Epoch 1, Avg Loss: 1.6298, Accuracy: 95.85%\n"
     ]
    },
    {
     "name": "stderr",
     "output_type": "stream",
     "text": [
      "Testing Epochs: 100%|██████████| 1/1 [00:00<00:00,  2.44it/s]\n",
      "TOTAL Epochs:   9%|▉         | 22/240 [01:20<12:30,  3.44s/it]"
     ]
    },
    {
     "name": "stdout",
     "output_type": "stream",
     "text": [
      "[TEST] End of Epoch 0, Avg Loss: 1.8577, Accuracy: 77.68%\n"
     ]
    },
    {
     "name": "stderr",
     "output_type": "stream",
     "text": []
    },
    {
     "name": "stdout",
     "output_type": "stream",
     "text": [
      "[TRAIN] End of Epoch 0, Avg Loss: 1.6012, Accuracy: 97.19%\n"
     ]
    },
    {
     "name": "stderr",
     "output_type": "stream",
     "text": [
      "Training Epochs: 100%|██████████| 2/2 [00:03<00:00,  1.70s/it]\n"
     ]
    },
    {
     "name": "stdout",
     "output_type": "stream",
     "text": [
      "[TRAIN] End of Epoch 1, Avg Loss: 1.5561, Accuracy: 98.79%\n"
     ]
    },
    {
     "name": "stderr",
     "output_type": "stream",
     "text": [
      "Testing Epochs: 100%|██████████| 1/1 [00:00<00:00,  2.46it/s]\n",
      "TOTAL Epochs:  10%|▉         | 23/240 [01:24<12:51,  3.55s/it]"
     ]
    },
    {
     "name": "stdout",
     "output_type": "stream",
     "text": [
      "[TEST] End of Epoch 0, Avg Loss: 1.8037, Accuracy: 82.14%\n"
     ]
    },
    {
     "name": "stderr",
     "output_type": "stream",
     "text": []
    },
    {
     "name": "stdout",
     "output_type": "stream",
     "text": [
      "[TRAIN] End of Epoch 0, Avg Loss: 1.5617, Accuracy: 98.21%\n"
     ]
    },
    {
     "name": "stderr",
     "output_type": "stream",
     "text": [
      "Training Epochs: 100%|██████████| 2/2 [00:03<00:00,  1.72s/it]\n"
     ]
    },
    {
     "name": "stdout",
     "output_type": "stream",
     "text": [
      "[TRAIN] End of Epoch 1, Avg Loss: 1.5337, Accuracy: 98.92%\n"
     ]
    },
    {
     "name": "stderr",
     "output_type": "stream",
     "text": [
      "Testing Epochs: 100%|██████████| 1/1 [00:00<00:00,  2.38it/s]\n",
      "TOTAL Epochs:  10%|█         | 24/240 [01:28<13:08,  3.65s/it]"
     ]
    },
    {
     "name": "stdout",
     "output_type": "stream",
     "text": [
      "[TEST] End of Epoch 0, Avg Loss: 1.7240, Accuracy: 83.93%\n"
     ]
    },
    {
     "name": "stderr",
     "output_type": "stream",
     "text": []
    },
    {
     "name": "stdout",
     "output_type": "stream",
     "text": [
      "[TRAIN] End of Epoch 0, Avg Loss: 1.5313, Accuracy: 98.28%\n"
     ]
    },
    {
     "name": "stderr",
     "output_type": "stream",
     "text": [
      "Training Epochs: 100%|██████████| 2/2 [00:03<00:00,  1.74s/it]\n"
     ]
    },
    {
     "name": "stdout",
     "output_type": "stream",
     "text": [
      "[TRAIN] End of Epoch 1, Avg Loss: 1.5049, Accuracy: 99.11%\n"
     ]
    },
    {
     "name": "stderr",
     "output_type": "stream",
     "text": [
      "Testing Epochs: 100%|██████████| 1/1 [00:00<00:00,  2.37it/s]\n",
      "TOTAL Epochs:  10%|█         | 25/240 [01:32<13:21,  3.73s/it]"
     ]
    },
    {
     "name": "stdout",
     "output_type": "stream",
     "text": [
      "[TEST] End of Epoch 0, Avg Loss: 1.7055, Accuracy: 86.01%\n"
     ]
    },
    {
     "name": "stderr",
     "output_type": "stream",
     "text": []
    },
    {
     "name": "stdout",
     "output_type": "stream",
     "text": [
      "[TRAIN] End of Epoch 0, Avg Loss: 1.4942, Accuracy: 99.43%\n"
     ]
    },
    {
     "name": "stderr",
     "output_type": "stream",
     "text": [
      "Training Epochs: 100%|██████████| 2/2 [00:03<00:00,  1.80s/it]\n"
     ]
    },
    {
     "name": "stdout",
     "output_type": "stream",
     "text": [
      "[TRAIN] End of Epoch 1, Avg Loss: 1.4831, Accuracy: 99.55%\n"
     ]
    },
    {
     "name": "stderr",
     "output_type": "stream",
     "text": [
      "Testing Epochs: 100%|██████████| 1/1 [00:00<00:00,  2.44it/s]\n",
      "TOTAL Epochs:  11%|█         | 26/240 [01:36<13:36,  3.82s/it]"
     ]
    },
    {
     "name": "stdout",
     "output_type": "stream",
     "text": [
      "[TEST] End of Epoch 0, Avg Loss: 1.7540, Accuracy: 84.08%\n"
     ]
    },
    {
     "name": "stderr",
     "output_type": "stream",
     "text": []
    },
    {
     "name": "stdout",
     "output_type": "stream",
     "text": [
      "[TRAIN] End of Epoch 0, Avg Loss: 1.4746, Accuracy: 99.74%\n"
     ]
    },
    {
     "name": "stderr",
     "output_type": "stream",
     "text": [
      "Training Epochs: 100%|██████████| 2/2 [00:03<00:00,  1.74s/it]\n"
     ]
    },
    {
     "name": "stdout",
     "output_type": "stream",
     "text": [
      "[TRAIN] End of Epoch 1, Avg Loss: 1.4650, Accuracy: 99.81%\n"
     ]
    },
    {
     "name": "stderr",
     "output_type": "stream",
     "text": [
      "Testing Epochs: 100%|██████████| 1/1 [00:00<00:00,  2.20it/s]\n",
      "TOTAL Epochs:  11%|█▏        | 27/240 [01:40<13:40,  3.85s/it]"
     ]
    },
    {
     "name": "stdout",
     "output_type": "stream",
     "text": [
      "[TEST] End of Epoch 0, Avg Loss: 1.7359, Accuracy: 84.08%\n"
     ]
    },
    {
     "name": "stderr",
     "output_type": "stream",
     "text": []
    },
    {
     "name": "stdout",
     "output_type": "stream",
     "text": [
      "[TRAIN] End of Epoch 0, Avg Loss: 1.4500, Accuracy: 99.68%\n"
     ]
    },
    {
     "name": "stderr",
     "output_type": "stream",
     "text": [
      "Training Epochs: 100%|██████████| 2/2 [00:03<00:00,  1.84s/it]\n"
     ]
    },
    {
     "name": "stdout",
     "output_type": "stream",
     "text": [
      "[TRAIN] End of Epoch 1, Avg Loss: 1.4509, Accuracy: 99.43%\n"
     ]
    },
    {
     "name": "stderr",
     "output_type": "stream",
     "text": [
      "Testing Epochs: 100%|██████████| 1/1 [00:00<00:00,  2.40it/s]\n",
      "TOTAL Epochs:  12%|█▏        | 28/240 [01:44<13:52,  3.93s/it]"
     ]
    },
    {
     "name": "stdout",
     "output_type": "stream",
     "text": [
      "[TEST] End of Epoch 0, Avg Loss: 1.6884, Accuracy: 86.46%\n"
     ]
    },
    {
     "name": "stderr",
     "output_type": "stream",
     "text": []
    },
    {
     "name": "stdout",
     "output_type": "stream",
     "text": [
      "[TRAIN] End of Epoch 0, Avg Loss: 1.4528, Accuracy: 99.87%\n"
     ]
    },
    {
     "name": "stderr",
     "output_type": "stream",
     "text": [
      "Training Epochs: 100%|██████████| 2/2 [00:03<00:00,  1.74s/it]\n"
     ]
    },
    {
     "name": "stdout",
     "output_type": "stream",
     "text": [
      "[TRAIN] End of Epoch 1, Avg Loss: 1.4389, Accuracy: 99.87%\n"
     ]
    },
    {
     "name": "stderr",
     "output_type": "stream",
     "text": [
      "Testing Epochs: 100%|██████████| 1/1 [00:00<00:00,  2.04it/s]\n",
      "TOTAL Epochs:  12%|█▏        | 29/240 [01:48<13:52,  3.94s/it]"
     ]
    },
    {
     "name": "stdout",
     "output_type": "stream",
     "text": [
      "[TEST] End of Epoch 0, Avg Loss: 1.7116, Accuracy: 86.90%\n"
     ]
    },
    {
     "name": "stderr",
     "output_type": "stream",
     "text": []
    },
    {
     "name": "stdout",
     "output_type": "stream",
     "text": [
      "[TRAIN] End of Epoch 0, Avg Loss: 1.4262, Accuracy: 99.87%\n"
     ]
    },
    {
     "name": "stderr",
     "output_type": "stream",
     "text": [
      "Training Epochs: 100%|██████████| 2/2 [00:02<00:00,  1.21s/it]\n"
     ]
    },
    {
     "name": "stdout",
     "output_type": "stream",
     "text": [
      "[TRAIN] End of Epoch 1, Avg Loss: 1.4352, Accuracy: 99.81%\n"
     ]
    },
    {
     "name": "stderr",
     "output_type": "stream",
     "text": [
      "Testing Epochs: 100%|██████████| 1/1 [00:00<00:00,  2.41it/s]\n",
      "TOTAL Epochs:  12%|█▎        | 30/240 [01:51<12:38,  3.61s/it]"
     ]
    },
    {
     "name": "stdout",
     "output_type": "stream",
     "text": [
      "[TEST] End of Epoch 0, Avg Loss: 1.6654, Accuracy: 87.50%\n"
     ]
    },
    {
     "name": "stderr",
     "output_type": "stream",
     "text": []
    },
    {
     "name": "stdout",
     "output_type": "stream",
     "text": [
      "[TRAIN] End of Epoch 0, Avg Loss: 1.4271, Accuracy: 99.87%\n"
     ]
    },
    {
     "name": "stderr",
     "output_type": "stream",
     "text": [
      "Training Epochs: 100%|██████████| 2/2 [00:03<00:00,  1.70s/it]\n"
     ]
    },
    {
     "name": "stdout",
     "output_type": "stream",
     "text": [
      "[TRAIN] End of Epoch 1, Avg Loss: 1.4042, Accuracy: 100.00%\n"
     ]
    },
    {
     "name": "stderr",
     "output_type": "stream",
     "text": [
      "Testing Epochs: 100%|██████████| 1/1 [00:00<00:00,  2.44it/s]\n",
      "TOTAL Epochs:  13%|█▎        | 31/240 [01:54<12:48,  3.68s/it]"
     ]
    },
    {
     "name": "stdout",
     "output_type": "stream",
     "text": [
      "[TEST] End of Epoch 0, Avg Loss: 1.6818, Accuracy: 87.05%\n"
     ]
    },
    {
     "name": "stderr",
     "output_type": "stream",
     "text": []
    },
    {
     "name": "stdout",
     "output_type": "stream",
     "text": [
      "[TRAIN] End of Epoch 0, Avg Loss: 1.3865, Accuracy: 99.94%\n"
     ]
    },
    {
     "name": "stderr",
     "output_type": "stream",
     "text": [
      "Training Epochs: 100%|██████████| 2/2 [00:03<00:00,  1.71s/it]\n"
     ]
    },
    {
     "name": "stdout",
     "output_type": "stream",
     "text": [
      "[TRAIN] End of Epoch 1, Avg Loss: 1.4095, Accuracy: 99.87%\n"
     ]
    },
    {
     "name": "stderr",
     "output_type": "stream",
     "text": [
      "Testing Epochs: 100%|██████████| 1/1 [00:00<00:00,  2.43it/s]\n",
      "TOTAL Epochs:  13%|█▎        | 32/240 [01:58<12:55,  3.73s/it]"
     ]
    },
    {
     "name": "stdout",
     "output_type": "stream",
     "text": [
      "[TEST] End of Epoch 0, Avg Loss: 1.7352, Accuracy: 83.33%\n"
     ]
    },
    {
     "name": "stderr",
     "output_type": "stream",
     "text": []
    },
    {
     "name": "stdout",
     "output_type": "stream",
     "text": [
      "[TRAIN] End of Epoch 0, Avg Loss: 1.3890, Accuracy: 99.94%\n"
     ]
    },
    {
     "name": "stderr",
     "output_type": "stream",
     "text": [
      "Training Epochs: 100%|██████████| 2/2 [00:03<00:00,  1.70s/it]\n"
     ]
    },
    {
     "name": "stdout",
     "output_type": "stream",
     "text": [
      "[TRAIN] End of Epoch 1, Avg Loss: 1.3753, Accuracy: 99.94%\n"
     ]
    },
    {
     "name": "stderr",
     "output_type": "stream",
     "text": [
      "Testing Epochs: 100%|██████████| 1/1 [00:00<00:00,  2.36it/s]\n",
      "TOTAL Epochs:  14%|█▍        | 33/240 [02:02<12:58,  3.76s/it]"
     ]
    },
    {
     "name": "stdout",
     "output_type": "stream",
     "text": [
      "[TEST] End of Epoch 0, Avg Loss: 1.6405, Accuracy: 87.80%\n"
     ]
    },
    {
     "name": "stderr",
     "output_type": "stream",
     "text": []
    },
    {
     "name": "stdout",
     "output_type": "stream",
     "text": [
      "[TRAIN] End of Epoch 0, Avg Loss: 1.3864, Accuracy: 100.00%\n"
     ]
    },
    {
     "name": "stderr",
     "output_type": "stream",
     "text": [
      "Training Epochs: 100%|██████████| 2/2 [00:03<00:00,  1.71s/it]\n"
     ]
    },
    {
     "name": "stdout",
     "output_type": "stream",
     "text": [
      "[TRAIN] End of Epoch 1, Avg Loss: 1.3846, Accuracy: 99.94%\n"
     ]
    },
    {
     "name": "stderr",
     "output_type": "stream",
     "text": [
      "Testing Epochs: 100%|██████████| 1/1 [00:00<00:00,  2.43it/s]\n",
      "TOTAL Epochs:  14%|█▍        | 34/240 [02:06<12:59,  3.78s/it]"
     ]
    },
    {
     "name": "stdout",
     "output_type": "stream",
     "text": [
      "[TEST] End of Epoch 0, Avg Loss: 1.6549, Accuracy: 88.69%\n"
     ]
    },
    {
     "name": "stderr",
     "output_type": "stream",
     "text": []
    },
    {
     "name": "stdout",
     "output_type": "stream",
     "text": [
      "[TRAIN] End of Epoch 0, Avg Loss: 1.3888, Accuracy: 99.87%\n"
     ]
    },
    {
     "name": "stderr",
     "output_type": "stream",
     "text": [
      "Training Epochs: 100%|██████████| 2/2 [00:03<00:00,  1.71s/it]\n"
     ]
    },
    {
     "name": "stdout",
     "output_type": "stream",
     "text": [
      "[TRAIN] End of Epoch 1, Avg Loss: 1.3733, Accuracy: 100.00%\n"
     ]
    },
    {
     "name": "stderr",
     "output_type": "stream",
     "text": [
      "Testing Epochs: 100%|██████████| 1/1 [00:00<00:00,  2.41it/s]\n",
      "TOTAL Epochs:  15%|█▍        | 35/240 [02:10<12:59,  3.80s/it]"
     ]
    },
    {
     "name": "stdout",
     "output_type": "stream",
     "text": [
      "[TEST] End of Epoch 0, Avg Loss: 1.6493, Accuracy: 87.95%\n"
     ]
    },
    {
     "name": "stderr",
     "output_type": "stream",
     "text": []
    },
    {
     "name": "stdout",
     "output_type": "stream",
     "text": [
      "[TRAIN] End of Epoch 0, Avg Loss: 1.3584, Accuracy: 100.00%\n"
     ]
    },
    {
     "name": "stderr",
     "output_type": "stream",
     "text": [
      "Training Epochs: 100%|██████████| 2/2 [00:03<00:00,  1.70s/it]\n"
     ]
    },
    {
     "name": "stdout",
     "output_type": "stream",
     "text": [
      "[TRAIN] End of Epoch 1, Avg Loss: 1.3608, Accuracy: 100.00%\n"
     ]
    },
    {
     "name": "stderr",
     "output_type": "stream",
     "text": [
      "Testing Epochs: 100%|██████████| 1/1 [00:00<00:00,  2.21it/s]\n",
      "TOTAL Epochs:  15%|█▌        | 36/240 [02:14<12:59,  3.82s/it]"
     ]
    },
    {
     "name": "stdout",
     "output_type": "stream",
     "text": [
      "[TEST] End of Epoch 0, Avg Loss: 1.7038, Accuracy: 86.61%\n"
     ]
    },
    {
     "name": "stderr",
     "output_type": "stream",
     "text": []
    },
    {
     "name": "stdout",
     "output_type": "stream",
     "text": [
      "[TRAIN] End of Epoch 0, Avg Loss: 1.3678, Accuracy: 100.00%\n"
     ]
    },
    {
     "name": "stderr",
     "output_type": "stream",
     "text": [
      "Training Epochs: 100%|██████████| 2/2 [00:03<00:00,  1.73s/it]\n"
     ]
    },
    {
     "name": "stdout",
     "output_type": "stream",
     "text": [
      "[TRAIN] End of Epoch 1, Avg Loss: 1.3667, Accuracy: 99.94%\n"
     ]
    },
    {
     "name": "stderr",
     "output_type": "stream",
     "text": [
      "Testing Epochs: 100%|██████████| 1/1 [00:00<00:00,  2.31it/s]\n",
      "TOTAL Epochs:  15%|█▌        | 37/240 [02:17<13:00,  3.85s/it]"
     ]
    },
    {
     "name": "stdout",
     "output_type": "stream",
     "text": [
      "[TEST] End of Epoch 0, Avg Loss: 1.6553, Accuracy: 88.54%\n"
     ]
    },
    {
     "name": "stderr",
     "output_type": "stream",
     "text": []
    },
    {
     "name": "stdout",
     "output_type": "stream",
     "text": [
      "[TRAIN] End of Epoch 0, Avg Loss: 1.3606, Accuracy: 100.00%\n"
     ]
    },
    {
     "name": "stderr",
     "output_type": "stream",
     "text": [
      "Training Epochs: 100%|██████████| 2/2 [00:02<00:00,  1.09s/it]\n"
     ]
    },
    {
     "name": "stdout",
     "output_type": "stream",
     "text": [
      "[TRAIN] End of Epoch 1, Avg Loss: 1.3594, Accuracy: 100.00%\n"
     ]
    },
    {
     "name": "stderr",
     "output_type": "stream",
     "text": [
      "Testing Epochs: 100%|██████████| 1/1 [00:00<00:00,  2.42it/s]\n",
      "TOTAL Epochs:  16%|█▌        | 38/240 [02:20<11:42,  3.48s/it]"
     ]
    },
    {
     "name": "stdout",
     "output_type": "stream",
     "text": [
      "[TEST] End of Epoch 0, Avg Loss: 1.6647, Accuracy: 87.50%\n"
     ]
    },
    {
     "name": "stderr",
     "output_type": "stream",
     "text": []
    },
    {
     "name": "stdout",
     "output_type": "stream",
     "text": [
      "[TRAIN] End of Epoch 0, Avg Loss: 1.3439, Accuracy: 100.00%\n"
     ]
    },
    {
     "name": "stderr",
     "output_type": "stream",
     "text": [
      "Training Epochs: 100%|██████████| 2/2 [00:03<00:00,  1.73s/it]\n"
     ]
    },
    {
     "name": "stdout",
     "output_type": "stream",
     "text": [
      "[TRAIN] End of Epoch 1, Avg Loss: 1.3439, Accuracy: 100.00%\n"
     ]
    },
    {
     "name": "stderr",
     "output_type": "stream",
     "text": [
      "Testing Epochs: 100%|██████████| 1/1 [00:00<00:00,  2.41it/s]\n",
      "TOTAL Epochs:  16%|█▋        | 39/240 [02:24<12:02,  3.60s/it]"
     ]
    },
    {
     "name": "stdout",
     "output_type": "stream",
     "text": [
      "[TEST] End of Epoch 0, Avg Loss: 1.6364, Accuracy: 89.73%\n"
     ]
    },
    {
     "name": "stderr",
     "output_type": "stream",
     "text": []
    },
    {
     "name": "stdout",
     "output_type": "stream",
     "text": [
      "[TRAIN] End of Epoch 0, Avg Loss: 1.3293, Accuracy: 100.00%\n"
     ]
    },
    {
     "name": "stderr",
     "output_type": "stream",
     "text": [
      "Training Epochs: 100%|██████████| 2/2 [00:03<00:00,  1.70s/it]\n"
     ]
    },
    {
     "name": "stdout",
     "output_type": "stream",
     "text": [
      "[TRAIN] End of Epoch 1, Avg Loss: 1.3363, Accuracy: 100.00%\n"
     ]
    },
    {
     "name": "stderr",
     "output_type": "stream",
     "text": [
      "Testing Epochs: 100%|██████████| 1/1 [00:00<00:00,  2.37it/s]\n",
      "TOTAL Epochs:  17%|█▋        | 40/240 [02:28<12:12,  3.66s/it]"
     ]
    },
    {
     "name": "stdout",
     "output_type": "stream",
     "text": [
      "[TEST] End of Epoch 0, Avg Loss: 1.6308, Accuracy: 89.58%\n"
     ]
    },
    {
     "name": "stderr",
     "output_type": "stream",
     "text": []
    },
    {
     "name": "stdout",
     "output_type": "stream",
     "text": [
      "[TRAIN] End of Epoch 0, Avg Loss: 1.3356, Accuracy: 100.00%\n"
     ]
    },
    {
     "name": "stderr",
     "output_type": "stream",
     "text": [
      "Training Epochs: 100%|██████████| 2/2 [00:03<00:00,  1.70s/it]\n"
     ]
    },
    {
     "name": "stdout",
     "output_type": "stream",
     "text": [
      "[TRAIN] End of Epoch 1, Avg Loss: 1.3308, Accuracy: 100.00%\n"
     ]
    },
    {
     "name": "stderr",
     "output_type": "stream",
     "text": [
      "Testing Epochs: 100%|██████████| 1/1 [00:00<00:00,  2.32it/s]\n",
      "TOTAL Epochs:  17%|█▋        | 41/240 [02:32<12:19,  3.72s/it]"
     ]
    },
    {
     "name": "stdout",
     "output_type": "stream",
     "text": [
      "[TEST] End of Epoch 0, Avg Loss: 1.6256, Accuracy: 88.24%\n"
     ]
    },
    {
     "name": "stderr",
     "output_type": "stream",
     "text": []
    },
    {
     "name": "stdout",
     "output_type": "stream",
     "text": [
      "[TRAIN] End of Epoch 0, Avg Loss: 1.3262, Accuracy: 100.00%\n"
     ]
    },
    {
     "name": "stderr",
     "output_type": "stream",
     "text": [
      "Training Epochs: 100%|██████████| 2/2 [00:03<00:00,  1.71s/it]\n"
     ]
    },
    {
     "name": "stdout",
     "output_type": "stream",
     "text": [
      "[TRAIN] End of Epoch 1, Avg Loss: 1.3335, Accuracy: 100.00%\n"
     ]
    },
    {
     "name": "stderr",
     "output_type": "stream",
     "text": [
      "Testing Epochs: 100%|██████████| 1/1 [00:00<00:00,  2.37it/s]\n",
      "TOTAL Epochs:  18%|█▊        | 42/240 [02:35<12:24,  3.76s/it]"
     ]
    },
    {
     "name": "stdout",
     "output_type": "stream",
     "text": [
      "[TEST] End of Epoch 0, Avg Loss: 1.6355, Accuracy: 90.33%\n"
     ]
    },
    {
     "name": "stderr",
     "output_type": "stream",
     "text": []
    },
    {
     "name": "stdout",
     "output_type": "stream",
     "text": [
      "[TRAIN] End of Epoch 0, Avg Loss: 1.3280, Accuracy: 100.00%\n"
     ]
    },
    {
     "name": "stderr",
     "output_type": "stream",
     "text": [
      "Training Epochs: 100%|██████████| 2/2 [00:03<00:00,  1.71s/it]\n"
     ]
    },
    {
     "name": "stdout",
     "output_type": "stream",
     "text": [
      "[TRAIN] End of Epoch 1, Avg Loss: 1.3222, Accuracy: 100.00%\n"
     ]
    },
    {
     "name": "stderr",
     "output_type": "stream",
     "text": [
      "Testing Epochs: 100%|██████████| 1/1 [00:00<00:00,  2.20it/s]\n",
      "TOTAL Epochs:  18%|█▊        | 43/240 [02:39<12:28,  3.80s/it]"
     ]
    },
    {
     "name": "stdout",
     "output_type": "stream",
     "text": [
      "[TEST] End of Epoch 0, Avg Loss: 1.6415, Accuracy: 88.84%\n"
     ]
    },
    {
     "name": "stderr",
     "output_type": "stream",
     "text": []
    },
    {
     "name": "stdout",
     "output_type": "stream",
     "text": [
      "[TRAIN] End of Epoch 0, Avg Loss: 1.3158, Accuracy: 100.00%\n"
     ]
    },
    {
     "name": "stderr",
     "output_type": "stream",
     "text": [
      "Training Epochs: 100%|██████████| 2/2 [00:03<00:00,  1.71s/it]\n"
     ]
    },
    {
     "name": "stdout",
     "output_type": "stream",
     "text": [
      "[TRAIN] End of Epoch 1, Avg Loss: 1.3110, Accuracy: 100.00%\n"
     ]
    },
    {
     "name": "stderr",
     "output_type": "stream",
     "text": [
      "Testing Epochs: 100%|██████████| 1/1 [00:00<00:00,  2.41it/s]\n",
      "TOTAL Epochs:  18%|█▊        | 44/240 [02:43<12:26,  3.81s/it]"
     ]
    },
    {
     "name": "stdout",
     "output_type": "stream",
     "text": [
      "[TEST] End of Epoch 0, Avg Loss: 1.6415, Accuracy: 88.69%\n"
     ]
    },
    {
     "name": "stderr",
     "output_type": "stream",
     "text": []
    },
    {
     "name": "stdout",
     "output_type": "stream",
     "text": [
      "[TRAIN] End of Epoch 0, Avg Loss: 1.3187, Accuracy: 100.00%\n"
     ]
    },
    {
     "name": "stderr",
     "output_type": "stream",
     "text": [
      "Training Epochs: 100%|██████████| 2/2 [00:03<00:00,  1.71s/it]\n"
     ]
    },
    {
     "name": "stdout",
     "output_type": "stream",
     "text": [
      "[TRAIN] End of Epoch 1, Avg Loss: 1.3091, Accuracy: 100.00%\n"
     ]
    },
    {
     "name": "stderr",
     "output_type": "stream",
     "text": [
      "Testing Epochs: 100%|██████████| 1/1 [00:00<00:00,  2.20it/s]\n",
      "TOTAL Epochs:  19%|█▉        | 45/240 [02:47<12:27,  3.83s/it]"
     ]
    },
    {
     "name": "stdout",
     "output_type": "stream",
     "text": [
      "[TEST] End of Epoch 0, Avg Loss: 1.6412, Accuracy: 89.58%\n"
     ]
    },
    {
     "name": "stderr",
     "output_type": "stream",
     "text": []
    },
    {
     "name": "stdout",
     "output_type": "stream",
     "text": [
      "[TRAIN] End of Epoch 0, Avg Loss: 1.3102, Accuracy: 100.00%\n"
     ]
    },
    {
     "name": "stderr",
     "output_type": "stream",
     "text": [
      "Training Epochs: 100%|██████████| 2/2 [00:03<00:00,  1.74s/it]\n"
     ]
    },
    {
     "name": "stdout",
     "output_type": "stream",
     "text": [
      "[TRAIN] End of Epoch 1, Avg Loss: 1.3142, Accuracy: 100.00%\n"
     ]
    },
    {
     "name": "stderr",
     "output_type": "stream",
     "text": [
      "Testing Epochs: 100%|██████████| 1/1 [00:00<00:00,  2.42it/s]\n",
      "TOTAL Epochs:  19%|█▉        | 46/240 [02:51<12:27,  3.86s/it]"
     ]
    },
    {
     "name": "stdout",
     "output_type": "stream",
     "text": [
      "[TEST] End of Epoch 0, Avg Loss: 1.6191, Accuracy: 90.33%\n"
     ]
    },
    {
     "name": "stderr",
     "output_type": "stream",
     "text": []
    },
    {
     "name": "stdout",
     "output_type": "stream",
     "text": [
      "[TRAIN] End of Epoch 0, Avg Loss: 1.3110, Accuracy: 100.00%\n"
     ]
    },
    {
     "name": "stderr",
     "output_type": "stream",
     "text": [
      "Training Epochs: 100%|██████████| 2/2 [00:02<00:00,  1.08s/it]\n"
     ]
    },
    {
     "name": "stdout",
     "output_type": "stream",
     "text": [
      "[TRAIN] End of Epoch 1, Avg Loss: 1.3151, Accuracy: 100.00%\n"
     ]
    },
    {
     "name": "stderr",
     "output_type": "stream",
     "text": [
      "Testing Epochs: 100%|██████████| 1/1 [00:00<00:00,  2.44it/s]\n",
      "TOTAL Epochs:  20%|█▉        | 47/240 [02:54<11:10,  3.47s/it]"
     ]
    },
    {
     "name": "stdout",
     "output_type": "stream",
     "text": [
      "[TEST] End of Epoch 0, Avg Loss: 1.6130, Accuracy: 89.73%\n"
     ]
    },
    {
     "name": "stderr",
     "output_type": "stream",
     "text": []
    },
    {
     "name": "stdout",
     "output_type": "stream",
     "text": [
      "[TRAIN] End of Epoch 0, Avg Loss: 1.3037, Accuracy: 100.00%\n"
     ]
    },
    {
     "name": "stderr",
     "output_type": "stream",
     "text": [
      "Training Epochs: 100%|██████████| 2/2 [00:03<00:00,  1.70s/it]\n"
     ]
    },
    {
     "name": "stdout",
     "output_type": "stream",
     "text": [
      "[TRAIN] End of Epoch 1, Avg Loss: 1.3010, Accuracy: 100.00%\n"
     ]
    },
    {
     "name": "stderr",
     "output_type": "stream",
     "text": [
      "Testing Epochs: 100%|██████████| 1/1 [00:00<00:00,  2.41it/s]\n",
      "TOTAL Epochs:  20%|██        | 48/240 [02:57<11:27,  3.58s/it]"
     ]
    },
    {
     "name": "stdout",
     "output_type": "stream",
     "text": [
      "[TEST] End of Epoch 0, Avg Loss: 1.6225, Accuracy: 90.18%\n"
     ]
    },
    {
     "name": "stderr",
     "output_type": "stream",
     "text": []
    },
    {
     "name": "stdout",
     "output_type": "stream",
     "text": [
      "[TRAIN] End of Epoch 0, Avg Loss: 1.2994, Accuracy: 100.00%\n"
     ]
    },
    {
     "name": "stderr",
     "output_type": "stream",
     "text": [
      "Training Epochs: 100%|██████████| 2/2 [00:03<00:00,  1.71s/it]\n"
     ]
    },
    {
     "name": "stdout",
     "output_type": "stream",
     "text": [
      "[TRAIN] End of Epoch 1, Avg Loss: 1.2969, Accuracy: 100.00%\n"
     ]
    },
    {
     "name": "stderr",
     "output_type": "stream",
     "text": [
      "Testing Epochs: 100%|██████████| 1/1 [00:00<00:00,  2.24it/s]\n",
      "TOTAL Epochs:  20%|██        | 49/240 [03:01<11:40,  3.67s/it]"
     ]
    },
    {
     "name": "stdout",
     "output_type": "stream",
     "text": [
      "[TEST] End of Epoch 0, Avg Loss: 1.6220, Accuracy: 90.03%\n"
     ]
    },
    {
     "name": "stderr",
     "output_type": "stream",
     "text": []
    },
    {
     "name": "stdout",
     "output_type": "stream",
     "text": [
      "[TRAIN] End of Epoch 0, Avg Loss: 1.2948, Accuracy: 100.00%\n"
     ]
    },
    {
     "name": "stderr",
     "output_type": "stream",
     "text": [
      "Training Epochs: 100%|██████████| 2/2 [00:03<00:00,  1.71s/it]\n"
     ]
    },
    {
     "name": "stdout",
     "output_type": "stream",
     "text": [
      "[TRAIN] End of Epoch 1, Avg Loss: 1.2944, Accuracy: 100.00%\n"
     ]
    },
    {
     "name": "stderr",
     "output_type": "stream",
     "text": [
      "Testing Epochs: 100%|██████████| 1/1 [00:00<00:00,  2.44it/s]\n",
      "TOTAL Epochs:  21%|██        | 50/240 [03:05<11:46,  3.72s/it]"
     ]
    },
    {
     "name": "stdout",
     "output_type": "stream",
     "text": [
      "[TEST] End of Epoch 0, Avg Loss: 1.6197, Accuracy: 90.92%\n"
     ]
    },
    {
     "name": "stderr",
     "output_type": "stream",
     "text": []
    },
    {
     "name": "stdout",
     "output_type": "stream",
     "text": [
      "[TRAIN] End of Epoch 0, Avg Loss: 1.2932, Accuracy: 100.00%\n"
     ]
    },
    {
     "name": "stderr",
     "output_type": "stream",
     "text": [
      "Training Epochs: 100%|██████████| 2/2 [00:03<00:00,  1.71s/it]\n"
     ]
    },
    {
     "name": "stdout",
     "output_type": "stream",
     "text": [
      "[TRAIN] End of Epoch 1, Avg Loss: 1.2913, Accuracy: 100.00%\n"
     ]
    },
    {
     "name": "stderr",
     "output_type": "stream",
     "text": [
      "Testing Epochs: 100%|██████████| 1/1 [00:00<00:00,  2.46it/s]\n",
      "TOTAL Epochs:  21%|██▏       | 51/240 [03:09<11:49,  3.75s/it]"
     ]
    },
    {
     "name": "stdout",
     "output_type": "stream",
     "text": [
      "[TEST] End of Epoch 0, Avg Loss: 1.6320, Accuracy: 90.33%\n"
     ]
    },
    {
     "name": "stderr",
     "output_type": "stream",
     "text": []
    },
    {
     "name": "stdout",
     "output_type": "stream",
     "text": [
      "[TRAIN] End of Epoch 0, Avg Loss: 1.2911, Accuracy: 100.00%\n"
     ]
    },
    {
     "name": "stderr",
     "output_type": "stream",
     "text": [
      "Training Epochs: 100%|██████████| 2/2 [00:03<00:00,  1.70s/it]\n"
     ]
    },
    {
     "name": "stdout",
     "output_type": "stream",
     "text": [
      "[TRAIN] End of Epoch 1, Avg Loss: 1.2938, Accuracy: 100.00%\n"
     ]
    },
    {
     "name": "stderr",
     "output_type": "stream",
     "text": [
      "Testing Epochs: 100%|██████████| 1/1 [00:00<00:00,  2.39it/s]\n",
      "TOTAL Epochs:  22%|██▏       | 52/240 [03:13<11:49,  3.78s/it]"
     ]
    },
    {
     "name": "stdout",
     "output_type": "stream",
     "text": [
      "[TEST] End of Epoch 0, Avg Loss: 1.6166, Accuracy: 91.07%\n"
     ]
    },
    {
     "name": "stderr",
     "output_type": "stream",
     "text": []
    },
    {
     "name": "stdout",
     "output_type": "stream",
     "text": [
      "[TRAIN] End of Epoch 0, Avg Loss: 1.2909, Accuracy: 100.00%\n"
     ]
    },
    {
     "name": "stderr",
     "output_type": "stream",
     "text": [
      "Training Epochs: 100%|██████████| 2/2 [00:03<00:00,  1.70s/it]\n"
     ]
    },
    {
     "name": "stdout",
     "output_type": "stream",
     "text": [
      "[TRAIN] End of Epoch 1, Avg Loss: 1.2866, Accuracy: 100.00%\n"
     ]
    },
    {
     "name": "stderr",
     "output_type": "stream",
     "text": [
      "Testing Epochs: 100%|██████████| 1/1 [00:00<00:00,  2.37it/s]\n",
      "TOTAL Epochs:  22%|██▏       | 53/240 [03:17<11:49,  3.79s/it]"
     ]
    },
    {
     "name": "stdout",
     "output_type": "stream",
     "text": [
      "[TEST] End of Epoch 0, Avg Loss: 1.6188, Accuracy: 90.33%\n"
     ]
    },
    {
     "name": "stderr",
     "output_type": "stream",
     "text": []
    },
    {
     "name": "stdout",
     "output_type": "stream",
     "text": [
      "[TRAIN] End of Epoch 0, Avg Loss: 1.2836, Accuracy: 100.00%\n"
     ]
    },
    {
     "name": "stderr",
     "output_type": "stream",
     "text": [
      "Training Epochs: 100%|██████████| 2/2 [00:03<00:00,  1.70s/it]\n"
     ]
    },
    {
     "name": "stdout",
     "output_type": "stream",
     "text": [
      "[TRAIN] End of Epoch 1, Avg Loss: 1.2846, Accuracy: 100.00%\n"
     ]
    },
    {
     "name": "stderr",
     "output_type": "stream",
     "text": [
      "Testing Epochs: 100%|██████████| 1/1 [00:00<00:00,  2.43it/s]\n",
      "TOTAL Epochs:  22%|██▎       | 54/240 [03:20<11:47,  3.80s/it]"
     ]
    },
    {
     "name": "stdout",
     "output_type": "stream",
     "text": [
      "[TEST] End of Epoch 0, Avg Loss: 1.6307, Accuracy: 90.33%\n"
     ]
    },
    {
     "name": "stderr",
     "output_type": "stream",
     "text": []
    },
    {
     "name": "stdout",
     "output_type": "stream",
     "text": [
      "[TRAIN] End of Epoch 0, Avg Loss: 1.2844, Accuracy: 100.00%\n"
     ]
    },
    {
     "name": "stderr",
     "output_type": "stream",
     "text": [
      "Training Epochs: 100%|██████████| 2/2 [00:02<00:00,  1.07s/it]\n"
     ]
    },
    {
     "name": "stdout",
     "output_type": "stream",
     "text": [
      "[TRAIN] End of Epoch 1, Avg Loss: 1.2824, Accuracy: 100.00%\n"
     ]
    },
    {
     "name": "stderr",
     "output_type": "stream",
     "text": [
      "Testing Epochs: 100%|██████████| 1/1 [00:00<00:00,  2.42it/s]\n",
      "TOTAL Epochs:  23%|██▎       | 55/240 [03:23<10:35,  3.43s/it]"
     ]
    },
    {
     "name": "stdout",
     "output_type": "stream",
     "text": [
      "[TEST] End of Epoch 0, Avg Loss: 1.6329, Accuracy: 91.07%\n"
     ]
    },
    {
     "name": "stderr",
     "output_type": "stream",
     "text": []
    },
    {
     "name": "stdout",
     "output_type": "stream",
     "text": [
      "[TRAIN] End of Epoch 0, Avg Loss: 1.2814, Accuracy: 100.00%\n"
     ]
    },
    {
     "name": "stderr",
     "output_type": "stream",
     "text": [
      "Training Epochs: 100%|██████████| 2/2 [00:03<00:00,  1.71s/it]\n"
     ]
    },
    {
     "name": "stdout",
     "output_type": "stream",
     "text": [
      "[TRAIN] End of Epoch 1, Avg Loss: 1.2811, Accuracy: 100.00%\n"
     ]
    },
    {
     "name": "stderr",
     "output_type": "stream",
     "text": [
      "Testing Epochs: 100%|██████████| 1/1 [00:00<00:00,  2.48it/s]\n",
      "TOTAL Epochs:  23%|██▎       | 56/240 [03:27<10:53,  3.55s/it]"
     ]
    },
    {
     "name": "stdout",
     "output_type": "stream",
     "text": [
      "[TEST] End of Epoch 0, Avg Loss: 1.6264, Accuracy: 90.62%\n"
     ]
    },
    {
     "name": "stderr",
     "output_type": "stream",
     "text": []
    },
    {
     "name": "stdout",
     "output_type": "stream",
     "text": [
      "[TRAIN] End of Epoch 0, Avg Loss: 1.2803, Accuracy: 100.00%\n"
     ]
    },
    {
     "name": "stderr",
     "output_type": "stream",
     "text": [
      "Training Epochs: 100%|██████████| 2/2 [00:03<00:00,  1.70s/it]\n"
     ]
    },
    {
     "name": "stdout",
     "output_type": "stream",
     "text": [
      "[TRAIN] End of Epoch 1, Avg Loss: 1.2796, Accuracy: 100.00%\n"
     ]
    },
    {
     "name": "stderr",
     "output_type": "stream",
     "text": [
      "Testing Epochs: 100%|██████████| 1/1 [00:00<00:00,  2.45it/s]\n",
      "TOTAL Epochs:  24%|██▍       | 57/240 [03:31<11:05,  3.63s/it]"
     ]
    },
    {
     "name": "stdout",
     "output_type": "stream",
     "text": [
      "[TEST] End of Epoch 0, Avg Loss: 1.6201, Accuracy: 90.77%\n"
     ]
    },
    {
     "name": "stderr",
     "output_type": "stream",
     "text": []
    },
    {
     "name": "stdout",
     "output_type": "stream",
     "text": [
      "[TRAIN] End of Epoch 0, Avg Loss: 1.2778, Accuracy: 100.00%\n"
     ]
    },
    {
     "name": "stderr",
     "output_type": "stream",
     "text": [
      "Training Epochs: 100%|██████████| 2/2 [00:03<00:00,  1.71s/it]\n"
     ]
    },
    {
     "name": "stdout",
     "output_type": "stream",
     "text": [
      "[TRAIN] End of Epoch 1, Avg Loss: 1.2779, Accuracy: 100.00%\n"
     ]
    },
    {
     "name": "stderr",
     "output_type": "stream",
     "text": [
      "Testing Epochs: 100%|██████████| 1/1 [00:00<00:00,  2.35it/s]\n",
      "TOTAL Epochs:  24%|██▍       | 58/240 [03:35<11:13,  3.70s/it]"
     ]
    },
    {
     "name": "stdout",
     "output_type": "stream",
     "text": [
      "[TEST] End of Epoch 0, Avg Loss: 1.6258, Accuracy: 91.22%\n"
     ]
    },
    {
     "name": "stderr",
     "output_type": "stream",
     "text": []
    },
    {
     "name": "stdout",
     "output_type": "stream",
     "text": [
      "[TRAIN] End of Epoch 0, Avg Loss: 1.2787, Accuracy: 100.00%\n"
     ]
    },
    {
     "name": "stderr",
     "output_type": "stream",
     "text": [
      "Training Epochs: 100%|██████████| 2/2 [00:03<00:00,  1.71s/it]\n"
     ]
    },
    {
     "name": "stdout",
     "output_type": "stream",
     "text": [
      "[TRAIN] End of Epoch 1, Avg Loss: 1.2772, Accuracy: 100.00%\n"
     ]
    },
    {
     "name": "stderr",
     "output_type": "stream",
     "text": [
      "Testing Epochs: 100%|██████████| 1/1 [00:00<00:00,  2.43it/s]\n",
      "TOTAL Epochs:  25%|██▍       | 59/240 [03:38<11:17,  3.74s/it]"
     ]
    },
    {
     "name": "stdout",
     "output_type": "stream",
     "text": [
      "[TEST] End of Epoch 0, Avg Loss: 1.6304, Accuracy: 90.62%\n"
     ]
    },
    {
     "name": "stderr",
     "output_type": "stream",
     "text": []
    },
    {
     "name": "stdout",
     "output_type": "stream",
     "text": [
      "[TRAIN] End of Epoch 0, Avg Loss: 1.2772, Accuracy: 100.00%\n"
     ]
    },
    {
     "name": "stderr",
     "output_type": "stream",
     "text": [
      "Training Epochs: 100%|██████████| 2/2 [00:03<00:00,  1.71s/it]\n"
     ]
    },
    {
     "name": "stdout",
     "output_type": "stream",
     "text": [
      "[TRAIN] End of Epoch 1, Avg Loss: 1.2767, Accuracy: 100.00%\n"
     ]
    },
    {
     "name": "stderr",
     "output_type": "stream",
     "text": [
      "Testing Epochs: 100%|██████████| 1/1 [00:00<00:00,  2.43it/s]\n",
      "TOTAL Epochs:  25%|██▌       | 60/240 [03:42<11:18,  3.77s/it]"
     ]
    },
    {
     "name": "stdout",
     "output_type": "stream",
     "text": [
      "[TEST] End of Epoch 0, Avg Loss: 1.6254, Accuracy: 90.62%\n"
     ]
    },
    {
     "name": "stderr",
     "output_type": "stream",
     "text": []
    },
    {
     "name": "stdout",
     "output_type": "stream",
     "text": [
      "[TRAIN] End of Epoch 0, Avg Loss: 1.2748, Accuracy: 100.00%\n"
     ]
    },
    {
     "name": "stderr",
     "output_type": "stream",
     "text": [
      "Training Epochs: 100%|██████████| 2/2 [00:03<00:00,  1.72s/it]\n"
     ]
    },
    {
     "name": "stdout",
     "output_type": "stream",
     "text": [
      "[TRAIN] End of Epoch 1, Avg Loss: 1.2738, Accuracy: 100.00%\n"
     ]
    },
    {
     "name": "stderr",
     "output_type": "stream",
     "text": [
      "Testing Epochs: 100%|██████████| 1/1 [00:00<00:00,  2.37it/s]\n",
      "TOTAL Epochs:  25%|██▌       | 61/240 [03:46<11:19,  3.80s/it]"
     ]
    },
    {
     "name": "stdout",
     "output_type": "stream",
     "text": [
      "[TEST] End of Epoch 0, Avg Loss: 1.6328, Accuracy: 91.67%\n"
     ]
    },
    {
     "name": "stderr",
     "output_type": "stream",
     "text": []
    },
    {
     "name": "stdout",
     "output_type": "stream",
     "text": [
      "[TRAIN] End of Epoch 0, Avg Loss: 1.2732, Accuracy: 100.00%\n"
     ]
    },
    {
     "name": "stderr",
     "output_type": "stream",
     "text": [
      "Training Epochs: 100%|██████████| 2/2 [00:03<00:00,  1.71s/it]\n"
     ]
    },
    {
     "name": "stdout",
     "output_type": "stream",
     "text": [
      "[TRAIN] End of Epoch 1, Avg Loss: 1.2734, Accuracy: 100.00%\n"
     ]
    },
    {
     "name": "stderr",
     "output_type": "stream",
     "text": [
      "Testing Epochs: 100%|██████████| 1/1 [00:00<00:00,  2.44it/s]\n",
      "TOTAL Epochs:  26%|██▌       | 62/240 [03:50<11:18,  3.81s/it]"
     ]
    },
    {
     "name": "stdout",
     "output_type": "stream",
     "text": [
      "[TEST] End of Epoch 0, Avg Loss: 1.6343, Accuracy: 90.92%\n"
     ]
    },
    {
     "name": "stderr",
     "output_type": "stream",
     "text": []
    },
    {
     "name": "stdout",
     "output_type": "stream",
     "text": [
      "[TRAIN] End of Epoch 0, Avg Loss: 1.2714, Accuracy: 100.00%\n"
     ]
    },
    {
     "name": "stderr",
     "output_type": "stream",
     "text": [
      "Training Epochs: 100%|██████████| 2/2 [00:02<00:00,  1.09s/it]\n"
     ]
    },
    {
     "name": "stdout",
     "output_type": "stream",
     "text": [
      "[TRAIN] End of Epoch 1, Avg Loss: 1.2731, Accuracy: 100.00%\n"
     ]
    },
    {
     "name": "stderr",
     "output_type": "stream",
     "text": [
      "Testing Epochs: 100%|██████████| 1/1 [00:00<00:00,  2.38it/s]\n",
      "TOTAL Epochs:  26%|██▋       | 63/240 [03:53<10:10,  3.45s/it]"
     ]
    },
    {
     "name": "stdout",
     "output_type": "stream",
     "text": [
      "[TEST] End of Epoch 0, Avg Loss: 1.6287, Accuracy: 91.82%\n"
     ]
    },
    {
     "name": "stderr",
     "output_type": "stream",
     "text": []
    },
    {
     "name": "stdout",
     "output_type": "stream",
     "text": [
      "[TRAIN] End of Epoch 0, Avg Loss: 1.2728, Accuracy: 100.00%\n"
     ]
    },
    {
     "name": "stderr",
     "output_type": "stream",
     "text": [
      "Training Epochs: 100%|██████████| 2/2 [00:03<00:00,  1.71s/it]\n"
     ]
    },
    {
     "name": "stdout",
     "output_type": "stream",
     "text": [
      "[TRAIN] End of Epoch 1, Avg Loss: 1.2718, Accuracy: 100.00%\n"
     ]
    },
    {
     "name": "stderr",
     "output_type": "stream",
     "text": [
      "Testing Epochs: 100%|██████████| 1/1 [00:00<00:00,  2.46it/s]\n",
      "TOTAL Epochs:  27%|██▋       | 64/240 [03:56<10:27,  3.57s/it]"
     ]
    },
    {
     "name": "stdout",
     "output_type": "stream",
     "text": [
      "[TEST] End of Epoch 0, Avg Loss: 1.6271, Accuracy: 91.67%\n"
     ]
    },
    {
     "name": "stderr",
     "output_type": "stream",
     "text": []
    },
    {
     "name": "stdout",
     "output_type": "stream",
     "text": [
      "[TRAIN] End of Epoch 0, Avg Loss: 1.2715, Accuracy: 100.00%\n"
     ]
    },
    {
     "name": "stderr",
     "output_type": "stream",
     "text": [
      "Training Epochs: 100%|██████████| 2/2 [00:03<00:00,  1.72s/it]\n"
     ]
    },
    {
     "name": "stdout",
     "output_type": "stream",
     "text": [
      "[TRAIN] End of Epoch 1, Avg Loss: 1.2708, Accuracy: 100.00%\n"
     ]
    },
    {
     "name": "stderr",
     "output_type": "stream",
     "text": [
      "Testing Epochs: 100%|██████████| 1/1 [00:00<00:00,  2.37it/s]\n",
      "TOTAL Epochs:  27%|██▋       | 65/240 [04:00<10:39,  3.66s/it]"
     ]
    },
    {
     "name": "stdout",
     "output_type": "stream",
     "text": [
      "[TEST] End of Epoch 0, Avg Loss: 1.6326, Accuracy: 91.67%\n"
     ]
    },
    {
     "name": "stderr",
     "output_type": "stream",
     "text": []
    },
    {
     "name": "stdout",
     "output_type": "stream",
     "text": [
      "[TRAIN] End of Epoch 0, Avg Loss: 1.6106, Accuracy: 95.15%\n"
     ]
    },
    {
     "name": "stderr",
     "output_type": "stream",
     "text": [
      "Training Epochs: 100%|██████████| 2/2 [00:03<00:00,  1.71s/it]\n"
     ]
    },
    {
     "name": "stdout",
     "output_type": "stream",
     "text": [
      "[TRAIN] End of Epoch 1, Avg Loss: 1.6841, Accuracy: 94.52%\n"
     ]
    },
    {
     "name": "stderr",
     "output_type": "stream",
     "text": [
      "Testing Epochs: 100%|██████████| 1/1 [00:00<00:00,  2.46it/s]\n",
      "TOTAL Epochs:  28%|██▊       | 66/240 [04:04<10:45,  3.71s/it]"
     ]
    },
    {
     "name": "stdout",
     "output_type": "stream",
     "text": [
      "[TEST] End of Epoch 0, Avg Loss: 1.8859, Accuracy: 75.15%\n"
     ]
    },
    {
     "name": "stderr",
     "output_type": "stream",
     "text": []
    },
    {
     "name": "stdout",
     "output_type": "stream",
     "text": [
      "[TRAIN] End of Epoch 0, Avg Loss: 1.5422, Accuracy: 98.09%\n"
     ]
    },
    {
     "name": "stderr",
     "output_type": "stream",
     "text": [
      "Training Epochs: 100%|██████████| 2/2 [00:03<00:00,  1.71s/it]\n"
     ]
    },
    {
     "name": "stdout",
     "output_type": "stream",
     "text": [
      "[TRAIN] End of Epoch 1, Avg Loss: 1.4610, Accuracy: 99.62%\n"
     ]
    },
    {
     "name": "stderr",
     "output_type": "stream",
     "text": [
      "Testing Epochs: 100%|██████████| 1/1 [00:00<00:00,  2.45it/s]\n",
      "TOTAL Epochs:  28%|██▊       | 67/240 [04:08<10:48,  3.75s/it]"
     ]
    },
    {
     "name": "stdout",
     "output_type": "stream",
     "text": [
      "[TEST] End of Epoch 0, Avg Loss: 1.7307, Accuracy: 82.89%\n"
     ]
    },
    {
     "name": "stderr",
     "output_type": "stream",
     "text": []
    },
    {
     "name": "stdout",
     "output_type": "stream",
     "text": [
      "[TRAIN] End of Epoch 0, Avg Loss: 1.4279, Accuracy: 99.55%\n"
     ]
    },
    {
     "name": "stderr",
     "output_type": "stream",
     "text": [
      "Training Epochs: 100%|██████████| 2/2 [00:03<00:00,  1.70s/it]\n"
     ]
    },
    {
     "name": "stdout",
     "output_type": "stream",
     "text": [
      "[TRAIN] End of Epoch 1, Avg Loss: 1.4277, Accuracy: 99.49%\n"
     ]
    },
    {
     "name": "stderr",
     "output_type": "stream",
     "text": [
      "Testing Epochs: 100%|██████████| 1/1 [00:00<00:00,  2.44it/s]\n",
      "TOTAL Epochs:  28%|██▊       | 68/240 [04:12<10:48,  3.77s/it]"
     ]
    },
    {
     "name": "stdout",
     "output_type": "stream",
     "text": [
      "[TEST] End of Epoch 0, Avg Loss: 1.7064, Accuracy: 86.01%\n"
     ]
    },
    {
     "name": "stderr",
     "output_type": "stream",
     "text": []
    },
    {
     "name": "stdout",
     "output_type": "stream",
     "text": [
      "[TRAIN] End of Epoch 0, Avg Loss: 1.3894, Accuracy: 99.81%\n"
     ]
    },
    {
     "name": "stderr",
     "output_type": "stream",
     "text": [
      "Training Epochs: 100%|██████████| 2/2 [00:03<00:00,  1.70s/it]\n"
     ]
    },
    {
     "name": "stdout",
     "output_type": "stream",
     "text": [
      "[TRAIN] End of Epoch 1, Avg Loss: 1.3775, Accuracy: 100.00%\n"
     ]
    },
    {
     "name": "stderr",
     "output_type": "stream",
     "text": [
      "Testing Epochs: 100%|██████████| 1/1 [00:00<00:00,  2.47it/s]\n",
      "TOTAL Epochs:  29%|██▉       | 69/240 [04:16<10:47,  3.79s/it]"
     ]
    },
    {
     "name": "stdout",
     "output_type": "stream",
     "text": [
      "[TEST] End of Epoch 0, Avg Loss: 1.6971, Accuracy: 87.20%\n"
     ]
    },
    {
     "name": "stderr",
     "output_type": "stream",
     "text": []
    },
    {
     "name": "stdout",
     "output_type": "stream",
     "text": [
      "[TRAIN] End of Epoch 0, Avg Loss: 1.3677, Accuracy: 99.87%\n"
     ]
    },
    {
     "name": "stderr",
     "output_type": "stream",
     "text": [
      "Training Epochs: 100%|██████████| 2/2 [00:03<00:00,  1.70s/it]\n"
     ]
    },
    {
     "name": "stdout",
     "output_type": "stream",
     "text": [
      "[TRAIN] End of Epoch 1, Avg Loss: 1.3556, Accuracy: 99.94%\n"
     ]
    },
    {
     "name": "stderr",
     "output_type": "stream",
     "text": [
      "Testing Epochs: 100%|██████████| 1/1 [00:00<00:00,  2.46it/s]\n",
      "TOTAL Epochs:  29%|██▉       | 70/240 [04:19<10:45,  3.80s/it]"
     ]
    },
    {
     "name": "stdout",
     "output_type": "stream",
     "text": [
      "[TEST] End of Epoch 0, Avg Loss: 1.6702, Accuracy: 87.35%\n"
     ]
    },
    {
     "name": "stderr",
     "output_type": "stream",
     "text": []
    },
    {
     "name": "stdout",
     "output_type": "stream",
     "text": [
      "[TRAIN] End of Epoch 0, Avg Loss: 1.3664, Accuracy: 100.00%\n"
     ]
    },
    {
     "name": "stderr",
     "output_type": "stream",
     "text": [
      "Training Epochs: 100%|██████████| 2/2 [00:03<00:00,  1.72s/it]\n"
     ]
    },
    {
     "name": "stdout",
     "output_type": "stream",
     "text": [
      "[TRAIN] End of Epoch 1, Avg Loss: 1.3631, Accuracy: 99.94%\n"
     ]
    },
    {
     "name": "stderr",
     "output_type": "stream",
     "text": [
      "Testing Epochs: 100%|██████████| 1/1 [00:00<00:00,  2.46it/s]\n",
      "TOTAL Epochs:  30%|██▉       | 71/240 [04:23<10:44,  3.81s/it]"
     ]
    },
    {
     "name": "stdout",
     "output_type": "stream",
     "text": [
      "[TEST] End of Epoch 0, Avg Loss: 1.6323, Accuracy: 88.99%\n"
     ]
    },
    {
     "name": "stderr",
     "output_type": "stream",
     "text": []
    },
    {
     "name": "stdout",
     "output_type": "stream",
     "text": [
      "[TRAIN] End of Epoch 0, Avg Loss: 1.3631, Accuracy: 99.94%\n"
     ]
    },
    {
     "name": "stderr",
     "output_type": "stream",
     "text": [
      "Training Epochs: 100%|██████████| 2/2 [00:02<00:00,  1.09s/it]\n"
     ]
    },
    {
     "name": "stdout",
     "output_type": "stream",
     "text": [
      "[TRAIN] End of Epoch 1, Avg Loss: 1.3632, Accuracy: 99.87%\n"
     ]
    },
    {
     "name": "stderr",
     "output_type": "stream",
     "text": [
      "Testing Epochs: 100%|██████████| 1/1 [00:00<00:00,  2.45it/s]\n",
      "TOTAL Epochs:  30%|███       | 72/240 [04:26<09:39,  3.45s/it]"
     ]
    },
    {
     "name": "stdout",
     "output_type": "stream",
     "text": [
      "[TEST] End of Epoch 0, Avg Loss: 1.6768, Accuracy: 88.24%\n"
     ]
    },
    {
     "name": "stderr",
     "output_type": "stream",
     "text": []
    },
    {
     "name": "stdout",
     "output_type": "stream",
     "text": [
      "[TRAIN] End of Epoch 0, Avg Loss: 1.3501, Accuracy: 100.00%\n"
     ]
    },
    {
     "name": "stderr",
     "output_type": "stream",
     "text": [
      "Training Epochs: 100%|██████████| 2/2 [00:03<00:00,  1.71s/it]\n"
     ]
    },
    {
     "name": "stdout",
     "output_type": "stream",
     "text": [
      "[TRAIN] End of Epoch 1, Avg Loss: 1.3506, Accuracy: 100.00%\n"
     ]
    },
    {
     "name": "stderr",
     "output_type": "stream",
     "text": [
      "Testing Epochs: 100%|██████████| 1/1 [00:00<00:00,  2.25it/s]\n",
      "TOTAL Epochs:  30%|███       | 73/240 [04:30<09:57,  3.58s/it]"
     ]
    },
    {
     "name": "stdout",
     "output_type": "stream",
     "text": [
      "[TEST] End of Epoch 0, Avg Loss: 1.6708, Accuracy: 87.65%\n"
     ]
    },
    {
     "name": "stderr",
     "output_type": "stream",
     "text": []
    },
    {
     "name": "stdout",
     "output_type": "stream",
     "text": [
      "[TRAIN] End of Epoch 0, Avg Loss: 1.3652, Accuracy: 99.94%\n"
     ]
    },
    {
     "name": "stderr",
     "output_type": "stream",
     "text": [
      "Training Epochs: 100%|██████████| 2/2 [00:03<00:00,  1.72s/it]\n"
     ]
    },
    {
     "name": "stdout",
     "output_type": "stream",
     "text": [
      "[TRAIN] End of Epoch 1, Avg Loss: 1.3420, Accuracy: 100.00%\n"
     ]
    },
    {
     "name": "stderr",
     "output_type": "stream",
     "text": [
      "Testing Epochs: 100%|██████████| 1/1 [00:00<00:00,  2.35it/s]\n",
      "TOTAL Epochs:  31%|███       | 74/240 [04:34<10:08,  3.66s/it]"
     ]
    },
    {
     "name": "stdout",
     "output_type": "stream",
     "text": [
      "[TEST] End of Epoch 0, Avg Loss: 1.6486, Accuracy: 87.35%\n"
     ]
    },
    {
     "name": "stderr",
     "output_type": "stream",
     "text": []
    },
    {
     "name": "stdout",
     "output_type": "stream",
     "text": [
      "[TRAIN] End of Epoch 0, Avg Loss: 1.3353, Accuracy: 100.00%\n"
     ]
    },
    {
     "name": "stderr",
     "output_type": "stream",
     "text": [
      "Training Epochs: 100%|██████████| 2/2 [00:03<00:00,  1.72s/it]\n"
     ]
    },
    {
     "name": "stdout",
     "output_type": "stream",
     "text": [
      "[TRAIN] End of Epoch 1, Avg Loss: 1.3376, Accuracy: 100.00%\n"
     ]
    },
    {
     "name": "stderr",
     "output_type": "stream",
     "text": [
      "Testing Epochs: 100%|██████████| 1/1 [00:00<00:00,  2.42it/s]\n",
      "TOTAL Epochs:  31%|███▏      | 75/240 [04:37<10:14,  3.73s/it]"
     ]
    },
    {
     "name": "stdout",
     "output_type": "stream",
     "text": [
      "[TEST] End of Epoch 0, Avg Loss: 1.6617, Accuracy: 88.24%\n"
     ]
    },
    {
     "name": "stderr",
     "output_type": "stream",
     "text": []
    },
    {
     "name": "stdout",
     "output_type": "stream",
     "text": [
      "[TRAIN] End of Epoch 0, Avg Loss: 1.3481, Accuracy: 100.00%\n"
     ]
    },
    {
     "name": "stderr",
     "output_type": "stream",
     "text": [
      "Training Epochs: 100%|██████████| 2/2 [00:03<00:00,  1.71s/it]\n"
     ]
    },
    {
     "name": "stdout",
     "output_type": "stream",
     "text": [
      "[TRAIN] End of Epoch 1, Avg Loss: 1.3290, Accuracy: 100.00%\n"
     ]
    },
    {
     "name": "stderr",
     "output_type": "stream",
     "text": [
      "Testing Epochs: 100%|██████████| 1/1 [00:00<00:00,  2.37it/s]\n",
      "TOTAL Epochs:  32%|███▏      | 76/240 [04:41<10:17,  3.77s/it]"
     ]
    },
    {
     "name": "stdout",
     "output_type": "stream",
     "text": [
      "[TEST] End of Epoch 0, Avg Loss: 1.6399, Accuracy: 89.88%\n"
     ]
    },
    {
     "name": "stderr",
     "output_type": "stream",
     "text": []
    },
    {
     "name": "stdout",
     "output_type": "stream",
     "text": [
      "[TRAIN] End of Epoch 0, Avg Loss: 1.3308, Accuracy: 100.00%\n"
     ]
    },
    {
     "name": "stderr",
     "output_type": "stream",
     "text": [
      "Training Epochs: 100%|██████████| 2/2 [00:03<00:00,  1.71s/it]\n"
     ]
    },
    {
     "name": "stdout",
     "output_type": "stream",
     "text": [
      "[TRAIN] End of Epoch 1, Avg Loss: 1.3338, Accuracy: 100.00%\n"
     ]
    },
    {
     "name": "stderr",
     "output_type": "stream",
     "text": [
      "Testing Epochs: 100%|██████████| 1/1 [00:00<00:00,  2.42it/s]\n",
      "TOTAL Epochs:  32%|███▏      | 77/240 [04:45<10:17,  3.79s/it]"
     ]
    },
    {
     "name": "stdout",
     "output_type": "stream",
     "text": [
      "[TEST] End of Epoch 0, Avg Loss: 1.6560, Accuracy: 87.35%\n"
     ]
    },
    {
     "name": "stderr",
     "output_type": "stream",
     "text": []
    },
    {
     "name": "stdout",
     "output_type": "stream",
     "text": [
      "[TRAIN] End of Epoch 0, Avg Loss: 1.3273, Accuracy: 99.94%\n"
     ]
    },
    {
     "name": "stderr",
     "output_type": "stream",
     "text": [
      "Training Epochs: 100%|██████████| 2/2 [00:03<00:00,  1.73s/it]\n"
     ]
    },
    {
     "name": "stdout",
     "output_type": "stream",
     "text": [
      "[TRAIN] End of Epoch 1, Avg Loss: 1.3257, Accuracy: 100.00%\n"
     ]
    },
    {
     "name": "stderr",
     "output_type": "stream",
     "text": [
      "Testing Epochs: 100%|██████████| 1/1 [00:00<00:00,  2.37it/s]\n",
      "TOTAL Epochs:  32%|███▎      | 78/240 [04:49<10:18,  3.82s/it]"
     ]
    },
    {
     "name": "stdout",
     "output_type": "stream",
     "text": [
      "[TEST] End of Epoch 0, Avg Loss: 1.6546, Accuracy: 89.73%\n"
     ]
    },
    {
     "name": "stderr",
     "output_type": "stream",
     "text": []
    },
    {
     "name": "stdout",
     "output_type": "stream",
     "text": [
      "[TRAIN] End of Epoch 0, Avg Loss: 1.3193, Accuracy: 100.00%\n"
     ]
    },
    {
     "name": "stderr",
     "output_type": "stream",
     "text": [
      "Training Epochs: 100%|██████████| 2/2 [00:03<00:00,  1.71s/it]\n"
     ]
    },
    {
     "name": "stdout",
     "output_type": "stream",
     "text": [
      "[TRAIN] End of Epoch 1, Avg Loss: 1.3290, Accuracy: 100.00%\n"
     ]
    },
    {
     "name": "stderr",
     "output_type": "stream",
     "text": [
      "Testing Epochs: 100%|██████████| 1/1 [00:00<00:00,  2.39it/s]\n",
      "TOTAL Epochs:  33%|███▎      | 79/240 [04:53<10:16,  3.83s/it]"
     ]
    },
    {
     "name": "stdout",
     "output_type": "stream",
     "text": [
      "[TEST] End of Epoch 0, Avg Loss: 1.6408, Accuracy: 88.10%\n"
     ]
    },
    {
     "name": "stderr",
     "output_type": "stream",
     "text": []
    },
    {
     "name": "stdout",
     "output_type": "stream",
     "text": [
      "[TRAIN] End of Epoch 0, Avg Loss: 1.3361, Accuracy: 99.74%\n"
     ]
    },
    {
     "name": "stderr",
     "output_type": "stream",
     "text": [
      "Training Epochs: 100%|██████████| 2/2 [00:02<00:00,  1.09s/it]\n"
     ]
    },
    {
     "name": "stdout",
     "output_type": "stream",
     "text": [
      "[TRAIN] End of Epoch 1, Avg Loss: 1.3261, Accuracy: 100.00%\n"
     ]
    },
    {
     "name": "stderr",
     "output_type": "stream",
     "text": [
      "Testing Epochs: 100%|██████████| 1/1 [00:00<00:00,  2.44it/s]\n",
      "TOTAL Epochs:  33%|███▎      | 80/240 [04:55<09:13,  3.46s/it]"
     ]
    },
    {
     "name": "stdout",
     "output_type": "stream",
     "text": [
      "[TEST] End of Epoch 0, Avg Loss: 1.6560, Accuracy: 89.58%\n"
     ]
    },
    {
     "name": "stderr",
     "output_type": "stream",
     "text": []
    },
    {
     "name": "stdout",
     "output_type": "stream",
     "text": [
      "[TRAIN] End of Epoch 0, Avg Loss: 1.3182, Accuracy: 100.00%\n"
     ]
    },
    {
     "name": "stderr",
     "output_type": "stream",
     "text": [
      "Training Epochs: 100%|██████████| 2/2 [00:03<00:00,  1.71s/it]\n"
     ]
    },
    {
     "name": "stdout",
     "output_type": "stream",
     "text": [
      "[TRAIN] End of Epoch 1, Avg Loss: 1.3236, Accuracy: 100.00%\n"
     ]
    },
    {
     "name": "stderr",
     "output_type": "stream",
     "text": [
      "Testing Epochs: 100%|██████████| 1/1 [00:00<00:00,  2.31it/s]\n",
      "TOTAL Epochs:  34%|███▍      | 81/240 [04:59<09:29,  3.58s/it]"
     ]
    },
    {
     "name": "stdout",
     "output_type": "stream",
     "text": [
      "[TEST] End of Epoch 0, Avg Loss: 1.6584, Accuracy: 89.14%\n"
     ]
    },
    {
     "name": "stderr",
     "output_type": "stream",
     "text": []
    },
    {
     "name": "stdout",
     "output_type": "stream",
     "text": [
      "[TRAIN] End of Epoch 0, Avg Loss: 1.3369, Accuracy: 100.00%\n"
     ]
    },
    {
     "name": "stderr",
     "output_type": "stream",
     "text": [
      "Training Epochs: 100%|██████████| 2/2 [00:03<00:00,  1.69s/it]\n"
     ]
    },
    {
     "name": "stdout",
     "output_type": "stream",
     "text": [
      "[TRAIN] End of Epoch 1, Avg Loss: 1.3359, Accuracy: 100.00%\n"
     ]
    },
    {
     "name": "stderr",
     "output_type": "stream",
     "text": [
      "Testing Epochs: 100%|██████████| 1/1 [00:00<00:00,  2.32it/s]\n",
      "TOTAL Epochs:  34%|███▍      | 82/240 [05:03<09:37,  3.65s/it]"
     ]
    },
    {
     "name": "stdout",
     "output_type": "stream",
     "text": [
      "[TEST] End of Epoch 0, Avg Loss: 1.6711, Accuracy: 87.20%\n"
     ]
    },
    {
     "name": "stderr",
     "output_type": "stream",
     "text": []
    },
    {
     "name": "stdout",
     "output_type": "stream",
     "text": [
      "[TRAIN] End of Epoch 0, Avg Loss: 1.3433, Accuracy: 100.00%\n"
     ]
    },
    {
     "name": "stderr",
     "output_type": "stream",
     "text": [
      "Training Epochs: 100%|██████████| 2/2 [00:03<00:00,  1.71s/it]\n"
     ]
    },
    {
     "name": "stdout",
     "output_type": "stream",
     "text": [
      "[TRAIN] End of Epoch 1, Avg Loss: 1.3325, Accuracy: 100.00%\n"
     ]
    },
    {
     "name": "stderr",
     "output_type": "stream",
     "text": [
      "Testing Epochs: 100%|██████████| 1/1 [00:00<00:00,  2.33it/s]\n",
      "TOTAL Epochs:  35%|███▍      | 83/240 [05:07<09:43,  3.72s/it]"
     ]
    },
    {
     "name": "stdout",
     "output_type": "stream",
     "text": [
      "[TEST] End of Epoch 0, Avg Loss: 1.6611, Accuracy: 87.80%\n"
     ]
    },
    {
     "name": "stderr",
     "output_type": "stream",
     "text": []
    },
    {
     "name": "stdout",
     "output_type": "stream",
     "text": [
      "[TRAIN] End of Epoch 0, Avg Loss: 1.3291, Accuracy: 100.00%\n"
     ]
    },
    {
     "name": "stderr",
     "output_type": "stream",
     "text": [
      "Training Epochs: 100%|██████████| 2/2 [00:03<00:00,  1.73s/it]\n"
     ]
    },
    {
     "name": "stdout",
     "output_type": "stream",
     "text": [
      "[TRAIN] End of Epoch 1, Avg Loss: 1.3284, Accuracy: 100.00%\n"
     ]
    },
    {
     "name": "stderr",
     "output_type": "stream",
     "text": [
      "Testing Epochs: 100%|██████████| 1/1 [00:00<00:00,  2.27it/s]\n",
      "TOTAL Epochs:  35%|███▌      | 84/240 [05:11<09:49,  3.78s/it]"
     ]
    },
    {
     "name": "stdout",
     "output_type": "stream",
     "text": [
      "[TEST] End of Epoch 0, Avg Loss: 1.6528, Accuracy: 89.58%\n"
     ]
    },
    {
     "name": "stderr",
     "output_type": "stream",
     "text": []
    },
    {
     "name": "stdout",
     "output_type": "stream",
     "text": [
      "[TRAIN] End of Epoch 0, Avg Loss: 1.3281, Accuracy: 100.00%\n"
     ]
    },
    {
     "name": "stderr",
     "output_type": "stream",
     "text": [
      "Training Epochs: 100%|██████████| 2/2 [00:03<00:00,  1.71s/it]\n"
     ]
    },
    {
     "name": "stdout",
     "output_type": "stream",
     "text": [
      "[TRAIN] End of Epoch 1, Avg Loss: 1.3220, Accuracy: 100.00%\n"
     ]
    },
    {
     "name": "stderr",
     "output_type": "stream",
     "text": [
      "Testing Epochs: 100%|██████████| 1/1 [00:00<00:00,  2.33it/s]\n",
      "TOTAL Epochs:  35%|███▌      | 85/240 [05:15<09:49,  3.80s/it]"
     ]
    },
    {
     "name": "stdout",
     "output_type": "stream",
     "text": [
      "[TEST] End of Epoch 0, Avg Loss: 1.6483, Accuracy: 90.33%\n"
     ]
    },
    {
     "name": "stderr",
     "output_type": "stream",
     "text": []
    },
    {
     "name": "stdout",
     "output_type": "stream",
     "text": [
      "[TRAIN] End of Epoch 0, Avg Loss: 1.3155, Accuracy: 100.00%\n"
     ]
    },
    {
     "name": "stderr",
     "output_type": "stream",
     "text": [
      "Training Epochs: 100%|██████████| 2/2 [00:03<00:00,  1.71s/it]\n"
     ]
    },
    {
     "name": "stdout",
     "output_type": "stream",
     "text": [
      "[TRAIN] End of Epoch 1, Avg Loss: 1.3205, Accuracy: 100.00%\n"
     ]
    },
    {
     "name": "stderr",
     "output_type": "stream",
     "text": [
      "Testing Epochs: 100%|██████████| 1/1 [00:00<00:00,  2.41it/s]\n",
      "TOTAL Epochs:  36%|███▌      | 86/240 [05:19<09:47,  3.81s/it]"
     ]
    },
    {
     "name": "stdout",
     "output_type": "stream",
     "text": [
      "[TEST] End of Epoch 0, Avg Loss: 1.6453, Accuracy: 88.84%\n"
     ]
    },
    {
     "name": "stderr",
     "output_type": "stream",
     "text": []
    },
    {
     "name": "stdout",
     "output_type": "stream",
     "text": [
      "[TRAIN] End of Epoch 0, Avg Loss: 1.3246, Accuracy: 100.00%\n"
     ]
    },
    {
     "name": "stderr",
     "output_type": "stream",
     "text": [
      "Training Epochs: 100%|██████████| 2/2 [00:03<00:00,  1.71s/it]\n"
     ]
    },
    {
     "name": "stdout",
     "output_type": "stream",
     "text": [
      "[TRAIN] End of Epoch 1, Avg Loss: 1.3199, Accuracy: 100.00%\n"
     ]
    },
    {
     "name": "stderr",
     "output_type": "stream",
     "text": [
      "Testing Epochs: 100%|██████████| 1/1 [00:00<00:00,  2.42it/s]\n",
      "TOTAL Epochs:  36%|███▋      | 87/240 [05:22<09:44,  3.82s/it]"
     ]
    },
    {
     "name": "stdout",
     "output_type": "stream",
     "text": [
      "[TEST] End of Epoch 0, Avg Loss: 1.6340, Accuracy: 89.43%\n"
     ]
    },
    {
     "name": "stderr",
     "output_type": "stream",
     "text": []
    },
    {
     "name": "stdout",
     "output_type": "stream",
     "text": [
      "[TRAIN] End of Epoch 0, Avg Loss: 1.3153, Accuracy: 100.00%\n"
     ]
    },
    {
     "name": "stderr",
     "output_type": "stream",
     "text": [
      "Training Epochs: 100%|██████████| 2/2 [00:03<00:00,  1.71s/it]\n"
     ]
    },
    {
     "name": "stdout",
     "output_type": "stream",
     "text": [
      "[TRAIN] End of Epoch 1, Avg Loss: 1.3179, Accuracy: 100.00%\n"
     ]
    },
    {
     "name": "stderr",
     "output_type": "stream",
     "text": [
      "Testing Epochs: 100%|██████████| 1/1 [00:00<00:00, -1.25it/s]\n",
      "TOTAL Epochs:  37%|███▋      | 88/240 [05:25<08:46,  3.46s/it]"
     ]
    },
    {
     "name": "stdout",
     "output_type": "stream",
     "text": [
      "[TEST] End of Epoch 0, Avg Loss: 1.6663, Accuracy: 88.10%\n"
     ]
    },
    {
     "name": "stderr",
     "output_type": "stream",
     "text": []
    },
    {
     "name": "stdout",
     "output_type": "stream",
     "text": [
      "[TRAIN] End of Epoch 0, Avg Loss: 1.3124, Accuracy: 100.00%\n"
     ]
    },
    {
     "name": "stderr",
     "output_type": "stream",
     "text": [
      "Training Epochs: 100%|██████████| 2/2 [00:03<00:00,  1.70s/it]\n"
     ]
    },
    {
     "name": "stdout",
     "output_type": "stream",
     "text": [
      "[TRAIN] End of Epoch 1, Avg Loss: 1.3196, Accuracy: 100.00%\n"
     ]
    },
    {
     "name": "stderr",
     "output_type": "stream",
     "text": [
      "Testing Epochs: 100%|██████████| 1/1 [00:00<00:00,  2.42it/s]\n",
      "TOTAL Epochs:  37%|███▋      | 89/240 [05:29<08:59,  3.57s/it]"
     ]
    },
    {
     "name": "stdout",
     "output_type": "stream",
     "text": [
      "[TEST] End of Epoch 0, Avg Loss: 1.6264, Accuracy: 90.48%\n"
     ]
    },
    {
     "name": "stderr",
     "output_type": "stream",
     "text": []
    },
    {
     "name": "stdout",
     "output_type": "stream",
     "text": [
      "[TRAIN] End of Epoch 0, Avg Loss: 1.3150, Accuracy: 100.00%\n"
     ]
    },
    {
     "name": "stderr",
     "output_type": "stream",
     "text": [
      "Training Epochs: 100%|██████████| 2/2 [00:03<00:00,  1.74s/it]\n"
     ]
    },
    {
     "name": "stdout",
     "output_type": "stream",
     "text": [
      "[TRAIN] End of Epoch 1, Avg Loss: 1.3073, Accuracy: 100.00%\n"
     ]
    },
    {
     "name": "stderr",
     "output_type": "stream",
     "text": [
      "Testing Epochs: 100%|██████████| 1/1 [00:00<00:00,  2.44it/s]\n",
      "TOTAL Epochs:  38%|███▊      | 90/240 [05:33<09:10,  3.67s/it]"
     ]
    },
    {
     "name": "stdout",
     "output_type": "stream",
     "text": [
      "[TEST] End of Epoch 0, Avg Loss: 1.6500, Accuracy: 89.73%\n"
     ]
    },
    {
     "name": "stderr",
     "output_type": "stream",
     "text": []
    },
    {
     "name": "stdout",
     "output_type": "stream",
     "text": [
      "[TRAIN] End of Epoch 0, Avg Loss: 1.3139, Accuracy: 100.00%\n"
     ]
    },
    {
     "name": "stderr",
     "output_type": "stream",
     "text": [
      "Training Epochs: 100%|██████████| 2/2 [00:03<00:00,  1.72s/it]\n"
     ]
    },
    {
     "name": "stdout",
     "output_type": "stream",
     "text": [
      "[TRAIN] End of Epoch 1, Avg Loss: 1.3116, Accuracy: 100.00%\n"
     ]
    },
    {
     "name": "stderr",
     "output_type": "stream",
     "text": [
      "Testing Epochs: 100%|██████████| 1/1 [00:00<00:00,  2.43it/s]\n",
      "TOTAL Epochs:  38%|███▊      | 91/240 [05:37<09:15,  3.73s/it]"
     ]
    },
    {
     "name": "stdout",
     "output_type": "stream",
     "text": [
      "[TEST] End of Epoch 0, Avg Loss: 1.6228, Accuracy: 91.37%\n"
     ]
    },
    {
     "name": "stderr",
     "output_type": "stream",
     "text": []
    },
    {
     "name": "stdout",
     "output_type": "stream",
     "text": [
      "[TRAIN] End of Epoch 0, Avg Loss: 1.3106, Accuracy: 100.00%\n"
     ]
    },
    {
     "name": "stderr",
     "output_type": "stream",
     "text": [
      "Training Epochs: 100%|██████████| 2/2 [00:03<00:00,  1.70s/it]\n"
     ]
    },
    {
     "name": "stdout",
     "output_type": "stream",
     "text": [
      "[TRAIN] End of Epoch 1, Avg Loss: 1.3151, Accuracy: 100.00%\n"
     ]
    },
    {
     "name": "stderr",
     "output_type": "stream",
     "text": [
      "Testing Epochs: 100%|██████████| 1/1 [00:00<00:00,  2.42it/s]\n",
      "TOTAL Epochs:  38%|███▊      | 92/240 [05:41<09:15,  3.76s/it]"
     ]
    },
    {
     "name": "stdout",
     "output_type": "stream",
     "text": [
      "[TEST] End of Epoch 0, Avg Loss: 1.6257, Accuracy: 89.43%\n"
     ]
    },
    {
     "name": "stderr",
     "output_type": "stream",
     "text": []
    },
    {
     "name": "stdout",
     "output_type": "stream",
     "text": [
      "[TRAIN] End of Epoch 0, Avg Loss: 1.3142, Accuracy: 100.00%\n"
     ]
    },
    {
     "name": "stderr",
     "output_type": "stream",
     "text": [
      "Training Epochs: 100%|██████████| 2/2 [00:03<00:00,  1.71s/it]\n"
     ]
    },
    {
     "name": "stdout",
     "output_type": "stream",
     "text": [
      "[TRAIN] End of Epoch 1, Avg Loss: 1.3046, Accuracy: 100.00%\n"
     ]
    },
    {
     "name": "stderr",
     "output_type": "stream",
     "text": [
      "Testing Epochs: 100%|██████████| 1/1 [00:00<00:00,  2.39it/s]\n",
      "TOTAL Epochs:  39%|███▉      | 93/240 [05:44<09:16,  3.78s/it]"
     ]
    },
    {
     "name": "stdout",
     "output_type": "stream",
     "text": [
      "[TEST] End of Epoch 0, Avg Loss: 1.6326, Accuracy: 89.29%\n"
     ]
    },
    {
     "name": "stderr",
     "output_type": "stream",
     "text": []
    },
    {
     "name": "stdout",
     "output_type": "stream",
     "text": [
      "[TRAIN] End of Epoch 0, Avg Loss: 1.3053, Accuracy: 100.00%\n"
     ]
    },
    {
     "name": "stderr",
     "output_type": "stream",
     "text": [
      "Training Epochs: 100%|██████████| 2/2 [00:03<00:00,  1.68s/it]\n"
     ]
    },
    {
     "name": "stdout",
     "output_type": "stream",
     "text": [
      "[TRAIN] End of Epoch 1, Avg Loss: 1.3048, Accuracy: 100.00%\n"
     ]
    },
    {
     "name": "stderr",
     "output_type": "stream",
     "text": [
      "Testing Epochs: 100%|██████████| 1/1 [00:00<00:00,  2.40it/s]\n",
      "TOTAL Epochs:  39%|███▉      | 94/240 [05:48<09:12,  3.79s/it]"
     ]
    },
    {
     "name": "stdout",
     "output_type": "stream",
     "text": [
      "[TEST] End of Epoch 0, Avg Loss: 1.6432, Accuracy: 90.62%\n"
     ]
    },
    {
     "name": "stderr",
     "output_type": "stream",
     "text": []
    },
    {
     "name": "stdout",
     "output_type": "stream",
     "text": [
      "[TRAIN] End of Epoch 0, Avg Loss: 1.3028, Accuracy: 100.00%\n"
     ]
    },
    {
     "name": "stderr",
     "output_type": "stream",
     "text": [
      "Training Epochs: 100%|██████████| 2/2 [00:03<00:00,  1.72s/it]\n"
     ]
    },
    {
     "name": "stdout",
     "output_type": "stream",
     "text": [
      "[TRAIN] End of Epoch 1, Avg Loss: 1.3152, Accuracy: 100.00%\n"
     ]
    },
    {
     "name": "stderr",
     "output_type": "stream",
     "text": [
      "Testing Epochs: 100%|██████████| 1/1 [00:00<00:00,  2.43it/s]\n",
      "TOTAL Epochs:  40%|███▉      | 95/240 [05:52<09:12,  3.81s/it]"
     ]
    },
    {
     "name": "stdout",
     "output_type": "stream",
     "text": [
      "[TEST] End of Epoch 0, Avg Loss: 1.6368, Accuracy: 91.67%\n"
     ]
    },
    {
     "name": "stderr",
     "output_type": "stream",
     "text": []
    },
    {
     "name": "stdout",
     "output_type": "stream",
     "text": [
      "[TRAIN] End of Epoch 0, Avg Loss: 1.3186, Accuracy: 100.00%\n"
     ]
    },
    {
     "name": "stderr",
     "output_type": "stream",
     "text": [
      "Training Epochs: 100%|██████████| 2/2 [00:03<00:00,  1.69s/it]\n"
     ]
    },
    {
     "name": "stdout",
     "output_type": "stream",
     "text": [
      "[TRAIN] End of Epoch 1, Avg Loss: 1.3172, Accuracy: 100.00%\n"
     ]
    },
    {
     "name": "stderr",
     "output_type": "stream",
     "text": [
      "Testing Epochs: 100%|██████████| 1/1 [00:00<00:00,  2.38it/s]\n",
      "TOTAL Epochs:  40%|████      | 96/240 [05:56<09:08,  3.81s/it]"
     ]
    },
    {
     "name": "stdout",
     "output_type": "stream",
     "text": [
      "[TEST] End of Epoch 0, Avg Loss: 1.7013, Accuracy: 85.71%\n"
     ]
    },
    {
     "name": "stderr",
     "output_type": "stream",
     "text": []
    },
    {
     "name": "stdout",
     "output_type": "stream",
     "text": [
      "[TRAIN] End of Epoch 0, Avg Loss: 1.3124, Accuracy: 100.00%\n"
     ]
    },
    {
     "name": "stderr",
     "output_type": "stream",
     "text": [
      "Training Epochs: 100%|██████████| 2/2 [00:02<00:00,  1.10s/it]\n"
     ]
    },
    {
     "name": "stdout",
     "output_type": "stream",
     "text": [
      "[TRAIN] End of Epoch 1, Avg Loss: 1.3074, Accuracy: 100.00%\n"
     ]
    },
    {
     "name": "stderr",
     "output_type": "stream",
     "text": [
      "Testing Epochs: 100%|██████████| 1/1 [00:00<00:00,  2.45it/s]\n",
      "TOTAL Epochs:  40%|████      | 97/240 [05:58<08:13,  3.45s/it]"
     ]
    },
    {
     "name": "stdout",
     "output_type": "stream",
     "text": [
      "[TEST] End of Epoch 0, Avg Loss: 1.6340, Accuracy: 90.03%\n"
     ]
    },
    {
     "name": "stderr",
     "output_type": "stream",
     "text": []
    },
    {
     "name": "stdout",
     "output_type": "stream",
     "text": [
      "[TRAIN] End of Epoch 0, Avg Loss: 1.3112, Accuracy: 100.00%\n"
     ]
    },
    {
     "name": "stderr",
     "output_type": "stream",
     "text": [
      "Training Epochs: 100%|██████████| 2/2 [00:03<00:00,  1.70s/it]\n"
     ]
    },
    {
     "name": "stdout",
     "output_type": "stream",
     "text": [
      "[TRAIN] End of Epoch 1, Avg Loss: 1.3070, Accuracy: 100.00%\n"
     ]
    },
    {
     "name": "stderr",
     "output_type": "stream",
     "text": [
      "Testing Epochs: 100%|██████████| 1/1 [00:00<00:00,  2.42it/s]\n",
      "TOTAL Epochs:  41%|████      | 98/240 [06:02<08:26,  3.56s/it]"
     ]
    },
    {
     "name": "stdout",
     "output_type": "stream",
     "text": [
      "[TEST] End of Epoch 0, Avg Loss: 1.6351, Accuracy: 90.18%\n"
     ]
    },
    {
     "name": "stderr",
     "output_type": "stream",
     "text": []
    },
    {
     "name": "stdout",
     "output_type": "stream",
     "text": [
      "[TRAIN] End of Epoch 0, Avg Loss: 1.3025, Accuracy: 100.00%\n"
     ]
    },
    {
     "name": "stderr",
     "output_type": "stream",
     "text": [
      "Training Epochs: 100%|██████████| 2/2 [00:03<00:00,  1.70s/it]\n"
     ]
    },
    {
     "name": "stdout",
     "output_type": "stream",
     "text": [
      "[TRAIN] End of Epoch 1, Avg Loss: 1.3091, Accuracy: 100.00%\n"
     ]
    },
    {
     "name": "stderr",
     "output_type": "stream",
     "text": [
      "Testing Epochs: 100%|██████████| 1/1 [00:00<00:00,  2.44it/s]\n",
      "TOTAL Epochs:  41%|████▏     | 99/240 [06:06<08:33,  3.64s/it]"
     ]
    },
    {
     "name": "stdout",
     "output_type": "stream",
     "text": [
      "[TEST] End of Epoch 0, Avg Loss: 1.6523, Accuracy: 89.88%\n"
     ]
    },
    {
     "name": "stderr",
     "output_type": "stream",
     "text": []
    },
    {
     "name": "stdout",
     "output_type": "stream",
     "text": [
      "[TRAIN] End of Epoch 0, Avg Loss: 1.3064, Accuracy: 100.00%\n"
     ]
    },
    {
     "name": "stderr",
     "output_type": "stream",
     "text": [
      "Training Epochs: 100%|██████████| 2/2 [00:03<00:00,  1.70s/it]\n"
     ]
    },
    {
     "name": "stdout",
     "output_type": "stream",
     "text": [
      "[TRAIN] End of Epoch 1, Avg Loss: 1.3071, Accuracy: 100.00%\n"
     ]
    },
    {
     "name": "stderr",
     "output_type": "stream",
     "text": [
      "Testing Epochs: 100%|██████████| 1/1 [00:00<00:00,  2.41it/s]\n",
      "TOTAL Epochs:  42%|████▏     | 100/240 [06:10<08:37,  3.69s/it]"
     ]
    },
    {
     "name": "stdout",
     "output_type": "stream",
     "text": [
      "[TEST] End of Epoch 0, Avg Loss: 1.6125, Accuracy: 91.22%\n"
     ]
    },
    {
     "name": "stderr",
     "output_type": "stream",
     "text": []
    },
    {
     "name": "stdout",
     "output_type": "stream",
     "text": [
      "[TRAIN] End of Epoch 0, Avg Loss: 1.3004, Accuracy: 100.00%\n"
     ]
    },
    {
     "name": "stderr",
     "output_type": "stream",
     "text": [
      "Training Epochs: 100%|██████████| 2/2 [00:03<00:00,  1.71s/it]\n"
     ]
    },
    {
     "name": "stdout",
     "output_type": "stream",
     "text": [
      "[TRAIN] End of Epoch 1, Avg Loss: 1.2956, Accuracy: 100.00%\n"
     ]
    },
    {
     "name": "stderr",
     "output_type": "stream",
     "text": [
      "Testing Epochs: 100%|██████████| 1/1 [00:00<00:00,  2.37it/s]\n",
      "TOTAL Epochs:  42%|████▏     | 101/240 [06:14<08:39,  3.74s/it]"
     ]
    },
    {
     "name": "stdout",
     "output_type": "stream",
     "text": [
      "[TEST] End of Epoch 0, Avg Loss: 1.6431, Accuracy: 91.52%\n"
     ]
    },
    {
     "name": "stderr",
     "output_type": "stream",
     "text": []
    },
    {
     "name": "stdout",
     "output_type": "stream",
     "text": [
      "[TRAIN] End of Epoch 0, Avg Loss: 1.3026, Accuracy: 100.00%\n"
     ]
    },
    {
     "name": "stderr",
     "output_type": "stream",
     "text": [
      "Training Epochs: 100%|██████████| 2/2 [00:03<00:00,  1.69s/it]\n"
     ]
    },
    {
     "name": "stdout",
     "output_type": "stream",
     "text": [
      "[TRAIN] End of Epoch 1, Avg Loss: 1.2989, Accuracy: 100.00%\n"
     ]
    },
    {
     "name": "stderr",
     "output_type": "stream",
     "text": [
      "Testing Epochs: 100%|██████████| 1/1 [00:00<00:00,  2.34it/s]\n",
      "TOTAL Epochs:  42%|████▎     | 102/240 [06:18<08:39,  3.76s/it]"
     ]
    },
    {
     "name": "stdout",
     "output_type": "stream",
     "text": [
      "[TEST] End of Epoch 0, Avg Loss: 1.6353, Accuracy: 90.18%\n"
     ]
    },
    {
     "name": "stderr",
     "output_type": "stream",
     "text": []
    },
    {
     "name": "stdout",
     "output_type": "stream",
     "text": [
      "[TRAIN] End of Epoch 0, Avg Loss: 1.2975, Accuracy: 100.00%\n"
     ]
    },
    {
     "name": "stderr",
     "output_type": "stream",
     "text": [
      "Training Epochs: 100%|██████████| 2/2 [00:03<00:00,  1.69s/it]\n"
     ]
    },
    {
     "name": "stdout",
     "output_type": "stream",
     "text": [
      "[TRAIN] End of Epoch 1, Avg Loss: 1.3048, Accuracy: 99.87%\n"
     ]
    },
    {
     "name": "stderr",
     "output_type": "stream",
     "text": [
      "Testing Epochs: 100%|██████████| 1/1 [00:00<00:00,  2.36it/s]\n",
      "TOTAL Epochs:  43%|████▎     | 103/240 [06:21<08:37,  3.78s/it]"
     ]
    },
    {
     "name": "stdout",
     "output_type": "stream",
     "text": [
      "[TEST] End of Epoch 0, Avg Loss: 1.6452, Accuracy: 88.99%\n"
     ]
    },
    {
     "name": "stderr",
     "output_type": "stream",
     "text": []
    },
    {
     "name": "stdout",
     "output_type": "stream",
     "text": [
      "[TRAIN] End of Epoch 0, Avg Loss: 1.3027, Accuracy: 100.00%\n"
     ]
    },
    {
     "name": "stderr",
     "output_type": "stream",
     "text": [
      "Training Epochs: 100%|██████████| 2/2 [00:03<00:00,  1.70s/it]\n"
     ]
    },
    {
     "name": "stdout",
     "output_type": "stream",
     "text": [
      "[TRAIN] End of Epoch 1, Avg Loss: 1.3085, Accuracy: 100.00%\n"
     ]
    },
    {
     "name": "stderr",
     "output_type": "stream",
     "text": [
      "Testing Epochs: 100%|██████████| 1/1 [00:00<00:00,  2.33it/s]\n",
      "TOTAL Epochs:  43%|████▎     | 104/240 [06:25<08:36,  3.80s/it]"
     ]
    },
    {
     "name": "stdout",
     "output_type": "stream",
     "text": [
      "[TEST] End of Epoch 0, Avg Loss: 1.6417, Accuracy: 91.07%\n"
     ]
    },
    {
     "name": "stderr",
     "output_type": "stream",
     "text": []
    },
    {
     "name": "stdout",
     "output_type": "stream",
     "text": [
      "[TRAIN] End of Epoch 0, Avg Loss: 1.3007, Accuracy: 100.00%\n"
     ]
    },
    {
     "name": "stderr",
     "output_type": "stream",
     "text": [
      "Training Epochs: 100%|██████████| 2/2 [00:02<00:00,  1.08s/it]\n"
     ]
    },
    {
     "name": "stdout",
     "output_type": "stream",
     "text": [
      "[TRAIN] End of Epoch 1, Avg Loss: 1.2953, Accuracy: 100.00%\n"
     ]
    },
    {
     "name": "stderr",
     "output_type": "stream",
     "text": [
      "Testing Epochs: 100%|██████████| 1/1 [00:00<00:00,  2.34it/s]\n",
      "TOTAL Epochs:  44%|████▍     | 105/240 [06:28<07:44,  3.44s/it]"
     ]
    },
    {
     "name": "stdout",
     "output_type": "stream",
     "text": [
      "[TEST] End of Epoch 0, Avg Loss: 1.6250, Accuracy: 90.62%\n"
     ]
    },
    {
     "name": "stderr",
     "output_type": "stream",
     "text": []
    },
    {
     "name": "stdout",
     "output_type": "stream",
     "text": [
      "[TRAIN] End of Epoch 0, Avg Loss: 1.2949, Accuracy: 100.00%\n"
     ]
    },
    {
     "name": "stderr",
     "output_type": "stream",
     "text": [
      "Training Epochs: 100%|██████████| 2/2 [00:03<00:00,  1.69s/it]\n"
     ]
    },
    {
     "name": "stdout",
     "output_type": "stream",
     "text": [
      "[TRAIN] End of Epoch 1, Avg Loss: 1.2982, Accuracy: 100.00%\n"
     ]
    },
    {
     "name": "stderr",
     "output_type": "stream",
     "text": [
      "Testing Epochs: 100%|██████████| 1/1 [00:00<00:00,  2.36it/s]\n",
      "TOTAL Epochs:  44%|████▍     | 106/240 [06:32<07:55,  3.55s/it]"
     ]
    },
    {
     "name": "stdout",
     "output_type": "stream",
     "text": [
      "[TEST] End of Epoch 0, Avg Loss: 1.6473, Accuracy: 89.88%\n"
     ]
    },
    {
     "name": "stderr",
     "output_type": "stream",
     "text": []
    },
    {
     "name": "stdout",
     "output_type": "stream",
     "text": [
      "[TRAIN] End of Epoch 0, Avg Loss: 1.3083, Accuracy: 100.00%\n"
     ]
    },
    {
     "name": "stderr",
     "output_type": "stream",
     "text": [
      "Training Epochs: 100%|██████████| 2/2 [00:03<00:00,  1.71s/it]\n"
     ]
    },
    {
     "name": "stdout",
     "output_type": "stream",
     "text": [
      "[TRAIN] End of Epoch 1, Avg Loss: 1.3032, Accuracy: 100.00%\n"
     ]
    },
    {
     "name": "stderr",
     "output_type": "stream",
     "text": [
      "Testing Epochs: 100%|██████████| 1/1 [00:00<00:00,  2.43it/s]\n",
      "TOTAL Epochs:  45%|████▍     | 107/240 [06:35<08:03,  3.64s/it]"
     ]
    },
    {
     "name": "stdout",
     "output_type": "stream",
     "text": [
      "[TEST] End of Epoch 0, Avg Loss: 1.6500, Accuracy: 90.33%\n"
     ]
    },
    {
     "name": "stderr",
     "output_type": "stream",
     "text": []
    },
    {
     "name": "stdout",
     "output_type": "stream",
     "text": [
      "[TRAIN] End of Epoch 0, Avg Loss: 1.3029, Accuracy: 100.00%\n"
     ]
    },
    {
     "name": "stderr",
     "output_type": "stream",
     "text": [
      "Training Epochs: 100%|██████████| 2/2 [00:03<00:00,  1.71s/it]\n"
     ]
    },
    {
     "name": "stdout",
     "output_type": "stream",
     "text": [
      "[TRAIN] End of Epoch 1, Avg Loss: 1.3025, Accuracy: 100.00%\n"
     ]
    },
    {
     "name": "stderr",
     "output_type": "stream",
     "text": [
      "Testing Epochs: 100%|██████████| 1/1 [00:00<00:00,  2.36it/s]\n",
      "TOTAL Epochs:  45%|████▌     | 108/240 [06:39<08:08,  3.70s/it]"
     ]
    },
    {
     "name": "stdout",
     "output_type": "stream",
     "text": [
      "[TEST] End of Epoch 0, Avg Loss: 1.6531, Accuracy: 90.48%\n"
     ]
    },
    {
     "name": "stderr",
     "output_type": "stream",
     "text": []
    },
    {
     "name": "stdout",
     "output_type": "stream",
     "text": [
      "[TRAIN] End of Epoch 0, Avg Loss: 1.2977, Accuracy: 100.00%\n"
     ]
    },
    {
     "name": "stderr",
     "output_type": "stream",
     "text": [
      "Training Epochs: 100%|██████████| 2/2 [00:03<00:00,  1.71s/it]\n"
     ]
    },
    {
     "name": "stdout",
     "output_type": "stream",
     "text": [
      "[TRAIN] End of Epoch 1, Avg Loss: 1.3007, Accuracy: 100.00%\n"
     ]
    },
    {
     "name": "stderr",
     "output_type": "stream",
     "text": [
      "Testing Epochs: 100%|██████████| 1/1 [00:00<00:00,  2.43it/s]\n",
      "TOTAL Epochs:  45%|████▌     | 109/240 [06:43<08:10,  3.74s/it]"
     ]
    },
    {
     "name": "stdout",
     "output_type": "stream",
     "text": [
      "[TEST] End of Epoch 0, Avg Loss: 1.6531, Accuracy: 90.77%\n"
     ]
    },
    {
     "name": "stderr",
     "output_type": "stream",
     "text": []
    },
    {
     "name": "stdout",
     "output_type": "stream",
     "text": [
      "[TRAIN] End of Epoch 0, Avg Loss: 1.2994, Accuracy: 100.00%\n"
     ]
    },
    {
     "name": "stderr",
     "output_type": "stream",
     "text": [
      "Training Epochs: 100%|██████████| 2/2 [00:03<00:00,  1.72s/it]\n"
     ]
    },
    {
     "name": "stdout",
     "output_type": "stream",
     "text": [
      "[TRAIN] End of Epoch 1, Avg Loss: 1.2936, Accuracy: 100.00%\n"
     ]
    },
    {
     "name": "stderr",
     "output_type": "stream",
     "text": [
      "Testing Epochs: 100%|██████████| 1/1 [00:00<00:00,  2.35it/s]\n",
      "TOTAL Epochs:  46%|████▌     | 110/240 [06:47<08:11,  3.78s/it]"
     ]
    },
    {
     "name": "stdout",
     "output_type": "stream",
     "text": [
      "[TEST] End of Epoch 0, Avg Loss: 1.6588, Accuracy: 90.33%\n"
     ]
    },
    {
     "name": "stderr",
     "output_type": "stream",
     "text": []
    },
    {
     "name": "stdout",
     "output_type": "stream",
     "text": [
      "[TRAIN] End of Epoch 0, Avg Loss: 1.2975, Accuracy: 100.00%\n"
     ]
    },
    {
     "name": "stderr",
     "output_type": "stream",
     "text": [
      "Training Epochs: 100%|██████████| 2/2 [00:03<00:00,  1.73s/it]\n"
     ]
    },
    {
     "name": "stdout",
     "output_type": "stream",
     "text": [
      "[TRAIN] End of Epoch 1, Avg Loss: 1.2848, Accuracy: 100.00%\n"
     ]
    },
    {
     "name": "stderr",
     "output_type": "stream",
     "text": [
      "Testing Epochs: 100%|██████████| 1/1 [00:00<00:00,  2.26it/s]\n",
      "TOTAL Epochs:  46%|████▋     | 111/240 [06:51<08:12,  3.82s/it]"
     ]
    },
    {
     "name": "stdout",
     "output_type": "stream",
     "text": [
      "[TEST] End of Epoch 0, Avg Loss: 1.6477, Accuracy: 91.37%\n"
     ]
    },
    {
     "name": "stderr",
     "output_type": "stream",
     "text": []
    },
    {
     "name": "stdout",
     "output_type": "stream",
     "text": [
      "[TRAIN] End of Epoch 0, Avg Loss: 1.2854, Accuracy: 100.00%\n"
     ]
    },
    {
     "name": "stderr",
     "output_type": "stream",
     "text": [
      "Training Epochs: 100%|██████████| 2/2 [00:03<00:00,  1.73s/it]\n"
     ]
    },
    {
     "name": "stdout",
     "output_type": "stream",
     "text": [
      "[TRAIN] End of Epoch 1, Avg Loss: 1.2927, Accuracy: 100.00%\n"
     ]
    },
    {
     "name": "stderr",
     "output_type": "stream",
     "text": [
      "Testing Epochs: 100%|██████████| 1/1 [00:00<00:00,  2.44it/s]\n",
      "TOTAL Epochs:  47%|████▋     | 112/240 [06:55<08:11,  3.84s/it]"
     ]
    },
    {
     "name": "stdout",
     "output_type": "stream",
     "text": [
      "[TEST] End of Epoch 0, Avg Loss: 1.6476, Accuracy: 90.03%\n"
     ]
    },
    {
     "name": "stderr",
     "output_type": "stream",
     "text": []
    },
    {
     "name": "stdout",
     "output_type": "stream",
     "text": [
      "[TRAIN] End of Epoch 0, Avg Loss: 1.2908, Accuracy: 100.00%\n"
     ]
    },
    {
     "name": "stderr",
     "output_type": "stream",
     "text": [
      "Training Epochs: 100%|██████████| 2/2 [00:03<00:00,  1.71s/it]\n"
     ]
    },
    {
     "name": "stdout",
     "output_type": "stream",
     "text": [
      "[TRAIN] End of Epoch 1, Avg Loss: 1.2971, Accuracy: 100.00%\n"
     ]
    },
    {
     "name": "stderr",
     "output_type": "stream",
     "text": [
      "Testing Epochs: 100%|██████████| 1/1 [00:00<00:00,  2.45it/s]\n",
      "TOTAL Epochs:  47%|████▋     | 113/240 [06:59<08:07,  3.84s/it]"
     ]
    },
    {
     "name": "stdout",
     "output_type": "stream",
     "text": [
      "[TEST] End of Epoch 0, Avg Loss: 1.6659, Accuracy: 90.48%\n"
     ]
    },
    {
     "name": "stderr",
     "output_type": "stream",
     "text": []
    },
    {
     "name": "stdout",
     "output_type": "stream",
     "text": [
      "[TRAIN] End of Epoch 0, Avg Loss: 1.2983, Accuracy: 99.94%\n"
     ]
    },
    {
     "name": "stderr",
     "output_type": "stream",
     "text": [
      "Training Epochs: 100%|██████████| 2/2 [00:02<00:00,  1.09s/it]\n"
     ]
    },
    {
     "name": "stdout",
     "output_type": "stream",
     "text": [
      "[TRAIN] End of Epoch 1, Avg Loss: 1.2994, Accuracy: 100.00%\n"
     ]
    },
    {
     "name": "stderr",
     "output_type": "stream",
     "text": [
      "Testing Epochs: 100%|██████████| 1/1 [00:00<00:00,  2.40it/s]\n",
      "TOTAL Epochs:  48%|████▊     | 114/240 [07:01<07:17,  3.47s/it]"
     ]
    },
    {
     "name": "stdout",
     "output_type": "stream",
     "text": [
      "[TEST] End of Epoch 0, Avg Loss: 1.6529, Accuracy: 90.03%\n"
     ]
    },
    {
     "name": "stderr",
     "output_type": "stream",
     "text": []
    },
    {
     "name": "stdout",
     "output_type": "stream",
     "text": [
      "[TRAIN] End of Epoch 0, Avg Loss: 1.2983, Accuracy: 100.00%\n"
     ]
    },
    {
     "name": "stderr",
     "output_type": "stream",
     "text": [
      "Training Epochs: 100%|██████████| 2/2 [00:03<00:00,  1.71s/it]\n"
     ]
    },
    {
     "name": "stdout",
     "output_type": "stream",
     "text": [
      "[TRAIN] End of Epoch 1, Avg Loss: 1.2992, Accuracy: 100.00%\n"
     ]
    },
    {
     "name": "stderr",
     "output_type": "stream",
     "text": [
      "Testing Epochs: 100%|██████████| 1/1 [00:00<00:00,  2.46it/s]\n",
      "TOTAL Epochs:  48%|████▊     | 115/240 [07:05<07:27,  3.58s/it]"
     ]
    },
    {
     "name": "stdout",
     "output_type": "stream",
     "text": [
      "[TEST] End of Epoch 0, Avg Loss: 1.6459, Accuracy: 90.33%\n"
     ]
    },
    {
     "name": "stderr",
     "output_type": "stream",
     "text": []
    },
    {
     "name": "stdout",
     "output_type": "stream",
     "text": [
      "[TRAIN] End of Epoch 0, Avg Loss: 1.2895, Accuracy: 100.00%\n"
     ]
    },
    {
     "name": "stderr",
     "output_type": "stream",
     "text": [
      "Training Epochs: 100%|██████████| 2/2 [00:03<00:00,  1.72s/it]\n"
     ]
    },
    {
     "name": "stdout",
     "output_type": "stream",
     "text": [
      "[TRAIN] End of Epoch 1, Avg Loss: 1.2833, Accuracy: 100.00%\n"
     ]
    },
    {
     "name": "stderr",
     "output_type": "stream",
     "text": [
      "Testing Epochs: 100%|██████████| 1/1 [00:00<00:00,  2.32it/s]\n",
      "TOTAL Epochs:  48%|████▊     | 116/240 [07:09<07:35,  3.67s/it]"
     ]
    },
    {
     "name": "stdout",
     "output_type": "stream",
     "text": [
      "[TEST] End of Epoch 0, Avg Loss: 1.6442, Accuracy: 90.62%\n"
     ]
    },
    {
     "name": "stderr",
     "output_type": "stream",
     "text": []
    },
    {
     "name": "stdout",
     "output_type": "stream",
     "text": [
      "[TRAIN] End of Epoch 0, Avg Loss: 1.2866, Accuracy: 100.00%\n"
     ]
    },
    {
     "name": "stderr",
     "output_type": "stream",
     "text": [
      "Training Epochs: 100%|██████████| 2/2 [00:03<00:00,  1.73s/it]\n"
     ]
    },
    {
     "name": "stdout",
     "output_type": "stream",
     "text": [
      "[TRAIN] End of Epoch 1, Avg Loss: 1.2853, Accuracy: 100.00%\n"
     ]
    },
    {
     "name": "stderr",
     "output_type": "stream",
     "text": [
      "Testing Epochs: 100%|██████████| 1/1 [00:00<00:00,  2.23it/s]\n",
      "TOTAL Epochs:  49%|████▉     | 117/240 [07:13<07:40,  3.74s/it]"
     ]
    },
    {
     "name": "stdout",
     "output_type": "stream",
     "text": [
      "[TEST] End of Epoch 0, Avg Loss: 1.6416, Accuracy: 91.67%\n"
     ]
    },
    {
     "name": "stderr",
     "output_type": "stream",
     "text": []
    },
    {
     "name": "stdout",
     "output_type": "stream",
     "text": [
      "[TRAIN] End of Epoch 0, Avg Loss: 1.2837, Accuracy: 100.00%\n"
     ]
    },
    {
     "name": "stderr",
     "output_type": "stream",
     "text": [
      "Training Epochs: 100%|██████████| 2/2 [00:03<00:00,  1.71s/it]\n"
     ]
    },
    {
     "name": "stdout",
     "output_type": "stream",
     "text": [
      "[TRAIN] End of Epoch 1, Avg Loss: 1.2828, Accuracy: 100.00%\n"
     ]
    },
    {
     "name": "stderr",
     "output_type": "stream",
     "text": [
      "Testing Epochs: 100%|██████████| 1/1 [00:00<00:00,  2.40it/s]\n",
      "TOTAL Epochs:  49%|████▉     | 118/240 [07:17<07:40,  3.78s/it]"
     ]
    },
    {
     "name": "stdout",
     "output_type": "stream",
     "text": [
      "[TEST] End of Epoch 0, Avg Loss: 1.6329, Accuracy: 92.11%\n"
     ]
    },
    {
     "name": "stderr",
     "output_type": "stream",
     "text": []
    },
    {
     "name": "stdout",
     "output_type": "stream",
     "text": [
      "[TRAIN] End of Epoch 0, Avg Loss: 1.2912, Accuracy: 100.00%\n"
     ]
    },
    {
     "name": "stderr",
     "output_type": "stream",
     "text": [
      "Training Epochs: 100%|██████████| 2/2 [00:03<00:00,  1.71s/it]\n"
     ]
    },
    {
     "name": "stdout",
     "output_type": "stream",
     "text": [
      "[TRAIN] End of Epoch 1, Avg Loss: 1.2926, Accuracy: 100.00%\n"
     ]
    },
    {
     "name": "stderr",
     "output_type": "stream",
     "text": [
      "Testing Epochs: 100%|██████████| 1/1 [00:00<00:00,  2.42it/s]\n",
      "TOTAL Epochs:  50%|████▉     | 119/240 [07:21<07:39,  3.79s/it]"
     ]
    },
    {
     "name": "stdout",
     "output_type": "stream",
     "text": [
      "[TEST] End of Epoch 0, Avg Loss: 1.6512, Accuracy: 89.88%\n"
     ]
    },
    {
     "name": "stderr",
     "output_type": "stream",
     "text": []
    },
    {
     "name": "stdout",
     "output_type": "stream",
     "text": [
      "[TRAIN] End of Epoch 0, Avg Loss: 1.2914, Accuracy: 100.00%\n"
     ]
    },
    {
     "name": "stderr",
     "output_type": "stream",
     "text": [
      "Training Epochs: 100%|██████████| 2/2 [00:03<00:00,  1.71s/it]\n"
     ]
    },
    {
     "name": "stdout",
     "output_type": "stream",
     "text": [
      "[TRAIN] End of Epoch 1, Avg Loss: 1.2848, Accuracy: 100.00%\n"
     ]
    },
    {
     "name": "stderr",
     "output_type": "stream",
     "text": [
      "Testing Epochs: 100%|██████████| 1/1 [00:00<00:00,  2.42it/s]\n",
      "TOTAL Epochs:  50%|█████     | 120/240 [07:24<07:36,  3.81s/it]"
     ]
    },
    {
     "name": "stdout",
     "output_type": "stream",
     "text": [
      "[TEST] End of Epoch 0, Avg Loss: 1.6546, Accuracy: 91.67%\n"
     ]
    },
    {
     "name": "stderr",
     "output_type": "stream",
     "text": []
    },
    {
     "name": "stdout",
     "output_type": "stream",
     "text": [
      "[TRAIN] End of Epoch 0, Avg Loss: 1.2837, Accuracy: 100.00%\n"
     ]
    },
    {
     "name": "stderr",
     "output_type": "stream",
     "text": [
      "Training Epochs: 100%|██████████| 2/2 [00:03<00:00,  1.69s/it]\n"
     ]
    },
    {
     "name": "stdout",
     "output_type": "stream",
     "text": [
      "[TRAIN] End of Epoch 1, Avg Loss: 1.2903, Accuracy: 99.94%\n"
     ]
    },
    {
     "name": "stderr",
     "output_type": "stream",
     "text": [
      "Testing Epochs: 100%|██████████| 1/1 [00:00<00:00,  2.42it/s]\n",
      "TOTAL Epochs:  50%|█████     | 121/240 [07:28<07:33,  3.81s/it]"
     ]
    },
    {
     "name": "stdout",
     "output_type": "stream",
     "text": [
      "[TEST] End of Epoch 0, Avg Loss: 1.6585, Accuracy: 90.03%\n"
     ]
    },
    {
     "name": "stderr",
     "output_type": "stream",
     "text": []
    },
    {
     "name": "stdout",
     "output_type": "stream",
     "text": [
      "[TRAIN] End of Epoch 0, Avg Loss: 1.2894, Accuracy: 100.00%\n"
     ]
    },
    {
     "name": "stderr",
     "output_type": "stream",
     "text": [
      "Training Epochs: 100%|██████████| 2/2 [00:02<00:00,  1.08s/it]\n"
     ]
    },
    {
     "name": "stdout",
     "output_type": "stream",
     "text": [
      "[TRAIN] End of Epoch 1, Avg Loss: 1.2844, Accuracy: 100.00%\n"
     ]
    },
    {
     "name": "stderr",
     "output_type": "stream",
     "text": [
      "Testing Epochs: 100%|██████████| 1/1 [00:00<00:00,  2.34it/s]\n",
      "TOTAL Epochs:  51%|█████     | 122/240 [07:31<06:46,  3.44s/it]"
     ]
    },
    {
     "name": "stdout",
     "output_type": "stream",
     "text": [
      "[TEST] End of Epoch 0, Avg Loss: 1.6176, Accuracy: 92.86%\n"
     ]
    },
    {
     "name": "stderr",
     "output_type": "stream",
     "text": []
    },
    {
     "name": "stdout",
     "output_type": "stream",
     "text": [
      "[TRAIN] End of Epoch 0, Avg Loss: 1.2810, Accuracy: 100.00%\n"
     ]
    },
    {
     "name": "stderr",
     "output_type": "stream",
     "text": [
      "Training Epochs: 100%|██████████| 2/2 [00:03<00:00,  1.71s/it]\n"
     ]
    },
    {
     "name": "stdout",
     "output_type": "stream",
     "text": [
      "[TRAIN] End of Epoch 1, Avg Loss: 1.2795, Accuracy: 100.00%\n"
     ]
    },
    {
     "name": "stderr",
     "output_type": "stream",
     "text": [
      "Testing Epochs: 100%|██████████| 1/1 [00:00<00:00,  2.45it/s]\n",
      "TOTAL Epochs:  51%|█████▏    | 123/240 [07:35<06:56,  3.56s/it]"
     ]
    },
    {
     "name": "stdout",
     "output_type": "stream",
     "text": [
      "[TEST] End of Epoch 0, Avg Loss: 1.6631, Accuracy: 90.77%\n"
     ]
    },
    {
     "name": "stderr",
     "output_type": "stream",
     "text": []
    },
    {
     "name": "stdout",
     "output_type": "stream",
     "text": [
      "[TRAIN] End of Epoch 0, Avg Loss: 1.2817, Accuracy: 100.00%\n"
     ]
    },
    {
     "name": "stderr",
     "output_type": "stream",
     "text": [
      "Training Epochs: 100%|██████████| 2/2 [00:03<00:00,  1.71s/it]\n"
     ]
    },
    {
     "name": "stdout",
     "output_type": "stream",
     "text": [
      "[TRAIN] End of Epoch 1, Avg Loss: 1.2811, Accuracy: 100.00%\n"
     ]
    },
    {
     "name": "stderr",
     "output_type": "stream",
     "text": [
      "Testing Epochs: 100%|██████████| 1/1 [00:00<00:00,  2.44it/s]\n",
      "TOTAL Epochs:  52%|█████▏    | 124/240 [07:39<07:02,  3.64s/it]"
     ]
    },
    {
     "name": "stdout",
     "output_type": "stream",
     "text": [
      "[TEST] End of Epoch 0, Avg Loss: 1.6356, Accuracy: 92.86%\n"
     ]
    },
    {
     "name": "stderr",
     "output_type": "stream",
     "text": []
    },
    {
     "name": "stdout",
     "output_type": "stream",
     "text": [
      "[TRAIN] End of Epoch 0, Avg Loss: 1.2818, Accuracy: 100.00%\n"
     ]
    },
    {
     "name": "stderr",
     "output_type": "stream",
     "text": [
      "Training Epochs: 100%|██████████| 2/2 [00:03<00:00,  1.71s/it]\n"
     ]
    },
    {
     "name": "stdout",
     "output_type": "stream",
     "text": [
      "[TRAIN] End of Epoch 1, Avg Loss: 1.2796, Accuracy: 100.00%\n"
     ]
    },
    {
     "name": "stderr",
     "output_type": "stream",
     "text": [
      "Testing Epochs: 100%|██████████| 1/1 [00:00<00:00,  2.28it/s]\n",
      "TOTAL Epochs:  52%|█████▏    | 125/240 [07:42<07:06,  3.71s/it]"
     ]
    },
    {
     "name": "stdout",
     "output_type": "stream",
     "text": [
      "[TEST] End of Epoch 0, Avg Loss: 1.6722, Accuracy: 90.92%\n"
     ]
    },
    {
     "name": "stderr",
     "output_type": "stream",
     "text": []
    },
    {
     "name": "stdout",
     "output_type": "stream",
     "text": [
      "[TRAIN] End of Epoch 0, Avg Loss: 1.2802, Accuracy: 100.00%\n"
     ]
    },
    {
     "name": "stderr",
     "output_type": "stream",
     "text": [
      "Training Epochs: 100%|██████████| 2/2 [00:03<00:00,  1.71s/it]\n"
     ]
    },
    {
     "name": "stdout",
     "output_type": "stream",
     "text": [
      "[TRAIN] End of Epoch 1, Avg Loss: 1.2805, Accuracy: 100.00%\n"
     ]
    },
    {
     "name": "stderr",
     "output_type": "stream",
     "text": [
      "Testing Epochs: 100%|██████████| 1/1 [00:00<00:00,  2.41it/s]\n",
      "TOTAL Epochs:  52%|█████▎    | 126/240 [07:46<07:07,  3.75s/it]"
     ]
    },
    {
     "name": "stdout",
     "output_type": "stream",
     "text": [
      "[TEST] End of Epoch 0, Avg Loss: 1.6535, Accuracy: 89.43%\n"
     ]
    },
    {
     "name": "stderr",
     "output_type": "stream",
     "text": []
    },
    {
     "name": "stdout",
     "output_type": "stream",
     "text": [
      "[TRAIN] End of Epoch 0, Avg Loss: 1.2771, Accuracy: 100.00%\n"
     ]
    },
    {
     "name": "stderr",
     "output_type": "stream",
     "text": [
      "Training Epochs: 100%|██████████| 2/2 [00:03<00:00,  1.71s/it]\n"
     ]
    },
    {
     "name": "stdout",
     "output_type": "stream",
     "text": [
      "[TRAIN] End of Epoch 1, Avg Loss: 1.2796, Accuracy: 100.00%\n"
     ]
    },
    {
     "name": "stderr",
     "output_type": "stream",
     "text": [
      "Testing Epochs: 100%|██████████| 1/1 [00:00<00:00,  2.35it/s]\n",
      "TOTAL Epochs:  53%|█████▎    | 127/240 [07:50<07:07,  3.79s/it]"
     ]
    },
    {
     "name": "stdout",
     "output_type": "stream",
     "text": [
      "[TEST] End of Epoch 0, Avg Loss: 1.6240, Accuracy: 92.41%\n"
     ]
    },
    {
     "name": "stderr",
     "output_type": "stream",
     "text": []
    },
    {
     "name": "stdout",
     "output_type": "stream",
     "text": [
      "[TRAIN] End of Epoch 0, Avg Loss: 1.2761, Accuracy: 100.00%\n"
     ]
    },
    {
     "name": "stderr",
     "output_type": "stream",
     "text": [
      "Training Epochs: 100%|██████████| 2/2 [00:03<00:00,  1.70s/it]\n"
     ]
    },
    {
     "name": "stdout",
     "output_type": "stream",
     "text": [
      "[TRAIN] End of Epoch 1, Avg Loss: 1.2743, Accuracy: 100.00%\n"
     ]
    },
    {
     "name": "stderr",
     "output_type": "stream",
     "text": [
      "Testing Epochs: 100%|██████████| 1/1 [00:00<00:00,  2.45it/s]\n",
      "TOTAL Epochs:  53%|█████▎    | 128/240 [07:54<07:05,  3.80s/it]"
     ]
    },
    {
     "name": "stdout",
     "output_type": "stream",
     "text": [
      "[TEST] End of Epoch 0, Avg Loss: 1.6405, Accuracy: 91.52%\n"
     ]
    },
    {
     "name": "stderr",
     "output_type": "stream",
     "text": []
    },
    {
     "name": "stdout",
     "output_type": "stream",
     "text": [
      "[TRAIN] End of Epoch 0, Avg Loss: 1.2780, Accuracy: 100.00%\n"
     ]
    },
    {
     "name": "stderr",
     "output_type": "stream",
     "text": [
      "Training Epochs: 100%|██████████| 2/2 [00:03<00:00,  1.70s/it]\n"
     ]
    },
    {
     "name": "stdout",
     "output_type": "stream",
     "text": [
      "[TRAIN] End of Epoch 1, Avg Loss: 1.2789, Accuracy: 100.00%\n"
     ]
    },
    {
     "name": "stderr",
     "output_type": "stream",
     "text": [
      "Testing Epochs: 100%|██████████| 1/1 [00:00<00:00,  2.44it/s]\n",
      "TOTAL Epochs:  54%|█████▍    | 129/240 [07:58<07:02,  3.80s/it]"
     ]
    },
    {
     "name": "stdout",
     "output_type": "stream",
     "text": [
      "[TEST] End of Epoch 0, Avg Loss: 1.6656, Accuracy: 90.92%\n"
     ]
    },
    {
     "name": "stderr",
     "output_type": "stream",
     "text": []
    },
    {
     "name": "stdout",
     "output_type": "stream",
     "text": [
      "[TRAIN] End of Epoch 0, Avg Loss: 1.2752, Accuracy: 100.00%\n"
     ]
    },
    {
     "name": "stderr",
     "output_type": "stream",
     "text": [
      "Training Epochs: 100%|██████████| 2/2 [00:03<00:00,  1.70s/it]\n"
     ]
    },
    {
     "name": "stdout",
     "output_type": "stream",
     "text": [
      "[TRAIN] End of Epoch 1, Avg Loss: 1.2770, Accuracy: 100.00%\n"
     ]
    },
    {
     "name": "stderr",
     "output_type": "stream",
     "text": [
      "Testing Epochs: 100%|██████████| 1/1 [00:00<00:00, -1.19it/s]\n",
      "TOTAL Epochs:  54%|█████▍    | 130/240 [08:00<06:17,  3.43s/it]"
     ]
    },
    {
     "name": "stdout",
     "output_type": "stream",
     "text": [
      "[TEST] End of Epoch 0, Avg Loss: 1.6195, Accuracy: 91.52%\n"
     ]
    },
    {
     "name": "stderr",
     "output_type": "stream",
     "text": []
    },
    {
     "name": "stdout",
     "output_type": "stream",
     "text": [
      "[TRAIN] End of Epoch 0, Avg Loss: 1.2871, Accuracy: 99.81%\n"
     ]
    },
    {
     "name": "stderr",
     "output_type": "stream",
     "text": [
      "Training Epochs: 100%|██████████| 2/2 [00:03<00:00,  1.71s/it]\n"
     ]
    },
    {
     "name": "stdout",
     "output_type": "stream",
     "text": [
      "[TRAIN] End of Epoch 1, Avg Loss: 1.2853, Accuracy: 100.00%\n"
     ]
    },
    {
     "name": "stderr",
     "output_type": "stream",
     "text": [
      "Testing Epochs: 100%|██████████| 1/1 [00:00<00:00,  2.47it/s]\n",
      "TOTAL Epochs:  55%|█████▍    | 131/240 [08:04<06:27,  3.55s/it]"
     ]
    },
    {
     "name": "stdout",
     "output_type": "stream",
     "text": [
      "[TEST] End of Epoch 0, Avg Loss: 1.6377, Accuracy: 91.96%\n"
     ]
    },
    {
     "name": "stderr",
     "output_type": "stream",
     "text": []
    },
    {
     "name": "stdout",
     "output_type": "stream",
     "text": [
      "[TRAIN] End of Epoch 0, Avg Loss: 1.2798, Accuracy: 100.00%\n"
     ]
    },
    {
     "name": "stderr",
     "output_type": "stream",
     "text": [
      "Training Epochs: 100%|██████████| 2/2 [00:03<00:00,  1.71s/it]\n"
     ]
    },
    {
     "name": "stdout",
     "output_type": "stream",
     "text": [
      "[TRAIN] End of Epoch 1, Avg Loss: 1.2797, Accuracy: 100.00%\n"
     ]
    },
    {
     "name": "stderr",
     "output_type": "stream",
     "text": [
      "Testing Epochs: 100%|██████████| 1/1 [00:00<00:00,  2.34it/s]\n",
      "TOTAL Epochs:  55%|█████▌    | 132/240 [08:08<06:33,  3.64s/it]"
     ]
    },
    {
     "name": "stdout",
     "output_type": "stream",
     "text": [
      "[TEST] End of Epoch 0, Avg Loss: 1.6601, Accuracy: 90.48%\n"
     ]
    },
    {
     "name": "stderr",
     "output_type": "stream",
     "text": []
    },
    {
     "name": "stdout",
     "output_type": "stream",
     "text": [
      "[TRAIN] End of Epoch 0, Avg Loss: 1.2807, Accuracy: 100.00%\n"
     ]
    },
    {
     "name": "stderr",
     "output_type": "stream",
     "text": [
      "Training Epochs: 100%|██████████| 2/2 [00:03<00:00,  1.71s/it]\n"
     ]
    },
    {
     "name": "stdout",
     "output_type": "stream",
     "text": [
      "[TRAIN] End of Epoch 1, Avg Loss: 1.2762, Accuracy: 100.00%\n"
     ]
    },
    {
     "name": "stderr",
     "output_type": "stream",
     "text": [
      "Testing Epochs: 100%|██████████| 1/1 [00:00<00:00,  2.36it/s]\n",
      "TOTAL Epochs:  55%|█████▌    | 133/240 [08:12<06:36,  3.71s/it]"
     ]
    },
    {
     "name": "stdout",
     "output_type": "stream",
     "text": [
      "[TEST] End of Epoch 0, Avg Loss: 1.6359, Accuracy: 91.82%\n"
     ]
    },
    {
     "name": "stderr",
     "output_type": "stream",
     "text": []
    },
    {
     "name": "stdout",
     "output_type": "stream",
     "text": [
      "[TRAIN] End of Epoch 0, Avg Loss: 1.2757, Accuracy: 100.00%\n"
     ]
    },
    {
     "name": "stderr",
     "output_type": "stream",
     "text": [
      "Training Epochs: 100%|██████████| 2/2 [00:03<00:00,  1.71s/it]\n"
     ]
    },
    {
     "name": "stdout",
     "output_type": "stream",
     "text": [
      "[TRAIN] End of Epoch 1, Avg Loss: 1.2751, Accuracy: 100.00%\n"
     ]
    },
    {
     "name": "stderr",
     "output_type": "stream",
     "text": [
      "Testing Epochs: 100%|██████████| 1/1 [00:00<00:00,  2.36it/s]\n",
      "TOTAL Epochs:  56%|█████▌    | 134/240 [08:16<06:37,  3.75s/it]"
     ]
    },
    {
     "name": "stdout",
     "output_type": "stream",
     "text": [
      "[TEST] End of Epoch 0, Avg Loss: 1.6556, Accuracy: 91.37%\n"
     ]
    },
    {
     "name": "stderr",
     "output_type": "stream",
     "text": []
    },
    {
     "name": "stdout",
     "output_type": "stream",
     "text": [
      "[TRAIN] End of Epoch 0, Avg Loss: 1.2726, Accuracy: 100.00%\n"
     ]
    },
    {
     "name": "stderr",
     "output_type": "stream",
     "text": [
      "Training Epochs: 100%|██████████| 2/2 [00:03<00:00,  1.70s/it]\n"
     ]
    },
    {
     "name": "stdout",
     "output_type": "stream",
     "text": [
      "[TRAIN] End of Epoch 1, Avg Loss: 1.2721, Accuracy: 100.00%\n"
     ]
    },
    {
     "name": "stderr",
     "output_type": "stream",
     "text": [
      "Testing Epochs: 100%|██████████| 1/1 [00:00<00:00,  2.43it/s]\n",
      "TOTAL Epochs:  56%|█████▋    | 135/240 [08:20<06:36,  3.77s/it]"
     ]
    },
    {
     "name": "stdout",
     "output_type": "stream",
     "text": [
      "[TEST] End of Epoch 0, Avg Loss: 1.6478, Accuracy: 90.77%\n"
     ]
    },
    {
     "name": "stderr",
     "output_type": "stream",
     "text": []
    },
    {
     "name": "stdout",
     "output_type": "stream",
     "text": [
      "[TRAIN] End of Epoch 0, Avg Loss: 1.2738, Accuracy: 100.00%\n"
     ]
    },
    {
     "name": "stderr",
     "output_type": "stream",
     "text": [
      "Training Epochs: 100%|██████████| 2/2 [00:03<00:00,  1.73s/it]\n"
     ]
    },
    {
     "name": "stdout",
     "output_type": "stream",
     "text": [
      "[TRAIN] End of Epoch 1, Avg Loss: 1.2740, Accuracy: 100.00%\n"
     ]
    },
    {
     "name": "stderr",
     "output_type": "stream",
     "text": [
      "Testing Epochs: 100%|██████████| 1/1 [00:00<00:00,  2.36it/s]\n",
      "TOTAL Epochs:  57%|█████▋    | 136/240 [08:23<06:36,  3.81s/it]"
     ]
    },
    {
     "name": "stdout",
     "output_type": "stream",
     "text": [
      "[TEST] End of Epoch 0, Avg Loss: 1.6387, Accuracy: 91.82%\n"
     ]
    },
    {
     "name": "stderr",
     "output_type": "stream",
     "text": []
    },
    {
     "name": "stdout",
     "output_type": "stream",
     "text": [
      "[TRAIN] End of Epoch 0, Avg Loss: 1.2759, Accuracy: 100.00%\n"
     ]
    },
    {
     "name": "stderr",
     "output_type": "stream",
     "text": [
      "Training Epochs: 100%|██████████| 2/2 [00:03<00:00,  1.70s/it]\n"
     ]
    },
    {
     "name": "stdout",
     "output_type": "stream",
     "text": [
      "[TRAIN] End of Epoch 1, Avg Loss: 1.2729, Accuracy: 100.00%\n"
     ]
    },
    {
     "name": "stderr",
     "output_type": "stream",
     "text": [
      "Testing Epochs: 100%|██████████| 1/1 [00:00<00:00,  2.42it/s]\n",
      "TOTAL Epochs:  57%|█████▋    | 137/240 [08:27<06:32,  3.81s/it]"
     ]
    },
    {
     "name": "stdout",
     "output_type": "stream",
     "text": [
      "[TEST] End of Epoch 0, Avg Loss: 1.6384, Accuracy: 91.67%\n"
     ]
    },
    {
     "name": "stderr",
     "output_type": "stream",
     "text": []
    },
    {
     "name": "stdout",
     "output_type": "stream",
     "text": [
      "[TRAIN] End of Epoch 0, Avg Loss: 1.2707, Accuracy: 100.00%\n"
     ]
    },
    {
     "name": "stderr",
     "output_type": "stream",
     "text": [
      "Training Epochs: 100%|██████████| 2/2 [00:03<00:00,  1.70s/it]\n"
     ]
    },
    {
     "name": "stdout",
     "output_type": "stream",
     "text": [
      "[TRAIN] End of Epoch 1, Avg Loss: 1.2693, Accuracy: 100.00%\n"
     ]
    },
    {
     "name": "stderr",
     "output_type": "stream",
     "text": [
      "Testing Epochs: 100%|██████████| 1/1 [00:00<00:00,  2.19it/s]\n",
      "TOTAL Epochs:  57%|█████▊    | 138/240 [08:31<06:30,  3.83s/it]"
     ]
    },
    {
     "name": "stdout",
     "output_type": "stream",
     "text": [
      "[TEST] End of Epoch 0, Avg Loss: 1.6578, Accuracy: 92.26%\n"
     ]
    },
    {
     "name": "stderr",
     "output_type": "stream",
     "text": []
    },
    {
     "name": "stdout",
     "output_type": "stream",
     "text": [
      "[TRAIN] End of Epoch 0, Avg Loss: 1.2692, Accuracy: 100.00%\n"
     ]
    },
    {
     "name": "stderr",
     "output_type": "stream",
     "text": [
      "Training Epochs: 100%|██████████| 2/2 [00:02<00:00,  1.09s/it]\n"
     ]
    },
    {
     "name": "stdout",
     "output_type": "stream",
     "text": [
      "[TRAIN] End of Epoch 1, Avg Loss: 1.2722, Accuracy: 100.00%\n"
     ]
    },
    {
     "name": "stderr",
     "output_type": "stream",
     "text": [
      "Testing Epochs: 100%|██████████| 1/1 [00:00<00:00,  2.46it/s]\n",
      "TOTAL Epochs:  58%|█████▊    | 139/240 [08:34<05:49,  3.46s/it]"
     ]
    },
    {
     "name": "stdout",
     "output_type": "stream",
     "text": [
      "[TEST] End of Epoch 0, Avg Loss: 1.6598, Accuracy: 92.56%\n"
     ]
    },
    {
     "name": "stderr",
     "output_type": "stream",
     "text": []
    },
    {
     "name": "stdout",
     "output_type": "stream",
     "text": [
      "[TRAIN] End of Epoch 0, Avg Loss: 1.2711, Accuracy: 100.00%\n"
     ]
    },
    {
     "name": "stderr",
     "output_type": "stream",
     "text": [
      "Training Epochs: 100%|██████████| 2/2 [00:03<00:00,  1.71s/it]\n"
     ]
    },
    {
     "name": "stdout",
     "output_type": "stream",
     "text": [
      "[TRAIN] End of Epoch 1, Avg Loss: 1.2692, Accuracy: 100.00%\n"
     ]
    },
    {
     "name": "stderr",
     "output_type": "stream",
     "text": [
      "Testing Epochs: 100%|██████████| 1/1 [00:00<00:00,  2.43it/s]\n",
      "TOTAL Epochs:  58%|█████▊    | 140/240 [08:38<05:57,  3.57s/it]"
     ]
    },
    {
     "name": "stdout",
     "output_type": "stream",
     "text": [
      "[TEST] End of Epoch 0, Avg Loss: 1.6454, Accuracy: 92.71%\n"
     ]
    },
    {
     "name": "stderr",
     "output_type": "stream",
     "text": []
    },
    {
     "name": "stdout",
     "output_type": "stream",
     "text": [
      "[TRAIN] End of Epoch 0, Avg Loss: 1.2691, Accuracy: 100.00%\n"
     ]
    },
    {
     "name": "stderr",
     "output_type": "stream",
     "text": [
      "Training Epochs: 100%|██████████| 2/2 [00:03<00:00,  1.69s/it]\n"
     ]
    },
    {
     "name": "stdout",
     "output_type": "stream",
     "text": [
      "[TRAIN] End of Epoch 1, Avg Loss: 1.2674, Accuracy: 100.00%\n"
     ]
    },
    {
     "name": "stderr",
     "output_type": "stream",
     "text": [
      "Testing Epochs: 100%|██████████| 1/1 [00:00<00:00,  2.39it/s]\n",
      "TOTAL Epochs:  59%|█████▉    | 141/240 [08:41<06:00,  3.64s/it]"
     ]
    },
    {
     "name": "stdout",
     "output_type": "stream",
     "text": [
      "[TEST] End of Epoch 0, Avg Loss: 1.6391, Accuracy: 91.22%\n"
     ]
    },
    {
     "name": "stderr",
     "output_type": "stream",
     "text": []
    },
    {
     "name": "stdout",
     "output_type": "stream",
     "text": [
      "[TRAIN] End of Epoch 0, Avg Loss: 1.2674, Accuracy: 100.00%\n"
     ]
    },
    {
     "name": "stderr",
     "output_type": "stream",
     "text": [
      "Training Epochs: 100%|██████████| 2/2 [00:03<00:00,  1.71s/it]\n"
     ]
    },
    {
     "name": "stdout",
     "output_type": "stream",
     "text": [
      "[TRAIN] End of Epoch 1, Avg Loss: 1.2682, Accuracy: 100.00%\n"
     ]
    },
    {
     "name": "stderr",
     "output_type": "stream",
     "text": [
      "Testing Epochs: 100%|██████████| 1/1 [00:00<00:00,  2.30it/s]\n",
      "TOTAL Epochs:  59%|█████▉    | 142/240 [08:45<06:03,  3.71s/it]"
     ]
    },
    {
     "name": "stdout",
     "output_type": "stream",
     "text": [
      "[TEST] End of Epoch 0, Avg Loss: 1.6441, Accuracy: 93.60%\n"
     ]
    },
    {
     "name": "stderr",
     "output_type": "stream",
     "text": []
    },
    {
     "name": "stdout",
     "output_type": "stream",
     "text": [
      "[TRAIN] End of Epoch 0, Avg Loss: 1.2692, Accuracy: 100.00%\n"
     ]
    },
    {
     "name": "stderr",
     "output_type": "stream",
     "text": [
      "Training Epochs: 100%|██████████| 2/2 [00:03<00:00,  1.73s/it]\n"
     ]
    },
    {
     "name": "stdout",
     "output_type": "stream",
     "text": [
      "[TRAIN] End of Epoch 1, Avg Loss: 1.2720, Accuracy: 100.00%\n"
     ]
    },
    {
     "name": "stderr",
     "output_type": "stream",
     "text": [
      "Testing Epochs: 100%|██████████| 1/1 [00:00<00:00,  2.30it/s]\n",
      "TOTAL Epochs:  60%|█████▉    | 143/240 [08:49<06:05,  3.77s/it]"
     ]
    },
    {
     "name": "stdout",
     "output_type": "stream",
     "text": [
      "[TEST] End of Epoch 0, Avg Loss: 1.6555, Accuracy: 89.73%\n"
     ]
    },
    {
     "name": "stderr",
     "output_type": "stream",
     "text": []
    },
    {
     "name": "stdout",
     "output_type": "stream",
     "text": [
      "[TRAIN] End of Epoch 0, Avg Loss: 1.2728, Accuracy: 100.00%\n"
     ]
    },
    {
     "name": "stderr",
     "output_type": "stream",
     "text": [
      "Training Epochs: 100%|██████████| 2/2 [00:03<00:00,  1.71s/it]\n"
     ]
    },
    {
     "name": "stdout",
     "output_type": "stream",
     "text": [
      "[TRAIN] End of Epoch 1, Avg Loss: 1.2672, Accuracy: 100.00%\n"
     ]
    },
    {
     "name": "stderr",
     "output_type": "stream",
     "text": [
      "Testing Epochs: 100%|██████████| 1/1 [00:00<00:00,  2.41it/s]\n",
      "TOTAL Epochs:  60%|██████    | 144/240 [08:53<06:03,  3.79s/it]"
     ]
    },
    {
     "name": "stdout",
     "output_type": "stream",
     "text": [
      "[TEST] End of Epoch 0, Avg Loss: 1.6544, Accuracy: 92.26%\n"
     ]
    },
    {
     "name": "stderr",
     "output_type": "stream",
     "text": []
    },
    {
     "name": "stdout",
     "output_type": "stream",
     "text": [
      "[TRAIN] End of Epoch 0, Avg Loss: 1.2676, Accuracy: 100.00%\n"
     ]
    },
    {
     "name": "stderr",
     "output_type": "stream",
     "text": [
      "Training Epochs: 100%|██████████| 2/2 [00:03<00:00,  1.73s/it]\n"
     ]
    },
    {
     "name": "stdout",
     "output_type": "stream",
     "text": [
      "[TRAIN] End of Epoch 1, Avg Loss: 1.2691, Accuracy: 100.00%\n"
     ]
    },
    {
     "name": "stderr",
     "output_type": "stream",
     "text": [
      "Testing Epochs: 100%|██████████| 1/1 [00:00<00:00,  2.42it/s]\n",
      "TOTAL Epochs:  60%|██████    | 145/240 [08:57<06:02,  3.81s/it]"
     ]
    },
    {
     "name": "stdout",
     "output_type": "stream",
     "text": [
      "[TEST] End of Epoch 0, Avg Loss: 1.6334, Accuracy: 92.11%\n"
     ]
    },
    {
     "name": "stderr",
     "output_type": "stream",
     "text": []
    },
    {
     "name": "stdout",
     "output_type": "stream",
     "text": [
      "[TRAIN] End of Epoch 0, Avg Loss: 1.2677, Accuracy: 100.00%\n"
     ]
    },
    {
     "name": "stderr",
     "output_type": "stream",
     "text": [
      "Training Epochs: 100%|██████████| 2/2 [00:03<00:00,  1.72s/it]\n"
     ]
    },
    {
     "name": "stdout",
     "output_type": "stream",
     "text": [
      "[TRAIN] End of Epoch 1, Avg Loss: 1.2665, Accuracy: 100.00%\n"
     ]
    },
    {
     "name": "stderr",
     "output_type": "stream",
     "text": [
      "Testing Epochs: 100%|██████████| 1/1 [00:00<00:00,  2.37it/s]\n",
      "TOTAL Epochs:  61%|██████    | 146/240 [09:01<06:00,  3.83s/it]"
     ]
    },
    {
     "name": "stdout",
     "output_type": "stream",
     "text": [
      "[TEST] End of Epoch 0, Avg Loss: 1.6467, Accuracy: 92.56%\n"
     ]
    },
    {
     "name": "stderr",
     "output_type": "stream",
     "text": []
    },
    {
     "name": "stdout",
     "output_type": "stream",
     "text": [
      "[TRAIN] End of Epoch 0, Avg Loss: 1.2654, Accuracy: 100.00%\n"
     ]
    },
    {
     "name": "stderr",
     "output_type": "stream",
     "text": [
      "Training Epochs: 100%|██████████| 2/2 [00:02<00:00,  1.07s/it]\n"
     ]
    },
    {
     "name": "stdout",
     "output_type": "stream",
     "text": [
      "[TRAIN] End of Epoch 1, Avg Loss: 1.2642, Accuracy: 100.00%\n"
     ]
    },
    {
     "name": "stderr",
     "output_type": "stream",
     "text": [
      "Testing Epochs: 100%|██████████| 1/1 [00:00<00:00,  2.46it/s]\n",
      "TOTAL Epochs:  61%|██████▏   | 147/240 [09:03<05:21,  3.45s/it]"
     ]
    },
    {
     "name": "stdout",
     "output_type": "stream",
     "text": [
      "[TEST] End of Epoch 0, Avg Loss: 1.6632, Accuracy: 92.11%\n"
     ]
    },
    {
     "name": "stderr",
     "output_type": "stream",
     "text": []
    },
    {
     "name": "stdout",
     "output_type": "stream",
     "text": [
      "[TRAIN] End of Epoch 0, Avg Loss: 1.2641, Accuracy: 100.00%\n"
     ]
    },
    {
     "name": "stderr",
     "output_type": "stream",
     "text": [
      "Training Epochs: 100%|██████████| 2/2 [00:03<00:00,  1.70s/it]\n"
     ]
    },
    {
     "name": "stdout",
     "output_type": "stream",
     "text": [
      "[TRAIN] End of Epoch 1, Avg Loss: 1.2615, Accuracy: 100.00%\n"
     ]
    },
    {
     "name": "stderr",
     "output_type": "stream",
     "text": [
      "Testing Epochs: 100%|██████████| 1/1 [00:00<00:00,  2.42it/s]\n",
      "TOTAL Epochs:  62%|██████▏   | 148/240 [09:07<05:27,  3.56s/it]"
     ]
    },
    {
     "name": "stdout",
     "output_type": "stream",
     "text": [
      "[TEST] End of Epoch 0, Avg Loss: 1.6650, Accuracy: 91.82%\n"
     ]
    },
    {
     "name": "stderr",
     "output_type": "stream",
     "text": []
    },
    {
     "name": "stdout",
     "output_type": "stream",
     "text": [
      "[TRAIN] End of Epoch 0, Avg Loss: 1.2638, Accuracy: 100.00%\n"
     ]
    },
    {
     "name": "stderr",
     "output_type": "stream",
     "text": [
      "Training Epochs: 100%|██████████| 2/2 [00:03<00:00,  1.69s/it]\n"
     ]
    },
    {
     "name": "stdout",
     "output_type": "stream",
     "text": [
      "[TRAIN] End of Epoch 1, Avg Loss: 1.2639, Accuracy: 100.00%\n"
     ]
    },
    {
     "name": "stderr",
     "output_type": "stream",
     "text": [
      "Testing Epochs: 100%|██████████| 1/1 [00:00<00:00,  2.44it/s]\n",
      "TOTAL Epochs:  62%|██████▏   | 149/240 [09:11<05:30,  3.63s/it]"
     ]
    },
    {
     "name": "stdout",
     "output_type": "stream",
     "text": [
      "[TEST] End of Epoch 0, Avg Loss: 1.6521, Accuracy: 91.52%\n"
     ]
    },
    {
     "name": "stderr",
     "output_type": "stream",
     "text": []
    },
    {
     "name": "stdout",
     "output_type": "stream",
     "text": [
      "[TRAIN] End of Epoch 0, Avg Loss: 1.2659, Accuracy: 100.00%\n"
     ]
    },
    {
     "name": "stderr",
     "output_type": "stream",
     "text": [
      "Training Epochs: 100%|██████████| 2/2 [00:03<00:00,  1.70s/it]\n"
     ]
    },
    {
     "name": "stdout",
     "output_type": "stream",
     "text": [
      "[TRAIN] End of Epoch 1, Avg Loss: 1.2650, Accuracy: 100.00%\n"
     ]
    },
    {
     "name": "stderr",
     "output_type": "stream",
     "text": [
      "Testing Epochs: 100%|██████████| 1/1 [00:00<00:00,  2.42it/s]\n",
      "TOTAL Epochs:  62%|██████▎   | 150/240 [09:15<05:32,  3.69s/it]"
     ]
    },
    {
     "name": "stdout",
     "output_type": "stream",
     "text": [
      "[TEST] End of Epoch 0, Avg Loss: 1.6643, Accuracy: 93.01%\n"
     ]
    },
    {
     "name": "stderr",
     "output_type": "stream",
     "text": []
    },
    {
     "name": "stdout",
     "output_type": "stream",
     "text": [
      "[TRAIN] End of Epoch 0, Avg Loss: 1.2652, Accuracy: 100.00%\n"
     ]
    },
    {
     "name": "stderr",
     "output_type": "stream",
     "text": [
      "Training Epochs: 100%|██████████| 2/2 [00:03<00:00,  1.70s/it]\n"
     ]
    },
    {
     "name": "stdout",
     "output_type": "stream",
     "text": [
      "[TRAIN] End of Epoch 1, Avg Loss: 1.2613, Accuracy: 100.00%\n"
     ]
    },
    {
     "name": "stderr",
     "output_type": "stream",
     "text": [
      "Testing Epochs: 100%|██████████| 1/1 [00:00<00:00,  2.40it/s]\n",
      "TOTAL Epochs:  63%|██████▎   | 151/240 [09:19<05:32,  3.73s/it]"
     ]
    },
    {
     "name": "stdout",
     "output_type": "stream",
     "text": [
      "[TEST] End of Epoch 0, Avg Loss: 1.6625, Accuracy: 93.01%\n"
     ]
    },
    {
     "name": "stderr",
     "output_type": "stream",
     "text": []
    },
    {
     "name": "stdout",
     "output_type": "stream",
     "text": [
      "[TRAIN] End of Epoch 0, Avg Loss: 1.2628, Accuracy: 100.00%\n"
     ]
    },
    {
     "name": "stderr",
     "output_type": "stream",
     "text": [
      "Training Epochs: 100%|██████████| 2/2 [00:03<00:00,  1.71s/it]\n"
     ]
    },
    {
     "name": "stdout",
     "output_type": "stream",
     "text": [
      "[TRAIN] End of Epoch 1, Avg Loss: 1.2658, Accuracy: 100.00%\n"
     ]
    },
    {
     "name": "stderr",
     "output_type": "stream",
     "text": [
      "Testing Epochs: 100%|██████████| 1/1 [00:00<00:00,  2.38it/s]\n",
      "TOTAL Epochs:  63%|██████▎   | 152/240 [09:22<05:31,  3.77s/it]"
     ]
    },
    {
     "name": "stdout",
     "output_type": "stream",
     "text": [
      "[TEST] End of Epoch 0, Avg Loss: 1.6635, Accuracy: 91.37%\n"
     ]
    },
    {
     "name": "stderr",
     "output_type": "stream",
     "text": []
    },
    {
     "name": "stdout",
     "output_type": "stream",
     "text": [
      "[TRAIN] End of Epoch 0, Avg Loss: 1.2672, Accuracy: 100.00%\n"
     ]
    },
    {
     "name": "stderr",
     "output_type": "stream",
     "text": [
      "Training Epochs: 100%|██████████| 2/2 [00:03<00:00,  1.71s/it]\n"
     ]
    },
    {
     "name": "stdout",
     "output_type": "stream",
     "text": [
      "[TRAIN] End of Epoch 1, Avg Loss: 1.2629, Accuracy: 100.00%\n"
     ]
    },
    {
     "name": "stderr",
     "output_type": "stream",
     "text": [
      "Testing Epochs: 100%|██████████| 1/1 [00:00<00:00,  2.42it/s]\n",
      "TOTAL Epochs:  64%|██████▍   | 153/240 [09:26<05:29,  3.79s/it]"
     ]
    },
    {
     "name": "stdout",
     "output_type": "stream",
     "text": [
      "[TEST] End of Epoch 0, Avg Loss: 1.6543, Accuracy: 92.41%\n"
     ]
    },
    {
     "name": "stderr",
     "output_type": "stream",
     "text": []
    },
    {
     "name": "stdout",
     "output_type": "stream",
     "text": [
      "[TRAIN] End of Epoch 0, Avg Loss: 1.2621, Accuracy: 100.00%\n"
     ]
    },
    {
     "name": "stderr",
     "output_type": "stream",
     "text": [
      "Training Epochs: 100%|██████████| 2/2 [00:03<00:00,  1.70s/it]\n"
     ]
    },
    {
     "name": "stdout",
     "output_type": "stream",
     "text": [
      "[TRAIN] End of Epoch 1, Avg Loss: 1.2607, Accuracy: 100.00%\n"
     ]
    },
    {
     "name": "stderr",
     "output_type": "stream",
     "text": [
      "Testing Epochs: 100%|██████████| 1/1 [00:00<00:00,  2.40it/s]\n",
      "TOTAL Epochs:  64%|██████▍   | 154/240 [09:30<05:27,  3.80s/it]"
     ]
    },
    {
     "name": "stdout",
     "output_type": "stream",
     "text": [
      "[TEST] End of Epoch 0, Avg Loss: 1.6655, Accuracy: 92.56%\n"
     ]
    },
    {
     "name": "stderr",
     "output_type": "stream",
     "text": []
    },
    {
     "name": "stdout",
     "output_type": "stream",
     "text": [
      "[TRAIN] End of Epoch 0, Avg Loss: 1.2630, Accuracy: 100.00%\n"
     ]
    },
    {
     "name": "stderr",
     "output_type": "stream",
     "text": [
      "Training Epochs: 100%|██████████| 2/2 [00:03<00:00,  1.71s/it]\n"
     ]
    },
    {
     "name": "stdout",
     "output_type": "stream",
     "text": [
      "[TRAIN] End of Epoch 1, Avg Loss: 1.2619, Accuracy: 100.00%\n"
     ]
    },
    {
     "name": "stderr",
     "output_type": "stream",
     "text": [
      "Testing Epochs: 100%|██████████| 1/1 [00:00<00:00,  2.45it/s]\n",
      "TOTAL Epochs:  65%|██████▍   | 155/240 [09:34<05:23,  3.81s/it]"
     ]
    },
    {
     "name": "stdout",
     "output_type": "stream",
     "text": [
      "[TEST] End of Epoch 0, Avg Loss: 1.6790, Accuracy: 91.22%\n"
     ]
    },
    {
     "name": "stderr",
     "output_type": "stream",
     "text": []
    },
    {
     "name": "stdout",
     "output_type": "stream",
     "text": [
      "[TRAIN] End of Epoch 0, Avg Loss: 1.2608, Accuracy: 100.00%\n"
     ]
    },
    {
     "name": "stderr",
     "output_type": "stream",
     "text": [
      "Training Epochs: 100%|██████████| 2/2 [00:02<00:00,  1.09s/it]\n"
     ]
    },
    {
     "name": "stdout",
     "output_type": "stream",
     "text": [
      "[TRAIN] End of Epoch 1, Avg Loss: 1.2602, Accuracy: 100.00%\n"
     ]
    },
    {
     "name": "stderr",
     "output_type": "stream",
     "text": [
      "Testing Epochs: 100%|██████████| 1/1 [00:00<00:00,  2.25it/s]\n",
      "TOTAL Epochs:  65%|██████▌   | 156/240 [09:37<04:50,  3.46s/it]"
     ]
    },
    {
     "name": "stdout",
     "output_type": "stream",
     "text": [
      "[TEST] End of Epoch 0, Avg Loss: 1.6486, Accuracy: 92.26%\n"
     ]
    },
    {
     "name": "stderr",
     "output_type": "stream",
     "text": []
    },
    {
     "name": "stdout",
     "output_type": "stream",
     "text": [
      "[TRAIN] End of Epoch 0, Avg Loss: 1.2620, Accuracy: 100.00%\n"
     ]
    },
    {
     "name": "stderr",
     "output_type": "stream",
     "text": [
      "Training Epochs: 100%|██████████| 2/2 [00:03<00:00,  1.71s/it]\n"
     ]
    },
    {
     "name": "stdout",
     "output_type": "stream",
     "text": [
      "[TRAIN] End of Epoch 1, Avg Loss: 1.2604, Accuracy: 100.00%\n"
     ]
    },
    {
     "name": "stderr",
     "output_type": "stream",
     "text": [
      "Testing Epochs: 100%|██████████| 1/1 [00:00<00:00,  2.45it/s]\n",
      "TOTAL Epochs:  65%|██████▌   | 157/240 [09:40<04:56,  3.57s/it]"
     ]
    },
    {
     "name": "stdout",
     "output_type": "stream",
     "text": [
      "[TEST] End of Epoch 0, Avg Loss: 1.6526, Accuracy: 93.01%\n"
     ]
    },
    {
     "name": "stderr",
     "output_type": "stream",
     "text": []
    },
    {
     "name": "stdout",
     "output_type": "stream",
     "text": [
      "[TRAIN] End of Epoch 0, Avg Loss: 1.2584, Accuracy: 100.00%\n"
     ]
    },
    {
     "name": "stderr",
     "output_type": "stream",
     "text": [
      "Training Epochs: 100%|██████████| 2/2 [00:03<00:00,  1.71s/it]\n"
     ]
    },
    {
     "name": "stdout",
     "output_type": "stream",
     "text": [
      "[TRAIN] End of Epoch 1, Avg Loss: 1.2580, Accuracy: 100.00%\n"
     ]
    },
    {
     "name": "stderr",
     "output_type": "stream",
     "text": [
      "Testing Epochs: 100%|██████████| 1/1 [00:00<00:00,  2.46it/s]\n",
      "TOTAL Epochs:  66%|██████▌   | 158/240 [09:44<04:59,  3.65s/it]"
     ]
    },
    {
     "name": "stdout",
     "output_type": "stream",
     "text": [
      "[TEST] End of Epoch 0, Avg Loss: 1.6577, Accuracy: 91.96%\n"
     ]
    },
    {
     "name": "stderr",
     "output_type": "stream",
     "text": []
    },
    {
     "name": "stdout",
     "output_type": "stream",
     "text": [
      "[TRAIN] End of Epoch 0, Avg Loss: 1.2608, Accuracy: 100.00%\n"
     ]
    },
    {
     "name": "stderr",
     "output_type": "stream",
     "text": [
      "Training Epochs: 100%|██████████| 2/2 [00:03<00:00,  1.73s/it]\n"
     ]
    },
    {
     "name": "stdout",
     "output_type": "stream",
     "text": [
      "[TRAIN] End of Epoch 1, Avg Loss: 1.2627, Accuracy: 100.00%\n"
     ]
    },
    {
     "name": "stderr",
     "output_type": "stream",
     "text": [
      "Testing Epochs: 100%|██████████| 1/1 [00:00<00:00,  2.40it/s]\n",
      "TOTAL Epochs:  66%|██████▋   | 159/240 [09:48<05:01,  3.72s/it]"
     ]
    },
    {
     "name": "stdout",
     "output_type": "stream",
     "text": [
      "[TEST] End of Epoch 0, Avg Loss: 1.6678, Accuracy: 91.37%\n"
     ]
    },
    {
     "name": "stderr",
     "output_type": "stream",
     "text": []
    },
    {
     "name": "stdout",
     "output_type": "stream",
     "text": [
      "[TRAIN] End of Epoch 0, Avg Loss: 1.2624, Accuracy: 100.00%\n"
     ]
    },
    {
     "name": "stderr",
     "output_type": "stream",
     "text": [
      "Training Epochs: 100%|██████████| 2/2 [00:03<00:00,  1.71s/it]\n"
     ]
    },
    {
     "name": "stdout",
     "output_type": "stream",
     "text": [
      "[TRAIN] End of Epoch 1, Avg Loss: 1.2599, Accuracy: 100.00%\n"
     ]
    },
    {
     "name": "stderr",
     "output_type": "stream",
     "text": [
      "Testing Epochs: 100%|██████████| 1/1 [00:00<00:00,  2.43it/s]\n",
      "TOTAL Epochs:  67%|██████▋   | 160/240 [09:52<05:00,  3.76s/it]"
     ]
    },
    {
     "name": "stdout",
     "output_type": "stream",
     "text": [
      "[TEST] End of Epoch 0, Avg Loss: 1.6657, Accuracy: 91.82%\n"
     ]
    },
    {
     "name": "stderr",
     "output_type": "stream",
     "text": []
    },
    {
     "name": "stdout",
     "output_type": "stream",
     "text": [
      "[TRAIN] End of Epoch 0, Avg Loss: 1.2600, Accuracy: 100.00%\n"
     ]
    },
    {
     "name": "stderr",
     "output_type": "stream",
     "text": [
      "Training Epochs: 100%|██████████| 2/2 [00:03<00:00,  1.69s/it]\n"
     ]
    },
    {
     "name": "stdout",
     "output_type": "stream",
     "text": [
      "[TRAIN] End of Epoch 1, Avg Loss: 1.2588, Accuracy: 100.00%\n"
     ]
    },
    {
     "name": "stderr",
     "output_type": "stream",
     "text": [
      "Testing Epochs: 100%|██████████| 1/1 [00:00<00:00,  2.43it/s]\n",
      "TOTAL Epochs:  67%|██████▋   | 161/240 [09:56<04:57,  3.77s/it]"
     ]
    },
    {
     "name": "stdout",
     "output_type": "stream",
     "text": [
      "[TEST] End of Epoch 0, Avg Loss: 1.6683, Accuracy: 91.22%\n"
     ]
    },
    {
     "name": "stderr",
     "output_type": "stream",
     "text": []
    },
    {
     "name": "stdout",
     "output_type": "stream",
     "text": [
      "[TRAIN] End of Epoch 0, Avg Loss: 1.2573, Accuracy: 100.00%\n"
     ]
    },
    {
     "name": "stderr",
     "output_type": "stream",
     "text": [
      "Training Epochs: 100%|██████████| 2/2 [00:03<00:00,  1.72s/it]\n"
     ]
    },
    {
     "name": "stdout",
     "output_type": "stream",
     "text": [
      "[TRAIN] End of Epoch 1, Avg Loss: 1.2578, Accuracy: 100.00%\n"
     ]
    },
    {
     "name": "stderr",
     "output_type": "stream",
     "text": [
      "Testing Epochs: 100%|██████████| 1/1 [00:00<00:00,  2.45it/s]\n",
      "TOTAL Epochs:  68%|██████▊   | 162/240 [10:00<04:56,  3.80s/it]"
     ]
    },
    {
     "name": "stdout",
     "output_type": "stream",
     "text": [
      "[TEST] End of Epoch 0, Avg Loss: 1.6482, Accuracy: 92.71%\n"
     ]
    },
    {
     "name": "stderr",
     "output_type": "stream",
     "text": []
    },
    {
     "name": "stdout",
     "output_type": "stream",
     "text": [
      "[TRAIN] End of Epoch 0, Avg Loss: 1.2585, Accuracy: 100.00%\n"
     ]
    },
    {
     "name": "stderr",
     "output_type": "stream",
     "text": [
      "Training Epochs: 100%|██████████| 2/2 [00:03<00:00,  1.71s/it]\n"
     ]
    },
    {
     "name": "stdout",
     "output_type": "stream",
     "text": [
      "[TRAIN] End of Epoch 1, Avg Loss: 1.2576, Accuracy: 100.00%\n"
     ]
    },
    {
     "name": "stderr",
     "output_type": "stream",
     "text": [
      "Testing Epochs: 100%|██████████| 1/1 [00:00<00:00,  2.24it/s]\n",
      "TOTAL Epochs:  68%|██████▊   | 163/240 [10:03<04:53,  3.82s/it]"
     ]
    },
    {
     "name": "stdout",
     "output_type": "stream",
     "text": [
      "[TEST] End of Epoch 0, Avg Loss: 1.6644, Accuracy: 92.86%\n"
     ]
    },
    {
     "name": "stderr",
     "output_type": "stream",
     "text": []
    },
    {
     "name": "stdout",
     "output_type": "stream",
     "text": [
      "[TRAIN] End of Epoch 0, Avg Loss: 1.2556, Accuracy: 100.00%\n"
     ]
    },
    {
     "name": "stderr",
     "output_type": "stream",
     "text": [
      "Training Epochs: 100%|██████████| 2/2 [00:02<00:00,  1.08s/it]\n"
     ]
    },
    {
     "name": "stdout",
     "output_type": "stream",
     "text": [
      "[TRAIN] End of Epoch 1, Avg Loss: 1.2553, Accuracy: 100.00%\n"
     ]
    },
    {
     "name": "stderr",
     "output_type": "stream",
     "text": [
      "Testing Epochs: 100%|██████████| 1/1 [00:00<00:00,  2.40it/s]\n",
      "TOTAL Epochs:  68%|██████▊   | 164/240 [10:06<04:22,  3.45s/it]"
     ]
    },
    {
     "name": "stdout",
     "output_type": "stream",
     "text": [
      "[TEST] End of Epoch 0, Avg Loss: 1.6611, Accuracy: 92.41%\n"
     ]
    },
    {
     "name": "stderr",
     "output_type": "stream",
     "text": []
    },
    {
     "name": "stdout",
     "output_type": "stream",
     "text": [
      "[TRAIN] End of Epoch 0, Avg Loss: 1.2575, Accuracy: 100.00%\n"
     ]
    },
    {
     "name": "stderr",
     "output_type": "stream",
     "text": [
      "Training Epochs: 100%|██████████| 2/2 [00:03<00:00,  1.71s/it]\n"
     ]
    },
    {
     "name": "stdout",
     "output_type": "stream",
     "text": [
      "[TRAIN] End of Epoch 1, Avg Loss: 1.2576, Accuracy: 100.00%\n"
     ]
    },
    {
     "name": "stderr",
     "output_type": "stream",
     "text": [
      "Testing Epochs: 100%|██████████| 1/1 [00:00<00:00,  2.43it/s]\n",
      "TOTAL Epochs:  69%|██████▉   | 165/240 [10:10<04:27,  3.56s/it]"
     ]
    },
    {
     "name": "stdout",
     "output_type": "stream",
     "text": [
      "[TEST] End of Epoch 0, Avg Loss: 1.6587, Accuracy: 92.56%\n"
     ]
    },
    {
     "name": "stderr",
     "output_type": "stream",
     "text": []
    },
    {
     "name": "stdout",
     "output_type": "stream",
     "text": [
      "[TRAIN] End of Epoch 0, Avg Loss: 1.2561, Accuracy: 100.00%\n"
     ]
    },
    {
     "name": "stderr",
     "output_type": "stream",
     "text": [
      "Training Epochs: 100%|██████████| 2/2 [00:03<00:00,  1.72s/it]\n"
     ]
    },
    {
     "name": "stdout",
     "output_type": "stream",
     "text": [
      "[TRAIN] End of Epoch 1, Avg Loss: 1.2562, Accuracy: 100.00%\n"
     ]
    },
    {
     "name": "stderr",
     "output_type": "stream",
     "text": [
      "Testing Epochs: 100%|██████████| 1/1 [00:00<00:00,  2.42it/s]\n",
      "TOTAL Epochs:  69%|██████▉   | 166/240 [10:14<04:30,  3.66s/it]"
     ]
    },
    {
     "name": "stdout",
     "output_type": "stream",
     "text": [
      "[TEST] End of Epoch 0, Avg Loss: 1.6551, Accuracy: 93.90%\n"
     ]
    },
    {
     "name": "stderr",
     "output_type": "stream",
     "text": []
    },
    {
     "name": "stdout",
     "output_type": "stream",
     "text": [
      "[TRAIN] End of Epoch 0, Avg Loss: 1.2558, Accuracy: 100.00%\n"
     ]
    },
    {
     "name": "stderr",
     "output_type": "stream",
     "text": [
      "Training Epochs: 100%|██████████| 2/2 [00:03<00:00,  1.73s/it]\n"
     ]
    },
    {
     "name": "stdout",
     "output_type": "stream",
     "text": [
      "[TRAIN] End of Epoch 1, Avg Loss: 1.2568, Accuracy: 100.00%\n"
     ]
    },
    {
     "name": "stderr",
     "output_type": "stream",
     "text": [
      "Testing Epochs: 100%|██████████| 1/1 [00:00<00:00,  2.44it/s]\n",
      "TOTAL Epochs:  70%|██████▉   | 167/240 [10:18<04:31,  3.72s/it]"
     ]
    },
    {
     "name": "stdout",
     "output_type": "stream",
     "text": [
      "[TEST] End of Epoch 0, Avg Loss: 1.6581, Accuracy: 92.41%\n"
     ]
    },
    {
     "name": "stderr",
     "output_type": "stream",
     "text": []
    },
    {
     "name": "stdout",
     "output_type": "stream",
     "text": [
      "[TRAIN] End of Epoch 0, Avg Loss: 1.2544, Accuracy: 100.00%\n"
     ]
    },
    {
     "name": "stderr",
     "output_type": "stream",
     "text": [
      "Training Epochs: 100%|██████████| 2/2 [00:03<00:00,  1.70s/it]\n"
     ]
    },
    {
     "name": "stdout",
     "output_type": "stream",
     "text": [
      "[TRAIN] End of Epoch 1, Avg Loss: 1.2533, Accuracy: 100.00%\n"
     ]
    },
    {
     "name": "stderr",
     "output_type": "stream",
     "text": [
      "Testing Epochs: 100%|██████████| 1/1 [00:00<00:00,  2.38it/s]\n",
      "TOTAL Epochs:  70%|███████   | 168/240 [10:21<04:30,  3.75s/it]"
     ]
    },
    {
     "name": "stdout",
     "output_type": "stream",
     "text": [
      "[TEST] End of Epoch 0, Avg Loss: 1.6617, Accuracy: 92.86%\n"
     ]
    },
    {
     "name": "stderr",
     "output_type": "stream",
     "text": []
    },
    {
     "name": "stdout",
     "output_type": "stream",
     "text": [
      "[TRAIN] End of Epoch 0, Avg Loss: 1.2550, Accuracy: 100.00%\n"
     ]
    },
    {
     "name": "stderr",
     "output_type": "stream",
     "text": [
      "Training Epochs: 100%|██████████| 2/2 [00:03<00:00,  1.71s/it]\n"
     ]
    },
    {
     "name": "stdout",
     "output_type": "stream",
     "text": [
      "[TRAIN] End of Epoch 1, Avg Loss: 1.2557, Accuracy: 100.00%\n"
     ]
    },
    {
     "name": "stderr",
     "output_type": "stream",
     "text": [
      "Testing Epochs: 100%|██████████| 1/1 [00:00<00:00,  2.33it/s]\n",
      "TOTAL Epochs:  70%|███████   | 169/240 [10:25<04:28,  3.78s/it]"
     ]
    },
    {
     "name": "stdout",
     "output_type": "stream",
     "text": [
      "[TEST] End of Epoch 0, Avg Loss: 1.6608, Accuracy: 92.86%\n"
     ]
    },
    {
     "name": "stderr",
     "output_type": "stream",
     "text": []
    },
    {
     "name": "stdout",
     "output_type": "stream",
     "text": [
      "[TRAIN] End of Epoch 0, Avg Loss: 1.2554, Accuracy: 100.00%\n"
     ]
    },
    {
     "name": "stderr",
     "output_type": "stream",
     "text": [
      "Training Epochs: 100%|██████████| 2/2 [00:03<00:00,  1.71s/it]\n"
     ]
    },
    {
     "name": "stdout",
     "output_type": "stream",
     "text": [
      "[TRAIN] End of Epoch 1, Avg Loss: 1.2545, Accuracy: 100.00%\n"
     ]
    },
    {
     "name": "stderr",
     "output_type": "stream",
     "text": [
      "Testing Epochs: 100%|██████████| 1/1 [00:00<00:00,  2.46it/s]\n",
      "TOTAL Epochs:  71%|███████   | 170/240 [10:29<04:26,  3.80s/it]"
     ]
    },
    {
     "name": "stdout",
     "output_type": "stream",
     "text": [
      "[TEST] End of Epoch 0, Avg Loss: 1.6668, Accuracy: 93.01%\n"
     ]
    },
    {
     "name": "stderr",
     "output_type": "stream",
     "text": []
    },
    {
     "name": "stdout",
     "output_type": "stream",
     "text": [
      "[TRAIN] End of Epoch 0, Avg Loss: 1.2544, Accuracy: 100.00%\n"
     ]
    },
    {
     "name": "stderr",
     "output_type": "stream",
     "text": [
      "Training Epochs: 100%|██████████| 2/2 [00:03<00:00,  1.71s/it]\n"
     ]
    },
    {
     "name": "stdout",
     "output_type": "stream",
     "text": [
      "[TRAIN] End of Epoch 1, Avg Loss: 1.2537, Accuracy: 100.00%\n"
     ]
    },
    {
     "name": "stderr",
     "output_type": "stream",
     "text": [
      "Testing Epochs: 100%|██████████| 1/1 [00:00<00:00,  2.39it/s]\n",
      "TOTAL Epochs:  71%|███████▏  | 171/240 [10:33<04:23,  3.82s/it]"
     ]
    },
    {
     "name": "stdout",
     "output_type": "stream",
     "text": [
      "[TEST] End of Epoch 0, Avg Loss: 1.6760, Accuracy: 93.01%\n"
     ]
    },
    {
     "name": "stderr",
     "output_type": "stream",
     "text": []
    },
    {
     "name": "stdout",
     "output_type": "stream",
     "text": [
      "[TRAIN] End of Epoch 0, Avg Loss: 1.2539, Accuracy: 100.00%\n"
     ]
    },
    {
     "name": "stderr",
     "output_type": "stream",
     "text": [
      "Training Epochs: 100%|██████████| 2/2 [00:02<00:00,  1.07s/it]\n"
     ]
    },
    {
     "name": "stdout",
     "output_type": "stream",
     "text": [
      "[TRAIN] End of Epoch 1, Avg Loss: 1.2546, Accuracy: 100.00%\n"
     ]
    },
    {
     "name": "stderr",
     "output_type": "stream",
     "text": [
      "Testing Epochs: 100%|██████████| 1/1 [00:00<00:00,  2.40it/s]\n",
      "TOTAL Epochs:  72%|███████▏  | 172/240 [10:36<03:53,  3.44s/it]"
     ]
    },
    {
     "name": "stdout",
     "output_type": "stream",
     "text": [
      "[TEST] End of Epoch 0, Avg Loss: 1.6624, Accuracy: 93.60%\n"
     ]
    },
    {
     "name": "stderr",
     "output_type": "stream",
     "text": []
    },
    {
     "name": "stdout",
     "output_type": "stream",
     "text": [
      "[TRAIN] End of Epoch 0, Avg Loss: 1.2532, Accuracy: 100.00%\n"
     ]
    },
    {
     "name": "stderr",
     "output_type": "stream",
     "text": [
      "Training Epochs: 100%|██████████| 2/2 [00:03<00:00,  1.69s/it]\n"
     ]
    },
    {
     "name": "stdout",
     "output_type": "stream",
     "text": [
      "[TRAIN] End of Epoch 1, Avg Loss: 1.2532, Accuracy: 100.00%\n"
     ]
    },
    {
     "name": "stderr",
     "output_type": "stream",
     "text": [
      "Testing Epochs: 100%|██████████| 1/1 [00:00<00:00,  2.45it/s]\n",
      "TOTAL Epochs:  72%|███████▏  | 173/240 [10:39<03:57,  3.55s/it]"
     ]
    },
    {
     "name": "stdout",
     "output_type": "stream",
     "text": [
      "[TEST] End of Epoch 0, Avg Loss: 1.6682, Accuracy: 93.15%\n"
     ]
    },
    {
     "name": "stderr",
     "output_type": "stream",
     "text": []
    },
    {
     "name": "stdout",
     "output_type": "stream",
     "text": [
      "[TRAIN] End of Epoch 0, Avg Loss: 1.2545, Accuracy: 100.00%\n"
     ]
    },
    {
     "name": "stderr",
     "output_type": "stream",
     "text": [
      "Training Epochs: 100%|██████████| 2/2 [00:03<00:00,  1.70s/it]\n"
     ]
    },
    {
     "name": "stdout",
     "output_type": "stream",
     "text": [
      "[TRAIN] End of Epoch 1, Avg Loss: 1.2527, Accuracy: 100.00%\n"
     ]
    },
    {
     "name": "stderr",
     "output_type": "stream",
     "text": [
      "Testing Epochs: 100%|██████████| 1/1 [00:00<00:00,  2.47it/s]\n",
      "TOTAL Epochs:  72%|███████▎  | 174/240 [10:43<03:59,  3.63s/it]"
     ]
    },
    {
     "name": "stdout",
     "output_type": "stream",
     "text": [
      "[TEST] End of Epoch 0, Avg Loss: 1.6734, Accuracy: 91.52%\n"
     ]
    },
    {
     "name": "stderr",
     "output_type": "stream",
     "text": []
    },
    {
     "name": "stdout",
     "output_type": "stream",
     "text": [
      "[TRAIN] End of Epoch 0, Avg Loss: 1.2537, Accuracy: 100.00%\n"
     ]
    },
    {
     "name": "stderr",
     "output_type": "stream",
     "text": [
      "Training Epochs: 100%|██████████| 2/2 [00:03<00:00,  1.71s/it]\n"
     ]
    },
    {
     "name": "stdout",
     "output_type": "stream",
     "text": [
      "[TRAIN] End of Epoch 1, Avg Loss: 1.2540, Accuracy: 100.00%\n"
     ]
    },
    {
     "name": "stderr",
     "output_type": "stream",
     "text": [
      "Testing Epochs: 100%|██████████| 1/1 [00:00<00:00,  2.42it/s]\n",
      "TOTAL Epochs:  73%|███████▎  | 175/240 [10:47<03:59,  3.69s/it]"
     ]
    },
    {
     "name": "stdout",
     "output_type": "stream",
     "text": [
      "[TEST] End of Epoch 0, Avg Loss: 1.6734, Accuracy: 93.45%\n"
     ]
    },
    {
     "name": "stderr",
     "output_type": "stream",
     "text": []
    },
    {
     "name": "stdout",
     "output_type": "stream",
     "text": [
      "[TRAIN] End of Epoch 0, Avg Loss: 1.2533, Accuracy: 100.00%\n"
     ]
    },
    {
     "name": "stderr",
     "output_type": "stream",
     "text": [
      "Training Epochs: 100%|██████████| 2/2 [00:03<00:00,  1.72s/it]\n"
     ]
    },
    {
     "name": "stdout",
     "output_type": "stream",
     "text": [
      "[TRAIN] End of Epoch 1, Avg Loss: 1.2527, Accuracy: 100.00%\n"
     ]
    },
    {
     "name": "stderr",
     "output_type": "stream",
     "text": [
      "Testing Epochs: 100%|██████████| 1/1 [00:00<00:00,  2.41it/s]\n",
      "TOTAL Epochs:  73%|███████▎  | 176/240 [10:51<03:59,  3.74s/it]"
     ]
    },
    {
     "name": "stdout",
     "output_type": "stream",
     "text": [
      "[TEST] End of Epoch 0, Avg Loss: 1.6759, Accuracy: 92.71%\n"
     ]
    },
    {
     "name": "stderr",
     "output_type": "stream",
     "text": []
    },
    {
     "name": "stdout",
     "output_type": "stream",
     "text": [
      "[TRAIN] End of Epoch 0, Avg Loss: 1.2528, Accuracy: 100.00%\n"
     ]
    },
    {
     "name": "stderr",
     "output_type": "stream",
     "text": [
      "Training Epochs: 100%|██████████| 2/2 [00:03<00:00,  1.71s/it]\n"
     ]
    },
    {
     "name": "stdout",
     "output_type": "stream",
     "text": [
      "[TRAIN] End of Epoch 1, Avg Loss: 1.2532, Accuracy: 100.00%\n"
     ]
    },
    {
     "name": "stderr",
     "output_type": "stream",
     "text": [
      "Testing Epochs: 100%|██████████| 1/1 [00:00<00:00,  2.23it/s]\n",
      "TOTAL Epochs:  74%|███████▍  | 177/240 [10:55<03:58,  3.79s/it]"
     ]
    },
    {
     "name": "stdout",
     "output_type": "stream",
     "text": [
      "[TEST] End of Epoch 0, Avg Loss: 1.6544, Accuracy: 92.11%\n"
     ]
    },
    {
     "name": "stderr",
     "output_type": "stream",
     "text": []
    },
    {
     "name": "stdout",
     "output_type": "stream",
     "text": [
      "[TRAIN] End of Epoch 0, Avg Loss: 1.2522, Accuracy: 100.00%\n"
     ]
    },
    {
     "name": "stderr",
     "output_type": "stream",
     "text": [
      "Training Epochs: 100%|██████████| 2/2 [00:03<00:00,  1.72s/it]\n"
     ]
    },
    {
     "name": "stdout",
     "output_type": "stream",
     "text": [
      "[TRAIN] End of Epoch 1, Avg Loss: 1.2516, Accuracy: 100.00%\n"
     ]
    },
    {
     "name": "stderr",
     "output_type": "stream",
     "text": [
      "Testing Epochs: 100%|██████████| 1/1 [00:00<00:00,  2.44it/s]\n",
      "TOTAL Epochs:  74%|███████▍  | 178/240 [10:59<03:56,  3.81s/it]"
     ]
    },
    {
     "name": "stdout",
     "output_type": "stream",
     "text": [
      "[TEST] End of Epoch 0, Avg Loss: 1.6601, Accuracy: 92.56%\n"
     ]
    },
    {
     "name": "stderr",
     "output_type": "stream",
     "text": []
    },
    {
     "name": "stdout",
     "output_type": "stream",
     "text": [
      "[TRAIN] End of Epoch 0, Avg Loss: 1.2518, Accuracy: 100.00%\n"
     ]
    },
    {
     "name": "stderr",
     "output_type": "stream",
     "text": [
      "Training Epochs: 100%|██████████| 2/2 [00:03<00:00,  1.72s/it]\n"
     ]
    },
    {
     "name": "stdout",
     "output_type": "stream",
     "text": [
      "[TRAIN] End of Epoch 1, Avg Loss: 1.2524, Accuracy: 100.00%\n"
     ]
    },
    {
     "name": "stderr",
     "output_type": "stream",
     "text": [
      "Testing Epochs: 100%|██████████| 1/1 [00:00<00:00,  2.42it/s]\n",
      "TOTAL Epochs:  75%|███████▍  | 179/240 [11:02<03:53,  3.82s/it]"
     ]
    },
    {
     "name": "stdout",
     "output_type": "stream",
     "text": [
      "[TEST] End of Epoch 0, Avg Loss: 1.6762, Accuracy: 92.86%\n"
     ]
    },
    {
     "name": "stderr",
     "output_type": "stream",
     "text": []
    },
    {
     "name": "stdout",
     "output_type": "stream",
     "text": [
      "[TRAIN] End of Epoch 0, Avg Loss: 1.2528, Accuracy: 100.00%\n"
     ]
    },
    {
     "name": "stderr",
     "output_type": "stream",
     "text": [
      "Training Epochs: 100%|██████████| 2/2 [00:03<00:00,  1.72s/it]\n"
     ]
    },
    {
     "name": "stdout",
     "output_type": "stream",
     "text": [
      "[TRAIN] End of Epoch 1, Avg Loss: 1.2512, Accuracy: 100.00%\n"
     ]
    },
    {
     "name": "stderr",
     "output_type": "stream",
     "text": [
      "Testing Epochs: 100%|██████████| 1/1 [00:00<00:00,  2.42it/s]\n",
      "TOTAL Epochs:  75%|███████▌  | 180/240 [11:06<03:50,  3.83s/it]"
     ]
    },
    {
     "name": "stdout",
     "output_type": "stream",
     "text": [
      "[TEST] End of Epoch 0, Avg Loss: 1.6713, Accuracy: 92.56%\n"
     ]
    },
    {
     "name": "stderr",
     "output_type": "stream",
     "text": []
    },
    {
     "name": "stdout",
     "output_type": "stream",
     "text": [
      "[TRAIN] End of Epoch 0, Avg Loss: 1.2511, Accuracy: 100.00%\n"
     ]
    },
    {
     "name": "stderr",
     "output_type": "stream",
     "text": [
      "Training Epochs: 100%|██████████| 2/2 [00:02<00:00,  1.09s/it]\n"
     ]
    },
    {
     "name": "stdout",
     "output_type": "stream",
     "text": [
      "[TRAIN] End of Epoch 1, Avg Loss: 1.2512, Accuracy: 100.00%\n"
     ]
    },
    {
     "name": "stderr",
     "output_type": "stream",
     "text": [
      "Testing Epochs: 100%|██████████| 1/1 [00:00<00:00,  2.44it/s]\n",
      "TOTAL Epochs:  75%|███████▌  | 181/240 [11:09<03:24,  3.46s/it]"
     ]
    },
    {
     "name": "stdout",
     "output_type": "stream",
     "text": [
      "[TEST] End of Epoch 0, Avg Loss: 1.6689, Accuracy: 93.15%\n"
     ]
    },
    {
     "name": "stderr",
     "output_type": "stream",
     "text": []
    },
    {
     "name": "stdout",
     "output_type": "stream",
     "text": [
      "[TRAIN] End of Epoch 0, Avg Loss: 1.2507, Accuracy: 100.00%\n"
     ]
    },
    {
     "name": "stderr",
     "output_type": "stream",
     "text": [
      "Training Epochs: 100%|██████████| 2/2 [00:03<00:00,  1.72s/it]\n"
     ]
    },
    {
     "name": "stdout",
     "output_type": "stream",
     "text": [
      "[TRAIN] End of Epoch 1, Avg Loss: 1.2509, Accuracy: 100.00%\n"
     ]
    },
    {
     "name": "stderr",
     "output_type": "stream",
     "text": [
      "Testing Epochs: 100%|██████████| 1/1 [00:00<00:00,  2.39it/s]\n",
      "TOTAL Epochs:  76%|███████▌  | 182/240 [11:13<03:28,  3.59s/it]"
     ]
    },
    {
     "name": "stdout",
     "output_type": "stream",
     "text": [
      "[TEST] End of Epoch 0, Avg Loss: 1.6742, Accuracy: 92.11%\n"
     ]
    },
    {
     "name": "stderr",
     "output_type": "stream",
     "text": []
    },
    {
     "name": "stdout",
     "output_type": "stream",
     "text": [
      "[TRAIN] End of Epoch 0, Avg Loss: 1.2500, Accuracy: 100.00%\n"
     ]
    },
    {
     "name": "stderr",
     "output_type": "stream",
     "text": [
      "Training Epochs: 100%|██████████| 2/2 [00:03<00:00,  1.71s/it]\n"
     ]
    },
    {
     "name": "stdout",
     "output_type": "stream",
     "text": [
      "[TRAIN] End of Epoch 1, Avg Loss: 1.2509, Accuracy: 100.00%\n"
     ]
    },
    {
     "name": "stderr",
     "output_type": "stream",
     "text": [
      "Testing Epochs: 100%|██████████| 1/1 [00:00<00:00,  2.42it/s]\n",
      "TOTAL Epochs:  76%|███████▋  | 183/240 [11:17<03:28,  3.67s/it]"
     ]
    },
    {
     "name": "stdout",
     "output_type": "stream",
     "text": [
      "[TEST] End of Epoch 0, Avg Loss: 1.6649, Accuracy: 92.71%\n"
     ]
    },
    {
     "name": "stderr",
     "output_type": "stream",
     "text": []
    },
    {
     "name": "stdout",
     "output_type": "stream",
     "text": [
      "[TRAIN] End of Epoch 0, Avg Loss: 1.2502, Accuracy: 100.00%\n"
     ]
    },
    {
     "name": "stderr",
     "output_type": "stream",
     "text": [
      "Training Epochs: 100%|██████████| 2/2 [00:03<00:00,  1.71s/it]\n"
     ]
    },
    {
     "name": "stdout",
     "output_type": "stream",
     "text": [
      "[TRAIN] End of Epoch 1, Avg Loss: 1.2505, Accuracy: 100.00%\n"
     ]
    },
    {
     "name": "stderr",
     "output_type": "stream",
     "text": [
      "Testing Epochs: 100%|██████████| 1/1 [00:00<00:00,  2.42it/s]\n",
      "TOTAL Epochs:  77%|███████▋  | 184/240 [11:21<03:28,  3.72s/it]"
     ]
    },
    {
     "name": "stdout",
     "output_type": "stream",
     "text": [
      "[TEST] End of Epoch 0, Avg Loss: 1.6672, Accuracy: 93.15%\n"
     ]
    },
    {
     "name": "stderr",
     "output_type": "stream",
     "text": []
    },
    {
     "name": "stdout",
     "output_type": "stream",
     "text": [
      "[TRAIN] End of Epoch 0, Avg Loss: 1.2506, Accuracy: 100.00%\n"
     ]
    },
    {
     "name": "stderr",
     "output_type": "stream",
     "text": [
      "Training Epochs: 100%|██████████| 2/2 [00:03<00:00,  1.71s/it]\n"
     ]
    },
    {
     "name": "stdout",
     "output_type": "stream",
     "text": [
      "[TRAIN] End of Epoch 1, Avg Loss: 1.2509, Accuracy: 100.00%\n"
     ]
    },
    {
     "name": "stderr",
     "output_type": "stream",
     "text": [
      "Testing Epochs: 100%|██████████| 1/1 [00:00<00:00,  2.40it/s]\n",
      "TOTAL Epochs:  77%|███████▋  | 185/240 [11:24<03:26,  3.76s/it]"
     ]
    },
    {
     "name": "stdout",
     "output_type": "stream",
     "text": [
      "[TEST] End of Epoch 0, Avg Loss: 1.6722, Accuracy: 92.86%\n"
     ]
    },
    {
     "name": "stderr",
     "output_type": "stream",
     "text": []
    },
    {
     "name": "stdout",
     "output_type": "stream",
     "text": [
      "[TRAIN] End of Epoch 0, Avg Loss: 1.2515, Accuracy: 100.00%\n"
     ]
    },
    {
     "name": "stderr",
     "output_type": "stream",
     "text": [
      "Training Epochs: 100%|██████████| 2/2 [00:03<00:00,  1.72s/it]\n"
     ]
    },
    {
     "name": "stdout",
     "output_type": "stream",
     "text": [
      "[TRAIN] End of Epoch 1, Avg Loss: 1.2507, Accuracy: 100.00%\n"
     ]
    },
    {
     "name": "stderr",
     "output_type": "stream",
     "text": [
      "Testing Epochs: 100%|██████████| 1/1 [00:00<00:00,  2.39it/s]\n",
      "TOTAL Epochs:  78%|███████▊  | 186/240 [11:28<03:24,  3.79s/it]"
     ]
    },
    {
     "name": "stdout",
     "output_type": "stream",
     "text": [
      "[TEST] End of Epoch 0, Avg Loss: 1.6629, Accuracy: 93.01%\n"
     ]
    },
    {
     "name": "stderr",
     "output_type": "stream",
     "text": []
    },
    {
     "name": "stdout",
     "output_type": "stream",
     "text": [
      "[TRAIN] End of Epoch 0, Avg Loss: 1.2501, Accuracy: 100.00%\n"
     ]
    },
    {
     "name": "stderr",
     "output_type": "stream",
     "text": [
      "Training Epochs: 100%|██████████| 2/2 [00:03<00:00,  1.72s/it]\n"
     ]
    },
    {
     "name": "stdout",
     "output_type": "stream",
     "text": [
      "[TRAIN] End of Epoch 1, Avg Loss: 1.2504, Accuracy: 100.00%\n"
     ]
    },
    {
     "name": "stderr",
     "output_type": "stream",
     "text": [
      "Testing Epochs: 100%|██████████| 1/1 [00:00<00:00,  2.42it/s]\n",
      "TOTAL Epochs:  78%|███████▊  | 187/240 [11:32<03:22,  3.81s/it]"
     ]
    },
    {
     "name": "stdout",
     "output_type": "stream",
     "text": [
      "[TEST] End of Epoch 0, Avg Loss: 1.6710, Accuracy: 93.15%\n"
     ]
    },
    {
     "name": "stderr",
     "output_type": "stream",
     "text": []
    },
    {
     "name": "stdout",
     "output_type": "stream",
     "text": [
      "[TRAIN] End of Epoch 0, Avg Loss: 1.2500, Accuracy: 100.00%\n"
     ]
    },
    {
     "name": "stderr",
     "output_type": "stream",
     "text": [
      "Training Epochs: 100%|██████████| 2/2 [00:03<00:00,  1.71s/it]\n"
     ]
    },
    {
     "name": "stdout",
     "output_type": "stream",
     "text": [
      "[TRAIN] End of Epoch 1, Avg Loss: 1.2500, Accuracy: 100.00%\n"
     ]
    },
    {
     "name": "stderr",
     "output_type": "stream",
     "text": [
      "Testing Epochs: 100%|██████████| 1/1 [00:00<00:00,  2.32it/s]\n",
      "TOTAL Epochs:  78%|███████▊  | 188/240 [11:36<03:18,  3.82s/it]"
     ]
    },
    {
     "name": "stdout",
     "output_type": "stream",
     "text": [
      "[TEST] End of Epoch 0, Avg Loss: 1.6699, Accuracy: 93.01%\n"
     ]
    },
    {
     "name": "stderr",
     "output_type": "stream",
     "text": []
    },
    {
     "name": "stdout",
     "output_type": "stream",
     "text": [
      "[TRAIN] End of Epoch 0, Avg Loss: 1.2502, Accuracy: 100.00%\n"
     ]
    },
    {
     "name": "stderr",
     "output_type": "stream",
     "text": [
      "Training Epochs: 100%|██████████| 2/2 [00:02<00:00,  1.09s/it]\n"
     ]
    },
    {
     "name": "stdout",
     "output_type": "stream",
     "text": [
      "[TRAIN] End of Epoch 1, Avg Loss: 1.2503, Accuracy: 100.00%\n"
     ]
    },
    {
     "name": "stderr",
     "output_type": "stream",
     "text": [
      "Testing Epochs: 100%|██████████| 1/1 [00:00<00:00,  2.32it/s]\n",
      "TOTAL Epochs:  79%|███████▉  | 189/240 [11:39<02:56,  3.46s/it]"
     ]
    },
    {
     "name": "stdout",
     "output_type": "stream",
     "text": [
      "[TEST] End of Epoch 0, Avg Loss: 1.6676, Accuracy: 92.41%\n"
     ]
    },
    {
     "name": "stderr",
     "output_type": "stream",
     "text": []
    },
    {
     "name": "stdout",
     "output_type": "stream",
     "text": [
      "[TRAIN] End of Epoch 0, Avg Loss: 1.2505, Accuracy: 100.00%\n"
     ]
    },
    {
     "name": "stderr",
     "output_type": "stream",
     "text": [
      "Training Epochs: 100%|██████████| 2/2 [00:03<00:00,  1.70s/it]\n"
     ]
    },
    {
     "name": "stdout",
     "output_type": "stream",
     "text": [
      "[TRAIN] End of Epoch 1, Avg Loss: 1.2500, Accuracy: 100.00%\n"
     ]
    },
    {
     "name": "stderr",
     "output_type": "stream",
     "text": [
      "Testing Epochs: 100%|██████████| 1/1 [00:00<00:00,  2.42it/s]\n",
      "TOTAL Epochs:  79%|███████▉  | 190/240 [11:42<02:58,  3.57s/it]"
     ]
    },
    {
     "name": "stdout",
     "output_type": "stream",
     "text": [
      "[TEST] End of Epoch 0, Avg Loss: 1.6701, Accuracy: 92.26%\n"
     ]
    },
    {
     "name": "stderr",
     "output_type": "stream",
     "text": []
    },
    {
     "name": "stdout",
     "output_type": "stream",
     "text": [
      "[TRAIN] End of Epoch 0, Avg Loss: 1.2496, Accuracy: 100.00%\n"
     ]
    },
    {
     "name": "stderr",
     "output_type": "stream",
     "text": [
      "Training Epochs: 100%|██████████| 2/2 [00:03<00:00,  1.71s/it]\n"
     ]
    },
    {
     "name": "stdout",
     "output_type": "stream",
     "text": [
      "[TRAIN] End of Epoch 1, Avg Loss: 1.2495, Accuracy: 100.00%\n"
     ]
    },
    {
     "name": "stderr",
     "output_type": "stream",
     "text": [
      "Testing Epochs: 100%|██████████| 1/1 [00:00<00:00,  2.37it/s]\n",
      "TOTAL Epochs:  80%|███████▉  | 191/240 [11:46<02:59,  3.66s/it]"
     ]
    },
    {
     "name": "stdout",
     "output_type": "stream",
     "text": [
      "[TEST] End of Epoch 0, Avg Loss: 1.6754, Accuracy: 92.86%\n"
     ]
    },
    {
     "name": "stderr",
     "output_type": "stream",
     "text": []
    },
    {
     "name": "stdout",
     "output_type": "stream",
     "text": [
      "[TRAIN] End of Epoch 0, Avg Loss: 1.2498, Accuracy: 100.00%\n"
     ]
    },
    {
     "name": "stderr",
     "output_type": "stream",
     "text": [
      "Training Epochs: 100%|██████████| 2/2 [00:03<00:00,  1.70s/it]\n"
     ]
    },
    {
     "name": "stdout",
     "output_type": "stream",
     "text": [
      "[TRAIN] End of Epoch 1, Avg Loss: 1.2492, Accuracy: 100.00%\n"
     ]
    },
    {
     "name": "stderr",
     "output_type": "stream",
     "text": [
      "Testing Epochs: 100%|██████████| 1/1 [00:00<00:00,  2.44it/s]\n",
      "TOTAL Epochs:  80%|████████  | 192/240 [11:50<02:57,  3.71s/it]"
     ]
    },
    {
     "name": "stdout",
     "output_type": "stream",
     "text": [
      "[TEST] End of Epoch 0, Avg Loss: 1.6783, Accuracy: 92.56%\n"
     ]
    },
    {
     "name": "stderr",
     "output_type": "stream",
     "text": []
    },
    {
     "name": "stdout",
     "output_type": "stream",
     "text": [
      "[TRAIN] End of Epoch 0, Avg Loss: 1.2494, Accuracy: 100.00%\n"
     ]
    },
    {
     "name": "stderr",
     "output_type": "stream",
     "text": [
      "Training Epochs: 100%|██████████| 2/2 [00:03<00:00,  1.70s/it]\n"
     ]
    },
    {
     "name": "stdout",
     "output_type": "stream",
     "text": [
      "[TRAIN] End of Epoch 1, Avg Loss: 1.2495, Accuracy: 100.00%\n"
     ]
    },
    {
     "name": "stderr",
     "output_type": "stream",
     "text": [
      "Testing Epochs: 100%|██████████| 1/1 [00:00<00:00,  2.40it/s]\n",
      "TOTAL Epochs:  80%|████████  | 193/240 [11:54<02:55,  3.74s/it]"
     ]
    },
    {
     "name": "stdout",
     "output_type": "stream",
     "text": [
      "[TEST] End of Epoch 0, Avg Loss: 1.6748, Accuracy: 92.41%\n"
     ]
    },
    {
     "name": "stderr",
     "output_type": "stream",
     "text": []
    },
    {
     "name": "stdout",
     "output_type": "stream",
     "text": [
      "[TRAIN] End of Epoch 0, Avg Loss: 1.2498, Accuracy: 100.00%\n"
     ]
    },
    {
     "name": "stderr",
     "output_type": "stream",
     "text": [
      "Training Epochs: 100%|██████████| 2/2 [00:03<00:00,  1.70s/it]\n"
     ]
    },
    {
     "name": "stdout",
     "output_type": "stream",
     "text": [
      "[TRAIN] End of Epoch 1, Avg Loss: 1.2492, Accuracy: 100.00%\n"
     ]
    },
    {
     "name": "stderr",
     "output_type": "stream",
     "text": [
      "Testing Epochs: 100%|██████████| 1/1 [00:00<00:00,  2.34it/s]\n",
      "TOTAL Epochs:  81%|████████  | 194/240 [11:58<02:53,  3.77s/it]"
     ]
    },
    {
     "name": "stdout",
     "output_type": "stream",
     "text": [
      "[TEST] End of Epoch 0, Avg Loss: 1.6798, Accuracy: 93.01%\n"
     ]
    },
    {
     "name": "stderr",
     "output_type": "stream",
     "text": []
    },
    {
     "name": "stdout",
     "output_type": "stream",
     "text": [
      "[TRAIN] End of Epoch 0, Avg Loss: 1.2491, Accuracy: 100.00%\n"
     ]
    },
    {
     "name": "stderr",
     "output_type": "stream",
     "text": [
      "Training Epochs: 100%|██████████| 2/2 [00:03<00:00,  1.71s/it]\n"
     ]
    },
    {
     "name": "stdout",
     "output_type": "stream",
     "text": [
      "[TRAIN] End of Epoch 1, Avg Loss: 1.2502, Accuracy: 100.00%\n"
     ]
    },
    {
     "name": "stderr",
     "output_type": "stream",
     "text": [
      "Testing Epochs: 100%|██████████| 1/1 [00:00<00:00,  2.36it/s]\n",
      "TOTAL Epochs:  81%|████████▏ | 195/240 [12:02<02:50,  3.79s/it]"
     ]
    },
    {
     "name": "stdout",
     "output_type": "stream",
     "text": [
      "[TEST] End of Epoch 0, Avg Loss: 1.6722, Accuracy: 92.86%\n"
     ]
    },
    {
     "name": "stderr",
     "output_type": "stream",
     "text": []
    },
    {
     "name": "stdout",
     "output_type": "stream",
     "text": [
      "[TRAIN] End of Epoch 0, Avg Loss: 1.2498, Accuracy: 100.00%\n"
     ]
    },
    {
     "name": "stderr",
     "output_type": "stream",
     "text": [
      "Training Epochs: 100%|██████████| 2/2 [00:03<00:00,  1.71s/it]\n"
     ]
    },
    {
     "name": "stdout",
     "output_type": "stream",
     "text": [
      "[TRAIN] End of Epoch 1, Avg Loss: 1.2490, Accuracy: 100.00%\n"
     ]
    },
    {
     "name": "stderr",
     "output_type": "stream",
     "text": [
      "Testing Epochs: 100%|██████████| 1/1 [00:00<00:00,  2.41it/s]\n",
      "TOTAL Epochs:  82%|████████▏ | 196/240 [12:05<02:47,  3.81s/it]"
     ]
    },
    {
     "name": "stdout",
     "output_type": "stream",
     "text": [
      "[TEST] End of Epoch 0, Avg Loss: 1.6822, Accuracy: 93.45%\n"
     ]
    },
    {
     "name": "stderr",
     "output_type": "stream",
     "text": []
    },
    {
     "name": "stdout",
     "output_type": "stream",
     "text": [
      "[TRAIN] End of Epoch 0, Avg Loss: 1.2489, Accuracy: 100.00%\n"
     ]
    },
    {
     "name": "stderr",
     "output_type": "stream",
     "text": [
      "Training Epochs: 100%|██████████| 2/2 [00:03<00:00,  1.72s/it]\n"
     ]
    },
    {
     "name": "stdout",
     "output_type": "stream",
     "text": [
      "[TRAIN] End of Epoch 1, Avg Loss: 1.2492, Accuracy: 100.00%\n"
     ]
    },
    {
     "name": "stderr",
     "output_type": "stream",
     "text": [
      "Testing Epochs: 100%|██████████| 1/1 [00:00<00:00, -1.23it/s]\n",
      "TOTAL Epochs:  82%|████████▏ | 197/240 [12:08<02:28,  3.45s/it]"
     ]
    },
    {
     "name": "stdout",
     "output_type": "stream",
     "text": [
      "[TEST] End of Epoch 0, Avg Loss: 1.6816, Accuracy: 93.15%\n"
     ]
    },
    {
     "name": "stderr",
     "output_type": "stream",
     "text": []
    },
    {
     "name": "stdout",
     "output_type": "stream",
     "text": [
      "[TRAIN] End of Epoch 0, Avg Loss: 1.2489, Accuracy: 100.00%\n"
     ]
    },
    {
     "name": "stderr",
     "output_type": "stream",
     "text": [
      "Training Epochs: 100%|██████████| 2/2 [00:03<00:00,  1.70s/it]\n"
     ]
    },
    {
     "name": "stdout",
     "output_type": "stream",
     "text": [
      "[TRAIN] End of Epoch 1, Avg Loss: 1.2490, Accuracy: 100.00%\n"
     ]
    },
    {
     "name": "stderr",
     "output_type": "stream",
     "text": [
      "Testing Epochs: 100%|██████████| 1/1 [00:00<00:00,  2.39it/s]\n",
      "TOTAL Epochs:  82%|████████▎ | 198/240 [12:12<02:29,  3.56s/it]"
     ]
    },
    {
     "name": "stdout",
     "output_type": "stream",
     "text": [
      "[TEST] End of Epoch 0, Avg Loss: 1.6768, Accuracy: 93.01%\n"
     ]
    },
    {
     "name": "stderr",
     "output_type": "stream",
     "text": []
    },
    {
     "name": "stdout",
     "output_type": "stream",
     "text": [
      "[TRAIN] End of Epoch 0, Avg Loss: 1.2486, Accuracy: 100.00%\n"
     ]
    },
    {
     "name": "stderr",
     "output_type": "stream",
     "text": [
      "Training Epochs: 100%|██████████| 2/2 [00:03<00:00,  1.71s/it]\n"
     ]
    },
    {
     "name": "stdout",
     "output_type": "stream",
     "text": [
      "[TRAIN] End of Epoch 1, Avg Loss: 1.2501, Accuracy: 100.00%\n"
     ]
    },
    {
     "name": "stderr",
     "output_type": "stream",
     "text": [
      "Testing Epochs: 100%|██████████| 1/1 [00:00<00:00,  2.45it/s]\n",
      "TOTAL Epochs:  83%|████████▎ | 199/240 [12:16<02:29,  3.64s/it]"
     ]
    },
    {
     "name": "stdout",
     "output_type": "stream",
     "text": [
      "[TEST] End of Epoch 0, Avg Loss: 1.6854, Accuracy: 92.71%\n"
     ]
    },
    {
     "name": "stderr",
     "output_type": "stream",
     "text": []
    },
    {
     "name": "stdout",
     "output_type": "stream",
     "text": [
      "[TRAIN] End of Epoch 0, Avg Loss: 1.2490, Accuracy: 100.00%\n"
     ]
    },
    {
     "name": "stderr",
     "output_type": "stream",
     "text": [
      "Training Epochs: 100%|██████████| 2/2 [00:03<00:00,  1.72s/it]\n"
     ]
    },
    {
     "name": "stdout",
     "output_type": "stream",
     "text": [
      "[TRAIN] End of Epoch 1, Avg Loss: 1.2488, Accuracy: 100.00%\n"
     ]
    },
    {
     "name": "stderr",
     "output_type": "stream",
     "text": [
      "Testing Epochs: 100%|██████████| 1/1 [00:00<00:00,  2.38it/s]\n",
      "TOTAL Epochs:  83%|████████▎ | 200/240 [12:20<02:28,  3.71s/it]"
     ]
    },
    {
     "name": "stdout",
     "output_type": "stream",
     "text": [
      "[TEST] End of Epoch 0, Avg Loss: 1.6755, Accuracy: 92.86%\n"
     ]
    },
    {
     "name": "stderr",
     "output_type": "stream",
     "text": []
    },
    {
     "name": "stdout",
     "output_type": "stream",
     "text": [
      "[TRAIN] End of Epoch 0, Avg Loss: 1.7890, Accuracy: 86.73%\n"
     ]
    },
    {
     "name": "stderr",
     "output_type": "stream",
     "text": [
      "Training Epochs: 100%|██████████| 2/2 [00:03<00:00,  1.71s/it]\n"
     ]
    },
    {
     "name": "stdout",
     "output_type": "stream",
     "text": [
      "[TRAIN] End of Epoch 1, Avg Loss: 1.7122, Accuracy: 93.05%\n"
     ]
    },
    {
     "name": "stderr",
     "output_type": "stream",
     "text": [
      "Testing Epochs: 100%|██████████| 1/1 [00:00<00:00,  2.42it/s]\n",
      "TOTAL Epochs:  84%|████████▍ | 201/240 [12:23<02:26,  3.75s/it]"
     ]
    },
    {
     "name": "stdout",
     "output_type": "stream",
     "text": [
      "[TEST] End of Epoch 0, Avg Loss: 1.7685, Accuracy: 81.85%\n"
     ]
    },
    {
     "name": "stderr",
     "output_type": "stream",
     "text": []
    },
    {
     "name": "stdout",
     "output_type": "stream",
     "text": [
      "[TRAIN] End of Epoch 0, Avg Loss: 1.5034, Accuracy: 99.04%\n"
     ]
    },
    {
     "name": "stderr",
     "output_type": "stream",
     "text": [
      "Training Epochs: 100%|██████████| 2/2 [00:03<00:00,  1.71s/it]\n"
     ]
    },
    {
     "name": "stdout",
     "output_type": "stream",
     "text": [
      "[TRAIN] End of Epoch 1, Avg Loss: 1.4072, Accuracy: 99.81%\n"
     ]
    },
    {
     "name": "stderr",
     "output_type": "stream",
     "text": [
      "Testing Epochs: 100%|██████████| 1/1 [00:00<00:00,  2.46it/s]\n",
      "TOTAL Epochs:  84%|████████▍ | 202/240 [12:27<02:23,  3.78s/it]"
     ]
    },
    {
     "name": "stdout",
     "output_type": "stream",
     "text": [
      "[TEST] End of Epoch 0, Avg Loss: 1.7163, Accuracy: 86.31%\n"
     ]
    },
    {
     "name": "stderr",
     "output_type": "stream",
     "text": []
    },
    {
     "name": "stdout",
     "output_type": "stream",
     "text": [
      "[TRAIN] End of Epoch 0, Avg Loss: 1.3533, Accuracy: 100.00%\n"
     ]
    },
    {
     "name": "stderr",
     "output_type": "stream",
     "text": [
      "Training Epochs: 100%|██████████| 2/2 [00:03<00:00,  1.72s/it]\n"
     ]
    },
    {
     "name": "stdout",
     "output_type": "stream",
     "text": [
      "[TRAIN] End of Epoch 1, Avg Loss: 1.3367, Accuracy: 100.00%\n"
     ]
    },
    {
     "name": "stderr",
     "output_type": "stream",
     "text": [
      "Testing Epochs: 100%|██████████| 1/1 [00:00<00:00,  2.40it/s]\n",
      "TOTAL Epochs:  85%|████████▍ | 203/240 [12:31<02:20,  3.80s/it]"
     ]
    },
    {
     "name": "stdout",
     "output_type": "stream",
     "text": [
      "[TEST] End of Epoch 0, Avg Loss: 1.6427, Accuracy: 90.62%\n"
     ]
    },
    {
     "name": "stderr",
     "output_type": "stream",
     "text": []
    },
    {
     "name": "stdout",
     "output_type": "stream",
     "text": [
      "[TRAIN] End of Epoch 0, Avg Loss: 1.3244, Accuracy: 100.00%\n"
     ]
    },
    {
     "name": "stderr",
     "output_type": "stream",
     "text": [
      "Training Epochs: 100%|██████████| 2/2 [00:03<00:00,  1.72s/it]\n"
     ]
    },
    {
     "name": "stdout",
     "output_type": "stream",
     "text": [
      "[TRAIN] End of Epoch 1, Avg Loss: 1.3198, Accuracy: 100.00%\n"
     ]
    },
    {
     "name": "stderr",
     "output_type": "stream",
     "text": [
      "Testing Epochs: 100%|██████████| 1/1 [00:00<00:00,  2.32it/s]\n",
      "TOTAL Epochs:  85%|████████▌ | 204/240 [12:35<02:17,  3.83s/it]"
     ]
    },
    {
     "name": "stdout",
     "output_type": "stream",
     "text": [
      "[TEST] End of Epoch 0, Avg Loss: 1.6467, Accuracy: 90.18%\n"
     ]
    },
    {
     "name": "stderr",
     "output_type": "stream",
     "text": []
    },
    {
     "name": "stdout",
     "output_type": "stream",
     "text": [
      "[TRAIN] End of Epoch 0, Avg Loss: 1.3139, Accuracy: 100.00%\n"
     ]
    },
    {
     "name": "stderr",
     "output_type": "stream",
     "text": [
      "Training Epochs: 100%|██████████| 2/2 [00:03<00:00,  1.70s/it]\n"
     ]
    },
    {
     "name": "stdout",
     "output_type": "stream",
     "text": [
      "[TRAIN] End of Epoch 1, Avg Loss: 1.3113, Accuracy: 100.00%\n"
     ]
    },
    {
     "name": "stderr",
     "output_type": "stream",
     "text": [
      "Testing Epochs: 100%|██████████| 1/1 [00:00<00:00,  2.43it/s]\n",
      "TOTAL Epochs:  85%|████████▌ | 205/240 [12:39<02:13,  3.83s/it]"
     ]
    },
    {
     "name": "stdout",
     "output_type": "stream",
     "text": [
      "[TEST] End of Epoch 0, Avg Loss: 1.6256, Accuracy: 89.88%\n"
     ]
    },
    {
     "name": "stderr",
     "output_type": "stream",
     "text": []
    },
    {
     "name": "stdout",
     "output_type": "stream",
     "text": [
      "[TRAIN] End of Epoch 0, Avg Loss: 1.2990, Accuracy: 100.00%\n"
     ]
    },
    {
     "name": "stderr",
     "output_type": "stream",
     "text": [
      "Training Epochs: 100%|██████████| 2/2 [00:02<00:00,  1.08s/it]\n"
     ]
    },
    {
     "name": "stdout",
     "output_type": "stream",
     "text": [
      "[TRAIN] End of Epoch 1, Avg Loss: 1.2986, Accuracy: 100.00%\n"
     ]
    },
    {
     "name": "stderr",
     "output_type": "stream",
     "text": [
      "Testing Epochs: 100%|██████████| 1/1 [00:00<00:00,  2.42it/s]\n",
      "TOTAL Epochs:  86%|████████▌ | 206/240 [12:41<01:57,  3.46s/it]"
     ]
    },
    {
     "name": "stdout",
     "output_type": "stream",
     "text": [
      "[TEST] End of Epoch 0, Avg Loss: 1.6329, Accuracy: 90.48%\n"
     ]
    },
    {
     "name": "stderr",
     "output_type": "stream",
     "text": []
    },
    {
     "name": "stdout",
     "output_type": "stream",
     "text": [
      "[TRAIN] End of Epoch 0, Avg Loss: 1.3014, Accuracy: 100.00%\n"
     ]
    },
    {
     "name": "stderr",
     "output_type": "stream",
     "text": [
      "Training Epochs: 100%|██████████| 2/2 [00:03<00:00,  1.71s/it]\n"
     ]
    },
    {
     "name": "stdout",
     "output_type": "stream",
     "text": [
      "[TRAIN] End of Epoch 1, Avg Loss: 1.2948, Accuracy: 100.00%\n"
     ]
    },
    {
     "name": "stderr",
     "output_type": "stream",
     "text": [
      "Testing Epochs: 100%|██████████| 1/1 [00:00<00:00,  2.44it/s]\n",
      "TOTAL Epochs:  86%|████████▋ | 207/240 [12:45<01:57,  3.57s/it]"
     ]
    },
    {
     "name": "stdout",
     "output_type": "stream",
     "text": [
      "[TEST] End of Epoch 0, Avg Loss: 1.6479, Accuracy: 89.58%\n"
     ]
    },
    {
     "name": "stderr",
     "output_type": "stream",
     "text": []
    },
    {
     "name": "stdout",
     "output_type": "stream",
     "text": [
      "[TRAIN] End of Epoch 0, Avg Loss: 1.2940, Accuracy: 100.00%\n"
     ]
    },
    {
     "name": "stderr",
     "output_type": "stream",
     "text": [
      "Training Epochs: 100%|██████████| 2/2 [00:03<00:00,  1.71s/it]\n"
     ]
    },
    {
     "name": "stdout",
     "output_type": "stream",
     "text": [
      "[TRAIN] End of Epoch 1, Avg Loss: 1.2913, Accuracy: 100.00%\n"
     ]
    },
    {
     "name": "stderr",
     "output_type": "stream",
     "text": [
      "Testing Epochs: 100%|██████████| 1/1 [00:00<00:00,  2.39it/s]\n",
      "TOTAL Epochs:  87%|████████▋ | 208/240 [12:49<01:56,  3.65s/it]"
     ]
    },
    {
     "name": "stdout",
     "output_type": "stream",
     "text": [
      "[TEST] End of Epoch 0, Avg Loss: 1.6618, Accuracy: 91.07%\n"
     ]
    },
    {
     "name": "stderr",
     "output_type": "stream",
     "text": []
    },
    {
     "name": "stdout",
     "output_type": "stream",
     "text": [
      "[TRAIN] End of Epoch 0, Avg Loss: 1.2995, Accuracy: 100.00%\n"
     ]
    },
    {
     "name": "stderr",
     "output_type": "stream",
     "text": [
      "Training Epochs: 100%|██████████| 2/2 [00:03<00:00,  1.73s/it]\n"
     ]
    },
    {
     "name": "stdout",
     "output_type": "stream",
     "text": [
      "[TRAIN] End of Epoch 1, Avg Loss: 1.3053, Accuracy: 100.00%\n"
     ]
    },
    {
     "name": "stderr",
     "output_type": "stream",
     "text": [
      "Testing Epochs: 100%|██████████| 1/1 [00:00<00:00,  2.41it/s]\n",
      "TOTAL Epochs:  87%|████████▋ | 209/240 [12:53<01:55,  3.72s/it]"
     ]
    },
    {
     "name": "stdout",
     "output_type": "stream",
     "text": [
      "[TEST] End of Epoch 0, Avg Loss: 1.6994, Accuracy: 86.76%\n"
     ]
    },
    {
     "name": "stderr",
     "output_type": "stream",
     "text": []
    },
    {
     "name": "stdout",
     "output_type": "stream",
     "text": [
      "[TRAIN] End of Epoch 0, Avg Loss: 1.3015, Accuracy: 100.00%\n"
     ]
    },
    {
     "name": "stderr",
     "output_type": "stream",
     "text": [
      "Training Epochs: 100%|██████████| 2/2 [00:03<00:00,  1.70s/it]\n"
     ]
    },
    {
     "name": "stdout",
     "output_type": "stream",
     "text": [
      "[TRAIN] End of Epoch 1, Avg Loss: 1.3112, Accuracy: 100.00%\n"
     ]
    },
    {
     "name": "stderr",
     "output_type": "stream",
     "text": [
      "Testing Epochs: 100%|██████████| 1/1 [00:00<00:00,  2.44it/s]\n",
      "TOTAL Epochs:  88%|████████▊ | 210/240 [12:57<01:52,  3.75s/it]"
     ]
    },
    {
     "name": "stdout",
     "output_type": "stream",
     "text": [
      "[TEST] End of Epoch 0, Avg Loss: 1.6534, Accuracy: 90.48%\n"
     ]
    },
    {
     "name": "stderr",
     "output_type": "stream",
     "text": []
    },
    {
     "name": "stdout",
     "output_type": "stream",
     "text": [
      "[TRAIN] End of Epoch 0, Avg Loss: 1.2984, Accuracy: 100.00%\n"
     ]
    },
    {
     "name": "stderr",
     "output_type": "stream",
     "text": [
      "Training Epochs: 100%|██████████| 2/2 [00:03<00:00,  1.70s/it]\n"
     ]
    },
    {
     "name": "stdout",
     "output_type": "stream",
     "text": [
      "[TRAIN] End of Epoch 1, Avg Loss: 1.2927, Accuracy: 100.00%\n"
     ]
    },
    {
     "name": "stderr",
     "output_type": "stream",
     "text": [
      "Testing Epochs: 100%|██████████| 1/1 [00:00<00:00,  2.33it/s]\n",
      "TOTAL Epochs:  88%|████████▊ | 211/240 [13:01<01:49,  3.78s/it]"
     ]
    },
    {
     "name": "stdout",
     "output_type": "stream",
     "text": [
      "[TEST] End of Epoch 0, Avg Loss: 1.6612, Accuracy: 90.77%\n"
     ]
    },
    {
     "name": "stderr",
     "output_type": "stream",
     "text": []
    },
    {
     "name": "stdout",
     "output_type": "stream",
     "text": [
      "[TRAIN] End of Epoch 0, Avg Loss: 1.2968, Accuracy: 100.00%\n"
     ]
    },
    {
     "name": "stderr",
     "output_type": "stream",
     "text": [
      "Training Epochs: 100%|██████████| 2/2 [00:03<00:00,  1.72s/it]\n"
     ]
    },
    {
     "name": "stdout",
     "output_type": "stream",
     "text": [
      "[TRAIN] End of Epoch 1, Avg Loss: 1.2864, Accuracy: 100.00%\n"
     ]
    },
    {
     "name": "stderr",
     "output_type": "stream",
     "text": [
      "Testing Epochs: 100%|██████████| 1/1 [00:00<00:00,  2.43it/s]\n",
      "TOTAL Epochs:  88%|████████▊ | 212/240 [13:05<01:46,  3.81s/it]"
     ]
    },
    {
     "name": "stdout",
     "output_type": "stream",
     "text": [
      "[TEST] End of Epoch 0, Avg Loss: 1.6791, Accuracy: 89.29%\n"
     ]
    },
    {
     "name": "stderr",
     "output_type": "stream",
     "text": []
    },
    {
     "name": "stdout",
     "output_type": "stream",
     "text": [
      "[TRAIN] End of Epoch 0, Avg Loss: 1.2850, Accuracy: 100.00%\n"
     ]
    },
    {
     "name": "stderr",
     "output_type": "stream",
     "text": [
      "Training Epochs: 100%|██████████| 2/2 [00:03<00:00,  1.70s/it]\n"
     ]
    },
    {
     "name": "stdout",
     "output_type": "stream",
     "text": [
      "[TRAIN] End of Epoch 1, Avg Loss: 1.2854, Accuracy: 100.00%\n"
     ]
    },
    {
     "name": "stderr",
     "output_type": "stream",
     "text": [
      "Testing Epochs: 100%|██████████| 1/1 [00:00<00:00,  2.42it/s]\n",
      "TOTAL Epochs:  89%|████████▉ | 213/240 [13:08<01:42,  3.81s/it]"
     ]
    },
    {
     "name": "stdout",
     "output_type": "stream",
     "text": [
      "[TEST] End of Epoch 0, Avg Loss: 1.6410, Accuracy: 90.92%\n"
     ]
    },
    {
     "name": "stderr",
     "output_type": "stream",
     "text": []
    },
    {
     "name": "stdout",
     "output_type": "stream",
     "text": [
      "[TRAIN] End of Epoch 0, Avg Loss: 1.2937, Accuracy: 100.00%\n"
     ]
    },
    {
     "name": "stderr",
     "output_type": "stream",
     "text": [
      "Training Epochs: 100%|██████████| 2/2 [00:02<00:00,  1.09s/it]\n"
     ]
    },
    {
     "name": "stdout",
     "output_type": "stream",
     "text": [
      "[TRAIN] End of Epoch 1, Avg Loss: 1.2904, Accuracy: 100.00%\n"
     ]
    },
    {
     "name": "stderr",
     "output_type": "stream",
     "text": [
      "Testing Epochs: 100%|██████████| 1/1 [00:00<00:00,  2.38it/s]\n",
      "TOTAL Epochs:  89%|████████▉ | 214/240 [13:11<01:29,  3.45s/it]"
     ]
    },
    {
     "name": "stdout",
     "output_type": "stream",
     "text": [
      "[TEST] End of Epoch 0, Avg Loss: 1.6831, Accuracy: 90.18%\n"
     ]
    },
    {
     "name": "stderr",
     "output_type": "stream",
     "text": []
    },
    {
     "name": "stdout",
     "output_type": "stream",
     "text": [
      "[TRAIN] End of Epoch 0, Avg Loss: 1.2867, Accuracy: 100.00%\n"
     ]
    },
    {
     "name": "stderr",
     "output_type": "stream",
     "text": [
      "Training Epochs: 100%|██████████| 2/2 [00:03<00:00,  1.72s/it]\n"
     ]
    },
    {
     "name": "stdout",
     "output_type": "stream",
     "text": [
      "[TRAIN] End of Epoch 1, Avg Loss: 1.2883, Accuracy: 100.00%\n"
     ]
    },
    {
     "name": "stderr",
     "output_type": "stream",
     "text": [
      "Testing Epochs: 100%|██████████| 1/1 [00:00<00:00,  2.43it/s]\n",
      "TOTAL Epochs:  90%|████████▉ | 215/240 [13:15<01:29,  3.58s/it]"
     ]
    },
    {
     "name": "stdout",
     "output_type": "stream",
     "text": [
      "[TEST] End of Epoch 0, Avg Loss: 1.6713, Accuracy: 89.29%\n"
     ]
    },
    {
     "name": "stderr",
     "output_type": "stream",
     "text": []
    },
    {
     "name": "stdout",
     "output_type": "stream",
     "text": [
      "[TRAIN] End of Epoch 0, Avg Loss: 1.2933, Accuracy: 100.00%\n"
     ]
    },
    {
     "name": "stderr",
     "output_type": "stream",
     "text": [
      "Training Epochs: 100%|██████████| 2/2 [00:03<00:00,  1.72s/it]\n"
     ]
    },
    {
     "name": "stdout",
     "output_type": "stream",
     "text": [
      "[TRAIN] End of Epoch 1, Avg Loss: 1.2916, Accuracy: 100.00%\n"
     ]
    },
    {
     "name": "stderr",
     "output_type": "stream",
     "text": [
      "Testing Epochs: 100%|██████████| 1/1 [00:00<00:00,  2.25it/s]\n",
      "TOTAL Epochs:  90%|█████████ | 216/240 [13:19<01:28,  3.67s/it]"
     ]
    },
    {
     "name": "stdout",
     "output_type": "stream",
     "text": [
      "[TEST] End of Epoch 0, Avg Loss: 1.6617, Accuracy: 89.14%\n"
     ]
    },
    {
     "name": "stderr",
     "output_type": "stream",
     "text": []
    },
    {
     "name": "stdout",
     "output_type": "stream",
     "text": [
      "[TRAIN] End of Epoch 0, Avg Loss: 1.2999, Accuracy: 100.00%\n"
     ]
    },
    {
     "name": "stderr",
     "output_type": "stream",
     "text": [
      "Training Epochs: 100%|██████████| 2/2 [00:03<00:00,  1.72s/it]\n"
     ]
    },
    {
     "name": "stdout",
     "output_type": "stream",
     "text": [
      "[TRAIN] End of Epoch 1, Avg Loss: 1.2888, Accuracy: 100.00%\n"
     ]
    },
    {
     "name": "stderr",
     "output_type": "stream",
     "text": [
      "Testing Epochs: 100%|██████████| 1/1 [00:00<00:00,  2.40it/s]\n",
      "TOTAL Epochs:  90%|█████████ | 217/240 [13:23<01:25,  3.73s/it]"
     ]
    },
    {
     "name": "stdout",
     "output_type": "stream",
     "text": [
      "[TEST] End of Epoch 0, Avg Loss: 1.6426, Accuracy: 90.77%\n"
     ]
    },
    {
     "name": "stderr",
     "output_type": "stream",
     "text": []
    },
    {
     "name": "stdout",
     "output_type": "stream",
     "text": [
      "[TRAIN] End of Epoch 0, Avg Loss: 1.2878, Accuracy: 100.00%\n"
     ]
    },
    {
     "name": "stderr",
     "output_type": "stream",
     "text": [
      "Training Epochs: 100%|██████████| 2/2 [00:03<00:00,  1.70s/it]\n"
     ]
    },
    {
     "name": "stdout",
     "output_type": "stream",
     "text": [
      "[TRAIN] End of Epoch 1, Avg Loss: 1.2872, Accuracy: 100.00%\n"
     ]
    },
    {
     "name": "stderr",
     "output_type": "stream",
     "text": [
      "Testing Epochs: 100%|██████████| 1/1 [00:00<00:00,  2.38it/s]\n",
      "TOTAL Epochs:  91%|█████████ | 218/240 [13:26<01:22,  3.76s/it]"
     ]
    },
    {
     "name": "stdout",
     "output_type": "stream",
     "text": [
      "[TEST] End of Epoch 0, Avg Loss: 1.6658, Accuracy: 88.69%\n"
     ]
    },
    {
     "name": "stderr",
     "output_type": "stream",
     "text": []
    },
    {
     "name": "stdout",
     "output_type": "stream",
     "text": [
      "[TRAIN] End of Epoch 0, Avg Loss: 1.2894, Accuracy: 100.00%\n"
     ]
    },
    {
     "name": "stderr",
     "output_type": "stream",
     "text": [
      "Training Epochs: 100%|██████████| 2/2 [00:03<00:00,  1.71s/it]\n"
     ]
    },
    {
     "name": "stdout",
     "output_type": "stream",
     "text": [
      "[TRAIN] End of Epoch 1, Avg Loss: 1.2867, Accuracy: 100.00%\n"
     ]
    },
    {
     "name": "stderr",
     "output_type": "stream",
     "text": [
      "Testing Epochs: 100%|██████████| 1/1 [00:00<00:00,  2.41it/s]\n",
      "TOTAL Epochs:  91%|█████████▏| 219/240 [13:30<01:19,  3.78s/it]"
     ]
    },
    {
     "name": "stdout",
     "output_type": "stream",
     "text": [
      "[TEST] End of Epoch 0, Avg Loss: 1.6754, Accuracy: 87.20%\n"
     ]
    },
    {
     "name": "stderr",
     "output_type": "stream",
     "text": []
    },
    {
     "name": "stdout",
     "output_type": "stream",
     "text": [
      "[TRAIN] End of Epoch 0, Avg Loss: 1.2871, Accuracy: 100.00%\n"
     ]
    },
    {
     "name": "stderr",
     "output_type": "stream",
     "text": [
      "Training Epochs: 100%|██████████| 2/2 [00:03<00:00,  1.71s/it]\n"
     ]
    },
    {
     "name": "stdout",
     "output_type": "stream",
     "text": [
      "[TRAIN] End of Epoch 1, Avg Loss: 1.2886, Accuracy: 100.00%\n"
     ]
    },
    {
     "name": "stderr",
     "output_type": "stream",
     "text": [
      "Testing Epochs: 100%|██████████| 1/1 [00:00<00:00,  2.31it/s]\n",
      "TOTAL Epochs:  92%|█████████▏| 220/240 [13:34<01:16,  3.81s/it]"
     ]
    },
    {
     "name": "stdout",
     "output_type": "stream",
     "text": [
      "[TEST] End of Epoch 0, Avg Loss: 1.6493, Accuracy: 90.77%\n"
     ]
    },
    {
     "name": "stderr",
     "output_type": "stream",
     "text": []
    },
    {
     "name": "stdout",
     "output_type": "stream",
     "text": [
      "[TRAIN] End of Epoch 0, Avg Loss: 1.2904, Accuracy: 100.00%\n"
     ]
    },
    {
     "name": "stderr",
     "output_type": "stream",
     "text": [
      "Training Epochs: 100%|██████████| 2/2 [00:03<00:00,  1.71s/it]\n"
     ]
    },
    {
     "name": "stdout",
     "output_type": "stream",
     "text": [
      "[TRAIN] End of Epoch 1, Avg Loss: 1.2941, Accuracy: 100.00%\n"
     ]
    },
    {
     "name": "stderr",
     "output_type": "stream",
     "text": [
      "Testing Epochs: 100%|██████████| 1/1 [00:00<00:00,  2.42it/s]\n",
      "TOTAL Epochs:  92%|█████████▏| 221/240 [13:38<01:12,  3.82s/it]"
     ]
    },
    {
     "name": "stdout",
     "output_type": "stream",
     "text": [
      "[TEST] End of Epoch 0, Avg Loss: 1.6571, Accuracy: 90.62%\n"
     ]
    },
    {
     "name": "stderr",
     "output_type": "stream",
     "text": []
    },
    {
     "name": "stdout",
     "output_type": "stream",
     "text": [
      "[TRAIN] End of Epoch 0, Avg Loss: 1.2890, Accuracy: 100.00%\n"
     ]
    },
    {
     "name": "stderr",
     "output_type": "stream",
     "text": [
      "Training Epochs: 100%|██████████| 2/2 [00:03<00:00,  1.71s/it]\n"
     ]
    },
    {
     "name": "stdout",
     "output_type": "stream",
     "text": [
      "[TRAIN] End of Epoch 1, Avg Loss: 1.2905, Accuracy: 100.00%\n"
     ]
    },
    {
     "name": "stderr",
     "output_type": "stream",
     "text": [
      "Testing Epochs: 100%|██████████| 1/1 [00:00<00:00,  2.40it/s]\n",
      "TOTAL Epochs:  92%|█████████▎| 222/240 [13:42<01:08,  3.83s/it]"
     ]
    },
    {
     "name": "stdout",
     "output_type": "stream",
     "text": [
      "[TEST] End of Epoch 0, Avg Loss: 1.6780, Accuracy: 89.58%\n"
     ]
    },
    {
     "name": "stderr",
     "output_type": "stream",
     "text": []
    },
    {
     "name": "stdout",
     "output_type": "stream",
     "text": [
      "[TRAIN] End of Epoch 0, Avg Loss: 1.2951, Accuracy: 100.00%\n"
     ]
    },
    {
     "name": "stderr",
     "output_type": "stream",
     "text": [
      "Training Epochs: 100%|██████████| 2/2 [00:02<00:00,  1.09s/it]\n"
     ]
    },
    {
     "name": "stdout",
     "output_type": "stream",
     "text": [
      "[TRAIN] End of Epoch 1, Avg Loss: 1.2937, Accuracy: 100.00%\n"
     ]
    },
    {
     "name": "stderr",
     "output_type": "stream",
     "text": [
      "Testing Epochs: 100%|██████████| 1/1 [00:00<00:00,  2.41it/s]\n",
      "TOTAL Epochs:  93%|█████████▎| 223/240 [13:44<00:58,  3.46s/it]"
     ]
    },
    {
     "name": "stdout",
     "output_type": "stream",
     "text": [
      "[TEST] End of Epoch 0, Avg Loss: 1.6434, Accuracy: 91.67%\n"
     ]
    },
    {
     "name": "stderr",
     "output_type": "stream",
     "text": []
    },
    {
     "name": "stdout",
     "output_type": "stream",
     "text": [
      "[TRAIN] End of Epoch 0, Avg Loss: 1.2849, Accuracy: 100.00%\n"
     ]
    },
    {
     "name": "stderr",
     "output_type": "stream",
     "text": [
      "Training Epochs: 100%|██████████| 2/2 [00:03<00:00,  1.71s/it]\n"
     ]
    },
    {
     "name": "stdout",
     "output_type": "stream",
     "text": [
      "[TRAIN] End of Epoch 1, Avg Loss: 1.2872, Accuracy: 100.00%\n"
     ]
    },
    {
     "name": "stderr",
     "output_type": "stream",
     "text": [
      "Testing Epochs: 100%|██████████| 1/1 [00:00<00:00,  2.35it/s]\n",
      "TOTAL Epochs:  93%|█████████▎| 224/240 [13:48<00:57,  3.58s/it]"
     ]
    },
    {
     "name": "stdout",
     "output_type": "stream",
     "text": [
      "[TEST] End of Epoch 0, Avg Loss: 1.6580, Accuracy: 90.77%\n"
     ]
    },
    {
     "name": "stderr",
     "output_type": "stream",
     "text": []
    },
    {
     "name": "stdout",
     "output_type": "stream",
     "text": [
      "[TRAIN] End of Epoch 0, Avg Loss: 1.2859, Accuracy: 100.00%\n"
     ]
    },
    {
     "name": "stderr",
     "output_type": "stream",
     "text": [
      "Training Epochs: 100%|██████████| 2/2 [00:03<00:00,  1.72s/it]\n"
     ]
    },
    {
     "name": "stdout",
     "output_type": "stream",
     "text": [
      "[TRAIN] End of Epoch 1, Avg Loss: 1.2885, Accuracy: 100.00%\n"
     ]
    },
    {
     "name": "stderr",
     "output_type": "stream",
     "text": [
      "Testing Epochs: 100%|██████████| 1/1 [00:00<00:00,  2.33it/s]\n",
      "TOTAL Epochs:  94%|█████████▍| 225/240 [13:52<00:55,  3.67s/it]"
     ]
    },
    {
     "name": "stdout",
     "output_type": "stream",
     "text": [
      "[TEST] End of Epoch 0, Avg Loss: 1.6639, Accuracy: 90.18%\n"
     ]
    },
    {
     "name": "stderr",
     "output_type": "stream",
     "text": []
    },
    {
     "name": "stdout",
     "output_type": "stream",
     "text": [
      "[TRAIN] End of Epoch 0, Avg Loss: 1.3001, Accuracy: 100.00%\n"
     ]
    },
    {
     "name": "stderr",
     "output_type": "stream",
     "text": [
      "Training Epochs: 100%|██████████| 2/2 [00:03<00:00,  1.71s/it]\n"
     ]
    },
    {
     "name": "stdout",
     "output_type": "stream",
     "text": [
      "[TRAIN] End of Epoch 1, Avg Loss: 1.2907, Accuracy: 100.00%\n"
     ]
    },
    {
     "name": "stderr",
     "output_type": "stream",
     "text": [
      "Testing Epochs: 100%|██████████| 1/1 [00:00<00:00,  2.43it/s]\n",
      "TOTAL Epochs:  94%|█████████▍| 226/240 [13:56<00:52,  3.72s/it]"
     ]
    },
    {
     "name": "stdout",
     "output_type": "stream",
     "text": [
      "[TEST] End of Epoch 0, Avg Loss: 1.6493, Accuracy: 91.37%\n"
     ]
    },
    {
     "name": "stderr",
     "output_type": "stream",
     "text": []
    },
    {
     "name": "stdout",
     "output_type": "stream",
     "text": [
      "[TRAIN] End of Epoch 0, Avg Loss: 1.2862, Accuracy: 100.00%\n"
     ]
    },
    {
     "name": "stderr",
     "output_type": "stream",
     "text": [
      "Training Epochs: 100%|██████████| 2/2 [00:03<00:00,  1.70s/it]\n"
     ]
    },
    {
     "name": "stdout",
     "output_type": "stream",
     "text": [
      "[TRAIN] End of Epoch 1, Avg Loss: 1.2804, Accuracy: 100.00%\n"
     ]
    },
    {
     "name": "stderr",
     "output_type": "stream",
     "text": [
      "Testing Epochs: 100%|██████████| 1/1 [00:00<00:00,  2.42it/s]\n",
      "TOTAL Epochs:  95%|█████████▍| 227/240 [14:00<00:48,  3.75s/it]"
     ]
    },
    {
     "name": "stdout",
     "output_type": "stream",
     "text": [
      "[TEST] End of Epoch 0, Avg Loss: 1.6515, Accuracy: 91.22%\n"
     ]
    },
    {
     "name": "stderr",
     "output_type": "stream",
     "text": []
    },
    {
     "name": "stdout",
     "output_type": "stream",
     "text": [
      "[TRAIN] End of Epoch 0, Avg Loss: 1.2865, Accuracy: 100.00%\n"
     ]
    },
    {
     "name": "stderr",
     "output_type": "stream",
     "text": [
      "Training Epochs: 100%|██████████| 2/2 [00:03<00:00,  1.70s/it]\n"
     ]
    },
    {
     "name": "stdout",
     "output_type": "stream",
     "text": [
      "[TRAIN] End of Epoch 1, Avg Loss: 1.2893, Accuracy: 100.00%\n"
     ]
    },
    {
     "name": "stderr",
     "output_type": "stream",
     "text": [
      "Testing Epochs: 100%|██████████| 1/1 [00:00<00:00,  2.41it/s]\n",
      "TOTAL Epochs:  95%|█████████▌| 228/240 [14:04<00:45,  3.77s/it]"
     ]
    },
    {
     "name": "stdout",
     "output_type": "stream",
     "text": [
      "[TEST] End of Epoch 0, Avg Loss: 1.6728, Accuracy: 90.03%\n"
     ]
    },
    {
     "name": "stderr",
     "output_type": "stream",
     "text": []
    },
    {
     "name": "stdout",
     "output_type": "stream",
     "text": [
      "[TRAIN] End of Epoch 0, Avg Loss: 1.2882, Accuracy: 100.00%\n"
     ]
    },
    {
     "name": "stderr",
     "output_type": "stream",
     "text": [
      "Training Epochs: 100%|██████████| 2/2 [00:03<00:00,  1.71s/it]\n"
     ]
    },
    {
     "name": "stdout",
     "output_type": "stream",
     "text": [
      "[TRAIN] End of Epoch 1, Avg Loss: 1.2853, Accuracy: 100.00%\n"
     ]
    },
    {
     "name": "stderr",
     "output_type": "stream",
     "text": [
      "Testing Epochs: 100%|██████████| 1/1 [00:00<00:00,  2.44it/s]\n",
      "TOTAL Epochs:  95%|█████████▌| 229/240 [14:07<00:41,  3.79s/it]"
     ]
    },
    {
     "name": "stdout",
     "output_type": "stream",
     "text": [
      "[TEST] End of Epoch 0, Avg Loss: 1.7016, Accuracy: 88.69%\n"
     ]
    },
    {
     "name": "stderr",
     "output_type": "stream",
     "text": []
    },
    {
     "name": "stdout",
     "output_type": "stream",
     "text": [
      "[TRAIN] End of Epoch 0, Avg Loss: 1.2840, Accuracy: 100.00%\n"
     ]
    },
    {
     "name": "stderr",
     "output_type": "stream",
     "text": [
      "Training Epochs: 100%|██████████| 2/2 [00:03<00:00,  1.71s/it]\n"
     ]
    },
    {
     "name": "stdout",
     "output_type": "stream",
     "text": [
      "[TRAIN] End of Epoch 1, Avg Loss: 1.2848, Accuracy: 100.00%\n"
     ]
    },
    {
     "name": "stderr",
     "output_type": "stream",
     "text": [
      "Testing Epochs: 100%|██████████| 1/1 [00:00<00:00,  2.39it/s]\n",
      "TOTAL Epochs:  96%|█████████▌| 230/240 [14:11<00:38,  3.81s/it]"
     ]
    },
    {
     "name": "stdout",
     "output_type": "stream",
     "text": [
      "[TEST] End of Epoch 0, Avg Loss: 1.6701, Accuracy: 89.14%\n"
     ]
    },
    {
     "name": "stderr",
     "output_type": "stream",
     "text": []
    },
    {
     "name": "stdout",
     "output_type": "stream",
     "text": [
      "[TRAIN] End of Epoch 0, Avg Loss: 1.2904, Accuracy: 99.94%\n"
     ]
    },
    {
     "name": "stderr",
     "output_type": "stream",
     "text": [
      "Training Epochs: 100%|██████████| 2/2 [00:02<00:00,  1.07s/it]\n"
     ]
    },
    {
     "name": "stdout",
     "output_type": "stream",
     "text": [
      "[TRAIN] End of Epoch 1, Avg Loss: 1.2889, Accuracy: 100.00%\n"
     ]
    },
    {
     "name": "stderr",
     "output_type": "stream",
     "text": [
      "Testing Epochs: 100%|██████████| 1/1 [00:00<00:00,  2.35it/s]\n",
      "TOTAL Epochs:  96%|█████████▋| 231/240 [14:14<00:30,  3.44s/it]"
     ]
    },
    {
     "name": "stdout",
     "output_type": "stream",
     "text": [
      "[TEST] End of Epoch 0, Avg Loss: 1.6644, Accuracy: 91.07%\n"
     ]
    },
    {
     "name": "stderr",
     "output_type": "stream",
     "text": []
    },
    {
     "name": "stdout",
     "output_type": "stream",
     "text": [
      "[TRAIN] End of Epoch 0, Avg Loss: 1.2816, Accuracy: 100.00%\n"
     ]
    },
    {
     "name": "stderr",
     "output_type": "stream",
     "text": [
      "Training Epochs: 100%|██████████| 2/2 [00:03<00:00,  1.71s/it]\n"
     ]
    },
    {
     "name": "stdout",
     "output_type": "stream",
     "text": [
      "[TRAIN] End of Epoch 1, Avg Loss: 1.2793, Accuracy: 100.00%\n"
     ]
    },
    {
     "name": "stderr",
     "output_type": "stream",
     "text": [
      "Testing Epochs: 100%|██████████| 1/1 [00:00<00:00,  2.44it/s]\n",
      "TOTAL Epochs:  97%|█████████▋| 232/240 [14:18<00:28,  3.56s/it]"
     ]
    },
    {
     "name": "stdout",
     "output_type": "stream",
     "text": [
      "[TEST] End of Epoch 0, Avg Loss: 1.6494, Accuracy: 90.48%\n"
     ]
    },
    {
     "name": "stderr",
     "output_type": "stream",
     "text": []
    },
    {
     "name": "stdout",
     "output_type": "stream",
     "text": [
      "[TRAIN] End of Epoch 0, Avg Loss: 1.2812, Accuracy: 100.00%\n"
     ]
    },
    {
     "name": "stderr",
     "output_type": "stream",
     "text": [
      "Training Epochs: 100%|██████████| 2/2 [00:03<00:00,  1.71s/it]\n"
     ]
    },
    {
     "name": "stdout",
     "output_type": "stream",
     "text": [
      "[TRAIN] End of Epoch 1, Avg Loss: 1.2853, Accuracy: 100.00%\n"
     ]
    },
    {
     "name": "stderr",
     "output_type": "stream",
     "text": [
      "Testing Epochs: 100%|██████████| 1/1 [00:00<00:00,  2.42it/s]\n",
      "TOTAL Epochs:  97%|█████████▋| 233/240 [14:22<00:25,  3.64s/it]"
     ]
    },
    {
     "name": "stdout",
     "output_type": "stream",
     "text": [
      "[TEST] End of Epoch 0, Avg Loss: 1.6771, Accuracy: 89.88%\n"
     ]
    },
    {
     "name": "stderr",
     "output_type": "stream",
     "text": []
    },
    {
     "name": "stdout",
     "output_type": "stream",
     "text": [
      "[TRAIN] End of Epoch 0, Avg Loss: 1.2863, Accuracy: 100.00%\n"
     ]
    },
    {
     "name": "stderr",
     "output_type": "stream",
     "text": [
      "Training Epochs: 100%|██████████| 2/2 [00:03<00:00,  1.71s/it]\n"
     ]
    },
    {
     "name": "stdout",
     "output_type": "stream",
     "text": [
      "[TRAIN] End of Epoch 1, Avg Loss: 1.2889, Accuracy: 100.00%\n"
     ]
    },
    {
     "name": "stderr",
     "output_type": "stream",
     "text": [
      "Testing Epochs: 100%|██████████| 1/1 [00:00<00:00,  2.43it/s]\n",
      "TOTAL Epochs:  98%|█████████▊| 234/240 [14:25<00:22,  3.70s/it]"
     ]
    },
    {
     "name": "stdout",
     "output_type": "stream",
     "text": [
      "[TEST] End of Epoch 0, Avg Loss: 1.6538, Accuracy: 90.48%\n"
     ]
    },
    {
     "name": "stderr",
     "output_type": "stream",
     "text": []
    },
    {
     "name": "stdout",
     "output_type": "stream",
     "text": [
      "[TRAIN] End of Epoch 0, Avg Loss: 1.2891, Accuracy: 100.00%\n"
     ]
    },
    {
     "name": "stderr",
     "output_type": "stream",
     "text": [
      "Training Epochs: 100%|██████████| 2/2 [00:03<00:00,  1.70s/it]\n"
     ]
    },
    {
     "name": "stdout",
     "output_type": "stream",
     "text": [
      "[TRAIN] End of Epoch 1, Avg Loss: 1.2867, Accuracy: 100.00%\n"
     ]
    },
    {
     "name": "stderr",
     "output_type": "stream",
     "text": [
      "Testing Epochs: 100%|██████████| 1/1 [00:00<00:00,  2.45it/s]\n",
      "TOTAL Epochs:  98%|█████████▊| 235/240 [14:29<00:18,  3.74s/it]"
     ]
    },
    {
     "name": "stdout",
     "output_type": "stream",
     "text": [
      "[TEST] End of Epoch 0, Avg Loss: 1.6734, Accuracy: 88.24%\n"
     ]
    },
    {
     "name": "stderr",
     "output_type": "stream",
     "text": []
    },
    {
     "name": "stdout",
     "output_type": "stream",
     "text": [
      "[TRAIN] End of Epoch 0, Avg Loss: 1.2854, Accuracy: 100.00%\n"
     ]
    },
    {
     "name": "stderr",
     "output_type": "stream",
     "text": [
      "Training Epochs: 100%|██████████| 2/2 [00:03<00:00,  1.71s/it]\n"
     ]
    },
    {
     "name": "stdout",
     "output_type": "stream",
     "text": [
      "[TRAIN] End of Epoch 1, Avg Loss: 1.2878, Accuracy: 99.94%\n"
     ]
    },
    {
     "name": "stderr",
     "output_type": "stream",
     "text": [
      "Testing Epochs: 100%|██████████| 1/1 [00:00<00:00,  2.35it/s]\n",
      "TOTAL Epochs:  98%|█████████▊| 236/240 [14:33<00:15,  3.77s/it]"
     ]
    },
    {
     "name": "stdout",
     "output_type": "stream",
     "text": [
      "[TEST] End of Epoch 0, Avg Loss: 1.6818, Accuracy: 88.39%\n"
     ]
    },
    {
     "name": "stderr",
     "output_type": "stream",
     "text": []
    },
    {
     "name": "stdout",
     "output_type": "stream",
     "text": [
      "[TRAIN] End of Epoch 0, Avg Loss: 1.2852, Accuracy: 100.00%\n"
     ]
    },
    {
     "name": "stderr",
     "output_type": "stream",
     "text": [
      "Training Epochs: 100%|██████████| 2/2 [00:03<00:00,  1.71s/it]\n"
     ]
    },
    {
     "name": "stdout",
     "output_type": "stream",
     "text": [
      "[TRAIN] End of Epoch 1, Avg Loss: 1.2789, Accuracy: 100.00%\n"
     ]
    },
    {
     "name": "stderr",
     "output_type": "stream",
     "text": [
      "Testing Epochs: 100%|██████████| 1/1 [00:00<00:00,  2.36it/s]\n",
      "TOTAL Epochs:  99%|█████████▉| 237/240 [14:37<00:11,  3.80s/it]"
     ]
    },
    {
     "name": "stdout",
     "output_type": "stream",
     "text": [
      "[TEST] End of Epoch 0, Avg Loss: 1.6477, Accuracy: 89.29%\n"
     ]
    },
    {
     "name": "stderr",
     "output_type": "stream",
     "text": []
    },
    {
     "name": "stdout",
     "output_type": "stream",
     "text": [
      "[TRAIN] End of Epoch 0, Avg Loss: 1.2804, Accuracy: 100.00%\n"
     ]
    },
    {
     "name": "stderr",
     "output_type": "stream",
     "text": [
      "Training Epochs: 100%|██████████| 2/2 [00:03<00:00,  1.74s/it]\n"
     ]
    },
    {
     "name": "stdout",
     "output_type": "stream",
     "text": [
      "[TRAIN] End of Epoch 1, Avg Loss: 1.2838, Accuracy: 100.00%\n"
     ]
    },
    {
     "name": "stderr",
     "output_type": "stream",
     "text": [
      "Testing Epochs: 100%|██████████| 1/1 [00:00<00:00,  2.32it/s]\n",
      "TOTAL Epochs:  99%|█████████▉| 238/240 [14:41<00:07,  3.84s/it]"
     ]
    },
    {
     "name": "stdout",
     "output_type": "stream",
     "text": [
      "[TEST] End of Epoch 0, Avg Loss: 1.6719, Accuracy: 90.03%\n"
     ]
    },
    {
     "name": "stderr",
     "output_type": "stream",
     "text": []
    },
    {
     "name": "stdout",
     "output_type": "stream",
     "text": [
      "[TRAIN] End of Epoch 0, Avg Loss: 1.2856, Accuracy: 100.00%\n"
     ]
    },
    {
     "name": "stderr",
     "output_type": "stream",
     "text": [
      "Training Epochs: 100%|██████████| 2/2 [00:02<00:00,  1.10s/it]\n"
     ]
    },
    {
     "name": "stdout",
     "output_type": "stream",
     "text": [
      "[TRAIN] End of Epoch 1, Avg Loss: 1.2842, Accuracy: 100.00%\n"
     ]
    },
    {
     "name": "stderr",
     "output_type": "stream",
     "text": [
      "Testing Epochs: 100%|██████████| 1/1 [00:00<00:00,  2.43it/s]\n",
      "TOTAL Epochs: 100%|█████████▉| 239/240 [14:43<00:03,  3.47s/it]"
     ]
    },
    {
     "name": "stdout",
     "output_type": "stream",
     "text": [
      "[TEST] End of Epoch 0, Avg Loss: 1.6498, Accuracy: 90.48%\n"
     ]
    },
    {
     "name": "stderr",
     "output_type": "stream",
     "text": []
    },
    {
     "name": "stdout",
     "output_type": "stream",
     "text": [
      "[TRAIN] End of Epoch 0, Avg Loss: 1.2846, Accuracy: 100.00%\n"
     ]
    },
    {
     "name": "stderr",
     "output_type": "stream",
     "text": [
      "Training Epochs: 100%|██████████| 2/2 [00:03<00:00,  1.72s/it]\n"
     ]
    },
    {
     "name": "stdout",
     "output_type": "stream",
     "text": [
      "[TRAIN] End of Epoch 1, Avg Loss: 1.2820, Accuracy: 100.00%\n"
     ]
    },
    {
     "name": "stderr",
     "output_type": "stream",
     "text": [
      "Testing Epochs: 100%|██████████| 1/1 [00:00<00:00,  2.41it/s]\n",
      "TOTAL Epochs: 100%|██████████| 240/240 [14:47<00:00,  3.70s/it]"
     ]
    },
    {
     "name": "stdout",
     "output_type": "stream",
     "text": [
      "[TEST] End of Epoch 0, Avg Loss: 1.6691, Accuracy: 89.58%\n"
     ]
    },
    {
     "name": "stderr",
     "output_type": "stream",
     "text": [
      "\n"
     ]
    }
   ],
   "source": [
    "# the actual trainign loop\n",
    "train_stats = []\n",
    "test_stats = []\n",
    "for epoch in tqdm(range(TOTAL_EPOCHS), desc=\"TOTAL Epochs\", disable=(verbosity == 0)):\n",
    "    res =train_epoch(model, train_loader, epochs=2, learning_rate=0.001, device=global_device, verbose=1, scheduler=scheduler, optimizer=optimizer, loss_function=criterion, amodel=amodel)\n",
    "    train_stats.extend(res)\n",
    "    res = test_epoch(model, val_loader, epochs=1, device=global_device, verbose=1, loss_function=criterion)\n",
    "    test_stats.extend(res)\n",
    "\n"
   ]
  },
  {
   "cell_type": "code",
   "execution_count": 10,
   "metadata": {},
   "outputs": [
    {
     "data": {
      "image/png": "[encoded data removed]",
      "text/plain": [
       "<Figure size 1000x500 with 2 Axes>"
      ]
     },
     "metadata": {},
     "output_type": "display_data"
    }
   ],
   "source": [
    "# plot the training and testing loss and accuracy\n",
    "train_loss = [stat[0] for stat in train_stats]\n",
    "train_acc = [stat[1] for stat in train_stats]\n",
    "test_loss = [stat[0] for stat in test_stats]\n",
    "test_acc = [stat[1] for stat in test_stats]\n",
    "x_test = np.linspace(0, len(train_loss), len(test_loss))\n",
    "plt.figure(figsize=(10, 5))\n",
    "plt.subplot(1, 2, 1)\n",
    "plt.plot(train_loss, label='Train Loss')\n",
    "plt.plot(x_test, test_loss, label='Test Loss')\n",
    "plt.axhline(np.min(test_loss), color='r', linestyle='--', label='Test Start')\n",
    "plt.text(0, np.min(test_loss), f\"{np.min(test_loss):.4f}\", va='center', ha='left')\n",
    "plt.title('Loss')\n",
    "plt.grid()\n",
    "plt.legend()\n",
    "plt.subplot(1, 2, 2)\n",
    "plt.plot(train_acc, label='Train Accuracy')\n",
    "plt.plot(x_test, test_acc, label='Test Accuracy')\n",
    "plt.axhline(np.max(test_acc), color='r', linestyle='--', label='Test Start')\n",
    "plt.text(0, np.max(test_acc), f\"{np.max(test_acc):.2f}%\", va='center', ha='left')\n",
    "plt.title('Accuracy')\n",
    "plt.grid()\n",
    "plt.legend()\n",
    "plt.show()"
   ]
  },
  {
   "cell_type": "code",
   "execution_count": 11,
   "metadata": {},
   "outputs": [],
   "source": [
    "# !pip install seaborn"
   ]
  },
  {
   "cell_type": "code",
   "execution_count": 12,
   "metadata": {},
   "outputs": [
    {
     "name": "stderr",
     "output_type": "stream",
     "text": [
      "100%|██████████| 21/21 [00:00<00:00, 50.07it/s]\n"
     ]
    },
    {
     "data": {
      "image/png": "[encoded data removed]",
      "text/plain": [
       "<Figure size 1000x800 with 2 Axes>"
      ]
     },
     "metadata": {},
     "output_type": "display_data"
    }
   ],
   "source": [
    "from sklearn.metrics import confusion_matrix\n",
    "import seaborn as sns\n",
    "\n",
    "# Function to evaluate the model and generate the confusion matrix\n",
    "def evaluate_model(model, dataloader, device='cpu'):\n",
    "    model.to(device)\n",
    "    model.eval()\n",
    "    \n",
    "    all_preds = []\n",
    "    all_labels = []\n",
    "    \n",
    "    with torch.no_grad():\n",
    "        for ids, audio, adc1, adc2 in tqdm(dataloader):\n",
    "            adc1 = adc1.to(device)\n",
    "            adc2 = adc2.to(device)\n",
    "            ids = ids.to(device)\n",
    "            \n",
    "            adc = torch.stack((adc1, adc2), dim=1)\n",
    "            outputs = model(adc)\n",
    "            _, preds = torch.max(outputs, 1)\n",
    "            \n",
    "            all_preds.extend(preds.cpu().numpy())\n",
    "            all_labels.extend(ids.cpu().numpy())\n",
    "    \n",
    "    return all_labels, all_preds\n",
    "\n",
    "# Evaluate the model on the validation set\n",
    "labels, preds = evaluate_model(model, val_loader, device=global_device)\n",
    "\n",
    "# Generate the confusion matrix\n",
    "conf_matrix = confusion_matrix(labels, preds)\n",
    "\n",
    "# Replace IDs with dataset names\n",
    "label_names = [dataset.id_to_dataset(label) for label in range(output_length)]\n",
    "pred_names = [dataset.id_to_dataset(pred) for pred in range(output_length)]\n",
    "\n",
    "# Plot the confusion matrix\n",
    "plt.figure(figsize=(10, 8))\n",
    "sns.heatmap(conf_matrix, annot=True, fmt='d', cmap='Blues', xticklabels=pred_names, yticklabels=label_names)\n",
    "plt.xlabel('Predicted')\n",
    "plt.ylabel('True')\n",
    "plt.title('Confusion Matrix')\n",
    "plt.show()"
   ]
  }
 ],
 "metadata": {
  "kernelspec": {
   "display_name": ".venv",
   "language": "python",
   "name": "python3"
  },
  "language_info": {
   "codemirror_mode": {
    "name": "ipython",
    "version": 3
   },
   "file_extension": ".py",
   "mimetype": "text/x-python",
   "name": "python",
   "nbconvert_exporter": "python",
   "pygments_lexer": "ipython3",
   "version": "3.12.3"
  }
 },
 "nbformat": 4,
 "nbformat_minor": 2
}
