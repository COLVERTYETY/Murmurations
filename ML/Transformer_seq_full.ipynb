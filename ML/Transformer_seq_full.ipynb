{
 "cells": [
  {
   "cell_type": "code",
   "execution_count": 1,
   "metadata": {},
   "outputs": [
    {
     "name": "stdout",
     "output_type": "stream",
     "text": [
      "Number of classes: 38\n",
      "ADC1 shape: torch.Size([2399])\n",
      "ADC2 shape: torch.Size([2399])\n",
      "5199\n"
     ]
    }
   ],
   "source": [
    "import torch\n",
    "from torch.utils.data import Dataset\n",
    "import numpy as np\n",
    "import json\n",
    "from scipy import signal\n",
    "import os\n",
    "\n",
    "class MemmapDataset(Dataset):\n",
    "    def __init__(self, descriptor_path, padding_handling=\"remove\", transform=None, filter=False):\n",
    "        \"\"\"\n",
    "        Args:\n",
    "            descriptor_path (str): Path to the descriptor JSON file (e.g., 'descriptor.json').\n",
    "            padding_handling (str or float): How to handle np.inf padding values.\n",
    "                - \"remove\" (default): Remove the padded np.inf values and return variable-length arrays.\n",
    "                - A float: Replace any np.inf values with the given float.\n",
    "            interp_length (int, optional): If provided, the ADC data (adc1 and adc2) will be\n",
    "                first stripped of np.inf padding and then interpolated to this fixed length.\n",
    "            transform (callable, optional): Optional transform to be applied on a sample.\n",
    "            filter (bool, optional): Whether to apply a bandpass filter to the audio data.\n",
    "        \"\"\"\n",
    "        # Load descriptor from JSON file.\n",
    "        with open(descriptor_path, 'r') as f:\n",
    "            self.descriptor = json.load(f)\n",
    "        \n",
    "        # Extract required parameters from the descriptor.\n",
    "        self.audio_sampling_rate = self.descriptor['audio_sampling_rate']\n",
    "        self.adc_sampling_rate = self.descriptor['adc_sampling_rate']\n",
    "        self.audio_lowcut       = self.descriptor['audio_lowcut']\n",
    "        self.audio_highcut      = self.descriptor['audio_highcut']\n",
    "        self.adc_lowcut         = self.descriptor['adc_lowcut']\n",
    "        self.adc_highcut        = self.descriptor['adc_highcut']\n",
    "        self.max_audio_len      = self.descriptor['max_audio_len']\n",
    "        self.max_adc_len        = self.descriptor['max_adc_len']\n",
    "        self.n_segments         = self.descriptor['n_segments']\n",
    "        self.memmap_filename    = self.descriptor['memmap_filename']\n",
    "        self.dataset_mapping    = self.descriptor['dataset_mapping']\n",
    "        # Rebuild the dtype from the descriptor.\n",
    "        self.dtype = np.dtype([tuple(item) for item in self.descriptor['dtype']])\n",
    "        \n",
    "        # Open the memmap file in read-only mode using the number of segments from the descriptor.\n",
    "        self.memmap = np.memmap(self.memmap_filename, dtype=self.dtype, mode='r', shape=(self.n_segments,))\n",
    "        \n",
    "        self.transform = transform\n",
    "        self.padding_handling = padding_handling\n",
    "        self.filter = filter\n",
    "\n",
    "    def __len__(self):\n",
    "        return self.n_segments\n",
    "\n",
    "    def __getitem__(self, index):\n",
    "        # Retrieve the record from the memmap.\n",
    "        row = self.memmap[index]\n",
    "        \n",
    "        # Convert fixed-size arrays to numpy arrays.\n",
    "        # audio_arr = np.array(row['audio'])\n",
    "        adc1_arr = np.array(row['adc1'])\n",
    "        adc2_arr = np.array(row['adc2'])\n",
    "        \n",
    "        # Process audio channel using the padding handling method.\n",
    "        # audio_arr = self._handle_padding(audio_arr, self.padding_handling)\n",
    "        adc1_arr = self._handle_padding(adc1_arr, self.padding_handling)\n",
    "        adc2_arr = self._handle_padding(adc2_arr, self.padding_handling)\n",
    "        \n",
    "        if self.filter:\n",
    "            # audio_arr = self.BPfilter(audio_arr, self.audio_sampling_rate, self.audio_lowcut, self.audio_highcut)\n",
    "            adc1_arr = self.BPfilter(adc1_arr, self.adc_sampling_rate, self.adc_lowcut, self.adc_highcut)\n",
    "            adc2_arr = self.BPfilter(adc2_arr, self.adc_sampling_rate, self.adc_lowcut, self.adc_highcut)\n",
    "\n",
    "        \n",
    "        # Create a sample tuple.\n",
    "        # Use .copy() to ensure the arrays have positive strides.\n",
    "        sample = ( \n",
    "            int(row['id']), \n",
    "            # torch.from_numpy(audio_arr.copy()).float(),  \n",
    "            torch.from_numpy(adc1_arr.copy()).float(), \n",
    "            torch.from_numpy(adc2_arr.copy()).float(),  \n",
    "        )\n",
    "        \n",
    "        if self.transform:\n",
    "            sample = self.transform(sample)\n",
    "        return sample\n",
    "\n",
    "    def _handle_padding(self, arr, mode):\n",
    "        \"\"\"\n",
    "        Handle the np.inf padded values in the array.\n",
    "        If mode is \"remove\", return the array with inf values removed.\n",
    "        If mode is a float, replace inf values with that float.\n",
    "        \"\"\"\n",
    "        if mode == \"remove\":\n",
    "            return arr[~np.isinf(arr)]\n",
    "        elif isinstance(mode, (int, float)):\n",
    "            return np.where(np.isinf(arr), mode, arr)\n",
    "        else:\n",
    "            raise ValueError(\"Invalid padding_handling value. Use 'remove' or a float value.\")\n",
    "\n",
    "    def get(self, field):\n",
    "        \"\"\"\n",
    "        Return the value of the given descriptor field.\n",
    "        For example, dataset.get(\"audio_sampling_rate\") returns the audio sampling rate.\n",
    "        \"\"\"\n",
    "        return self.descriptor.get(field, None)\n",
    "\n",
    "    def id_to_dataset(self, id):\n",
    "        \"\"\"\n",
    "        Return the dataset string for the given ID.\n",
    "        \"\"\"\n",
    "        return self.dataset_mapping.get(str(id), \"Unknown\")\n",
    "\n",
    "    def get_Nclasses(self):\n",
    "        \"\"\"\n",
    "        Return the number of unique datasets in the dataset_mapping.\n",
    "        \"\"\"\n",
    "        return len(set(self.dataset_mapping.values()))\n",
    "    \n",
    "    def BPfilter(self, data, fs, lowcut_hz=None, highcut_hz=None):\n",
    "        \"\"\"\n",
    "        Apply a bandpass Butterworth filter to the input data.\n",
    "        \n",
    "        Parameters:\n",
    "        data : array-like\n",
    "            The input signal to filter\n",
    "        fs : float\n",
    "            Sampling frequency in Hz\n",
    "        lowcut_hz : float, optional\n",
    "            Lower cutoff frequency in Hz. If None, defaults to 20 Hz\n",
    "        highcut_hz : float, optional\n",
    "            Upper cutoff frequency in Hz. If None, defaults to fs/4 Hz\n",
    "            \n",
    "        Returns:\n",
    "        array-like\n",
    "            The filtered signal\n",
    "        \"\"\"\n",
    "        if len(data<15):\n",
    "            return data  # If the data is too short, return it unfiltered\n",
    "        # Default cutoff frequencies if not provided.\n",
    "        if lowcut_hz is None:\n",
    "            lowcut_hz = 20  # Default lower cutoff of 20 Hz\n",
    "        if highcut_hz is None:\n",
    "            highcut_hz = fs/4  # Default upper cutoff at quarter of sampling rate\n",
    "        \n",
    "        # Convert cutoff frequencies to normalized units (0 to 1).\n",
    "        nyquist = fs / 2\n",
    "        low = lowcut_hz / nyquist\n",
    "        high = highcut_hz / nyquist\n",
    "        \n",
    "        # Create a 4th-order bandpass Butterworth filter.\n",
    "        b, a = signal.butter(2, [low, high], btype='band')\n",
    "        \n",
    "        # Apply zero-phase filtering using filtfilt.\n",
    "        filtered_data = signal.filtfilt(b, a, data)\n",
    "        # Return the filtered data, maintaining the original shape of the input data\n",
    "        return filter_data\n",
    "\n",
    "class normalizer():\n",
    "    def __init__(self, mean, std):\n",
    "        self.mean = mean\n",
    "        self.std = std\n",
    "\n",
    "    def __call__(self, sample):\n",
    "        id, adc1, adc2 = sample\n",
    "        # audio = (audio - self.mean[0]) / self.std[0]\n",
    "        adc1 = (adc1 - self.mean[0]) / self.std[0]\n",
    "        adc2 = (adc2 - self.mean[0]) / self.std[0]\n",
    "        return id, adc1, adc2\n",
    "\n",
    "# input_length = 512\n",
    "\n",
    "# Path to the descriptor JSON file.\n",
    "signal_descriptor_path = 'p2SamPhonemes_filtered_descriptor.json'\n",
    "noise_descriptor_path = 'p2SamPhonemes_noise_descriptor.json'\n",
    "# Create a dataset instance that interpolates ADC channels to length 300, with filtering.\n",
    "signal_dataset = MemmapDataset(signal_descriptor_path, padding_handling=\"remove\", filter=True)\n",
    "noise_dataset = MemmapDataset(noise_descriptor_path, padding_handling=\"remove\", filter=True)\n",
    "\n",
    "transform = normalizer(mean=[signal_dataset.get(\"adc_mean\")], std=[signal_dataset.get(\"adc_std\")])\n",
    "\n",
    "signal_dataset.transform = transform\n",
    "noise_dataset.transform = transform\n",
    "output_length = signal_dataset.get_Nclasses()\n",
    "print(\"Number of classes:\", output_length)\n",
    "sample = signal_dataset[1]\n",
    "# print(f\"\\nWith ADC interpolation to length {input_length}:\")\n",
    "print(\"ADC1 shape:\", sample[1].shape)\n",
    "print(\"ADC2 shape:\", sample[2].shape)\n",
    "\n",
    "print(signal_dataset.descriptor[\"max_adc_len\"])\n"
   ]
  },
  {
   "cell_type": "code",
   "execution_count": 2,
   "metadata": {},
   "outputs": [
    {
     "name": "stdout",
     "output_type": "stream",
     "text": [
      "Composite Dataset Length: 893\n",
      "Sample shapes from Composite Dataset:\n",
      "ADC1 shape: torch.Size([16000])\n",
      "ADC2 shape: torch.Size([16000])\n",
      "Label shape: torch.Size([16000])\n"
     ]
    }
   ],
   "source": [
    "import random\n",
    "import torch\n",
    "import numpy as np\n",
    "from torch.utils.data import Dataset\n",
    "\n",
    "class CompositeDataset(Dataset):\n",
    "    def __init__(self, noise_dataset, signal_dataset, composite_length, n_signals=(1,3)):\n",
    "        \"\"\"\n",
    "        Args:\n",
    "            noise_dataset: Dataset for noise\n",
    "            signal_dataset: Dataset for real signals\n",
    "            composite_length (int): Length of the composite signal to be generated.\n",
    "            n_signals (tuple) (optional): A tuple specifying the range of number of signals to combine.\n",
    "                For example, (2, 3) means 2 or 3 signals will be combined.\n",
    "        \"\"\"\n",
    "        self.noise_dataset = noise_dataset\n",
    "        self.signal_dataset = signal_dataset\n",
    "        self.composite_length = composite_length\n",
    "        self.n_signals = n_signals\n",
    "        self.num_signal_classes = signal_dataset.get_Nclasses() \n",
    "        self.total_classes = self.num_signal_classes + 1  # +1 for noise class\n",
    "    \n",
    "    def __len__(self):\n",
    "        # You can set this arbitrarily. For illustration, \n",
    "        # we combine lengths of noise and signal dataset:\n",
    "        return (len(self.noise_dataset) + len(self.signal_dataset))//self.n_signals[1]  # This is just a heuristic to define length\n",
    "    \n",
    "    def get_N_classes(self):\n",
    "        return self.num_signal_classes + 2\n",
    "\n",
    "    def get_composite_length(self):\n",
    "        return self.composite_length\n",
    "\n",
    "    def id_to_dataset(self, id):\n",
    "        \"\"\"\n",
    "        Return the dataset string for the given ID.\n",
    "        For example, dataset.id_to_dataset(1) returns the associated dataset name.\n",
    "        \"\"\"\n",
    "        if id < 0 or id >= self.num_signal_classes:\n",
    "            return \"Noise\"\n",
    "        return self.signal_dataset.id_to_dataset(id)\n",
    "\n",
    "    def __getitem__(self, idx):\n",
    "        \"\"\"\n",
    "        Dynamically builds one artificial segment (only ADC).\n",
    "        \"\"\"\n",
    "        # 1. Decide how many signal chunks to place in this segment\n",
    "        n_sigs_needed = random.randint(*self.n_signals)\n",
    "\n",
    "        # 2. Prepare empty arrays for the final output of shape [composite_length]\n",
    "        adc1_full  = np.zeros(self.composite_length, dtype=np.float32)\n",
    "        adc2_full  = np.zeros(self.composite_length, dtype=np.float32)\n",
    "        \n",
    "        # 3. Prepare an integer label array of shape [composite_length]\n",
    "        label_full = np.zeros(self.composite_length, dtype=np.int64)  \n",
    "        \n",
    "        current_pos = 0\n",
    "        signals_used = 0\n",
    "\n",
    "        # Decide if we start with noise or signal\n",
    "        place_signal_first = (random.random() < 0.5)\n",
    "        \n",
    "        # 4. Alternate placing noise / signal until we exhaust n_sigs_needed\n",
    "        while current_pos < self.composite_length and signals_used < n_sigs_needed:\n",
    "            if place_signal_first:\n",
    "                # (a) Grab a random signal\n",
    "                sig_idx = random.randint(0, len(self.signal_dataset)-1)\n",
    "                s_id, s_adc1, s_adc2 = self.signal_dataset[sig_idx]\n",
    "                \n",
    "                # (b) Decide how big the chunk is: place as much of the signal as we can\n",
    "                sig_length = min(len(s_adc1), self.composite_length - current_pos)\n",
    "                \n",
    "                # (c) Copy into the full array\n",
    "                adc1_full[current_pos : current_pos + sig_length]  = s_adc1[:sig_length]\n",
    "                adc2_full[current_pos : current_pos + sig_length]  = s_adc2[:sig_length]\n",
    "                label_full[current_pos : current_pos + sig_length] = s_id\n",
    "                \n",
    "                current_pos += sig_length\n",
    "                signals_used += 1\n",
    "            else:\n",
    "                # (d) Place a noise chunk\n",
    "                noise_idx = random.randint(0, len(self.noise_dataset)-1)\n",
    "                _, n_adc1, n_adc2 = self.noise_dataset[noise_idx]\n",
    "\n",
    "                # Example: pick a random noise length in some range\n",
    "                low = self.composite_length // min(self.n_signals)\n",
    "                high = self.composite_length // max(self.n_signals)\n",
    "                n_length = random.randint(high, low)\n",
    "                # clip to space left in the array\n",
    "                n_length = min(n_length, self.composite_length - current_pos)\n",
    "                # clip to the noise sample length\n",
    "                n_length = min(n_length, len(n_adc1))\n",
    "\n",
    "                adc1_full[current_pos : current_pos + n_length]  = n_adc1[:n_length]\n",
    "                adc2_full[current_pos : current_pos + n_length]  = n_adc2[:n_length]\n",
    "                label_full[current_pos : current_pos + n_length] = self.num_signal_classes + 1  # noise label\n",
    "\n",
    "                current_pos += n_length\n",
    "            \n",
    "            # flip noise ↔ signal\n",
    "            place_signal_first = not place_signal_first\n",
    "\n",
    "        # 5. If we've placed all required signals but still have space, fill the rest with noise\n",
    "        while current_pos < self.composite_length:\n",
    "            # place a noise chunk\n",
    "            noise_idx = random.randint(0, len(self.noise_dataset)-1)\n",
    "            _, n_adc1, n_adc2 = self.noise_dataset[noise_idx]\n",
    "            remaining = self.composite_length - current_pos\n",
    "            n_length = min(remaining, len(n_adc1))\n",
    "\n",
    "            adc1_full[current_pos : current_pos + n_length]  = n_adc1[:n_length]\n",
    "            adc2_full[current_pos : current_pos + n_length]  = n_adc2[:n_length]\n",
    "            label_full[current_pos : current_pos + n_length] = self.num_signal_classes + 1\n",
    "\n",
    "            current_pos += n_length\n",
    "\n",
    "        # 6. Convert to torch tensors (optionally apply transforms)\n",
    "        adc1_tensor  = torch.from_numpy(adc1_full)\n",
    "        adc2_tensor  = torch.from_numpy(adc2_full)\n",
    "        label_tensor = torch.from_numpy(label_full)\n",
    "        \n",
    "        return adc1_tensor, adc2_tensor, label_tensor\n",
    "\n",
    "\n",
    "# Example usage:\n",
    "seq_length = 16000  # Length of the composite sequence\n",
    "dataset = CompositeDataset(noise_dataset, signal_dataset,\n",
    "                           composite_length=seq_length, n_signals=(3, 5))\n",
    "\n",
    "print(\"Composite Dataset Length:\", len(dataset))\n",
    "\n",
    "# Test the CompositeDataset\n",
    "sample = dataset[0]\n",
    "print(\"Sample shapes from Composite Dataset:\")\n",
    "print(\"ADC1 shape:\", sample[0].shape)\n",
    "print(\"ADC2 shape:\", sample[1].shape)\n",
    "print(\"Label shape:\", sample[2].shape)\n"
   ]
  },
  {
   "cell_type": "code",
   "execution_count": 3,
   "metadata": {},
   "outputs": [
    {
     "data": {
      "image/png": "[encoded data removed]",
      "text/plain": [
       "<Figure size 1000x800 with 2 Axes>"
      ]
     },
     "metadata": {},
     "output_type": "display_data"
    }
   ],
   "source": [
    "from scipy.signal import decimate\n",
    "\n",
    "import matplotlib.pyplot as plt\n",
    "\n",
    "n_decimate = 10  # Decimation factor\n",
    "\n",
    "rng_index = np.random.randint(0, len(dataset))\n",
    "sample = dataset[rng_index]\n",
    "\n",
    "adc1, adc2, sample_id = sample  # unpack the tuple\n",
    "\n",
    "# Decimate the signals for display\n",
    "adc1_decimated = decimate(adc1.numpy(), n_decimate, zero_phase=True)\n",
    "adc2_decimated = decimate(adc2.numpy(), n_decimate, zero_phase=True)\n",
    "sample_id_decimated = decimate(sample_id.numpy(), n_decimate, zero_phase=True, ftype='iir')\n",
    "\n",
    "# Create a figure with two subplots for ADC1 and ADC2.\n",
    "fig, axs = plt.subplots(2, 1, figsize=(10, 8))\n",
    "\n",
    "# Add colored vertical lines for the sample_id\n",
    "unique_ids = torch.unique(sample_id)\n",
    "colors = plt.cm.tab10(np.linspace(0, 1, len(unique_ids)))  # Generate distinct colors for each unique ID\n",
    "\n",
    "for unique_id, color in zip(unique_ids, colors):\n",
    "    indices = (sample_id == unique_id).nonzero(as_tuple=True)[0].numpy()  # Get indices for the current ID\n",
    "    indices_decimated = indices // n_decimate  # Adjust indices for decimation\n",
    "    for idx in indices_decimated:\n",
    "        axs[0].axvline(x=idx, color=color, linestyle='--', alpha=0.5, label=f\"ID: {unique_id.item()}\")\n",
    "        axs[1].axvline(x=idx, color=color, linestyle='--', alpha=0.5)\n",
    "\n",
    "# Add legend to the first subplot\n",
    "handles, labels = axs[0].get_legend_handles_labels()\n",
    "by_label = dict(zip(labels, handles))  # Remove duplicate labels\n",
    "axs[0].legend(by_label.values(), by_label.keys(), loc='upper right')\n",
    "axs[0].plot(adc1_decimated, color='black', label='ADC1')\n",
    "axs[0].set_title(f\"ADC1 Sample (n={len(adc1_decimated)} samples after decimation)\")\n",
    "axs[0].set_xlabel(\"Time\")\n",
    "axs[0].set_ylabel(\"Amplitude\")\n",
    "\n",
    "axs[1].legend(by_label.values(), by_label.keys(), loc='upper right', fontsize='small', title=\"Sample IDs\")\n",
    "axs[1].plot(adc2_decimated, color='black', label='ADC2')\n",
    "axs[1].set_title(f\"ADC2 Sample (n={len(adc2_decimated)} samples after decimation)\")\n",
    "axs[1].set_xlabel(\"Time\")\n",
    "axs[1].set_ylabel(\"Amplitude\")\n",
    "\n",
    "plt.tight_layout()\n",
    "plt.show()\n"
   ]
  },
  {
   "cell_type": "code",
   "execution_count": 4,
   "metadata": {},
   "outputs": [
    {
     "name": "stdout",
     "output_type": "stream",
     "text": [
      "Output shape: torch.Size([4, 500, 40])\n",
      "\n",
      "\n",
      "\n",
      "V1dTransformer(\n",
      "  (conv): Conv1d(2, 256, kernel_size=(32,), stride=(32,))\n",
      "  (pos_encoding): SinusoidalPositionalEncoding()\n",
      "  (transformer_encoder): TransformerEncoder(\n",
      "    (layers): ModuleList(\n",
      "      (0-3): 4 x TransformerEncoderLayer(\n",
      "        (self_attn): MultiheadAttention(\n",
      "          (out_proj): NonDynamicallyQuantizableLinear(in_features=256, out_features=256, bias=True)\n",
      "        )\n",
      "        (linear1): Linear(in_features=256, out_features=512, bias=True)\n",
      "        (dropout): Dropout(p=0.1, inplace=False)\n",
      "        (linear2): Linear(in_features=512, out_features=256, bias=True)\n",
      "        (norm1): LayerNorm((256,), eps=1e-05, elementwise_affine=True)\n",
      "        (norm2): LayerNorm((256,), eps=1e-05, elementwise_affine=True)\n",
      "        (dropout1): Dropout(p=0.1, inplace=False)\n",
      "        (dropout2): Dropout(p=0.1, inplace=False)\n",
      "      )\n",
      "    )\n",
      "  )\n",
      "  (fc_out): Linear(in_features=256, out_features=40, bias=True)\n",
      ")\n"
     ]
    }
   ],
   "source": [
    "from torch import nn\n",
    "import math\n",
    "\n",
    "class SinusoidalPositionalEncoding(nn.Module):\n",
    "    \"\"\"\n",
    "    Implements the classic sinusoidal positional encoding as described in the \n",
    "    \"Attention is All You Need\" paper (Vaswani et al., 2017).\n",
    "    \"\"\"\n",
    "    def __init__(self, d_model, max_len=10000):\n",
    "        super().__init__()\n",
    "        \n",
    "        # Create a long enough P x D matrix of sinusoidal signals\n",
    "        position = torch.arange(0, max_len, dtype=torch.float).unsqueeze(1)  # [max_len, 1]\n",
    "        div_term = torch.exp(\n",
    "            torch.arange(0, d_model, 2).float() * (-math.log(10000.0) / d_model)\n",
    "        )  # [d_model/2]\n",
    "        \n",
    "        pe = torch.zeros(max_len, d_model)  # [max_len, d_model]\n",
    "        # Even indices: 2i\n",
    "        pe[:, 0::2] = torch.sin(position * div_term)\n",
    "        # Odd indices: 2i+1\n",
    "        pe[:, 1::2] = torch.cos(position * div_term)\n",
    "        \n",
    "        # Register as buffer so it doesn't get updated during backprop\n",
    "        self.register_buffer(\"pe\", pe)\n",
    "\n",
    "    def forward(self, x):\n",
    "        \"\"\"\n",
    "        x is assumed to be of shape [batch_size, seq_len, d_model].\n",
    "        We want to add positional encoding to each position in the sequence.\n",
    "        \"\"\"\n",
    "        seq_len = x.size(1)  # how many tokens in the sequence dimension\n",
    "        # Add the positional embedding up to seq_len\n",
    "        pos_emb = self.pe[:seq_len, :]  # shape [seq_len, d_model]\n",
    "        # We need shape to match x: [B, seq_len, d_model]\n",
    "        return x + pos_emb.unsqueeze(0)\n",
    "\n",
    "\n",
    "class V1dTransformer(nn.Module):\n",
    "    def __init__(self, \n",
    "                 input_dim,\n",
    "                 output_dim,\n",
    "                 max_length,\n",
    "                 input_kern = 16,  # Kernel size for the initial Conv1d layer\n",
    "                 nhead=8, \n",
    "                 num_encoder_layers=6, \n",
    "                 dim_feedforward=512, \n",
    "                 dropout=0.1):\n",
    "        super(V1dTransformer, self).__init__()\n",
    "        \n",
    "        self.input_dim = input_dim\n",
    "        self.output_dim = output_dim\n",
    "        self.input_kern = input_kern  # Kernel size for the initial Conv1d layer\n",
    "        self.stride = input_kern   # Stride for the Conv1d layer, typically half of kernel size\n",
    "        \n",
    "        self.conv = nn.Conv1d(input_dim, dim_feedforward, kernel_size=self.input_kern, stride=self.stride)\n",
    "        # self.posencoding = nn.Embedding(10000, dim_feedforward)  # Positional encoding for up to 1000 positions\n",
    "        self.pos_encoding = SinusoidalPositionalEncoding(dim_feedforward, max_len=(max_length-self.input_kern)//self.stride + 1)  # Adjust max_len based on stride\n",
    "        self.transformer_encoder = nn.TransformerEncoder(\n",
    "            nn.TransformerEncoderLayer(\n",
    "                d_model=dim_feedforward,\n",
    "                nhead=nhead,\n",
    "                dim_feedforward=dim_feedforward*2,\n",
    "                dropout=dropout,\n",
    "                batch_first=True  # Set to True to match the input shape (batch_size, seq_length, d_model\n",
    "            ),\n",
    "            num_layers=num_encoder_layers\n",
    "        )\n",
    "        self.fc_out = nn.Linear(dim_feedforward, output_dim)\n",
    "\n",
    "        # self.special_token = nn.Embedding(1, dim_feedforward)  # Special token embedding for the special token\n",
    "    \n",
    "    def forward(self, x):\n",
    "        \"\"\"\n",
    "        x: shape [B, 2, T]  (two ADC channels)\n",
    "        special_token_positions_batch: list of lists of integers\n",
    "        - E.g. [[2, 10], [0, 3, 5], ..., [1]] \n",
    "        - where each sub-list is for one sample in the batch.\n",
    "        \"\"\"\n",
    "\n",
    "        # 1) Convolution => [B, dim_feedforward, new_seq_len]\n",
    "        x = self.conv(x)\n",
    "        \n",
    "        # 2) Permute => [B, new_seq_len, dim_feedforward]\n",
    "        x = x.permute(0, 2, 1)\n",
    "\n",
    "        # 4) Add positional encoding => [B, new_seq_len, dim_feedforward]\n",
    "        x = self.pos_encoding(x)\n",
    "        \n",
    "        # 5) Transformer => [B, new_seq_len, dim_feedforward]\n",
    "        x = self.transformer_encoder(x)\n",
    "\n",
    "        # 6) Final projection => [B, new_seq_len, output_dim]\n",
    "        x = self.fc_out(x)\n",
    "\n",
    "        return x\n",
    "\n",
    "\n",
    "dummy_input = torch.randn(4,2, seq_length)\n",
    "\n",
    "\n",
    "model = V1dTransformer(\n",
    "    input_dim=2,  # Two input channels: adc1 and adc2\n",
    "    output_dim=dataset.get_N_classes(),  # Number of classes\n",
    "    max_length=seq_length,  # Maximum sequence length\n",
    "    input_kern=32,  # Kernel size for the initial Conv1d layer\n",
    "    nhead=4, \n",
    "    num_encoder_layers=4, \n",
    "    dim_feedforward=256, \n",
    "    dropout=0.1\n",
    ")\n",
    "\n",
    "\n",
    "output = model(dummy_input)\n",
    "\n",
    "print(\"Output shape:\", output.shape)\n",
    "print(\"\\n\\n\")\n",
    "print(model)"
   ]
  },
  {
   "cell_type": "code",
   "execution_count": 5,
   "metadata": {},
   "outputs": [],
   "source": [
    "import torch\n",
    "import torch.nn as nn\n",
    "import torch.nn.functional as F\n",
    "from tqdm import tqdm\n",
    "import random\n",
    "\n",
    "\n",
    "def train_epoch(\n",
    "    model,\n",
    "    dataloader,\n",
    "    epochs,\n",
    "    optimizer,\n",
    "    scheduler,\n",
    "    loss_func,\n",
    "    device='cpu',\n",
    "    min_special_tokens=100,\n",
    "    max_special_tokens=500,\n",
    "    verbose=1\n",
    "):\n",
    "    model.to(device)\n",
    "    model.train()\n",
    "\n",
    "    for epoch in range(epochs):\n",
    "        total_loss = 0.0\n",
    "        total_correct = 0\n",
    "        total_special = 0\n",
    "        num_batches = 0\n",
    "        \n",
    "        # Loop over data\n",
    "        iterator = tqdm(dataloader, desc=f\"Epoch {epoch+1}/{epochs}\", disable=(verbose==0))\n",
    "        for (adc1, adc2, ids) in iterator:\n",
    "            # Move to device\n",
    "            adc1 = adc1.to(device)  # shape [B, T]\n",
    "            adc2 = adc2.to(device)  # shape [B, T]\n",
    "            ids = ids.to(device)    # shape [B, T]\n",
    "            ids = ids[:,::model.input_kern]  # Downsample ids to match the new sequence length after Conv1d\n",
    "            # print(ids.min(), ids.max(), ids.shape)\n",
    "            # -------------------------------------------------\n",
    "            # 2) Stack ADC channels => shape [B, 2, T]\n",
    "            # -------------------------------------------------\n",
    "            adc = torch.stack((adc1, adc2), dim=1)  # [B, 2, T]\n",
    "            adc = adc+torch.randn_like(adc) * 0.02  # Adding a small amount of noise for robustness\n",
    "            \n",
    "            # -------------------------------------------------\n",
    "            # 3) Forward pass\n",
    "            # -------------------------------------------------\n",
    "            logits = model(adc)  \n",
    "            # shape [B, seq_len_after_conv, output_dim]\n",
    "            # -------------------------------------------------\n",
    "            # 5) Compute classification loss\n",
    "            # -------------------------------------------------\n",
    "            loss = loss_func(logits.permute(0,2,1), ids)\n",
    "            \n",
    "            # 6) Backprop\n",
    "            optimizer.zero_grad()\n",
    "            loss.backward()\n",
    "            optimizer.step()\n",
    "\n",
    "            # 7) Accuracy on these special tokens\n",
    "            with torch.no_grad():\n",
    "                pred = logits.argmax(dim=2)  # [N]\n",
    "                correct = (pred == ids).sum().item()\n",
    "            \n",
    "            total_loss += loss.item()\n",
    "            total_correct += correct\n",
    "            total_special += logits.size(0)* logits.size(1)  # total number of special tokens processed\n",
    "            num_batches += 1\n",
    "\n",
    "            if verbose:\n",
    "                iterator.set_postfix({\n",
    "                    \"loss\": f\"{loss.item():.4f}\",\n",
    "                    \"acc\": f\"{100.0 * correct / (logits.size(0)*logits.size(1)):.2f}%\",\n",
    "                })\n",
    "        scheduler.step()\n",
    "        # End of epoch\n",
    "        avg_loss = total_loss / max(num_batches, 1)\n",
    "        if total_special > 0:\n",
    "            accuracy = 100.0 * total_correct / total_special\n",
    "        else:\n",
    "            accuracy = 0.0\n",
    "        \n",
    "        if verbose:\n",
    "            print(f\"Epoch {epoch+1}/{epochs} => Loss: {avg_loss:.4f}, Special-Token Accuracy: {accuracy:.2f}%\")\n",
    "    return avg_loss, accuracy\n",
    "\n"
   ]
  },
  {
   "cell_type": "code",
   "execution_count": 6,
   "metadata": {},
   "outputs": [
    {
     "name": "stdout",
     "output_type": "stream",
     "text": [
      "Batch 1:\n",
      "IDs: tensor([[-0.3633, -0.3702, -0.3534,  ..., -0.3692, -0.3278, -0.3800],\n",
      "        [-0.0110,  0.7810,  1.0310,  ..., -0.2108, -0.1507, -0.3839],\n",
      "        [-0.7539, -0.8257, -0.3967,  ...,  2.0414,  2.0414,  2.0414],\n",
      "        ...,\n",
      "        [-0.0720, -0.0553, -0.0887,  ...,  0.1011,  0.0638,  0.0884],\n",
      "        [-0.2757, -0.2472, -0.3042,  ..., -0.1379, -0.1724, -0.1074],\n",
      "        [ 0.1336,  0.1346,  0.8745,  ..., -0.1330,  0.0362,  0.0185]])\n",
      "ADC1 shape: torch.Size([64, 16000])\n",
      "ADC2 shape: torch.Size([64, 16000])\n",
      "Batch 2:\n",
      "IDs: tensor([[-0.1035, -0.1074,  0.1789,  ..., -0.2462,  0.0992, -0.2098],\n",
      "        [ 0.2448,  0.3245,  0.3412,  ..., -0.3770, -0.3908, -0.2521],\n",
      "        [ 0.4052,  0.3137,  0.3038,  ..., -0.2157, -0.1143, -0.2442],\n",
      "        ...,\n",
      "        [-0.2088, -0.3731, -0.3761,  ..., -0.2432, -0.1950, -0.2058],\n",
      "        [-0.2688, -0.1940, -0.2117,  ..., -0.1301, -0.2049, -0.1104],\n",
      "        [ 0.7023,  0.7348,  1.3143,  ...,  0.1927,  0.1730,  0.2350]])\n",
      "ADC1 shape: torch.Size([64, 16000])\n",
      "ADC2 shape: torch.Size([64, 16000])\n",
      "Batch 1:\n",
      "IDs: tensor([[-0.5935, -0.6250, -0.5896,  ..., -0.2255, -0.2540, -0.2865],\n",
      "        [-0.5463, -0.6151, -0.2973,  ...,  0.7919,  0.7810,  0.7614],\n",
      "        [-0.1133,  0.0362,  0.0146,  ...,  0.0638, -0.4046, -0.4371],\n",
      "        ...,\n",
      "        [-0.1960, -0.2275, -0.1616,  ...,  0.9798,  0.4534, -0.1527],\n",
      "        [-0.6279, -0.6880, -0.6988,  ...,  0.1877,  0.2409,  0.4672],\n",
      "        [ 0.2753,  0.2133,  0.2094,  ...,  0.8843, -0.1871, -0.2993]])\n",
      "ADC1 shape: torch.Size([64, 16000])\n",
      "ADC2 shape: torch.Size([64, 16000])\n",
      "Batch 2:\n",
      "IDs: tensor([[ 0.5764,  1.4954,  1.7118,  ...,  0.3668,  0.3314,  0.8775],\n",
      "        [-0.1675, -0.1320, -0.1822,  ..., -0.0376, -0.0819, -0.1193],\n",
      "        [-0.3200, -0.3692, -0.3042,  ..., -0.7175, -0.6594, -0.7185],\n",
      "        ...,\n",
      "        [ 0.0834,  0.0657,  0.0667,  ...,  0.1011,  0.1169,  0.1435],\n",
      "        [-0.3544, -0.1822, -0.2688,  ..., -0.2629,  0.0205, -0.0828],\n",
      "        [-0.1527, -0.1350, -0.0592,  ..., -0.4144,  0.0195, -0.4538]])\n",
      "ADC1 shape: torch.Size([64, 16000])\n",
      "ADC2 shape: torch.Size([64, 16000])\n",
      "Number of training samples: 714\n",
      "Number of validation samples: 179\n"
     ]
    }
   ],
   "source": [
    "from torch.utils.data import DataLoader, random_split\n",
    "\n",
    "# Define the dataset split ratio\n",
    "train_ratio = 0.8  # 80% for training\n",
    "val_ratio = 0.2\n",
    "\n",
    "# Calculate the number of samples for training and validation\n",
    "train_size = int(train_ratio * len(dataset))\n",
    "val_size = len(dataset) - train_size\n",
    "\n",
    "# Split the dataset into training and validation sets\n",
    "train_dataset, val_dataset = random_split(dataset, [train_size, val_size])\n",
    "\n",
    "#! Create DataLoader instances for training and validation sets\n",
    "batch_size = 64\n",
    "train_loader = DataLoader(train_dataset, batch_size=batch_size, shuffle=True, drop_last=True, num_workers=4)\n",
    "val_loader = DataLoader(val_dataset, batch_size=batch_size, shuffle=False, drop_last=True, num_workers=4)\n",
    "\n",
    "# Sample 100 elements from both training and validation datasets for testing\n",
    "for i, (ids, adc1, adc2) in enumerate(train_loader):\n",
    "    print(f\"Batch {i+1}:\")\n",
    "    print(\"IDs:\", ids)\n",
    "    print(\"ADC1 shape:\", adc1.shape)\n",
    "    print(\"ADC2 shape:\", adc2.shape)\n",
    "    if i >= 1:  # Stop after the first batch\n",
    "        break\n",
    "\n",
    "for i, (ids, adc1, adc2) in enumerate(val_loader):\n",
    "    print(f\"Batch {i+1}:\")\n",
    "    print(\"IDs:\", ids)\n",
    "    print(\"ADC1 shape:\", adc1.shape)\n",
    "    print(\"ADC2 shape:\", adc2.shape)\n",
    "    if i >= 1:  # Stop after the first batch\n",
    "        break\n",
    "    \n",
    "\n",
    "\n",
    "print(f\"Number of training samples: {len(train_dataset)}\")\n",
    "print(f\"Number of validation samples: {len(val_dataset)}\")\n"
   ]
  },
  {
   "cell_type": "code",
   "execution_count": 7,
   "metadata": {},
   "outputs": [],
   "source": [
    "# !wandb login"
   ]
  },
  {
   "cell_type": "code",
   "execution_count": 8,
   "metadata": {},
   "outputs": [],
   "source": [
    "# import wandb\n",
    "\n",
    "# # Initialize W&B\n",
    "# wandb.init(project=\"Murmurations\")\n",
    "\n",
    "# # Configure W&B logging\n",
    "# config = wandb.config\n",
    "# config.learning_rate = 0.001\n",
    "# config.epochs = 10\n",
    "# config.batch_size = 4\n"
   ]
  },
  {
   "cell_type": "code",
   "execution_count": 9,
   "metadata": {},
   "outputs": [
    {
     "name": "stdout",
     "output_type": "stream",
     "text": [
      "Using device: cuda:0\n"
     ]
    }
   ],
   "source": [
    "TOTAL_EPOCHS = 512\n",
    "PER_EPOCH = 1\n",
    "\n",
    "optimizer = torch.optim.Adam(model.parameters(), lr=0.001, weight_decay=1e-5)\n",
    "weights = torch.ones(dataset.get_N_classes())  # Weight for each class\n",
    "weights[-1] = 1/(dataset.get_N_classes()*2)  # Give less weight to the noise class\n",
    "criterion = torch.nn.CrossEntropyLoss(weight=weights, label_smoothing=0.1)  # Use label smoothing for better generalization\n",
    "# scheduler = torch.optim.lr_scheduler.StepLR(optimizer, step_size=50, gamma=0.5)\n",
    "# scheduler = torch.optim.lr_scheduler.CosineAnnealingLR(optimizer, TOTAL_EPOCHS, eta_min=0.0001)\n",
    "scheduler = torch.optim.lr_scheduler.CosineAnnealingWarmRestarts(optimizer, T_0=10, T_mult=3, eta_min=0.0001)\n",
    "# scheduler = None\n",
    "if torch.backends.mps.is_available():\n",
    "    global_device = torch.device(\"mps\")\n",
    "else:\n",
    "    global_device = torch.device(\"cuda:0\" if torch.cuda.is_available() else \"cpu\")\n",
    "print(\"Using device:\", global_device)\n",
    "verbosity = 1\n",
    "criterion = criterion.to(global_device)"
   ]
  },
  {
   "cell_type": "code",
   "execution_count": null,
   "metadata": {},
   "outputs": [
    {
     "name": "stderr",
     "output_type": "stream",
     "text": [
      "Epoch 1/1: 100%|██████████| 11/11 [00:01<00:00,  6.46it/s, loss=3.9819, acc=1.80%]\n",
      "TOTAL Epochs:   0%|          | 1/512 [00:01<14:38,  1.72s/it]"
     ]
    },
    {
     "name": "stdout",
     "output_type": "stream",
     "text": [
      "Epoch 1/1 => Loss: 4.0378, Special-Token Accuracy: 1.81%\n"
     ]
    },
    {
     "name": "stderr",
     "output_type": "stream",
     "text": [
      "Epoch 1/1: 100%|██████████| 11/11 [00:00<00:00, -17.02it/s, loss=3.9443, acc=1.54%]\n"
     ]
    },
    {
     "name": "stdout",
     "output_type": "stream",
     "text": [
      "Epoch 1/1 => Loss: 3.9364, Special-Token Accuracy: 1.84%\n"
     ]
    },
    {
     "name": "stderr",
     "output_type": "stream",
     "text": [
      "Epoch 1/1: 100%|██████████| 11/11 [00:01<00:00,  8.74it/s, loss=3.9344, acc=2.48%]\n",
      "TOTAL Epochs:   1%|          | 3/512 [00:02<05:44,  1.48it/s]"
     ]
    },
    {
     "name": "stdout",
     "output_type": "stream",
     "text": [
      "Epoch 1/1 => Loss: 3.9330, Special-Token Accuracy: 1.88%\n"
     ]
    },
    {
     "name": "stderr",
     "output_type": "stream",
     "text": [
      "Epoch 1/1: 100%|██████████| 11/11 [00:01<00:00,  8.74it/s, loss=3.8924, acc=1.78%]\n",
      "TOTAL Epochs:   1%|          | 4/512 [00:03<07:26,  1.14it/s]"
     ]
    },
    {
     "name": "stdout",
     "output_type": "stream",
     "text": [
      "Epoch 1/1 => Loss: 3.9064, Special-Token Accuracy: 1.92%\n"
     ]
    },
    {
     "name": "stderr",
     "output_type": "stream",
     "text": [
      "Epoch 1/1: 100%|██████████| 11/11 [00:01<00:00,  8.73it/s, loss=3.8981, acc=1.68%]\n",
      "TOTAL Epochs:   1%|          | 5/512 [00:04<08:30,  1.01s/it]"
     ]
    },
    {
     "name": "stdout",
     "output_type": "stream",
     "text": [
      "Epoch 1/1 => Loss: 3.8949, Special-Token Accuracy: 2.03%\n"
     ]
    },
    {
     "name": "stderr",
     "output_type": "stream",
     "text": [
      "Epoch 1/1: 100%|██████████| 11/11 [00:01<00:00,  8.75it/s, loss=3.8818, acc=1.87%]\n",
      "TOTAL Epochs:   1%|          | 6/512 [00:06<09:11,  1.09s/it]"
     ]
    },
    {
     "name": "stdout",
     "output_type": "stream",
     "text": [
      "Epoch 1/1 => Loss: 3.8813, Special-Token Accuracy: 1.97%\n"
     ]
    },
    {
     "name": "stderr",
     "output_type": "stream",
     "text": [
      "Epoch 1/1: 100%|██████████| 11/11 [00:01<00:00,  8.76it/s, loss=3.7909, acc=4.88%]\n",
      "TOTAL Epochs:   1%|▏         | 7/512 [00:07<09:37,  1.14s/it]"
     ]
    },
    {
     "name": "stdout",
     "output_type": "stream",
     "text": [
      "Epoch 1/1 => Loss: 3.8443, Special-Token Accuracy: 2.94%\n"
     ]
    },
    {
     "name": "stderr",
     "output_type": "stream",
     "text": [
      "Epoch 1/1: 100%|██████████| 11/11 [00:01<00:00,  8.66it/s, loss=3.8152, acc=2.35%]\n",
      "TOTAL Epochs:   2%|▏         | 8/512 [00:08<09:57,  1.19s/it]"
     ]
    },
    {
     "name": "stdout",
     "output_type": "stream",
     "text": [
      "Epoch 1/1 => Loss: 3.8271, Special-Token Accuracy: 2.82%\n"
     ]
    },
    {
     "name": "stderr",
     "output_type": "stream",
     "text": [
      "Epoch 1/1: 100%|██████████| 11/11 [00:01<00:00,  8.71it/s, loss=3.8428, acc=2.61%]\n",
      "TOTAL Epochs:   2%|▏         | 9/512 [00:09<10:09,  1.21s/it]"
     ]
    },
    {
     "name": "stdout",
     "output_type": "stream",
     "text": [
      "Epoch 1/1 => Loss: 3.8269, Special-Token Accuracy: 2.95%\n"
     ]
    },
    {
     "name": "stderr",
     "output_type": "stream",
     "text": [
      "Epoch 1/1: 100%|██████████| 11/11 [00:01<00:00,  8.74it/s, loss=3.7830, acc=3.34%]\n",
      "TOTAL Epochs:   2%|▏         | 10/512 [00:11<10:16,  1.23s/it]"
     ]
    },
    {
     "name": "stdout",
     "output_type": "stream",
     "text": [
      "Epoch 1/1 => Loss: 3.8182, Special-Token Accuracy: 2.74%\n"
     ]
    },
    {
     "name": "stderr",
     "output_type": "stream",
     "text": [
      "Epoch 1/1: 100%|██████████| 11/11 [00:01<00:00,  8.69it/s, loss=3.8265, acc=3.10%]\n",
      "TOTAL Epochs:   2%|▏         | 11/512 [00:12<10:21,  1.24s/it]"
     ]
    },
    {
     "name": "stdout",
     "output_type": "stream",
     "text": [
      "Epoch 1/1 => Loss: 3.8242, Special-Token Accuracy: 3.13%\n"
     ]
    },
    {
     "name": "stderr",
     "output_type": "stream",
     "text": [
      "Epoch 1/1: 100%|██████████| 11/11 [00:01<00:00,  8.75it/s, loss=3.7830, acc=3.13%]\n",
      "TOTAL Epochs:   2%|▏         | 12/512 [00:13<10:23,  1.25s/it]"
     ]
    },
    {
     "name": "stdout",
     "output_type": "stream",
     "text": [
      "Epoch 1/1 => Loss: 3.8294, Special-Token Accuracy: 2.80%\n"
     ]
    },
    {
     "name": "stderr",
     "output_type": "stream",
     "text": [
      "Epoch 1/1: 100%|██████████| 11/11 [00:01<00:00,  8.55it/s, loss=3.6963, acc=4.54%]\n",
      "TOTAL Epochs:   3%|▎         | 13/512 [00:15<10:29,  1.26s/it]"
     ]
    },
    {
     "name": "stdout",
     "output_type": "stream",
     "text": [
      "Epoch 1/1 => Loss: 3.7657, Special-Token Accuracy: 3.99%\n"
     ]
    },
    {
     "name": "stderr",
     "output_type": "stream",
     "text": [
      "Epoch 1/1: 100%|██████████| 11/11 [00:01<00:00,  8.68it/s, loss=3.7220, acc=4.46%]\n",
      "TOTAL Epochs:   3%|▎         | 14/512 [00:16<10:29,  1.26s/it]"
     ]
    },
    {
     "name": "stdout",
     "output_type": "stream",
     "text": [
      "Epoch 1/1 => Loss: 3.7569, Special-Token Accuracy: 3.77%\n"
     ]
    },
    {
     "name": "stderr",
     "output_type": "stream",
     "text": [
      "Epoch 1/1: 100%|██████████| 11/11 [00:01<00:00,  8.66it/s, loss=3.5049, acc=8.49%]\n",
      "TOTAL Epochs:   3%|▎         | 15/512 [00:17<10:30,  1.27s/it]"
     ]
    },
    {
     "name": "stdout",
     "output_type": "stream",
     "text": [
      "Epoch 1/1 => Loss: 3.6285, Special-Token Accuracy: 5.54%\n"
     ]
    },
    {
     "name": "stderr",
     "output_type": "stream",
     "text": [
      "Epoch 1/1: 100%|██████████| 11/11 [00:01<00:00,  8.64it/s, loss=3.5187, acc=5.90%]\n",
      "TOTAL Epochs:   3%|▎         | 16/512 [00:18<10:30,  1.27s/it]"
     ]
    },
    {
     "name": "stdout",
     "output_type": "stream",
     "text": [
      "Epoch 1/1 => Loss: 3.5345, Special-Token Accuracy: 6.61%\n"
     ]
    },
    {
     "name": "stderr",
     "output_type": "stream",
     "text": [
      "Epoch 1/1: 100%|██████████| 11/11 [00:01<00:00,  8.66it/s, loss=3.3875, acc=7.43%]\n",
      "TOTAL Epochs:   3%|▎         | 17/512 [00:20<10:30,  1.27s/it]"
     ]
    },
    {
     "name": "stdout",
     "output_type": "stream",
     "text": [
      "Epoch 1/1 => Loss: 3.4558, Special-Token Accuracy: 7.53%\n"
     ]
    },
    {
     "name": "stderr",
     "output_type": "stream",
     "text": [
      "Epoch 1/1: 100%|██████████| 11/11 [00:01<00:00,  8.64it/s, loss=3.3018, acc=9.97%]\n",
      "TOTAL Epochs:   4%|▎         | 18/512 [00:21<10:29,  1.27s/it]"
     ]
    },
    {
     "name": "stdout",
     "output_type": "stream",
     "text": [
      "Epoch 1/1 => Loss: 3.3273, Special-Token Accuracy: 9.65%\n"
     ]
    },
    {
     "name": "stderr",
     "output_type": "stream",
     "text": [
      "Epoch 1/1: 100%|██████████| 11/11 [00:01<00:00,  8.70it/s, loss=3.2207, acc=9.19%]\n",
      "TOTAL Epochs:   4%|▎         | 19/512 [00:22<10:27,  1.27s/it]"
     ]
    },
    {
     "name": "stdout",
     "output_type": "stream",
     "text": [
      "Epoch 1/1 => Loss: 3.2346, Special-Token Accuracy: 10.14%\n"
     ]
    },
    {
     "name": "stderr",
     "output_type": "stream",
     "text": [
      "Epoch 1/1: 100%|██████████| 11/11 [00:01<00:00,  8.66it/s, loss=3.0765, acc=14.29%]\n",
      "TOTAL Epochs:   4%|▍         | 20/512 [00:23<10:26,  1.27s/it]"
     ]
    },
    {
     "name": "stdout",
     "output_type": "stream",
     "text": [
      "Epoch 1/1 => Loss: 3.1653, Special-Token Accuracy: 12.07%\n"
     ]
    },
    {
     "name": "stderr",
     "output_type": "stream",
     "text": [
      "Epoch 1/1: 100%|██████████| 11/11 [00:01<00:00,  8.68it/s, loss=3.1071, acc=13.17%]\n",
      "TOTAL Epochs:   4%|▍         | 21/512 [00:25<10:25,  1.27s/it]"
     ]
    },
    {
     "name": "stdout",
     "output_type": "stream",
     "text": [
      "Epoch 1/1 => Loss: 3.1067, Special-Token Accuracy: 12.34%\n"
     ]
    },
    {
     "name": "stderr",
     "output_type": "stream",
     "text": [
      "Epoch 1/1: 100%|██████████| 11/11 [00:01<00:00,  8.67it/s, loss=3.1321, acc=10.43%]\n",
      "TOTAL Epochs:   4%|▍         | 22/512 [00:26<10:24,  1.27s/it]"
     ]
    },
    {
     "name": "stdout",
     "output_type": "stream",
     "text": [
      "Epoch 1/1 => Loss: 3.1273, Special-Token Accuracy: 12.73%\n"
     ]
    },
    {
     "name": "stderr",
     "output_type": "stream",
     "text": [
      "Epoch 1/1: 100%|██████████| 11/11 [00:01<00:00,  8.68it/s, loss=3.0764, acc=13.71%]\n",
      "TOTAL Epochs:   4%|▍         | 23/512 [00:27<10:22,  1.27s/it]"
     ]
    },
    {
     "name": "stdout",
     "output_type": "stream",
     "text": [
      "Epoch 1/1 => Loss: 3.0676, Special-Token Accuracy: 13.21%\n"
     ]
    },
    {
     "name": "stderr",
     "output_type": "stream",
     "text": [
      "Epoch 1/1: 100%|██████████| 11/11 [00:01<00:00,  8.66it/s, loss=2.8911, acc=14.76%]\n",
      "TOTAL Epochs:   5%|▍         | 24/512 [00:29<10:21,  1.27s/it]"
     ]
    },
    {
     "name": "stdout",
     "output_type": "stream",
     "text": [
      "Epoch 1/1 => Loss: 3.0099, Special-Token Accuracy: 14.44%\n"
     ]
    },
    {
     "name": "stderr",
     "output_type": "stream",
     "text": [
      "Epoch 1/1: 100%|██████████| 11/11 [00:01<00:00,  8.70it/s, loss=3.0122, acc=13.28%]\n",
      "TOTAL Epochs:   5%|▍         | 25/512 [00:30<10:20,  1.27s/it]"
     ]
    },
    {
     "name": "stdout",
     "output_type": "stream",
     "text": [
      "Epoch 1/1 => Loss: 2.9483, Special-Token Accuracy: 15.58%\n"
     ]
    },
    {
     "name": "stderr",
     "output_type": "stream",
     "text": [
      "Epoch 1/1: 100%|██████████| 11/11 [00:01<00:00,  8.65it/s, loss=2.9309, acc=16.93%]\n",
      "TOTAL Epochs:   5%|▌         | 26/512 [00:31<10:19,  1.27s/it]"
     ]
    },
    {
     "name": "stdout",
     "output_type": "stream",
     "text": [
      "Epoch 1/1 => Loss: 2.9469, Special-Token Accuracy: 16.49%\n"
     ]
    },
    {
     "name": "stderr",
     "output_type": "stream",
     "text": [
      "Epoch 1/1: 100%|██████████| 11/11 [00:00<00:00, -17.31it/s, loss=2.8171, acc=18.75%]\n"
     ]
    },
    {
     "name": "stdout",
     "output_type": "stream",
     "text": [
      "Epoch 1/1 => Loss: 2.8960, Special-Token Accuracy: 16.97%\n"
     ]
    },
    {
     "name": "stderr",
     "output_type": "stream",
     "text": [
      "Epoch 1/1: 100%|██████████| 11/11 [00:01<00:00,  8.65it/s, loss=2.9188, acc=16.68%]\n",
      "TOTAL Epochs:   5%|▌         | 28/512 [00:32<06:44,  1.20it/s]"
     ]
    },
    {
     "name": "stdout",
     "output_type": "stream",
     "text": [
      "Epoch 1/1 => Loss: 2.8470, Special-Token Accuracy: 18.25%\n"
     ]
    },
    {
     "name": "stderr",
     "output_type": "stream",
     "text": [
      "Epoch 1/1: 100%|██████████| 11/11 [00:01<00:00,  8.61it/s, loss=2.8330, acc=19.16%]\n",
      "TOTAL Epochs:   6%|▌         | 29/512 [00:33<07:37,  1.06it/s]"
     ]
    },
    {
     "name": "stdout",
     "output_type": "stream",
     "text": [
      "Epoch 1/1 => Loss: 2.8291, Special-Token Accuracy: 18.74%\n"
     ]
    },
    {
     "name": "stderr",
     "output_type": "stream",
     "text": [
      "Epoch 1/1: 100%|██████████| 11/11 [00:01<00:00,  8.66it/s, loss=2.7779, acc=19.52%]\n",
      "TOTAL Epochs:   6%|▌         | 30/512 [00:34<08:17,  1.03s/it]"
     ]
    },
    {
     "name": "stdout",
     "output_type": "stream",
     "text": [
      "Epoch 1/1 => Loss: 2.7662, Special-Token Accuracy: 19.93%\n"
     ]
    },
    {
     "name": "stderr",
     "output_type": "stream",
     "text": [
      "Epoch 1/1: 100%|██████████| 11/11 [00:01<00:00,  8.58it/s, loss=2.6532, acc=22.43%]\n",
      "TOTAL Epochs:   6%|▌         | 31/512 [00:36<08:50,  1.10s/it]"
     ]
    },
    {
     "name": "stdout",
     "output_type": "stream",
     "text": [
      "Epoch 1/1 => Loss: 2.7260, Special-Token Accuracy: 20.79%\n"
     ]
    },
    {
     "name": "stderr",
     "output_type": "stream",
     "text": [
      "Epoch 1/1: 100%|██████████| 11/11 [00:01<00:00,  8.64it/s, loss=2.6532, acc=23.79%]\n",
      "TOTAL Epochs:   6%|▋         | 32/512 [00:37<09:12,  1.15s/it]"
     ]
    },
    {
     "name": "stdout",
     "output_type": "stream",
     "text": [
      "Epoch 1/1 => Loss: 2.6866, Special-Token Accuracy: 21.91%\n"
     ]
    },
    {
     "name": "stderr",
     "output_type": "stream",
     "text": [
      "Epoch 1/1: 100%|██████████| 11/11 [00:01<00:00,  8.65it/s, loss=2.6344, acc=23.38%]\n",
      "TOTAL Epochs:   6%|▋         | 33/512 [00:38<09:28,  1.19s/it]"
     ]
    },
    {
     "name": "stdout",
     "output_type": "stream",
     "text": [
      "Epoch 1/1 => Loss: 2.6912, Special-Token Accuracy: 21.94%\n"
     ]
    },
    {
     "name": "stderr",
     "output_type": "stream",
     "text": [
      "Epoch 1/1: 100%|██████████| 11/11 [00:01<00:00,  8.60it/s, loss=2.6568, acc=23.88%]\n",
      "TOTAL Epochs:   7%|▋         | 34/512 [00:39<09:41,  1.22s/it]"
     ]
    },
    {
     "name": "stdout",
     "output_type": "stream",
     "text": [
      "Epoch 1/1 => Loss: 2.6259, Special-Token Accuracy: 23.60%\n"
     ]
    },
    {
     "name": "stderr",
     "output_type": "stream",
     "text": [
      "Epoch 1/1: 100%|██████████| 11/11 [00:01<00:00,  8.63it/s, loss=2.5513, acc=25.18%]\n",
      "TOTAL Epochs:   7%|▋         | 35/512 [00:41<09:49,  1.23s/it]"
     ]
    },
    {
     "name": "stdout",
     "output_type": "stream",
     "text": [
      "Epoch 1/1 => Loss: 2.5853, Special-Token Accuracy: 24.84%\n"
     ]
    },
    {
     "name": "stderr",
     "output_type": "stream",
     "text": [
      "Epoch 1/1: 100%|██████████| 11/11 [00:01<00:00,  8.67it/s, loss=2.5994, acc=22.40%]\n",
      "TOTAL Epochs:   7%|▋         | 36/512 [00:42<09:53,  1.25s/it]"
     ]
    },
    {
     "name": "stdout",
     "output_type": "stream",
     "text": [
      "Epoch 1/1 => Loss: 2.5970, Special-Token Accuracy: 24.78%\n"
     ]
    },
    {
     "name": "stderr",
     "output_type": "stream",
     "text": [
      "Epoch 1/1: 100%|██████████| 11/11 [00:01<00:00,  8.63it/s, loss=2.5595, acc=24.76%]\n",
      "TOTAL Epochs:   7%|▋         | 37/512 [00:43<09:56,  1.26s/it]"
     ]
    },
    {
     "name": "stdout",
     "output_type": "stream",
     "text": [
      "Epoch 1/1 => Loss: 2.5527, Special-Token Accuracy: 25.52%\n"
     ]
    },
    {
     "name": "stderr",
     "output_type": "stream",
     "text": [
      "Epoch 1/1: 100%|██████████| 11/11 [00:01<00:00,  8.59it/s, loss=2.5712, acc=23.88%]\n",
      "TOTAL Epochs:   7%|▋         | 38/512 [00:45<10:00,  1.27s/it]"
     ]
    },
    {
     "name": "stdout",
     "output_type": "stream",
     "text": [
      "Epoch 1/1 => Loss: 2.5396, Special-Token Accuracy: 25.64%\n"
     ]
    },
    {
     "name": "stderr",
     "output_type": "stream",
     "text": [
      "Epoch 1/1: 100%|██████████| 11/11 [00:01<00:00,  8.61it/s, loss=2.5374, acc=26.47%]\n",
      "TOTAL Epochs:   8%|▊         | 39/512 [00:46<10:01,  1.27s/it]"
     ]
    },
    {
     "name": "stdout",
     "output_type": "stream",
     "text": [
      "Epoch 1/1 => Loss: 2.5353, Special-Token Accuracy: 26.58%\n"
     ]
    },
    {
     "name": "stderr",
     "output_type": "stream",
     "text": [
      "Epoch 1/1: 100%|██████████| 11/11 [00:01<00:00,  8.59it/s, loss=2.5988, acc=23.98%]\n",
      "TOTAL Epochs:   8%|▊         | 40/512 [00:47<10:02,  1.28s/it]"
     ]
    },
    {
     "name": "stdout",
     "output_type": "stream",
     "text": [
      "Epoch 1/1 => Loss: 2.5053, Special-Token Accuracy: 26.62%\n"
     ]
    },
    {
     "name": "stderr",
     "output_type": "stream",
     "text": [
      "Epoch 1/1: 100%|██████████| 11/11 [00:01<00:00,  8.61it/s, loss=2.8215, acc=18.57%]\n",
      "TOTAL Epochs:   8%|▊         | 41/512 [00:48<10:01,  1.28s/it]"
     ]
    },
    {
     "name": "stdout",
     "output_type": "stream",
     "text": [
      "Epoch 1/1 => Loss: 2.7622, Special-Token Accuracy: 20.88%\n"
     ]
    },
    {
     "name": "stderr",
     "output_type": "stream",
     "text": [
      "Epoch 1/1: 100%|██████████| 11/11 [00:01<00:00,  8.63it/s, loss=2.7129, acc=22.05%]\n",
      "TOTAL Epochs:   8%|▊         | 42/512 [00:50<10:01,  1.28s/it]"
     ]
    },
    {
     "name": "stdout",
     "output_type": "stream",
     "text": [
      "Epoch 1/1 => Loss: 2.8063, Special-Token Accuracy: 19.48%\n"
     ]
    },
    {
     "name": "stderr",
     "output_type": "stream",
     "text": [
      "Epoch 1/1: 100%|██████████| 11/11 [00:01<00:00,  8.61it/s, loss=2.7898, acc=21.04%]\n",
      "TOTAL Epochs:   8%|▊         | 43/512 [00:51<10:00,  1.28s/it]"
     ]
    },
    {
     "name": "stdout",
     "output_type": "stream",
     "text": [
      "Epoch 1/1 => Loss: 2.7840, Special-Token Accuracy: 20.47%\n"
     ]
    },
    {
     "name": "stderr",
     "output_type": "stream",
     "text": [
      "Epoch 1/1: 100%|██████████| 11/11 [00:01<00:00,  8.65it/s, loss=2.7427, acc=21.54%]\n",
      "TOTAL Epochs:   9%|▊         | 44/512 [00:52<09:59,  1.28s/it]"
     ]
    },
    {
     "name": "stdout",
     "output_type": "stream",
     "text": [
      "Epoch 1/1 => Loss: 2.6962, Special-Token Accuracy: 22.20%\n"
     ]
    },
    {
     "name": "stderr",
     "output_type": "stream",
     "text": [
      "Epoch 1/1: 100%|██████████| 11/11 [00:01<00:00,  8.63it/s, loss=2.6183, acc=22.79%]\n",
      "TOTAL Epochs:   9%|▉         | 45/512 [00:54<09:57,  1.28s/it]"
     ]
    },
    {
     "name": "stdout",
     "output_type": "stream",
     "text": [
      "Epoch 1/1 => Loss: 2.6804, Special-Token Accuracy: 23.40%\n"
     ]
    },
    {
     "name": "stderr",
     "output_type": "stream",
     "text": [
      "Epoch 1/1: 100%|██████████| 11/11 [00:01<00:00,  8.59it/s, loss=2.6513, acc=24.48%]\n",
      "TOTAL Epochs:   9%|▉         | 46/512 [00:55<09:57,  1.28s/it]"
     ]
    },
    {
     "name": "stdout",
     "output_type": "stream",
     "text": [
      "Epoch 1/1 => Loss: 2.6426, Special-Token Accuracy: 24.51%\n"
     ]
    },
    {
     "name": "stderr",
     "output_type": "stream",
     "text": [
      "Epoch 1/1: 100%|██████████| 11/11 [00:01<00:00,  8.61it/s, loss=2.4876, acc=27.65%]\n",
      "TOTAL Epochs:   9%|▉         | 47/512 [00:56<09:56,  1.28s/it]"
     ]
    },
    {
     "name": "stdout",
     "output_type": "stream",
     "text": [
      "Epoch 1/1 => Loss: 2.5847, Special-Token Accuracy: 25.32%\n"
     ]
    },
    {
     "name": "stderr",
     "output_type": "stream",
     "text": [
      "Epoch 1/1: 100%|██████████| 11/11 [00:01<00:00,  8.59it/s, loss=2.6258, acc=24.71%]\n",
      "TOTAL Epochs:   9%|▉         | 48/512 [00:57<09:55,  1.28s/it]"
     ]
    },
    {
     "name": "stdout",
     "output_type": "stream",
     "text": [
      "Epoch 1/1 => Loss: 2.5808, Special-Token Accuracy: 25.64%\n"
     ]
    },
    {
     "name": "stderr",
     "output_type": "stream",
     "text": [
      "Epoch 1/1: 100%|██████████| 11/11 [00:01<00:00,  8.57it/s, loss=2.7090, acc=22.54%]\n",
      "TOTAL Epochs:  10%|▉         | 49/512 [00:59<09:54,  1.29s/it]"
     ]
    },
    {
     "name": "stdout",
     "output_type": "stream",
     "text": [
      "Epoch 1/1 => Loss: 2.5964, Special-Token Accuracy: 25.24%\n"
     ]
    },
    {
     "name": "stderr",
     "output_type": "stream",
     "text": [
      "Epoch 1/1: 100%|██████████| 11/11 [00:01<00:00,  8.54it/s, loss=2.4804, acc=27.16%]\n",
      "TOTAL Epochs:  10%|▉         | 50/512 [01:00<09:54,  1.29s/it]"
     ]
    },
    {
     "name": "stdout",
     "output_type": "stream",
     "text": [
      "Epoch 1/1 => Loss: 2.5460, Special-Token Accuracy: 27.46%\n"
     ]
    },
    {
     "name": "stderr",
     "output_type": "stream",
     "text": [
      "Epoch 1/1: 100%|██████████| 11/11 [00:01<00:00,  8.55it/s, loss=2.4836, acc=28.66%]\n",
      "TOTAL Epochs:  10%|▉         | 51/512 [01:01<09:54,  1.29s/it]"
     ]
    },
    {
     "name": "stdout",
     "output_type": "stream",
     "text": [
      "Epoch 1/1 => Loss: 2.4693, Special-Token Accuracy: 28.52%\n"
     ]
    },
    {
     "name": "stderr",
     "output_type": "stream",
     "text": [
      "Epoch 1/1: 100%|██████████| 11/11 [00:00<00:00, -17.35it/s, loss=2.3106, acc=32.64%]\n"
     ]
    },
    {
     "name": "stdout",
     "output_type": "stream",
     "text": [
      "Epoch 1/1 => Loss: 2.4747, Special-Token Accuracy: 28.39%\n"
     ]
    },
    {
     "name": "stderr",
     "output_type": "stream",
     "text": [
      "Epoch 1/1: 100%|██████████| 11/11 [00:01<00:00,  8.61it/s, loss=2.5188, acc=28.84%]\n",
      "TOTAL Epochs:  10%|█         | 53/512 [01:02<06:28,  1.18it/s]"
     ]
    },
    {
     "name": "stdout",
     "output_type": "stream",
     "text": [
      "Epoch 1/1 => Loss: 2.4604, Special-Token Accuracy: 29.46%\n"
     ]
    },
    {
     "name": "stderr",
     "output_type": "stream",
     "text": [
      "Epoch 1/1: 100%|██████████| 11/11 [00:01<00:00,  8.45it/s, loss=2.2608, acc=32.42%]\n",
      "TOTAL Epochs:  11%|█         | 54/512 [01:03<07:20,  1.04it/s]"
     ]
    },
    {
     "name": "stdout",
     "output_type": "stream",
     "text": [
      "Epoch 1/1 => Loss: 2.3584, Special-Token Accuracy: 32.13%\n"
     ]
    },
    {
     "name": "stderr",
     "output_type": "stream",
     "text": [
      "Epoch 1/1: 100%|██████████| 11/11 [00:01<00:00,  8.58it/s, loss=2.3075, acc=33.51%]\n",
      "TOTAL Epochs:  11%|█         | 55/512 [01:05<07:58,  1.05s/it]"
     ]
    },
    {
     "name": "stdout",
     "output_type": "stream",
     "text": [
      "Epoch 1/1 => Loss: 2.2973, Special-Token Accuracy: 32.58%\n"
     ]
    },
    {
     "name": "stderr",
     "output_type": "stream",
     "text": [
      "Epoch 1/1: 100%|██████████| 11/11 [00:01<00:00,  8.56it/s, loss=2.1437, acc=35.24%]\n",
      "TOTAL Epochs:  11%|█         | 56/512 [01:06<08:27,  1.11s/it]"
     ]
    },
    {
     "name": "stdout",
     "output_type": "stream",
     "text": [
      "Epoch 1/1 => Loss: 2.3053, Special-Token Accuracy: 33.86%\n"
     ]
    },
    {
     "name": "stderr",
     "output_type": "stream",
     "text": [
      "Epoch 1/1: 100%|██████████| 11/11 [00:01<00:00,  8.56it/s, loss=2.2588, acc=33.38%]\n",
      "TOTAL Epochs:  11%|█         | 57/512 [01:07<08:48,  1.16s/it]"
     ]
    },
    {
     "name": "stdout",
     "output_type": "stream",
     "text": [
      "Epoch 1/1 => Loss: 2.2828, Special-Token Accuracy: 33.81%\n"
     ]
    },
    {
     "name": "stderr",
     "output_type": "stream",
     "text": [
      "Epoch 1/1: 100%|██████████| 11/11 [00:01<00:00,  8.37it/s, loss=2.1787, acc=38.44%]\n",
      "TOTAL Epochs:  11%|█▏        | 58/512 [01:08<09:08,  1.21s/it]"
     ]
    },
    {
     "name": "stdout",
     "output_type": "stream",
     "text": [
      "Epoch 1/1 => Loss: 2.2089, Special-Token Accuracy: 36.49%\n"
     ]
    },
    {
     "name": "stderr",
     "output_type": "stream",
     "text": [
      "Epoch 1/1: 100%|██████████| 11/11 [00:01<00:00,  8.57it/s, loss=2.1626, acc=35.40%]\n",
      "TOTAL Epochs:  12%|█▏        | 59/512 [01:10<09:17,  1.23s/it]"
     ]
    },
    {
     "name": "stdout",
     "output_type": "stream",
     "text": [
      "Epoch 1/1 => Loss: 2.1548, Special-Token Accuracy: 38.24%\n"
     ]
    },
    {
     "name": "stderr",
     "output_type": "stream",
     "text": [
      "Epoch 1/1: 100%|██████████| 11/11 [00:01<00:00,  8.41it/s, loss=2.0338, acc=40.90%]\n",
      "TOTAL Epochs:  12%|█▏        | 60/512 [01:11<09:27,  1.26s/it]"
     ]
    },
    {
     "name": "stdout",
     "output_type": "stream",
     "text": [
      "Epoch 1/1 => Loss: 2.0880, Special-Token Accuracy: 38.07%\n"
     ]
    },
    {
     "name": "stderr",
     "output_type": "stream",
     "text": [
      "Epoch 1/1: 100%|██████████| 11/11 [00:01<00:00,  8.55it/s, loss=2.0801, acc=37.80%]\n",
      "TOTAL Epochs:  12%|█▏        | 61/512 [01:12<09:30,  1.27s/it]"
     ]
    },
    {
     "name": "stdout",
     "output_type": "stream",
     "text": [
      "Epoch 1/1 => Loss: 2.1069, Special-Token Accuracy: 38.84%\n"
     ]
    },
    {
     "name": "stderr",
     "output_type": "stream",
     "text": [
      "Epoch 1/1: 100%|██████████| 11/11 [00:01<00:00,  8.57it/s, loss=2.0718, acc=37.23%]\n",
      "TOTAL Epochs:  12%|█▏        | 62/512 [01:14<09:32,  1.27s/it]"
     ]
    },
    {
     "name": "stdout",
     "output_type": "stream",
     "text": [
      "Epoch 1/1 => Loss: 2.1039, Special-Token Accuracy: 37.53%\n"
     ]
    },
    {
     "name": "stderr",
     "output_type": "stream",
     "text": [
      "Epoch 1/1: 100%|██████████| 11/11 [00:01<00:00,  8.52it/s, loss=2.1045, acc=37.74%]\n",
      "TOTAL Epochs:  12%|█▏        | 63/512 [01:15<09:34,  1.28s/it]"
     ]
    },
    {
     "name": "stdout",
     "output_type": "stream",
     "text": [
      "Epoch 1/1 => Loss: 2.1160, Special-Token Accuracy: 39.10%\n"
     ]
    },
    {
     "name": "stderr",
     "output_type": "stream",
     "text": [
      "Epoch 1/1: 100%|██████████| 11/11 [00:01<00:00,  8.58it/s, loss=2.0696, acc=38.89%]\n",
      "TOTAL Epochs:  12%|█▎        | 64/512 [01:16<09:34,  1.28s/it]"
     ]
    },
    {
     "name": "stdout",
     "output_type": "stream",
     "text": [
      "Epoch 1/1 => Loss: 2.0612, Special-Token Accuracy: 38.73%\n"
     ]
    },
    {
     "name": "stderr",
     "output_type": "stream",
     "text": [
      "Epoch 1/1: 100%|██████████| 11/11 [00:01<00:00,  8.54it/s, loss=2.0897, acc=37.43%]\n",
      "TOTAL Epochs:  13%|█▎        | 65/512 [01:18<09:34,  1.29s/it]"
     ]
    },
    {
     "name": "stdout",
     "output_type": "stream",
     "text": [
      "Epoch 1/1 => Loss: 2.0493, Special-Token Accuracy: 40.57%\n"
     ]
    },
    {
     "name": "stderr",
     "output_type": "stream",
     "text": [
      "Epoch 1/1: 100%|██████████| 11/11 [00:01<00:00,  8.56it/s, loss=2.0806, acc=41.05%]\n",
      "TOTAL Epochs:  13%|█▎        | 66/512 [01:19<09:34,  1.29s/it]"
     ]
    },
    {
     "name": "stdout",
     "output_type": "stream",
     "text": [
      "Epoch 1/1 => Loss: 2.0236, Special-Token Accuracy: 40.20%\n"
     ]
    },
    {
     "name": "stderr",
     "output_type": "stream",
     "text": [
      "Epoch 1/1: 100%|██████████| 11/11 [00:01<00:00,  8.55it/s, loss=1.9062, acc=42.02%]\n",
      "TOTAL Epochs:  13%|█▎        | 67/512 [01:20<09:33,  1.29s/it]"
     ]
    },
    {
     "name": "stdout",
     "output_type": "stream",
     "text": [
      "Epoch 1/1 => Loss: 1.9889, Special-Token Accuracy: 43.03%\n"
     ]
    },
    {
     "name": "stderr",
     "output_type": "stream",
     "text": [
      "Epoch 1/1: 100%|██████████| 11/11 [00:01<00:00,  8.52it/s, loss=1.9296, acc=44.26%]\n",
      "TOTAL Epochs:  13%|█▎        | 68/512 [01:21<09:33,  1.29s/it]"
     ]
    },
    {
     "name": "stdout",
     "output_type": "stream",
     "text": [
      "Epoch 1/1 => Loss: 1.9517, Special-Token Accuracy: 43.58%\n"
     ]
    },
    {
     "name": "stderr",
     "output_type": "stream",
     "text": [
      "Epoch 1/1: 100%|██████████| 11/11 [00:01<00:00,  8.53it/s, loss=1.7763, acc=49.19%]\n",
      "TOTAL Epochs:  13%|█▎        | 69/512 [01:23<09:32,  1.29s/it]"
     ]
    },
    {
     "name": "stdout",
     "output_type": "stream",
     "text": [
      "Epoch 1/1 => Loss: 1.8602, Special-Token Accuracy: 44.46%\n"
     ]
    },
    {
     "name": "stderr",
     "output_type": "stream",
     "text": [
      "Epoch 1/1: 100%|██████████| 11/11 [00:01<00:00,  8.50it/s, loss=1.9171, acc=42.59%]\n",
      "TOTAL Epochs:  14%|█▎        | 70/512 [01:24<09:32,  1.29s/it]"
     ]
    },
    {
     "name": "stdout",
     "output_type": "stream",
     "text": [
      "Epoch 1/1 => Loss: 1.8812, Special-Token Accuracy: 45.71%\n"
     ]
    },
    {
     "name": "stderr",
     "output_type": "stream",
     "text": [
      "Epoch 1/1: 100%|██████████| 11/11 [00:01<00:00,  8.57it/s, loss=1.8394, acc=45.75%]\n",
      "TOTAL Epochs:  14%|█▍        | 71/512 [01:25<09:30,  1.29s/it]"
     ]
    },
    {
     "name": "stdout",
     "output_type": "stream",
     "text": [
      "Epoch 1/1 => Loss: 1.8793, Special-Token Accuracy: 44.34%\n"
     ]
    },
    {
     "name": "stderr",
     "output_type": "stream",
     "text": [
      "Epoch 1/1: 100%|██████████| 11/11 [00:01<00:00,  8.52it/s, loss=1.8711, acc=45.31%]\n",
      "TOTAL Epochs:  14%|█▍        | 72/512 [01:27<09:29,  1.29s/it]"
     ]
    },
    {
     "name": "stdout",
     "output_type": "stream",
     "text": [
      "Epoch 1/1 => Loss: 1.8491, Special-Token Accuracy: 45.22%\n"
     ]
    },
    {
     "name": "stderr",
     "output_type": "stream",
     "text": [
      "Epoch 1/1: 100%|██████████| 11/11 [00:01<00:00,  8.52it/s, loss=1.8351, acc=43.83%]\n",
      "TOTAL Epochs:  14%|█▍        | 73/512 [01:28<09:28,  1.30s/it]"
     ]
    },
    {
     "name": "stdout",
     "output_type": "stream",
     "text": [
      "Epoch 1/1 => Loss: 1.8273, Special-Token Accuracy: 46.32%\n"
     ]
    },
    {
     "name": "stderr",
     "output_type": "stream",
     "text": [
      "Epoch 1/1: 100%|██████████| 11/11 [00:01<00:00,  8.53it/s, loss=1.8364, acc=47.42%]\n",
      "TOTAL Epochs:  14%|█▍        | 74/512 [01:29<09:27,  1.30s/it]"
     ]
    },
    {
     "name": "stdout",
     "output_type": "stream",
     "text": [
      "Epoch 1/1 => Loss: 1.8023, Special-Token Accuracy: 47.16%\n"
     ]
    },
    {
     "name": "stderr",
     "output_type": "stream",
     "text": [
      "Epoch 1/1: 100%|██████████| 11/11 [00:01<00:00,  8.61it/s, loss=1.7862, acc=47.40%]\n",
      "TOTAL Epochs:  15%|█▍        | 75/512 [01:30<09:24,  1.29s/it]"
     ]
    },
    {
     "name": "stdout",
     "output_type": "stream",
     "text": [
      "Epoch 1/1 => Loss: 1.7910, Special-Token Accuracy: 46.86%\n"
     ]
    },
    {
     "name": "stderr",
     "output_type": "stream",
     "text": [
      "Epoch 1/1: 100%|██████████| 11/11 [00:01<00:00,  8.62it/s, loss=1.8099, acc=49.74%]\n",
      "TOTAL Epochs:  15%|█▍        | 76/512 [01:32<09:22,  1.29s/it]"
     ]
    },
    {
     "name": "stdout",
     "output_type": "stream",
     "text": [
      "Epoch 1/1 => Loss: 1.7592, Special-Token Accuracy: 49.19%\n"
     ]
    },
    {
     "name": "stderr",
     "output_type": "stream",
     "text": [
      "Epoch 1/1: 100%|██████████| 11/11 [00:00<00:00, -17.06it/s, loss=1.7677, acc=48.54%]\n"
     ]
    },
    {
     "name": "stdout",
     "output_type": "stream",
     "text": [
      "Epoch 1/1 => Loss: 1.7193, Special-Token Accuracy: 49.68%\n"
     ]
    },
    {
     "name": "stderr",
     "output_type": "stream",
     "text": [
      "Epoch 1/1: 100%|██████████| 11/11 [00:01<00:00,  8.63it/s, loss=1.7192, acc=50.73%]\n",
      "TOTAL Epochs:  15%|█▌        | 78/512 [01:32<06:05,  1.19it/s]"
     ]
    },
    {
     "name": "stdout",
     "output_type": "stream",
     "text": [
      "Epoch 1/1 => Loss: 1.6983, Special-Token Accuracy: 52.02%\n"
     ]
    },
    {
     "name": "stderr",
     "output_type": "stream",
     "text": [
      "Epoch 1/1: 100%|██████████| 11/11 [00:01<00:00,  8.57it/s, loss=1.5820, acc=52.15%]\n",
      "TOTAL Epochs:  15%|█▌        | 79/512 [01:34<06:52,  1.05it/s]"
     ]
    },
    {
     "name": "stdout",
     "output_type": "stream",
     "text": [
      "Epoch 1/1 => Loss: 1.6688, Special-Token Accuracy: 49.78%\n"
     ]
    },
    {
     "name": "stderr",
     "output_type": "stream",
     "text": [
      "Epoch 1/1: 100%|██████████| 11/11 [00:01<00:00,  8.58it/s, loss=1.7074, acc=51.30%]\n",
      "TOTAL Epochs:  16%|█▌        | 80/512 [01:35<07:29,  1.04s/it]"
     ]
    },
    {
     "name": "stdout",
     "output_type": "stream",
     "text": [
      "Epoch 1/1 => Loss: 1.6600, Special-Token Accuracy: 51.52%\n"
     ]
    },
    {
     "name": "stderr",
     "output_type": "stream",
     "text": [
      "Epoch 1/1: 100%|██████████| 11/11 [00:01<00:00,  8.59it/s, loss=1.5563, acc=54.98%]\n",
      "TOTAL Epochs:  16%|█▌        | 81/512 [01:36<07:57,  1.11s/it]"
     ]
    },
    {
     "name": "stdout",
     "output_type": "stream",
     "text": [
      "Epoch 1/1 => Loss: 1.6257, Special-Token Accuracy: 52.60%\n"
     ]
    },
    {
     "name": "stderr",
     "output_type": "stream",
     "text": [
      "Epoch 1/1: 100%|██████████| 11/11 [00:01<00:00,  8.63it/s, loss=1.5478, acc=54.38%]\n",
      "TOTAL Epochs:  16%|█▌        | 82/512 [01:38<08:17,  1.16s/it]"
     ]
    },
    {
     "name": "stdout",
     "output_type": "stream",
     "text": [
      "Epoch 1/1 => Loss: 1.6157, Special-Token Accuracy: 53.09%\n"
     ]
    },
    {
     "name": "stderr",
     "output_type": "stream",
     "text": [
      "Epoch 1/1: 100%|██████████| 11/11 [00:01<00:00,  8.57it/s, loss=1.5846, acc=55.92%]\n",
      "TOTAL Epochs:  16%|█▌        | 83/512 [01:39<08:32,  1.19s/it]"
     ]
    },
    {
     "name": "stdout",
     "output_type": "stream",
     "text": [
      "Epoch 1/1 => Loss: 1.5915, Special-Token Accuracy: 53.11%\n"
     ]
    },
    {
     "name": "stderr",
     "output_type": "stream",
     "text": [
      "Epoch 1/1: 100%|██████████| 11/11 [00:01<00:00,  8.57it/s, loss=1.5271, acc=55.14%]\n",
      "TOTAL Epochs:  16%|█▋        | 84/512 [01:40<08:42,  1.22s/it]"
     ]
    },
    {
     "name": "stdout",
     "output_type": "stream",
     "text": [
      "Epoch 1/1 => Loss: 1.5638, Special-Token Accuracy: 54.22%\n"
     ]
    },
    {
     "name": "stderr",
     "output_type": "stream",
     "text": [
      "Epoch 1/1: 100%|██████████| 11/11 [00:01<00:00,  8.53it/s, loss=1.5746, acc=57.01%]\n",
      "TOTAL Epochs:  17%|█▋        | 85/512 [01:41<08:51,  1.24s/it]"
     ]
    },
    {
     "name": "stdout",
     "output_type": "stream",
     "text": [
      "Epoch 1/1 => Loss: 1.5698, Special-Token Accuracy: 54.89%\n"
     ]
    },
    {
     "name": "stderr",
     "output_type": "stream",
     "text": [
      "Epoch 1/1: 100%|██████████| 11/11 [00:01<00:00,  8.54it/s, loss=1.5114, acc=55.96%]\n",
      "TOTAL Epochs:  17%|█▋        | 86/512 [01:43<08:56,  1.26s/it]"
     ]
    },
    {
     "name": "stdout",
     "output_type": "stream",
     "text": [
      "Epoch 1/1 => Loss: 1.5703, Special-Token Accuracy: 54.39%\n"
     ]
    },
    {
     "name": "stderr",
     "output_type": "stream",
     "text": [
      "Epoch 1/1: 100%|██████████| 11/11 [00:01<00:00,  8.68it/s, loss=1.5022, acc=55.95%]\n",
      "TOTAL Epochs:  17%|█▋        | 87/512 [01:44<08:57,  1.26s/it]"
     ]
    },
    {
     "name": "stdout",
     "output_type": "stream",
     "text": [
      "Epoch 1/1 => Loss: 1.5357, Special-Token Accuracy: 54.88%\n"
     ]
    },
    {
     "name": "stderr",
     "output_type": "stream",
     "text": [
      "Epoch 1/1: 100%|██████████| 11/11 [00:01<00:00,  8.57it/s, loss=1.4350, acc=58.54%]\n",
      "TOTAL Epochs:  17%|█▋        | 88/512 [01:45<08:59,  1.27s/it]"
     ]
    },
    {
     "name": "stdout",
     "output_type": "stream",
     "text": [
      "Epoch 1/1 => Loss: 1.5234, Special-Token Accuracy: 56.30%\n"
     ]
    },
    {
     "name": "stderr",
     "output_type": "stream",
     "text": [
      "Epoch 1/1: 100%|██████████| 11/11 [00:01<00:00,  8.60it/s, loss=1.4825, acc=53.29%]\n",
      "TOTAL Epochs:  17%|█▋        | 89/512 [01:47<08:59,  1.28s/it]"
     ]
    },
    {
     "name": "stdout",
     "output_type": "stream",
     "text": [
      "Epoch 1/1 => Loss: 1.4811, Special-Token Accuracy: 56.54%\n"
     ]
    },
    {
     "name": "stderr",
     "output_type": "stream",
     "text": [
      "Epoch 1/1: 100%|██████████| 11/11 [00:01<00:00,  8.56it/s, loss=1.4996, acc=58.88%]\n",
      "TOTAL Epochs:  18%|█▊        | 90/512 [01:48<09:00,  1.28s/it]"
     ]
    },
    {
     "name": "stdout",
     "output_type": "stream",
     "text": [
      "Epoch 1/1 => Loss: 1.4886, Special-Token Accuracy: 56.91%\n"
     ]
    },
    {
     "name": "stderr",
     "output_type": "stream",
     "text": [
      "Epoch 1/1: 100%|██████████| 11/11 [00:01<00:00,  8.58it/s, loss=1.4531, acc=54.12%]\n",
      "TOTAL Epochs:  18%|█▊        | 91/512 [01:49<08:59,  1.28s/it]"
     ]
    },
    {
     "name": "stdout",
     "output_type": "stream",
     "text": [
      "Epoch 1/1 => Loss: 1.4711, Special-Token Accuracy: 57.64%\n"
     ]
    },
    {
     "name": "stderr",
     "output_type": "stream",
     "text": [
      "Epoch 1/1: 100%|██████████| 11/11 [00:01<00:00,  8.57it/s, loss=1.4223, acc=61.66%]\n",
      "TOTAL Epochs:  18%|█▊        | 92/512 [01:50<08:59,  1.28s/it]"
     ]
    },
    {
     "name": "stdout",
     "output_type": "stream",
     "text": [
      "Epoch 1/1 => Loss: 1.4710, Special-Token Accuracy: 57.72%\n"
     ]
    },
    {
     "name": "stderr",
     "output_type": "stream",
     "text": [
      "Epoch 1/1: 100%|██████████| 11/11 [00:01<00:00,  8.58it/s, loss=1.4329, acc=57.17%]\n",
      "TOTAL Epochs:  18%|█▊        | 93/512 [01:52<08:58,  1.29s/it]"
     ]
    },
    {
     "name": "stdout",
     "output_type": "stream",
     "text": [
      "Epoch 1/1 => Loss: 1.4675, Special-Token Accuracy: 56.61%\n"
     ]
    },
    {
     "name": "stderr",
     "output_type": "stream",
     "text": [
      "Epoch 1/1: 100%|██████████| 11/11 [00:01<00:00,  8.61it/s, loss=1.4660, acc=58.80%]\n",
      "TOTAL Epochs:  18%|█▊        | 94/512 [01:53<08:57,  1.29s/it]"
     ]
    },
    {
     "name": "stdout",
     "output_type": "stream",
     "text": [
      "Epoch 1/1 => Loss: 1.4392, Special-Token Accuracy: 58.80%\n"
     ]
    },
    {
     "name": "stderr",
     "output_type": "stream",
     "text": [
      "Epoch 1/1: 100%|██████████| 11/11 [00:01<00:00,  8.59it/s, loss=1.4736, acc=56.54%]\n",
      "TOTAL Epochs:  19%|█▊        | 95/512 [01:54<08:56,  1.29s/it]"
     ]
    },
    {
     "name": "stdout",
     "output_type": "stream",
     "text": [
      "Epoch 1/1 => Loss: 1.4474, Special-Token Accuracy: 57.60%\n"
     ]
    },
    {
     "name": "stderr",
     "output_type": "stream",
     "text": [
      "Epoch 1/1: 100%|██████████| 11/11 [00:01<00:00,  8.59it/s, loss=1.4053, acc=59.50%]\n",
      "TOTAL Epochs:  19%|█▉        | 96/512 [01:56<08:55,  1.29s/it]"
     ]
    },
    {
     "name": "stdout",
     "output_type": "stream",
     "text": [
      "Epoch 1/1 => Loss: 1.3953, Special-Token Accuracy: 60.48%\n"
     ]
    },
    {
     "name": "stderr",
     "output_type": "stream",
     "text": [
      "Epoch 1/1: 100%|██████████| 11/11 [00:01<00:00,  8.62it/s, loss=1.4531, acc=58.84%]\n",
      "TOTAL Epochs:  19%|█▉        | 97/512 [01:57<08:53,  1.28s/it]"
     ]
    },
    {
     "name": "stdout",
     "output_type": "stream",
     "text": [
      "Epoch 1/1 => Loss: 1.3967, Special-Token Accuracy: 59.84%\n"
     ]
    },
    {
     "name": "stderr",
     "output_type": "stream",
     "text": [
      "Epoch 1/1: 100%|██████████| 11/11 [00:01<00:00,  8.56it/s, loss=1.3664, acc=60.24%]\n",
      "TOTAL Epochs:  19%|█▉        | 98/512 [01:58<08:52,  1.29s/it]"
     ]
    },
    {
     "name": "stdout",
     "output_type": "stream",
     "text": [
      "Epoch 1/1 => Loss: 1.4158, Special-Token Accuracy: 58.40%\n"
     ]
    },
    {
     "name": "stderr",
     "output_type": "stream",
     "text": [
      "Epoch 1/1: 100%|██████████| 11/11 [00:01<00:00,  8.63it/s, loss=1.3017, acc=62.47%]\n",
      "TOTAL Epochs:  19%|█▉        | 99/512 [01:59<08:50,  1.28s/it]"
     ]
    },
    {
     "name": "stdout",
     "output_type": "stream",
     "text": [
      "Epoch 1/1 => Loss: 1.3445, Special-Token Accuracy: 61.40%\n"
     ]
    },
    {
     "name": "stderr",
     "output_type": "stream",
     "text": [
      "Epoch 1/1: 100%|██████████| 11/11 [00:01<00:00,  8.55it/s, loss=1.4121, acc=58.68%]\n",
      "TOTAL Epochs:  20%|█▉        | 100/512 [02:01<08:50,  1.29s/it]"
     ]
    },
    {
     "name": "stdout",
     "output_type": "stream",
     "text": [
      "Epoch 1/1 => Loss: 1.3679, Special-Token Accuracy: 61.89%\n"
     ]
    },
    {
     "name": "stderr",
     "output_type": "stream",
     "text": [
      "Epoch 1/1: 100%|██████████| 11/11 [00:01<00:00,  8.65it/s, loss=1.3808, acc=59.21%]\n",
      "TOTAL Epochs:  20%|█▉        | 101/512 [02:02<08:47,  1.28s/it]"
     ]
    },
    {
     "name": "stdout",
     "output_type": "stream",
     "text": [
      "Epoch 1/1 => Loss: 1.3643, Special-Token Accuracy: 60.19%\n"
     ]
    },
    {
     "name": "stderr",
     "output_type": "stream",
     "text": [
      "Epoch 1/1: 100%|██████████| 11/11 [00:00<00:00, -17.54it/s, loss=1.4169, acc=60.30%]\n"
     ]
    },
    {
     "name": "stdout",
     "output_type": "stream",
     "text": [
      "Epoch 1/1 => Loss: 1.3534, Special-Token Accuracy: 61.33%\n"
     ]
    },
    {
     "name": "stderr",
     "output_type": "stream",
     "text": [
      "Epoch 1/1: 100%|██████████| 11/11 [00:01<00:00,  8.62it/s, loss=1.3078, acc=60.18%]\n",
      "TOTAL Epochs:  20%|██        | 103/512 [02:03<05:45,  1.18it/s]"
     ]
    },
    {
     "name": "stdout",
     "output_type": "stream",
     "text": [
      "Epoch 1/1 => Loss: 1.3386, Special-Token Accuracy: 61.01%\n"
     ]
    },
    {
     "name": "stderr",
     "output_type": "stream",
     "text": [
      "Epoch 1/1: 100%|██████████| 11/11 [00:01<00:00,  8.52it/s, loss=1.3379, acc=62.14%]\n",
      "TOTAL Epochs:  20%|██        | 104/512 [02:04<06:30,  1.05it/s]"
     ]
    },
    {
     "name": "stdout",
     "output_type": "stream",
     "text": [
      "Epoch 1/1 => Loss: 1.3441, Special-Token Accuracy: 62.06%\n"
     ]
    },
    {
     "name": "stderr",
     "output_type": "stream",
     "text": [
      "Epoch 1/1: 100%|██████████| 11/11 [00:01<00:00,  8.60it/s, loss=1.2873, acc=65.09%]\n",
      "TOTAL Epochs:  21%|██        | 105/512 [02:05<07:04,  1.04s/it]"
     ]
    },
    {
     "name": "stdout",
     "output_type": "stream",
     "text": [
      "Epoch 1/1 => Loss: 1.3321, Special-Token Accuracy: 60.72%\n"
     ]
    },
    {
     "name": "stderr",
     "output_type": "stream",
     "text": [
      "Epoch 1/1: 100%|██████████| 11/11 [00:01<00:00,  8.65it/s, loss=1.3069, acc=61.65%]\n",
      "TOTAL Epochs:  21%|██        | 106/512 [02:06<07:29,  1.11s/it]"
     ]
    },
    {
     "name": "stdout",
     "output_type": "stream",
     "text": [
      "Epoch 1/1 => Loss: 1.3050, Special-Token Accuracy: 62.75%\n"
     ]
    },
    {
     "name": "stderr",
     "output_type": "stream",
     "text": [
      "Epoch 1/1: 100%|██████████| 11/11 [00:01<00:00,  8.62it/s, loss=1.2596, acc=64.49%]\n",
      "TOTAL Epochs:  21%|██        | 107/512 [02:08<07:48,  1.16s/it]"
     ]
    },
    {
     "name": "stdout",
     "output_type": "stream",
     "text": [
      "Epoch 1/1 => Loss: 1.2889, Special-Token Accuracy: 62.66%\n"
     ]
    },
    {
     "name": "stderr",
     "output_type": "stream",
     "text": [
      "Epoch 1/1: 100%|██████████| 11/11 [00:01<00:00,  8.58it/s, loss=1.2510, acc=64.30%]\n",
      "TOTAL Epochs:  21%|██        | 108/512 [02:09<08:02,  1.19s/it]"
     ]
    },
    {
     "name": "stdout",
     "output_type": "stream",
     "text": [
      "Epoch 1/1 => Loss: 1.2791, Special-Token Accuracy: 63.69%\n"
     ]
    },
    {
     "name": "stderr",
     "output_type": "stream",
     "text": [
      "Epoch 1/1: 100%|██████████| 11/11 [00:01<00:00,  8.57it/s, loss=1.3655, acc=59.73%]\n",
      "TOTAL Epochs:  21%|██▏       | 109/512 [02:10<08:12,  1.22s/it]"
     ]
    },
    {
     "name": "stdout",
     "output_type": "stream",
     "text": [
      "Epoch 1/1 => Loss: 1.3045, Special-Token Accuracy: 62.35%\n"
     ]
    },
    {
     "name": "stderr",
     "output_type": "stream",
     "text": [
      "Epoch 1/1: 100%|██████████| 11/11 [00:01<00:00,  8.62it/s, loss=1.2864, acc=62.94%]\n",
      "TOTAL Epochs:  21%|██▏       | 110/512 [02:12<08:18,  1.24s/it]"
     ]
    },
    {
     "name": "stdout",
     "output_type": "stream",
     "text": [
      "Epoch 1/1 => Loss: 1.2941, Special-Token Accuracy: 63.21%\n"
     ]
    },
    {
     "name": "stderr",
     "output_type": "stream",
     "text": [
      "Epoch 1/1: 100%|██████████| 11/11 [00:01<00:00,  8.59it/s, loss=1.2508, acc=63.80%]\n",
      "TOTAL Epochs:  22%|██▏       | 111/512 [02:13<08:22,  1.25s/it]"
     ]
    },
    {
     "name": "stdout",
     "output_type": "stream",
     "text": [
      "Epoch 1/1 => Loss: 1.2657, Special-Token Accuracy: 64.05%\n"
     ]
    },
    {
     "name": "stderr",
     "output_type": "stream",
     "text": [
      "Epoch 1/1: 100%|██████████| 11/11 [00:01<00:00,  8.57it/s, loss=1.2369, acc=63.88%]\n",
      "TOTAL Epochs:  22%|██▏       | 112/512 [02:14<08:25,  1.26s/it]"
     ]
    },
    {
     "name": "stdout",
     "output_type": "stream",
     "text": [
      "Epoch 1/1 => Loss: 1.2542, Special-Token Accuracy: 64.49%\n"
     ]
    },
    {
     "name": "stderr",
     "output_type": "stream",
     "text": [
      "Epoch 1/1: 100%|██████████| 11/11 [00:01<00:00,  8.58it/s, loss=1.2871, acc=63.58%]\n",
      "TOTAL Epochs:  22%|██▏       | 113/512 [02:15<08:27,  1.27s/it]"
     ]
    },
    {
     "name": "stdout",
     "output_type": "stream",
     "text": [
      "Epoch 1/1 => Loss: 1.2860, Special-Token Accuracy: 64.21%\n"
     ]
    },
    {
     "name": "stderr",
     "output_type": "stream",
     "text": [
      "Epoch 1/1: 100%|██████████| 11/11 [00:01<00:00,  8.55it/s, loss=1.2459, acc=64.74%]\n",
      "TOTAL Epochs:  22%|██▏       | 114/512 [02:17<08:28,  1.28s/it]"
     ]
    },
    {
     "name": "stdout",
     "output_type": "stream",
     "text": [
      "Epoch 1/1 => Loss: 1.2793, Special-Token Accuracy: 63.87%\n"
     ]
    },
    {
     "name": "stderr",
     "output_type": "stream",
     "text": [
      "Epoch 1/1: 100%|██████████| 11/11 [00:01<00:00,  8.59it/s, loss=1.3254, acc=61.52%]\n",
      "TOTAL Epochs:  22%|██▏       | 115/512 [02:18<08:28,  1.28s/it]"
     ]
    },
    {
     "name": "stdout",
     "output_type": "stream",
     "text": [
      "Epoch 1/1 => Loss: 1.2601, Special-Token Accuracy: 64.60%\n"
     ]
    },
    {
     "name": "stderr",
     "output_type": "stream",
     "text": [
      "Epoch 1/1: 100%|██████████| 11/11 [00:01<00:00,  8.51it/s, loss=1.2698, acc=64.58%]\n",
      "TOTAL Epochs:  23%|██▎       | 116/512 [02:19<08:29,  1.29s/it]"
     ]
    },
    {
     "name": "stdout",
     "output_type": "stream",
     "text": [
      "Epoch 1/1 => Loss: 1.2421, Special-Token Accuracy: 64.41%\n"
     ]
    },
    {
     "name": "stderr",
     "output_type": "stream",
     "text": [
      "Epoch 1/1: 100%|██████████| 11/11 [00:01<00:00,  8.64it/s, loss=1.3665, acc=59.77%]\n",
      "TOTAL Epochs:  23%|██▎       | 117/512 [02:21<08:27,  1.28s/it]"
     ]
    },
    {
     "name": "stdout",
     "output_type": "stream",
     "text": [
      "Epoch 1/1 => Loss: 1.2922, Special-Token Accuracy: 64.05%\n"
     ]
    },
    {
     "name": "stderr",
     "output_type": "stream",
     "text": [
      "Epoch 1/1: 100%|██████████| 11/11 [00:01<00:00,  8.57it/s, loss=1.3087, acc=63.18%]\n",
      "TOTAL Epochs:  23%|██▎       | 118/512 [02:22<08:26,  1.29s/it]"
     ]
    },
    {
     "name": "stdout",
     "output_type": "stream",
     "text": [
      "Epoch 1/1 => Loss: 1.2768, Special-Token Accuracy: 64.07%\n"
     ]
    },
    {
     "name": "stderr",
     "output_type": "stream",
     "text": [
      "Epoch 1/1: 100%|██████████| 11/11 [00:01<00:00,  8.67it/s, loss=1.2515, acc=64.00%]\n",
      "TOTAL Epochs:  23%|██▎       | 119/512 [02:23<08:24,  1.28s/it]"
     ]
    },
    {
     "name": "stdout",
     "output_type": "stream",
     "text": [
      "Epoch 1/1 => Loss: 1.2509, Special-Token Accuracy: 65.30%\n"
     ]
    },
    {
     "name": "stderr",
     "output_type": "stream",
     "text": [
      "Epoch 1/1: 100%|██████████| 11/11 [00:01<00:00,  8.66it/s, loss=1.2915, acc=62.01%]\n",
      "TOTAL Epochs:  23%|██▎       | 120/512 [02:24<08:22,  1.28s/it]"
     ]
    },
    {
     "name": "stdout",
     "output_type": "stream",
     "text": [
      "Epoch 1/1 => Loss: 1.2516, Special-Token Accuracy: 63.65%\n"
     ]
    },
    {
     "name": "stderr",
     "output_type": "stream",
     "text": [
      "Epoch 1/1: 100%|██████████| 11/11 [00:01<00:00,  8.57it/s, loss=1.1757, acc=67.30%]\n",
      "TOTAL Epochs:  24%|██▎       | 121/512 [02:26<08:21,  1.28s/it]"
     ]
    },
    {
     "name": "stdout",
     "output_type": "stream",
     "text": [
      "Epoch 1/1 => Loss: 1.2451, Special-Token Accuracy: 65.10%\n"
     ]
    },
    {
     "name": "stderr",
     "output_type": "stream",
     "text": [
      "Epoch 1/1: 100%|██████████| 11/11 [00:01<00:00,  8.59it/s, loss=1.2115, acc=64.80%]\n",
      "TOTAL Epochs:  24%|██▍       | 122/512 [02:27<08:20,  1.28s/it]"
     ]
    },
    {
     "name": "stdout",
     "output_type": "stream",
     "text": [
      "Epoch 1/1 => Loss: 1.2576, Special-Token Accuracy: 64.45%\n"
     ]
    },
    {
     "name": "stderr",
     "output_type": "stream",
     "text": [
      "Epoch 1/1: 100%|██████████| 11/11 [00:01<00:00,  8.52it/s, loss=1.2438, acc=66.71%]\n",
      "TOTAL Epochs:  24%|██▍       | 123/512 [02:28<08:21,  1.29s/it]"
     ]
    },
    {
     "name": "stdout",
     "output_type": "stream",
     "text": [
      "Epoch 1/1 => Loss: 1.2487, Special-Token Accuracy: 65.22%\n"
     ]
    },
    {
     "name": "stderr",
     "output_type": "stream",
     "text": [
      "Epoch 1/1: 100%|██████████| 11/11 [00:01<00:00,  8.56it/s, loss=1.2493, acc=63.97%]\n",
      "TOTAL Epochs:  24%|██▍       | 124/512 [02:30<08:20,  1.29s/it]"
     ]
    },
    {
     "name": "stdout",
     "output_type": "stream",
     "text": [
      "Epoch 1/1 => Loss: 1.2416, Special-Token Accuracy: 64.84%\n"
     ]
    },
    {
     "name": "stderr",
     "output_type": "stream",
     "text": [
      "Epoch 1/1: 100%|██████████| 11/11 [00:01<00:00,  8.58it/s, loss=1.2243, acc=66.23%]\n",
      "TOTAL Epochs:  24%|██▍       | 125/512 [02:31<08:18,  1.29s/it]"
     ]
    },
    {
     "name": "stdout",
     "output_type": "stream",
     "text": [
      "Epoch 1/1 => Loss: 1.2477, Special-Token Accuracy: 64.89%\n"
     ]
    },
    {
     "name": "stderr",
     "output_type": "stream",
     "text": [
      "Epoch 1/1: 100%|██████████| 11/11 [00:01<00:00,  8.49it/s, loss=1.2223, acc=64.88%]\n",
      "TOTAL Epochs:  25%|██▍       | 126/512 [02:32<08:18,  1.29s/it]"
     ]
    },
    {
     "name": "stdout",
     "output_type": "stream",
     "text": [
      "Epoch 1/1 => Loss: 1.2552, Special-Token Accuracy: 64.70%\n"
     ]
    },
    {
     "name": "stderr",
     "output_type": "stream",
     "text": [
      "Epoch 1/1: 100%|██████████| 11/11 [00:00<00:00, -17.65it/s, loss=1.2681, acc=65.50%]\n"
     ]
    },
    {
     "name": "stdout",
     "output_type": "stream",
     "text": [
      "Epoch 1/1 => Loss: 1.2294, Special-Token Accuracy: 65.76%\n"
     ]
    },
    {
     "name": "stderr",
     "output_type": "stream",
     "text": [
      "Epoch 1/1: 100%|██████████| 11/11 [00:01<00:00,  8.58it/s, loss=1.2434, acc=64.73%]\n",
      "TOTAL Epochs:  25%|██▌       | 128/512 [02:33<05:26,  1.18it/s]"
     ]
    },
    {
     "name": "stdout",
     "output_type": "stream",
     "text": [
      "Epoch 1/1 => Loss: 1.2546, Special-Token Accuracy: 64.81%\n"
     ]
    },
    {
     "name": "stderr",
     "output_type": "stream",
     "text": [
      "Epoch 1/1: 100%|██████████| 11/11 [00:01<00:00,  8.56it/s, loss=1.2242, acc=64.46%]\n",
      "TOTAL Epochs:  25%|██▌       | 129/512 [02:34<06:07,  1.04it/s]"
     ]
    },
    {
     "name": "stdout",
     "output_type": "stream",
     "text": [
      "Epoch 1/1 => Loss: 1.2235, Special-Token Accuracy: 66.04%\n"
     ]
    },
    {
     "name": "stderr",
     "output_type": "stream",
     "text": [
      "Epoch 1/1: 100%|██████████| 11/11 [00:01<00:00,  8.55it/s, loss=1.2221, acc=66.71%]\n",
      "TOTAL Epochs:  25%|██▌       | 130/512 [02:35<06:39,  1.05s/it]"
     ]
    },
    {
     "name": "stdout",
     "output_type": "stream",
     "text": [
      "Epoch 1/1 => Loss: 1.2307, Special-Token Accuracy: 65.81%\n"
     ]
    },
    {
     "name": "stderr",
     "output_type": "stream",
     "text": [
      "Epoch 1/1: 100%|██████████| 11/11 [00:01<00:00,  8.61it/s, loss=1.6003, acc=54.30%]\n",
      "TOTAL Epochs:  26%|██▌       | 131/512 [02:37<07:03,  1.11s/it]"
     ]
    },
    {
     "name": "stdout",
     "output_type": "stream",
     "text": [
      "Epoch 1/1 => Loss: 1.4164, Special-Token Accuracy: 59.39%\n"
     ]
    },
    {
     "name": "stderr",
     "output_type": "stream",
     "text": [
      "Epoch 1/1: 100%|██████████| 11/11 [00:01<00:00,  8.54it/s, loss=1.7782, acc=46.58%]\n",
      "TOTAL Epochs:  26%|██▌       | 132/512 [02:38<07:21,  1.16s/it]"
     ]
    },
    {
     "name": "stdout",
     "output_type": "stream",
     "text": [
      "Epoch 1/1 => Loss: 1.6110, Special-Token Accuracy: 53.46%\n"
     ]
    },
    {
     "name": "stderr",
     "output_type": "stream",
     "text": [
      "Epoch 1/1: 100%|██████████| 11/11 [00:01<00:00,  8.55it/s, loss=1.6664, acc=51.21%]\n",
      "TOTAL Epochs:  26%|██▌       | 133/512 [02:39<07:34,  1.20s/it]"
     ]
    },
    {
     "name": "stdout",
     "output_type": "stream",
     "text": [
      "Epoch 1/1 => Loss: 1.6729, Special-Token Accuracy: 51.27%\n"
     ]
    },
    {
     "name": "stderr",
     "output_type": "stream",
     "text": [
      "Epoch 1/1: 100%|██████████| 11/11 [00:01<00:00,  8.60it/s, loss=1.7747, acc=47.39%]\n",
      "TOTAL Epochs:  26%|██▌       | 134/512 [02:41<07:42,  1.22s/it]"
     ]
    },
    {
     "name": "stdout",
     "output_type": "stream",
     "text": [
      "Epoch 1/1 => Loss: 1.6885, Special-Token Accuracy: 50.03%\n"
     ]
    },
    {
     "name": "stderr",
     "output_type": "stream",
     "text": [
      "Epoch 1/1: 100%|██████████| 11/11 [00:01<00:00,  8.54it/s, loss=1.7561, acc=50.72%]\n",
      "TOTAL Epochs:  26%|██▋       | 135/512 [02:42<07:49,  1.24s/it]"
     ]
    },
    {
     "name": "stdout",
     "output_type": "stream",
     "text": [
      "Epoch 1/1 => Loss: 1.7559, Special-Token Accuracy: 48.65%\n"
     ]
    },
    {
     "name": "stderr",
     "output_type": "stream",
     "text": [
      "Epoch 1/1: 100%|██████████| 11/11 [00:01<00:00,  8.54it/s, loss=1.8747, acc=48.08%]\n",
      "TOTAL Epochs:  27%|██▋       | 136/512 [02:43<07:53,  1.26s/it]"
     ]
    },
    {
     "name": "stdout",
     "output_type": "stream",
     "text": [
      "Epoch 1/1 => Loss: 1.7383, Special-Token Accuracy: 49.83%\n"
     ]
    },
    {
     "name": "stderr",
     "output_type": "stream",
     "text": [
      "Epoch 1/1: 100%|██████████| 11/11 [00:01<00:00,  8.58it/s, loss=1.7262, acc=48.40%]\n",
      "TOTAL Epochs:  27%|██▋       | 137/512 [02:45<07:55,  1.27s/it]"
     ]
    },
    {
     "name": "stdout",
     "output_type": "stream",
     "text": [
      "Epoch 1/1 => Loss: 1.7177, Special-Token Accuracy: 48.91%\n"
     ]
    },
    {
     "name": "stderr",
     "output_type": "stream",
     "text": [
      "Epoch 1/1: 100%|██████████| 11/11 [00:01<00:00,  8.50it/s, loss=1.6453, acc=49.95%]\n",
      "TOTAL Epochs:  27%|██▋       | 138/512 [02:46<07:57,  1.28s/it]"
     ]
    },
    {
     "name": "stdout",
     "output_type": "stream",
     "text": [
      "Epoch 1/1 => Loss: 1.6716, Special-Token Accuracy: 51.97%\n"
     ]
    },
    {
     "name": "stderr",
     "output_type": "stream",
     "text": [
      "Epoch 1/1: 100%|██████████| 11/11 [00:01<00:00,  8.57it/s, loss=1.6879, acc=50.77%]\n",
      "TOTAL Epochs:  27%|██▋       | 139/512 [02:47<07:57,  1.28s/it]"
     ]
    },
    {
     "name": "stdout",
     "output_type": "stream",
     "text": [
      "Epoch 1/1 => Loss: 1.6787, Special-Token Accuracy: 50.85%\n"
     ]
    },
    {
     "name": "stderr",
     "output_type": "stream",
     "text": [
      "Epoch 1/1: 100%|██████████| 11/11 [00:01<00:00,  8.50it/s, loss=1.5662, acc=54.18%]\n",
      "TOTAL Epochs:  27%|██▋       | 140/512 [02:48<07:58,  1.29s/it]"
     ]
    },
    {
     "name": "stdout",
     "output_type": "stream",
     "text": [
      "Epoch 1/1 => Loss: 1.6424, Special-Token Accuracy: 50.88%\n"
     ]
    },
    {
     "name": "stderr",
     "output_type": "stream",
     "text": [
      "Epoch 1/1: 100%|██████████| 11/11 [00:01<00:00,  8.28it/s, loss=1.5639, acc=52.01%]\n",
      "TOTAL Epochs:  28%|██▊       | 141/512 [02:50<08:03,  1.30s/it]"
     ]
    },
    {
     "name": "stdout",
     "output_type": "stream",
     "text": [
      "Epoch 1/1 => Loss: 1.5581, Special-Token Accuracy: 54.73%\n"
     ]
    },
    {
     "name": "stderr",
     "output_type": "stream",
     "text": [
      "Epoch 1/1: 100%|██████████| 11/11 [00:01<00:00,  8.55it/s, loss=1.5374, acc=56.42%]\n",
      "TOTAL Epochs:  28%|██▊       | 142/512 [02:51<08:00,  1.30s/it]"
     ]
    },
    {
     "name": "stdout",
     "output_type": "stream",
     "text": [
      "Epoch 1/1 => Loss: 1.5364, Special-Token Accuracy: 54.45%\n"
     ]
    },
    {
     "name": "stderr",
     "output_type": "stream",
     "text": [
      "Epoch 1/1: 100%|██████████| 11/11 [00:01<00:00,  8.53it/s, loss=1.4376, acc=57.19%]\n",
      "TOTAL Epochs:  28%|██▊       | 143/512 [02:52<07:58,  1.30s/it]"
     ]
    },
    {
     "name": "stdout",
     "output_type": "stream",
     "text": [
      "Epoch 1/1 => Loss: 1.5147, Special-Token Accuracy: 56.16%\n"
     ]
    },
    {
     "name": "stderr",
     "output_type": "stream",
     "text": [
      "Epoch 1/1: 100%|██████████| 11/11 [00:01<00:00,  8.57it/s, loss=1.4996, acc=55.11%]\n",
      "TOTAL Epochs:  28%|██▊       | 144/512 [02:54<07:56,  1.30s/it]"
     ]
    },
    {
     "name": "stdout",
     "output_type": "stream",
     "text": [
      "Epoch 1/1 => Loss: 1.5478, Special-Token Accuracy: 55.36%\n"
     ]
    },
    {
     "name": "stderr",
     "output_type": "stream",
     "text": [
      "Epoch 1/1: 100%|██████████| 11/11 [00:01<00:00,  8.59it/s, loss=1.6036, acc=54.63%]\n",
      "TOTAL Epochs:  28%|██▊       | 145/512 [02:55<07:54,  1.29s/it]"
     ]
    },
    {
     "name": "stdout",
     "output_type": "stream",
     "text": [
      "Epoch 1/1 => Loss: 1.5726, Special-Token Accuracy: 55.50%\n"
     ]
    },
    {
     "name": "stderr",
     "output_type": "stream",
     "text": [
      "Epoch 1/1: 100%|██████████| 11/11 [00:01<00:00,  8.52it/s, loss=1.5780, acc=54.91%]\n",
      "TOTAL Epochs:  29%|██▊       | 146/512 [02:56<07:53,  1.29s/it]"
     ]
    },
    {
     "name": "stdout",
     "output_type": "stream",
     "text": [
      "Epoch 1/1 => Loss: 1.5146, Special-Token Accuracy: 55.09%\n"
     ]
    },
    {
     "name": "stderr",
     "output_type": "stream",
     "text": [
      "Epoch 1/1: 100%|██████████| 11/11 [00:01<00:00,  8.51it/s, loss=1.5839, acc=54.55%]\n",
      "TOTAL Epochs:  29%|██▊       | 147/512 [02:58<07:52,  1.30s/it]"
     ]
    },
    {
     "name": "stdout",
     "output_type": "stream",
     "text": [
      "Epoch 1/1 => Loss: 1.4880, Special-Token Accuracy: 56.35%\n"
     ]
    },
    {
     "name": "stderr",
     "output_type": "stream",
     "text": [
      "Epoch 1/1: 100%|██████████| 11/11 [00:01<00:00,  8.50it/s, loss=1.4880, acc=53.89%]\n",
      "TOTAL Epochs:  29%|██▉       | 148/512 [02:59<07:52,  1.30s/it]"
     ]
    },
    {
     "name": "stdout",
     "output_type": "stream",
     "text": [
      "Epoch 1/1 => Loss: 1.4593, Special-Token Accuracy: 57.72%\n"
     ]
    },
    {
     "name": "stderr",
     "output_type": "stream",
     "text": [
      "Epoch 1/1: 100%|██████████| 11/11 [00:01<00:00,  8.51it/s, loss=1.3779, acc=56.54%]\n",
      "TOTAL Epochs:  29%|██▉       | 149/512 [03:00<07:50,  1.30s/it]"
     ]
    },
    {
     "name": "stdout",
     "output_type": "stream",
     "text": [
      "Epoch 1/1 => Loss: 1.4378, Special-Token Accuracy: 58.28%\n"
     ]
    },
    {
     "name": "stderr",
     "output_type": "stream",
     "text": [
      "Epoch 1/1: 100%|██████████| 11/11 [00:01<00:00,  8.55it/s, loss=1.4123, acc=61.04%]\n",
      "TOTAL Epochs:  29%|██▉       | 150/512 [03:01<07:49,  1.30s/it]"
     ]
    },
    {
     "name": "stdout",
     "output_type": "stream",
     "text": [
      "Epoch 1/1 => Loss: 1.4233, Special-Token Accuracy: 56.14%\n"
     ]
    },
    {
     "name": "stderr",
     "output_type": "stream",
     "text": [
      "Epoch 1/1: 100%|██████████| 11/11 [00:01<00:00,  8.55it/s, loss=1.4203, acc=52.97%]\n",
      "TOTAL Epochs:  29%|██▉       | 151/512 [03:03<07:47,  1.29s/it]"
     ]
    },
    {
     "name": "stdout",
     "output_type": "stream",
     "text": [
      "Epoch 1/1 => Loss: 1.4530, Special-Token Accuracy: 58.41%\n"
     ]
    },
    {
     "name": "stderr",
     "output_type": "stream",
     "text": [
      "Epoch 1/1: 100%|██████████| 11/11 [00:00<00:00, -17.40it/s, loss=1.5664, acc=55.48%]\n"
     ]
    },
    {
     "name": "stdout",
     "output_type": "stream",
     "text": [
      "Epoch 1/1 => Loss: 1.4689, Special-Token Accuracy: 55.95%\n"
     ]
    },
    {
     "name": "stderr",
     "output_type": "stream",
     "text": [
      "Epoch 1/1: 100%|██████████| 11/11 [00:01<00:00,  8.37it/s, loss=1.5160, acc=56.41%]\n",
      "TOTAL Epochs:  30%|██▉       | 153/512 [03:03<05:07,  1.17it/s]"
     ]
    },
    {
     "name": "stdout",
     "output_type": "stream",
     "text": [
      "Epoch 1/1 => Loss: 1.4747, Special-Token Accuracy: 56.84%\n"
     ]
    },
    {
     "name": "stderr",
     "output_type": "stream",
     "text": [
      "Epoch 1/1: 100%|██████████| 11/11 [00:01<00:00,  8.53it/s, loss=1.3519, acc=64.37%]\n",
      "TOTAL Epochs:  30%|███       | 154/512 [03:05<05:45,  1.04it/s]"
     ]
    },
    {
     "name": "stdout",
     "output_type": "stream",
     "text": [
      "Epoch 1/1 => Loss: 1.4227, Special-Token Accuracy: 59.62%\n"
     ]
    },
    {
     "name": "stderr",
     "output_type": "stream",
     "text": [
      "Epoch 1/1: 100%|██████████| 11/11 [00:01<00:00,  8.62it/s, loss=1.3919, acc=58.80%]\n",
      "TOTAL Epochs:  30%|███       | 155/512 [03:06<06:14,  1.05s/it]"
     ]
    },
    {
     "name": "stdout",
     "output_type": "stream",
     "text": [
      "Epoch 1/1 => Loss: 1.3977, Special-Token Accuracy: 59.30%\n"
     ]
    },
    {
     "name": "stderr",
     "output_type": "stream",
     "text": [
      "Epoch 1/1: 100%|██████████| 11/11 [00:01<00:00,  8.55it/s, loss=1.3715, acc=58.15%]\n",
      "TOTAL Epochs:  30%|███       | 156/512 [03:07<06:36,  1.11s/it]"
     ]
    },
    {
     "name": "stdout",
     "output_type": "stream",
     "text": [
      "Epoch 1/1 => Loss: 1.3805, Special-Token Accuracy: 60.07%\n"
     ]
    },
    {
     "name": "stderr",
     "output_type": "stream",
     "text": [
      "Epoch 1/1: 100%|██████████| 11/11 [00:01<00:00,  8.58it/s, loss=1.3225, acc=61.56%]\n",
      "TOTAL Epochs:  31%|███       | 157/512 [03:09<06:52,  1.16s/it]"
     ]
    },
    {
     "name": "stdout",
     "output_type": "stream",
     "text": [
      "Epoch 1/1 => Loss: 1.3653, Special-Token Accuracy: 61.25%\n"
     ]
    },
    {
     "name": "stderr",
     "output_type": "stream",
     "text": [
      "Epoch 1/1: 100%|██████████| 11/11 [00:01<00:00,  8.56it/s, loss=1.3342, acc=61.49%]\n",
      "TOTAL Epochs:  31%|███       | 158/512 [03:10<07:04,  1.20s/it]"
     ]
    },
    {
     "name": "stdout",
     "output_type": "stream",
     "text": [
      "Epoch 1/1 => Loss: 1.3574, Special-Token Accuracy: 60.88%\n"
     ]
    },
    {
     "name": "stderr",
     "output_type": "stream",
     "text": [
      "Epoch 1/1: 100%|██████████| 11/11 [00:01<00:00,  8.55it/s, loss=1.3902, acc=60.42%]\n",
      "TOTAL Epochs:  31%|███       | 159/512 [03:11<07:13,  1.23s/it]"
     ]
    },
    {
     "name": "stdout",
     "output_type": "stream",
     "text": [
      "Epoch 1/1 => Loss: 1.3545, Special-Token Accuracy: 61.56%\n"
     ]
    },
    {
     "name": "stderr",
     "output_type": "stream",
     "text": [
      "Epoch 1/1: 100%|██████████| 11/11 [00:01<00:00,  8.57it/s, loss=1.3436, acc=63.60%]\n",
      "TOTAL Epochs:  31%|███▏      | 160/512 [03:12<07:18,  1.25s/it]"
     ]
    },
    {
     "name": "stdout",
     "output_type": "stream",
     "text": [
      "Epoch 1/1 => Loss: 1.3886, Special-Token Accuracy: 61.90%\n"
     ]
    },
    {
     "name": "stderr",
     "output_type": "stream",
     "text": [
      "Epoch 1/1: 100%|██████████| 11/11 [00:01<00:00,  8.51it/s, loss=1.3944, acc=60.89%]\n",
      "TOTAL Epochs:  31%|███▏      | 161/512 [03:14<07:22,  1.26s/it]"
     ]
    },
    {
     "name": "stdout",
     "output_type": "stream",
     "text": [
      "Epoch 1/1 => Loss: 1.3838, Special-Token Accuracy: 60.55%\n"
     ]
    },
    {
     "name": "stderr",
     "output_type": "stream",
     "text": [
      "Epoch 1/1: 100%|██████████| 11/11 [00:01<00:00,  8.55it/s, loss=1.3427, acc=61.38%]\n",
      "TOTAL Epochs:  32%|███▏      | 162/512 [03:15<07:24,  1.27s/it]"
     ]
    },
    {
     "name": "stdout",
     "output_type": "stream",
     "text": [
      "Epoch 1/1 => Loss: 1.3715, Special-Token Accuracy: 60.32%\n"
     ]
    },
    {
     "name": "stderr",
     "output_type": "stream",
     "text": [
      "Epoch 1/1: 100%|██████████| 11/11 [00:01<00:00,  8.57it/s, loss=1.3318, acc=63.17%]\n",
      "TOTAL Epochs:  32%|███▏      | 163/512 [03:16<07:25,  1.28s/it]"
     ]
    },
    {
     "name": "stdout",
     "output_type": "stream",
     "text": [
      "Epoch 1/1 => Loss: 1.3411, Special-Token Accuracy: 62.89%\n"
     ]
    },
    {
     "name": "stderr",
     "output_type": "stream",
     "text": [
      "Epoch 1/1: 100%|██████████| 11/11 [00:01<00:00,  8.61it/s, loss=1.3092, acc=63.29%]\n",
      "TOTAL Epochs:  32%|███▏      | 164/512 [03:18<07:24,  1.28s/it]"
     ]
    },
    {
     "name": "stdout",
     "output_type": "stream",
     "text": [
      "Epoch 1/1 => Loss: 1.3345, Special-Token Accuracy: 61.41%\n"
     ]
    },
    {
     "name": "stderr",
     "output_type": "stream",
     "text": [
      "Epoch 1/1: 100%|██████████| 11/11 [00:01<00:00,  8.54it/s, loss=1.2693, acc=61.93%]\n",
      "TOTAL Epochs:  32%|███▏      | 165/512 [03:19<07:25,  1.28s/it]"
     ]
    },
    {
     "name": "stdout",
     "output_type": "stream",
     "text": [
      "Epoch 1/1 => Loss: 1.3278, Special-Token Accuracy: 62.81%\n"
     ]
    },
    {
     "name": "stderr",
     "output_type": "stream",
     "text": [
      "Epoch 1/1: 100%|██████████| 11/11 [00:01<00:00,  8.52it/s, loss=1.2960, acc=65.66%]\n",
      "TOTAL Epochs:  32%|███▏      | 166/512 [03:20<07:25,  1.29s/it]"
     ]
    },
    {
     "name": "stdout",
     "output_type": "stream",
     "text": [
      "Epoch 1/1 => Loss: 1.3032, Special-Token Accuracy: 64.26%\n"
     ]
    },
    {
     "name": "stderr",
     "output_type": "stream",
     "text": [
      "Epoch 1/1: 100%|██████████| 11/11 [00:01<00:00,  8.52it/s, loss=1.2944, acc=63.15%]\n",
      "TOTAL Epochs:  33%|███▎      | 167/512 [03:21<07:24,  1.29s/it]"
     ]
    },
    {
     "name": "stdout",
     "output_type": "stream",
     "text": [
      "Epoch 1/1 => Loss: 1.3153, Special-Token Accuracy: 61.85%\n"
     ]
    },
    {
     "name": "stderr",
     "output_type": "stream",
     "text": [
      "Epoch 1/1: 100%|██████████| 11/11 [00:01<00:00,  8.36it/s, loss=1.2421, acc=63.47%]\n",
      "TOTAL Epochs:  33%|███▎      | 168/512 [03:23<07:26,  1.30s/it]"
     ]
    },
    {
     "name": "stdout",
     "output_type": "stream",
     "text": [
      "Epoch 1/1 => Loss: 1.2893, Special-Token Accuracy: 62.86%\n"
     ]
    },
    {
     "name": "stderr",
     "output_type": "stream",
     "text": [
      "Epoch 1/1: 100%|██████████| 11/11 [00:01<00:00,  8.51it/s, loss=1.2721, acc=64.60%]\n",
      "TOTAL Epochs:  33%|███▎      | 169/512 [03:24<07:25,  1.30s/it]"
     ]
    },
    {
     "name": "stdout",
     "output_type": "stream",
     "text": [
      "Epoch 1/1 => Loss: 1.2749, Special-Token Accuracy: 64.00%\n"
     ]
    },
    {
     "name": "stderr",
     "output_type": "stream",
     "text": [
      "Epoch 1/1: 100%|██████████| 11/11 [00:01<00:00,  8.50it/s, loss=1.2323, acc=67.86%]\n",
      "TOTAL Epochs:  33%|███▎      | 170/512 [03:25<07:24,  1.30s/it]"
     ]
    },
    {
     "name": "stdout",
     "output_type": "stream",
     "text": [
      "Epoch 1/1 => Loss: 1.2902, Special-Token Accuracy: 63.44%\n"
     ]
    },
    {
     "name": "stderr",
     "output_type": "stream",
     "text": [
      "Epoch 1/1: 100%|██████████| 11/11 [00:01<00:00,  8.54it/s, loss=1.3753, acc=63.21%]\n",
      "TOTAL Epochs:  33%|███▎      | 171/512 [03:27<07:22,  1.30s/it]"
     ]
    },
    {
     "name": "stdout",
     "output_type": "stream",
     "text": [
      "Epoch 1/1 => Loss: 1.3211, Special-Token Accuracy: 64.06%\n"
     ]
    },
    {
     "name": "stderr",
     "output_type": "stream",
     "text": [
      "Epoch 1/1: 100%|██████████| 11/11 [00:01<00:00,  8.47it/s, loss=1.3031, acc=62.23%]\n",
      "TOTAL Epochs:  34%|███▎      | 172/512 [03:28<07:21,  1.30s/it]"
     ]
    },
    {
     "name": "stdout",
     "output_type": "stream",
     "text": [
      "Epoch 1/1 => Loss: 1.2988, Special-Token Accuracy: 62.59%\n"
     ]
    },
    {
     "name": "stderr",
     "output_type": "stream",
     "text": [
      "Epoch 1/1: 100%|██████████| 11/11 [00:01<00:00,  8.59it/s, loss=1.3162, acc=64.41%]\n",
      "TOTAL Epochs:  34%|███▍      | 173/512 [03:29<07:19,  1.30s/it]"
     ]
    },
    {
     "name": "stdout",
     "output_type": "stream",
     "text": [
      "Epoch 1/1 => Loss: 1.2871, Special-Token Accuracy: 64.50%\n"
     ]
    },
    {
     "name": "stderr",
     "output_type": "stream",
     "text": [
      "Epoch 1/1: 100%|██████████| 11/11 [00:01<00:00,  8.59it/s, loss=1.2772, acc=64.12%]\n",
      "TOTAL Epochs:  34%|███▍      | 174/512 [03:31<07:17,  1.29s/it]"
     ]
    },
    {
     "name": "stdout",
     "output_type": "stream",
     "text": [
      "Epoch 1/1 => Loss: 1.2729, Special-Token Accuracy: 65.06%\n"
     ]
    },
    {
     "name": "stderr",
     "output_type": "stream",
     "text": [
      "Epoch 1/1: 100%|██████████| 11/11 [00:01<00:00,  8.52it/s, loss=1.2346, acc=67.38%]\n",
      "TOTAL Epochs:  34%|███▍      | 175/512 [03:32<07:16,  1.29s/it]"
     ]
    },
    {
     "name": "stdout",
     "output_type": "stream",
     "text": [
      "Epoch 1/1 => Loss: 1.2516, Special-Token Accuracy: 62.80%\n"
     ]
    },
    {
     "name": "stderr",
     "output_type": "stream",
     "text": [
      "Epoch 1/1: 100%|██████████| 11/11 [00:01<00:00,  8.53it/s, loss=1.2529, acc=61.88%]\n",
      "TOTAL Epochs:  34%|███▍      | 176/512 [03:33<07:14,  1.29s/it]"
     ]
    },
    {
     "name": "stdout",
     "output_type": "stream",
     "text": [
      "Epoch 1/1 => Loss: 1.2727, Special-Token Accuracy: 64.52%\n"
     ]
    },
    {
     "name": "stderr",
     "output_type": "stream",
     "text": [
      "Epoch 1/1: 100%|██████████| 11/11 [00:00<00:00, -17.05it/s, loss=1.2517, acc=65.62%]\n"
     ]
    },
    {
     "name": "stdout",
     "output_type": "stream",
     "text": [
      "Epoch 1/1 => Loss: 1.2428, Special-Token Accuracy: 65.75%\n"
     ]
    },
    {
     "name": "stderr",
     "output_type": "stream",
     "text": [
      "Epoch 1/1: 100%|██████████| 11/11 [00:01<00:00,  8.61it/s, loss=1.2434, acc=61.59%]\n",
      "TOTAL Epochs:  35%|███▍      | 178/512 [03:34<04:42,  1.18it/s]"
     ]
    },
    {
     "name": "stdout",
     "output_type": "stream",
     "text": [
      "Epoch 1/1 => Loss: 1.2274, Special-Token Accuracy: 65.55%\n"
     ]
    },
    {
     "name": "stderr",
     "output_type": "stream",
     "text": [
      "Epoch 1/1: 100%|██████████| 11/11 [00:01<00:00,  8.60it/s, loss=1.2300, acc=64.57%]\n",
      "TOTAL Epochs:  35%|███▍      | 179/512 [03:35<05:17,  1.05it/s]"
     ]
    },
    {
     "name": "stdout",
     "output_type": "stream",
     "text": [
      "Epoch 1/1 => Loss: 1.2308, Special-Token Accuracy: 65.19%\n"
     ]
    },
    {
     "name": "stderr",
     "output_type": "stream",
     "text": [
      "Epoch 1/1: 100%|██████████| 11/11 [00:01<00:00,  8.59it/s, loss=1.2950, acc=66.02%]\n",
      "TOTAL Epochs:  35%|███▌      | 180/512 [03:36<05:45,  1.04s/it]"
     ]
    },
    {
     "name": "stdout",
     "output_type": "stream",
     "text": [
      "Epoch 1/1 => Loss: 1.2377, Special-Token Accuracy: 64.44%\n"
     ]
    },
    {
     "name": "stderr",
     "output_type": "stream",
     "text": [
      "Epoch 1/1: 100%|██████████| 11/11 [00:01<00:00,  8.54it/s, loss=1.3184, acc=63.49%]\n",
      "TOTAL Epochs:  35%|███▌      | 181/512 [03:38<06:07,  1.11s/it]"
     ]
    },
    {
     "name": "stdout",
     "output_type": "stream",
     "text": [
      "Epoch 1/1 => Loss: 1.2848, Special-Token Accuracy: 64.35%\n"
     ]
    },
    {
     "name": "stderr",
     "output_type": "stream",
     "text": [
      "Epoch 1/1: 100%|██████████| 11/11 [00:01<00:00,  8.56it/s, loss=1.2969, acc=63.55%]\n",
      "TOTAL Epochs:  36%|███▌      | 182/512 [03:39<06:23,  1.16s/it]"
     ]
    },
    {
     "name": "stdout",
     "output_type": "stream",
     "text": [
      "Epoch 1/1 => Loss: 1.2494, Special-Token Accuracy: 66.12%\n"
     ]
    },
    {
     "name": "stderr",
     "output_type": "stream",
     "text": [
      "Epoch 1/1: 100%|██████████| 11/11 [00:01<00:00,  8.59it/s, loss=1.2500, acc=64.83%]\n",
      "TOTAL Epochs:  36%|███▌      | 183/512 [03:40<06:33,  1.20s/it]"
     ]
    },
    {
     "name": "stdout",
     "output_type": "stream",
     "text": [
      "Epoch 1/1 => Loss: 1.2248, Special-Token Accuracy: 64.95%\n"
     ]
    },
    {
     "name": "stderr",
     "output_type": "stream",
     "text": [
      "Epoch 1/1: 100%|██████████| 11/11 [00:01<00:00,  8.64it/s, loss=1.2572, acc=65.65%]\n",
      "TOTAL Epochs:  36%|███▌      | 184/512 [03:42<06:40,  1.22s/it]"
     ]
    },
    {
     "name": "stdout",
     "output_type": "stream",
     "text": [
      "Epoch 1/1 => Loss: 1.2219, Special-Token Accuracy: 67.46%\n"
     ]
    },
    {
     "name": "stderr",
     "output_type": "stream",
     "text": [
      "Epoch 1/1: 100%|██████████| 11/11 [00:01<00:00,  8.60it/s, loss=1.1732, acc=68.18%]\n",
      "TOTAL Epochs:  36%|███▌      | 185/512 [03:43<06:45,  1.24s/it]"
     ]
    },
    {
     "name": "stdout",
     "output_type": "stream",
     "text": [
      "Epoch 1/1 => Loss: 1.2028, Special-Token Accuracy: 66.41%\n"
     ]
    },
    {
     "name": "stderr",
     "output_type": "stream",
     "text": [
      "Epoch 1/1: 100%|██████████| 11/11 [00:01<00:00,  8.57it/s, loss=1.1878, acc=68.87%]\n",
      "TOTAL Epochs:  36%|███▋      | 186/512 [03:44<06:48,  1.25s/it]"
     ]
    },
    {
     "name": "stdout",
     "output_type": "stream",
     "text": [
      "Epoch 1/1 => Loss: 1.1894, Special-Token Accuracy: 67.04%\n"
     ]
    },
    {
     "name": "stderr",
     "output_type": "stream",
     "text": [
      "Epoch 1/1: 100%|██████████| 11/11 [00:01<00:00,  8.51it/s, loss=1.1853, acc=67.05%]\n",
      "TOTAL Epochs:  37%|███▋      | 187/512 [03:45<06:51,  1.27s/it]"
     ]
    },
    {
     "name": "stdout",
     "output_type": "stream",
     "text": [
      "Epoch 1/1 => Loss: 1.1868, Special-Token Accuracy: 67.84%\n"
     ]
    },
    {
     "name": "stderr",
     "output_type": "stream",
     "text": [
      "Epoch 1/1: 100%|██████████| 11/11 [00:01<00:00,  8.55it/s, loss=1.1317, acc=69.09%]\n",
      "TOTAL Epochs:  37%|███▋      | 188/512 [03:47<06:53,  1.27s/it]"
     ]
    },
    {
     "name": "stdout",
     "output_type": "stream",
     "text": [
      "Epoch 1/1 => Loss: 1.1840, Special-Token Accuracy: 66.96%\n"
     ]
    },
    {
     "name": "stderr",
     "output_type": "stream",
     "text": [
      "Epoch 1/1: 100%|██████████| 11/11 [00:01<00:00,  8.54it/s, loss=1.2031, acc=65.78%]\n",
      "TOTAL Epochs:  37%|███▋      | 189/512 [03:48<06:53,  1.28s/it]"
     ]
    },
    {
     "name": "stdout",
     "output_type": "stream",
     "text": [
      "Epoch 1/1 => Loss: 1.1941, Special-Token Accuracy: 68.14%\n"
     ]
    },
    {
     "name": "stderr",
     "output_type": "stream",
     "text": [
      "Epoch 1/1: 100%|██████████| 11/11 [00:01<00:00,  8.65it/s, loss=1.1851, acc=68.72%]\n",
      "TOTAL Epochs:  37%|███▋      | 190/512 [03:49<06:51,  1.28s/it]"
     ]
    },
    {
     "name": "stdout",
     "output_type": "stream",
     "text": [
      "Epoch 1/1 => Loss: 1.1852, Special-Token Accuracy: 67.66%\n"
     ]
    },
    {
     "name": "stderr",
     "output_type": "stream",
     "text": [
      "Epoch 1/1: 100%|██████████| 11/11 [00:01<00:00,  8.54it/s, loss=1.1920, acc=69.06%]\n",
      "TOTAL Epochs:  37%|███▋      | 191/512 [03:51<06:51,  1.28s/it]"
     ]
    },
    {
     "name": "stdout",
     "output_type": "stream",
     "text": [
      "Epoch 1/1 => Loss: 1.1809, Special-Token Accuracy: 69.77%\n"
     ]
    },
    {
     "name": "stderr",
     "output_type": "stream",
     "text": [
      "Epoch 1/1: 100%|██████████| 11/11 [00:01<00:00,  8.54it/s, loss=1.2293, acc=70.56%]\n",
      "TOTAL Epochs:  38%|███▊      | 192/512 [03:52<06:51,  1.29s/it]"
     ]
    },
    {
     "name": "stdout",
     "output_type": "stream",
     "text": [
      "Epoch 1/1 => Loss: 1.1895, Special-Token Accuracy: 66.37%\n"
     ]
    },
    {
     "name": "stderr",
     "output_type": "stream",
     "text": [
      "Epoch 1/1: 100%|██████████| 11/11 [00:01<00:00,  8.52it/s, loss=1.1616, acc=70.60%]\n",
      "TOTAL Epochs:  38%|███▊      | 193/512 [03:53<06:51,  1.29s/it]"
     ]
    },
    {
     "name": "stdout",
     "output_type": "stream",
     "text": [
      "Epoch 1/1 => Loss: 1.1776, Special-Token Accuracy: 68.22%\n"
     ]
    },
    {
     "name": "stderr",
     "output_type": "stream",
     "text": [
      "Epoch 1/1: 100%|██████████| 11/11 [00:01<00:00,  8.53it/s, loss=1.1416, acc=68.07%]\n",
      "TOTAL Epochs:  38%|███▊      | 194/512 [03:54<06:50,  1.29s/it]"
     ]
    },
    {
     "name": "stdout",
     "output_type": "stream",
     "text": [
      "Epoch 1/1 => Loss: 1.1528, Special-Token Accuracy: 69.50%\n"
     ]
    },
    {
     "name": "stderr",
     "output_type": "stream",
     "text": [
      "Epoch 1/1: 100%|██████████| 11/11 [00:01<00:00,  8.53it/s, loss=1.2082, acc=67.19%]\n",
      "TOTAL Epochs:  38%|███▊      | 195/512 [03:56<06:49,  1.29s/it]"
     ]
    },
    {
     "name": "stdout",
     "output_type": "stream",
     "text": [
      "Epoch 1/1 => Loss: 1.1752, Special-Token Accuracy: 69.82%\n"
     ]
    },
    {
     "name": "stderr",
     "output_type": "stream",
     "text": [
      "Epoch 1/1: 100%|██████████| 11/11 [00:01<00:00,  8.52it/s, loss=1.1657, acc=67.70%]\n",
      "TOTAL Epochs:  38%|███▊      | 196/512 [03:57<06:48,  1.29s/it]"
     ]
    },
    {
     "name": "stdout",
     "output_type": "stream",
     "text": [
      "Epoch 1/1 => Loss: 1.1614, Special-Token Accuracy: 69.07%\n"
     ]
    },
    {
     "name": "stderr",
     "output_type": "stream",
     "text": [
      "Epoch 1/1: 100%|██████████| 11/11 [00:01<00:00,  8.63it/s, loss=1.1093, acc=67.72%]\n",
      "TOTAL Epochs:  38%|███▊      | 197/512 [03:58<06:46,  1.29s/it]"
     ]
    },
    {
     "name": "stdout",
     "output_type": "stream",
     "text": [
      "Epoch 1/1 => Loss: 1.1396, Special-Token Accuracy: 70.20%\n"
     ]
    },
    {
     "name": "stderr",
     "output_type": "stream",
     "text": [
      "Epoch 1/1: 100%|██████████| 11/11 [00:01<00:00,  8.40it/s, loss=1.1296, acc=69.31%]\n",
      "TOTAL Epochs:  39%|███▊      | 198/512 [04:00<06:47,  1.30s/it]"
     ]
    },
    {
     "name": "stdout",
     "output_type": "stream",
     "text": [
      "Epoch 1/1 => Loss: 1.1583, Special-Token Accuracy: 69.31%\n"
     ]
    },
    {
     "name": "stderr",
     "output_type": "stream",
     "text": [
      "Epoch 1/1: 100%|██████████| 11/11 [00:01<00:00,  8.53it/s, loss=1.1252, acc=71.18%]\n",
      "TOTAL Epochs:  39%|███▉      | 199/512 [04:01<06:45,  1.30s/it]"
     ]
    },
    {
     "name": "stdout",
     "output_type": "stream",
     "text": [
      "Epoch 1/1 => Loss: 1.1507, Special-Token Accuracy: 69.09%\n"
     ]
    },
    {
     "name": "stderr",
     "output_type": "stream",
     "text": [
      "Epoch 1/1: 100%|██████████| 11/11 [00:01<00:00,  8.54it/s, loss=1.1464, acc=72.60%]\n",
      "TOTAL Epochs:  39%|███▉      | 200/512 [04:02<06:44,  1.30s/it]"
     ]
    },
    {
     "name": "stdout",
     "output_type": "stream",
     "text": [
      "Epoch 1/1 => Loss: 1.1332, Special-Token Accuracy: 70.10%\n"
     ]
    },
    {
     "name": "stderr",
     "output_type": "stream",
     "text": [
      "Epoch 1/1: 100%|██████████| 11/11 [00:01<00:00,  8.52it/s, loss=1.1255, acc=67.60%]\n",
      "TOTAL Epochs:  39%|███▉      | 201/512 [04:04<06:43,  1.30s/it]"
     ]
    },
    {
     "name": "stdout",
     "output_type": "stream",
     "text": [
      "Epoch 1/1 => Loss: 1.1382, Special-Token Accuracy: 70.08%\n"
     ]
    },
    {
     "name": "stderr",
     "output_type": "stream",
     "text": [
      "Epoch 1/1: 100%|██████████| 11/11 [00:00<00:00, -17.82it/s, loss=1.1023, acc=72.48%]\n"
     ]
    },
    {
     "name": "stdout",
     "output_type": "stream",
     "text": [
      "Epoch 1/1 => Loss: 1.1216, Special-Token Accuracy: 72.60%\n"
     ]
    },
    {
     "name": "stderr",
     "output_type": "stream",
     "text": [
      "Epoch 1/1: 100%|██████████| 11/11 [00:01<00:00,  8.62it/s, loss=1.1565, acc=70.47%]\n",
      "TOTAL Epochs:  40%|███▉      | 203/512 [04:04<04:23,  1.17it/s]"
     ]
    },
    {
     "name": "stdout",
     "output_type": "stream",
     "text": [
      "Epoch 1/1 => Loss: 1.1566, Special-Token Accuracy: 67.98%\n"
     ]
    },
    {
     "name": "stderr",
     "output_type": "stream",
     "text": [
      "Epoch 1/1: 100%|██████████| 11/11 [00:01<00:00,  8.57it/s, loss=1.1838, acc=71.97%]\n",
      "TOTAL Epochs:  40%|███▉      | 204/512 [04:05<04:56,  1.04it/s]"
     ]
    },
    {
     "name": "stdout",
     "output_type": "stream",
     "text": [
      "Epoch 1/1 => Loss: 1.1627, Special-Token Accuracy: 70.13%\n"
     ]
    },
    {
     "name": "stderr",
     "output_type": "stream",
     "text": [
      "Epoch 1/1: 100%|██████████| 11/11 [00:01<00:00,  8.44it/s, loss=1.1251, acc=71.21%]\n",
      "TOTAL Epochs:  40%|████      | 205/512 [04:07<05:23,  1.05s/it]"
     ]
    },
    {
     "name": "stdout",
     "output_type": "stream",
     "text": [
      "Epoch 1/1 => Loss: 1.1720, Special-Token Accuracy: 68.22%\n"
     ]
    },
    {
     "name": "stderr",
     "output_type": "stream",
     "text": [
      "Epoch 1/1: 100%|██████████| 11/11 [00:01<00:00,  8.47it/s, loss=1.1438, acc=73.14%]\n",
      "TOTAL Epochs:  40%|████      | 206/512 [04:08<05:42,  1.12s/it]"
     ]
    },
    {
     "name": "stdout",
     "output_type": "stream",
     "text": [
      "Epoch 1/1 => Loss: 1.1451, Special-Token Accuracy: 70.09%\n"
     ]
    },
    {
     "name": "stderr",
     "output_type": "stream",
     "text": [
      "Epoch 1/1: 100%|██████████| 11/11 [00:01<00:00,  8.52it/s, loss=1.0929, acc=72.12%]\n",
      "TOTAL Epochs:  40%|████      | 207/512 [04:09<05:56,  1.17s/it]"
     ]
    },
    {
     "name": "stdout",
     "output_type": "stream",
     "text": [
      "Epoch 1/1 => Loss: 1.1414, Special-Token Accuracy: 70.44%\n"
     ]
    },
    {
     "name": "stderr",
     "output_type": "stream",
     "text": [
      "Epoch 1/1: 100%|██████████| 11/11 [00:01<00:00,  8.54it/s, loss=1.0973, acc=72.20%]\n",
      "TOTAL Epochs:  41%|████      | 208/512 [04:11<06:06,  1.21s/it]"
     ]
    },
    {
     "name": "stdout",
     "output_type": "stream",
     "text": [
      "Epoch 1/1 => Loss: 1.1375, Special-Token Accuracy: 69.58%\n"
     ]
    },
    {
     "name": "stderr",
     "output_type": "stream",
     "text": [
      "Epoch 1/1: 100%|██████████| 11/11 [00:01<00:00,  8.63it/s, loss=1.1770, acc=71.47%]\n",
      "TOTAL Epochs:  41%|████      | 209/512 [04:12<06:12,  1.23s/it]"
     ]
    },
    {
     "name": "stdout",
     "output_type": "stream",
     "text": [
      "Epoch 1/1 => Loss: 1.1487, Special-Token Accuracy: 71.13%\n"
     ]
    },
    {
     "name": "stderr",
     "output_type": "stream",
     "text": [
      "Epoch 1/1: 100%|██████████| 11/11 [00:01<00:00,  8.55it/s, loss=1.1497, acc=71.54%]\n",
      "TOTAL Epochs:  41%|████      | 210/512 [04:13<06:16,  1.25s/it]"
     ]
    },
    {
     "name": "stdout",
     "output_type": "stream",
     "text": [
      "Epoch 1/1 => Loss: 1.1228, Special-Token Accuracy: 70.17%\n"
     ]
    },
    {
     "name": "stderr",
     "output_type": "stream",
     "text": [
      "Epoch 1/1: 100%|██████████| 11/11 [00:01<00:00,  8.52it/s, loss=1.1324, acc=69.86%]\n",
      "TOTAL Epochs:  41%|████      | 211/512 [04:15<06:19,  1.26s/it]"
     ]
    },
    {
     "name": "stdout",
     "output_type": "stream",
     "text": [
      "Epoch 1/1 => Loss: 1.1272, Special-Token Accuracy: 71.24%\n"
     ]
    },
    {
     "name": "stderr",
     "output_type": "stream",
     "text": [
      "Epoch 1/1: 100%|██████████| 11/11 [00:01<00:00,  8.58it/s, loss=1.0721, acc=71.84%]\n",
      "TOTAL Epochs:  41%|████▏     | 212/512 [04:16<06:21,  1.27s/it]"
     ]
    },
    {
     "name": "stdout",
     "output_type": "stream",
     "text": [
      "Epoch 1/1 => Loss: 1.1175, Special-Token Accuracy: 71.35%\n"
     ]
    },
    {
     "name": "stderr",
     "output_type": "stream",
     "text": [
      "Epoch 1/1: 100%|██████████| 11/11 [00:01<00:00,  8.56it/s, loss=1.1583, acc=69.22%]\n",
      "TOTAL Epochs:  42%|████▏     | 213/512 [04:17<06:21,  1.28s/it]"
     ]
    },
    {
     "name": "stdout",
     "output_type": "stream",
     "text": [
      "Epoch 1/1 => Loss: 1.1426, Special-Token Accuracy: 70.42%\n"
     ]
    },
    {
     "name": "stderr",
     "output_type": "stream",
     "text": [
      "Epoch 1/1: 100%|██████████| 11/11 [00:01<00:00,  8.59it/s, loss=1.1038, acc=74.18%]\n",
      "TOTAL Epochs:  42%|████▏     | 214/512 [04:18<06:21,  1.28s/it]"
     ]
    },
    {
     "name": "stdout",
     "output_type": "stream",
     "text": [
      "Epoch 1/1 => Loss: 1.1331, Special-Token Accuracy: 71.24%\n"
     ]
    },
    {
     "name": "stderr",
     "output_type": "stream",
     "text": [
      "Epoch 1/1: 100%|██████████| 11/11 [00:01<00:00,  8.50it/s, loss=1.0827, acc=72.30%]\n",
      "TOTAL Epochs:  42%|████▏     | 215/512 [04:20<06:21,  1.29s/it]"
     ]
    },
    {
     "name": "stdout",
     "output_type": "stream",
     "text": [
      "Epoch 1/1 => Loss: 1.1274, Special-Token Accuracy: 70.47%\n"
     ]
    },
    {
     "name": "stderr",
     "output_type": "stream",
     "text": [
      "Epoch 1/1: 100%|██████████| 11/11 [00:01<00:00,  8.54it/s, loss=1.1442, acc=71.99%]\n",
      "TOTAL Epochs:  42%|████▏     | 216/512 [04:21<06:21,  1.29s/it]"
     ]
    },
    {
     "name": "stdout",
     "output_type": "stream",
     "text": [
      "Epoch 1/1 => Loss: 1.1257, Special-Token Accuracy: 72.38%\n"
     ]
    },
    {
     "name": "stderr",
     "output_type": "stream",
     "text": [
      "Epoch 1/1: 100%|██████████| 11/11 [00:01<00:00,  8.42it/s, loss=1.0890, acc=73.79%]\n",
      "TOTAL Epochs:  42%|████▏     | 217/512 [04:22<06:22,  1.29s/it]"
     ]
    },
    {
     "name": "stdout",
     "output_type": "stream",
     "text": [
      "Epoch 1/1 => Loss: 1.1089, Special-Token Accuracy: 70.59%\n"
     ]
    },
    {
     "name": "stderr",
     "output_type": "stream",
     "text": [
      "Epoch 1/1: 100%|██████████| 11/11 [00:01<00:00,  8.59it/s, loss=1.0686, acc=69.16%]\n",
      "TOTAL Epochs:  43%|████▎     | 218/512 [04:24<06:20,  1.29s/it]"
     ]
    },
    {
     "name": "stdout",
     "output_type": "stream",
     "text": [
      "Epoch 1/1 => Loss: 1.1108, Special-Token Accuracy: 71.02%\n"
     ]
    },
    {
     "name": "stderr",
     "output_type": "stream",
     "text": [
      "Epoch 1/1: 100%|██████████| 11/11 [00:01<00:00,  8.53it/s, loss=1.0883, acc=71.67%]\n",
      "TOTAL Epochs:  43%|████▎     | 219/512 [04:25<06:19,  1.29s/it]"
     ]
    },
    {
     "name": "stdout",
     "output_type": "stream",
     "text": [
      "Epoch 1/1 => Loss: 1.0990, Special-Token Accuracy: 72.51%\n"
     ]
    },
    {
     "name": "stderr",
     "output_type": "stream",
     "text": [
      "Epoch 1/1: 100%|██████████| 11/11 [00:01<00:00,  8.49it/s, loss=1.0905, acc=75.01%]\n",
      "TOTAL Epochs:  43%|████▎     | 220/512 [04:26<06:18,  1.30s/it]"
     ]
    },
    {
     "name": "stdout",
     "output_type": "stream",
     "text": [
      "Epoch 1/1 => Loss: 1.0819, Special-Token Accuracy: 71.79%\n"
     ]
    },
    {
     "name": "stderr",
     "output_type": "stream",
     "text": [
      "Epoch 1/1: 100%|██████████| 11/11 [00:01<00:00,  8.54it/s, loss=1.1156, acc=69.39%]\n",
      "TOTAL Epochs:  43%|████▎     | 221/512 [04:28<06:17,  1.30s/it]"
     ]
    },
    {
     "name": "stdout",
     "output_type": "stream",
     "text": [
      "Epoch 1/1 => Loss: 1.0880, Special-Token Accuracy: 71.36%\n"
     ]
    },
    {
     "name": "stderr",
     "output_type": "stream",
     "text": [
      "Epoch 1/1: 100%|██████████| 11/11 [00:01<00:00,  8.50it/s, loss=1.0971, acc=71.25%]\n",
      "TOTAL Epochs:  43%|████▎     | 222/512 [04:29<06:16,  1.30s/it]"
     ]
    },
    {
     "name": "stdout",
     "output_type": "stream",
     "text": [
      "Epoch 1/1 => Loss: 1.0921, Special-Token Accuracy: 72.93%\n"
     ]
    },
    {
     "name": "stderr",
     "output_type": "stream",
     "text": [
      "Epoch 1/1: 100%|██████████| 11/11 [00:01<00:00,  8.61it/s, loss=1.1018, acc=74.44%]\n",
      "TOTAL Epochs:  44%|████▎     | 223/512 [04:30<06:13,  1.29s/it]"
     ]
    },
    {
     "name": "stdout",
     "output_type": "stream",
     "text": [
      "Epoch 1/1 => Loss: 1.0929, Special-Token Accuracy: 72.64%\n"
     ]
    },
    {
     "name": "stderr",
     "output_type": "stream",
     "text": [
      "Epoch 1/1: 100%|██████████| 11/11 [00:01<00:00,  8.54it/s, loss=1.0771, acc=69.45%]\n",
      "TOTAL Epochs:  44%|████▍     | 224/512 [04:31<06:12,  1.29s/it]"
     ]
    },
    {
     "name": "stdout",
     "output_type": "stream",
     "text": [
      "Epoch 1/1 => Loss: 1.1047, Special-Token Accuracy: 71.85%\n"
     ]
    },
    {
     "name": "stderr",
     "output_type": "stream",
     "text": [
      "Epoch 1/1: 100%|██████████| 11/11 [00:01<00:00,  8.54it/s, loss=1.0751, acc=73.99%]\n",
      "TOTAL Epochs:  44%|████▍     | 225/512 [04:33<06:11,  1.29s/it]"
     ]
    },
    {
     "name": "stdout",
     "output_type": "stream",
     "text": [
      "Epoch 1/1 => Loss: 1.0876, Special-Token Accuracy: 72.46%\n"
     ]
    },
    {
     "name": "stderr",
     "output_type": "stream",
     "text": [
      "Epoch 1/1: 100%|██████████| 11/11 [00:01<00:00,  8.52it/s, loss=1.1009, acc=69.94%]\n",
      "TOTAL Epochs:  44%|████▍     | 226/512 [04:34<06:10,  1.29s/it]"
     ]
    },
    {
     "name": "stdout",
     "output_type": "stream",
     "text": [
      "Epoch 1/1 => Loss: 1.1003, Special-Token Accuracy: 73.11%\n"
     ]
    },
    {
     "name": "stderr",
     "output_type": "stream",
     "text": [
      "Epoch 1/1: 100%|██████████| 11/11 [00:00<00:00, -17.44it/s, loss=1.0789, acc=71.96%]\n"
     ]
    },
    {
     "name": "stdout",
     "output_type": "stream",
     "text": [
      "Epoch 1/1 => Loss: 1.0892, Special-Token Accuracy: 73.66%\n"
     ]
    },
    {
     "name": "stderr",
     "output_type": "stream",
     "text": [
      "Epoch 1/1: 100%|██████████| 11/11 [00:01<00:00,  8.54it/s, loss=1.1603, acc=74.22%]\n",
      "TOTAL Epochs:  45%|████▍     | 228/512 [04:35<04:01,  1.17it/s]"
     ]
    },
    {
     "name": "stdout",
     "output_type": "stream",
     "text": [
      "Epoch 1/1 => Loss: 1.1063, Special-Token Accuracy: 72.73%\n"
     ]
    },
    {
     "name": "stderr",
     "output_type": "stream",
     "text": [
      "Epoch 1/1: 100%|██████████| 11/11 [00:01<00:00,  8.54it/s, loss=1.0855, acc=73.42%]\n",
      "TOTAL Epochs:  45%|████▍     | 229/512 [04:36<04:32,  1.04it/s]"
     ]
    },
    {
     "name": "stdout",
     "output_type": "stream",
     "text": [
      "Epoch 1/1 => Loss: 1.0942, Special-Token Accuracy: 72.68%\n"
     ]
    },
    {
     "name": "stderr",
     "output_type": "stream",
     "text": [
      "Epoch 1/1: 100%|██████████| 11/11 [00:01<00:00,  8.50it/s, loss=1.1026, acc=71.96%]\n",
      "TOTAL Epochs:  45%|████▍     | 230/512 [04:37<04:56,  1.05s/it]"
     ]
    },
    {
     "name": "stdout",
     "output_type": "stream",
     "text": [
      "Epoch 1/1 => Loss: 1.0830, Special-Token Accuracy: 73.58%\n"
     ]
    },
    {
     "name": "stderr",
     "output_type": "stream",
     "text": [
      "Epoch 1/1: 100%|██████████| 11/11 [00:01<00:00,  8.45it/s, loss=1.0994, acc=74.94%]\n",
      "TOTAL Epochs:  45%|████▌     | 231/512 [04:39<05:14,  1.12s/it]"
     ]
    },
    {
     "name": "stdout",
     "output_type": "stream",
     "text": [
      "Epoch 1/1 => Loss: 1.0910, Special-Token Accuracy: 72.94%\n"
     ]
    },
    {
     "name": "stderr",
     "output_type": "stream",
     "text": [
      "Epoch 1/1: 100%|██████████| 11/11 [00:01<00:00,  8.52it/s, loss=1.0689, acc=75.89%]\n",
      "TOTAL Epochs:  45%|████▌     | 232/512 [04:40<05:27,  1.17s/it]"
     ]
    },
    {
     "name": "stdout",
     "output_type": "stream",
     "text": [
      "Epoch 1/1 => Loss: 1.0932, Special-Token Accuracy: 72.88%\n"
     ]
    },
    {
     "name": "stderr",
     "output_type": "stream",
     "text": [
      "Epoch 1/1: 100%|██████████| 11/11 [00:01<00:00,  8.55it/s, loss=1.0452, acc=75.56%]\n",
      "TOTAL Epochs:  46%|████▌     | 233/512 [04:41<05:36,  1.21s/it]"
     ]
    },
    {
     "name": "stdout",
     "output_type": "stream",
     "text": [
      "Epoch 1/1 => Loss: 1.0739, Special-Token Accuracy: 74.23%\n"
     ]
    },
    {
     "name": "stderr",
     "output_type": "stream",
     "text": [
      "Epoch 1/1: 100%|██████████| 11/11 [00:01<00:00,  8.63it/s, loss=1.0972, acc=71.90%]\n",
      "TOTAL Epochs:  46%|████▌     | 234/512 [04:42<05:41,  1.23s/it]"
     ]
    },
    {
     "name": "stdout",
     "output_type": "stream",
     "text": [
      "Epoch 1/1 => Loss: 1.0940, Special-Token Accuracy: 72.26%\n"
     ]
    },
    {
     "name": "stderr",
     "output_type": "stream",
     "text": [
      "Epoch 1/1: 100%|██████████| 11/11 [00:01<00:00,  8.55it/s, loss=1.0983, acc=73.19%]\n",
      "TOTAL Epochs:  46%|████▌     | 235/512 [04:44<05:45,  1.25s/it]"
     ]
    },
    {
     "name": "stdout",
     "output_type": "stream",
     "text": [
      "Epoch 1/1 => Loss: 1.0833, Special-Token Accuracy: 73.98%\n"
     ]
    },
    {
     "name": "stderr",
     "output_type": "stream",
     "text": [
      "Epoch 1/1: 100%|██████████| 11/11 [00:01<00:00,  8.47it/s, loss=1.0785, acc=71.92%]\n",
      "TOTAL Epochs:  46%|████▌     | 236/512 [04:45<05:48,  1.26s/it]"
     ]
    },
    {
     "name": "stdout",
     "output_type": "stream",
     "text": [
      "Epoch 1/1 => Loss: 1.0778, Special-Token Accuracy: 73.50%\n"
     ]
    },
    {
     "name": "stderr",
     "output_type": "stream",
     "text": [
      "Epoch 1/1: 100%|██████████| 11/11 [00:01<00:00,  8.56it/s, loss=1.0732, acc=75.92%]\n",
      "TOTAL Epochs:  46%|████▋     | 237/512 [04:46<05:49,  1.27s/it]"
     ]
    },
    {
     "name": "stdout",
     "output_type": "stream",
     "text": [
      "Epoch 1/1 => Loss: 1.0869, Special-Token Accuracy: 74.05%\n"
     ]
    },
    {
     "name": "stderr",
     "output_type": "stream",
     "text": [
      "Epoch 1/1: 100%|██████████| 11/11 [00:01<00:00,  8.57it/s, loss=1.0838, acc=73.19%]\n",
      "TOTAL Epochs:  46%|████▋     | 238/512 [04:48<05:49,  1.28s/it]"
     ]
    },
    {
     "name": "stdout",
     "output_type": "stream",
     "text": [
      "Epoch 1/1 => Loss: 1.0783, Special-Token Accuracy: 73.19%\n"
     ]
    },
    {
     "name": "stderr",
     "output_type": "stream",
     "text": [
      "Epoch 1/1: 100%|██████████| 11/11 [00:01<00:00,  8.39it/s, loss=1.0866, acc=73.62%]\n",
      "TOTAL Epochs:  47%|████▋     | 239/512 [04:49<05:51,  1.29s/it]"
     ]
    },
    {
     "name": "stdout",
     "output_type": "stream",
     "text": [
      "Epoch 1/1 => Loss: 1.0808, Special-Token Accuracy: 74.92%\n"
     ]
    },
    {
     "name": "stderr",
     "output_type": "stream",
     "text": [
      "Epoch 1/1: 100%|██████████| 11/11 [00:01<00:00,  8.54it/s, loss=1.0787, acc=76.39%]\n",
      "TOTAL Epochs:  47%|████▋     | 240/512 [04:50<05:51,  1.29s/it]"
     ]
    },
    {
     "name": "stdout",
     "output_type": "stream",
     "text": [
      "Epoch 1/1 => Loss: 1.0739, Special-Token Accuracy: 74.77%\n"
     ]
    },
    {
     "name": "stderr",
     "output_type": "stream",
     "text": [
      "Epoch 1/1: 100%|██████████| 11/11 [00:01<00:00,  8.57it/s, loss=1.0303, acc=76.94%]\n",
      "TOTAL Epochs:  47%|████▋     | 241/512 [04:51<05:49,  1.29s/it]"
     ]
    },
    {
     "name": "stdout",
     "output_type": "stream",
     "text": [
      "Epoch 1/1 => Loss: 1.0709, Special-Token Accuracy: 73.49%\n"
     ]
    },
    {
     "name": "stderr",
     "output_type": "stream",
     "text": [
      "Epoch 1/1: 100%|██████████| 11/11 [00:01<00:00,  8.61it/s, loss=1.0876, acc=73.02%]\n",
      "TOTAL Epochs:  47%|████▋     | 242/512 [04:53<05:47,  1.29s/it]"
     ]
    },
    {
     "name": "stdout",
     "output_type": "stream",
     "text": [
      "Epoch 1/1 => Loss: 1.0677, Special-Token Accuracy: 74.81%\n"
     ]
    },
    {
     "name": "stderr",
     "output_type": "stream",
     "text": [
      "Epoch 1/1: 100%|██████████| 11/11 [00:01<00:00,  8.57it/s, loss=1.0676, acc=75.18%]\n",
      "TOTAL Epochs:  47%|████▋     | 243/512 [04:54<05:46,  1.29s/it]"
     ]
    },
    {
     "name": "stdout",
     "output_type": "stream",
     "text": [
      "Epoch 1/1 => Loss: 1.0787, Special-Token Accuracy: 74.17%\n"
     ]
    },
    {
     "name": "stderr",
     "output_type": "stream",
     "text": [
      "Epoch 1/1: 100%|██████████| 11/11 [00:01<00:00,  8.56it/s, loss=1.1208, acc=74.18%]\n",
      "TOTAL Epochs:  48%|████▊     | 244/512 [04:55<05:45,  1.29s/it]"
     ]
    },
    {
     "name": "stdout",
     "output_type": "stream",
     "text": [
      "Epoch 1/1 => Loss: 1.0820, Special-Token Accuracy: 74.12%\n"
     ]
    },
    {
     "name": "stderr",
     "output_type": "stream",
     "text": [
      "Epoch 1/1: 100%|██████████| 11/11 [00:01<00:00,  8.59it/s, loss=1.0846, acc=73.22%]\n",
      "TOTAL Epochs:  48%|████▊     | 245/512 [04:57<05:44,  1.29s/it]"
     ]
    },
    {
     "name": "stdout",
     "output_type": "stream",
     "text": [
      "Epoch 1/1 => Loss: 1.0774, Special-Token Accuracy: 74.47%\n"
     ]
    },
    {
     "name": "stderr",
     "output_type": "stream",
     "text": [
      "Epoch 1/1: 100%|██████████| 11/11 [00:01<00:00,  8.54it/s, loss=1.0523, acc=74.10%]\n",
      "TOTAL Epochs:  48%|████▊     | 246/512 [04:58<05:43,  1.29s/it]"
     ]
    },
    {
     "name": "stdout",
     "output_type": "stream",
     "text": [
      "Epoch 1/1 => Loss: 1.0667, Special-Token Accuracy: 74.75%\n"
     ]
    },
    {
     "name": "stderr",
     "output_type": "stream",
     "text": [
      "Epoch 1/1: 100%|██████████| 11/11 [00:01<00:00,  8.51it/s, loss=1.0432, acc=76.40%]\n",
      "TOTAL Epochs:  48%|████▊     | 247/512 [04:59<05:42,  1.29s/it]"
     ]
    },
    {
     "name": "stdout",
     "output_type": "stream",
     "text": [
      "Epoch 1/1 => Loss: 1.0742, Special-Token Accuracy: 75.44%\n"
     ]
    },
    {
     "name": "stderr",
     "output_type": "stream",
     "text": [
      "Epoch 1/1: 100%|██████████| 11/11 [00:01<00:00,  8.53it/s, loss=1.0853, acc=72.66%]\n",
      "TOTAL Epochs:  48%|████▊     | 248/512 [05:01<05:41,  1.29s/it]"
     ]
    },
    {
     "name": "stdout",
     "output_type": "stream",
     "text": [
      "Epoch 1/1 => Loss: 1.0841, Special-Token Accuracy: 73.62%\n"
     ]
    },
    {
     "name": "stderr",
     "output_type": "stream",
     "text": [
      "Epoch 1/1: 100%|██████████| 11/11 [00:01<00:00,  8.59it/s, loss=1.0671, acc=76.66%]\n",
      "TOTAL Epochs:  49%|████▊     | 249/512 [05:02<05:39,  1.29s/it]"
     ]
    },
    {
     "name": "stdout",
     "output_type": "stream",
     "text": [
      "Epoch 1/1 => Loss: 1.0767, Special-Token Accuracy: 75.26%\n"
     ]
    },
    {
     "name": "stderr",
     "output_type": "stream",
     "text": [
      "Epoch 1/1: 100%|██████████| 11/11 [00:01<00:00,  8.54it/s, loss=1.0650, acc=75.88%]\n",
      "TOTAL Epochs:  49%|████▉     | 250/512 [05:03<05:38,  1.29s/it]"
     ]
    },
    {
     "name": "stdout",
     "output_type": "stream",
     "text": [
      "Epoch 1/1 => Loss: 1.0592, Special-Token Accuracy: 75.02%\n"
     ]
    },
    {
     "name": "stderr",
     "output_type": "stream",
     "text": [
      "Epoch 1/1: 100%|██████████| 11/11 [00:01<00:00,  8.55it/s, loss=1.0591, acc=75.67%]\n",
      "TOTAL Epochs:  49%|████▉     | 251/512 [05:04<05:37,  1.29s/it]"
     ]
    },
    {
     "name": "stdout",
     "output_type": "stream",
     "text": [
      "Epoch 1/1 => Loss: 1.0600, Special-Token Accuracy: 76.40%\n"
     ]
    },
    {
     "name": "stderr",
     "output_type": "stream",
     "text": [
      "Epoch 1/1: 100%|██████████| 11/11 [00:00<00:00, -17.16it/s, loss=1.0354, acc=76.66%]\n"
     ]
    },
    {
     "name": "stdout",
     "output_type": "stream",
     "text": [
      "Epoch 1/1 => Loss: 1.0650, Special-Token Accuracy: 74.83%\n"
     ]
    },
    {
     "name": "stderr",
     "output_type": "stream",
     "text": [
      "Epoch 1/1: 100%|██████████| 11/11 [00:01<00:00,  8.62it/s, loss=1.0166, acc=74.68%]\n",
      "TOTAL Epochs:  49%|████▉     | 253/512 [05:05<03:38,  1.18it/s]"
     ]
    },
    {
     "name": "stdout",
     "output_type": "stream",
     "text": [
      "Epoch 1/1 => Loss: 1.0596, Special-Token Accuracy: 75.55%\n"
     ]
    },
    {
     "name": "stderr",
     "output_type": "stream",
     "text": [
      "Epoch 1/1: 100%|██████████| 11/11 [00:01<00:00,  8.65it/s, loss=1.0188, acc=77.66%]\n",
      "TOTAL Epochs:  50%|████▉     | 254/512 [05:06<04:05,  1.05it/s]"
     ]
    },
    {
     "name": "stdout",
     "output_type": "stream",
     "text": [
      "Epoch 1/1 => Loss: 1.0483, Special-Token Accuracy: 75.93%\n"
     ]
    },
    {
     "name": "stderr",
     "output_type": "stream",
     "text": [
      "Epoch 1/1: 100%|██████████| 11/11 [00:01<00:00,  8.59it/s, loss=1.0392, acc=76.59%]\n",
      "TOTAL Epochs:  50%|████▉     | 255/512 [05:08<04:27,  1.04s/it]"
     ]
    },
    {
     "name": "stdout",
     "output_type": "stream",
     "text": [
      "Epoch 1/1 => Loss: 1.0486, Special-Token Accuracy: 76.27%\n"
     ]
    },
    {
     "name": "stderr",
     "output_type": "stream",
     "text": [
      "Epoch 1/1: 100%|██████████| 11/11 [00:01<00:00,  8.62it/s, loss=1.0229, acc=75.37%]\n",
      "TOTAL Epochs:  50%|█████     | 256/512 [05:09<04:43,  1.11s/it]"
     ]
    },
    {
     "name": "stdout",
     "output_type": "stream",
     "text": [
      "Epoch 1/1 => Loss: 1.0503, Special-Token Accuracy: 75.92%\n"
     ]
    },
    {
     "name": "stderr",
     "output_type": "stream",
     "text": [
      "Epoch 1/1: 100%|██████████| 11/11 [00:01<00:00,  8.55it/s, loss=1.0148, acc=75.93%]\n",
      "TOTAL Epochs:  50%|█████     | 257/512 [05:10<04:55,  1.16s/it]"
     ]
    },
    {
     "name": "stdout",
     "output_type": "stream",
     "text": [
      "Epoch 1/1 => Loss: 1.0387, Special-Token Accuracy: 76.44%\n"
     ]
    },
    {
     "name": "stderr",
     "output_type": "stream",
     "text": [
      "Epoch 1/1: 100%|██████████| 11/11 [00:01<00:00,  8.61it/s, loss=1.0310, acc=75.24%]\n",
      "TOTAL Epochs:  50%|█████     | 258/512 [05:11<05:03,  1.19s/it]"
     ]
    },
    {
     "name": "stdout",
     "output_type": "stream",
     "text": [
      "Epoch 1/1 => Loss: 1.0480, Special-Token Accuracy: 75.64%\n"
     ]
    },
    {
     "name": "stderr",
     "output_type": "stream",
     "text": [
      "Epoch 1/1: 100%|██████████| 11/11 [00:01<00:00,  8.50it/s, loss=1.0319, acc=74.88%]\n",
      "TOTAL Epochs:  51%|█████     | 259/512 [05:13<05:09,  1.22s/it]"
     ]
    },
    {
     "name": "stdout",
     "output_type": "stream",
     "text": [
      "Epoch 1/1 => Loss: 1.0589, Special-Token Accuracy: 76.44%\n"
     ]
    },
    {
     "name": "stderr",
     "output_type": "stream",
     "text": [
      "Epoch 1/1: 100%|██████████| 11/11 [00:01<00:00,  8.59it/s, loss=1.0314, acc=76.05%]\n",
      "TOTAL Epochs:  51%|█████     | 260/512 [05:14<05:13,  1.24s/it]"
     ]
    },
    {
     "name": "stdout",
     "output_type": "stream",
     "text": [
      "Epoch 1/1 => Loss: 1.0386, Special-Token Accuracy: 76.24%\n"
     ]
    },
    {
     "name": "stderr",
     "output_type": "stream",
     "text": [
      "Epoch 1/1: 100%|██████████| 11/11 [00:01<00:00,  8.58it/s, loss=1.0149, acc=78.15%]\n",
      "TOTAL Epochs:  51%|█████     | 261/512 [05:15<05:15,  1.26s/it]"
     ]
    },
    {
     "name": "stdout",
     "output_type": "stream",
     "text": [
      "Epoch 1/1 => Loss: 1.0348, Special-Token Accuracy: 77.25%\n"
     ]
    },
    {
     "name": "stderr",
     "output_type": "stream",
     "text": [
      "Epoch 1/1: 100%|██████████| 11/11 [00:01<00:00,  8.53it/s, loss=1.0678, acc=75.66%]\n",
      "TOTAL Epochs:  51%|█████     | 262/512 [05:17<05:16,  1.27s/it]"
     ]
    },
    {
     "name": "stdout",
     "output_type": "stream",
     "text": [
      "Epoch 1/1 => Loss: 1.0394, Special-Token Accuracy: 76.41%\n"
     ]
    },
    {
     "name": "stderr",
     "output_type": "stream",
     "text": [
      "Epoch 1/1: 100%|██████████| 11/11 [00:01<00:00,  8.61it/s, loss=1.0552, acc=76.49%]\n",
      "TOTAL Epochs:  51%|█████▏    | 263/512 [05:18<05:16,  1.27s/it]"
     ]
    },
    {
     "name": "stdout",
     "output_type": "stream",
     "text": [
      "Epoch 1/1 => Loss: 1.0477, Special-Token Accuracy: 77.17%\n"
     ]
    },
    {
     "name": "stderr",
     "output_type": "stream",
     "text": [
      "Epoch 1/1: 100%|██████████| 11/11 [00:01<00:00,  8.54it/s, loss=1.0379, acc=78.42%]\n",
      "TOTAL Epochs:  52%|█████▏    | 264/512 [05:19<05:17,  1.28s/it]"
     ]
    },
    {
     "name": "stdout",
     "output_type": "stream",
     "text": [
      "Epoch 1/1 => Loss: 1.0447, Special-Token Accuracy: 76.11%\n"
     ]
    },
    {
     "name": "stderr",
     "output_type": "stream",
     "text": [
      "Epoch 1/1: 100%|██████████| 11/11 [00:01<00:00,  8.56it/s, loss=1.0819, acc=76.95%]\n",
      "TOTAL Epochs:  52%|█████▏    | 265/512 [05:21<05:16,  1.28s/it]"
     ]
    },
    {
     "name": "stdout",
     "output_type": "stream",
     "text": [
      "Epoch 1/1 => Loss: 1.0375, Special-Token Accuracy: 77.56%\n"
     ]
    },
    {
     "name": "stderr",
     "output_type": "stream",
     "text": [
      "Epoch 1/1: 100%|██████████| 11/11 [00:01<00:00,  8.52it/s, loss=1.0175, acc=76.87%]\n",
      "TOTAL Epochs:  52%|█████▏    | 266/512 [05:22<05:16,  1.29s/it]"
     ]
    },
    {
     "name": "stdout",
     "output_type": "stream",
     "text": [
      "Epoch 1/1 => Loss: 1.0379, Special-Token Accuracy: 76.89%\n"
     ]
    },
    {
     "name": "stderr",
     "output_type": "stream",
     "text": [
      "Epoch 1/1: 100%|██████████| 11/11 [00:01<00:00,  8.50it/s, loss=1.0531, acc=76.23%]\n",
      "TOTAL Epochs:  52%|█████▏    | 267/512 [05:23<05:16,  1.29s/it]"
     ]
    },
    {
     "name": "stdout",
     "output_type": "stream",
     "text": [
      "Epoch 1/1 => Loss: 1.0364, Special-Token Accuracy: 77.55%\n"
     ]
    },
    {
     "name": "stderr",
     "output_type": "stream",
     "text": [
      "Epoch 1/1: 100%|██████████| 11/11 [00:01<00:00,  8.55it/s, loss=1.0288, acc=79.82%]\n",
      "TOTAL Epochs:  52%|█████▏    | 268/512 [05:24<05:15,  1.29s/it]"
     ]
    },
    {
     "name": "stdout",
     "output_type": "stream",
     "text": [
      "Epoch 1/1 => Loss: 1.0408, Special-Token Accuracy: 77.32%\n"
     ]
    },
    {
     "name": "stderr",
     "output_type": "stream",
     "text": [
      "Epoch 1/1: 100%|██████████| 11/11 [00:01<00:00,  8.53it/s, loss=1.0631, acc=76.21%]\n",
      "TOTAL Epochs:  53%|█████▎    | 269/512 [05:26<05:14,  1.29s/it]"
     ]
    },
    {
     "name": "stdout",
     "output_type": "stream",
     "text": [
      "Epoch 1/1 => Loss: 1.0398, Special-Token Accuracy: 77.17%\n"
     ]
    },
    {
     "name": "stderr",
     "output_type": "stream",
     "text": [
      "Epoch 1/1: 100%|██████████| 11/11 [00:01<00:00,  8.50it/s, loss=1.0420, acc=74.84%]\n",
      "TOTAL Epochs:  53%|█████▎    | 270/512 [05:27<05:13,  1.29s/it]"
     ]
    },
    {
     "name": "stdout",
     "output_type": "stream",
     "text": [
      "Epoch 1/1 => Loss: 1.0453, Special-Token Accuracy: 78.00%\n"
     ]
    },
    {
     "name": "stderr",
     "output_type": "stream",
     "text": [
      "Epoch 1/1: 100%|██████████| 11/11 [00:01<00:00,  8.51it/s, loss=1.0751, acc=77.85%]\n",
      "TOTAL Epochs:  53%|█████▎    | 271/512 [05:28<05:12,  1.30s/it]"
     ]
    },
    {
     "name": "stdout",
     "output_type": "stream",
     "text": [
      "Epoch 1/1 => Loss: 1.0444, Special-Token Accuracy: 77.16%\n"
     ]
    },
    {
     "name": "stderr",
     "output_type": "stream",
     "text": [
      "Epoch 1/1: 100%|██████████| 11/11 [00:01<00:00,  8.50it/s, loss=1.0800, acc=75.91%]\n",
      "TOTAL Epochs:  53%|█████▎    | 272/512 [05:30<05:11,  1.30s/it]"
     ]
    },
    {
     "name": "stdout",
     "output_type": "stream",
     "text": [
      "Epoch 1/1 => Loss: 1.0560, Special-Token Accuracy: 76.33%\n"
     ]
    },
    {
     "name": "stderr",
     "output_type": "stream",
     "text": [
      "Epoch 1/1: 100%|██████████| 11/11 [00:01<00:00,  8.57it/s, loss=1.0314, acc=78.90%]\n",
      "TOTAL Epochs:  53%|█████▎    | 273/512 [05:31<05:09,  1.29s/it]"
     ]
    },
    {
     "name": "stdout",
     "output_type": "stream",
     "text": [
      "Epoch 1/1 => Loss: 1.0348, Special-Token Accuracy: 76.35%\n"
     ]
    },
    {
     "name": "stderr",
     "output_type": "stream",
     "text": [
      "Epoch 1/1: 100%|██████████| 11/11 [00:01<00:00,  8.56it/s, loss=1.0265, acc=76.34%]\n",
      "TOTAL Epochs:  54%|█████▎    | 274/512 [05:32<05:07,  1.29s/it]"
     ]
    },
    {
     "name": "stdout",
     "output_type": "stream",
     "text": [
      "Epoch 1/1 => Loss: 1.0396, Special-Token Accuracy: 76.73%\n"
     ]
    },
    {
     "name": "stderr",
     "output_type": "stream",
     "text": [
      "Epoch 1/1: 100%|██████████| 11/11 [00:01<00:00,  8.57it/s, loss=1.0289, acc=77.48%]\n",
      "TOTAL Epochs:  54%|█████▎    | 275/512 [05:33<05:06,  1.29s/it]"
     ]
    },
    {
     "name": "stdout",
     "output_type": "stream",
     "text": [
      "Epoch 1/1 => Loss: 1.0420, Special-Token Accuracy: 77.05%\n"
     ]
    },
    {
     "name": "stderr",
     "output_type": "stream",
     "text": [
      "Epoch 1/1: 100%|██████████| 11/11 [00:01<00:00,  8.54it/s, loss=1.0678, acc=75.25%]\n",
      "TOTAL Epochs:  54%|█████▍    | 276/512 [05:35<05:05,  1.29s/it]"
     ]
    },
    {
     "name": "stdout",
     "output_type": "stream",
     "text": [
      "Epoch 1/1 => Loss: 1.0393, Special-Token Accuracy: 76.00%\n"
     ]
    },
    {
     "name": "stderr",
     "output_type": "stream",
     "text": [
      "Epoch 1/1: 100%|██████████| 11/11 [00:00<00:00, -16.32it/s, loss=1.0163, acc=76.94%]\n"
     ]
    },
    {
     "name": "stdout",
     "output_type": "stream",
     "text": [
      "Epoch 1/1 => Loss: 1.0336, Special-Token Accuracy: 77.16%\n"
     ]
    },
    {
     "name": "stderr",
     "output_type": "stream",
     "text": [
      "Epoch 1/1: 100%|██████████| 11/11 [00:01<00:00,  8.55it/s, loss=1.0553, acc=78.30%]\n",
      "TOTAL Epochs:  54%|█████▍    | 278/512 [05:35<03:16,  1.19it/s]"
     ]
    },
    {
     "name": "stdout",
     "output_type": "stream",
     "text": [
      "Epoch 1/1 => Loss: 1.0436, Special-Token Accuracy: 77.30%\n"
     ]
    },
    {
     "name": "stderr",
     "output_type": "stream",
     "text": [
      "Epoch 1/1: 100%|██████████| 11/11 [00:01<00:00,  8.48it/s, loss=1.0414, acc=77.28%]\n",
      "TOTAL Epochs:  54%|█████▍    | 279/512 [05:37<03:42,  1.05it/s]"
     ]
    },
    {
     "name": "stdout",
     "output_type": "stream",
     "text": [
      "Epoch 1/1 => Loss: 1.0480, Special-Token Accuracy: 77.19%\n"
     ]
    },
    {
     "name": "stderr",
     "output_type": "stream",
     "text": [
      "Epoch 1/1: 100%|██████████| 11/11 [00:01<00:00,  8.58it/s, loss=1.0117, acc=78.06%]\n",
      "TOTAL Epochs:  55%|█████▍    | 280/512 [05:38<04:01,  1.04s/it]"
     ]
    },
    {
     "name": "stdout",
     "output_type": "stream",
     "text": [
      "Epoch 1/1 => Loss: 1.0448, Special-Token Accuracy: 77.18%\n"
     ]
    },
    {
     "name": "stderr",
     "output_type": "stream",
     "text": [
      "Epoch 1/1: 100%|██████████| 11/11 [00:01<00:00,  8.57it/s, loss=1.0422, acc=74.37%]\n",
      "TOTAL Epochs:  55%|█████▍    | 281/512 [05:39<04:16,  1.11s/it]"
     ]
    },
    {
     "name": "stdout",
     "output_type": "stream",
     "text": [
      "Epoch 1/1 => Loss: 1.0351, Special-Token Accuracy: 77.42%\n"
     ]
    },
    {
     "name": "stderr",
     "output_type": "stream",
     "text": [
      "Epoch 1/1: 100%|██████████| 11/11 [00:01<00:00,  8.59it/s, loss=1.0171, acc=78.77%]\n",
      "TOTAL Epochs:  55%|█████▌    | 282/512 [05:41<04:26,  1.16s/it]"
     ]
    },
    {
     "name": "stdout",
     "output_type": "stream",
     "text": [
      "Epoch 1/1 => Loss: 1.0276, Special-Token Accuracy: 77.17%\n"
     ]
    },
    {
     "name": "stderr",
     "output_type": "stream",
     "text": [
      "Epoch 1/1: 100%|██████████| 11/11 [00:01<00:00,  8.56it/s, loss=1.0714, acc=76.28%]\n",
      "TOTAL Epochs:  55%|█████▌    | 283/512 [05:42<04:34,  1.20s/it]"
     ]
    },
    {
     "name": "stdout",
     "output_type": "stream",
     "text": [
      "Epoch 1/1 => Loss: 1.0329, Special-Token Accuracy: 77.38%\n"
     ]
    },
    {
     "name": "stderr",
     "output_type": "stream",
     "text": [
      "Epoch 1/1: 100%|██████████| 11/11 [00:01<00:00,  8.57it/s, loss=1.0373, acc=77.66%]\n",
      "TOTAL Epochs:  55%|█████▌    | 284/512 [05:43<04:39,  1.22s/it]"
     ]
    },
    {
     "name": "stdout",
     "output_type": "stream",
     "text": [
      "Epoch 1/1 => Loss: 1.0304, Special-Token Accuracy: 76.96%\n"
     ]
    },
    {
     "name": "stderr",
     "output_type": "stream",
     "text": [
      "Epoch 1/1: 100%|██████████| 11/11 [00:01<00:00,  8.55it/s, loss=1.0574, acc=76.18%]\n",
      "TOTAL Epochs:  56%|█████▌    | 285/512 [05:44<04:42,  1.24s/it]"
     ]
    },
    {
     "name": "stdout",
     "output_type": "stream",
     "text": [
      "Epoch 1/1 => Loss: 1.0337, Special-Token Accuracy: 78.40%\n"
     ]
    },
    {
     "name": "stderr",
     "output_type": "stream",
     "text": [
      "Epoch 1/1: 100%|██████████| 11/11 [00:01<00:00,  8.55it/s, loss=1.0097, acc=77.19%]\n",
      "TOTAL Epochs:  56%|█████▌    | 286/512 [05:46<04:44,  1.26s/it]"
     ]
    },
    {
     "name": "stdout",
     "output_type": "stream",
     "text": [
      "Epoch 1/1 => Loss: 1.0331, Special-Token Accuracy: 77.59%\n"
     ]
    },
    {
     "name": "stderr",
     "output_type": "stream",
     "text": [
      "Epoch 1/1: 100%|██████████| 11/11 [00:01<00:00,  8.54it/s, loss=1.0768, acc=77.08%]\n",
      "TOTAL Epochs:  56%|█████▌    | 287/512 [05:47<04:45,  1.27s/it]"
     ]
    },
    {
     "name": "stdout",
     "output_type": "stream",
     "text": [
      "Epoch 1/1 => Loss: 1.0291, Special-Token Accuracy: 78.13%\n"
     ]
    },
    {
     "name": "stderr",
     "output_type": "stream",
     "text": [
      "Epoch 1/1: 100%|██████████| 11/11 [00:01<00:00,  8.59it/s, loss=1.0537, acc=76.87%]\n",
      "TOTAL Epochs:  56%|█████▋    | 288/512 [05:48<04:45,  1.27s/it]"
     ]
    },
    {
     "name": "stdout",
     "output_type": "stream",
     "text": [
      "Epoch 1/1 => Loss: 1.0259, Special-Token Accuracy: 77.75%\n"
     ]
    },
    {
     "name": "stderr",
     "output_type": "stream",
     "text": [
      "Epoch 1/1: 100%|██████████| 11/11 [00:01<00:00,  8.52it/s, loss=1.0461, acc=77.63%]\n",
      "TOTAL Epochs:  56%|█████▋    | 289/512 [05:50<04:45,  1.28s/it]"
     ]
    },
    {
     "name": "stdout",
     "output_type": "stream",
     "text": [
      "Epoch 1/1 => Loss: 1.0305, Special-Token Accuracy: 79.01%\n"
     ]
    },
    {
     "name": "stderr",
     "output_type": "stream",
     "text": [
      "Epoch 1/1: 100%|██████████| 11/11 [00:01<00:00,  8.51it/s, loss=1.0457, acc=79.63%]\n",
      "TOTAL Epochs:  57%|█████▋    | 290/512 [05:51<04:45,  1.29s/it]"
     ]
    },
    {
     "name": "stdout",
     "output_type": "stream",
     "text": [
      "Epoch 1/1 => Loss: 1.0327, Special-Token Accuracy: 78.27%\n"
     ]
    },
    {
     "name": "stderr",
     "output_type": "stream",
     "text": [
      "Epoch 1/1: 100%|██████████| 11/11 [00:01<00:00,  8.56it/s, loss=0.9978, acc=79.91%]\n",
      "TOTAL Epochs:  57%|█████▋    | 291/512 [05:52<04:44,  1.29s/it]"
     ]
    },
    {
     "name": "stdout",
     "output_type": "stream",
     "text": [
      "Epoch 1/1 => Loss: 1.0209, Special-Token Accuracy: 79.26%\n"
     ]
    },
    {
     "name": "stderr",
     "output_type": "stream",
     "text": [
      "Epoch 1/1: 100%|██████████| 11/11 [00:01<00:00,  8.54it/s, loss=1.0378, acc=78.33%]\n",
      "TOTAL Epochs:  57%|█████▋    | 292/512 [05:53<04:43,  1.29s/it]"
     ]
    },
    {
     "name": "stdout",
     "output_type": "stream",
     "text": [
      "Epoch 1/1 => Loss: 1.0294, Special-Token Accuracy: 78.88%\n"
     ]
    },
    {
     "name": "stderr",
     "output_type": "stream",
     "text": [
      "Epoch 1/1: 100%|██████████| 11/11 [00:01<00:00,  8.59it/s, loss=1.0254, acc=79.03%]\n",
      "TOTAL Epochs:  57%|█████▋    | 293/512 [05:55<04:42,  1.29s/it]"
     ]
    },
    {
     "name": "stdout",
     "output_type": "stream",
     "text": [
      "Epoch 1/1 => Loss: 1.0214, Special-Token Accuracy: 78.89%\n"
     ]
    },
    {
     "name": "stderr",
     "output_type": "stream",
     "text": [
      "Epoch 1/1: 100%|██████████| 11/11 [00:01<00:00,  8.59it/s, loss=1.0093, acc=77.21%]\n",
      "TOTAL Epochs:  57%|█████▋    | 294/512 [05:56<04:40,  1.29s/it]"
     ]
    },
    {
     "name": "stdout",
     "output_type": "stream",
     "text": [
      "Epoch 1/1 => Loss: 1.0216, Special-Token Accuracy: 78.97%\n"
     ]
    },
    {
     "name": "stderr",
     "output_type": "stream",
     "text": [
      "Epoch 1/1: 100%|██████████| 11/11 [00:01<00:00,  8.54it/s, loss=1.0241, acc=79.77%]\n",
      "TOTAL Epochs:  58%|█████▊    | 295/512 [05:57<04:39,  1.29s/it]"
     ]
    },
    {
     "name": "stdout",
     "output_type": "stream",
     "text": [
      "Epoch 1/1 => Loss: 1.0062, Special-Token Accuracy: 79.33%\n"
     ]
    },
    {
     "name": "stderr",
     "output_type": "stream",
     "text": [
      "Epoch 1/1: 100%|██████████| 11/11 [00:01<00:00,  8.60it/s, loss=1.0176, acc=81.27%]\n",
      "TOTAL Epochs:  58%|█████▊    | 296/512 [05:59<04:38,  1.29s/it]"
     ]
    },
    {
     "name": "stdout",
     "output_type": "stream",
     "text": [
      "Epoch 1/1 => Loss: 1.0176, Special-Token Accuracy: 79.76%\n"
     ]
    },
    {
     "name": "stderr",
     "output_type": "stream",
     "text": [
      "Epoch 1/1: 100%|██████████| 11/11 [00:01<00:00,  8.55it/s, loss=1.0112, acc=78.56%]\n",
      "TOTAL Epochs:  58%|█████▊    | 297/512 [06:00<04:37,  1.29s/it]"
     ]
    },
    {
     "name": "stdout",
     "output_type": "stream",
     "text": [
      "Epoch 1/1 => Loss: 1.0224, Special-Token Accuracy: 79.19%\n"
     ]
    },
    {
     "name": "stderr",
     "output_type": "stream",
     "text": [
      "Epoch 1/1: 100%|██████████| 11/11 [00:01<00:00,  8.53it/s, loss=1.0260, acc=80.23%]\n",
      "TOTAL Epochs:  58%|█████▊    | 298/512 [06:01<04:36,  1.29s/it]"
     ]
    },
    {
     "name": "stdout",
     "output_type": "stream",
     "text": [
      "Epoch 1/1 => Loss: 1.0195, Special-Token Accuracy: 79.66%\n"
     ]
    },
    {
     "name": "stderr",
     "output_type": "stream",
     "text": [
      "Epoch 1/1: 100%|██████████| 11/11 [00:01<00:00,  8.48it/s, loss=1.0080, acc=80.56%]\n",
      "TOTAL Epochs:  58%|█████▊    | 299/512 [06:03<04:35,  1.29s/it]"
     ]
    },
    {
     "name": "stdout",
     "output_type": "stream",
     "text": [
      "Epoch 1/1 => Loss: 1.0214, Special-Token Accuracy: 79.31%\n"
     ]
    },
    {
     "name": "stderr",
     "output_type": "stream",
     "text": [
      "Epoch 1/1: 100%|██████████| 11/11 [00:01<00:00,  8.57it/s, loss=1.0051, acc=79.01%]\n",
      "TOTAL Epochs:  59%|█████▊    | 300/512 [06:04<04:34,  1.29s/it]"
     ]
    },
    {
     "name": "stdout",
     "output_type": "stream",
     "text": [
      "Epoch 1/1 => Loss: 1.0133, Special-Token Accuracy: 79.59%\n"
     ]
    },
    {
     "name": "stderr",
     "output_type": "stream",
     "text": [
      "Epoch 1/1: 100%|██████████| 11/11 [00:01<00:00,  8.53it/s, loss=1.0002, acc=81.52%]\n",
      "TOTAL Epochs:  59%|█████▉    | 301/512 [06:05<04:32,  1.29s/it]"
     ]
    },
    {
     "name": "stdout",
     "output_type": "stream",
     "text": [
      "Epoch 1/1 => Loss: 1.0177, Special-Token Accuracy: 79.65%\n"
     ]
    },
    {
     "name": "stderr",
     "output_type": "stream",
     "text": [
      "Epoch 1/1: 100%|██████████| 11/11 [00:00<00:00, -17.58it/s, loss=0.9708, acc=79.39%]\n"
     ]
    },
    {
     "name": "stdout",
     "output_type": "stream",
     "text": [
      "Epoch 1/1 => Loss: 1.0238, Special-Token Accuracy: 79.46%\n"
     ]
    },
    {
     "name": "stderr",
     "output_type": "stream",
     "text": [
      "Epoch 1/1: 100%|██████████| 11/11 [00:01<00:00,  8.56it/s, loss=1.0256, acc=79.82%]\n",
      "TOTAL Epochs:  59%|█████▉    | 303/512 [06:06<02:57,  1.17it/s]"
     ]
    },
    {
     "name": "stdout",
     "output_type": "stream",
     "text": [
      "Epoch 1/1 => Loss: 1.0182, Special-Token Accuracy: 79.51%\n"
     ]
    },
    {
     "name": "stderr",
     "output_type": "stream",
     "text": [
      "Epoch 1/1: 100%|██████████| 11/11 [00:01<00:00,  8.59it/s, loss=1.0079, acc=79.15%]\n",
      "TOTAL Epochs:  59%|█████▉    | 304/512 [06:07<03:19,  1.04it/s]"
     ]
    },
    {
     "name": "stdout",
     "output_type": "stream",
     "text": [
      "Epoch 1/1 => Loss: 1.0159, Special-Token Accuracy: 79.41%\n"
     ]
    },
    {
     "name": "stderr",
     "output_type": "stream",
     "text": [
      "Epoch 1/1: 100%|██████████| 11/11 [00:01<00:00,  8.53it/s, loss=1.0253, acc=80.13%]\n",
      "TOTAL Epochs:  60%|█████▉    | 305/512 [06:08<03:36,  1.05s/it]"
     ]
    },
    {
     "name": "stdout",
     "output_type": "stream",
     "text": [
      "Epoch 1/1 => Loss: 1.0226, Special-Token Accuracy: 79.29%\n"
     ]
    },
    {
     "name": "stderr",
     "output_type": "stream",
     "text": [
      "Epoch 1/1: 100%|██████████| 11/11 [00:01<00:00,  8.55it/s, loss=1.0181, acc=80.52%]\n",
      "TOTAL Epochs:  60%|█████▉    | 306/512 [06:10<03:49,  1.11s/it]"
     ]
    },
    {
     "name": "stdout",
     "output_type": "stream",
     "text": [
      "Epoch 1/1 => Loss: 1.0220, Special-Token Accuracy: 79.08%\n"
     ]
    },
    {
     "name": "stderr",
     "output_type": "stream",
     "text": [
      "Epoch 1/1: 100%|██████████| 11/11 [00:01<00:00,  8.45it/s, loss=1.0227, acc=79.69%]\n",
      "TOTAL Epochs:  60%|█████▉    | 307/512 [06:11<03:59,  1.17s/it]"
     ]
    },
    {
     "name": "stdout",
     "output_type": "stream",
     "text": [
      "Epoch 1/1 => Loss: 1.0192, Special-Token Accuracy: 80.56%\n"
     ]
    },
    {
     "name": "stderr",
     "output_type": "stream",
     "text": [
      "Epoch 1/1: 100%|██████████| 11/11 [00:01<00:00,  8.48it/s, loss=0.9999, acc=80.19%]\n",
      "TOTAL Epochs:  60%|██████    | 308/512 [06:12<04:06,  1.21s/it]"
     ]
    },
    {
     "name": "stdout",
     "output_type": "stream",
     "text": [
      "Epoch 1/1 => Loss: 1.0260, Special-Token Accuracy: 79.68%\n"
     ]
    },
    {
     "name": "stderr",
     "output_type": "stream",
     "text": [
      "Epoch 1/1: 100%|██████████| 11/11 [00:01<00:00,  8.57it/s, loss=1.0260, acc=76.99%]\n",
      "TOTAL Epochs:  60%|██████    | 309/512 [06:14<04:09,  1.23s/it]"
     ]
    },
    {
     "name": "stdout",
     "output_type": "stream",
     "text": [
      "Epoch 1/1 => Loss: 1.0147, Special-Token Accuracy: 79.08%\n"
     ]
    },
    {
     "name": "stderr",
     "output_type": "stream",
     "text": [
      "Epoch 1/1: 100%|██████████| 11/11 [00:01<00:00,  8.53it/s, loss=0.9842, acc=80.90%]\n",
      "TOTAL Epochs:  61%|██████    | 310/512 [06:15<04:12,  1.25s/it]"
     ]
    },
    {
     "name": "stdout",
     "output_type": "stream",
     "text": [
      "Epoch 1/1 => Loss: 1.0138, Special-Token Accuracy: 79.87%\n"
     ]
    },
    {
     "name": "stderr",
     "output_type": "stream",
     "text": [
      "Epoch 1/1: 100%|██████████| 11/11 [00:01<00:00,  8.54it/s, loss=1.0009, acc=78.81%]\n",
      "TOTAL Epochs:  61%|██████    | 311/512 [06:16<04:13,  1.26s/it]"
     ]
    },
    {
     "name": "stdout",
     "output_type": "stream",
     "text": [
      "Epoch 1/1 => Loss: 1.0200, Special-Token Accuracy: 79.15%\n"
     ]
    },
    {
     "name": "stderr",
     "output_type": "stream",
     "text": [
      "Epoch 1/1: 100%|██████████| 11/11 [00:01<00:00,  8.59it/s, loss=1.0207, acc=79.82%]\n",
      "TOTAL Epochs:  61%|██████    | 312/512 [06:17<04:13,  1.27s/it]"
     ]
    },
    {
     "name": "stdout",
     "output_type": "stream",
     "text": [
      "Epoch 1/1 => Loss: 1.0128, Special-Token Accuracy: 80.06%\n"
     ]
    },
    {
     "name": "stderr",
     "output_type": "stream",
     "text": [
      "Epoch 1/1: 100%|██████████| 11/11 [00:01<00:00,  8.54it/s, loss=1.0276, acc=81.00%]\n",
      "TOTAL Epochs:  61%|██████    | 313/512 [06:19<04:14,  1.28s/it]"
     ]
    },
    {
     "name": "stdout",
     "output_type": "stream",
     "text": [
      "Epoch 1/1 => Loss: 1.0071, Special-Token Accuracy: 80.04%\n"
     ]
    },
    {
     "name": "stderr",
     "output_type": "stream",
     "text": [
      "Epoch 1/1: 100%|██████████| 11/11 [00:01<00:00,  8.51it/s, loss=0.9978, acc=80.85%]\n",
      "TOTAL Epochs:  61%|██████▏   | 314/512 [06:20<04:14,  1.28s/it]"
     ]
    },
    {
     "name": "stdout",
     "output_type": "stream",
     "text": [
      "Epoch 1/1 => Loss: 1.0109, Special-Token Accuracy: 80.76%\n"
     ]
    },
    {
     "name": "stderr",
     "output_type": "stream",
     "text": [
      "Epoch 1/1: 100%|██████████| 11/11 [00:01<00:00,  8.49it/s, loss=1.0170, acc=81.96%]\n",
      "TOTAL Epochs:  62%|██████▏   | 315/512 [06:21<04:13,  1.29s/it]"
     ]
    },
    {
     "name": "stdout",
     "output_type": "stream",
     "text": [
      "Epoch 1/1 => Loss: 1.0133, Special-Token Accuracy: 80.76%\n"
     ]
    },
    {
     "name": "stderr",
     "output_type": "stream",
     "text": [
      "Epoch 1/1: 100%|██████████| 11/11 [00:01<00:00,  8.50it/s, loss=1.0324, acc=78.85%]\n",
      "TOTAL Epochs:  62%|██████▏   | 316/512 [06:23<04:13,  1.29s/it]"
     ]
    },
    {
     "name": "stdout",
     "output_type": "stream",
     "text": [
      "Epoch 1/1 => Loss: 1.0096, Special-Token Accuracy: 80.29%\n"
     ]
    },
    {
     "name": "stderr",
     "output_type": "stream",
     "text": [
      "Epoch 1/1: 100%|██████████| 11/11 [00:01<00:00,  8.62it/s, loss=1.0227, acc=80.00%]\n",
      "TOTAL Epochs:  62%|██████▏   | 317/512 [06:24<04:11,  1.29s/it]"
     ]
    },
    {
     "name": "stdout",
     "output_type": "stream",
     "text": [
      "Epoch 1/1 => Loss: 1.0069, Special-Token Accuracy: 80.49%\n"
     ]
    },
    {
     "name": "stderr",
     "output_type": "stream",
     "text": [
      "Epoch 1/1: 100%|██████████| 11/11 [00:01<00:00,  8.53it/s, loss=1.0185, acc=80.85%]\n",
      "TOTAL Epochs:  62%|██████▏   | 318/512 [06:25<04:10,  1.29s/it]"
     ]
    },
    {
     "name": "stdout",
     "output_type": "stream",
     "text": [
      "Epoch 1/1 => Loss: 1.0093, Special-Token Accuracy: 80.77%\n"
     ]
    },
    {
     "name": "stderr",
     "output_type": "stream",
     "text": [
      "Epoch 1/1: 100%|██████████| 11/11 [00:01<00:00,  8.57it/s, loss=1.0121, acc=79.93%]\n",
      "TOTAL Epochs:  62%|██████▏   | 319/512 [06:26<04:09,  1.29s/it]"
     ]
    },
    {
     "name": "stdout",
     "output_type": "stream",
     "text": [
      "Epoch 1/1 => Loss: 1.0094, Special-Token Accuracy: 80.25%\n"
     ]
    },
    {
     "name": "stderr",
     "output_type": "stream",
     "text": [
      "Epoch 1/1: 100%|██████████| 11/11 [00:01<00:00,  8.61it/s, loss=0.9911, acc=82.12%]\n",
      "TOTAL Epochs:  62%|██████▎   | 320/512 [06:28<04:07,  1.29s/it]"
     ]
    },
    {
     "name": "stdout",
     "output_type": "stream",
     "text": [
      "Epoch 1/1 => Loss: 1.0064, Special-Token Accuracy: 80.89%\n"
     ]
    },
    {
     "name": "stderr",
     "output_type": "stream",
     "text": [
      "Epoch 1/1: 100%|██████████| 11/11 [00:01<00:00,  8.57it/s, loss=0.9937, acc=77.78%]\n",
      "TOTAL Epochs:  63%|██████▎   | 321/512 [06:29<04:06,  1.29s/it]"
     ]
    },
    {
     "name": "stdout",
     "output_type": "stream",
     "text": [
      "Epoch 1/1 => Loss: 1.0151, Special-Token Accuracy: 79.74%\n"
     ]
    },
    {
     "name": "stderr",
     "output_type": "stream",
     "text": [
      "Epoch 1/1: 100%|██████████| 11/11 [00:01<00:00,  8.57it/s, loss=0.9833, acc=81.80%]\n",
      "TOTAL Epochs:  63%|██████▎   | 322/512 [06:30<04:04,  1.29s/it]"
     ]
    },
    {
     "name": "stdout",
     "output_type": "stream",
     "text": [
      "Epoch 1/1 => Loss: 1.0047, Special-Token Accuracy: 80.66%\n"
     ]
    },
    {
     "name": "stderr",
     "output_type": "stream",
     "text": [
      "Epoch 1/1: 100%|██████████| 11/11 [00:01<00:00,  8.47it/s, loss=0.9998, acc=81.17%]\n",
      "TOTAL Epochs:  63%|██████▎   | 323/512 [06:32<04:04,  1.29s/it]"
     ]
    },
    {
     "name": "stdout",
     "output_type": "stream",
     "text": [
      "Epoch 1/1 => Loss: 1.0186, Special-Token Accuracy: 80.55%\n"
     ]
    },
    {
     "name": "stderr",
     "output_type": "stream",
     "text": [
      "Epoch 1/1: 100%|██████████| 11/11 [00:01<00:00,  8.57it/s, loss=1.0298, acc=79.38%]\n",
      "TOTAL Epochs:  63%|██████▎   | 324/512 [06:33<04:03,  1.29s/it]"
     ]
    },
    {
     "name": "stdout",
     "output_type": "stream",
     "text": [
      "Epoch 1/1 => Loss: 1.0133, Special-Token Accuracy: 80.62%\n"
     ]
    },
    {
     "name": "stderr",
     "output_type": "stream",
     "text": [
      "Epoch 1/1: 100%|██████████| 11/11 [00:01<00:00,  8.54it/s, loss=1.0057, acc=81.68%]\n",
      "TOTAL Epochs:  63%|██████▎   | 325/512 [06:34<04:01,  1.29s/it]"
     ]
    },
    {
     "name": "stdout",
     "output_type": "stream",
     "text": [
      "Epoch 1/1 => Loss: 1.0093, Special-Token Accuracy: 80.73%\n"
     ]
    },
    {
     "name": "stderr",
     "output_type": "stream",
     "text": [
      "Epoch 1/1: 100%|██████████| 11/11 [00:01<00:00,  8.57it/s, loss=1.0156, acc=79.22%]\n",
      "TOTAL Epochs:  64%|██████▎   | 326/512 [06:36<04:00,  1.29s/it]"
     ]
    },
    {
     "name": "stdout",
     "output_type": "stream",
     "text": [
      "Epoch 1/1 => Loss: 1.0104, Special-Token Accuracy: 80.13%\n"
     ]
    },
    {
     "name": "stderr",
     "output_type": "stream",
     "text": [
      "Epoch 1/1: 100%|██████████| 11/11 [00:00<00:00, -17.57it/s, loss=1.0252, acc=80.91%]\n"
     ]
    },
    {
     "name": "stdout",
     "output_type": "stream",
     "text": [
      "Epoch 1/1 => Loss: 1.0173, Special-Token Accuracy: 80.53%\n"
     ]
    },
    {
     "name": "stderr",
     "output_type": "stream",
     "text": [
      "Epoch 1/1: 100%|██████████| 11/11 [00:01<00:00,  8.61it/s, loss=1.0178, acc=81.09%]\n",
      "TOTAL Epochs:  64%|██████▍   | 328/512 [06:36<02:36,  1.18it/s]"
     ]
    },
    {
     "name": "stdout",
     "output_type": "stream",
     "text": [
      "Epoch 1/1 => Loss: 1.0149, Special-Token Accuracy: 80.30%\n"
     ]
    },
    {
     "name": "stderr",
     "output_type": "stream",
     "text": [
      "Epoch 1/1: 100%|██████████| 11/11 [00:01<00:00,  8.47it/s, loss=1.0241, acc=79.90%]\n",
      "TOTAL Epochs:  64%|██████▍   | 329/512 [06:38<02:55,  1.04it/s]"
     ]
    },
    {
     "name": "stdout",
     "output_type": "stream",
     "text": [
      "Epoch 1/1 => Loss: 1.0091, Special-Token Accuracy: 80.51%\n"
     ]
    },
    {
     "name": "stderr",
     "output_type": "stream",
     "text": [
      "Epoch 1/1: 100%|██████████| 11/11 [00:01<00:00,  8.55it/s, loss=1.0005, acc=82.24%]\n",
      "TOTAL Epochs:  64%|██████▍   | 330/512 [06:39<03:10,  1.05s/it]"
     ]
    },
    {
     "name": "stdout",
     "output_type": "stream",
     "text": [
      "Epoch 1/1 => Loss: 1.0117, Special-Token Accuracy: 80.83%\n"
     ]
    },
    {
     "name": "stderr",
     "output_type": "stream",
     "text": [
      "Epoch 1/1: 100%|██████████| 11/11 [00:01<00:00,  8.55it/s, loss=0.9837, acc=81.85%]\n",
      "TOTAL Epochs:  65%|██████▍   | 331/512 [06:40<03:21,  1.11s/it]"
     ]
    },
    {
     "name": "stdout",
     "output_type": "stream",
     "text": [
      "Epoch 1/1 => Loss: 1.0055, Special-Token Accuracy: 81.56%\n"
     ]
    },
    {
     "name": "stderr",
     "output_type": "stream",
     "text": [
      "Epoch 1/1: 100%|██████████| 11/11 [00:01<00:00,  8.58it/s, loss=0.9820, acc=79.92%]\n",
      "TOTAL Epochs:  65%|██████▍   | 332/512 [06:41<03:29,  1.16s/it]"
     ]
    },
    {
     "name": "stdout",
     "output_type": "stream",
     "text": [
      "Epoch 1/1 => Loss: 1.0114, Special-Token Accuracy: 80.55%\n"
     ]
    },
    {
     "name": "stderr",
     "output_type": "stream",
     "text": [
      "Epoch 1/1: 100%|██████████| 11/11 [00:01<00:00,  8.56it/s, loss=1.0155, acc=79.94%]\n",
      "TOTAL Epochs:  65%|██████▌   | 333/512 [06:43<03:34,  1.20s/it]"
     ]
    },
    {
     "name": "stdout",
     "output_type": "stream",
     "text": [
      "Epoch 1/1 => Loss: 1.0124, Special-Token Accuracy: 80.49%\n"
     ]
    },
    {
     "name": "stderr",
     "output_type": "stream",
     "text": [
      "Epoch 1/1: 100%|██████████| 11/11 [00:01<00:00,  8.57it/s, loss=0.9900, acc=81.53%]\n",
      "TOTAL Epochs:  65%|██████▌   | 334/512 [06:44<03:38,  1.23s/it]"
     ]
    },
    {
     "name": "stdout",
     "output_type": "stream",
     "text": [
      "Epoch 1/1 => Loss: 1.0084, Special-Token Accuracy: 81.22%\n"
     ]
    },
    {
     "name": "stderr",
     "output_type": "stream",
     "text": [
      "Epoch 1/1: 100%|██████████| 11/11 [00:01<00:00,  8.54it/s, loss=1.0377, acc=79.57%]\n",
      "TOTAL Epochs:  65%|██████▌   | 335/512 [06:45<03:40,  1.25s/it]"
     ]
    },
    {
     "name": "stdout",
     "output_type": "stream",
     "text": [
      "Epoch 1/1 => Loss: 1.0020, Special-Token Accuracy: 81.17%\n"
     ]
    },
    {
     "name": "stderr",
     "output_type": "stream",
     "text": [
      "Epoch 1/1: 100%|██████████| 11/11 [00:01<00:00,  8.55it/s, loss=0.9971, acc=80.40%]\n",
      "TOTAL Epochs:  66%|██████▌   | 336/512 [06:47<03:41,  1.26s/it]"
     ]
    },
    {
     "name": "stdout",
     "output_type": "stream",
     "text": [
      "Epoch 1/1 => Loss: 1.0039, Special-Token Accuracy: 80.90%\n"
     ]
    },
    {
     "name": "stderr",
     "output_type": "stream",
     "text": [
      "Epoch 1/1: 100%|██████████| 11/11 [00:01<00:00,  8.57it/s, loss=1.0152, acc=80.97%]\n",
      "TOTAL Epochs:  66%|██████▌   | 337/512 [06:48<03:41,  1.27s/it]"
     ]
    },
    {
     "name": "stdout",
     "output_type": "stream",
     "text": [
      "Epoch 1/1 => Loss: 1.0067, Special-Token Accuracy: 80.95%\n"
     ]
    },
    {
     "name": "stderr",
     "output_type": "stream",
     "text": [
      "Epoch 1/1: 100%|██████████| 11/11 [00:01<00:00,  8.61it/s, loss=1.0555, acc=80.54%]\n",
      "TOTAL Epochs:  66%|██████▌   | 338/512 [06:49<03:41,  1.27s/it]"
     ]
    },
    {
     "name": "stdout",
     "output_type": "stream",
     "text": [
      "Epoch 1/1 => Loss: 1.0151, Special-Token Accuracy: 80.66%\n"
     ]
    },
    {
     "name": "stderr",
     "output_type": "stream",
     "text": [
      "Epoch 1/1: 100%|██████████| 11/11 [00:01<00:00,  8.57it/s, loss=0.9861, acc=81.13%]\n",
      "TOTAL Epochs:  66%|██████▌   | 339/512 [06:50<03:41,  1.28s/it]"
     ]
    },
    {
     "name": "stdout",
     "output_type": "stream",
     "text": [
      "Epoch 1/1 => Loss: 1.0117, Special-Token Accuracy: 81.19%\n"
     ]
    },
    {
     "name": "stderr",
     "output_type": "stream",
     "text": [
      "Epoch 1/1: 100%|██████████| 11/11 [00:01<00:00,  8.54it/s, loss=1.0244, acc=80.90%]\n",
      "TOTAL Epochs:  66%|██████▋   | 340/512 [06:52<03:40,  1.28s/it]"
     ]
    },
    {
     "name": "stdout",
     "output_type": "stream",
     "text": [
      "Epoch 1/1 => Loss: 1.0121, Special-Token Accuracy: 80.82%\n"
     ]
    },
    {
     "name": "stderr",
     "output_type": "stream",
     "text": [
      "Epoch 1/1: 100%|██████████| 11/11 [00:01<00:00,  8.55it/s, loss=0.9879, acc=82.35%]\n",
      "TOTAL Epochs:  67%|██████▋   | 341/512 [06:53<03:39,  1.29s/it]"
     ]
    },
    {
     "name": "stdout",
     "output_type": "stream",
     "text": [
      "Epoch 1/1 => Loss: 1.0010, Special-Token Accuracy: 82.02%\n"
     ]
    },
    {
     "name": "stderr",
     "output_type": "stream",
     "text": [
      "Epoch 1/1: 100%|██████████| 11/11 [00:01<00:00,  8.54it/s, loss=1.0092, acc=80.31%]\n",
      "TOTAL Epochs:  67%|██████▋   | 342/512 [06:54<03:38,  1.29s/it]"
     ]
    },
    {
     "name": "stdout",
     "output_type": "stream",
     "text": [
      "Epoch 1/1 => Loss: 1.0070, Special-Token Accuracy: 81.13%\n"
     ]
    },
    {
     "name": "stderr",
     "output_type": "stream",
     "text": [
      "Epoch 1/1: 100%|██████████| 11/11 [00:01<00:00,  8.50it/s, loss=1.0168, acc=80.40%]\n",
      "TOTAL Epochs:  67%|██████▋   | 343/512 [06:56<03:38,  1.29s/it]"
     ]
    },
    {
     "name": "stdout",
     "output_type": "stream",
     "text": [
      "Epoch 1/1 => Loss: 1.0120, Special-Token Accuracy: 80.98%\n"
     ]
    },
    {
     "name": "stderr",
     "output_type": "stream",
     "text": [
      "Epoch 1/1: 100%|██████████| 11/11 [00:01<00:00,  8.40it/s, loss=1.0243, acc=79.72%]\n",
      "TOTAL Epochs:  67%|██████▋   | 344/512 [06:57<03:38,  1.30s/it]"
     ]
    },
    {
     "name": "stdout",
     "output_type": "stream",
     "text": [
      "Epoch 1/1 => Loss: 1.0073, Special-Token Accuracy: 81.06%\n"
     ]
    },
    {
     "name": "stderr",
     "output_type": "stream",
     "text": [
      "Epoch 1/1: 100%|██████████| 11/11 [00:01<00:00,  8.61it/s, loss=1.0134, acc=81.11%]\n",
      "TOTAL Epochs:  67%|██████▋   | 345/512 [06:58<03:36,  1.29s/it]"
     ]
    },
    {
     "name": "stdout",
     "output_type": "stream",
     "text": [
      "Epoch 1/1 => Loss: 1.0072, Special-Token Accuracy: 81.25%\n"
     ]
    },
    {
     "name": "stderr",
     "output_type": "stream",
     "text": [
      "Epoch 1/1: 100%|██████████| 11/11 [00:01<00:00,  8.54it/s, loss=1.0138, acc=81.07%]\n",
      "TOTAL Epochs:  68%|██████▊   | 346/512 [06:59<03:34,  1.29s/it]"
     ]
    },
    {
     "name": "stdout",
     "output_type": "stream",
     "text": [
      "Epoch 1/1 => Loss: 1.0155, Special-Token Accuracy: 81.58%\n"
     ]
    },
    {
     "name": "stderr",
     "output_type": "stream",
     "text": [
      "Epoch 1/1: 100%|██████████| 11/11 [00:01<00:00,  8.52it/s, loss=1.0165, acc=82.79%]\n",
      "TOTAL Epochs:  68%|██████▊   | 347/512 [07:01<03:33,  1.30s/it]"
     ]
    },
    {
     "name": "stdout",
     "output_type": "stream",
     "text": [
      "Epoch 1/1 => Loss: 1.0096, Special-Token Accuracy: 81.88%\n"
     ]
    },
    {
     "name": "stderr",
     "output_type": "stream",
     "text": [
      "Epoch 1/1: 100%|██████████| 11/11 [00:01<00:00,  8.54it/s, loss=1.0175, acc=80.67%]\n",
      "TOTAL Epochs:  68%|██████▊   | 348/512 [07:02<03:32,  1.30s/it]"
     ]
    },
    {
     "name": "stdout",
     "output_type": "stream",
     "text": [
      "Epoch 1/1 => Loss: 1.0156, Special-Token Accuracy: 81.08%\n"
     ]
    },
    {
     "name": "stderr",
     "output_type": "stream",
     "text": [
      "Epoch 1/1: 100%|██████████| 11/11 [00:01<00:00,  8.55it/s, loss=1.0468, acc=80.97%]\n",
      "TOTAL Epochs:  68%|██████▊   | 349/512 [07:03<03:31,  1.29s/it]"
     ]
    },
    {
     "name": "stdout",
     "output_type": "stream",
     "text": [
      "Epoch 1/1 => Loss: 1.0086, Special-Token Accuracy: 81.84%\n"
     ]
    },
    {
     "name": "stderr",
     "output_type": "stream",
     "text": [
      "Epoch 1/1: 100%|██████████| 11/11 [00:01<00:00,  8.58it/s, loss=0.9949, acc=81.27%]\n",
      "TOTAL Epochs:  68%|██████▊   | 350/512 [07:05<03:29,  1.29s/it]"
     ]
    },
    {
     "name": "stdout",
     "output_type": "stream",
     "text": [
      "Epoch 1/1 => Loss: 1.0047, Special-Token Accuracy: 81.06%\n"
     ]
    },
    {
     "name": "stderr",
     "output_type": "stream",
     "text": [
      "Epoch 1/1: 100%|██████████| 11/11 [00:01<00:00,  8.52it/s, loss=1.0003, acc=81.88%]\n",
      "TOTAL Epochs:  69%|██████▊   | 351/512 [07:06<03:28,  1.29s/it]"
     ]
    },
    {
     "name": "stdout",
     "output_type": "stream",
     "text": [
      "Epoch 1/1 => Loss: 1.0090, Special-Token Accuracy: 80.94%\n"
     ]
    },
    {
     "name": "stderr",
     "output_type": "stream",
     "text": [
      "Epoch 1/1: 100%|██████████| 11/11 [00:00<00:00, -17.99it/s, loss=1.0104, acc=81.93%]\n"
     ]
    },
    {
     "name": "stdout",
     "output_type": "stream",
     "text": [
      "Epoch 1/1 => Loss: 1.0023, Special-Token Accuracy: 81.53%\n"
     ]
    },
    {
     "name": "stderr",
     "output_type": "stream",
     "text": [
      "Epoch 1/1: 100%|██████████| 11/11 [00:01<00:00,  8.55it/s, loss=0.9939, acc=83.03%]\n",
      "TOTAL Epochs:  69%|██████▉   | 353/512 [07:07<02:16,  1.17it/s]"
     ]
    },
    {
     "name": "stdout",
     "output_type": "stream",
     "text": [
      "Epoch 1/1 => Loss: 0.9964, Special-Token Accuracy: 82.15%\n"
     ]
    },
    {
     "name": "stderr",
     "output_type": "stream",
     "text": [
      "Epoch 1/1: 100%|██████████| 11/11 [00:01<00:00,  8.54it/s, loss=1.0228, acc=81.96%]\n",
      "TOTAL Epochs:  69%|██████▉   | 354/512 [07:08<02:32,  1.04it/s]"
     ]
    },
    {
     "name": "stdout",
     "output_type": "stream",
     "text": [
      "Epoch 1/1 => Loss: 0.9998, Special-Token Accuracy: 81.96%\n"
     ]
    },
    {
     "name": "stderr",
     "output_type": "stream",
     "text": [
      "Epoch 1/1: 100%|██████████| 11/11 [00:01<00:00,  8.56it/s, loss=0.9981, acc=81.87%]\n",
      "TOTAL Epochs:  69%|██████▉   | 355/512 [07:09<02:44,  1.05s/it]"
     ]
    },
    {
     "name": "stdout",
     "output_type": "stream",
     "text": [
      "Epoch 1/1 => Loss: 1.0030, Special-Token Accuracy: 81.41%\n"
     ]
    },
    {
     "name": "stderr",
     "output_type": "stream",
     "text": [
      "Epoch 1/1: 100%|██████████| 11/11 [00:01<00:00,  8.48it/s, loss=0.9997, acc=82.58%]\n",
      "TOTAL Epochs:  70%|██████▉   | 356/512 [07:11<02:54,  1.12s/it]"
     ]
    },
    {
     "name": "stdout",
     "output_type": "stream",
     "text": [
      "Epoch 1/1 => Loss: 0.9996, Special-Token Accuracy: 81.55%\n"
     ]
    },
    {
     "name": "stderr",
     "output_type": "stream",
     "text": [
      "Epoch 1/1: 100%|██████████| 11/11 [00:01<00:00,  8.60it/s, loss=1.0006, acc=82.98%]\n",
      "TOTAL Epochs:  70%|██████▉   | 357/512 [07:12<03:00,  1.17s/it]"
     ]
    },
    {
     "name": "stdout",
     "output_type": "stream",
     "text": [
      "Epoch 1/1 => Loss: 1.0073, Special-Token Accuracy: 81.75%\n"
     ]
    },
    {
     "name": "stderr",
     "output_type": "stream",
     "text": [
      "Epoch 1/1: 100%|██████████| 11/11 [00:01<00:00,  8.53it/s, loss=0.9965, acc=81.80%]\n",
      "TOTAL Epochs:  70%|██████▉   | 358/512 [07:13<03:05,  1.20s/it]"
     ]
    },
    {
     "name": "stdout",
     "output_type": "stream",
     "text": [
      "Epoch 1/1 => Loss: 1.0000, Special-Token Accuracy: 81.47%\n"
     ]
    },
    {
     "name": "stderr",
     "output_type": "stream",
     "text": [
      "Epoch 1/1: 100%|██████████| 11/11 [00:01<00:00,  8.49it/s, loss=1.0029, acc=82.33%]\n",
      "TOTAL Epochs:  70%|███████   | 359/512 [07:14<03:08,  1.23s/it]"
     ]
    },
    {
     "name": "stdout",
     "output_type": "stream",
     "text": [
      "Epoch 1/1 => Loss: 1.0086, Special-Token Accuracy: 81.59%\n"
     ]
    },
    {
     "name": "stderr",
     "output_type": "stream",
     "text": [
      "Epoch 1/1: 100%|██████████| 11/11 [00:01<00:00,  8.37it/s, loss=1.0296, acc=81.65%]\n",
      "TOTAL Epochs:  70%|███████   | 360/512 [07:16<03:11,  1.26s/it]"
     ]
    },
    {
     "name": "stdout",
     "output_type": "stream",
     "text": [
      "Epoch 1/1 => Loss: 0.9973, Special-Token Accuracy: 82.57%\n"
     ]
    },
    {
     "name": "stderr",
     "output_type": "stream",
     "text": [
      "Epoch 1/1: 100%|██████████| 11/11 [00:01<00:00,  8.51it/s, loss=1.0209, acc=82.47%]\n",
      "TOTAL Epochs:  71%|███████   | 361/512 [07:17<03:11,  1.27s/it]"
     ]
    },
    {
     "name": "stdout",
     "output_type": "stream",
     "text": [
      "Epoch 1/1 => Loss: 1.0070, Special-Token Accuracy: 81.72%\n"
     ]
    },
    {
     "name": "stderr",
     "output_type": "stream",
     "text": [
      "Epoch 1/1: 100%|██████████| 11/11 [00:01<00:00,  8.54it/s, loss=1.0027, acc=82.54%]\n",
      "TOTAL Epochs:  71%|███████   | 362/512 [07:18<03:11,  1.28s/it]"
     ]
    },
    {
     "name": "stdout",
     "output_type": "stream",
     "text": [
      "Epoch 1/1 => Loss: 1.0120, Special-Token Accuracy: 81.29%\n"
     ]
    },
    {
     "name": "stderr",
     "output_type": "stream",
     "text": [
      "Epoch 1/1: 100%|██████████| 11/11 [00:01<00:00,  8.56it/s, loss=1.0234, acc=79.79%]\n",
      "TOTAL Epochs:  71%|███████   | 363/512 [07:20<03:10,  1.28s/it]"
     ]
    },
    {
     "name": "stdout",
     "output_type": "stream",
     "text": [
      "Epoch 1/1 => Loss: 0.9992, Special-Token Accuracy: 82.20%\n"
     ]
    },
    {
     "name": "stderr",
     "output_type": "stream",
     "text": [
      "Epoch 1/1: 100%|██████████| 11/11 [00:01<00:00,  8.54it/s, loss=0.9921, acc=82.94%]\n",
      "TOTAL Epochs:  71%|███████   | 364/512 [07:21<03:10,  1.28s/it]"
     ]
    },
    {
     "name": "stdout",
     "output_type": "stream",
     "text": [
      "Epoch 1/1 => Loss: 1.0037, Special-Token Accuracy: 82.10%\n"
     ]
    },
    {
     "name": "stderr",
     "output_type": "stream",
     "text": [
      "Epoch 1/1: 100%|██████████| 11/11 [00:01<00:00,  8.61it/s, loss=0.9986, acc=80.82%]\n",
      "TOTAL Epochs:  71%|███████▏  | 365/512 [07:22<03:08,  1.28s/it]"
     ]
    },
    {
     "name": "stdout",
     "output_type": "stream",
     "text": [
      "Epoch 1/1 => Loss: 0.9987, Special-Token Accuracy: 81.64%\n"
     ]
    },
    {
     "name": "stderr",
     "output_type": "stream",
     "text": [
      "Epoch 1/1: 100%|██████████| 11/11 [00:01<00:00,  8.53it/s, loss=1.0197, acc=81.98%]\n",
      "TOTAL Epochs:  71%|███████▏  | 366/512 [07:23<03:08,  1.29s/it]"
     ]
    },
    {
     "name": "stdout",
     "output_type": "stream",
     "text": [
      "Epoch 1/1 => Loss: 1.0060, Special-Token Accuracy: 82.04%\n"
     ]
    },
    {
     "name": "stderr",
     "output_type": "stream",
     "text": [
      "Epoch 1/1: 100%|██████████| 11/11 [00:01<00:00,  8.56it/s, loss=1.0440, acc=80.13%]\n",
      "TOTAL Epochs:  72%|███████▏  | 367/512 [07:25<03:06,  1.29s/it]"
     ]
    },
    {
     "name": "stdout",
     "output_type": "stream",
     "text": [
      "Epoch 1/1 => Loss: 1.0022, Special-Token Accuracy: 82.11%\n"
     ]
    },
    {
     "name": "stderr",
     "output_type": "stream",
     "text": [
      "Epoch 1/1: 100%|██████████| 11/11 [00:01<00:00,  8.57it/s, loss=0.9771, acc=82.33%]\n",
      "TOTAL Epochs:  72%|███████▏  | 368/512 [07:26<03:05,  1.29s/it]"
     ]
    },
    {
     "name": "stdout",
     "output_type": "stream",
     "text": [
      "Epoch 1/1 => Loss: 0.9962, Special-Token Accuracy: 82.04%\n"
     ]
    },
    {
     "name": "stderr",
     "output_type": "stream",
     "text": [
      "Epoch 1/1: 100%|██████████| 11/11 [00:01<00:00,  8.55it/s, loss=1.0284, acc=80.97%]\n",
      "TOTAL Epochs:  72%|███████▏  | 369/512 [07:27<03:04,  1.29s/it]"
     ]
    },
    {
     "name": "stdout",
     "output_type": "stream",
     "text": [
      "Epoch 1/1 => Loss: 1.0015, Special-Token Accuracy: 82.24%\n"
     ]
    },
    {
     "name": "stderr",
     "output_type": "stream",
     "text": [
      "Epoch 1/1: 100%|██████████| 11/11 [00:01<00:00,  8.53it/s, loss=1.0214, acc=81.85%]\n",
      "TOTAL Epochs:  72%|███████▏  | 370/512 [07:29<03:03,  1.29s/it]"
     ]
    },
    {
     "name": "stdout",
     "output_type": "stream",
     "text": [
      "Epoch 1/1 => Loss: 0.9962, Special-Token Accuracy: 82.09%\n"
     ]
    },
    {
     "name": "stderr",
     "output_type": "stream",
     "text": [
      "Epoch 1/1: 100%|██████████| 11/11 [00:01<00:00,  8.56it/s, loss=0.9989, acc=82.04%]\n",
      "TOTAL Epochs:  72%|███████▏  | 371/512 [07:30<03:02,  1.29s/it]"
     ]
    },
    {
     "name": "stdout",
     "output_type": "stream",
     "text": [
      "Epoch 1/1 => Loss: 0.9929, Special-Token Accuracy: 82.31%\n"
     ]
    },
    {
     "name": "stderr",
     "output_type": "stream",
     "text": [
      "Epoch 1/1: 100%|██████████| 11/11 [00:01<00:00,  8.59it/s, loss=1.0030, acc=81.96%]\n",
      "TOTAL Epochs:  73%|███████▎  | 372/512 [07:31<03:00,  1.29s/it]"
     ]
    },
    {
     "name": "stdout",
     "output_type": "stream",
     "text": [
      "Epoch 1/1 => Loss: 0.9992, Special-Token Accuracy: 82.24%\n"
     ]
    },
    {
     "name": "stderr",
     "output_type": "stream",
     "text": [
      "Epoch 1/1: 100%|██████████| 11/11 [00:01<00:00,  8.53it/s, loss=1.0286, acc=80.56%]\n",
      "TOTAL Epochs:  73%|███████▎  | 373/512 [07:33<02:59,  1.29s/it]"
     ]
    },
    {
     "name": "stdout",
     "output_type": "stream",
     "text": [
      "Epoch 1/1 => Loss: 1.0064, Special-Token Accuracy: 81.58%\n"
     ]
    },
    {
     "name": "stderr",
     "output_type": "stream",
     "text": [
      "Epoch 1/1: 100%|██████████| 11/11 [00:01<00:00,  8.53it/s, loss=1.0199, acc=81.84%]\n",
      "TOTAL Epochs:  73%|███████▎  | 374/512 [07:34<02:58,  1.29s/it]"
     ]
    },
    {
     "name": "stdout",
     "output_type": "stream",
     "text": [
      "Epoch 1/1 => Loss: 1.0047, Special-Token Accuracy: 82.06%\n"
     ]
    },
    {
     "name": "stderr",
     "output_type": "stream",
     "text": [
      "Epoch 1/1: 100%|██████████| 11/11 [00:01<00:00,  8.54it/s, loss=1.0133, acc=80.10%]\n",
      "TOTAL Epochs:  73%|███████▎  | 375/512 [07:35<02:57,  1.29s/it]"
     ]
    },
    {
     "name": "stdout",
     "output_type": "stream",
     "text": [
      "Epoch 1/1 => Loss: 0.9957, Special-Token Accuracy: 82.33%\n"
     ]
    },
    {
     "name": "stderr",
     "output_type": "stream",
     "text": [
      "Epoch 1/1: 100%|██████████| 11/11 [00:01<00:00,  8.47it/s, loss=0.9794, acc=82.85%]\n",
      "TOTAL Epochs:  73%|███████▎  | 376/512 [07:36<02:56,  1.30s/it]"
     ]
    },
    {
     "name": "stdout",
     "output_type": "stream",
     "text": [
      "Epoch 1/1 => Loss: 1.0008, Special-Token Accuracy: 81.94%\n"
     ]
    },
    {
     "name": "stderr",
     "output_type": "stream",
     "text": [
      "Epoch 1/1: 100%|██████████| 11/11 [00:00<00:00, -17.01it/s, loss=0.9947, acc=82.09%]\n"
     ]
    },
    {
     "name": "stdout",
     "output_type": "stream",
     "text": [
      "Epoch 1/1 => Loss: 0.9977, Special-Token Accuracy: 82.66%\n"
     ]
    },
    {
     "name": "stderr",
     "output_type": "stream",
     "text": [
      "Epoch 1/1: 100%|██████████| 11/11 [00:01<00:00,  8.59it/s, loss=0.9918, acc=80.88%]\n",
      "TOTAL Epochs:  74%|███████▍  | 378/512 [07:37<01:53,  1.18it/s]"
     ]
    },
    {
     "name": "stdout",
     "output_type": "stream",
     "text": [
      "Epoch 1/1 => Loss: 1.0040, Special-Token Accuracy: 81.96%\n"
     ]
    },
    {
     "name": "stderr",
     "output_type": "stream",
     "text": [
      "Epoch 1/1: 100%|██████████| 11/11 [00:01<00:00,  8.46it/s, loss=1.0125, acc=81.06%]\n",
      "TOTAL Epochs:  74%|███████▍  | 379/512 [07:38<02:07,  1.04it/s]"
     ]
    },
    {
     "name": "stdout",
     "output_type": "stream",
     "text": [
      "Epoch 1/1 => Loss: 0.9978, Special-Token Accuracy: 82.42%\n"
     ]
    },
    {
     "name": "stderr",
     "output_type": "stream",
     "text": [
      "Epoch 1/1: 100%|██████████| 11/11 [00:01<00:00,  8.51it/s, loss=0.9974, acc=82.40%]\n",
      "TOTAL Epochs:  74%|███████▍  | 380/512 [07:40<02:18,  1.05s/it]"
     ]
    },
    {
     "name": "stdout",
     "output_type": "stream",
     "text": [
      "Epoch 1/1 => Loss: 1.0005, Special-Token Accuracy: 81.93%\n"
     ]
    },
    {
     "name": "stderr",
     "output_type": "stream",
     "text": [
      "Epoch 1/1: 100%|██████████| 11/11 [00:01<00:00,  8.51it/s, loss=1.0137, acc=82.58%]\n",
      "TOTAL Epochs:  74%|███████▍  | 381/512 [07:41<02:26,  1.12s/it]"
     ]
    },
    {
     "name": "stdout",
     "output_type": "stream",
     "text": [
      "Epoch 1/1 => Loss: 0.9917, Special-Token Accuracy: 81.80%\n"
     ]
    },
    {
     "name": "stderr",
     "output_type": "stream",
     "text": [
      "Epoch 1/1: 100%|██████████| 11/11 [00:01<00:00,  8.56it/s, loss=0.9824, acc=82.66%]\n",
      "TOTAL Epochs:  75%|███████▍  | 382/512 [07:42<02:31,  1.17s/it]"
     ]
    },
    {
     "name": "stdout",
     "output_type": "stream",
     "text": [
      "Epoch 1/1 => Loss: 1.0029, Special-Token Accuracy: 81.85%\n"
     ]
    },
    {
     "name": "stderr",
     "output_type": "stream",
     "text": [
      "Epoch 1/1: 100%|██████████| 11/11 [00:01<00:00,  8.59it/s, loss=0.9916, acc=82.11%]\n",
      "TOTAL Epochs:  75%|███████▍  | 383/512 [07:44<02:34,  1.20s/it]"
     ]
    },
    {
     "name": "stdout",
     "output_type": "stream",
     "text": [
      "Epoch 1/1 => Loss: 0.9999, Special-Token Accuracy: 82.34%\n"
     ]
    },
    {
     "name": "stderr",
     "output_type": "stream",
     "text": [
      "Epoch 1/1: 100%|██████████| 11/11 [00:01<00:00,  8.63it/s, loss=1.0097, acc=82.80%]\n",
      "TOTAL Epochs:  75%|███████▌  | 384/512 [07:45<02:36,  1.22s/it]"
     ]
    },
    {
     "name": "stdout",
     "output_type": "stream",
     "text": [
      "Epoch 1/1 => Loss: 0.9998, Special-Token Accuracy: 82.60%\n"
     ]
    },
    {
     "name": "stderr",
     "output_type": "stream",
     "text": [
      "Epoch 1/1: 100%|██████████| 11/11 [00:01<00:00,  8.56it/s, loss=0.9762, acc=83.90%]\n",
      "TOTAL Epochs:  75%|███████▌  | 385/512 [07:46<02:37,  1.24s/it]"
     ]
    },
    {
     "name": "stdout",
     "output_type": "stream",
     "text": [
      "Epoch 1/1 => Loss: 0.9986, Special-Token Accuracy: 82.55%\n"
     ]
    },
    {
     "name": "stderr",
     "output_type": "stream",
     "text": [
      "Epoch 1/1: 100%|██████████| 11/11 [00:01<00:00,  8.53it/s, loss=0.9828, acc=83.03%]\n",
      "TOTAL Epochs:  75%|███████▌  | 386/512 [07:47<02:38,  1.26s/it]"
     ]
    },
    {
     "name": "stdout",
     "output_type": "stream",
     "text": [
      "Epoch 1/1 => Loss: 0.9950, Special-Token Accuracy: 82.61%\n"
     ]
    },
    {
     "name": "stderr",
     "output_type": "stream",
     "text": [
      "Epoch 1/1: 100%|██████████| 11/11 [00:01<00:00,  8.60it/s, loss=1.0037, acc=82.18%]\n",
      "TOTAL Epochs:  76%|███████▌  | 387/512 [07:49<02:38,  1.27s/it]"
     ]
    },
    {
     "name": "stdout",
     "output_type": "stream",
     "text": [
      "Epoch 1/1 => Loss: 1.0025, Special-Token Accuracy: 82.00%\n"
     ]
    },
    {
     "name": "stderr",
     "output_type": "stream",
     "text": [
      "Epoch 1/1: 100%|██████████| 11/11 [00:01<00:00,  8.54it/s, loss=0.9859, acc=82.62%]\n",
      "TOTAL Epochs:  76%|███████▌  | 388/512 [07:50<02:38,  1.27s/it]"
     ]
    },
    {
     "name": "stdout",
     "output_type": "stream",
     "text": [
      "Epoch 1/1 => Loss: 0.9968, Special-Token Accuracy: 82.24%\n"
     ]
    },
    {
     "name": "stderr",
     "output_type": "stream",
     "text": [
      "Epoch 1/1: 100%|██████████| 11/11 [00:01<00:00,  8.53it/s, loss=0.9968, acc=82.15%]\n",
      "TOTAL Epochs:  76%|███████▌  | 389/512 [07:51<02:37,  1.28s/it]"
     ]
    },
    {
     "name": "stdout",
     "output_type": "stream",
     "text": [
      "Epoch 1/1 => Loss: 0.9983, Special-Token Accuracy: 81.83%\n"
     ]
    },
    {
     "name": "stderr",
     "output_type": "stream",
     "text": [
      "Epoch 1/1: 100%|██████████| 11/11 [00:01<00:00,  8.62it/s, loss=1.0161, acc=82.82%]\n",
      "TOTAL Epochs:  76%|███████▌  | 390/512 [07:53<02:36,  1.28s/it]"
     ]
    },
    {
     "name": "stdout",
     "output_type": "stream",
     "text": [
      "Epoch 1/1 => Loss: 1.0080, Special-Token Accuracy: 82.34%\n"
     ]
    },
    {
     "name": "stderr",
     "output_type": "stream",
     "text": [
      "Epoch 1/1: 100%|██████████| 11/11 [00:01<00:00,  8.57it/s, loss=0.9915, acc=81.92%]\n",
      "TOTAL Epochs:  76%|███████▋  | 391/512 [07:54<02:35,  1.28s/it]"
     ]
    },
    {
     "name": "stdout",
     "output_type": "stream",
     "text": [
      "Epoch 1/1 => Loss: 0.9978, Special-Token Accuracy: 82.07%\n"
     ]
    },
    {
     "name": "stderr",
     "output_type": "stream",
     "text": [
      "Epoch 1/1: 100%|██████████| 11/11 [00:01<00:00,  8.37it/s, loss=0.9804, acc=83.15%]\n",
      "TOTAL Epochs:  77%|███████▋  | 392/512 [07:55<02:35,  1.29s/it]"
     ]
    },
    {
     "name": "stdout",
     "output_type": "stream",
     "text": [
      "Epoch 1/1 => Loss: 0.9911, Special-Token Accuracy: 82.60%\n"
     ]
    },
    {
     "name": "stderr",
     "output_type": "stream",
     "text": [
      "Epoch 1/1: 100%|██████████| 11/11 [00:01<00:00,  8.50it/s, loss=0.9844, acc=82.27%]\n",
      "TOTAL Epochs:  77%|███████▋  | 393/512 [07:56<02:34,  1.30s/it]"
     ]
    },
    {
     "name": "stdout",
     "output_type": "stream",
     "text": [
      "Epoch 1/1 => Loss: 1.0022, Special-Token Accuracy: 82.67%\n"
     ]
    },
    {
     "name": "stderr",
     "output_type": "stream",
     "text": [
      "Epoch 1/1: 100%|██████████| 11/11 [00:01<00:00,  8.52it/s, loss=0.9855, acc=84.28%]\n",
      "TOTAL Epochs:  77%|███████▋  | 394/512 [07:58<02:33,  1.30s/it]"
     ]
    },
    {
     "name": "stdout",
     "output_type": "stream",
     "text": [
      "Epoch 1/1 => Loss: 1.0109, Special-Token Accuracy: 82.31%\n"
     ]
    },
    {
     "name": "stderr",
     "output_type": "stream",
     "text": [
      "Epoch 1/1: 100%|██████████| 11/11 [00:01<00:00,  8.57it/s, loss=0.9650, acc=82.84%]\n",
      "TOTAL Epochs:  77%|███████▋  | 395/512 [07:59<02:31,  1.29s/it]"
     ]
    },
    {
     "name": "stdout",
     "output_type": "stream",
     "text": [
      "Epoch 1/1 => Loss: 0.9955, Special-Token Accuracy: 82.30%\n"
     ]
    },
    {
     "name": "stderr",
     "output_type": "stream",
     "text": [
      "Epoch 1/1: 100%|██████████| 11/11 [00:01<00:00,  8.53it/s, loss=1.0025, acc=82.29%]\n",
      "TOTAL Epochs:  77%|███████▋  | 396/512 [08:00<02:30,  1.30s/it]"
     ]
    },
    {
     "name": "stdout",
     "output_type": "stream",
     "text": [
      "Epoch 1/1 => Loss: 0.9969, Special-Token Accuracy: 82.46%\n"
     ]
    },
    {
     "name": "stderr",
     "output_type": "stream",
     "text": [
      "Epoch 1/1: 100%|██████████| 11/11 [00:01<00:00,  8.53it/s, loss=0.9802, acc=82.09%]\n",
      "TOTAL Epochs:  78%|███████▊  | 397/512 [08:02<02:29,  1.30s/it]"
     ]
    },
    {
     "name": "stdout",
     "output_type": "stream",
     "text": [
      "Epoch 1/1 => Loss: 0.9960, Special-Token Accuracy: 82.52%\n"
     ]
    },
    {
     "name": "stderr",
     "output_type": "stream",
     "text": [
      "Epoch 1/1: 100%|██████████| 11/11 [00:01<00:00,  8.56it/s, loss=1.0315, acc=82.95%]\n",
      "TOTAL Epochs:  78%|███████▊  | 398/512 [08:03<02:27,  1.30s/it]"
     ]
    },
    {
     "name": "stdout",
     "output_type": "stream",
     "text": [
      "Epoch 1/1 => Loss: 1.0046, Special-Token Accuracy: 82.23%\n"
     ]
    },
    {
     "name": "stderr",
     "output_type": "stream",
     "text": [
      "Epoch 1/1: 100%|██████████| 11/11 [00:01<00:00,  8.59it/s, loss=1.0025, acc=82.28%]\n",
      "TOTAL Epochs:  78%|███████▊  | 399/512 [08:04<02:26,  1.29s/it]"
     ]
    },
    {
     "name": "stdout",
     "output_type": "stream",
     "text": [
      "Epoch 1/1 => Loss: 0.9996, Special-Token Accuracy: 83.05%\n"
     ]
    },
    {
     "name": "stderr",
     "output_type": "stream",
     "text": [
      "Epoch 1/1: 100%|██████████| 11/11 [00:01<00:00,  8.53it/s, loss=0.9988, acc=82.06%]\n",
      "TOTAL Epochs:  78%|███████▊  | 400/512 [08:06<02:24,  1.29s/it]"
     ]
    },
    {
     "name": "stdout",
     "output_type": "stream",
     "text": [
      "Epoch 1/1 => Loss: 0.9996, Special-Token Accuracy: 82.37%\n"
     ]
    },
    {
     "name": "stderr",
     "output_type": "stream",
     "text": [
      "Epoch 1/1: 100%|██████████| 11/11 [00:01<00:00,  8.54it/s, loss=1.0483, acc=80.02%]\n",
      "TOTAL Epochs:  78%|███████▊  | 401/512 [08:07<02:23,  1.29s/it]"
     ]
    },
    {
     "name": "stdout",
     "output_type": "stream",
     "text": [
      "Epoch 1/1 => Loss: 1.0139, Special-Token Accuracy: 81.38%\n"
     ]
    },
    {
     "name": "stderr",
     "output_type": "stream",
     "text": [
      "Epoch 1/1: 100%|██████████| 11/11 [00:00<00:00, -16.42it/s, loss=1.1663, acc=73.65%]\n"
     ]
    },
    {
     "name": "stdout",
     "output_type": "stream",
     "text": [
      "Epoch 1/1 => Loss: 1.0829, Special-Token Accuracy: 77.82%\n"
     ]
    },
    {
     "name": "stderr",
     "output_type": "stream",
     "text": [
      "Epoch 1/1: 100%|██████████| 11/11 [00:01<00:00,  8.56it/s, loss=1.8223, acc=57.61%]\n",
      "TOTAL Epochs:  79%|███████▊  | 403/512 [08:07<01:31,  1.19it/s]"
     ]
    },
    {
     "name": "stdout",
     "output_type": "stream",
     "text": [
      "Epoch 1/1 => Loss: 1.4808, Special-Token Accuracy: 63.71%\n"
     ]
    },
    {
     "name": "stderr",
     "output_type": "stream",
     "text": [
      "Epoch 1/1: 100%|██████████| 11/11 [00:01<00:00,  8.51it/s, loss=1.8712, acc=42.41%]\n",
      "TOTAL Epochs:  79%|███████▉  | 404/512 [08:09<01:43,  1.05it/s]"
     ]
    },
    {
     "name": "stdout",
     "output_type": "stream",
     "text": [
      "Epoch 1/1 => Loss: 1.9159, Special-Token Accuracy: 46.77%\n"
     ]
    },
    {
     "name": "stderr",
     "output_type": "stream",
     "text": [
      "Epoch 1/1: 100%|██████████| 11/11 [00:01<00:00,  8.45it/s, loss=1.8217, acc=52.81%]\n",
      "TOTAL Epochs:  79%|███████▉  | 405/512 [08:10<01:52,  1.05s/it]"
     ]
    },
    {
     "name": "stdout",
     "output_type": "stream",
     "text": [
      "Epoch 1/1 => Loss: 1.8428, Special-Token Accuracy: 49.48%\n"
     ]
    },
    {
     "name": "stderr",
     "output_type": "stream",
     "text": [
      "Epoch 1/1: 100%|██████████| 11/11 [00:01<00:00,  8.59it/s, loss=1.8161, acc=50.62%]\n",
      "TOTAL Epochs:  79%|███████▉  | 406/512 [08:11<01:57,  1.11s/it]"
     ]
    },
    {
     "name": "stdout",
     "output_type": "stream",
     "text": [
      "Epoch 1/1 => Loss: 1.7979, Special-Token Accuracy: 46.74%\n"
     ]
    },
    {
     "name": "stderr",
     "output_type": "stream",
     "text": [
      "Epoch 1/1: 100%|██████████| 11/11 [00:01<00:00,  8.56it/s, loss=1.6714, acc=60.32%]\n",
      "TOTAL Epochs:  79%|███████▉  | 407/512 [08:13<02:02,  1.16s/it]"
     ]
    },
    {
     "name": "stdout",
     "output_type": "stream",
     "text": [
      "Epoch 1/1 => Loss: 1.7192, Special-Token Accuracy: 54.84%\n"
     ]
    },
    {
     "name": "stderr",
     "output_type": "stream",
     "text": [
      "Epoch 1/1: 100%|██████████| 11/11 [00:01<00:00,  8.62it/s, loss=1.5780, acc=58.01%]\n",
      "TOTAL Epochs:  80%|███████▉  | 408/512 [08:14<02:04,  1.20s/it]"
     ]
    },
    {
     "name": "stdout",
     "output_type": "stream",
     "text": [
      "Epoch 1/1 => Loss: 1.6613, Special-Token Accuracy: 54.59%\n"
     ]
    },
    {
     "name": "stderr",
     "output_type": "stream",
     "text": [
      "Epoch 1/1: 100%|██████████| 11/11 [00:01<00:00,  8.60it/s, loss=1.5084, acc=53.68%]\n",
      "TOTAL Epochs:  80%|███████▉  | 409/512 [08:15<02:05,  1.22s/it]"
     ]
    },
    {
     "name": "stdout",
     "output_type": "stream",
     "text": [
      "Epoch 1/1 => Loss: 1.6203, Special-Token Accuracy: 55.25%\n"
     ]
    },
    {
     "name": "stderr",
     "output_type": "stream",
     "text": [
      "Epoch 1/1: 100%|██████████| 11/11 [00:01<00:00,  8.57it/s, loss=1.6122, acc=59.41%]\n",
      "TOTAL Epochs:  80%|████████  | 410/512 [08:17<02:06,  1.24s/it]"
     ]
    },
    {
     "name": "stdout",
     "output_type": "stream",
     "text": [
      "Epoch 1/1 => Loss: 1.5766, Special-Token Accuracy: 56.46%\n"
     ]
    },
    {
     "name": "stderr",
     "output_type": "stream",
     "text": [
      "Epoch 1/1: 100%|██████████| 11/11 [00:01<00:00,  8.54it/s, loss=1.4366, acc=63.15%]\n",
      "TOTAL Epochs:  80%|████████  | 411/512 [08:18<02:07,  1.26s/it]"
     ]
    },
    {
     "name": "stdout",
     "output_type": "stream",
     "text": [
      "Epoch 1/1 => Loss: 1.5183, Special-Token Accuracy: 58.40%\n"
     ]
    },
    {
     "name": "stderr",
     "output_type": "stream",
     "text": [
      "Epoch 1/1: 100%|██████████| 11/11 [00:01<00:00,  8.50it/s, loss=1.5426, acc=58.25%]\n",
      "TOTAL Epochs:  80%|████████  | 412/512 [08:19<02:07,  1.27s/it]"
     ]
    },
    {
     "name": "stdout",
     "output_type": "stream",
     "text": [
      "Epoch 1/1 => Loss: 1.5030, Special-Token Accuracy: 59.40%\n"
     ]
    },
    {
     "name": "stderr",
     "output_type": "stream",
     "text": [
      "Epoch 1/1: 100%|██████████| 11/11 [00:01<00:00,  8.43it/s, loss=1.4617, acc=63.06%]\n",
      "TOTAL Epochs:  81%|████████  | 413/512 [08:20<02:06,  1.28s/it]"
     ]
    },
    {
     "name": "stdout",
     "output_type": "stream",
     "text": [
      "Epoch 1/1 => Loss: 1.4478, Special-Token Accuracy: 58.94%\n"
     ]
    },
    {
     "name": "stderr",
     "output_type": "stream",
     "text": [
      "Epoch 1/1: 100%|██████████| 11/11 [00:01<00:00,  8.56it/s, loss=1.7279, acc=51.81%]\n",
      "TOTAL Epochs:  81%|████████  | 414/512 [08:22<02:05,  1.28s/it]"
     ]
    },
    {
     "name": "stdout",
     "output_type": "stream",
     "text": [
      "Epoch 1/1 => Loss: 1.4407, Special-Token Accuracy: 60.43%\n"
     ]
    },
    {
     "name": "stderr",
     "output_type": "stream",
     "text": [
      "Epoch 1/1: 100%|██████████| 11/11 [00:01<00:00,  8.56it/s, loss=1.5511, acc=53.63%]\n",
      "TOTAL Epochs:  81%|████████  | 415/512 [08:23<02:04,  1.29s/it]"
     ]
    },
    {
     "name": "stdout",
     "output_type": "stream",
     "text": [
      "Epoch 1/1 => Loss: 1.4216, Special-Token Accuracy: 61.44%\n"
     ]
    },
    {
     "name": "stderr",
     "output_type": "stream",
     "text": [
      "Epoch 1/1: 100%|██████████| 11/11 [00:01<00:00,  8.60it/s, loss=1.4341, acc=61.77%]\n",
      "TOTAL Epochs:  81%|████████▏ | 416/512 [08:24<02:03,  1.29s/it]"
     ]
    },
    {
     "name": "stdout",
     "output_type": "stream",
     "text": [
      "Epoch 1/1 => Loss: 1.4153, Special-Token Accuracy: 61.74%\n"
     ]
    },
    {
     "name": "stderr",
     "output_type": "stream",
     "text": [
      "Epoch 1/1: 100%|██████████| 11/11 [00:01<00:00,  8.56it/s, loss=1.4879, acc=66.72%]\n",
      "TOTAL Epochs:  81%|████████▏ | 417/512 [08:26<02:02,  1.29s/it]"
     ]
    },
    {
     "name": "stdout",
     "output_type": "stream",
     "text": [
      "Epoch 1/1 => Loss: 1.4126, Special-Token Accuracy: 62.00%\n"
     ]
    },
    {
     "name": "stderr",
     "output_type": "stream",
     "text": [
      "Epoch 1/1: 100%|██████████| 11/11 [00:01<00:00,  8.53it/s, loss=1.3361, acc=60.14%]\n",
      "TOTAL Epochs:  82%|████████▏ | 418/512 [08:27<02:01,  1.29s/it]"
     ]
    },
    {
     "name": "stdout",
     "output_type": "stream",
     "text": [
      "Epoch 1/1 => Loss: 1.3615, Special-Token Accuracy: 61.61%\n"
     ]
    },
    {
     "name": "stderr",
     "output_type": "stream",
     "text": [
      "Epoch 1/1: 100%|██████████| 11/11 [00:01<00:00,  8.58it/s, loss=1.2584, acc=66.08%]\n",
      "TOTAL Epochs:  82%|████████▏ | 419/512 [08:28<01:59,  1.29s/it]"
     ]
    },
    {
     "name": "stdout",
     "output_type": "stream",
     "text": [
      "Epoch 1/1 => Loss: 1.3399, Special-Token Accuracy: 65.01%\n"
     ]
    },
    {
     "name": "stderr",
     "output_type": "stream",
     "text": [
      "Epoch 1/1: 100%|██████████| 11/11 [00:01<00:00,  8.55it/s, loss=1.2928, acc=67.76%]\n",
      "TOTAL Epochs:  82%|████████▏ | 420/512 [08:29<01:58,  1.29s/it]"
     ]
    },
    {
     "name": "stdout",
     "output_type": "stream",
     "text": [
      "Epoch 1/1 => Loss: 1.3188, Special-Token Accuracy: 63.03%\n"
     ]
    },
    {
     "name": "stderr",
     "output_type": "stream",
     "text": [
      "Epoch 1/1: 100%|██████████| 11/11 [00:01<00:00,  8.55it/s, loss=1.2144, acc=62.96%]\n",
      "TOTAL Epochs:  82%|████████▏ | 421/512 [08:31<01:57,  1.29s/it]"
     ]
    },
    {
     "name": "stdout",
     "output_type": "stream",
     "text": [
      "Epoch 1/1 => Loss: 1.3107, Special-Token Accuracy: 64.75%\n"
     ]
    },
    {
     "name": "stderr",
     "output_type": "stream",
     "text": [
      "Epoch 1/1: 100%|██████████| 11/11 [00:01<00:00,  8.53it/s, loss=1.2207, acc=64.31%]\n",
      "TOTAL Epochs:  82%|████████▏ | 422/512 [08:32<01:56,  1.29s/it]"
     ]
    },
    {
     "name": "stdout",
     "output_type": "stream",
     "text": [
      "Epoch 1/1 => Loss: 1.3054, Special-Token Accuracy: 64.08%\n"
     ]
    },
    {
     "name": "stderr",
     "output_type": "stream",
     "text": [
      "Epoch 1/1: 100%|██████████| 11/11 [00:01<00:00,  8.56it/s, loss=1.2725, acc=68.73%]\n",
      "TOTAL Epochs:  83%|████████▎ | 423/512 [08:33<01:55,  1.29s/it]"
     ]
    },
    {
     "name": "stdout",
     "output_type": "stream",
     "text": [
      "Epoch 1/1 => Loss: 1.2948, Special-Token Accuracy: 67.10%\n"
     ]
    },
    {
     "name": "stderr",
     "output_type": "stream",
     "text": [
      "Epoch 1/1: 100%|██████████| 11/11 [00:01<00:00,  8.54it/s, loss=1.2617, acc=68.53%]\n",
      "TOTAL Epochs:  83%|████████▎ | 424/512 [08:35<01:53,  1.29s/it]"
     ]
    },
    {
     "name": "stdout",
     "output_type": "stream",
     "text": [
      "Epoch 1/1 => Loss: 1.2686, Special-Token Accuracy: 68.25%\n"
     ]
    },
    {
     "name": "stderr",
     "output_type": "stream",
     "text": [
      "Epoch 1/1: 100%|██████████| 11/11 [00:01<00:00,  8.54it/s, loss=1.1806, acc=72.46%]\n",
      "TOTAL Epochs:  83%|████████▎ | 425/512 [08:36<01:52,  1.29s/it]"
     ]
    },
    {
     "name": "stdout",
     "output_type": "stream",
     "text": [
      "Epoch 1/1 => Loss: 1.2347, Special-Token Accuracy: 67.92%\n"
     ]
    },
    {
     "name": "stderr",
     "output_type": "stream",
     "text": [
      "Epoch 1/1: 100%|██████████| 11/11 [00:01<00:00,  8.55it/s, loss=1.2868, acc=68.49%]\n",
      "TOTAL Epochs:  83%|████████▎ | 426/512 [08:37<01:51,  1.29s/it]"
     ]
    },
    {
     "name": "stdout",
     "output_type": "stream",
     "text": [
      "Epoch 1/1 => Loss: 1.2454, Special-Token Accuracy: 67.99%\n"
     ]
    },
    {
     "name": "stderr",
     "output_type": "stream",
     "text": [
      "Epoch 1/1: 100%|██████████| 11/11 [00:00<00:00, -17.12it/s, loss=1.2256, acc=65.19%]\n"
     ]
    },
    {
     "name": "stdout",
     "output_type": "stream",
     "text": [
      "Epoch 1/1 => Loss: 1.2144, Special-Token Accuracy: 67.17%\n"
     ]
    },
    {
     "name": "stderr",
     "output_type": "stream",
     "text": [
      "Epoch 1/1: 100%|██████████| 11/11 [00:01<00:00,  8.57it/s, loss=1.2086, acc=65.43%]\n",
      "TOTAL Epochs:  84%|████████▎ | 428/512 [08:38<01:11,  1.18it/s]"
     ]
    },
    {
     "name": "stdout",
     "output_type": "stream",
     "text": [
      "Epoch 1/1 => Loss: 1.2173, Special-Token Accuracy: 67.49%\n"
     ]
    },
    {
     "name": "stderr",
     "output_type": "stream",
     "text": [
      "Epoch 1/1: 100%|██████████| 11/11 [00:01<00:00,  8.57it/s, loss=1.2489, acc=67.47%]\n",
      "TOTAL Epochs:  84%|████████▍ | 429/512 [08:39<01:19,  1.05it/s]"
     ]
    },
    {
     "name": "stdout",
     "output_type": "stream",
     "text": [
      "Epoch 1/1 => Loss: 1.1997, Special-Token Accuracy: 68.94%\n"
     ]
    },
    {
     "name": "stderr",
     "output_type": "stream",
     "text": [
      "Epoch 1/1: 100%|██████████| 11/11 [00:01<00:00,  8.49it/s, loss=1.2622, acc=66.05%]\n",
      "TOTAL Epochs:  84%|████████▍ | 430/512 [08:40<01:25,  1.05s/it]"
     ]
    },
    {
     "name": "stdout",
     "output_type": "stream",
     "text": [
      "Epoch 1/1 => Loss: 1.1995, Special-Token Accuracy: 68.83%\n"
     ]
    },
    {
     "name": "stderr",
     "output_type": "stream",
     "text": [
      "Epoch 1/1: 100%|██████████| 11/11 [00:01<00:00,  8.62it/s, loss=1.2016, acc=67.75%]\n",
      "TOTAL Epochs:  84%|████████▍ | 431/512 [08:42<01:29,  1.11s/it]"
     ]
    },
    {
     "name": "stdout",
     "output_type": "stream",
     "text": [
      "Epoch 1/1 => Loss: 1.1964, Special-Token Accuracy: 68.87%\n"
     ]
    },
    {
     "name": "stderr",
     "output_type": "stream",
     "text": [
      "Epoch 1/1: 100%|██████████| 11/11 [00:01<00:00,  8.56it/s, loss=1.1302, acc=70.25%]\n",
      "TOTAL Epochs:  84%|████████▍ | 432/512 [08:43<01:32,  1.16s/it]"
     ]
    },
    {
     "name": "stdout",
     "output_type": "stream",
     "text": [
      "Epoch 1/1 => Loss: 1.1792, Special-Token Accuracy: 69.69%\n"
     ]
    },
    {
     "name": "stderr",
     "output_type": "stream",
     "text": [
      "Epoch 1/1: 100%|██████████| 11/11 [00:01<00:00,  8.53it/s, loss=1.1465, acc=70.36%]\n",
      "TOTAL Epochs:  85%|████████▍ | 433/512 [08:44<01:34,  1.20s/it]"
     ]
    },
    {
     "name": "stdout",
     "output_type": "stream",
     "text": [
      "Epoch 1/1 => Loss: 1.1685, Special-Token Accuracy: 70.76%\n"
     ]
    },
    {
     "name": "stderr",
     "output_type": "stream",
     "text": [
      "Epoch 1/1: 100%|██████████| 11/11 [00:01<00:00,  8.41it/s, loss=1.2096, acc=71.08%]\n",
      "TOTAL Epochs:  85%|████████▍ | 434/512 [08:46<01:36,  1.23s/it]"
     ]
    },
    {
     "name": "stdout",
     "output_type": "stream",
     "text": [
      "Epoch 1/1 => Loss: 1.1915, Special-Token Accuracy: 68.99%\n"
     ]
    },
    {
     "name": "stderr",
     "output_type": "stream",
     "text": [
      "Epoch 1/1: 100%|██████████| 11/11 [00:01<00:00,  8.62it/s, loss=1.2195, acc=68.29%]\n",
      "TOTAL Epochs:  85%|████████▍ | 435/512 [08:47<01:36,  1.25s/it]"
     ]
    },
    {
     "name": "stdout",
     "output_type": "stream",
     "text": [
      "Epoch 1/1 => Loss: 1.2101, Special-Token Accuracy: 68.01%\n"
     ]
    },
    {
     "name": "stderr",
     "output_type": "stream",
     "text": [
      "Epoch 1/1: 100%|██████████| 11/11 [00:01<00:00,  8.58it/s, loss=1.1729, acc=68.33%]\n",
      "TOTAL Epochs:  85%|████████▌ | 436/512 [08:48<01:35,  1.26s/it]"
     ]
    },
    {
     "name": "stdout",
     "output_type": "stream",
     "text": [
      "Epoch 1/1 => Loss: 1.1847, Special-Token Accuracy: 67.49%\n"
     ]
    },
    {
     "name": "stderr",
     "output_type": "stream",
     "text": [
      "Epoch 1/1: 100%|██████████| 11/11 [00:01<00:00,  8.55it/s, loss=1.2144, acc=65.48%]\n",
      "TOTAL Epochs:  85%|████████▌ | 437/512 [08:49<01:35,  1.27s/it]"
     ]
    },
    {
     "name": "stdout",
     "output_type": "stream",
     "text": [
      "Epoch 1/1 => Loss: 1.2207, Special-Token Accuracy: 69.33%\n"
     ]
    },
    {
     "name": "stderr",
     "output_type": "stream",
     "text": [
      "Epoch 1/1: 100%|██████████| 11/11 [00:01<00:00,  8.57it/s, loss=1.1482, acc=71.99%]\n",
      "TOTAL Epochs:  86%|████████▌ | 438/512 [08:51<01:34,  1.28s/it]"
     ]
    },
    {
     "name": "stdout",
     "output_type": "stream",
     "text": [
      "Epoch 1/1 => Loss: 1.1803, Special-Token Accuracy: 69.90%\n"
     ]
    },
    {
     "name": "stderr",
     "output_type": "stream",
     "text": [
      "Epoch 1/1: 100%|██████████| 11/11 [00:01<00:00,  8.52it/s, loss=1.1740, acc=68.31%]\n",
      "TOTAL Epochs:  86%|████████▌ | 439/512 [08:52<01:33,  1.28s/it]"
     ]
    },
    {
     "name": "stdout",
     "output_type": "stream",
     "text": [
      "Epoch 1/1 => Loss: 1.1619, Special-Token Accuracy: 69.79%\n"
     ]
    },
    {
     "name": "stderr",
     "output_type": "stream",
     "text": [
      "Epoch 1/1: 100%|██████████| 11/11 [00:01<00:00,  8.51it/s, loss=1.1455, acc=74.59%]\n",
      "TOTAL Epochs:  86%|████████▌ | 440/512 [08:53<01:32,  1.29s/it]"
     ]
    },
    {
     "name": "stdout",
     "output_type": "stream",
     "text": [
      "Epoch 1/1 => Loss: 1.1676, Special-Token Accuracy: 70.60%\n"
     ]
    },
    {
     "name": "stderr",
     "output_type": "stream",
     "text": [
      "Epoch 1/1: 100%|██████████| 11/11 [00:01<00:00,  8.53it/s, loss=1.2144, acc=71.72%]\n",
      "TOTAL Epochs:  86%|████████▌ | 441/512 [08:55<01:31,  1.29s/it]"
     ]
    },
    {
     "name": "stdout",
     "output_type": "stream",
     "text": [
      "Epoch 1/1 => Loss: 1.1814, Special-Token Accuracy: 70.75%\n"
     ]
    },
    {
     "name": "stderr",
     "output_type": "stream",
     "text": [
      "Epoch 1/1: 100%|██████████| 11/11 [00:01<00:00,  8.62it/s, loss=1.1631, acc=70.19%]\n",
      "TOTAL Epochs:  86%|████████▋ | 442/512 [08:56<01:30,  1.29s/it]"
     ]
    },
    {
     "name": "stdout",
     "output_type": "stream",
     "text": [
      "Epoch 1/1 => Loss: 1.1464, Special-Token Accuracy: 71.06%\n"
     ]
    },
    {
     "name": "stderr",
     "output_type": "stream",
     "text": [
      "Epoch 1/1: 100%|██████████| 11/11 [00:01<00:00,  8.55it/s, loss=1.1415, acc=72.47%]\n",
      "TOTAL Epochs:  87%|████████▋ | 443/512 [08:57<01:28,  1.29s/it]"
     ]
    },
    {
     "name": "stdout",
     "output_type": "stream",
     "text": [
      "Epoch 1/1 => Loss: 1.1378, Special-Token Accuracy: 71.62%\n"
     ]
    },
    {
     "name": "stderr",
     "output_type": "stream",
     "text": [
      "Epoch 1/1: 100%|██████████| 11/11 [00:01<00:00,  8.64it/s, loss=1.1583, acc=69.36%]\n",
      "TOTAL Epochs:  87%|████████▋ | 444/512 [08:59<01:27,  1.29s/it]"
     ]
    },
    {
     "name": "stdout",
     "output_type": "stream",
     "text": [
      "Epoch 1/1 => Loss: 1.1287, Special-Token Accuracy: 71.46%\n"
     ]
    },
    {
     "name": "stderr",
     "output_type": "stream",
     "text": [
      "Epoch 1/1: 100%|██████████| 11/11 [00:01<00:00,  8.61it/s, loss=1.1089, acc=71.86%]\n",
      "TOTAL Epochs:  87%|████████▋ | 445/512 [09:00<01:26,  1.29s/it]"
     ]
    },
    {
     "name": "stdout",
     "output_type": "stream",
     "text": [
      "Epoch 1/1 => Loss: 1.1340, Special-Token Accuracy: 72.28%\n"
     ]
    },
    {
     "name": "stderr",
     "output_type": "stream",
     "text": [
      "Epoch 1/1: 100%|██████████| 11/11 [00:01<00:00,  8.59it/s, loss=1.2066, acc=71.02%]\n",
      "TOTAL Epochs:  87%|████████▋ | 446/512 [09:01<01:24,  1.29s/it]"
     ]
    },
    {
     "name": "stdout",
     "output_type": "stream",
     "text": [
      "Epoch 1/1 => Loss: 1.1451, Special-Token Accuracy: 70.75%\n"
     ]
    },
    {
     "name": "stderr",
     "output_type": "stream",
     "text": [
      "Epoch 1/1: 100%|██████████| 11/11 [00:01<00:00,  8.60it/s, loss=1.1181, acc=68.96%]\n",
      "TOTAL Epochs:  87%|████████▋ | 447/512 [09:02<01:23,  1.29s/it]"
     ]
    },
    {
     "name": "stdout",
     "output_type": "stream",
     "text": [
      "Epoch 1/1 => Loss: 1.1335, Special-Token Accuracy: 70.99%\n"
     ]
    },
    {
     "name": "stderr",
     "output_type": "stream",
     "text": [
      "Epoch 1/1: 100%|██████████| 11/11 [00:01<00:00,  8.55it/s, loss=1.2107, acc=66.77%]\n",
      "TOTAL Epochs:  88%|████████▊ | 448/512 [09:04<01:22,  1.29s/it]"
     ]
    },
    {
     "name": "stdout",
     "output_type": "stream",
     "text": [
      "Epoch 1/1 => Loss: 1.1796, Special-Token Accuracy: 70.32%\n"
     ]
    },
    {
     "name": "stderr",
     "output_type": "stream",
     "text": [
      "Epoch 1/1: 100%|██████████| 11/11 [00:01<00:00,  8.58it/s, loss=1.1483, acc=69.98%]\n",
      "TOTAL Epochs:  88%|████████▊ | 449/512 [09:05<01:21,  1.29s/it]"
     ]
    },
    {
     "name": "stdout",
     "output_type": "stream",
     "text": [
      "Epoch 1/1 => Loss: 1.1418, Special-Token Accuracy: 69.61%\n"
     ]
    },
    {
     "name": "stderr",
     "output_type": "stream",
     "text": [
      "Epoch 1/1: 100%|██████████| 11/11 [00:01<00:00,  8.60it/s, loss=1.0986, acc=72.24%]\n",
      "TOTAL Epochs:  88%|████████▊ | 450/512 [09:06<01:19,  1.29s/it]"
     ]
    },
    {
     "name": "stdout",
     "output_type": "stream",
     "text": [
      "Epoch 1/1 => Loss: 1.1549, Special-Token Accuracy: 73.33%\n"
     ]
    },
    {
     "name": "stderr",
     "output_type": "stream",
     "text": [
      "Epoch 1/1: 100%|██████████| 11/11 [00:01<00:00,  8.54it/s, loss=1.1256, acc=72.78%]\n",
      "TOTAL Epochs:  88%|████████▊ | 451/512 [09:08<01:18,  1.29s/it]"
     ]
    },
    {
     "name": "stdout",
     "output_type": "stream",
     "text": [
      "Epoch 1/1 => Loss: 1.1374, Special-Token Accuracy: 71.38%\n"
     ]
    },
    {
     "name": "stderr",
     "output_type": "stream",
     "text": [
      "Epoch 1/1: 100%|██████████| 11/11 [00:00<00:00, -17.24it/s, loss=1.1085, acc=73.90%]\n"
     ]
    },
    {
     "name": "stdout",
     "output_type": "stream",
     "text": [
      "Epoch 1/1 => Loss: 1.1300, Special-Token Accuracy: 71.91%\n"
     ]
    },
    {
     "name": "stderr",
     "output_type": "stream",
     "text": [
      "Epoch 1/1: 100%|██████████| 11/11 [00:01<00:00,  8.68it/s, loss=1.1444, acc=72.26%]\n",
      "TOTAL Epochs:  88%|████████▊ | 453/512 [09:08<00:49,  1.19it/s]"
     ]
    },
    {
     "name": "stdout",
     "output_type": "stream",
     "text": [
      "Epoch 1/1 => Loss: 1.1435, Special-Token Accuracy: 71.97%\n"
     ]
    },
    {
     "name": "stderr",
     "output_type": "stream",
     "text": [
      "Epoch 1/1: 100%|██████████| 11/11 [00:01<00:00,  8.56it/s, loss=1.1296, acc=71.41%]\n",
      "TOTAL Epochs:  89%|████████▊ | 454/512 [09:09<00:55,  1.05it/s]"
     ]
    },
    {
     "name": "stdout",
     "output_type": "stream",
     "text": [
      "Epoch 1/1 => Loss: 1.1282, Special-Token Accuracy: 71.18%\n"
     ]
    },
    {
     "name": "stderr",
     "output_type": "stream",
     "text": [
      "Epoch 1/1: 100%|██████████| 11/11 [00:01<00:00,  8.62it/s, loss=1.1181, acc=74.46%]\n",
      "TOTAL Epochs:  89%|████████▉ | 455/512 [09:11<00:59,  1.04s/it]"
     ]
    },
    {
     "name": "stdout",
     "output_type": "stream",
     "text": [
      "Epoch 1/1 => Loss: 1.1208, Special-Token Accuracy: 71.71%\n"
     ]
    },
    {
     "name": "stderr",
     "output_type": "stream",
     "text": [
      "Epoch 1/1: 100%|██████████| 11/11 [00:01<00:00,  8.55it/s, loss=1.1092, acc=72.75%]\n",
      "TOTAL Epochs:  89%|████████▉ | 456/512 [09:12<01:02,  1.11s/it]"
     ]
    },
    {
     "name": "stdout",
     "output_type": "stream",
     "text": [
      "Epoch 1/1 => Loss: 1.1074, Special-Token Accuracy: 73.34%\n"
     ]
    },
    {
     "name": "stderr",
     "output_type": "stream",
     "text": [
      "Epoch 1/1: 100%|██████████| 11/11 [00:01<00:00,  8.59it/s, loss=1.1302, acc=74.85%]\n",
      "TOTAL Epochs:  89%|████████▉ | 457/512 [09:13<01:03,  1.16s/it]"
     ]
    },
    {
     "name": "stdout",
     "output_type": "stream",
     "text": [
      "Epoch 1/1 => Loss: 1.1108, Special-Token Accuracy: 73.32%\n"
     ]
    },
    {
     "name": "stderr",
     "output_type": "stream",
     "text": [
      "Epoch 1/1: 100%|██████████| 11/11 [00:01<00:00,  8.58it/s, loss=1.1175, acc=71.17%]\n",
      "TOTAL Epochs:  89%|████████▉ | 458/512 [09:15<01:04,  1.20s/it]"
     ]
    },
    {
     "name": "stdout",
     "output_type": "stream",
     "text": [
      "Epoch 1/1 => Loss: 1.1019, Special-Token Accuracy: 72.83%\n"
     ]
    },
    {
     "name": "stderr",
     "output_type": "stream",
     "text": [
      "Epoch 1/1: 100%|██████████| 11/11 [00:01<00:00,  8.59it/s, loss=1.1404, acc=71.36%]\n",
      "TOTAL Epochs:  90%|████████▉ | 459/512 [09:16<01:04,  1.22s/it]"
     ]
    },
    {
     "name": "stdout",
     "output_type": "stream",
     "text": [
      "Epoch 1/1 => Loss: 1.0962, Special-Token Accuracy: 74.15%\n"
     ]
    },
    {
     "name": "stderr",
     "output_type": "stream",
     "text": [
      "Epoch 1/1: 100%|██████████| 11/11 [00:01<00:00,  8.56it/s, loss=1.0545, acc=75.28%]\n",
      "TOTAL Epochs:  90%|████████▉ | 460/512 [09:17<01:04,  1.24s/it]"
     ]
    },
    {
     "name": "stdout",
     "output_type": "stream",
     "text": [
      "Epoch 1/1 => Loss: 1.0994, Special-Token Accuracy: 72.77%\n"
     ]
    },
    {
     "name": "stderr",
     "output_type": "stream",
     "text": [
      "Epoch 1/1: 100%|██████████| 11/11 [00:01<00:00,  8.60it/s, loss=1.1288, acc=72.21%]\n",
      "TOTAL Epochs:  90%|█████████ | 461/512 [09:18<01:04,  1.25s/it]"
     ]
    },
    {
     "name": "stdout",
     "output_type": "stream",
     "text": [
      "Epoch 1/1 => Loss: 1.0849, Special-Token Accuracy: 74.47%\n"
     ]
    },
    {
     "name": "stderr",
     "output_type": "stream",
     "text": [
      "Epoch 1/1: 100%|██████████| 11/11 [00:01<00:00,  8.54it/s, loss=1.0983, acc=73.22%]\n",
      "TOTAL Epochs:  90%|█████████ | 462/512 [09:20<01:03,  1.27s/it]"
     ]
    },
    {
     "name": "stdout",
     "output_type": "stream",
     "text": [
      "Epoch 1/1 => Loss: 1.0886, Special-Token Accuracy: 74.96%\n"
     ]
    },
    {
     "name": "stderr",
     "output_type": "stream",
     "text": [
      "Epoch 1/1: 100%|██████████| 11/11 [00:01<00:00,  8.52it/s, loss=1.0938, acc=72.55%]\n",
      "TOTAL Epochs:  90%|█████████ | 463/512 [09:21<01:02,  1.28s/it]"
     ]
    },
    {
     "name": "stdout",
     "output_type": "stream",
     "text": [
      "Epoch 1/1 => Loss: 1.1249, Special-Token Accuracy: 73.44%\n"
     ]
    },
    {
     "name": "stderr",
     "output_type": "stream",
     "text": [
      "Epoch 1/1: 100%|██████████| 11/11 [00:01<00:00,  8.52it/s, loss=1.1018, acc=75.96%]\n",
      "TOTAL Epochs:  91%|█████████ | 464/512 [09:22<01:01,  1.28s/it]"
     ]
    },
    {
     "name": "stdout",
     "output_type": "stream",
     "text": [
      "Epoch 1/1 => Loss: 1.1255, Special-Token Accuracy: 73.42%\n"
     ]
    },
    {
     "name": "stderr",
     "output_type": "stream",
     "text": [
      "Epoch 1/1: 100%|██████████| 11/11 [00:01<00:00,  8.49it/s, loss=1.1743, acc=72.92%]\n",
      "TOTAL Epochs:  91%|█████████ | 465/512 [09:24<01:00,  1.29s/it]"
     ]
    },
    {
     "name": "stdout",
     "output_type": "stream",
     "text": [
      "Epoch 1/1 => Loss: 1.1102, Special-Token Accuracy: 72.99%\n"
     ]
    },
    {
     "name": "stderr",
     "output_type": "stream",
     "text": [
      "Epoch 1/1: 100%|██████████| 11/11 [00:01<00:00,  8.53it/s, loss=1.0937, acc=73.40%]\n",
      "TOTAL Epochs:  91%|█████████ | 466/512 [09:25<00:59,  1.29s/it]"
     ]
    },
    {
     "name": "stdout",
     "output_type": "stream",
     "text": [
      "Epoch 1/1 => Loss: 1.1007, Special-Token Accuracy: 74.09%\n"
     ]
    },
    {
     "name": "stderr",
     "output_type": "stream",
     "text": [
      "Epoch 1/1: 100%|██████████| 11/11 [00:01<00:00,  8.55it/s, loss=1.1064, acc=75.35%]\n",
      "TOTAL Epochs:  91%|█████████ | 467/512 [09:26<00:58,  1.29s/it]"
     ]
    },
    {
     "name": "stdout",
     "output_type": "stream",
     "text": [
      "Epoch 1/1 => Loss: 1.0978, Special-Token Accuracy: 73.70%\n"
     ]
    },
    {
     "name": "stderr",
     "output_type": "stream",
     "text": [
      "Epoch 1/1: 100%|██████████| 11/11 [00:01<00:00,  8.52it/s, loss=1.0820, acc=72.67%]\n",
      "TOTAL Epochs:  91%|█████████▏| 468/512 [09:28<00:56,  1.29s/it]"
     ]
    },
    {
     "name": "stdout",
     "output_type": "stream",
     "text": [
      "Epoch 1/1 => Loss: 1.1033, Special-Token Accuracy: 73.07%\n"
     ]
    },
    {
     "name": "stderr",
     "output_type": "stream",
     "text": [
      "Epoch 1/1: 100%|██████████| 11/11 [00:01<00:00,  8.53it/s, loss=1.0718, acc=76.40%]\n",
      "TOTAL Epochs:  92%|█████████▏| 469/512 [09:29<00:55,  1.29s/it]"
     ]
    },
    {
     "name": "stdout",
     "output_type": "stream",
     "text": [
      "Epoch 1/1 => Loss: 1.0860, Special-Token Accuracy: 74.66%\n"
     ]
    },
    {
     "name": "stderr",
     "output_type": "stream",
     "text": [
      "Epoch 1/1: 100%|██████████| 11/11 [00:01<00:00,  8.54it/s, loss=1.0893, acc=77.20%]\n",
      "TOTAL Epochs:  92%|█████████▏| 470/512 [09:30<00:54,  1.29s/it]"
     ]
    },
    {
     "name": "stdout",
     "output_type": "stream",
     "text": [
      "Epoch 1/1 => Loss: 1.0925, Special-Token Accuracy: 74.93%\n"
     ]
    },
    {
     "name": "stderr",
     "output_type": "stream",
     "text": [
      "Epoch 1/1: 100%|██████████| 11/11 [00:01<00:00,  8.55it/s, loss=1.0782, acc=74.15%]\n",
      "TOTAL Epochs:  92%|█████████▏| 471/512 [09:31<00:53,  1.29s/it]"
     ]
    },
    {
     "name": "stdout",
     "output_type": "stream",
     "text": [
      "Epoch 1/1 => Loss: 1.0768, Special-Token Accuracy: 74.24%\n"
     ]
    },
    {
     "name": "stderr",
     "output_type": "stream",
     "text": [
      "Epoch 1/1: 100%|██████████| 11/11 [00:01<00:00,  8.57it/s, loss=1.0729, acc=75.59%]\n",
      "TOTAL Epochs:  92%|█████████▏| 472/512 [09:33<00:51,  1.29s/it]"
     ]
    },
    {
     "name": "stdout",
     "output_type": "stream",
     "text": [
      "Epoch 1/1 => Loss: 1.0684, Special-Token Accuracy: 76.20%\n"
     ]
    },
    {
     "name": "stderr",
     "output_type": "stream",
     "text": [
      "Epoch 1/1: 100%|██████████| 11/11 [00:01<00:00,  8.58it/s, loss=1.0964, acc=75.66%]\n",
      "TOTAL Epochs:  92%|█████████▏| 473/512 [09:34<00:50,  1.29s/it]"
     ]
    },
    {
     "name": "stdout",
     "output_type": "stream",
     "text": [
      "Epoch 1/1 => Loss: 1.0723, Special-Token Accuracy: 75.89%\n"
     ]
    },
    {
     "name": "stderr",
     "output_type": "stream",
     "text": [
      "Epoch 1/1: 100%|██████████| 11/11 [00:01<00:00,  8.61it/s, loss=1.0536, acc=77.41%]\n",
      "TOTAL Epochs:  93%|█████████▎| 474/512 [09:35<00:48,  1.29s/it]"
     ]
    },
    {
     "name": "stdout",
     "output_type": "stream",
     "text": [
      "Epoch 1/1 => Loss: 1.0596, Special-Token Accuracy: 76.90%\n"
     ]
    },
    {
     "name": "stderr",
     "output_type": "stream",
     "text": [
      "Epoch 1/1: 100%|██████████| 11/11 [00:01<00:00,  8.59it/s, loss=1.0957, acc=73.95%]\n",
      "TOTAL Epochs:  93%|█████████▎| 475/512 [09:37<00:47,  1.29s/it]"
     ]
    },
    {
     "name": "stdout",
     "output_type": "stream",
     "text": [
      "Epoch 1/1 => Loss: 1.0651, Special-Token Accuracy: 75.22%\n"
     ]
    },
    {
     "name": "stderr",
     "output_type": "stream",
     "text": [
      "Epoch 1/1: 100%|██████████| 11/11 [00:01<00:00,  8.58it/s, loss=1.0597, acc=77.30%]\n",
      "TOTAL Epochs:  93%|█████████▎| 476/512 [09:38<00:46,  1.29s/it]"
     ]
    },
    {
     "name": "stdout",
     "output_type": "stream",
     "text": [
      "Epoch 1/1 => Loss: 1.0672, Special-Token Accuracy: 76.39%\n"
     ]
    },
    {
     "name": "stderr",
     "output_type": "stream",
     "text": [
      "Epoch 1/1: 100%|██████████| 11/11 [00:00<00:00, -16.77it/s, loss=1.0625, acc=78.57%]\n"
     ]
    },
    {
     "name": "stdout",
     "output_type": "stream",
     "text": [
      "Epoch 1/1 => Loss: 1.0711, Special-Token Accuracy: 76.44%\n"
     ]
    },
    {
     "name": "stderr",
     "output_type": "stream",
     "text": [
      "Epoch 1/1: 100%|██████████| 11/11 [00:01<00:00,  8.54it/s, loss=1.1048, acc=79.07%]\n",
      "TOTAL Epochs:  93%|█████████▎| 478/512 [09:39<00:28,  1.19it/s]"
     ]
    },
    {
     "name": "stdout",
     "output_type": "stream",
     "text": [
      "Epoch 1/1 => Loss: 1.0910, Special-Token Accuracy: 74.35%\n"
     ]
    },
    {
     "name": "stderr",
     "output_type": "stream",
     "text": [
      "Epoch 1/1: 100%|██████████| 11/11 [00:01<00:00,  8.40it/s, loss=1.0864, acc=77.95%]\n",
      "TOTAL Epochs:  94%|█████████▎| 479/512 [09:40<00:31,  1.04it/s]"
     ]
    },
    {
     "name": "stdout",
     "output_type": "stream",
     "text": [
      "Epoch 1/1 => Loss: 1.0760, Special-Token Accuracy: 75.55%\n"
     ]
    },
    {
     "name": "stderr",
     "output_type": "stream",
     "text": [
      "Epoch 1/1: 100%|██████████| 11/11 [00:01<00:00,  8.61it/s, loss=1.0829, acc=77.02%]\n",
      "TOTAL Epochs:  94%|█████████▍| 480/512 [09:41<00:33,  1.04s/it]"
     ]
    },
    {
     "name": "stdout",
     "output_type": "stream",
     "text": [
      "Epoch 1/1 => Loss: 1.0613, Special-Token Accuracy: 75.64%\n"
     ]
    },
    {
     "name": "stderr",
     "output_type": "stream",
     "text": [
      "Epoch 1/1: 100%|██████████| 11/11 [00:01<00:00,  8.65it/s, loss=1.0588, acc=76.72%]\n",
      "TOTAL Epochs:  94%|█████████▍| 481/512 [09:42<00:34,  1.11s/it]"
     ]
    },
    {
     "name": "stdout",
     "output_type": "stream",
     "text": [
      "Epoch 1/1 => Loss: 1.0674, Special-Token Accuracy: 76.71%\n"
     ]
    },
    {
     "name": "stderr",
     "output_type": "stream",
     "text": [
      "Epoch 1/1: 100%|██████████| 11/11 [00:01<00:00,  8.58it/s, loss=1.0810, acc=74.05%]\n",
      "TOTAL Epochs:  94%|█████████▍| 482/512 [09:44<00:34,  1.16s/it]"
     ]
    },
    {
     "name": "stdout",
     "output_type": "stream",
     "text": [
      "Epoch 1/1 => Loss: 1.0767, Special-Token Accuracy: 76.27%\n"
     ]
    },
    {
     "name": "stderr",
     "output_type": "stream",
     "text": [
      "Epoch 1/1: 100%|██████████| 11/11 [00:01<00:00,  8.65it/s, loss=1.0781, acc=75.62%]\n",
      "TOTAL Epochs:  94%|█████████▍| 483/512 [09:45<00:34,  1.19s/it]"
     ]
    },
    {
     "name": "stdout",
     "output_type": "stream",
     "text": [
      "Epoch 1/1 => Loss: 1.0826, Special-Token Accuracy: 75.01%\n"
     ]
    },
    {
     "name": "stderr",
     "output_type": "stream",
     "text": [
      "Epoch 1/1: 100%|██████████| 11/11 [00:01<00:00,  8.62it/s, loss=1.0681, acc=73.71%]\n",
      "TOTAL Epochs:  95%|█████████▍| 484/512 [09:46<00:34,  1.22s/it]"
     ]
    },
    {
     "name": "stdout",
     "output_type": "stream",
     "text": [
      "Epoch 1/1 => Loss: 1.0594, Special-Token Accuracy: 76.20%\n"
     ]
    },
    {
     "name": "stderr",
     "output_type": "stream",
     "text": [
      "Epoch 1/1: 100%|██████████| 11/11 [00:01<00:00,  8.55it/s, loss=1.0685, acc=76.37%]\n",
      "TOTAL Epochs:  95%|█████████▍| 485/512 [09:48<00:33,  1.24s/it]"
     ]
    },
    {
     "name": "stdout",
     "output_type": "stream",
     "text": [
      "Epoch 1/1 => Loss: 1.0697, Special-Token Accuracy: 76.01%\n"
     ]
    },
    {
     "name": "stderr",
     "output_type": "stream",
     "text": [
      "Epoch 1/1: 100%|██████████| 11/11 [00:01<00:00,  8.55it/s, loss=1.0857, acc=77.30%]\n",
      "TOTAL Epochs:  95%|█████████▍| 486/512 [09:49<00:32,  1.26s/it]"
     ]
    },
    {
     "name": "stdout",
     "output_type": "stream",
     "text": [
      "Epoch 1/1 => Loss: 1.0808, Special-Token Accuracy: 75.17%\n"
     ]
    },
    {
     "name": "stderr",
     "output_type": "stream",
     "text": [
      "Epoch 1/1: 100%|██████████| 11/11 [00:01<00:00,  8.48it/s, loss=1.0515, acc=71.16%]\n",
      "TOTAL Epochs:  95%|█████████▌| 487/512 [09:50<00:31,  1.27s/it]"
     ]
    },
    {
     "name": "stdout",
     "output_type": "stream",
     "text": [
      "Epoch 1/1 => Loss: 1.0657, Special-Token Accuracy: 76.34%\n"
     ]
    },
    {
     "name": "stderr",
     "output_type": "stream",
     "text": [
      "Epoch 1/1: 100%|██████████| 11/11 [00:01<00:00,  8.51it/s, loss=1.1188, acc=72.58%]\n",
      "TOTAL Epochs:  95%|█████████▌| 488/512 [09:51<00:30,  1.28s/it]"
     ]
    },
    {
     "name": "stdout",
     "output_type": "stream",
     "text": [
      "Epoch 1/1 => Loss: 1.0708, Special-Token Accuracy: 75.66%\n"
     ]
    },
    {
     "name": "stderr",
     "output_type": "stream",
     "text": [
      "Epoch 1/1: 100%|██████████| 11/11 [00:01<00:00,  8.47it/s, loss=1.1021, acc=73.10%]\n",
      "TOTAL Epochs:  96%|█████████▌| 489/512 [09:53<00:29,  1.29s/it]"
     ]
    },
    {
     "name": "stdout",
     "output_type": "stream",
     "text": [
      "Epoch 1/1 => Loss: 1.0669, Special-Token Accuracy: 75.49%\n"
     ]
    },
    {
     "name": "stderr",
     "output_type": "stream",
     "text": [
      "Epoch 1/1: 100%|██████████| 11/11 [00:01<00:00,  8.49it/s, loss=1.0664, acc=72.56%]\n",
      "TOTAL Epochs:  96%|█████████▌| 490/512 [09:54<00:28,  1.29s/it]"
     ]
    },
    {
     "name": "stdout",
     "output_type": "stream",
     "text": [
      "Epoch 1/1 => Loss: 1.0647, Special-Token Accuracy: 76.42%\n"
     ]
    },
    {
     "name": "stderr",
     "output_type": "stream",
     "text": [
      "Epoch 1/1: 100%|██████████| 11/11 [00:01<00:00,  8.31it/s, loss=1.0560, acc=75.30%]\n",
      "TOTAL Epochs:  96%|█████████▌| 491/512 [09:55<00:27,  1.30s/it]"
     ]
    },
    {
     "name": "stdout",
     "output_type": "stream",
     "text": [
      "Epoch 1/1 => Loss: 1.0508, Special-Token Accuracy: 75.96%\n"
     ]
    },
    {
     "name": "stderr",
     "output_type": "stream",
     "text": [
      "Epoch 1/1: 100%|██████████| 11/11 [00:01<00:00,  8.31it/s, loss=1.0564, acc=78.05%]\n",
      "TOTAL Epochs:  96%|█████████▌| 492/512 [09:57<00:26,  1.31s/it]"
     ]
    },
    {
     "name": "stdout",
     "output_type": "stream",
     "text": [
      "Epoch 1/1 => Loss: 1.0492, Special-Token Accuracy: 77.23%\n"
     ]
    },
    {
     "name": "stderr",
     "output_type": "stream",
     "text": [
      "Epoch 1/1: 100%|██████████| 11/11 [00:01<00:00,  8.52it/s, loss=1.0518, acc=78.53%]\n",
      "TOTAL Epochs:  96%|█████████▋| 493/512 [09:58<00:24,  1.31s/it]"
     ]
    },
    {
     "name": "stdout",
     "output_type": "stream",
     "text": [
      "Epoch 1/1 => Loss: 1.0459, Special-Token Accuracy: 78.01%\n"
     ]
    },
    {
     "name": "stderr",
     "output_type": "stream",
     "text": [
      "Epoch 1/1: 100%|██████████| 11/11 [00:01<00:00,  8.45it/s, loss=1.0781, acc=75.22%]\n",
      "TOTAL Epochs:  96%|█████████▋| 494/512 [09:59<00:23,  1.31s/it]"
     ]
    },
    {
     "name": "stdout",
     "output_type": "stream",
     "text": [
      "Epoch 1/1 => Loss: 1.0512, Special-Token Accuracy: 77.21%\n"
     ]
    },
    {
     "name": "stderr",
     "output_type": "stream",
     "text": [
      "Epoch 1/1: 100%|██████████| 11/11 [00:01<00:00,  8.54it/s, loss=1.0676, acc=75.97%]\n",
      "TOTAL Epochs:  97%|█████████▋| 495/512 [10:01<00:22,  1.30s/it]"
     ]
    },
    {
     "name": "stdout",
     "output_type": "stream",
     "text": [
      "Epoch 1/1 => Loss: 1.0642, Special-Token Accuracy: 76.95%\n"
     ]
    },
    {
     "name": "stderr",
     "output_type": "stream",
     "text": [
      "Epoch 1/1: 100%|██████████| 11/11 [00:01<00:00,  8.51it/s, loss=1.0278, acc=78.06%]\n",
      "TOTAL Epochs:  97%|█████████▋| 496/512 [10:02<00:20,  1.30s/it]"
     ]
    },
    {
     "name": "stdout",
     "output_type": "stream",
     "text": [
      "Epoch 1/1 => Loss: 1.0696, Special-Token Accuracy: 75.87%\n"
     ]
    },
    {
     "name": "stderr",
     "output_type": "stream",
     "text": [
      "Epoch 1/1: 100%|██████████| 11/11 [00:01<00:00,  8.56it/s, loss=1.0398, acc=76.58%]\n",
      "TOTAL Epochs:  97%|█████████▋| 497/512 [10:03<00:19,  1.30s/it]"
     ]
    },
    {
     "name": "stdout",
     "output_type": "stream",
     "text": [
      "Epoch 1/1 => Loss: 1.0564, Special-Token Accuracy: 77.85%\n"
     ]
    },
    {
     "name": "stderr",
     "output_type": "stream",
     "text": [
      "Epoch 1/1: 100%|██████████| 11/11 [00:01<00:00,  8.40it/s, loss=1.0706, acc=75.82%]\n",
      "TOTAL Epochs:  97%|█████████▋| 498/512 [10:05<00:18,  1.30s/it]"
     ]
    },
    {
     "name": "stdout",
     "output_type": "stream",
     "text": [
      "Epoch 1/1 => Loss: 1.0578, Special-Token Accuracy: 76.64%\n"
     ]
    },
    {
     "name": "stderr",
     "output_type": "stream",
     "text": [
      "Epoch 1/1: 100%|██████████| 11/11 [00:01<00:00,  8.45it/s, loss=1.0640, acc=76.32%]\n",
      "TOTAL Epochs:  97%|█████████▋| 499/512 [10:06<00:16,  1.30s/it]"
     ]
    },
    {
     "name": "stdout",
     "output_type": "stream",
     "text": [
      "Epoch 1/1 => Loss: 1.0531, Special-Token Accuracy: 76.91%\n"
     ]
    },
    {
     "name": "stderr",
     "output_type": "stream",
     "text": [
      "Epoch 1/1: 100%|██████████| 11/11 [00:01<00:00,  8.64it/s, loss=1.0965, acc=76.23%]\n",
      "TOTAL Epochs:  98%|█████████▊| 500/512 [10:07<00:15,  1.30s/it]"
     ]
    },
    {
     "name": "stdout",
     "output_type": "stream",
     "text": [
      "Epoch 1/1 => Loss: 1.0724, Special-Token Accuracy: 76.38%\n"
     ]
    },
    {
     "name": "stderr",
     "output_type": "stream",
     "text": [
      "Epoch 1/1: 100%|██████████| 11/11 [00:01<00:00,  8.63it/s, loss=1.1166, acc=78.86%]\n",
      "TOTAL Epochs:  98%|█████████▊| 501/512 [10:08<00:14,  1.29s/it]"
     ]
    },
    {
     "name": "stdout",
     "output_type": "stream",
     "text": [
      "Epoch 1/1 => Loss: 1.0672, Special-Token Accuracy: 77.18%\n"
     ]
    },
    {
     "name": "stderr",
     "output_type": "stream",
     "text": [
      "Epoch 1/1: 100%|██████████| 11/11 [00:00<00:00, -16.30it/s, loss=1.0573, acc=76.76%]\n"
     ]
    },
    {
     "name": "stdout",
     "output_type": "stream",
     "text": [
      "Epoch 1/1 => Loss: 1.0517, Special-Token Accuracy: 76.80%\n"
     ]
    },
    {
     "name": "stderr",
     "output_type": "stream",
     "text": [
      "Epoch 1/1: 100%|██████████| 11/11 [00:01<00:00,  8.57it/s, loss=1.0934, acc=76.53%]\n",
      "TOTAL Epochs:  98%|█████████▊| 503/512 [10:09<00:07,  1.19it/s]"
     ]
    },
    {
     "name": "stdout",
     "output_type": "stream",
     "text": [
      "Epoch 1/1 => Loss: 1.0594, Special-Token Accuracy: 77.24%\n"
     ]
    },
    {
     "name": "stderr",
     "output_type": "stream",
     "text": [
      "Epoch 1/1: 100%|██████████| 11/11 [00:01<00:00,  8.60it/s, loss=1.0485, acc=76.93%]\n",
      "TOTAL Epochs:  98%|█████████▊| 504/512 [10:10<00:07,  1.05it/s]"
     ]
    },
    {
     "name": "stdout",
     "output_type": "stream",
     "text": [
      "Epoch 1/1 => Loss: 1.0603, Special-Token Accuracy: 76.92%\n"
     ]
    },
    {
     "name": "stderr",
     "output_type": "stream",
     "text": [
      "Epoch 1/1: 100%|██████████| 11/11 [00:01<00:00,  8.61it/s, loss=1.0857, acc=77.26%]\n",
      "TOTAL Epochs:  99%|█████████▊| 505/512 [10:12<00:07,  1.04s/it]"
     ]
    },
    {
     "name": "stdout",
     "output_type": "stream",
     "text": [
      "Epoch 1/1 => Loss: 1.0612, Special-Token Accuracy: 77.04%\n"
     ]
    },
    {
     "name": "stderr",
     "output_type": "stream",
     "text": [
      "Epoch 1/1: 100%|██████████| 11/11 [00:01<00:00,  8.55it/s, loss=1.0838, acc=78.03%]\n",
      "TOTAL Epochs:  99%|█████████▉| 506/512 [10:13<00:06,  1.11s/it]"
     ]
    },
    {
     "name": "stdout",
     "output_type": "stream",
     "text": [
      "Epoch 1/1 => Loss: 1.0753, Special-Token Accuracy: 76.86%\n"
     ]
    },
    {
     "name": "stderr",
     "output_type": "stream",
     "text": [
      "Epoch 1/1: 100%|██████████| 11/11 [00:01<00:00,  8.60it/s, loss=1.0692, acc=77.92%]\n",
      "TOTAL Epochs:  99%|█████████▉| 507/512 [10:14<00:05,  1.16s/it]"
     ]
    },
    {
     "name": "stdout",
     "output_type": "stream",
     "text": [
      "Epoch 1/1 => Loss: 1.0711, Special-Token Accuracy: 77.42%\n"
     ]
    },
    {
     "name": "stderr",
     "output_type": "stream",
     "text": [
      "Epoch 1/1: 100%|██████████| 11/11 [00:01<00:00,  8.52it/s, loss=1.0640, acc=80.63%]\n",
      "TOTAL Epochs:  99%|█████████▉| 508/512 [10:15<00:04,  1.20s/it]"
     ]
    },
    {
     "name": "stdout",
     "output_type": "stream",
     "text": [
      "Epoch 1/1 => Loss: 1.0501, Special-Token Accuracy: 78.98%\n"
     ]
    },
    {
     "name": "stderr",
     "output_type": "stream",
     "text": [
      "Epoch 1/1: 100%|██████████| 11/11 [00:01<00:00,  8.42it/s, loss=1.0902, acc=75.17%]\n",
      "TOTAL Epochs:  99%|█████████▉| 509/512 [10:17<00:03,  1.23s/it]"
     ]
    },
    {
     "name": "stdout",
     "output_type": "stream",
     "text": [
      "Epoch 1/1 => Loss: 1.0658, Special-Token Accuracy: 76.64%\n"
     ]
    },
    {
     "name": "stderr",
     "output_type": "stream",
     "text": [
      "Epoch 1/1: 100%|██████████| 11/11 [00:01<00:00,  8.56it/s, loss=1.1227, acc=71.50%]\n",
      "TOTAL Epochs: 100%|█████████▉| 510/512 [10:18<00:02,  1.25s/it]"
     ]
    },
    {
     "name": "stdout",
     "output_type": "stream",
     "text": [
      "Epoch 1/1 => Loss: 1.0735, Special-Token Accuracy: 75.88%\n"
     ]
    },
    {
     "name": "stderr",
     "output_type": "stream",
     "text": [
      "Epoch 1/1: 100%|██████████| 11/11 [00:01<00:00,  8.63it/s, loss=1.0792, acc=73.34%]\n",
      "TOTAL Epochs: 100%|█████████▉| 511/512 [10:19<00:01,  1.26s/it]"
     ]
    },
    {
     "name": "stdout",
     "output_type": "stream",
     "text": [
      "Epoch 1/1 => Loss: 1.0555, Special-Token Accuracy: 76.66%\n"
     ]
    },
    {
     "name": "stderr",
     "output_type": "stream",
     "text": [
      "Epoch 1/1: 100%|██████████| 11/11 [00:01<00:00,  8.54it/s, loss=1.0295, acc=77.68%]\n",
      "TOTAL Epochs: 100%|██████████| 512/512 [10:21<00:00,  1.21s/it]"
     ]
    },
    {
     "name": "stdout",
     "output_type": "stream",
     "text": [
      "Epoch 1/1 => Loss: 1.0668, Special-Token Accuracy: 76.58%\n"
     ]
    },
    {
     "name": "stderr",
     "output_type": "stream",
     "text": [
      "\n"
     ]
    }
   ],
   "source": [
    "# the actual trainign loop\n",
    "train_stats = []\n",
    "test_stats = []\n",
    "for epoch in tqdm(range(TOTAL_EPOCHS), desc=\"TOTAL Epochs\", disable=(verbosity == 0)):\n",
    "    res = train_epoch(model, \n",
    "                     train_loader, \n",
    "                     epochs=PER_EPOCH, \n",
    "                     optimizer=optimizer,\n",
    "                     scheduler=scheduler,\n",
    "                    loss_func=criterion,\n",
    "                     device=global_device,\n",
    "                     min_special_tokens=100,\n",
    "                     max_special_tokens=1000,\n",
    "                     verbose=epoch % 10 == 0 \n",
    "                     )\n",
    "    train_stats.append(res)\n",
    "    test_stats.append(res)\n",
    "\n"
   ]
  },
  {
   "cell_type": "code",
   "execution_count": 11,
   "metadata": {},
   "outputs": [
    {
     "data": {
      "image/png": "[encoded data removed]",
      "text/plain": [
       "<Figure size 1000x500 with 2 Axes>"
      ]
     },
     "metadata": {},
     "output_type": "display_data"
    }
   ],
   "source": [
    "# plot the training and testing loss and accuracy\n",
    "train_loss = [stat[0] for stat in train_stats]\n",
    "train_acc =  [stat[1] for stat in train_stats]\n",
    "test_loss =  [stat[0] for stat in test_stats]\n",
    "test_acc =   [stat[1] for stat in test_stats]\n",
    "x_test = np.linspace(0, len(train_loss), len(test_loss))\n",
    "plt.figure(figsize=(10, 5))\n",
    "plt.subplot(1, 2, 1)\n",
    "plt.plot(train_loss, label='Train Loss')\n",
    "plt.plot(x_test, test_loss, label='Test Loss')\n",
    "plt.axhline(np.min(test_loss), color='r', linestyle='--', label='Test Start')\n",
    "plt.text(0, np.min(test_loss), f\"{np.min(test_loss):.4f}\", va='center', ha='left')\n",
    "plt.title('Loss')\n",
    "plt.grid()\n",
    "plt.legend()\n",
    "plt.subplot(1, 2, 2)\n",
    "plt.plot(train_acc, label='Train Accuracy')\n",
    "plt.plot(x_test, test_acc, label='Test Accuracy')\n",
    "plt.axhline(np.max(test_acc), color='r', linestyle='--', label='Test Start')\n",
    "plt.text(0, np.max(test_acc), f\"{np.max(test_acc):.2f}%\", va='center', ha='left')\n",
    "plt.title('Accuracy')\n",
    "plt.grid()\n",
    "plt.legend()\n",
    "plt.show()\n",
    "peak_accuracy = np.max(test_acc)"
   ]
  },
  {
   "cell_type": "code",
   "execution_count": 12,
   "metadata": {},
   "outputs": [],
   "source": [
    "# !pip install seaborn"
   ]
  },
  {
   "cell_type": "code",
   "execution_count": 14,
   "metadata": {},
   "outputs": [
    {
     "name": "stderr",
     "output_type": "stream",
     "text": [
      "Evaluating: 100%|██████████| 2/2 [00:00<00:00,  4.04it/s, loss=1.3233, acc=78.52%]\n"
     ]
    },
    {
     "name": "stdout",
     "output_type": "stream",
     "text": [
      "[EVAL] => Loss: 1.3474, Accuracy: 78.81%\n",
      "[VALID] Loss: 1.3474, Accuracy: 78.81%\n",
      "Confusion Matrix:\n",
      " [[  451     0     0 ...     0     0     0]\n",
      " [    0   837     0 ...     0     0     0]\n",
      " [   18     0   939 ...     0     0     0]\n",
      " ...\n",
      " [    0     0     0 ...  1163     0     0]\n",
      " [    0     0     0 ...     0  1549     0]\n",
      " [  405   399   363 ...   392   528 12953]]\n"
     ]
    },
    {
     "data": {
      "image/png": "[encoded data removed]",
      "text/plain": [
       "<Figure size 2000x2000 with 2 Axes>"
      ]
     },
     "metadata": {},
     "output_type": "display_data"
    }
   ],
   "source": [
    "import torch\n",
    "import torch.nn.functional as F\n",
    "from tqdm import tqdm\n",
    "from sklearn.metrics import confusion_matrix\n",
    "import matplotlib.pyplot as plt\n",
    "import seaborn as sns\n",
    "\n",
    "def evaluate_epoch(\n",
    "    model,\n",
    "    dataloader,\n",
    "    dataset,  # used for `id_to_dataset()`\n",
    "    device='cpu',\n",
    "    verbose=1\n",
    "):\n",
    "    \"\"\"\n",
    "    Evaluate `model` for 1 epoch on `dataloader`, following the same strategy\n",
    "    as the new training loop:\n",
    "\n",
    "    - Downsample `ids` by `model.input_kern` (to match conv-downsampled length).\n",
    "    - Forward pass on entire sequence to obtain [B, seq_len_after_conv, output_dim].\n",
    "    - Compute cross-entropy loss on the entire output sequence.\n",
    "    - Accumulate predictions vs. targets for final confusion matrix.\n",
    "    - Return (avg_loss, accuracy, confusion_matrix).\n",
    "    \"\"\"\n",
    "    model.to(device)\n",
    "    model.eval()\n",
    "\n",
    "    all_labels = []\n",
    "    all_preds = []\n",
    "    total_loss = 0.0\n",
    "    total_correct = 0\n",
    "    total_tokens = 0\n",
    "    num_batches = 0\n",
    "\n",
    "    with torch.no_grad():\n",
    "        iterator = tqdm(dataloader, desc=\"Evaluating\", disable=(verbose == 0))\n",
    "        for (adc1, adc2, ids) in iterator:\n",
    "            # Move data to device\n",
    "            adc1 = adc1.to(device)  # shape [B, T]\n",
    "            adc2 = adc2.to(device)  # shape [B, T]\n",
    "            ids  = ids.to(device)   # shape [B, T]\n",
    "\n",
    "            # Downsample `ids` to match logits' length\n",
    "            ids = ids[:, ::model.input_kern]  # shape [B, T_after_conv]\n",
    "\n",
    "            # Prepare input: stack the two ADC channels => [B, 2, T]\n",
    "            adc = torch.stack((adc1, adc2), dim=1)  # [B, 2, T]\n",
    "\n",
    "            # Forward pass\n",
    "            logits = model(adc)  # => [B, seq_len_after_conv, output_dim]\n",
    "\n",
    "            # Compute loss\n",
    "            loss = F.cross_entropy(\n",
    "                logits.permute(0, 2, 1),  # => [B, output_dim, seq_len_after_conv]\n",
    "                ids                       # => [B, seq_len_after_conv]\n",
    "            )\n",
    "\n",
    "            # Predictions & accuracy\n",
    "            pred = logits.argmax(dim=2)  # => [B, seq_len_after_conv]\n",
    "            correct = (pred == ids).sum().item()\n",
    "            batch_tokens = ids.numel()\n",
    "\n",
    "            total_loss += loss.item()\n",
    "            total_correct += correct\n",
    "            total_tokens += batch_tokens\n",
    "            num_batches += 1\n",
    "\n",
    "            # Accumulate for confusion matrix\n",
    "            all_labels.extend(ids.view(-1).cpu().tolist())\n",
    "            all_preds.extend(pred.view(-1).cpu().tolist())\n",
    "\n",
    "            if verbose:\n",
    "                iterator.set_postfix({\n",
    "                    \"loss\": f\"{loss.item():.4f}\",\n",
    "                    \"acc\": f\"{100.0 * correct / batch_tokens:.2f}%\"\n",
    "                })\n",
    "\n",
    "    # Final stats\n",
    "    avg_loss = total_loss / max(num_batches, 1)\n",
    "    accuracy = 100.0 * total_correct / total_tokens if total_tokens > 0 else 0.0\n",
    "\n",
    "    # Build confusion matrix\n",
    "    conf_mat = confusion_matrix(all_labels, all_preds)\n",
    "\n",
    "    if verbose:\n",
    "        print(f\"[EVAL] => Loss: {avg_loss:.4f}, Accuracy: {accuracy:.2f}%\")\n",
    "\n",
    "    return avg_loss, accuracy, conf_mat\n",
    "\n",
    "\n",
    "# Example usage:\n",
    "avg_loss, accuracy, conf_mat = evaluate_epoch(model, val_loader, dataset=dataset, device='cuda')\n",
    "print(f\"[VALID] Loss: {avg_loss:.4f}, Accuracy: {accuracy:.2f}%\")\n",
    "print(\"Confusion Matrix:\\n\", conf_mat)\n",
    "\n",
    "# Build label names from your dataset\n",
    "# Usually, you'd need the number of classes from something like `model.output_dim`,\n",
    "# or from the shape of `conf_mat`. We'll assume conf_mat is square CxC, so:\n",
    "num_classes = conf_mat.shape[0]\n",
    "label_names = [dataset.id_to_dataset(i) for i in range(num_classes)]\n",
    "\n",
    "# Plot the confusion matrix with class names\n",
    "plt.figure(figsize=(20, 20))\n",
    "sns.heatmap(\n",
    "    conf_mat,\n",
    "    annot=True,\n",
    "    fmt='d',\n",
    "    cmap='Blues',\n",
    "    xticklabels=label_names,\n",
    "    yticklabels=label_names\n",
    ")\n",
    "plt.title(f'Confusion Matrix, Accuracy: {accuracy:.2f}%, Loss: {avg_loss:.4f}')\n",
    "plt.xlabel('Predicted')\n",
    "plt.ylabel('True')\n",
    "plt.show()\n"
   ]
  }
 ],
 "metadata": {
  "kernelspec": {
   "display_name": "torch",
   "language": "python",
   "name": "python3"
  },
  "language_info": {
   "codemirror_mode": {
    "name": "ipython",
    "version": 3
   },
   "file_extension": ".py",
   "mimetype": "text/x-python",
   "name": "python",
   "nbconvert_exporter": "python",
   "pygments_lexer": "ipython3",
   "version": "3.12.3"
  }
 },
 "nbformat": 4,
 "nbformat_minor": 2
}
