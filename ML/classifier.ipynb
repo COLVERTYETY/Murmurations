{
 "cells": [
  {
   "cell_type": "code",
   "execution_count": 1,
   "metadata": {},
   "outputs": [
    {
     "name": "stdout",
     "output_type": "stream",
     "text": [
      "Number of classes: 38\n",
      "\n",
      "With ADC interpolation to length 512:\n",
      "ADC1 shape: torch.Size([512])\n",
      "ADC2 shape: torch.Size([512])\n",
      "Audio Sampling Rate: 48000\n",
      "ADC Highcut: 3700\n"
     ]
    }
   ],
   "source": [
    "import torch\n",
    "from torch.utils.data import Dataset\n",
    "import numpy as np\n",
    "import json\n",
    "from scipy import signal\n",
    "import os\n",
    "\n",
    "class MemmapDataset(Dataset):\n",
    "    def __init__(self, descriptor_path, padding_handling=\"remove\", interp_length=None, transform=None, filter=False):\n",
    "        \"\"\"\n",
    "        Args:\n",
    "            descriptor_path (str): Path to the descriptor JSON file (e.g., 'descriptor.json').\n",
    "            padding_handling (str or float): How to handle np.inf padding values.\n",
    "                - \"remove\" (default): Remove the padded np.inf values and return variable-length arrays.\n",
    "                - A float: Replace any np.inf values with the given float.\n",
    "            interp_length (int, optional): If provided, the ADC data (adc1 and adc2) will be\n",
    "                first stripped of np.inf padding and then interpolated to this fixed length.\n",
    "            transform (callable, optional): Optional transform to be applied on a sample.\n",
    "            filter (bool, optional): Whether to apply a bandpass filter to the audio data.\n",
    "        \"\"\"\n",
    "        # Load descriptor from JSON file.\n",
    "        with open(descriptor_path, 'r') as f:\n",
    "            self.descriptor = json.load(f)\n",
    "        \n",
    "        # Extract required parameters from the descriptor.\n",
    "        self.audio_sampling_rate = self.descriptor['audio_sampling_rate']\n",
    "        self.adc_sampling_rate = self.descriptor['adc_sampling_rate']\n",
    "        self.audio_lowcut       = self.descriptor['audio_lowcut']\n",
    "        self.audio_highcut      = self.descriptor['audio_highcut']\n",
    "        self.adc_lowcut         = self.descriptor['adc_lowcut']\n",
    "        self.adc_highcut        = self.descriptor['adc_highcut']\n",
    "        self.max_audio_len      = self.descriptor['max_audio_len']\n",
    "        self.max_adc_len        = self.descriptor['max_adc_len']\n",
    "        self.n_segments         = self.descriptor['n_segments']\n",
    "        self.memmap_filename    = self.descriptor['memmap_filename']\n",
    "        self.dataset_mapping    = self.descriptor['dataset_mapping']\n",
    "        # Rebuild the dtype from the descriptor.\n",
    "        self.dtype = np.dtype([tuple(item) for item in self.descriptor['dtype']])\n",
    "        \n",
    "        # Open the memmap file in read-only mode using the number of segments from the descriptor.\n",
    "        self.memmap = np.memmap(self.memmap_filename, dtype=self.dtype, mode='r', shape=(self.n_segments,))\n",
    "        \n",
    "        self.transform = transform\n",
    "        self.padding_handling = padding_handling\n",
    "        self.interp_length = interp_length\n",
    "        self.filter = filter\n",
    "\n",
    "    def __len__(self):\n",
    "        return self.n_segments\n",
    "\n",
    "    def __getitem__(self, index):\n",
    "        # Retrieve the record from the memmap.\n",
    "        row = self.memmap[index]\n",
    "        \n",
    "        # Convert fixed-size arrays to numpy arrays.\n",
    "        audio_arr = np.array(row['audio'])\n",
    "        adc1_arr = np.array(row['adc1'])\n",
    "        adc2_arr = np.array(row['adc2'])\n",
    "        \n",
    "        # Process audio channel using the padding handling method.\n",
    "        audio_arr = self._handle_padding(audio_arr, self.padding_handling)\n",
    "        adc1_arr = self._handle_padding(adc1_arr, self.padding_handling)\n",
    "        adc2_arr = self._handle_padding(adc2_arr, self.padding_handling)\n",
    "        \n",
    "        if self.filter:\n",
    "            audio_arr = self.BPfilter(audio_arr, self.audio_sampling_rate, self.audio_lowcut, self.audio_highcut)\n",
    "            adc1_arr = self.BPfilter(adc1_arr, self.adc_sampling_rate, self.adc_lowcut, self.adc_highcut)\n",
    "            adc2_arr = self.BPfilter(adc2_arr, self.adc_sampling_rate, self.adc_lowcut, self.adc_highcut)\n",
    "\n",
    "        # Process ADC channels.\n",
    "        if self.interp_length is not None:\n",
    "            audio_arr = self._interpolate_channel(audio_arr, self.interp_length)\n",
    "            adc1_arr = self._interpolate_channel(adc1_arr, self.interp_length)\n",
    "            adc2_arr = self._interpolate_channel(adc2_arr, self.interp_length)\n",
    "        \n",
    "        # Create a sample tuple.\n",
    "        # Use .copy() to ensure the arrays have positive strides.\n",
    "        sample = ( \n",
    "            int(row['id']), \n",
    "            torch.from_numpy(audio_arr.copy()).float(),  \n",
    "            torch.from_numpy(adc1_arr.copy()).float(), \n",
    "            torch.from_numpy(adc2_arr.copy()).float(),  \n",
    "        )\n",
    "        \n",
    "        if self.transform:\n",
    "            sample = self.transform(sample)\n",
    "        return sample\n",
    "\n",
    "    def _handle_padding(self, arr, mode):\n",
    "        \"\"\"\n",
    "        Handle the np.inf padded values in the array.\n",
    "        If mode is \"remove\", return the array with inf values removed.\n",
    "        If mode is a float, replace inf values with that float.\n",
    "        \"\"\"\n",
    "        if mode == \"remove\":\n",
    "            return arr[~np.isinf(arr)]\n",
    "        elif isinstance(mode, (int, float)):\n",
    "            return np.where(np.isinf(arr), mode, arr)\n",
    "        else:\n",
    "            raise ValueError(\"Invalid padding_handling value. Use 'remove' or a float value.\")\n",
    "\n",
    "    def _interpolate_channel(self, arr, target_length):\n",
    "        \"\"\"\n",
    "        Remove np.inf values from the array and linearly interpolate\n",
    "        to the target_length.\n",
    "        \"\"\"\n",
    "        # Remove padded inf values.\n",
    "        valid = arr[~np.isinf(arr)]\n",
    "        if len(valid) == 0:\n",
    "            # If there is no valid data, return an array of zeros.\n",
    "            return np.zeros(target_length, dtype=arr.dtype)\n",
    "        # Generate new indices for interpolation.\n",
    "        old_indices = np.arange(len(valid))\n",
    "        new_indices = np.linspace(0, len(valid) - 1, target_length)\n",
    "        return np.interp(new_indices, old_indices, valid)[:target_length]\n",
    "\n",
    "    def get(self, field):\n",
    "        \"\"\"\n",
    "        Return the value of the given descriptor field.\n",
    "        For example, dataset.get(\"audio_sampling_rate\") returns the audio sampling rate.\n",
    "        \"\"\"\n",
    "        return self.descriptor.get(field, None)\n",
    "\n",
    "    def id_to_dataset(self, id):\n",
    "        \"\"\"\n",
    "        Return the dataset string for the given ID.\n",
    "        \"\"\"\n",
    "        return self.dataset_mapping.get(str(id), \"Unknown\")\n",
    "\n",
    "    def get_Nclasses(self):\n",
    "        \"\"\"\n",
    "        Return the number of unique datasets in the dataset_mapping.\n",
    "        \"\"\"\n",
    "        return len(set(self.dataset_mapping.values()))\n",
    "    \n",
    "    def BPfilter(self, data, fs, lowcut_hz=None, highcut_hz=None):\n",
    "        \"\"\"\n",
    "        Apply a bandpass Butterworth filter to the input data.\n",
    "        \n",
    "        Parameters:\n",
    "        data : array-like\n",
    "            The input signal to filter\n",
    "        fs : float\n",
    "            Sampling frequency in Hz\n",
    "        lowcut_hz : float, optional\n",
    "            Lower cutoff frequency in Hz. If None, defaults to 20 Hz\n",
    "        highcut_hz : float, optional\n",
    "            Upper cutoff frequency in Hz. If None, defaults to fs/4 Hz\n",
    "            \n",
    "        Returns:\n",
    "        array-like\n",
    "            The filtered signal\n",
    "        \"\"\"\n",
    "        # Default cutoff frequencies if not provided.\n",
    "        if lowcut_hz is None:\n",
    "            lowcut_hz = 20  # Default lower cutoff of 20 Hz\n",
    "        if highcut_hz is None:\n",
    "            highcut_hz = fs/4  # Default upper cutoff at quarter of sampling rate\n",
    "        \n",
    "        # Convert cutoff frequencies to normalized units (0 to 1).\n",
    "        nyquist = fs / 2\n",
    "        low = lowcut_hz / nyquist\n",
    "        high = highcut_hz / nyquist\n",
    "        \n",
    "        # Create a 4th-order bandpass Butterworth filter.\n",
    "        b, a = signal.butter(2, [low, high], btype='band')\n",
    "        \n",
    "        # Apply zero-phase filtering using filtfilt.\n",
    "        filtered_data = signal.filtfilt(b, a, data)\n",
    "        return filtered_data\n",
    "\n",
    "class normalizer():\n",
    "    def __init__(self, mean, std):\n",
    "        self.mean = mean\n",
    "        self.std = std\n",
    "\n",
    "    def __call__(self, sample):\n",
    "        id, audio, adc1, adc2 = sample\n",
    "        audio = (audio - self.mean[0]) / self.std[0]\n",
    "        adc1 = (adc1 - self.mean[1]) / self.std[1]\n",
    "        adc2 = (adc2 - self.mean[1]) / self.std[1]\n",
    "        return id, audio, adc1, adc2\n",
    "\n",
    "input_length = 512\n",
    "# Path to the descriptor JSON file.\n",
    "descriptor_path = 'samdescriptor.json'\n",
    "# Create a dataset instance that interpolates ADC channels to length 300, with filtering.\n",
    "dataset = MemmapDataset(descriptor_path, padding_handling=\"remove\", interp_length=input_length, filter=True)\n",
    "# dataset = MemmapDataset(descriptor_path, padding_handling=\"remove\", filter=True)\n",
    "transform = normalizer(mean=[dataset.get(\"audio_mean\"), dataset.get(\"adc_mean\")], std=[dataset.get(\"audio_std\"), dataset.get(\"adc_std\")])\n",
    "dataset.transform = transform\n",
    "output_length = dataset.get_Nclasses()\n",
    "print(\"Number of classes:\", output_length)\n",
    "sample = dataset[1]\n",
    "print(f\"\\nWith ADC interpolation to length {input_length}:\")\n",
    "print(\"ADC1 shape:\", sample[2].shape)\n",
    "print(\"ADC2 shape:\", sample[3].shape)\n",
    "\n",
    "# Demonstrate accessing a descriptor field.\n",
    "print(\"Audio Sampling Rate:\", dataset.get(\"audio_sampling_rate\"))\n",
    "print(\"ADC Highcut:\", dataset.get(\"adc_highcut\"))\n"
   ]
  },
  {
   "cell_type": "code",
   "execution_count": 2,
   "metadata": {},
   "outputs": [
    {
     "data": {
      "image/png": "[encoded data removed]",
      "text/plain": [
       "<Figure size 1000x800 with 3 Axes>"
      ]
     },
     "metadata": {},
     "output_type": "display_data"
    }
   ],
   "source": [
    "import matplotlib.pyplot as plt\n",
    "\n",
    "\n",
    "rng_index = np.random.randint(0, len(dataset))\n",
    "sample = dataset[rng_index]\n",
    "\n",
    "sample_id, audio, adc1, adc2 = sample  # unpack the tuple\n",
    "\n",
    "# Convert tensors to numpy arrays for plotting\n",
    "audio_np = audio.numpy()\n",
    "adc1_np = adc1.numpy()\n",
    "adc2_np = adc2.numpy()\n",
    "\n",
    "# Create a figure with three subplots for audio, ADC1, and ADC2.\n",
    "fig, axs = plt.subplots(3, 1, figsize=(10, 8))\n",
    "\n",
    "axs[0].plot(audio_np)\n",
    "axs[0].set_title(f\"Audio Sample (ID: {sample_id}=>{dataset.id_to_dataset(sample_id)})\")\n",
    "axs[0].set_xlabel(\"Time\")\n",
    "axs[0].set_ylabel(\"Amplitude\")\n",
    "\n",
    "axs[1].plot(adc1_np)\n",
    "axs[1].set_title(f\"ADC1 Sample (n={len(adc1_np)} samples)\")\n",
    "axs[1].set_xlabel(\"Time\")\n",
    "axs[1].set_ylabel(\"Amplitude\")\n",
    "\n",
    "axs[2].plot(adc2_np)\n",
    "axs[2].set_title(f\"ADC2 Sample (n={len(adc2_np)} samples)\")\n",
    "axs[2].set_xlabel(\"Time\")\n",
    "axs[2].set_ylabel(\"Amplitude\")\n",
    "\n",
    "plt.tight_layout()\n",
    "plt.show()\n"
   ]
  },
  {
   "cell_type": "code",
   "execution_count": 3,
   "metadata": {},
   "outputs": [
    {
     "name": "stdout",
     "output_type": "stream",
     "text": [
      "Output shape is: torch.Size([4, 38])\n",
      "ResNet(\n",
      "  (conv1): Conv1d(2, 64, kernel_size=(7,), stride=(2,), padding=(3,))\n",
      "  (bn1): BatchNorm1d(64, eps=1e-05, momentum=0.1, affine=True, track_running_stats=True)\n",
      "  (relu): ELU(alpha=1.0, inplace=True)\n",
      "  (maxpool): MaxPool1d(kernel_size=3, stride=2, padding=1, dilation=1, ceil_mode=False)\n",
      "  (layer1): Sequential(\n",
      "    (0): ResNetBlock(\n",
      "      (conv1): Conv1d(64, 128, kernel_size=(3,), stride=(1,), padding=(1,), bias=False)\n",
      "      (bn1): BatchNorm1d(128, eps=1e-05, momentum=0.1, affine=True, track_running_stats=True)\n",
      "      (relu): ELU(alpha=1.0, inplace=True)\n",
      "      (conv2): Conv1d(128, 128, kernel_size=(3,), stride=(1,), padding=(1,), bias=False)\n",
      "      (bn2): BatchNorm1d(128, eps=1e-05, momentum=0.1, affine=True, track_running_stats=True)\n",
      "      (shortcut): Sequential(\n",
      "        (0): Conv1d(64, 128, kernel_size=(1,), stride=(1,), bias=False)\n",
      "        (1): BatchNorm1d(128, eps=1e-05, momentum=0.1, affine=True, track_running_stats=True)\n",
      "      )\n",
      "    )\n",
      "    (1): ResNetBlock(\n",
      "      (conv1): Conv1d(128, 128, kernel_size=(3,), stride=(1,), padding=(1,), bias=False)\n",
      "      (bn1): BatchNorm1d(128, eps=1e-05, momentum=0.1, affine=True, track_running_stats=True)\n",
      "      (relu): ELU(alpha=1.0, inplace=True)\n",
      "      (conv2): Conv1d(128, 128, kernel_size=(3,), stride=(1,), padding=(1,), bias=False)\n",
      "      (bn2): BatchNorm1d(128, eps=1e-05, momentum=0.1, affine=True, track_running_stats=True)\n",
      "      (shortcut): Sequential()\n",
      "    )\n",
      "    (2): ResNetBlock(\n",
      "      (conv1): Conv1d(128, 128, kernel_size=(3,), stride=(1,), padding=(1,), bias=False)\n",
      "      (bn1): BatchNorm1d(128, eps=1e-05, momentum=0.1, affine=True, track_running_stats=True)\n",
      "      (relu): ELU(alpha=1.0, inplace=True)\n",
      "      (conv2): Conv1d(128, 128, kernel_size=(3,), stride=(1,), padding=(1,), bias=False)\n",
      "      (bn2): BatchNorm1d(128, eps=1e-05, momentum=0.1, affine=True, track_running_stats=True)\n",
      "      (shortcut): Sequential()\n",
      "    )\n",
      "    (3): ResNetBlock(\n",
      "      (conv1): Conv1d(128, 128, kernel_size=(3,), stride=(1,), padding=(1,), bias=False)\n",
      "      (bn1): BatchNorm1d(128, eps=1e-05, momentum=0.1, affine=True, track_running_stats=True)\n",
      "      (relu): ELU(alpha=1.0, inplace=True)\n",
      "      (conv2): Conv1d(128, 128, kernel_size=(3,), stride=(1,), padding=(1,), bias=False)\n",
      "      (bn2): BatchNorm1d(128, eps=1e-05, momentum=0.1, affine=True, track_running_stats=True)\n",
      "      (shortcut): Sequential()\n",
      "    )\n",
      "  )\n",
      "  (layer2): Sequential(\n",
      "    (0): ResNetBlock(\n",
      "      (conv1): Conv1d(128, 256, kernel_size=(3,), stride=(2,), padding=(1,), bias=False)\n",
      "      (bn1): BatchNorm1d(256, eps=1e-05, momentum=0.1, affine=True, track_running_stats=True)\n",
      "      (relu): ELU(alpha=1.0, inplace=True)\n",
      "      (conv2): Conv1d(256, 256, kernel_size=(3,), stride=(1,), padding=(1,), bias=False)\n",
      "      (bn2): BatchNorm1d(256, eps=1e-05, momentum=0.1, affine=True, track_running_stats=True)\n",
      "      (shortcut): Sequential(\n",
      "        (0): Conv1d(128, 256, kernel_size=(1,), stride=(2,), bias=False)\n",
      "        (1): BatchNorm1d(256, eps=1e-05, momentum=0.1, affine=True, track_running_stats=True)\n",
      "      )\n",
      "    )\n",
      "    (1): ResNetBlock(\n",
      "      (conv1): Conv1d(256, 256, kernel_size=(3,), stride=(1,), padding=(1,), bias=False)\n",
      "      (bn1): BatchNorm1d(256, eps=1e-05, momentum=0.1, affine=True, track_running_stats=True)\n",
      "      (relu): ELU(alpha=1.0, inplace=True)\n",
      "      (conv2): Conv1d(256, 256, kernel_size=(3,), stride=(1,), padding=(1,), bias=False)\n",
      "      (bn2): BatchNorm1d(256, eps=1e-05, momentum=0.1, affine=True, track_running_stats=True)\n",
      "      (shortcut): Sequential()\n",
      "    )\n",
      "  )\n",
      "  (layer3): Sequential(\n",
      "    (0): ResNetBlock(\n",
      "      (conv1): Conv1d(256, 512, kernel_size=(3,), stride=(2,), padding=(1,), bias=False)\n",
      "      (bn1): BatchNorm1d(512, eps=1e-05, momentum=0.1, affine=True, track_running_stats=True)\n",
      "      (relu): ELU(alpha=1.0, inplace=True)\n",
      "      (conv2): Conv1d(512, 512, kernel_size=(3,), stride=(1,), padding=(1,), bias=False)\n",
      "      (bn2): BatchNorm1d(512, eps=1e-05, momentum=0.1, affine=True, track_running_stats=True)\n",
      "      (shortcut): Sequential(\n",
      "        (0): Conv1d(256, 512, kernel_size=(1,), stride=(2,), bias=False)\n",
      "        (1): BatchNorm1d(512, eps=1e-05, momentum=0.1, affine=True, track_running_stats=True)\n",
      "      )\n",
      "    )\n",
      "    (1): ResNetBlock(\n",
      "      (conv1): Conv1d(512, 512, kernel_size=(3,), stride=(1,), padding=(1,), bias=False)\n",
      "      (bn1): BatchNorm1d(512, eps=1e-05, momentum=0.1, affine=True, track_running_stats=True)\n",
      "      (relu): ELU(alpha=1.0, inplace=True)\n",
      "      (conv2): Conv1d(512, 512, kernel_size=(3,), stride=(1,), padding=(1,), bias=False)\n",
      "      (bn2): BatchNorm1d(512, eps=1e-05, momentum=0.1, affine=True, track_running_stats=True)\n",
      "      (shortcut): Sequential()\n",
      "    )\n",
      "  )\n",
      "  (layer4): Sequential(\n",
      "    (0): ResNetBlock(\n",
      "      (conv1): Conv1d(512, 512, kernel_size=(3,), stride=(2,), padding=(1,), bias=False)\n",
      "      (bn1): BatchNorm1d(512, eps=1e-05, momentum=0.1, affine=True, track_running_stats=True)\n",
      "      (relu): ELU(alpha=1.0, inplace=True)\n",
      "      (conv2): Conv1d(512, 512, kernel_size=(3,), stride=(1,), padding=(1,), bias=False)\n",
      "      (bn2): BatchNorm1d(512, eps=1e-05, momentum=0.1, affine=True, track_running_stats=True)\n",
      "      (shortcut): Sequential(\n",
      "        (0): Conv1d(512, 512, kernel_size=(1,), stride=(2,), bias=False)\n",
      "        (1): BatchNorm1d(512, eps=1e-05, momentum=0.1, affine=True, track_running_stats=True)\n",
      "      )\n",
      "    )\n",
      "    (1): ResNetBlock(\n",
      "      (conv1): Conv1d(512, 512, kernel_size=(3,), stride=(1,), padding=(1,), bias=False)\n",
      "      (bn1): BatchNorm1d(512, eps=1e-05, momentum=0.1, affine=True, track_running_stats=True)\n",
      "      (relu): ELU(alpha=1.0, inplace=True)\n",
      "      (conv2): Conv1d(512, 512, kernel_size=(3,), stride=(1,), padding=(1,), bias=False)\n",
      "      (bn2): BatchNorm1d(512, eps=1e-05, momentum=0.1, affine=True, track_running_stats=True)\n",
      "      (shortcut): Sequential()\n",
      "    )\n",
      "    (2): ResNetBlock(\n",
      "      (conv1): Conv1d(512, 512, kernel_size=(3,), stride=(1,), padding=(1,), bias=False)\n",
      "      (bn1): BatchNorm1d(512, eps=1e-05, momentum=0.1, affine=True, track_running_stats=True)\n",
      "      (relu): ELU(alpha=1.0, inplace=True)\n",
      "      (conv2): Conv1d(512, 512, kernel_size=(3,), stride=(1,), padding=(1,), bias=False)\n",
      "      (bn2): BatchNorm1d(512, eps=1e-05, momentum=0.1, affine=True, track_running_stats=True)\n",
      "      (shortcut): Sequential()\n",
      "    )\n",
      "    (3): ResNetBlock(\n",
      "      (conv1): Conv1d(512, 512, kernel_size=(3,), stride=(1,), padding=(1,), bias=False)\n",
      "      (bn1): BatchNorm1d(512, eps=1e-05, momentum=0.1, affine=True, track_running_stats=True)\n",
      "      (relu): ELU(alpha=1.0, inplace=True)\n",
      "      (conv2): Conv1d(512, 512, kernel_size=(3,), stride=(1,), padding=(1,), bias=False)\n",
      "      (bn2): BatchNorm1d(512, eps=1e-05, momentum=0.1, affine=True, track_running_stats=True)\n",
      "      (shortcut): Sequential()\n",
      "    )\n",
      "  )\n",
      "  (avgpool): AdaptiveAvgPool1d(output_size=1)\n",
      "  (fc): Linear(in_features=512, out_features=38, bias=True)\n",
      ")\n",
      "Model Size: 40.34 MB\n"
     ]
    }
   ],
   "source": [
    "# from torchprofile import profile_macs\n",
    "\n",
    "import torch.nn as nn\n",
    "import torch.nn.functional as F\n",
    "\n",
    "# the data shape is (batch_size, 2, input_length)\n",
    "# where 2 is the number of ADC channels and input_length is the length of each ADC channel.\n",
    "# the output shape is (batch_size, output_length) where output_length is the number of classes.\n",
    "\n",
    "# def computeModelStats(model, input_shape):\n",
    "#     dummy_input = torch.randn(input_shape)\n",
    "#     macs = profile_macs(model, dummy_input)\n",
    "#     params = sum(p.numel() for p in model.parameters())\n",
    "#     model_size = params * 4 / (1024 ** 2)  # Convert to MB assuming 32-bit (4 bytes) precision\n",
    "#     print(f\"MACs: {macs}\")\n",
    "#     print(f\"Parameters: {params}\")\n",
    "#     print(f\"Model Size: {model_size:.2f} MB\")\n",
    "\n",
    "def computeModelSize(model):\n",
    "    params = sum(p.numel() for p in model.parameters())\n",
    "    model_size = params * 4 / (1024 ** 2)  # Convert to MB assuming 32-bit (4 bytes) precision\n",
    "    return model_size\n",
    "\n",
    "class ResNetBlock(nn.Module):\n",
    "    def __init__(self, in_channels, out_channels, stride=1):\n",
    "        super(ResNetBlock, self).__init__()\n",
    "        self.conv1 = nn.Conv1d(in_channels, out_channels, kernel_size=3, stride=stride, padding=1, bias=False)\n",
    "        self.bn1 = nn.BatchNorm1d(out_channels)\n",
    "        self.relu = nn.ELU(inplace=True)\n",
    "        self.conv2 = nn.Conv1d(out_channels, out_channels, kernel_size=3, stride=1, padding=1, bias=False)\n",
    "        self.bn2 = nn.BatchNorm1d(out_channels)\n",
    "        self.shortcut = nn.Sequential()\n",
    "        if stride != 1 or in_channels != out_channels:\n",
    "            self.shortcut = nn.Sequential(\n",
    "                nn.Conv1d(in_channels, out_channels, kernel_size=1, stride=stride, bias=False),\n",
    "                nn.BatchNorm1d(out_channels)\n",
    "            )\n",
    "\n",
    "    def forward(self, x):\n",
    "        out = self.conv1(x)\n",
    "        out = self.bn1(out)\n",
    "        out = self.relu(out)\n",
    "        out = self.conv2(out)\n",
    "        out = self.bn2(out)\n",
    "        out += self.shortcut(x)\n",
    "        out = self.relu(out)\n",
    "        return out\n",
    "\n",
    "class ResNet(nn.Module):\n",
    "    def __init__(self, input_length, input_dim,output_length):\n",
    "        super(ResNet, self).__init__()\n",
    "        self.conv1 = nn.Conv1d(input_dim, 64, kernel_size=7, stride=2, padding=3)\n",
    "        self.bn1 = nn.BatchNorm1d(64)\n",
    "        self.relu = nn.ELU(inplace=True)\n",
    "        self.maxpool = nn.MaxPool1d(kernel_size=3, stride=2, padding=1)\n",
    "        self.layer1 = self._make_layer(64, 128, 4)\n",
    "        self.layer2 = self._make_layer(128, 256, 2, stride=2)\n",
    "        self.layer3 = self._make_layer(256, 512, 2, stride=2)\n",
    "        self.layer4 = self._make_layer(512, 512, 4, stride=2)\n",
    "        self.avgpool = nn.AdaptiveAvgPool1d(1)\n",
    "        self.fc = nn.Linear(512, output_length)\n",
    "\n",
    "    def _make_layer(self, in_channels, out_channels, blocks, stride=1):\n",
    "        layers = []\n",
    "        layers.append(ResNetBlock(in_channels, out_channels, stride))\n",
    "        for _ in range(1, blocks):\n",
    "            layers.append(ResNetBlock(out_channels, out_channels))\n",
    "        return nn.Sequential(*layers)\n",
    "\n",
    "    def forward(self, x):\n",
    "        x = self.conv1(x)\n",
    "        x = self.bn1(x)\n",
    "        x = self.relu(x)\n",
    "        x = self.maxpool(x)\n",
    "        x = self.layer1(x)\n",
    "        x = self.layer2(x)\n",
    "        x = self.layer3(x)\n",
    "        x = self.layer4(x)\n",
    "        x = self.avgpool(x)\n",
    "        x = torch.flatten(x, 1)\n",
    "        x = self.fc(x)\n",
    "        return x\n",
    "\n",
    "class SmallResNet(nn.Module):\n",
    "    def __init__(self, input_length, input_dim, output_length):\n",
    "        super(SmallResNet, self).__init__()\n",
    "        self.conv1 = nn.Conv1d(input_dim, 32, kernel_size=7, stride=2, padding=3)\n",
    "        self.bn1 = nn.BatchNorm1d(32)\n",
    "        self.relu = nn.ELU(inplace=True)\n",
    "        self.maxpool = nn.MaxPool1d(kernel_size=3, stride=2, padding=1)\n",
    "        self.layer1 = self._make_layer(32, 64, 4)\n",
    "        self.layer2 = self._make_layer(64, 128, 4, stride=2)\n",
    "        self.layer3 = self._make_layer(128, 256, 4, stride=2)\n",
    "        self.layer4 = self._make_layer(256, 256, 4, stride=2)\n",
    "        self.avgpool = nn.AdaptiveAvgPool1d(1)\n",
    "        self.fc = nn.Linear(256, output_length)\n",
    "\n",
    "    def _make_layer(self, in_channels, out_channels, blocks, stride=1):\n",
    "        layers = []\n",
    "        layers.append(ResNetBlock(in_channels, out_channels, stride))\n",
    "        for _ in range(1, blocks):\n",
    "            layers.append(ResNetBlock(out_channels, out_channels))\n",
    "        return nn.Sequential(*layers)\n",
    "\n",
    "    def forward(self, x):\n",
    "        x = self.conv1(x)\n",
    "        x = self.bn1(x)\n",
    "        x = self.relu(x)\n",
    "        x = self.maxpool(x)\n",
    "        x = self.layer1(x)\n",
    "        x = self.layer2(x)\n",
    "        x = self.layer3(x)\n",
    "        x = self.layer4(x)\n",
    "        x = self.avgpool(x)\n",
    "        x = torch.flatten(x, 1)\n",
    "        x = self.fc(x)\n",
    "        return x\n",
    "\n",
    "# Test the model with dummy data\n",
    "dummy = torch.randn(4, 2, input_length)\n",
    "model = ResNet(input_length, 2, output_length)\n",
    "# Smodel = SmallResNet(input_length, 2, output_length)\n",
    "output = model(dummy)\n",
    "# Soutput = Smodel(dummy)\n",
    "print(\"Output shape is:\", output.shape)\n",
    "print(model)\n",
    "# print(\"Small Output shape is:\", Soutput.shape)\n",
    "# print(Smodel)\n",
    "\n",
    "# Compute model stats\n",
    "# computeModelStats(model, (1, 2, input_length))\n",
    "print(f\"Model Size: {computeModelSize(model):.2f} MB\")\n",
    "# print(f\"Small Model Size: {computeModelSize(Smodel):.2f} MB\")"
   ]
  },
  {
   "cell_type": "code",
   "execution_count": 4,
   "metadata": {},
   "outputs": [],
   "source": [
    "import torch\n",
    "import torch.nn as nn\n",
    "from tqdm import tqdm\n",
    "\n",
    "def train_epoch(\n",
    "    model,\n",
    "    dataloader,\n",
    "    epochs,\n",
    "    learning_rate,\n",
    "    optimizer=None,\n",
    "    loss_function=None,\n",
    "    scheduler=None,\n",
    "    device='cpu',\n",
    "    verbose=0,\n",
    "    log_interval=100,\n",
    "    logger=None,\n",
    "):\n",
    "    if loss_function is None:\n",
    "        loss_function = nn.CrossEntropyLoss()\n",
    "    \n",
    "    if optimizer is None:\n",
    "        optimizer = torch.optim.Adam(model.parameters(), lr=learning_rate)\n",
    "\n",
    "    model.to(device)\n",
    "    model.train()\n",
    "\n",
    "    epoch_results = []\n",
    "\n",
    "    for epoch in tqdm(range(epochs), desc=\"Training Epochs\", disable=(verbose == 0)):\n",
    "        total_loss = 0.0\n",
    "        correct = 0\n",
    "        total = 0\n",
    "        num_batches = 0\n",
    "        \n",
    "        for batch_idx, (ids, audio, adc1, adc2) in enumerate(dataloader):\n",
    "            audio = audio.to(device)\n",
    "            adc1 = adc1.to(device)\n",
    "            adc2 = adc2.to(device)\n",
    "            ids = ids.to(device)\n",
    "            \n",
    "            adc = torch.stack((adc1, adc2), dim=1)\n",
    "            adc+= torch.randn_like(adc) * 0.04\n",
    "            outputs = model(adc)\n",
    "            loss = loss_function(outputs, ids)\n",
    "            \n",
    "            optimizer.zero_grad()\n",
    "            loss.backward()\n",
    "            optimizer.step()\n",
    "            \n",
    "            total_loss += loss.item()\n",
    "            num_batches += 1\n",
    "            \n",
    "            _, predicted = torch.max(outputs, 1)\n",
    "            correct += (predicted == ids).sum().item()\n",
    "            total += ids.size(0)\n",
    "            \n",
    "            # if verbose > 0 and (batch_idx % log_interval == 0):\n",
    "            #     msg = f\"[TRAIN] Epoch: {epoch}/{epochs}, Batch: {batch_idx}, Loss: {loss.item():.4f}, Accuracy: {100 * correct / total:.2f}%\"\n",
    "            #     if verbose == 1:\n",
    "            #         print(msg)\n",
    "            #     if logger is not None and verbose != 0:\n",
    "            #         logger.log({\"split\": \"train\", \"epoch\": epoch, \"batch_idx\": batch_idx, \"loss\": loss.item(), \"accuracy\": 100 * correct / total})\n",
    "\n",
    "        if scheduler is not None:\n",
    "            scheduler.step()\n",
    "\n",
    "        avg_loss = total_loss / max(num_batches, 1)\n",
    "        accuracy = 100 * correct / total\n",
    "        epoch_results.append((avg_loss, accuracy))\n",
    "        if verbose == 1:\n",
    "            print(f\"[TRAIN] End of Epoch {epoch}, Avg Loss: {avg_loss:.4f}, Accuracy: {accuracy:.2f}%\")\n",
    "        if logger is not None and verbose != 0:\n",
    "            logger.log({\"split\": \"train\", \"epoch\": epoch, \"avg_loss\": avg_loss, \"accuracy\": accuracy})\n",
    "\n",
    "\n",
    "    return epoch_results\n",
    "\n",
    "\n",
    "def test_epoch(\n",
    "    model,\n",
    "    dataloader,\n",
    "    epochs=1,\n",
    "    loss_function=None,\n",
    "    device='cpu',\n",
    "    verbose=0,\n",
    "    log_interval=100,\n",
    "    logger=None,\n",
    "):\n",
    "    if loss_function is None:\n",
    "        loss_function = nn.CrossEntropyLoss()\n",
    "\n",
    "    model.to(device)\n",
    "    model.eval()\n",
    "\n",
    "    epoch_results = []\n",
    "\n",
    "    for epoch in tqdm(range(epochs), desc=\"Testing Epochs\", disable=(verbose == 0)):\n",
    "        total_loss = 0.0\n",
    "        correct = 0\n",
    "        total = 0\n",
    "        num_batches = 0\n",
    "\n",
    "        with torch.no_grad():\n",
    "            for batch_idx, (ids, audio, adc1, adc2) in enumerate(dataloader):\n",
    "                ids = ids.to(device)\n",
    "                adc1 = adc1.to(device)\n",
    "                adc2 = adc2.to(device)\n",
    "                \n",
    "                adc = torch.stack((adc1, adc2), dim=1)\n",
    "                outputs = model(adc)\n",
    "                loss = loss_function(outputs, ids)\n",
    "                \n",
    "                total_loss += loss.item()\n",
    "                num_batches += 1\n",
    "                \n",
    "                _, predicted = torch.max(outputs, 1)\n",
    "                correct += (predicted == ids).sum().item()\n",
    "                total += ids.size(0)\n",
    "                \n",
    "                # if verbose > 0 and (batch_idx % log_interval == 0):\n",
    "                #     msg = f\"[TEST] Epoch: {epoch}/{epochs}, Batch: {batch_idx}, Loss: {loss.item():.4f}, Accuracy: {100 * correct / total:.2f}%\"\n",
    "                #     if verbose == 1:\n",
    "                #         print(msg)\n",
    "                #     if logger is not None and verbose != 0:\n",
    "                #         logger.log({\"split\": \"test\", \"epoch\": epoch, \"batch_idx\": batch_idx, \"loss\": loss.item(), \"accuracy\": 100 * correct / total})\n",
    "\n",
    "        avg_loss = total_loss / max(num_batches, 1)\n",
    "        accuracy = 100 * correct / total\n",
    "        epoch_results.append((avg_loss, accuracy))\n",
    "        if verbose == 1:\n",
    "            print(f\"[TEST] End of Epoch {epoch}, Avg Loss: {avg_loss:.4f}, Accuracy: {accuracy:.2f}%\")\n",
    "        if logger is not None and verbose != 0:\n",
    "            logger.log({\"split\": \"test\", \"epoch\": epoch, \"avg_loss\": avg_loss, \"accuracy\": accuracy})\n",
    "\n",
    "    return epoch_results\n"
   ]
  },
  {
   "cell_type": "code",
   "execution_count": 5,
   "metadata": {},
   "outputs": [
    {
     "name": "stdout",
     "output_type": "stream",
     "text": [
      "Batch 1:\n",
      "IDs: tensor([12, 10,  4, 17, 36, 16, 18,  0, 23,  1,  7, 24, 20,  9,  8, 20,  6,  4,\n",
      "         3, 22, 36, 15, 27, 12, 19, 26, 32, 13, 36, 30,  2,  7])\n",
      "Audio shape: torch.Size([32, 512])\n",
      "ADC1 shape: torch.Size([32, 512])\n",
      "ADC2 shape: torch.Size([32, 512])\n",
      "Batch 2:\n",
      "IDs: tensor([ 9,  6, 27,  1,  7, 10, 26,  7, 10,  3, 32,  2, 32, 22, 21,  4, 28, 19,\n",
      "         4, 36, 33, 10, 20, 22, 28,  5, 27, 10, 15, 16, 11, 29])\n",
      "Audio shape: torch.Size([32, 512])\n",
      "ADC1 shape: torch.Size([32, 512])\n",
      "ADC2 shape: torch.Size([32, 512])\n",
      "Batch 1:\n",
      "IDs: tensor([24, 29, 37, 19,  9, 20, 20, 23, 11,  8, 34, 32,  0, 33, 31, 37, 37, 11,\n",
      "        11, 20, 31, 20, 24, 22, 10, 28,  7, 11, 11,  8, 13,  6])\n",
      "Audio shape: torch.Size([32, 512])\n",
      "ADC1 shape: torch.Size([32, 512])\n",
      "ADC2 shape: torch.Size([32, 512])\n",
      "Batch 2:\n",
      "IDs: tensor([11, 24, 37,  2, 37, 24, 10, 14,  3, 32, 17, 26, 11, 37, 11, 15, 19,  1,\n",
      "        36, 27, 26, 17, 28, 29, 12, 12,  8,  9, 34, 16, 30,  3])\n",
      "Audio shape: torch.Size([32, 512])\n",
      "ADC1 shape: torch.Size([32, 512])\n",
      "ADC2 shape: torch.Size([32, 512])\n",
      "Number of training samples: 1796\n",
      "Number of validation samples: 449\n"
     ]
    }
   ],
   "source": [
    "from torch.utils.data import DataLoader, random_split\n",
    "\n",
    "# Define the dataset split ratio\n",
    "train_ratio = 0.8\n",
    "val_ratio = 0.2\n",
    "\n",
    "# Calculate the number of samples for training and validation\n",
    "train_size = int(train_ratio * len(dataset))\n",
    "val_size = len(dataset) - train_size\n",
    "\n",
    "# Split the dataset into training and validation sets\n",
    "train_dataset, val_dataset = random_split(dataset, [train_size, val_size])\n",
    "\n",
    "# Create DataLoader instances for training and validation sets\n",
    "batch_size = 32\n",
    "train_loader = DataLoader(train_dataset, batch_size=batch_size, shuffle=True, drop_last=True, num_workers=4)\n",
    "val_loader = DataLoader(val_dataset, batch_size=batch_size, shuffle=False, drop_last=True, num_workers=4)\n",
    "\n",
    "# Sample 100 elements from both training and validation datasets for testing\n",
    "for i, (ids, audio, adc1, adc2) in enumerate(train_loader):\n",
    "    print(f\"Batch {i+1}:\")\n",
    "    print(\"IDs:\", ids)\n",
    "    print(\"Audio shape:\", audio.shape)\n",
    "    print(\"ADC1 shape:\", adc1.shape)\n",
    "    print(\"ADC2 shape:\", adc2.shape)\n",
    "    if i >= 1:  # Stop after the first batch\n",
    "        break\n",
    "\n",
    "for i, (ids, audio, adc1, adc2) in enumerate(val_loader):\n",
    "    print(f\"Batch {i+1}:\")\n",
    "    print(\"IDs:\", ids)\n",
    "    print(\"Audio shape:\", audio.shape)\n",
    "    print(\"ADC1 shape:\", adc1.shape)\n",
    "    print(\"ADC2 shape:\", adc2.shape)\n",
    "    if i >= 1:  # Stop after the first batch\n",
    "        break\n",
    "    \n",
    "\n",
    "\n",
    "print(f\"Number of training samples: {len(train_dataset)}\")\n",
    "print(f\"Number of validation samples: {len(val_dataset)}\")\n"
   ]
  },
  {
   "cell_type": "code",
   "execution_count": 6,
   "metadata": {},
   "outputs": [],
   "source": [
    "# !wandb login"
   ]
  },
  {
   "cell_type": "code",
   "execution_count": 7,
   "metadata": {},
   "outputs": [],
   "source": [
    "# import wandb\n",
    "\n",
    "# # Initialize W&B\n",
    "# wandb.init(project=\"Murmurations\")\n",
    "\n",
    "# # Configure W&B logging\n",
    "# config = wandb.config\n",
    "# config.learning_rate = 0.001\n",
    "# config.epochs = 10\n",
    "# config.batch_size = 4\n"
   ]
  },
  {
   "cell_type": "code",
   "execution_count": 8,
   "metadata": {},
   "outputs": [
    {
     "name": "stdout",
     "output_type": "stream",
     "text": [
      "Using device: cuda:0\n"
     ]
    }
   ],
   "source": [
    "TOTAL_EPOCHS = 120\n",
    "PER_EPOCH = 2\n",
    "\n",
    "optimizer = torch.optim.Adam(model.parameters(), lr=0.001, weight_decay=1e-5)\n",
    "criterion = torch.nn.CrossEntropyLoss(label_smoothing=0.2)\n",
    "# scheduler = torch.optim.lr_scheduler.StepLR(optimizer, step_size=50, gamma=0.5)\n",
    "# scheduler = torch.optim.lr_scheduler.CosineAnnealingLR(optimizer, TOTAL_EPOCHS, eta_min=0.0001)\n",
    "scheduler = torch.optim.lr_scheduler.CosineAnnealingWarmRestarts(optimizer, T_0=10, T_mult=3, eta_min=0.0001)\n",
    "if torch.backends.mps.is_available():\n",
    "    global_device = torch.device(\"mps\")\n",
    "else:\n",
    "    global_device = torch.device(\"cuda:0\" if torch.cuda.is_available() else \"cpu\")\n",
    "print(\"Using device:\", global_device)\n",
    "verbosity = 1"
   ]
  },
  {
   "cell_type": "code",
   "execution_count": 9,
   "metadata": {},
   "outputs": [
    {
     "name": "stderr",
     "output_type": "stream",
     "text": [
      "TOTAL Epochs:   0%|          | 0/120 [00:00<?, ?it/s]"
     ]
    },
    {
     "name": "stdout",
     "output_type": "stream",
     "text": [
      "[TRAIN] End of Epoch 0, Avg Loss: 3.2838, Accuracy: 20.20%\n"
     ]
    },
    {
     "name": "stderr",
     "output_type": "stream",
     "text": [
      "Training Epochs: 100%|██████████| 2/2 [00:02<00:00,  1.36s/it]\n"
     ]
    },
    {
     "name": "stdout",
     "output_type": "stream",
     "text": [
      "[TRAIN] End of Epoch 1, Avg Loss: 2.6080, Accuracy: 41.02%\n"
     ]
    },
    {
     "name": "stderr",
     "output_type": "stream",
     "text": [
      "Testing Epochs: 100%|██████████| 1/1 [00:00<00:00,  3.37it/s]\n",
      "TOTAL Epochs:   1%|          | 1/120 [00:03<06:21,  3.20s/it]"
     ]
    },
    {
     "name": "stdout",
     "output_type": "stream",
     "text": [
      "[TEST] End of Epoch 0, Avg Loss: 2.5126, Accuracy: 49.55%\n"
     ]
    },
    {
     "name": "stderr",
     "output_type": "stream",
     "text": []
    },
    {
     "name": "stdout",
     "output_type": "stream",
     "text": [
      "[TRAIN] End of Epoch 0, Avg Loss: 2.3361, Accuracy: 55.69%\n"
     ]
    },
    {
     "name": "stderr",
     "output_type": "stream",
     "text": [
      "Training Epochs: 100%|██████████| 2/2 [00:02<00:00,  1.16s/it]\n"
     ]
    },
    {
     "name": "stdout",
     "output_type": "stream",
     "text": [
      "[TRAIN] End of Epoch 1, Avg Loss: 2.1149, Accuracy: 66.80%\n"
     ]
    },
    {
     "name": "stderr",
     "output_type": "stream",
     "text": [
      "Testing Epochs: 100%|██████████| 1/1 [00:00<00:00,  3.52it/s]\n",
      "TOTAL Epochs:   2%|▏         | 2/120 [00:05<05:37,  2.86s/it]"
     ]
    },
    {
     "name": "stdout",
     "output_type": "stream",
     "text": [
      "[TEST] End of Epoch 0, Avg Loss: 2.5016, Accuracy: 48.21%\n"
     ]
    },
    {
     "name": "stderr",
     "output_type": "stream",
     "text": []
    },
    {
     "name": "stdout",
     "output_type": "stream",
     "text": [
      "[TRAIN] End of Epoch 0, Avg Loss: 1.9604, Accuracy: 76.06%\n"
     ]
    },
    {
     "name": "stderr",
     "output_type": "stream",
     "text": [
      "Training Epochs: 100%|██████████| 2/2 [00:02<00:00,  1.15s/it]\n"
     ]
    },
    {
     "name": "stdout",
     "output_type": "stream",
     "text": [
      "[TRAIN] End of Epoch 1, Avg Loss: 1.8297, Accuracy: 80.58%\n"
     ]
    },
    {
     "name": "stderr",
     "output_type": "stream",
     "text": [
      "Testing Epochs: 100%|██████████| 1/1 [00:00<00:00,  3.52it/s]\n",
      "TOTAL Epochs:   2%|▎         | 3/120 [00:08<05:20,  2.74s/it]"
     ]
    },
    {
     "name": "stdout",
     "output_type": "stream",
     "text": [
      "[TEST] End of Epoch 0, Avg Loss: 2.2384, Accuracy: 63.62%\n"
     ]
    },
    {
     "name": "stderr",
     "output_type": "stream",
     "text": []
    },
    {
     "name": "stdout",
     "output_type": "stream",
     "text": [
      "[TRAIN] End of Epoch 0, Avg Loss: 1.6948, Accuracy: 88.34%\n"
     ]
    },
    {
     "name": "stderr",
     "output_type": "stream",
     "text": [
      "Training Epochs: 100%|██████████| 2/2 [00:02<00:00,  1.22s/it]\n"
     ]
    },
    {
     "name": "stdout",
     "output_type": "stream",
     "text": [
      "[TRAIN] End of Epoch 1, Avg Loss: 1.6029, Accuracy: 92.41%\n"
     ]
    },
    {
     "name": "stderr",
     "output_type": "stream",
     "text": [
      "Testing Epochs: 100%|██████████| 1/1 [00:00<00:00,  3.29it/s]\n",
      "TOTAL Epochs:   3%|▎         | 4/120 [00:11<05:18,  2.74s/it]"
     ]
    },
    {
     "name": "stdout",
     "output_type": "stream",
     "text": [
      "[TEST] End of Epoch 0, Avg Loss: 1.8365, Accuracy: 81.70%\n"
     ]
    },
    {
     "name": "stderr",
     "output_type": "stream",
     "text": []
    },
    {
     "name": "stdout",
     "output_type": "stream",
     "text": [
      "[TRAIN] End of Epoch 0, Avg Loss: 1.5135, Accuracy: 96.93%\n"
     ]
    },
    {
     "name": "stderr",
     "output_type": "stream",
     "text": [
      "Training Epochs: 100%|██████████| 2/2 [00:02<00:00,  1.22s/it]\n"
     ]
    },
    {
     "name": "stdout",
     "output_type": "stream",
     "text": [
      "[TRAIN] End of Epoch 1, Avg Loss: 1.4633, Accuracy: 98.44%\n"
     ]
    },
    {
     "name": "stderr",
     "output_type": "stream",
     "text": [
      "Testing Epochs: 100%|██████████| 1/1 [00:00<00:00,  3.48it/s]\n",
      "TOTAL Epochs:   4%|▍         | 5/120 [00:13<05:14,  2.74s/it]"
     ]
    },
    {
     "name": "stdout",
     "output_type": "stream",
     "text": [
      "[TEST] End of Epoch 0, Avg Loss: 1.7752, Accuracy: 81.47%\n"
     ]
    },
    {
     "name": "stderr",
     "output_type": "stream",
     "text": []
    },
    {
     "name": "stdout",
     "output_type": "stream",
     "text": [
      "[TRAIN] End of Epoch 0, Avg Loss: 1.9224, Accuracy: 75.06%\n"
     ]
    },
    {
     "name": "stderr",
     "output_type": "stream",
     "text": [
      "Training Epochs: 100%|██████████| 2/2 [00:02<00:00,  1.18s/it]\n"
     ]
    },
    {
     "name": "stdout",
     "output_type": "stream",
     "text": [
      "[TRAIN] End of Epoch 1, Avg Loss: 1.8257, Accuracy: 80.08%\n"
     ]
    },
    {
     "name": "stderr",
     "output_type": "stream",
     "text": [
      "Testing Epochs: 100%|██████████| 1/1 [00:00<00:00,  3.38it/s]\n",
      "TOTAL Epochs:   5%|▌         | 6/120 [00:16<05:09,  2.71s/it]"
     ]
    },
    {
     "name": "stdout",
     "output_type": "stream",
     "text": [
      "[TEST] End of Epoch 0, Avg Loss: 2.3173, Accuracy: 62.95%\n"
     ]
    },
    {
     "name": "stderr",
     "output_type": "stream",
     "text": []
    },
    {
     "name": "stdout",
     "output_type": "stream",
     "text": [
      "[TRAIN] End of Epoch 0, Avg Loss: 1.6942, Accuracy: 86.50%\n"
     ]
    },
    {
     "name": "stderr",
     "output_type": "stream",
     "text": [
      "Training Epochs: 100%|██████████| 2/2 [00:02<00:00,  1.15s/it]\n"
     ]
    },
    {
     "name": "stdout",
     "output_type": "stream",
     "text": [
      "[TRAIN] End of Epoch 1, Avg Loss: 1.5730, Accuracy: 93.02%\n"
     ]
    },
    {
     "name": "stderr",
     "output_type": "stream",
     "text": [
      "Testing Epochs: 100%|██████████| 1/1 [00:00<00:00,  3.49it/s]\n",
      "TOTAL Epochs:   6%|▌         | 7/120 [00:19<05:02,  2.68s/it]"
     ]
    },
    {
     "name": "stdout",
     "output_type": "stream",
     "text": [
      "[TEST] End of Epoch 0, Avg Loss: 2.0325, Accuracy: 69.64%\n"
     ]
    },
    {
     "name": "stderr",
     "output_type": "stream",
     "text": []
    },
    {
     "name": "stdout",
     "output_type": "stream",
     "text": [
      "[TRAIN] End of Epoch 0, Avg Loss: 1.5288, Accuracy: 95.31%\n"
     ]
    },
    {
     "name": "stderr",
     "output_type": "stream",
     "text": [
      "Training Epochs: 100%|██████████| 2/2 [00:01<00:00,  1.49it/s]\n"
     ]
    },
    {
     "name": "stdout",
     "output_type": "stream",
     "text": [
      "[TRAIN] End of Epoch 1, Avg Loss: 1.4508, Accuracy: 98.66%\n"
     ]
    },
    {
     "name": "stderr",
     "output_type": "stream",
     "text": [
      "Testing Epochs: 100%|██████████| 1/1 [00:00<00:00,  3.44it/s]\n",
      "TOTAL Epochs:   7%|▋         | 8/120 [00:20<04:22,  2.35s/it]"
     ]
    },
    {
     "name": "stdout",
     "output_type": "stream",
     "text": [
      "[TEST] End of Epoch 0, Avg Loss: 1.8581, Accuracy: 77.90%\n"
     ]
    },
    {
     "name": "stderr",
     "output_type": "stream",
     "text": []
    },
    {
     "name": "stdout",
     "output_type": "stream",
     "text": [
      "[TRAIN] End of Epoch 0, Avg Loss: 1.4171, Accuracy: 98.60%\n"
     ]
    },
    {
     "name": "stderr",
     "output_type": "stream",
     "text": [
      "Training Epochs: 100%|██████████| 2/2 [00:02<00:00,  1.15s/it]\n"
     ]
    },
    {
     "name": "stdout",
     "output_type": "stream",
     "text": [
      "[TRAIN] End of Epoch 1, Avg Loss: 1.3781, Accuracy: 99.50%\n"
     ]
    },
    {
     "name": "stderr",
     "output_type": "stream",
     "text": [
      "Testing Epochs: 100%|██████████| 1/1 [00:00<00:00,  3.54it/s]\n",
      "TOTAL Epochs:   8%|▊         | 9/120 [00:23<04:29,  2.43s/it]"
     ]
    },
    {
     "name": "stdout",
     "output_type": "stream",
     "text": [
      "[TEST] End of Epoch 0, Avg Loss: 1.7870, Accuracy: 81.70%\n"
     ]
    },
    {
     "name": "stderr",
     "output_type": "stream",
     "text": []
    },
    {
     "name": "stdout",
     "output_type": "stream",
     "text": [
      "[TRAIN] End of Epoch 0, Avg Loss: 1.3465, Accuracy: 99.72%\n"
     ]
    },
    {
     "name": "stderr",
     "output_type": "stream",
     "text": [
      "Training Epochs: 100%|██████████| 2/2 [00:02<00:00,  1.13s/it]\n"
     ]
    },
    {
     "name": "stdout",
     "output_type": "stream",
     "text": [
      "[TRAIN] End of Epoch 1, Avg Loss: 1.3454, Accuracy: 100.00%\n"
     ]
    },
    {
     "name": "stderr",
     "output_type": "stream",
     "text": [
      "Testing Epochs: 100%|██████████| 1/1 [00:00<00:00,  3.37it/s]\n",
      "TOTAL Epochs:   8%|▊         | 10/120 [00:25<04:31,  2.47s/it]"
     ]
    },
    {
     "name": "stdout",
     "output_type": "stream",
     "text": [
      "[TEST] End of Epoch 0, Avg Loss: 1.7798, Accuracy: 81.47%\n"
     ]
    },
    {
     "name": "stderr",
     "output_type": "stream",
     "text": []
    },
    {
     "name": "stdout",
     "output_type": "stream",
     "text": [
      "[TRAIN] End of Epoch 0, Avg Loss: 1.3263, Accuracy: 99.78%\n"
     ]
    },
    {
     "name": "stderr",
     "output_type": "stream",
     "text": [
      "Training Epochs: 100%|██████████| 2/2 [00:02<00:00,  1.15s/it]\n"
     ]
    },
    {
     "name": "stdout",
     "output_type": "stream",
     "text": [
      "[TRAIN] End of Epoch 1, Avg Loss: 1.3092, Accuracy: 100.00%\n"
     ]
    },
    {
     "name": "stderr",
     "output_type": "stream",
     "text": [
      "Testing Epochs: 100%|██████████| 1/1 [00:00<00:00,  3.50it/s]\n",
      "TOTAL Epochs:   9%|▉         | 11/120 [00:28<04:33,  2.51s/it]"
     ]
    },
    {
     "name": "stdout",
     "output_type": "stream",
     "text": [
      "[TEST] End of Epoch 0, Avg Loss: 1.7466, Accuracy: 83.04%\n"
     ]
    },
    {
     "name": "stderr",
     "output_type": "stream",
     "text": []
    },
    {
     "name": "stdout",
     "output_type": "stream",
     "text": [
      "[TRAIN] End of Epoch 0, Avg Loss: 1.3003, Accuracy: 100.00%\n"
     ]
    },
    {
     "name": "stderr",
     "output_type": "stream",
     "text": [
      "Training Epochs: 100%|██████████| 2/2 [00:02<00:00,  1.15s/it]\n"
     ]
    },
    {
     "name": "stdout",
     "output_type": "stream",
     "text": [
      "[TRAIN] End of Epoch 1, Avg Loss: 1.2880, Accuracy: 100.00%\n"
     ]
    },
    {
     "name": "stderr",
     "output_type": "stream",
     "text": [
      "Testing Epochs: 100%|██████████| 1/1 [00:00<00:00,  3.50it/s]\n",
      "TOTAL Epochs:  10%|█         | 12/120 [00:31<04:34,  2.54s/it]"
     ]
    },
    {
     "name": "stdout",
     "output_type": "stream",
     "text": [
      "[TEST] End of Epoch 0, Avg Loss: 1.7315, Accuracy: 85.49%\n"
     ]
    },
    {
     "name": "stderr",
     "output_type": "stream",
     "text": []
    },
    {
     "name": "stdout",
     "output_type": "stream",
     "text": [
      "[TRAIN] End of Epoch 0, Avg Loss: 1.2785, Accuracy: 100.00%\n"
     ]
    },
    {
     "name": "stderr",
     "output_type": "stream",
     "text": [
      "Training Epochs: 100%|██████████| 2/2 [00:02<00:00,  1.14s/it]\n"
     ]
    },
    {
     "name": "stdout",
     "output_type": "stream",
     "text": [
      "[TRAIN] End of Epoch 1, Avg Loss: 1.2710, Accuracy: 100.00%\n"
     ]
    },
    {
     "name": "stderr",
     "output_type": "stream",
     "text": [
      "Testing Epochs: 100%|██████████| 1/1 [00:00<00:00,  3.43it/s]\n",
      "TOTAL Epochs:  11%|█         | 13/120 [00:33<04:33,  2.55s/it]"
     ]
    },
    {
     "name": "stdout",
     "output_type": "stream",
     "text": [
      "[TEST] End of Epoch 0, Avg Loss: 1.7563, Accuracy: 83.48%\n"
     ]
    },
    {
     "name": "stderr",
     "output_type": "stream",
     "text": []
    },
    {
     "name": "stdout",
     "output_type": "stream",
     "text": [
      "[TRAIN] End of Epoch 0, Avg Loss: 1.2668, Accuracy: 100.00%\n"
     ]
    },
    {
     "name": "stderr",
     "output_type": "stream",
     "text": [
      "Training Epochs: 100%|██████████| 2/2 [00:02<00:00,  1.16s/it]\n"
     ]
    },
    {
     "name": "stdout",
     "output_type": "stream",
     "text": [
      "[TRAIN] End of Epoch 1, Avg Loss: 1.2575, Accuracy: 100.00%\n"
     ]
    },
    {
     "name": "stderr",
     "output_type": "stream",
     "text": [
      "Testing Epochs: 100%|██████████| 1/1 [00:00<00:00,  3.29it/s]\n",
      "TOTAL Epochs:  12%|█▏        | 14/120 [00:36<04:33,  2.58s/it]"
     ]
    },
    {
     "name": "stdout",
     "output_type": "stream",
     "text": [
      "[TEST] End of Epoch 0, Avg Loss: 1.7271, Accuracy: 86.83%\n"
     ]
    },
    {
     "name": "stderr",
     "output_type": "stream",
     "text": []
    },
    {
     "name": "stdout",
     "output_type": "stream",
     "text": [
      "[TRAIN] End of Epoch 0, Avg Loss: 1.2536, Accuracy: 100.00%\n"
     ]
    },
    {
     "name": "stderr",
     "output_type": "stream",
     "text": [
      "Training Epochs: 100%|██████████| 2/2 [00:02<00:00,  1.17s/it]\n"
     ]
    },
    {
     "name": "stdout",
     "output_type": "stream",
     "text": [
      "[TRAIN] End of Epoch 1, Avg Loss: 1.2480, Accuracy: 100.00%\n"
     ]
    },
    {
     "name": "stderr",
     "output_type": "stream",
     "text": [
      "Testing Epochs: 100%|██████████| 1/1 [00:00<00:00,  3.47it/s]\n",
      "TOTAL Epochs:  12%|█▎        | 15/120 [00:39<04:32,  2.59s/it]"
     ]
    },
    {
     "name": "stdout",
     "output_type": "stream",
     "text": [
      "[TEST] End of Epoch 0, Avg Loss: 1.7091, Accuracy: 87.72%\n"
     ]
    },
    {
     "name": "stderr",
     "output_type": "stream",
     "text": []
    },
    {
     "name": "stdout",
     "output_type": "stream",
     "text": [
      "[TRAIN] End of Epoch 0, Avg Loss: 1.2456, Accuracy: 100.00%\n"
     ]
    },
    {
     "name": "stderr",
     "output_type": "stream",
     "text": [
      "Training Epochs: 100%|██████████| 2/2 [00:02<00:00,  1.14s/it]\n"
     ]
    },
    {
     "name": "stdout",
     "output_type": "stream",
     "text": [
      "[TRAIN] End of Epoch 1, Avg Loss: 1.2430, Accuracy: 100.00%\n"
     ]
    },
    {
     "name": "stderr",
     "output_type": "stream",
     "text": [
      "Testing Epochs: 100%|██████████| 1/1 [00:00<00:00,  3.50it/s]\n",
      "TOTAL Epochs:  13%|█▎        | 16/120 [00:41<04:29,  2.59s/it]"
     ]
    },
    {
     "name": "stdout",
     "output_type": "stream",
     "text": [
      "[TEST] End of Epoch 0, Avg Loss: 1.7284, Accuracy: 85.49%\n"
     ]
    },
    {
     "name": "stderr",
     "output_type": "stream",
     "text": []
    },
    {
     "name": "stdout",
     "output_type": "stream",
     "text": [
      "[TRAIN] End of Epoch 0, Avg Loss: 1.2407, Accuracy: 100.00%\n"
     ]
    },
    {
     "name": "stderr",
     "output_type": "stream",
     "text": [
      "Training Epochs: 100%|██████████| 2/2 [00:02<00:00,  1.15s/it]\n"
     ]
    },
    {
     "name": "stdout",
     "output_type": "stream",
     "text": [
      "[TRAIN] End of Epoch 1, Avg Loss: 1.2386, Accuracy: 100.00%\n"
     ]
    },
    {
     "name": "stderr",
     "output_type": "stream",
     "text": [
      "Testing Epochs: 100%|██████████| 1/1 [00:00<00:00,  3.35it/s]\n",
      "TOTAL Epochs:  14%|█▍        | 17/120 [00:44<04:26,  2.59s/it]"
     ]
    },
    {
     "name": "stdout",
     "output_type": "stream",
     "text": [
      "[TEST] End of Epoch 0, Avg Loss: 1.7055, Accuracy: 87.95%\n"
     ]
    },
    {
     "name": "stderr",
     "output_type": "stream",
     "text": []
    },
    {
     "name": "stdout",
     "output_type": "stream",
     "text": [
      "[TRAIN] End of Epoch 0, Avg Loss: 1.2353, Accuracy: 100.00%\n"
     ]
    },
    {
     "name": "stderr",
     "output_type": "stream",
     "text": [
      "Training Epochs: 100%|██████████| 2/2 [00:02<00:00,  1.14s/it]\n"
     ]
    },
    {
     "name": "stdout",
     "output_type": "stream",
     "text": [
      "[TRAIN] End of Epoch 1, Avg Loss: 1.2349, Accuracy: 100.00%\n"
     ]
    },
    {
     "name": "stderr",
     "output_type": "stream",
     "text": [
      "Testing Epochs: 100%|██████████| 1/1 [00:00<00:00,  3.34it/s]\n",
      "TOTAL Epochs:  15%|█▌        | 18/120 [00:46<04:24,  2.59s/it]"
     ]
    },
    {
     "name": "stdout",
     "output_type": "stream",
     "text": [
      "[TEST] End of Epoch 0, Avg Loss: 1.7386, Accuracy: 86.61%\n"
     ]
    },
    {
     "name": "stderr",
     "output_type": "stream",
     "text": []
    },
    {
     "name": "stdout",
     "output_type": "stream",
     "text": [
      "[TRAIN] End of Epoch 0, Avg Loss: 1.2324, Accuracy: 100.00%\n"
     ]
    },
    {
     "name": "stderr",
     "output_type": "stream",
     "text": [
      "Training Epochs: 100%|██████████| 2/2 [00:02<00:00,  1.15s/it]\n"
     ]
    },
    {
     "name": "stdout",
     "output_type": "stream",
     "text": [
      "[TRAIN] End of Epoch 1, Avg Loss: 1.2306, Accuracy: 100.00%\n"
     ]
    },
    {
     "name": "stderr",
     "output_type": "stream",
     "text": [
      "Testing Epochs: 100%|██████████| 1/1 [00:00<00:00,  3.47it/s]\n",
      "TOTAL Epochs:  16%|█▌        | 19/120 [00:49<04:21,  2.59s/it]"
     ]
    },
    {
     "name": "stdout",
     "output_type": "stream",
     "text": [
      "[TEST] End of Epoch 0, Avg Loss: 1.7196, Accuracy: 87.72%\n"
     ]
    },
    {
     "name": "stderr",
     "output_type": "stream",
     "text": []
    },
    {
     "name": "stdout",
     "output_type": "stream",
     "text": [
      "[TRAIN] End of Epoch 0, Avg Loss: 1.2293, Accuracy: 100.00%\n"
     ]
    },
    {
     "name": "stderr",
     "output_type": "stream",
     "text": [
      "Training Epochs: 100%|██████████| 2/2 [00:02<00:00,  1.15s/it]\n"
     ]
    },
    {
     "name": "stdout",
     "output_type": "stream",
     "text": [
      "[TRAIN] End of Epoch 1, Avg Loss: 1.2287, Accuracy: 100.00%\n"
     ]
    },
    {
     "name": "stderr",
     "output_type": "stream",
     "text": [
      "Testing Epochs: 100%|██████████| 1/1 [00:00<00:00,  3.52it/s]\n",
      "TOTAL Epochs:  17%|█▋        | 20/120 [00:51<04:18,  2.59s/it]"
     ]
    },
    {
     "name": "stdout",
     "output_type": "stream",
     "text": [
      "[TEST] End of Epoch 0, Avg Loss: 1.7278, Accuracy: 86.83%\n"
     ]
    },
    {
     "name": "stderr",
     "output_type": "stream",
     "text": []
    },
    {
     "name": "stdout",
     "output_type": "stream",
     "text": [
      "[TRAIN] End of Epoch 0, Avg Loss: 1.4792, Accuracy: 94.31%\n"
     ]
    },
    {
     "name": "stderr",
     "output_type": "stream",
     "text": [
      "Training Epochs: 100%|██████████| 2/2 [00:01<00:00,  1.52it/s]\n"
     ]
    },
    {
     "name": "stdout",
     "output_type": "stream",
     "text": [
      "[TRAIN] End of Epoch 1, Avg Loss: 1.7499, Accuracy: 84.43%\n"
     ]
    },
    {
     "name": "stderr",
     "output_type": "stream",
     "text": [
      "Testing Epochs: 100%|██████████| 1/1 [00:00<00:00,  3.48it/s]\n",
      "TOTAL Epochs:  18%|█▊        | 21/120 [00:53<03:47,  2.30s/it]"
     ]
    },
    {
     "name": "stdout",
     "output_type": "stream",
     "text": [
      "[TEST] End of Epoch 0, Avg Loss: 2.1928, Accuracy: 66.07%\n"
     ]
    },
    {
     "name": "stderr",
     "output_type": "stream",
     "text": []
    },
    {
     "name": "stdout",
     "output_type": "stream",
     "text": [
      "[TRAIN] End of Epoch 0, Avg Loss: 1.5405, Accuracy: 94.31%\n"
     ]
    },
    {
     "name": "stderr",
     "output_type": "stream",
     "text": [
      "Training Epochs: 100%|██████████| 2/2 [00:02<00:00,  1.15s/it]\n"
     ]
    },
    {
     "name": "stdout",
     "output_type": "stream",
     "text": [
      "[TRAIN] End of Epoch 1, Avg Loss: 1.3805, Accuracy: 99.05%\n"
     ]
    },
    {
     "name": "stderr",
     "output_type": "stream",
     "text": [
      "Testing Epochs: 100%|██████████| 1/1 [00:00<00:00,  3.48it/s]\n",
      "TOTAL Epochs:  18%|█▊        | 22/120 [00:56<03:53,  2.39s/it]"
     ]
    },
    {
     "name": "stdout",
     "output_type": "stream",
     "text": [
      "[TEST] End of Epoch 0, Avg Loss: 1.7654, Accuracy: 81.03%\n"
     ]
    },
    {
     "name": "stderr",
     "output_type": "stream",
     "text": []
    },
    {
     "name": "stdout",
     "output_type": "stream",
     "text": [
      "[TRAIN] End of Epoch 0, Avg Loss: 1.3289, Accuracy: 99.55%\n"
     ]
    },
    {
     "name": "stderr",
     "output_type": "stream",
     "text": [
      "Training Epochs: 100%|██████████| 2/2 [00:02<00:00,  1.15s/it]\n"
     ]
    },
    {
     "name": "stdout",
     "output_type": "stream",
     "text": [
      "[TRAIN] End of Epoch 1, Avg Loss: 1.3095, Accuracy: 99.83%\n"
     ]
    },
    {
     "name": "stderr",
     "output_type": "stream",
     "text": [
      "Testing Epochs: 100%|██████████| 1/1 [00:00<00:00,  3.56it/s]\n",
      "TOTAL Epochs:  19%|█▉        | 23/120 [00:58<03:57,  2.44s/it]"
     ]
    },
    {
     "name": "stdout",
     "output_type": "stream",
     "text": [
      "[TEST] End of Epoch 0, Avg Loss: 1.7650, Accuracy: 84.60%\n"
     ]
    },
    {
     "name": "stderr",
     "output_type": "stream",
     "text": []
    },
    {
     "name": "stdout",
     "output_type": "stream",
     "text": [
      "[TRAIN] End of Epoch 0, Avg Loss: 1.2991, Accuracy: 99.89%\n"
     ]
    },
    {
     "name": "stderr",
     "output_type": "stream",
     "text": [
      "Training Epochs: 100%|██████████| 2/2 [00:02<00:00,  1.13s/it]\n"
     ]
    },
    {
     "name": "stdout",
     "output_type": "stream",
     "text": [
      "[TRAIN] End of Epoch 1, Avg Loss: 1.2857, Accuracy: 100.00%\n"
     ]
    },
    {
     "name": "stderr",
     "output_type": "stream",
     "text": [
      "Testing Epochs: 100%|██████████| 1/1 [00:00<00:00,  3.47it/s]\n",
      "TOTAL Epochs:  20%|██        | 24/120 [01:01<03:57,  2.48s/it]"
     ]
    },
    {
     "name": "stdout",
     "output_type": "stream",
     "text": [
      "[TEST] End of Epoch 0, Avg Loss: 1.7186, Accuracy: 86.38%\n"
     ]
    },
    {
     "name": "stderr",
     "output_type": "stream",
     "text": []
    },
    {
     "name": "stdout",
     "output_type": "stream",
     "text": [
      "[TRAIN] End of Epoch 0, Avg Loss: 1.2723, Accuracy: 100.00%\n"
     ]
    },
    {
     "name": "stderr",
     "output_type": "stream",
     "text": [
      "Training Epochs: 100%|██████████| 2/2 [00:02<00:00,  1.20s/it]\n"
     ]
    },
    {
     "name": "stdout",
     "output_type": "stream",
     "text": [
      "[TRAIN] End of Epoch 1, Avg Loss: 1.2651, Accuracy: 100.00%\n"
     ]
    },
    {
     "name": "stderr",
     "output_type": "stream",
     "text": [
      "Testing Epochs: 100%|██████████| 1/1 [00:00<00:00,  3.49it/s]\n",
      "TOTAL Epochs:  21%|██        | 25/120 [01:04<04:01,  2.55s/it]"
     ]
    },
    {
     "name": "stdout",
     "output_type": "stream",
     "text": [
      "[TEST] End of Epoch 0, Avg Loss: 1.7296, Accuracy: 86.61%\n"
     ]
    },
    {
     "name": "stderr",
     "output_type": "stream",
     "text": []
    },
    {
     "name": "stdout",
     "output_type": "stream",
     "text": [
      "[TRAIN] End of Epoch 0, Avg Loss: 1.2670, Accuracy: 100.00%\n"
     ]
    },
    {
     "name": "stderr",
     "output_type": "stream",
     "text": [
      "Training Epochs: 100%|██████████| 2/2 [00:02<00:00,  1.19s/it]\n"
     ]
    },
    {
     "name": "stdout",
     "output_type": "stream",
     "text": [
      "[TRAIN] End of Epoch 1, Avg Loss: 1.2716, Accuracy: 100.00%\n"
     ]
    },
    {
     "name": "stderr",
     "output_type": "stream",
     "text": [
      "Testing Epochs: 100%|██████████| 1/1 [00:00<00:00,  3.45it/s]\n",
      "TOTAL Epochs:  22%|██▏       | 26/120 [01:06<04:03,  2.59s/it]"
     ]
    },
    {
     "name": "stdout",
     "output_type": "stream",
     "text": [
      "[TEST] End of Epoch 0, Avg Loss: 1.7282, Accuracy: 85.49%\n"
     ]
    },
    {
     "name": "stderr",
     "output_type": "stream",
     "text": []
    },
    {
     "name": "stdout",
     "output_type": "stream",
     "text": [
      "[TRAIN] End of Epoch 0, Avg Loss: 1.2802, Accuracy: 100.00%\n"
     ]
    },
    {
     "name": "stderr",
     "output_type": "stream",
     "text": [
      "Training Epochs: 100%|██████████| 2/2 [00:02<00:00,  1.21s/it]\n"
     ]
    },
    {
     "name": "stdout",
     "output_type": "stream",
     "text": [
      "[TRAIN] End of Epoch 1, Avg Loss: 1.2777, Accuracy: 99.94%\n"
     ]
    },
    {
     "name": "stderr",
     "output_type": "stream",
     "text": [
      "Testing Epochs: 100%|██████████| 1/1 [00:00<00:00,  3.49it/s]\n",
      "TOTAL Epochs:  22%|██▎       | 27/120 [01:09<04:03,  2.62s/it]"
     ]
    },
    {
     "name": "stdout",
     "output_type": "stream",
     "text": [
      "[TEST] End of Epoch 0, Avg Loss: 1.7218, Accuracy: 84.82%\n"
     ]
    },
    {
     "name": "stderr",
     "output_type": "stream",
     "text": []
    },
    {
     "name": "stdout",
     "output_type": "stream",
     "text": [
      "[TRAIN] End of Epoch 0, Avg Loss: 1.2697, Accuracy: 99.94%\n"
     ]
    },
    {
     "name": "stderr",
     "output_type": "stream",
     "text": [
      "Training Epochs: 100%|██████████| 2/2 [00:02<00:00,  1.25s/it]\n"
     ]
    },
    {
     "name": "stdout",
     "output_type": "stream",
     "text": [
      "[TRAIN] End of Epoch 1, Avg Loss: 1.2728, Accuracy: 99.94%\n"
     ]
    },
    {
     "name": "stderr",
     "output_type": "stream",
     "text": [
      "Testing Epochs: 100%|██████████| 1/1 [00:00<00:00,  3.27it/s]\n",
      "TOTAL Epochs:  23%|██▎       | 28/120 [01:12<04:06,  2.68s/it]"
     ]
    },
    {
     "name": "stdout",
     "output_type": "stream",
     "text": [
      "[TEST] End of Epoch 0, Avg Loss: 1.7452, Accuracy: 83.71%\n"
     ]
    },
    {
     "name": "stderr",
     "output_type": "stream",
     "text": []
    },
    {
     "name": "stdout",
     "output_type": "stream",
     "text": [
      "[TRAIN] End of Epoch 0, Avg Loss: 1.2726, Accuracy: 100.00%\n"
     ]
    },
    {
     "name": "stderr",
     "output_type": "stream",
     "text": [
      "Training Epochs: 100%|██████████| 2/2 [00:02<00:00,  1.21s/it]\n"
     ]
    },
    {
     "name": "stdout",
     "output_type": "stream",
     "text": [
      "[TRAIN] End of Epoch 1, Avg Loss: 1.2596, Accuracy: 100.00%\n"
     ]
    },
    {
     "name": "stderr",
     "output_type": "stream",
     "text": [
      "Testing Epochs: 100%|██████████| 1/1 [00:00<00:00,  3.43it/s]\n",
      "TOTAL Epochs:  24%|██▍       | 29/120 [01:14<04:04,  2.69s/it]"
     ]
    },
    {
     "name": "stdout",
     "output_type": "stream",
     "text": [
      "[TEST] End of Epoch 0, Avg Loss: 1.7446, Accuracy: 86.38%\n"
     ]
    },
    {
     "name": "stderr",
     "output_type": "stream",
     "text": []
    },
    {
     "name": "stdout",
     "output_type": "stream",
     "text": [
      "[TRAIN] End of Epoch 0, Avg Loss: 1.2587, Accuracy: 100.00%\n"
     ]
    },
    {
     "name": "stderr",
     "output_type": "stream",
     "text": [
      "Training Epochs: 100%|██████████| 2/2 [00:02<00:00,  1.27s/it]\n"
     ]
    },
    {
     "name": "stdout",
     "output_type": "stream",
     "text": [
      "[TRAIN] End of Epoch 1, Avg Loss: 1.2677, Accuracy: 99.89%\n"
     ]
    },
    {
     "name": "stderr",
     "output_type": "stream",
     "text": [
      "Testing Epochs: 100%|██████████| 1/1 [00:00<00:00,  3.32it/s]\n",
      "TOTAL Epochs:  25%|██▌       | 30/120 [01:17<04:06,  2.74s/it]"
     ]
    },
    {
     "name": "stdout",
     "output_type": "stream",
     "text": [
      "[TEST] End of Epoch 0, Avg Loss: 1.7180, Accuracy: 87.28%\n"
     ]
    },
    {
     "name": "stderr",
     "output_type": "stream",
     "text": []
    },
    {
     "name": "stdout",
     "output_type": "stream",
     "text": [
      "[TRAIN] End of Epoch 0, Avg Loss: 1.2658, Accuracy: 100.00%\n"
     ]
    },
    {
     "name": "stderr",
     "output_type": "stream",
     "text": [
      "Training Epochs: 100%|██████████| 2/2 [00:02<00:00,  1.23s/it]\n"
     ]
    },
    {
     "name": "stdout",
     "output_type": "stream",
     "text": [
      "[TRAIN] End of Epoch 1, Avg Loss: 1.2700, Accuracy: 100.00%\n"
     ]
    },
    {
     "name": "stderr",
     "output_type": "stream",
     "text": [
      "Testing Epochs: 100%|██████████| 1/1 [00:00<00:00,  3.27it/s]\n",
      "TOTAL Epochs:  26%|██▌       | 31/120 [01:20<04:05,  2.75s/it]"
     ]
    },
    {
     "name": "stdout",
     "output_type": "stream",
     "text": [
      "[TEST] End of Epoch 0, Avg Loss: 1.7707, Accuracy: 83.93%\n"
     ]
    },
    {
     "name": "stderr",
     "output_type": "stream",
     "text": []
    },
    {
     "name": "stdout",
     "output_type": "stream",
     "text": [
      "[TRAIN] End of Epoch 0, Avg Loss: 1.2559, Accuracy: 100.00%\n"
     ]
    },
    {
     "name": "stderr",
     "output_type": "stream",
     "text": [
      "Training Epochs: 100%|██████████| 2/2 [00:02<00:00,  1.21s/it]\n"
     ]
    },
    {
     "name": "stdout",
     "output_type": "stream",
     "text": [
      "[TRAIN] End of Epoch 1, Avg Loss: 1.2529, Accuracy: 100.00%\n"
     ]
    },
    {
     "name": "stderr",
     "output_type": "stream",
     "text": [
      "Testing Epochs: 100%|██████████| 1/1 [00:00<00:00,  3.46it/s]\n",
      "TOTAL Epochs:  27%|██▋       | 32/120 [01:23<04:01,  2.74s/it]"
     ]
    },
    {
     "name": "stdout",
     "output_type": "stream",
     "text": [
      "[TEST] End of Epoch 0, Avg Loss: 1.7077, Accuracy: 86.61%\n"
     ]
    },
    {
     "name": "stderr",
     "output_type": "stream",
     "text": []
    },
    {
     "name": "stdout",
     "output_type": "stream",
     "text": [
      "[TRAIN] End of Epoch 0, Avg Loss: 1.2490, Accuracy: 100.00%\n"
     ]
    },
    {
     "name": "stderr",
     "output_type": "stream",
     "text": [
      "Training Epochs: 100%|██████████| 2/2 [00:01<00:00,  1.44it/s]\n"
     ]
    },
    {
     "name": "stdout",
     "output_type": "stream",
     "text": [
      "[TRAIN] End of Epoch 1, Avg Loss: 1.2533, Accuracy: 100.00%\n"
     ]
    },
    {
     "name": "stderr",
     "output_type": "stream",
     "text": [
      "Testing Epochs: 100%|██████████| 1/1 [00:00<00:00,  3.41it/s]\n",
      "TOTAL Epochs:  28%|██▊       | 33/120 [01:24<03:31,  2.43s/it]"
     ]
    },
    {
     "name": "stdout",
     "output_type": "stream",
     "text": [
      "[TEST] End of Epoch 0, Avg Loss: 1.7247, Accuracy: 85.04%\n"
     ]
    },
    {
     "name": "stderr",
     "output_type": "stream",
     "text": []
    },
    {
     "name": "stdout",
     "output_type": "stream",
     "text": [
      "[TRAIN] End of Epoch 0, Avg Loss: 1.2575, Accuracy: 99.94%\n"
     ]
    },
    {
     "name": "stderr",
     "output_type": "stream",
     "text": [
      "Training Epochs: 100%|██████████| 2/2 [00:02<00:00,  1.18s/it]\n"
     ]
    },
    {
     "name": "stdout",
     "output_type": "stream",
     "text": [
      "[TRAIN] End of Epoch 1, Avg Loss: 1.2497, Accuracy: 100.00%\n"
     ]
    },
    {
     "name": "stderr",
     "output_type": "stream",
     "text": [
      "Testing Epochs: 100%|██████████| 1/1 [00:00<00:00,  3.45it/s]\n",
      "TOTAL Epochs:  28%|██▊       | 34/120 [01:27<03:34,  2.50s/it]"
     ]
    },
    {
     "name": "stdout",
     "output_type": "stream",
     "text": [
      "[TEST] End of Epoch 0, Avg Loss: 1.7859, Accuracy: 82.59%\n"
     ]
    },
    {
     "name": "stderr",
     "output_type": "stream",
     "text": []
    },
    {
     "name": "stdout",
     "output_type": "stream",
     "text": [
      "[TRAIN] End of Epoch 0, Avg Loss: 1.2514, Accuracy: 100.00%\n"
     ]
    },
    {
     "name": "stderr",
     "output_type": "stream",
     "text": [
      "Training Epochs: 100%|██████████| 2/2 [00:02<00:00,  1.22s/it]\n"
     ]
    },
    {
     "name": "stdout",
     "output_type": "stream",
     "text": [
      "[TRAIN] End of Epoch 1, Avg Loss: 1.2560, Accuracy: 100.00%\n"
     ]
    },
    {
     "name": "stderr",
     "output_type": "stream",
     "text": [
      "Testing Epochs: 100%|██████████| 1/1 [00:00<00:00,  3.25it/s]\n",
      "TOTAL Epochs:  29%|██▉       | 35/120 [01:30<03:38,  2.57s/it]"
     ]
    },
    {
     "name": "stdout",
     "output_type": "stream",
     "text": [
      "[TEST] End of Epoch 0, Avg Loss: 1.7048, Accuracy: 87.72%\n"
     ]
    },
    {
     "name": "stderr",
     "output_type": "stream",
     "text": []
    },
    {
     "name": "stdout",
     "output_type": "stream",
     "text": [
      "[TRAIN] End of Epoch 0, Avg Loss: 1.2519, Accuracy: 100.00%\n"
     ]
    },
    {
     "name": "stderr",
     "output_type": "stream",
     "text": [
      "Training Epochs: 100%|██████████| 2/2 [00:02<00:00,  1.18s/it]\n"
     ]
    },
    {
     "name": "stdout",
     "output_type": "stream",
     "text": [
      "[TRAIN] End of Epoch 1, Avg Loss: 1.2489, Accuracy: 100.00%\n"
     ]
    },
    {
     "name": "stderr",
     "output_type": "stream",
     "text": [
      "Testing Epochs: 100%|██████████| 1/1 [00:00<00:00,  3.42it/s]\n",
      "TOTAL Epochs:  30%|███       | 36/120 [01:33<03:38,  2.60s/it]"
     ]
    },
    {
     "name": "stdout",
     "output_type": "stream",
     "text": [
      "[TEST] End of Epoch 0, Avg Loss: 1.7019, Accuracy: 86.83%\n"
     ]
    },
    {
     "name": "stderr",
     "output_type": "stream",
     "text": []
    },
    {
     "name": "stdout",
     "output_type": "stream",
     "text": [
      "[TRAIN] End of Epoch 0, Avg Loss: 1.2428, Accuracy: 100.00%\n"
     ]
    },
    {
     "name": "stderr",
     "output_type": "stream",
     "text": [
      "Training Epochs: 100%|██████████| 2/2 [00:02<00:00,  1.17s/it]\n"
     ]
    },
    {
     "name": "stdout",
     "output_type": "stream",
     "text": [
      "[TRAIN] End of Epoch 1, Avg Loss: 1.2386, Accuracy: 100.00%\n"
     ]
    },
    {
     "name": "stderr",
     "output_type": "stream",
     "text": [
      "Testing Epochs: 100%|██████████| 1/1 [00:00<00:00,  3.47it/s]\n",
      "TOTAL Epochs:  31%|███       | 37/120 [01:35<03:36,  2.61s/it]"
     ]
    },
    {
     "name": "stdout",
     "output_type": "stream",
     "text": [
      "[TEST] End of Epoch 0, Avg Loss: 1.7339, Accuracy: 87.05%\n"
     ]
    },
    {
     "name": "stderr",
     "output_type": "stream",
     "text": []
    },
    {
     "name": "stdout",
     "output_type": "stream",
     "text": [
      "[TRAIN] End of Epoch 0, Avg Loss: 1.2352, Accuracy: 100.00%\n"
     ]
    },
    {
     "name": "stderr",
     "output_type": "stream",
     "text": [
      "Training Epochs: 100%|██████████| 2/2 [00:02<00:00,  1.16s/it]\n"
     ]
    },
    {
     "name": "stdout",
     "output_type": "stream",
     "text": [
      "[TRAIN] End of Epoch 1, Avg Loss: 1.2360, Accuracy: 100.00%\n"
     ]
    },
    {
     "name": "stderr",
     "output_type": "stream",
     "text": [
      "Testing Epochs: 100%|██████████| 1/1 [00:00<00:00,  3.49it/s]\n",
      "TOTAL Epochs:  32%|███▏      | 38/120 [01:38<03:34,  2.61s/it]"
     ]
    },
    {
     "name": "stdout",
     "output_type": "stream",
     "text": [
      "[TEST] End of Epoch 0, Avg Loss: 1.7280, Accuracy: 86.16%\n"
     ]
    },
    {
     "name": "stderr",
     "output_type": "stream",
     "text": []
    },
    {
     "name": "stdout",
     "output_type": "stream",
     "text": [
      "[TRAIN] End of Epoch 0, Avg Loss: 1.2317, Accuracy: 100.00%\n"
     ]
    },
    {
     "name": "stderr",
     "output_type": "stream",
     "text": [
      "Training Epochs: 100%|██████████| 2/2 [00:02<00:00,  1.14s/it]\n"
     ]
    },
    {
     "name": "stdout",
     "output_type": "stream",
     "text": [
      "[TRAIN] End of Epoch 1, Avg Loss: 1.2337, Accuracy: 100.00%\n"
     ]
    },
    {
     "name": "stderr",
     "output_type": "stream",
     "text": [
      "Testing Epochs: 100%|██████████| 1/1 [00:00<00:00,  3.36it/s]\n",
      "TOTAL Epochs:  32%|███▎      | 39/120 [01:40<03:30,  2.60s/it]"
     ]
    },
    {
     "name": "stdout",
     "output_type": "stream",
     "text": [
      "[TEST] End of Epoch 0, Avg Loss: 1.7016, Accuracy: 88.17%\n"
     ]
    },
    {
     "name": "stderr",
     "output_type": "stream",
     "text": []
    },
    {
     "name": "stdout",
     "output_type": "stream",
     "text": [
      "[TRAIN] End of Epoch 0, Avg Loss: 1.2343, Accuracy: 100.00%\n"
     ]
    },
    {
     "name": "stderr",
     "output_type": "stream",
     "text": [
      "Training Epochs: 100%|██████████| 2/2 [00:02<00:00,  1.19s/it]\n"
     ]
    },
    {
     "name": "stdout",
     "output_type": "stream",
     "text": [
      "[TRAIN] End of Epoch 1, Avg Loss: 1.2333, Accuracy: 100.00%\n"
     ]
    },
    {
     "name": "stderr",
     "output_type": "stream",
     "text": [
      "Testing Epochs: 100%|██████████| 1/1 [00:00<00:00,  3.39it/s]\n",
      "TOTAL Epochs:  33%|███▎      | 40/120 [01:43<03:30,  2.63s/it]"
     ]
    },
    {
     "name": "stdout",
     "output_type": "stream",
     "text": [
      "[TEST] End of Epoch 0, Avg Loss: 1.7103, Accuracy: 87.72%\n"
     ]
    },
    {
     "name": "stderr",
     "output_type": "stream",
     "text": []
    },
    {
     "name": "stdout",
     "output_type": "stream",
     "text": [
      "[TRAIN] End of Epoch 0, Avg Loss: 1.2297, Accuracy: 100.00%\n"
     ]
    },
    {
     "name": "stderr",
     "output_type": "stream",
     "text": [
      "Training Epochs: 100%|██████████| 2/2 [00:02<00:00,  1.20s/it]\n"
     ]
    },
    {
     "name": "stdout",
     "output_type": "stream",
     "text": [
      "[TRAIN] End of Epoch 1, Avg Loss: 1.2272, Accuracy: 100.00%\n"
     ]
    },
    {
     "name": "stderr",
     "output_type": "stream",
     "text": [
      "Testing Epochs: 100%|██████████| 1/1 [00:00<00:00,  3.51it/s]\n",
      "TOTAL Epochs:  34%|███▍      | 41/120 [01:46<03:29,  2.65s/it]"
     ]
    },
    {
     "name": "stdout",
     "output_type": "stream",
     "text": [
      "[TEST] End of Epoch 0, Avg Loss: 1.7251, Accuracy: 87.95%\n"
     ]
    },
    {
     "name": "stderr",
     "output_type": "stream",
     "text": []
    },
    {
     "name": "stdout",
     "output_type": "stream",
     "text": [
      "[TRAIN] End of Epoch 0, Avg Loss: 1.2274, Accuracy: 100.00%\n"
     ]
    },
    {
     "name": "stderr",
     "output_type": "stream",
     "text": [
      "Training Epochs: 100%|██████████| 2/2 [00:02<00:00,  1.18s/it]\n"
     ]
    },
    {
     "name": "stdout",
     "output_type": "stream",
     "text": [
      "[TRAIN] End of Epoch 1, Avg Loss: 1.2264, Accuracy: 100.00%\n"
     ]
    },
    {
     "name": "stderr",
     "output_type": "stream",
     "text": [
      "Testing Epochs: 100%|██████████| 1/1 [00:00<00:00,  3.40it/s]\n",
      "TOTAL Epochs:  35%|███▌      | 42/120 [01:48<03:26,  2.65s/it]"
     ]
    },
    {
     "name": "stdout",
     "output_type": "stream",
     "text": [
      "[TEST] End of Epoch 0, Avg Loss: 1.7300, Accuracy: 87.05%\n"
     ]
    },
    {
     "name": "stderr",
     "output_type": "stream",
     "text": []
    },
    {
     "name": "stdout",
     "output_type": "stream",
     "text": [
      "[TRAIN] End of Epoch 0, Avg Loss: 1.2297, Accuracy: 100.00%\n"
     ]
    },
    {
     "name": "stderr",
     "output_type": "stream",
     "text": [
      "Training Epochs: 100%|██████████| 2/2 [00:02<00:00,  1.16s/it]\n"
     ]
    },
    {
     "name": "stdout",
     "output_type": "stream",
     "text": [
      "[TRAIN] End of Epoch 1, Avg Loss: 1.2294, Accuracy: 100.00%\n"
     ]
    },
    {
     "name": "stderr",
     "output_type": "stream",
     "text": [
      "Testing Epochs: 100%|██████████| 1/1 [00:00<00:00,  3.48it/s]\n",
      "TOTAL Epochs:  36%|███▌      | 43/120 [01:51<03:23,  2.64s/it]"
     ]
    },
    {
     "name": "stdout",
     "output_type": "stream",
     "text": [
      "[TEST] End of Epoch 0, Avg Loss: 1.7008, Accuracy: 88.17%\n"
     ]
    },
    {
     "name": "stderr",
     "output_type": "stream",
     "text": []
    },
    {
     "name": "stdout",
     "output_type": "stream",
     "text": [
      "[TRAIN] End of Epoch 0, Avg Loss: 1.2289, Accuracy: 100.00%\n"
     ]
    },
    {
     "name": "stderr",
     "output_type": "stream",
     "text": [
      "Training Epochs: 100%|██████████| 2/2 [00:02<00:00,  1.25s/it]\n"
     ]
    },
    {
     "name": "stdout",
     "output_type": "stream",
     "text": [
      "[TRAIN] End of Epoch 1, Avg Loss: 1.2275, Accuracy: 100.00%\n"
     ]
    },
    {
     "name": "stderr",
     "output_type": "stream",
     "text": [
      "Testing Epochs: 100%|██████████| 1/1 [00:00<00:00,  3.40it/s]\n",
      "TOTAL Epochs:  37%|███▋      | 44/120 [01:54<03:24,  2.69s/it]"
     ]
    },
    {
     "name": "stdout",
     "output_type": "stream",
     "text": [
      "[TEST] End of Epoch 0, Avg Loss: 1.7478, Accuracy: 86.61%\n"
     ]
    },
    {
     "name": "stderr",
     "output_type": "stream",
     "text": []
    },
    {
     "name": "stdout",
     "output_type": "stream",
     "text": [
      "[TRAIN] End of Epoch 0, Avg Loss: 1.2256, Accuracy: 100.00%\n"
     ]
    },
    {
     "name": "stderr",
     "output_type": "stream",
     "text": [
      "Training Epochs: 100%|██████████| 2/2 [00:01<00:00,  1.52it/s]\n"
     ]
    },
    {
     "name": "stdout",
     "output_type": "stream",
     "text": [
      "[TRAIN] End of Epoch 1, Avg Loss: 1.2231, Accuracy: 100.00%\n"
     ]
    },
    {
     "name": "stderr",
     "output_type": "stream",
     "text": [
      "Testing Epochs: 100%|██████████| 1/1 [00:00<00:00,  3.50it/s]\n",
      "TOTAL Epochs:  38%|███▊      | 45/120 [01:55<02:57,  2.37s/it]"
     ]
    },
    {
     "name": "stdout",
     "output_type": "stream",
     "text": [
      "[TEST] End of Epoch 0, Avg Loss: 1.7362, Accuracy: 87.28%\n"
     ]
    },
    {
     "name": "stderr",
     "output_type": "stream",
     "text": []
    },
    {
     "name": "stdout",
     "output_type": "stream",
     "text": [
      "[TRAIN] End of Epoch 0, Avg Loss: 1.2239, Accuracy: 100.00%\n"
     ]
    },
    {
     "name": "stderr",
     "output_type": "stream",
     "text": [
      "Training Epochs: 100%|██████████| 2/2 [00:02<00:00,  1.19s/it]\n"
     ]
    },
    {
     "name": "stdout",
     "output_type": "stream",
     "text": [
      "[TRAIN] End of Epoch 1, Avg Loss: 1.2216, Accuracy: 100.00%\n"
     ]
    },
    {
     "name": "stderr",
     "output_type": "stream",
     "text": [
      "Testing Epochs: 100%|██████████| 1/1 [00:00<00:00,  3.42it/s]\n",
      "TOTAL Epochs:  38%|███▊      | 46/120 [01:58<03:02,  2.46s/it]"
     ]
    },
    {
     "name": "stdout",
     "output_type": "stream",
     "text": [
      "[TEST] End of Epoch 0, Avg Loss: 1.7144, Accuracy: 86.61%\n"
     ]
    },
    {
     "name": "stderr",
     "output_type": "stream",
     "text": []
    },
    {
     "name": "stdout",
     "output_type": "stream",
     "text": [
      "[TRAIN] End of Epoch 0, Avg Loss: 1.2220, Accuracy: 100.00%\n"
     ]
    },
    {
     "name": "stderr",
     "output_type": "stream",
     "text": [
      "Training Epochs: 100%|██████████| 2/2 [00:02<00:00,  1.17s/it]\n"
     ]
    },
    {
     "name": "stdout",
     "output_type": "stream",
     "text": [
      "[TRAIN] End of Epoch 1, Avg Loss: 1.2206, Accuracy: 100.00%\n"
     ]
    },
    {
     "name": "stderr",
     "output_type": "stream",
     "text": [
      "Testing Epochs: 100%|██████████| 1/1 [00:00<00:00,  3.45it/s]\n",
      "TOTAL Epochs:  39%|███▉      | 47/120 [02:01<03:03,  2.51s/it]"
     ]
    },
    {
     "name": "stdout",
     "output_type": "stream",
     "text": [
      "[TEST] End of Epoch 0, Avg Loss: 1.7046, Accuracy: 90.85%\n"
     ]
    },
    {
     "name": "stderr",
     "output_type": "stream",
     "text": []
    },
    {
     "name": "stdout",
     "output_type": "stream",
     "text": [
      "[TRAIN] End of Epoch 0, Avg Loss: 1.2194, Accuracy: 100.00%\n"
     ]
    },
    {
     "name": "stderr",
     "output_type": "stream",
     "text": [
      "Training Epochs: 100%|██████████| 2/2 [00:02<00:00,  1.18s/it]\n"
     ]
    },
    {
     "name": "stdout",
     "output_type": "stream",
     "text": [
      "[TRAIN] End of Epoch 1, Avg Loss: 1.2179, Accuracy: 100.00%\n"
     ]
    },
    {
     "name": "stderr",
     "output_type": "stream",
     "text": [
      "Testing Epochs: 100%|██████████| 1/1 [00:00<00:00,  3.39it/s]\n",
      "TOTAL Epochs:  40%|████      | 48/120 [02:03<03:04,  2.56s/it]"
     ]
    },
    {
     "name": "stdout",
     "output_type": "stream",
     "text": [
      "[TEST] End of Epoch 0, Avg Loss: 1.7288, Accuracy: 87.72%\n"
     ]
    },
    {
     "name": "stderr",
     "output_type": "stream",
     "text": []
    },
    {
     "name": "stdout",
     "output_type": "stream",
     "text": [
      "[TRAIN] End of Epoch 0, Avg Loss: 1.2173, Accuracy: 100.00%\n"
     ]
    },
    {
     "name": "stderr",
     "output_type": "stream",
     "text": [
      "Training Epochs: 100%|██████████| 2/2 [00:02<00:00,  1.14s/it]\n"
     ]
    },
    {
     "name": "stdout",
     "output_type": "stream",
     "text": [
      "[TRAIN] End of Epoch 1, Avg Loss: 1.2172, Accuracy: 100.00%\n"
     ]
    },
    {
     "name": "stderr",
     "output_type": "stream",
     "text": [
      "Testing Epochs: 100%|██████████| 1/1 [00:00<00:00,  3.48it/s]\n",
      "TOTAL Epochs:  41%|████      | 49/120 [02:06<03:01,  2.56s/it]"
     ]
    },
    {
     "name": "stdout",
     "output_type": "stream",
     "text": [
      "[TEST] End of Epoch 0, Avg Loss: 1.7260, Accuracy: 87.05%\n"
     ]
    },
    {
     "name": "stderr",
     "output_type": "stream",
     "text": []
    },
    {
     "name": "stdout",
     "output_type": "stream",
     "text": [
      "[TRAIN] End of Epoch 0, Avg Loss: 1.2186, Accuracy: 100.00%\n"
     ]
    },
    {
     "name": "stderr",
     "output_type": "stream",
     "text": [
      "Training Epochs: 100%|██████████| 2/2 [00:02<00:00,  1.16s/it]\n"
     ]
    },
    {
     "name": "stdout",
     "output_type": "stream",
     "text": [
      "[TRAIN] End of Epoch 1, Avg Loss: 1.2185, Accuracy: 100.00%\n"
     ]
    },
    {
     "name": "stderr",
     "output_type": "stream",
     "text": [
      "Testing Epochs: 100%|██████████| 1/1 [00:00<00:00,  3.54it/s]\n",
      "TOTAL Epochs:  42%|████▏     | 50/120 [02:09<03:00,  2.58s/it]"
     ]
    },
    {
     "name": "stdout",
     "output_type": "stream",
     "text": [
      "[TEST] End of Epoch 0, Avg Loss: 1.7266, Accuracy: 89.51%\n"
     ]
    },
    {
     "name": "stderr",
     "output_type": "stream",
     "text": []
    },
    {
     "name": "stdout",
     "output_type": "stream",
     "text": [
      "[TRAIN] End of Epoch 0, Avg Loss: 1.2166, Accuracy: 100.00%\n"
     ]
    },
    {
     "name": "stderr",
     "output_type": "stream",
     "text": [
      "Training Epochs: 100%|██████████| 2/2 [00:02<00:00,  1.15s/it]\n"
     ]
    },
    {
     "name": "stdout",
     "output_type": "stream",
     "text": [
      "[TRAIN] End of Epoch 1, Avg Loss: 1.2161, Accuracy: 100.00%\n"
     ]
    },
    {
     "name": "stderr",
     "output_type": "stream",
     "text": [
      "Testing Epochs: 100%|██████████| 1/1 [00:00<00:00,  3.44it/s]\n",
      "TOTAL Epochs:  42%|████▎     | 51/120 [02:11<02:58,  2.58s/it]"
     ]
    },
    {
     "name": "stdout",
     "output_type": "stream",
     "text": [
      "[TEST] End of Epoch 0, Avg Loss: 1.7198, Accuracy: 88.39%\n"
     ]
    },
    {
     "name": "stderr",
     "output_type": "stream",
     "text": []
    },
    {
     "name": "stdout",
     "output_type": "stream",
     "text": [
      "[TRAIN] End of Epoch 0, Avg Loss: 1.2139, Accuracy: 100.00%\n"
     ]
    },
    {
     "name": "stderr",
     "output_type": "stream",
     "text": [
      "Training Epochs: 100%|██████████| 2/2 [00:02<00:00,  1.15s/it]\n"
     ]
    },
    {
     "name": "stdout",
     "output_type": "stream",
     "text": [
      "[TRAIN] End of Epoch 1, Avg Loss: 1.2112, Accuracy: 100.00%\n"
     ]
    },
    {
     "name": "stderr",
     "output_type": "stream",
     "text": [
      "Testing Epochs: 100%|██████████| 1/1 [00:00<00:00,  3.47it/s]\n",
      "TOTAL Epochs:  43%|████▎     | 52/120 [02:14<02:55,  2.59s/it]"
     ]
    },
    {
     "name": "stdout",
     "output_type": "stream",
     "text": [
      "[TEST] End of Epoch 0, Avg Loss: 1.7146, Accuracy: 88.39%\n"
     ]
    },
    {
     "name": "stderr",
     "output_type": "stream",
     "text": []
    },
    {
     "name": "stdout",
     "output_type": "stream",
     "text": [
      "[TRAIN] End of Epoch 0, Avg Loss: 1.2110, Accuracy: 100.00%\n"
     ]
    },
    {
     "name": "stderr",
     "output_type": "stream",
     "text": [
      "Training Epochs: 100%|██████████| 2/2 [00:02<00:00,  1.18s/it]\n"
     ]
    },
    {
     "name": "stdout",
     "output_type": "stream",
     "text": [
      "[TRAIN] End of Epoch 1, Avg Loss: 1.2118, Accuracy: 100.00%\n"
     ]
    },
    {
     "name": "stderr",
     "output_type": "stream",
     "text": [
      "Testing Epochs: 100%|██████████| 1/1 [00:00<00:00,  3.51it/s]\n",
      "TOTAL Epochs:  44%|████▍     | 53/120 [02:16<02:54,  2.61s/it]"
     ]
    },
    {
     "name": "stdout",
     "output_type": "stream",
     "text": [
      "[TEST] End of Epoch 0, Avg Loss: 1.7268, Accuracy: 89.73%\n"
     ]
    },
    {
     "name": "stderr",
     "output_type": "stream",
     "text": []
    },
    {
     "name": "stdout",
     "output_type": "stream",
     "text": [
      "[TRAIN] End of Epoch 0, Avg Loss: 1.2114, Accuracy: 100.00%\n"
     ]
    },
    {
     "name": "stderr",
     "output_type": "stream",
     "text": [
      "Training Epochs: 100%|██████████| 2/2 [00:02<00:00,  1.15s/it]\n"
     ]
    },
    {
     "name": "stdout",
     "output_type": "stream",
     "text": [
      "[TRAIN] End of Epoch 1, Avg Loss: 1.2104, Accuracy: 100.00%\n"
     ]
    },
    {
     "name": "stderr",
     "output_type": "stream",
     "text": [
      "Testing Epochs: 100%|██████████| 1/1 [00:00<00:00,  3.51it/s]\n",
      "TOTAL Epochs:  45%|████▌     | 54/120 [02:19<02:51,  2.60s/it]"
     ]
    },
    {
     "name": "stdout",
     "output_type": "stream",
     "text": [
      "[TEST] End of Epoch 0, Avg Loss: 1.7299, Accuracy: 88.39%\n"
     ]
    },
    {
     "name": "stderr",
     "output_type": "stream",
     "text": []
    },
    {
     "name": "stdout",
     "output_type": "stream",
     "text": [
      "[TRAIN] End of Epoch 0, Avg Loss: 1.2097, Accuracy: 100.00%\n"
     ]
    },
    {
     "name": "stderr",
     "output_type": "stream",
     "text": [
      "Training Epochs: 100%|██████████| 2/2 [00:02<00:00,  1.17s/it]\n"
     ]
    },
    {
     "name": "stdout",
     "output_type": "stream",
     "text": [
      "[TRAIN] End of Epoch 1, Avg Loss: 1.2083, Accuracy: 100.00%\n"
     ]
    },
    {
     "name": "stderr",
     "output_type": "stream",
     "text": [
      "Testing Epochs: 100%|██████████| 1/1 [00:00<00:00,  3.43it/s]\n",
      "TOTAL Epochs:  46%|████▌     | 55/120 [02:22<02:50,  2.62s/it]"
     ]
    },
    {
     "name": "stdout",
     "output_type": "stream",
     "text": [
      "[TEST] End of Epoch 0, Avg Loss: 1.7204, Accuracy: 89.06%\n"
     ]
    },
    {
     "name": "stderr",
     "output_type": "stream",
     "text": []
    },
    {
     "name": "stdout",
     "output_type": "stream",
     "text": [
      "[TRAIN] End of Epoch 0, Avg Loss: 1.2090, Accuracy: 100.00%\n"
     ]
    },
    {
     "name": "stderr",
     "output_type": "stream",
     "text": [
      "Training Epochs: 100%|██████████| 2/2 [00:02<00:00,  1.17s/it]\n"
     ]
    },
    {
     "name": "stdout",
     "output_type": "stream",
     "text": [
      "[TRAIN] End of Epoch 1, Avg Loss: 1.2086, Accuracy: 100.00%\n"
     ]
    },
    {
     "name": "stderr",
     "output_type": "stream",
     "text": [
      "Testing Epochs: 100%|██████████| 1/1 [00:00<00:00,  3.49it/s]\n",
      "TOTAL Epochs:  47%|████▋     | 56/120 [02:24<02:47,  2.62s/it]"
     ]
    },
    {
     "name": "stdout",
     "output_type": "stream",
     "text": [
      "[TEST] End of Epoch 0, Avg Loss: 1.7252, Accuracy: 89.29%\n"
     ]
    },
    {
     "name": "stderr",
     "output_type": "stream",
     "text": []
    },
    {
     "name": "stdout",
     "output_type": "stream",
     "text": [
      "[TRAIN] End of Epoch 0, Avg Loss: 1.2083, Accuracy: 100.00%\n"
     ]
    },
    {
     "name": "stderr",
     "output_type": "stream",
     "text": [
      "Training Epochs: 100%|██████████| 2/2 [00:01<00:00,  1.37it/s]\n"
     ]
    },
    {
     "name": "stdout",
     "output_type": "stream",
     "text": [
      "[TRAIN] End of Epoch 1, Avg Loss: 1.2086, Accuracy: 100.00%\n"
     ]
    },
    {
     "name": "stderr",
     "output_type": "stream",
     "text": [
      "Testing Epochs: 100%|██████████| 1/1 [00:00<00:00,  3.46it/s]\n",
      "TOTAL Epochs:  48%|████▊     | 57/120 [02:26<02:28,  2.36s/it]"
     ]
    },
    {
     "name": "stdout",
     "output_type": "stream",
     "text": [
      "[TEST] End of Epoch 0, Avg Loss: 1.7244, Accuracy: 89.96%\n"
     ]
    },
    {
     "name": "stderr",
     "output_type": "stream",
     "text": []
    },
    {
     "name": "stdout",
     "output_type": "stream",
     "text": [
      "[TRAIN] End of Epoch 0, Avg Loss: 1.2071, Accuracy: 100.00%\n"
     ]
    },
    {
     "name": "stderr",
     "output_type": "stream",
     "text": [
      "Training Epochs: 100%|██████████| 2/2 [00:02<00:00,  1.14s/it]\n"
     ]
    },
    {
     "name": "stdout",
     "output_type": "stream",
     "text": [
      "[TRAIN] End of Epoch 1, Avg Loss: 1.2073, Accuracy: 100.00%\n"
     ]
    },
    {
     "name": "stderr",
     "output_type": "stream",
     "text": [
      "Testing Epochs: 100%|██████████| 1/1 [00:00<00:00,  3.52it/s]\n",
      "TOTAL Epochs:  48%|████▊     | 58/120 [02:29<02:30,  2.43s/it]"
     ]
    },
    {
     "name": "stdout",
     "output_type": "stream",
     "text": [
      "[TEST] End of Epoch 0, Avg Loss: 1.7264, Accuracy: 89.06%\n"
     ]
    },
    {
     "name": "stderr",
     "output_type": "stream",
     "text": []
    },
    {
     "name": "stdout",
     "output_type": "stream",
     "text": [
      "[TRAIN] End of Epoch 0, Avg Loss: 1.2069, Accuracy: 100.00%\n"
     ]
    },
    {
     "name": "stderr",
     "output_type": "stream",
     "text": [
      "Training Epochs: 100%|██████████| 2/2 [00:02<00:00,  1.19s/it]\n"
     ]
    },
    {
     "name": "stdout",
     "output_type": "stream",
     "text": [
      "[TRAIN] End of Epoch 1, Avg Loss: 1.2071, Accuracy: 100.00%\n"
     ]
    },
    {
     "name": "stderr",
     "output_type": "stream",
     "text": [
      "Testing Epochs: 100%|██████████| 1/1 [00:00<00:00,  3.28it/s]\n",
      "TOTAL Epochs:  49%|████▉     | 59/120 [02:31<02:32,  2.51s/it]"
     ]
    },
    {
     "name": "stdout",
     "output_type": "stream",
     "text": [
      "[TEST] End of Epoch 0, Avg Loss: 1.7254, Accuracy: 89.96%\n"
     ]
    },
    {
     "name": "stderr",
     "output_type": "stream",
     "text": []
    },
    {
     "name": "stdout",
     "output_type": "stream",
     "text": [
      "[TRAIN] End of Epoch 0, Avg Loss: 1.2059, Accuracy: 100.00%\n"
     ]
    },
    {
     "name": "stderr",
     "output_type": "stream",
     "text": [
      "Training Epochs: 100%|██████████| 2/2 [00:02<00:00,  1.18s/it]\n"
     ]
    },
    {
     "name": "stdout",
     "output_type": "stream",
     "text": [
      "[TRAIN] End of Epoch 1, Avg Loss: 1.2070, Accuracy: 100.00%\n"
     ]
    },
    {
     "name": "stderr",
     "output_type": "stream",
     "text": [
      "Testing Epochs: 100%|██████████| 1/1 [00:00<00:00,  3.49it/s]\n",
      "TOTAL Epochs:  50%|█████     | 60/120 [02:34<02:33,  2.55s/it]"
     ]
    },
    {
     "name": "stdout",
     "output_type": "stream",
     "text": [
      "[TEST] End of Epoch 0, Avg Loss: 1.7279, Accuracy: 89.29%\n"
     ]
    },
    {
     "name": "stderr",
     "output_type": "stream",
     "text": []
    },
    {
     "name": "stdout",
     "output_type": "stream",
     "text": [
      "[TRAIN] End of Epoch 0, Avg Loss: 1.2063, Accuracy: 100.00%\n"
     ]
    },
    {
     "name": "stderr",
     "output_type": "stream",
     "text": [
      "Training Epochs: 100%|██████████| 2/2 [00:02<00:00,  1.16s/it]\n"
     ]
    },
    {
     "name": "stdout",
     "output_type": "stream",
     "text": [
      "[TRAIN] End of Epoch 1, Avg Loss: 1.2059, Accuracy: 100.00%\n"
     ]
    },
    {
     "name": "stderr",
     "output_type": "stream",
     "text": [
      "Testing Epochs: 100%|██████████| 1/1 [00:00<00:00,  3.35it/s]\n",
      "TOTAL Epochs:  51%|█████     | 61/120 [02:37<02:31,  2.57s/it]"
     ]
    },
    {
     "name": "stdout",
     "output_type": "stream",
     "text": [
      "[TEST] End of Epoch 0, Avg Loss: 1.7313, Accuracy: 90.18%\n"
     ]
    },
    {
     "name": "stderr",
     "output_type": "stream",
     "text": []
    },
    {
     "name": "stdout",
     "output_type": "stream",
     "text": [
      "[TRAIN] End of Epoch 0, Avg Loss: 1.2055, Accuracy: 100.00%\n"
     ]
    },
    {
     "name": "stderr",
     "output_type": "stream",
     "text": [
      "Training Epochs: 100%|██████████| 2/2 [00:02<00:00,  1.17s/it]\n"
     ]
    },
    {
     "name": "stdout",
     "output_type": "stream",
     "text": [
      "[TRAIN] End of Epoch 1, Avg Loss: 1.2064, Accuracy: 100.00%\n"
     ]
    },
    {
     "name": "stderr",
     "output_type": "stream",
     "text": [
      "Testing Epochs: 100%|██████████| 1/1 [00:00<00:00,  3.22it/s]\n",
      "TOTAL Epochs:  52%|█████▏    | 62/120 [02:39<02:30,  2.60s/it]"
     ]
    },
    {
     "name": "stdout",
     "output_type": "stream",
     "text": [
      "[TEST] End of Epoch 0, Avg Loss: 1.7353, Accuracy: 89.73%\n"
     ]
    },
    {
     "name": "stderr",
     "output_type": "stream",
     "text": []
    },
    {
     "name": "stdout",
     "output_type": "stream",
     "text": [
      "[TRAIN] End of Epoch 0, Avg Loss: 1.2061, Accuracy: 100.00%\n"
     ]
    },
    {
     "name": "stderr",
     "output_type": "stream",
     "text": [
      "Training Epochs: 100%|██████████| 2/2 [00:02<00:00,  1.14s/it]\n"
     ]
    },
    {
     "name": "stdout",
     "output_type": "stream",
     "text": [
      "[TRAIN] End of Epoch 1, Avg Loss: 1.2058, Accuracy: 100.00%\n"
     ]
    },
    {
     "name": "stderr",
     "output_type": "stream",
     "text": [
      "Testing Epochs: 100%|██████████| 1/1 [00:00<00:00,  3.50it/s]\n",
      "TOTAL Epochs:  52%|█████▎    | 63/120 [02:42<02:27,  2.59s/it]"
     ]
    },
    {
     "name": "stdout",
     "output_type": "stream",
     "text": [
      "[TEST] End of Epoch 0, Avg Loss: 1.7296, Accuracy: 89.96%\n"
     ]
    },
    {
     "name": "stderr",
     "output_type": "stream",
     "text": []
    },
    {
     "name": "stdout",
     "output_type": "stream",
     "text": [
      "[TRAIN] End of Epoch 0, Avg Loss: 1.2061, Accuracy: 100.00%\n"
     ]
    },
    {
     "name": "stderr",
     "output_type": "stream",
     "text": [
      "Training Epochs: 100%|██████████| 2/2 [00:02<00:00,  1.14s/it]\n"
     ]
    },
    {
     "name": "stdout",
     "output_type": "stream",
     "text": [
      "[TRAIN] End of Epoch 1, Avg Loss: 1.2051, Accuracy: 100.00%\n"
     ]
    },
    {
     "name": "stderr",
     "output_type": "stream",
     "text": [
      "Testing Epochs: 100%|██████████| 1/1 [00:00<00:00,  3.32it/s]\n",
      "TOTAL Epochs:  53%|█████▎    | 64/120 [02:45<02:25,  2.60s/it]"
     ]
    },
    {
     "name": "stdout",
     "output_type": "stream",
     "text": [
      "[TEST] End of Epoch 0, Avg Loss: 1.7334, Accuracy: 88.84%\n"
     ]
    },
    {
     "name": "stderr",
     "output_type": "stream",
     "text": []
    },
    {
     "name": "stdout",
     "output_type": "stream",
     "text": [
      "[TRAIN] End of Epoch 0, Avg Loss: 1.2055, Accuracy: 100.00%\n"
     ]
    },
    {
     "name": "stderr",
     "output_type": "stream",
     "text": [
      "Training Epochs: 100%|██████████| 2/2 [00:02<00:00,  1.18s/it]\n"
     ]
    },
    {
     "name": "stdout",
     "output_type": "stream",
     "text": [
      "[TRAIN] End of Epoch 1, Avg Loss: 1.2053, Accuracy: 100.00%\n"
     ]
    },
    {
     "name": "stderr",
     "output_type": "stream",
     "text": [
      "Testing Epochs: 100%|██████████| 1/1 [00:00<00:00,  3.49it/s]\n",
      "TOTAL Epochs:  54%|█████▍    | 65/120 [02:47<02:23,  2.61s/it]"
     ]
    },
    {
     "name": "stdout",
     "output_type": "stream",
     "text": [
      "[TEST] End of Epoch 0, Avg Loss: 1.7363, Accuracy: 89.96%\n"
     ]
    },
    {
     "name": "stderr",
     "output_type": "stream",
     "text": []
    },
    {
     "name": "stdout",
     "output_type": "stream",
     "text": [
      "[TRAIN] End of Epoch 0, Avg Loss: 2.2187, Accuracy: 62.50%\n"
     ]
    },
    {
     "name": "stderr",
     "output_type": "stream",
     "text": [
      "Training Epochs: 100%|██████████| 2/2 [00:02<00:00,  1.16s/it]\n"
     ]
    },
    {
     "name": "stdout",
     "output_type": "stream",
     "text": [
      "[TRAIN] End of Epoch 1, Avg Loss: 1.8662, Accuracy: 79.19%\n"
     ]
    },
    {
     "name": "stderr",
     "output_type": "stream",
     "text": [
      "Testing Epochs: 100%|██████████| 1/1 [00:00<00:00,  3.51it/s]\n",
      "TOTAL Epochs:  55%|█████▌    | 66/120 [02:50<02:21,  2.61s/it]"
     ]
    },
    {
     "name": "stdout",
     "output_type": "stream",
     "text": [
      "[TEST] End of Epoch 0, Avg Loss: 1.9805, Accuracy: 71.65%\n"
     ]
    },
    {
     "name": "stderr",
     "output_type": "stream",
     "text": []
    },
    {
     "name": "stdout",
     "output_type": "stream",
     "text": [
      "[TRAIN] End of Epoch 0, Avg Loss: 1.5672, Accuracy: 93.75%\n"
     ]
    },
    {
     "name": "stderr",
     "output_type": "stream",
     "text": [
      "Training Epochs: 100%|██████████| 2/2 [00:02<00:00,  1.16s/it]\n"
     ]
    },
    {
     "name": "stdout",
     "output_type": "stream",
     "text": [
      "[TRAIN] End of Epoch 1, Avg Loss: 1.4582, Accuracy: 97.66%\n"
     ]
    },
    {
     "name": "stderr",
     "output_type": "stream",
     "text": [
      "Testing Epochs: 100%|██████████| 1/1 [00:00<00:00,  3.52it/s]\n",
      "TOTAL Epochs:  56%|█████▌    | 67/120 [02:52<02:18,  2.61s/it]"
     ]
    },
    {
     "name": "stdout",
     "output_type": "stream",
     "text": [
      "[TEST] End of Epoch 0, Avg Loss: 1.7763, Accuracy: 82.14%\n"
     ]
    },
    {
     "name": "stderr",
     "output_type": "stream",
     "text": []
    },
    {
     "name": "stdout",
     "output_type": "stream",
     "text": [
      "[TRAIN] End of Epoch 0, Avg Loss: 1.3871, Accuracy: 99.16%\n"
     ]
    },
    {
     "name": "stderr",
     "output_type": "stream",
     "text": [
      "Training Epochs: 100%|██████████| 2/2 [00:02<00:00,  1.15s/it]\n"
     ]
    },
    {
     "name": "stdout",
     "output_type": "stream",
     "text": [
      "[TRAIN] End of Epoch 1, Avg Loss: 1.3307, Accuracy: 99.83%\n"
     ]
    },
    {
     "name": "stderr",
     "output_type": "stream",
     "text": [
      "Testing Epochs: 100%|██████████| 1/1 [00:00<00:00,  3.49it/s]\n",
      "TOTAL Epochs:  57%|█████▋    | 68/120 [02:55<02:15,  2.61s/it]"
     ]
    },
    {
     "name": "stdout",
     "output_type": "stream",
     "text": [
      "[TEST] End of Epoch 0, Avg Loss: 1.7360, Accuracy: 83.71%\n"
     ]
    },
    {
     "name": "stderr",
     "output_type": "stream",
     "text": []
    },
    {
     "name": "stdout",
     "output_type": "stream",
     "text": [
      "[TRAIN] End of Epoch 0, Avg Loss: 1.3072, Accuracy: 99.94%\n"
     ]
    },
    {
     "name": "stderr",
     "output_type": "stream",
     "text": [
      "Training Epochs: 100%|██████████| 2/2 [00:01<00:00,  1.49it/s]\n"
     ]
    },
    {
     "name": "stdout",
     "output_type": "stream",
     "text": [
      "[TRAIN] End of Epoch 1, Avg Loss: 1.2892, Accuracy: 99.94%\n"
     ]
    },
    {
     "name": "stderr",
     "output_type": "stream",
     "text": [
      "Testing Epochs: 100%|██████████| 1/1 [00:00<00:00,  3.41it/s]\n",
      "TOTAL Epochs:  57%|█████▊    | 69/120 [02:57<01:58,  2.32s/it]"
     ]
    },
    {
     "name": "stdout",
     "output_type": "stream",
     "text": [
      "[TEST] End of Epoch 0, Avg Loss: 1.7046, Accuracy: 87.95%\n"
     ]
    },
    {
     "name": "stderr",
     "output_type": "stream",
     "text": []
    },
    {
     "name": "stdout",
     "output_type": "stream",
     "text": [
      "[TRAIN] End of Epoch 0, Avg Loss: 1.2763, Accuracy: 100.00%\n"
     ]
    },
    {
     "name": "stderr",
     "output_type": "stream",
     "text": [
      "Training Epochs: 100%|██████████| 2/2 [00:02<00:00,  1.14s/it]\n"
     ]
    },
    {
     "name": "stdout",
     "output_type": "stream",
     "text": [
      "[TRAIN] End of Epoch 1, Avg Loss: 1.2629, Accuracy: 100.00%\n"
     ]
    },
    {
     "name": "stderr",
     "output_type": "stream",
     "text": [
      "Testing Epochs: 100%|██████████| 1/1 [00:00<00:00,  3.52it/s]\n",
      "TOTAL Epochs:  58%|█████▊    | 70/120 [02:59<01:59,  2.39s/it]"
     ]
    },
    {
     "name": "stdout",
     "output_type": "stream",
     "text": [
      "[TEST] End of Epoch 0, Avg Loss: 1.7316, Accuracy: 84.60%\n"
     ]
    },
    {
     "name": "stderr",
     "output_type": "stream",
     "text": []
    },
    {
     "name": "stdout",
     "output_type": "stream",
     "text": [
      "[TRAIN] End of Epoch 0, Avg Loss: 1.2696, Accuracy: 99.94%\n"
     ]
    },
    {
     "name": "stderr",
     "output_type": "stream",
     "text": [
      "Training Epochs: 100%|██████████| 2/2 [00:02<00:00,  1.16s/it]\n"
     ]
    },
    {
     "name": "stdout",
     "output_type": "stream",
     "text": [
      "[TRAIN] End of Epoch 1, Avg Loss: 1.2728, Accuracy: 99.94%\n"
     ]
    },
    {
     "name": "stderr",
     "output_type": "stream",
     "text": [
      "Testing Epochs: 100%|██████████| 1/1 [00:00<00:00,  3.45it/s]\n",
      "TOTAL Epochs:  59%|█████▉    | 71/120 [03:02<02:00,  2.46s/it]"
     ]
    },
    {
     "name": "stdout",
     "output_type": "stream",
     "text": [
      "[TEST] End of Epoch 0, Avg Loss: 1.6871, Accuracy: 85.94%\n"
     ]
    },
    {
     "name": "stderr",
     "output_type": "stream",
     "text": []
    },
    {
     "name": "stdout",
     "output_type": "stream",
     "text": [
      "[TRAIN] End of Epoch 0, Avg Loss: 1.2662, Accuracy: 100.00%\n"
     ]
    },
    {
     "name": "stderr",
     "output_type": "stream",
     "text": [
      "Training Epochs: 100%|██████████| 2/2 [00:02<00:00,  1.17s/it]\n"
     ]
    },
    {
     "name": "stdout",
     "output_type": "stream",
     "text": [
      "[TRAIN] End of Epoch 1, Avg Loss: 1.2626, Accuracy: 100.00%\n"
     ]
    },
    {
     "name": "stderr",
     "output_type": "stream",
     "text": [
      "Testing Epochs: 100%|██████████| 1/1 [00:00<00:00,  3.48it/s]\n",
      "TOTAL Epochs:  60%|██████    | 72/120 [03:04<02:00,  2.51s/it]"
     ]
    },
    {
     "name": "stdout",
     "output_type": "stream",
     "text": [
      "[TEST] End of Epoch 0, Avg Loss: 1.7320, Accuracy: 84.38%\n"
     ]
    },
    {
     "name": "stderr",
     "output_type": "stream",
     "text": []
    },
    {
     "name": "stdout",
     "output_type": "stream",
     "text": [
      "[TRAIN] End of Epoch 0, Avg Loss: 1.2608, Accuracy: 100.00%\n"
     ]
    },
    {
     "name": "stderr",
     "output_type": "stream",
     "text": [
      "Training Epochs: 100%|██████████| 2/2 [00:02<00:00,  1.20s/it]\n"
     ]
    },
    {
     "name": "stdout",
     "output_type": "stream",
     "text": [
      "[TRAIN] End of Epoch 1, Avg Loss: 1.2505, Accuracy: 100.00%\n"
     ]
    },
    {
     "name": "stderr",
     "output_type": "stream",
     "text": [
      "Testing Epochs: 100%|██████████| 1/1 [00:00<00:00,  3.48it/s]\n",
      "TOTAL Epochs:  61%|██████    | 73/120 [03:07<02:00,  2.57s/it]"
     ]
    },
    {
     "name": "stdout",
     "output_type": "stream",
     "text": [
      "[TEST] End of Epoch 0, Avg Loss: 1.6944, Accuracy: 88.17%\n"
     ]
    },
    {
     "name": "stderr",
     "output_type": "stream",
     "text": []
    },
    {
     "name": "stdout",
     "output_type": "stream",
     "text": [
      "[TRAIN] End of Epoch 0, Avg Loss: 1.2601, Accuracy: 100.00%\n"
     ]
    },
    {
     "name": "stderr",
     "output_type": "stream",
     "text": [
      "Training Epochs: 100%|██████████| 2/2 [00:02<00:00,  1.18s/it]\n"
     ]
    },
    {
     "name": "stdout",
     "output_type": "stream",
     "text": [
      "[TRAIN] End of Epoch 1, Avg Loss: 1.2604, Accuracy: 100.00%\n"
     ]
    },
    {
     "name": "stderr",
     "output_type": "stream",
     "text": [
      "Testing Epochs: 100%|██████████| 1/1 [00:00<00:00,  3.46it/s]\n",
      "TOTAL Epochs:  62%|██████▏   | 74/120 [03:10<01:59,  2.60s/it]"
     ]
    },
    {
     "name": "stdout",
     "output_type": "stream",
     "text": [
      "[TEST] End of Epoch 0, Avg Loss: 1.7027, Accuracy: 86.61%\n"
     ]
    },
    {
     "name": "stderr",
     "output_type": "stream",
     "text": []
    },
    {
     "name": "stdout",
     "output_type": "stream",
     "text": [
      "[TRAIN] End of Epoch 0, Avg Loss: 1.2585, Accuracy: 100.00%\n"
     ]
    },
    {
     "name": "stderr",
     "output_type": "stream",
     "text": [
      "Training Epochs: 100%|██████████| 2/2 [00:02<00:00,  1.17s/it]\n"
     ]
    },
    {
     "name": "stdout",
     "output_type": "stream",
     "text": [
      "[TRAIN] End of Epoch 1, Avg Loss: 1.2502, Accuracy: 100.00%\n"
     ]
    },
    {
     "name": "stderr",
     "output_type": "stream",
     "text": [
      "Testing Epochs: 100%|██████████| 1/1 [00:00<00:00,  3.49it/s]\n",
      "TOTAL Epochs:  62%|██████▎   | 75/120 [03:12<01:57,  2.61s/it]"
     ]
    },
    {
     "name": "stdout",
     "output_type": "stream",
     "text": [
      "[TEST] End of Epoch 0, Avg Loss: 1.6767, Accuracy: 87.05%\n"
     ]
    },
    {
     "name": "stderr",
     "output_type": "stream",
     "text": []
    },
    {
     "name": "stdout",
     "output_type": "stream",
     "text": [
      "[TRAIN] End of Epoch 0, Avg Loss: 1.2539, Accuracy: 100.00%\n"
     ]
    },
    {
     "name": "stderr",
     "output_type": "stream",
     "text": [
      "Training Epochs: 100%|██████████| 2/2 [00:02<00:00,  1.17s/it]\n"
     ]
    },
    {
     "name": "stdout",
     "output_type": "stream",
     "text": [
      "[TRAIN] End of Epoch 1, Avg Loss: 1.2516, Accuracy: 99.94%\n"
     ]
    },
    {
     "name": "stderr",
     "output_type": "stream",
     "text": [
      "Testing Epochs: 100%|██████████| 1/1 [00:00<00:00,  3.48it/s]\n",
      "TOTAL Epochs:  63%|██████▎   | 76/120 [03:15<01:55,  2.62s/it]"
     ]
    },
    {
     "name": "stdout",
     "output_type": "stream",
     "text": [
      "[TEST] End of Epoch 0, Avg Loss: 1.6906, Accuracy: 88.62%\n"
     ]
    },
    {
     "name": "stderr",
     "output_type": "stream",
     "text": []
    },
    {
     "name": "stdout",
     "output_type": "stream",
     "text": [
      "[TRAIN] End of Epoch 0, Avg Loss: 1.2496, Accuracy: 100.00%\n"
     ]
    },
    {
     "name": "stderr",
     "output_type": "stream",
     "text": [
      "Training Epochs: 100%|██████████| 2/2 [00:02<00:00,  1.16s/it]\n"
     ]
    },
    {
     "name": "stdout",
     "output_type": "stream",
     "text": [
      "[TRAIN] End of Epoch 1, Avg Loss: 1.2495, Accuracy: 100.00%\n"
     ]
    },
    {
     "name": "stderr",
     "output_type": "stream",
     "text": [
      "Testing Epochs: 100%|██████████| 1/1 [00:00<00:00,  3.44it/s]\n",
      "TOTAL Epochs:  64%|██████▍   | 77/120 [03:18<01:52,  2.62s/it]"
     ]
    },
    {
     "name": "stdout",
     "output_type": "stream",
     "text": [
      "[TEST] End of Epoch 0, Avg Loss: 1.7160, Accuracy: 85.49%\n"
     ]
    },
    {
     "name": "stderr",
     "output_type": "stream",
     "text": []
    },
    {
     "name": "stdout",
     "output_type": "stream",
     "text": [
      "[TRAIN] End of Epoch 0, Avg Loss: 1.2460, Accuracy: 100.00%\n"
     ]
    },
    {
     "name": "stderr",
     "output_type": "stream",
     "text": [
      "Training Epochs: 100%|██████████| 2/2 [00:02<00:00,  1.15s/it]\n"
     ]
    },
    {
     "name": "stdout",
     "output_type": "stream",
     "text": [
      "[TRAIN] End of Epoch 1, Avg Loss: 1.2439, Accuracy: 100.00%\n"
     ]
    },
    {
     "name": "stderr",
     "output_type": "stream",
     "text": [
      "Testing Epochs: 100%|██████████| 1/1 [00:00<00:00,  3.49it/s]\n",
      "TOTAL Epochs:  65%|██████▌   | 78/120 [03:20<01:49,  2.62s/it]"
     ]
    },
    {
     "name": "stdout",
     "output_type": "stream",
     "text": [
      "[TEST] End of Epoch 0, Avg Loss: 1.6844, Accuracy: 88.62%\n"
     ]
    },
    {
     "name": "stderr",
     "output_type": "stream",
     "text": []
    },
    {
     "name": "stdout",
     "output_type": "stream",
     "text": [
      "[TRAIN] End of Epoch 0, Avg Loss: 1.2449, Accuracy: 100.00%\n"
     ]
    },
    {
     "name": "stderr",
     "output_type": "stream",
     "text": [
      "Training Epochs: 100%|██████████| 2/2 [00:02<00:00,  1.17s/it]\n"
     ]
    },
    {
     "name": "stdout",
     "output_type": "stream",
     "text": [
      "[TRAIN] End of Epoch 1, Avg Loss: 1.2457, Accuracy: 100.00%\n"
     ]
    },
    {
     "name": "stderr",
     "output_type": "stream",
     "text": [
      "Testing Epochs: 100%|██████████| 1/1 [00:00<00:00,  3.24it/s]\n",
      "TOTAL Epochs:  66%|██████▌   | 79/120 [03:23<01:47,  2.63s/it]"
     ]
    },
    {
     "name": "stdout",
     "output_type": "stream",
     "text": [
      "[TEST] End of Epoch 0, Avg Loss: 1.7430, Accuracy: 87.28%\n"
     ]
    },
    {
     "name": "stderr",
     "output_type": "stream",
     "text": []
    },
    {
     "name": "stdout",
     "output_type": "stream",
     "text": [
      "[TRAIN] End of Epoch 0, Avg Loss: 1.2487, Accuracy: 99.94%\n"
     ]
    },
    {
     "name": "stderr",
     "output_type": "stream",
     "text": [
      "Training Epochs: 100%|██████████| 2/2 [00:02<00:00,  1.16s/it]\n"
     ]
    },
    {
     "name": "stdout",
     "output_type": "stream",
     "text": [
      "[TRAIN] End of Epoch 1, Avg Loss: 1.2515, Accuracy: 100.00%\n"
     ]
    },
    {
     "name": "stderr",
     "output_type": "stream",
     "text": [
      "Testing Epochs: 100%|██████████| 1/1 [00:00<00:00,  3.51it/s]\n",
      "TOTAL Epochs:  67%|██████▋   | 80/120 [03:26<01:44,  2.62s/it]"
     ]
    },
    {
     "name": "stdout",
     "output_type": "stream",
     "text": [
      "[TEST] End of Epoch 0, Avg Loss: 1.7286, Accuracy: 87.28%\n"
     ]
    },
    {
     "name": "stderr",
     "output_type": "stream",
     "text": []
    },
    {
     "name": "stdout",
     "output_type": "stream",
     "text": [
      "[TRAIN] End of Epoch 0, Avg Loss: 1.2450, Accuracy: 100.00%\n"
     ]
    },
    {
     "name": "stderr",
     "output_type": "stream",
     "text": [
      "Training Epochs: 100%|██████████| 2/2 [00:02<00:00,  1.14s/it]\n"
     ]
    },
    {
     "name": "stdout",
     "output_type": "stream",
     "text": [
      "[TRAIN] End of Epoch 1, Avg Loss: 1.2403, Accuracy: 100.00%\n"
     ]
    },
    {
     "name": "stderr",
     "output_type": "stream",
     "text": [
      "Testing Epochs: 100%|██████████| 1/1 [00:00<00:00,  3.45it/s]\n",
      "TOTAL Epochs:  68%|██████▊   | 81/120 [03:28<01:41,  2.61s/it]"
     ]
    },
    {
     "name": "stdout",
     "output_type": "stream",
     "text": [
      "[TEST] End of Epoch 0, Avg Loss: 1.6971, Accuracy: 87.72%\n"
     ]
    },
    {
     "name": "stderr",
     "output_type": "stream",
     "text": []
    },
    {
     "name": "stdout",
     "output_type": "stream",
     "text": [
      "[TRAIN] End of Epoch 0, Avg Loss: 1.2441, Accuracy: 100.00%\n"
     ]
    },
    {
     "name": "stderr",
     "output_type": "stream",
     "text": [
      "Training Epochs: 100%|██████████| 2/2 [00:01<00:00,  1.47it/s]\n"
     ]
    },
    {
     "name": "stdout",
     "output_type": "stream",
     "text": [
      "[TRAIN] End of Epoch 1, Avg Loss: 1.2449, Accuracy: 100.00%\n"
     ]
    },
    {
     "name": "stderr",
     "output_type": "stream",
     "text": [
      "Testing Epochs: 100%|██████████| 1/1 [00:00<00:00,  3.28it/s]\n",
      "TOTAL Epochs:  68%|██████▊   | 82/120 [03:30<01:28,  2.33s/it]"
     ]
    },
    {
     "name": "stdout",
     "output_type": "stream",
     "text": [
      "[TEST] End of Epoch 0, Avg Loss: 1.7259, Accuracy: 85.49%\n"
     ]
    },
    {
     "name": "stderr",
     "output_type": "stream",
     "text": []
    },
    {
     "name": "stdout",
     "output_type": "stream",
     "text": [
      "[TRAIN] End of Epoch 0, Avg Loss: 1.2452, Accuracy: 100.00%\n"
     ]
    },
    {
     "name": "stderr",
     "output_type": "stream",
     "text": [
      "Training Epochs: 100%|██████████| 2/2 [00:02<00:00,  1.15s/it]\n"
     ]
    },
    {
     "name": "stdout",
     "output_type": "stream",
     "text": [
      "[TRAIN] End of Epoch 1, Avg Loss: 1.2433, Accuracy: 100.00%\n"
     ]
    },
    {
     "name": "stderr",
     "output_type": "stream",
     "text": [
      "Testing Epochs: 100%|██████████| 1/1 [00:00<00:00,  3.46it/s]\n",
      "TOTAL Epochs:  69%|██████▉   | 83/120 [03:32<01:29,  2.41s/it]"
     ]
    },
    {
     "name": "stdout",
     "output_type": "stream",
     "text": [
      "[TEST] End of Epoch 0, Avg Loss: 1.7112, Accuracy: 87.28%\n"
     ]
    },
    {
     "name": "stderr",
     "output_type": "stream",
     "text": []
    },
    {
     "name": "stdout",
     "output_type": "stream",
     "text": [
      "[TRAIN] End of Epoch 0, Avg Loss: 1.2488, Accuracy: 100.00%\n"
     ]
    },
    {
     "name": "stderr",
     "output_type": "stream",
     "text": [
      "Training Epochs: 100%|██████████| 2/2 [00:02<00:00,  1.18s/it]\n"
     ]
    },
    {
     "name": "stdout",
     "output_type": "stream",
     "text": [
      "[TRAIN] End of Epoch 1, Avg Loss: 1.2430, Accuracy: 100.00%\n"
     ]
    },
    {
     "name": "stderr",
     "output_type": "stream",
     "text": [
      "Testing Epochs: 100%|██████████| 1/1 [00:00<00:00,  3.43it/s]\n",
      "TOTAL Epochs:  70%|███████   | 84/120 [03:35<01:29,  2.48s/it]"
     ]
    },
    {
     "name": "stdout",
     "output_type": "stream",
     "text": [
      "[TEST] End of Epoch 0, Avg Loss: 1.7399, Accuracy: 86.61%\n"
     ]
    },
    {
     "name": "stderr",
     "output_type": "stream",
     "text": []
    },
    {
     "name": "stdout",
     "output_type": "stream",
     "text": [
      "[TRAIN] End of Epoch 0, Avg Loss: 1.2443, Accuracy: 100.00%\n"
     ]
    },
    {
     "name": "stderr",
     "output_type": "stream",
     "text": [
      "Training Epochs: 100%|██████████| 2/2 [00:02<00:00,  1.16s/it]\n"
     ]
    },
    {
     "name": "stdout",
     "output_type": "stream",
     "text": [
      "[TRAIN] End of Epoch 1, Avg Loss: 1.2439, Accuracy: 100.00%\n"
     ]
    },
    {
     "name": "stderr",
     "output_type": "stream",
     "text": [
      "Testing Epochs: 100%|██████████| 1/1 [00:00<00:00,  3.46it/s]\n",
      "TOTAL Epochs:  71%|███████   | 85/120 [03:38<01:28,  2.53s/it]"
     ]
    },
    {
     "name": "stdout",
     "output_type": "stream",
     "text": [
      "[TEST] End of Epoch 0, Avg Loss: 1.6862, Accuracy: 87.72%\n"
     ]
    },
    {
     "name": "stderr",
     "output_type": "stream",
     "text": []
    },
    {
     "name": "stdout",
     "output_type": "stream",
     "text": [
      "[TRAIN] End of Epoch 0, Avg Loss: 1.2439, Accuracy: 100.00%\n"
     ]
    },
    {
     "name": "stderr",
     "output_type": "stream",
     "text": [
      "Training Epochs: 100%|██████████| 2/2 [00:02<00:00,  1.15s/it]\n"
     ]
    },
    {
     "name": "stdout",
     "output_type": "stream",
     "text": [
      "[TRAIN] End of Epoch 1, Avg Loss: 1.2443, Accuracy: 100.00%\n"
     ]
    },
    {
     "name": "stderr",
     "output_type": "stream",
     "text": [
      "Testing Epochs: 100%|██████████| 1/1 [00:00<00:00,  3.47it/s]\n",
      "TOTAL Epochs:  72%|███████▏  | 86/120 [03:40<01:26,  2.55s/it]"
     ]
    },
    {
     "name": "stdout",
     "output_type": "stream",
     "text": [
      "[TEST] End of Epoch 0, Avg Loss: 1.7113, Accuracy: 88.39%\n"
     ]
    },
    {
     "name": "stderr",
     "output_type": "stream",
     "text": []
    },
    {
     "name": "stdout",
     "output_type": "stream",
     "text": [
      "[TRAIN] End of Epoch 0, Avg Loss: 1.2450, Accuracy: 100.00%\n"
     ]
    },
    {
     "name": "stderr",
     "output_type": "stream",
     "text": [
      "Training Epochs: 100%|██████████| 2/2 [00:02<00:00,  1.15s/it]\n"
     ]
    },
    {
     "name": "stdout",
     "output_type": "stream",
     "text": [
      "[TRAIN] End of Epoch 1, Avg Loss: 1.2425, Accuracy: 100.00%\n"
     ]
    },
    {
     "name": "stderr",
     "output_type": "stream",
     "text": [
      "Testing Epochs: 100%|██████████| 1/1 [00:00<00:00,  3.49it/s]\n",
      "TOTAL Epochs:  72%|███████▎  | 87/120 [03:43<01:24,  2.56s/it]"
     ]
    },
    {
     "name": "stdout",
     "output_type": "stream",
     "text": [
      "[TEST] End of Epoch 0, Avg Loss: 1.7179, Accuracy: 85.49%\n"
     ]
    },
    {
     "name": "stderr",
     "output_type": "stream",
     "text": []
    },
    {
     "name": "stdout",
     "output_type": "stream",
     "text": [
      "[TRAIN] End of Epoch 0, Avg Loss: 1.2501, Accuracy: 100.00%\n"
     ]
    },
    {
     "name": "stderr",
     "output_type": "stream",
     "text": [
      "Training Epochs: 100%|██████████| 2/2 [00:02<00:00,  1.15s/it]\n"
     ]
    },
    {
     "name": "stdout",
     "output_type": "stream",
     "text": [
      "[TRAIN] End of Epoch 1, Avg Loss: 1.2471, Accuracy: 100.00%\n"
     ]
    },
    {
     "name": "stderr",
     "output_type": "stream",
     "text": [
      "Testing Epochs: 100%|██████████| 1/1 [00:00<00:00,  3.50it/s]\n",
      "TOTAL Epochs:  73%|███████▎  | 88/120 [03:45<01:22,  2.57s/it]"
     ]
    },
    {
     "name": "stdout",
     "output_type": "stream",
     "text": [
      "[TEST] End of Epoch 0, Avg Loss: 1.7089, Accuracy: 87.28%\n"
     ]
    },
    {
     "name": "stderr",
     "output_type": "stream",
     "text": []
    },
    {
     "name": "stdout",
     "output_type": "stream",
     "text": [
      "[TRAIN] End of Epoch 0, Avg Loss: 1.2449, Accuracy: 100.00%\n"
     ]
    },
    {
     "name": "stderr",
     "output_type": "stream",
     "text": [
      "Training Epochs: 100%|██████████| 2/2 [00:02<00:00,  1.15s/it]\n"
     ]
    },
    {
     "name": "stdout",
     "output_type": "stream",
     "text": [
      "[TRAIN] End of Epoch 1, Avg Loss: 1.2406, Accuracy: 100.00%\n"
     ]
    },
    {
     "name": "stderr",
     "output_type": "stream",
     "text": [
      "Testing Epochs: 100%|██████████| 1/1 [00:00<00:00,  3.47it/s]\n",
      "TOTAL Epochs:  74%|███████▍  | 89/120 [03:48<01:19,  2.58s/it]"
     ]
    },
    {
     "name": "stdout",
     "output_type": "stream",
     "text": [
      "[TEST] End of Epoch 0, Avg Loss: 1.7056, Accuracy: 87.28%\n"
     ]
    },
    {
     "name": "stderr",
     "output_type": "stream",
     "text": []
    },
    {
     "name": "stdout",
     "output_type": "stream",
     "text": [
      "[TRAIN] End of Epoch 0, Avg Loss: 1.2447, Accuracy: 99.89%\n"
     ]
    },
    {
     "name": "stderr",
     "output_type": "stream",
     "text": [
      "Training Epochs: 100%|██████████| 2/2 [00:02<00:00,  1.14s/it]\n"
     ]
    },
    {
     "name": "stdout",
     "output_type": "stream",
     "text": [
      "[TRAIN] End of Epoch 1, Avg Loss: 1.2447, Accuracy: 100.00%\n"
     ]
    },
    {
     "name": "stderr",
     "output_type": "stream",
     "text": [
      "Testing Epochs: 100%|██████████| 1/1 [00:00<00:00,  3.47it/s]\n",
      "TOTAL Epochs:  75%|███████▌  | 90/120 [03:51<01:17,  2.58s/it]"
     ]
    },
    {
     "name": "stdout",
     "output_type": "stream",
     "text": [
      "[TEST] End of Epoch 0, Avg Loss: 1.7173, Accuracy: 87.72%\n"
     ]
    },
    {
     "name": "stderr",
     "output_type": "stream",
     "text": []
    },
    {
     "name": "stdout",
     "output_type": "stream",
     "text": [
      "[TRAIN] End of Epoch 0, Avg Loss: 1.2475, Accuracy: 99.89%\n"
     ]
    },
    {
     "name": "stderr",
     "output_type": "stream",
     "text": [
      "Training Epochs: 100%|██████████| 2/2 [00:02<00:00,  1.14s/it]\n"
     ]
    },
    {
     "name": "stdout",
     "output_type": "stream",
     "text": [
      "[TRAIN] End of Epoch 1, Avg Loss: 1.2450, Accuracy: 100.00%\n"
     ]
    },
    {
     "name": "stderr",
     "output_type": "stream",
     "text": [
      "Testing Epochs: 100%|██████████| 1/1 [00:00<00:00,  3.36it/s]\n",
      "TOTAL Epochs:  76%|███████▌  | 91/120 [03:53<01:14,  2.58s/it]"
     ]
    },
    {
     "name": "stdout",
     "output_type": "stream",
     "text": [
      "[TEST] End of Epoch 0, Avg Loss: 1.7442, Accuracy: 85.49%\n"
     ]
    },
    {
     "name": "stderr",
     "output_type": "stream",
     "text": []
    },
    {
     "name": "stdout",
     "output_type": "stream",
     "text": [
      "[TRAIN] End of Epoch 0, Avg Loss: 1.2434, Accuracy: 100.00%\n"
     ]
    },
    {
     "name": "stderr",
     "output_type": "stream",
     "text": [
      "Training Epochs: 100%|██████████| 2/2 [00:02<00:00,  1.15s/it]\n"
     ]
    },
    {
     "name": "stdout",
     "output_type": "stream",
     "text": [
      "[TRAIN] End of Epoch 1, Avg Loss: 1.2393, Accuracy: 100.00%\n"
     ]
    },
    {
     "name": "stderr",
     "output_type": "stream",
     "text": [
      "Testing Epochs: 100%|██████████| 1/1 [00:00<00:00,  3.31it/s]\n",
      "TOTAL Epochs:  77%|███████▋  | 92/120 [03:56<01:12,  2.59s/it]"
     ]
    },
    {
     "name": "stdout",
     "output_type": "stream",
     "text": [
      "[TEST] End of Epoch 0, Avg Loss: 1.7103, Accuracy: 87.50%\n"
     ]
    },
    {
     "name": "stderr",
     "output_type": "stream",
     "text": []
    },
    {
     "name": "stdout",
     "output_type": "stream",
     "text": [
      "[TRAIN] End of Epoch 0, Avg Loss: 1.2381, Accuracy: 100.00%\n"
     ]
    },
    {
     "name": "stderr",
     "output_type": "stream",
     "text": [
      "Training Epochs: 100%|██████████| 2/2 [00:02<00:00,  1.16s/it]\n"
     ]
    },
    {
     "name": "stdout",
     "output_type": "stream",
     "text": [
      "[TRAIN] End of Epoch 1, Avg Loss: 1.2352, Accuracy: 100.00%\n"
     ]
    },
    {
     "name": "stderr",
     "output_type": "stream",
     "text": [
      "Testing Epochs: 100%|██████████| 1/1 [00:00<00:00,  3.46it/s]\n",
      "TOTAL Epochs:  78%|███████▊  | 93/120 [03:58<01:10,  2.60s/it]"
     ]
    },
    {
     "name": "stdout",
     "output_type": "stream",
     "text": [
      "[TEST] End of Epoch 0, Avg Loss: 1.7054, Accuracy: 88.62%\n"
     ]
    },
    {
     "name": "stderr",
     "output_type": "stream",
     "text": []
    },
    {
     "name": "stdout",
     "output_type": "stream",
     "text": [
      "[TRAIN] End of Epoch 0, Avg Loss: 1.2371, Accuracy: 100.00%\n"
     ]
    },
    {
     "name": "stderr",
     "output_type": "stream",
     "text": [
      "Training Epochs: 100%|██████████| 2/2 [00:02<00:00,  1.17s/it]\n"
     ]
    },
    {
     "name": "stdout",
     "output_type": "stream",
     "text": [
      "[TRAIN] End of Epoch 1, Avg Loss: 1.2367, Accuracy: 100.00%\n"
     ]
    },
    {
     "name": "stderr",
     "output_type": "stream",
     "text": [
      "Testing Epochs: 100%|██████████| 1/1 [00:00<00:00,  3.37it/s]\n",
      "TOTAL Epochs:  78%|███████▊  | 94/120 [04:01<01:07,  2.61s/it]"
     ]
    },
    {
     "name": "stdout",
     "output_type": "stream",
     "text": [
      "[TEST] End of Epoch 0, Avg Loss: 1.6972, Accuracy: 86.61%\n"
     ]
    },
    {
     "name": "stderr",
     "output_type": "stream",
     "text": []
    },
    {
     "name": "stdout",
     "output_type": "stream",
     "text": [
      "[TRAIN] End of Epoch 0, Avg Loss: 1.2338, Accuracy: 100.00%\n"
     ]
    },
    {
     "name": "stderr",
     "output_type": "stream",
     "text": [
      "Training Epochs: 100%|██████████| 2/2 [00:02<00:00,  1.20s/it]\n"
     ]
    },
    {
     "name": "stdout",
     "output_type": "stream",
     "text": [
      "[TRAIN] End of Epoch 1, Avg Loss: 1.2282, Accuracy: 100.00%\n"
     ]
    },
    {
     "name": "stderr",
     "output_type": "stream",
     "text": [
      "Testing Epochs: 100%|██████████| 1/1 [00:00<00:00,  3.33it/s]\n",
      "TOTAL Epochs:  79%|███████▉  | 95/120 [04:04<01:06,  2.64s/it]"
     ]
    },
    {
     "name": "stdout",
     "output_type": "stream",
     "text": [
      "[TEST] End of Epoch 0, Avg Loss: 1.6858, Accuracy: 88.84%\n"
     ]
    },
    {
     "name": "stderr",
     "output_type": "stream",
     "text": []
    },
    {
     "name": "stdout",
     "output_type": "stream",
     "text": [
      "[TRAIN] End of Epoch 0, Avg Loss: 1.2252, Accuracy: 100.00%\n"
     ]
    },
    {
     "name": "stderr",
     "output_type": "stream",
     "text": [
      "Training Epochs: 100%|██████████| 2/2 [00:02<00:00,  1.16s/it]\n"
     ]
    },
    {
     "name": "stdout",
     "output_type": "stream",
     "text": [
      "[TRAIN] End of Epoch 1, Avg Loss: 1.2287, Accuracy: 100.00%\n"
     ]
    },
    {
     "name": "stderr",
     "output_type": "stream",
     "text": [
      "Testing Epochs: 100%|██████████| 1/1 [00:00<00:00,  3.51it/s]\n",
      "TOTAL Epochs:  80%|████████  | 96/120 [04:06<01:03,  2.63s/it]"
     ]
    },
    {
     "name": "stdout",
     "output_type": "stream",
     "text": [
      "[TEST] End of Epoch 0, Avg Loss: 1.6880, Accuracy: 88.62%\n"
     ]
    },
    {
     "name": "stderr",
     "output_type": "stream",
     "text": []
    },
    {
     "name": "stdout",
     "output_type": "stream",
     "text": [
      "[TRAIN] End of Epoch 0, Avg Loss: 1.2379, Accuracy: 100.00%\n"
     ]
    },
    {
     "name": "stderr",
     "output_type": "stream",
     "text": [
      "Training Epochs: 100%|██████████| 2/2 [00:02<00:00,  1.22s/it]\n"
     ]
    },
    {
     "name": "stdout",
     "output_type": "stream",
     "text": [
      "[TRAIN] End of Epoch 1, Avg Loss: 1.2411, Accuracy: 100.00%\n"
     ]
    },
    {
     "name": "stderr",
     "output_type": "stream",
     "text": [
      "Testing Epochs: 100%|██████████| 1/1 [00:00<00:00,  3.49it/s]\n",
      "TOTAL Epochs:  81%|████████  | 97/120 [04:09<01:01,  2.67s/it]"
     ]
    },
    {
     "name": "stdout",
     "output_type": "stream",
     "text": [
      "[TEST] End of Epoch 0, Avg Loss: 1.7258, Accuracy: 87.28%\n"
     ]
    },
    {
     "name": "stderr",
     "output_type": "stream",
     "text": []
    },
    {
     "name": "stdout",
     "output_type": "stream",
     "text": [
      "[TRAIN] End of Epoch 0, Avg Loss: 1.2397, Accuracy: 100.00%\n"
     ]
    },
    {
     "name": "stderr",
     "output_type": "stream",
     "text": [
      "Training Epochs: 100%|██████████| 2/2 [00:02<00:00,  1.18s/it]\n"
     ]
    },
    {
     "name": "stdout",
     "output_type": "stream",
     "text": [
      "[TRAIN] End of Epoch 1, Avg Loss: 1.2369, Accuracy: 100.00%\n"
     ]
    },
    {
     "name": "stderr",
     "output_type": "stream",
     "text": [
      "Testing Epochs: 100%|██████████| 1/1 [00:00<00:00,  3.44it/s]\n",
      "TOTAL Epochs:  82%|████████▏ | 98/120 [04:12<00:58,  2.66s/it]"
     ]
    },
    {
     "name": "stdout",
     "output_type": "stream",
     "text": [
      "[TEST] End of Epoch 0, Avg Loss: 1.6849, Accuracy: 87.95%\n"
     ]
    },
    {
     "name": "stderr",
     "output_type": "stream",
     "text": []
    },
    {
     "name": "stdout",
     "output_type": "stream",
     "text": [
      "[TRAIN] End of Epoch 0, Avg Loss: 1.2340, Accuracy: 100.00%\n"
     ]
    },
    {
     "name": "stderr",
     "output_type": "stream",
     "text": [
      "Training Epochs: 100%|██████████| 2/2 [00:02<00:00,  1.17s/it]\n"
     ]
    },
    {
     "name": "stdout",
     "output_type": "stream",
     "text": [
      "[TRAIN] End of Epoch 1, Avg Loss: 1.2366, Accuracy: 100.00%\n"
     ]
    },
    {
     "name": "stderr",
     "output_type": "stream",
     "text": [
      "Testing Epochs: 100%|██████████| 1/1 [00:00<00:00,  3.49it/s]\n",
      "TOTAL Epochs:  82%|████████▎ | 99/120 [04:14<00:55,  2.65s/it]"
     ]
    },
    {
     "name": "stdout",
     "output_type": "stream",
     "text": [
      "[TEST] End of Epoch 0, Avg Loss: 1.6948, Accuracy: 87.72%\n"
     ]
    },
    {
     "name": "stderr",
     "output_type": "stream",
     "text": []
    },
    {
     "name": "stdout",
     "output_type": "stream",
     "text": [
      "[TRAIN] End of Epoch 0, Avg Loss: 1.2329, Accuracy: 100.00%\n"
     ]
    },
    {
     "name": "stderr",
     "output_type": "stream",
     "text": [
      "Training Epochs: 100%|██████████| 2/2 [00:00<00:00,  2.24it/s]\n"
     ]
    },
    {
     "name": "stdout",
     "output_type": "stream",
     "text": [
      "[TRAIN] End of Epoch 1, Avg Loss: 1.2314, Accuracy: 100.00%\n"
     ]
    },
    {
     "name": "stderr",
     "output_type": "stream",
     "text": [
      "Testing Epochs: 100%|██████████| 1/1 [00:00<00:00,  3.40it/s]\n",
      "TOTAL Epochs:  83%|████████▎ | 100/120 [04:16<00:44,  2.21s/it]"
     ]
    },
    {
     "name": "stdout",
     "output_type": "stream",
     "text": [
      "[TEST] End of Epoch 0, Avg Loss: 1.6944, Accuracy: 88.17%\n"
     ]
    },
    {
     "name": "stderr",
     "output_type": "stream",
     "text": []
    },
    {
     "name": "stdout",
     "output_type": "stream",
     "text": [
      "[TRAIN] End of Epoch 0, Avg Loss: 1.2279, Accuracy: 100.00%\n"
     ]
    },
    {
     "name": "stderr",
     "output_type": "stream",
     "text": [
      "Training Epochs: 100%|██████████| 2/2 [00:02<00:00,  1.16s/it]\n"
     ]
    },
    {
     "name": "stdout",
     "output_type": "stream",
     "text": [
      "[TRAIN] End of Epoch 1, Avg Loss: 1.2265, Accuracy: 100.00%\n"
     ]
    },
    {
     "name": "stderr",
     "output_type": "stream",
     "text": [
      "Testing Epochs: 100%|██████████| 1/1 [00:00<00:00,  3.48it/s]\n",
      "TOTAL Epochs:  84%|████████▍ | 101/120 [04:18<00:44,  2.33s/it]"
     ]
    },
    {
     "name": "stdout",
     "output_type": "stream",
     "text": [
      "[TEST] End of Epoch 0, Avg Loss: 1.6695, Accuracy: 89.73%\n"
     ]
    },
    {
     "name": "stderr",
     "output_type": "stream",
     "text": []
    },
    {
     "name": "stdout",
     "output_type": "stream",
     "text": [
      "[TRAIN] End of Epoch 0, Avg Loss: 1.2289, Accuracy: 100.00%\n"
     ]
    },
    {
     "name": "stderr",
     "output_type": "stream",
     "text": [
      "Training Epochs: 100%|██████████| 2/2 [00:02<00:00,  1.14s/it]\n"
     ]
    },
    {
     "name": "stdout",
     "output_type": "stream",
     "text": [
      "[TRAIN] End of Epoch 1, Avg Loss: 1.2286, Accuracy: 100.00%\n"
     ]
    },
    {
     "name": "stderr",
     "output_type": "stream",
     "text": [
      "Testing Epochs: 100%|██████████| 1/1 [00:00<00:00,  3.40it/s]\n",
      "TOTAL Epochs:  85%|████████▌ | 102/120 [04:21<00:43,  2.41s/it]"
     ]
    },
    {
     "name": "stdout",
     "output_type": "stream",
     "text": [
      "[TEST] End of Epoch 0, Avg Loss: 1.7136, Accuracy: 87.50%\n"
     ]
    },
    {
     "name": "stderr",
     "output_type": "stream",
     "text": []
    },
    {
     "name": "stdout",
     "output_type": "stream",
     "text": [
      "[TRAIN] End of Epoch 0, Avg Loss: 1.2287, Accuracy: 100.00%\n"
     ]
    },
    {
     "name": "stderr",
     "output_type": "stream",
     "text": [
      "Training Epochs: 100%|██████████| 2/2 [00:02<00:00,  1.15s/it]\n"
     ]
    },
    {
     "name": "stdout",
     "output_type": "stream",
     "text": [
      "[TRAIN] End of Epoch 1, Avg Loss: 1.2260, Accuracy: 100.00%\n"
     ]
    },
    {
     "name": "stderr",
     "output_type": "stream",
     "text": [
      "Testing Epochs: 100%|██████████| 1/1 [00:00<00:00,  3.45it/s]\n",
      "TOTAL Epochs:  86%|████████▌ | 103/120 [04:23<00:41,  2.46s/it]"
     ]
    },
    {
     "name": "stdout",
     "output_type": "stream",
     "text": [
      "[TEST] End of Epoch 0, Avg Loss: 1.6880, Accuracy: 89.73%\n"
     ]
    },
    {
     "name": "stderr",
     "output_type": "stream",
     "text": []
    },
    {
     "name": "stdout",
     "output_type": "stream",
     "text": [
      "[TRAIN] End of Epoch 0, Avg Loss: 1.2261, Accuracy: 100.00%\n"
     ]
    },
    {
     "name": "stderr",
     "output_type": "stream",
     "text": [
      "Training Epochs: 100%|██████████| 2/2 [00:02<00:00,  1.17s/it]\n"
     ]
    },
    {
     "name": "stdout",
     "output_type": "stream",
     "text": [
      "[TRAIN] End of Epoch 1, Avg Loss: 1.2269, Accuracy: 100.00%\n"
     ]
    },
    {
     "name": "stderr",
     "output_type": "stream",
     "text": [
      "Testing Epochs: 100%|██████████| 1/1 [00:00<00:00,  3.48it/s]\n",
      "TOTAL Epochs:  87%|████████▋ | 104/120 [04:26<00:40,  2.52s/it]"
     ]
    },
    {
     "name": "stdout",
     "output_type": "stream",
     "text": [
      "[TEST] End of Epoch 0, Avg Loss: 1.7041, Accuracy: 87.95%\n"
     ]
    },
    {
     "name": "stderr",
     "output_type": "stream",
     "text": []
    },
    {
     "name": "stdout",
     "output_type": "stream",
     "text": [
      "[TRAIN] End of Epoch 0, Avg Loss: 1.2273, Accuracy: 100.00%\n"
     ]
    },
    {
     "name": "stderr",
     "output_type": "stream",
     "text": [
      "Training Epochs: 100%|██████████| 2/2 [00:02<00:00,  1.20s/it]\n"
     ]
    },
    {
     "name": "stdout",
     "output_type": "stream",
     "text": [
      "[TRAIN] End of Epoch 1, Avg Loss: 1.2316, Accuracy: 100.00%\n"
     ]
    },
    {
     "name": "stderr",
     "output_type": "stream",
     "text": [
      "Testing Epochs: 100%|██████████| 1/1 [00:00<00:00,  3.40it/s]\n",
      "TOTAL Epochs:  88%|████████▊ | 105/120 [04:29<00:38,  2.57s/it]"
     ]
    },
    {
     "name": "stdout",
     "output_type": "stream",
     "text": [
      "[TEST] End of Epoch 0, Avg Loss: 1.6922, Accuracy: 88.62%\n"
     ]
    },
    {
     "name": "stderr",
     "output_type": "stream",
     "text": []
    },
    {
     "name": "stdout",
     "output_type": "stream",
     "text": [
      "[TRAIN] End of Epoch 0, Avg Loss: 1.2312, Accuracy: 100.00%\n"
     ]
    },
    {
     "name": "stderr",
     "output_type": "stream",
     "text": [
      "Training Epochs: 100%|██████████| 2/2 [00:02<00:00,  1.14s/it]\n"
     ]
    },
    {
     "name": "stdout",
     "output_type": "stream",
     "text": [
      "[TRAIN] End of Epoch 1, Avg Loss: 1.2332, Accuracy: 100.00%\n"
     ]
    },
    {
     "name": "stderr",
     "output_type": "stream",
     "text": [
      "Testing Epochs: 100%|██████████| 1/1 [00:00<00:00,  3.52it/s]\n",
      "TOTAL Epochs:  88%|████████▊ | 106/120 [04:31<00:36,  2.57s/it]"
     ]
    },
    {
     "name": "stdout",
     "output_type": "stream",
     "text": [
      "[TEST] End of Epoch 0, Avg Loss: 1.7302, Accuracy: 87.72%\n"
     ]
    },
    {
     "name": "stderr",
     "output_type": "stream",
     "text": []
    },
    {
     "name": "stdout",
     "output_type": "stream",
     "text": [
      "[TRAIN] End of Epoch 0, Avg Loss: 1.2334, Accuracy: 100.00%\n"
     ]
    },
    {
     "name": "stderr",
     "output_type": "stream",
     "text": [
      "Training Epochs: 100%|██████████| 2/2 [00:02<00:00,  1.18s/it]\n"
     ]
    },
    {
     "name": "stdout",
     "output_type": "stream",
     "text": [
      "[TRAIN] End of Epoch 1, Avg Loss: 1.2315, Accuracy: 100.00%\n"
     ]
    },
    {
     "name": "stderr",
     "output_type": "stream",
     "text": [
      "Testing Epochs: 100%|██████████| 1/1 [00:00<00:00,  3.49it/s]\n",
      "TOTAL Epochs:  89%|████████▉ | 107/120 [04:34<00:33,  2.60s/it]"
     ]
    },
    {
     "name": "stdout",
     "output_type": "stream",
     "text": [
      "[TEST] End of Epoch 0, Avg Loss: 1.6690, Accuracy: 89.06%\n"
     ]
    },
    {
     "name": "stderr",
     "output_type": "stream",
     "text": []
    },
    {
     "name": "stdout",
     "output_type": "stream",
     "text": [
      "[TRAIN] End of Epoch 0, Avg Loss: 1.2312, Accuracy: 100.00%\n"
     ]
    },
    {
     "name": "stderr",
     "output_type": "stream",
     "text": [
      "Training Epochs: 100%|██████████| 2/2 [00:02<00:00,  1.15s/it]\n"
     ]
    },
    {
     "name": "stdout",
     "output_type": "stream",
     "text": [
      "[TRAIN] End of Epoch 1, Avg Loss: 1.2277, Accuracy: 100.00%\n"
     ]
    },
    {
     "name": "stderr",
     "output_type": "stream",
     "text": [
      "Testing Epochs: 100%|██████████| 1/1 [00:00<00:00,  3.29it/s]\n",
      "TOTAL Epochs:  90%|█████████ | 108/120 [04:37<00:31,  2.60s/it]"
     ]
    },
    {
     "name": "stdout",
     "output_type": "stream",
     "text": [
      "[TEST] End of Epoch 0, Avg Loss: 1.7146, Accuracy: 87.05%\n"
     ]
    },
    {
     "name": "stderr",
     "output_type": "stream",
     "text": []
    },
    {
     "name": "stdout",
     "output_type": "stream",
     "text": [
      "[TRAIN] End of Epoch 0, Avg Loss: 1.2230, Accuracy: 100.00%\n"
     ]
    },
    {
     "name": "stderr",
     "output_type": "stream",
     "text": [
      "Training Epochs: 100%|██████████| 2/2 [00:02<00:00,  1.20s/it]\n"
     ]
    },
    {
     "name": "stdout",
     "output_type": "stream",
     "text": [
      "[TRAIN] End of Epoch 1, Avg Loss: 1.2194, Accuracy: 100.00%\n"
     ]
    },
    {
     "name": "stderr",
     "output_type": "stream",
     "text": [
      "Testing Epochs: 100%|██████████| 1/1 [00:00<00:00,  3.46it/s]\n",
      "TOTAL Epochs:  91%|█████████ | 109/120 [04:39<00:28,  2.63s/it]"
     ]
    },
    {
     "name": "stdout",
     "output_type": "stream",
     "text": [
      "[TEST] End of Epoch 0, Avg Loss: 1.7067, Accuracy: 87.28%\n"
     ]
    },
    {
     "name": "stderr",
     "output_type": "stream",
     "text": []
    },
    {
     "name": "stdout",
     "output_type": "stream",
     "text": [
      "[TRAIN] End of Epoch 0, Avg Loss: 1.2185, Accuracy: 100.00%\n"
     ]
    },
    {
     "name": "stderr",
     "output_type": "stream",
     "text": [
      "Training Epochs: 100%|██████████| 2/2 [00:02<00:00,  1.17s/it]\n"
     ]
    },
    {
     "name": "stdout",
     "output_type": "stream",
     "text": [
      "[TRAIN] End of Epoch 1, Avg Loss: 1.2221, Accuracy: 100.00%\n"
     ]
    },
    {
     "name": "stderr",
     "output_type": "stream",
     "text": [
      "Testing Epochs: 100%|██████████| 1/1 [00:00<00:00,  3.44it/s]\n",
      "TOTAL Epochs:  92%|█████████▏| 110/120 [04:42<00:26,  2.63s/it]"
     ]
    },
    {
     "name": "stdout",
     "output_type": "stream",
     "text": [
      "[TEST] End of Epoch 0, Avg Loss: 1.7179, Accuracy: 87.95%\n"
     ]
    },
    {
     "name": "stderr",
     "output_type": "stream",
     "text": []
    },
    {
     "name": "stdout",
     "output_type": "stream",
     "text": [
      "[TRAIN] End of Epoch 0, Avg Loss: 1.2220, Accuracy: 100.00%\n"
     ]
    },
    {
     "name": "stderr",
     "output_type": "stream",
     "text": [
      "Training Epochs: 100%|██████████| 2/2 [00:02<00:00,  1.14s/it]\n"
     ]
    },
    {
     "name": "stdout",
     "output_type": "stream",
     "text": [
      "[TRAIN] End of Epoch 1, Avg Loss: 1.2229, Accuracy: 100.00%\n"
     ]
    },
    {
     "name": "stderr",
     "output_type": "stream",
     "text": [
      "Testing Epochs: 100%|██████████| 1/1 [00:00<00:00,  3.40it/s]\n",
      "TOTAL Epochs:  92%|█████████▎| 111/120 [04:45<00:23,  2.62s/it]"
     ]
    },
    {
     "name": "stdout",
     "output_type": "stream",
     "text": [
      "[TEST] End of Epoch 0, Avg Loss: 1.7457, Accuracy: 86.61%\n"
     ]
    },
    {
     "name": "stderr",
     "output_type": "stream",
     "text": []
    },
    {
     "name": "stdout",
     "output_type": "stream",
     "text": [
      "[TRAIN] End of Epoch 0, Avg Loss: 1.2266, Accuracy: 100.00%\n"
     ]
    },
    {
     "name": "stderr",
     "output_type": "stream",
     "text": [
      "Training Epochs: 100%|██████████| 2/2 [00:01<00:00,  1.49it/s]\n"
     ]
    },
    {
     "name": "stdout",
     "output_type": "stream",
     "text": [
      "[TRAIN] End of Epoch 1, Avg Loss: 1.2275, Accuracy: 100.00%\n"
     ]
    },
    {
     "name": "stderr",
     "output_type": "stream",
     "text": [
      "Testing Epochs: 100%|██████████| 1/1 [00:00<00:00,  3.47it/s]\n",
      "TOTAL Epochs:  93%|█████████▎| 112/120 [04:46<00:18,  2.32s/it]"
     ]
    },
    {
     "name": "stdout",
     "output_type": "stream",
     "text": [
      "[TEST] End of Epoch 0, Avg Loss: 1.6900, Accuracy: 88.17%\n"
     ]
    },
    {
     "name": "stderr",
     "output_type": "stream",
     "text": []
    },
    {
     "name": "stdout",
     "output_type": "stream",
     "text": [
      "[TRAIN] End of Epoch 0, Avg Loss: 1.2297, Accuracy: 100.00%\n"
     ]
    },
    {
     "name": "stderr",
     "output_type": "stream",
     "text": [
      "Training Epochs: 100%|██████████| 2/2 [00:02<00:00,  1.21s/it]\n"
     ]
    },
    {
     "name": "stdout",
     "output_type": "stream",
     "text": [
      "[TRAIN] End of Epoch 1, Avg Loss: 1.2316, Accuracy: 100.00%\n"
     ]
    },
    {
     "name": "stderr",
     "output_type": "stream",
     "text": [
      "Testing Epochs: 100%|██████████| 1/1 [00:00<00:00,  3.52it/s]\n",
      "TOTAL Epochs:  94%|█████████▍| 113/120 [04:49<00:17,  2.44s/it]"
     ]
    },
    {
     "name": "stdout",
     "output_type": "stream",
     "text": [
      "[TEST] End of Epoch 0, Avg Loss: 1.7120, Accuracy: 88.62%\n"
     ]
    },
    {
     "name": "stderr",
     "output_type": "stream",
     "text": []
    },
    {
     "name": "stdout",
     "output_type": "stream",
     "text": [
      "[TRAIN] End of Epoch 0, Avg Loss: 1.2277, Accuracy: 100.00%\n"
     ]
    },
    {
     "name": "stderr",
     "output_type": "stream",
     "text": [
      "Training Epochs: 100%|██████████| 2/2 [00:02<00:00,  1.16s/it]\n"
     ]
    },
    {
     "name": "stdout",
     "output_type": "stream",
     "text": [
      "[TRAIN] End of Epoch 1, Avg Loss: 1.2233, Accuracy: 100.00%\n"
     ]
    },
    {
     "name": "stderr",
     "output_type": "stream",
     "text": [
      "Testing Epochs: 100%|██████████| 1/1 [00:00<00:00,  3.49it/s]\n",
      "TOTAL Epochs:  95%|█████████▌| 114/120 [04:52<00:14,  2.49s/it]"
     ]
    },
    {
     "name": "stdout",
     "output_type": "stream",
     "text": [
      "[TEST] End of Epoch 0, Avg Loss: 1.7107, Accuracy: 88.62%\n"
     ]
    },
    {
     "name": "stderr",
     "output_type": "stream",
     "text": []
    },
    {
     "name": "stdout",
     "output_type": "stream",
     "text": [
      "[TRAIN] End of Epoch 0, Avg Loss: 1.2197, Accuracy: 100.00%\n"
     ]
    },
    {
     "name": "stderr",
     "output_type": "stream",
     "text": [
      "Training Epochs: 100%|██████████| 2/2 [00:02<00:00,  1.14s/it]\n"
     ]
    },
    {
     "name": "stdout",
     "output_type": "stream",
     "text": [
      "[TRAIN] End of Epoch 1, Avg Loss: 1.2216, Accuracy: 100.00%\n"
     ]
    },
    {
     "name": "stderr",
     "output_type": "stream",
     "text": [
      "Testing Epochs: 100%|██████████| 1/1 [00:00<00:00,  3.47it/s]\n",
      "TOTAL Epochs:  96%|█████████▌| 115/120 [04:54<00:12,  2.52s/it]"
     ]
    },
    {
     "name": "stdout",
     "output_type": "stream",
     "text": [
      "[TEST] End of Epoch 0, Avg Loss: 1.7115, Accuracy: 88.17%\n"
     ]
    },
    {
     "name": "stderr",
     "output_type": "stream",
     "text": []
    },
    {
     "name": "stdout",
     "output_type": "stream",
     "text": [
      "[TRAIN] End of Epoch 0, Avg Loss: 1.2194, Accuracy: 100.00%\n"
     ]
    },
    {
     "name": "stderr",
     "output_type": "stream",
     "text": [
      "Training Epochs: 100%|██████████| 2/2 [00:02<00:00,  1.15s/it]\n"
     ]
    },
    {
     "name": "stdout",
     "output_type": "stream",
     "text": [
      "[TRAIN] End of Epoch 1, Avg Loss: 1.2177, Accuracy: 100.00%\n"
     ]
    },
    {
     "name": "stderr",
     "output_type": "stream",
     "text": [
      "Testing Epochs: 100%|██████████| 1/1 [00:00<00:00,  3.40it/s]\n",
      "TOTAL Epochs:  97%|█████████▋| 116/120 [04:57<00:10,  2.55s/it]"
     ]
    },
    {
     "name": "stdout",
     "output_type": "stream",
     "text": [
      "[TEST] End of Epoch 0, Avg Loss: 1.6895, Accuracy: 87.72%\n"
     ]
    },
    {
     "name": "stderr",
     "output_type": "stream",
     "text": []
    },
    {
     "name": "stdout",
     "output_type": "stream",
     "text": [
      "[TRAIN] End of Epoch 0, Avg Loss: 1.2223, Accuracy: 100.00%\n"
     ]
    },
    {
     "name": "stderr",
     "output_type": "stream",
     "text": [
      "Training Epochs: 100%|██████████| 2/2 [00:02<00:00,  1.16s/it]\n"
     ]
    },
    {
     "name": "stdout",
     "output_type": "stream",
     "text": [
      "[TRAIN] End of Epoch 1, Avg Loss: 1.2211, Accuracy: 100.00%\n"
     ]
    },
    {
     "name": "stderr",
     "output_type": "stream",
     "text": [
      "Testing Epochs: 100%|██████████| 1/1 [00:00<00:00,  3.50it/s]\n",
      "TOTAL Epochs:  98%|█████████▊| 117/120 [04:59<00:07,  2.57s/it]"
     ]
    },
    {
     "name": "stdout",
     "output_type": "stream",
     "text": [
      "[TEST] End of Epoch 0, Avg Loss: 1.6947, Accuracy: 88.84%\n"
     ]
    },
    {
     "name": "stderr",
     "output_type": "stream",
     "text": []
    },
    {
     "name": "stdout",
     "output_type": "stream",
     "text": [
      "[TRAIN] End of Epoch 0, Avg Loss: 1.2183, Accuracy: 100.00%\n"
     ]
    },
    {
     "name": "stderr",
     "output_type": "stream",
     "text": [
      "Training Epochs: 100%|██████████| 2/2 [00:02<00:00,  1.15s/it]\n"
     ]
    },
    {
     "name": "stdout",
     "output_type": "stream",
     "text": [
      "[TRAIN] End of Epoch 1, Avg Loss: 1.2161, Accuracy: 100.00%\n"
     ]
    },
    {
     "name": "stderr",
     "output_type": "stream",
     "text": [
      "Testing Epochs: 100%|██████████| 1/1 [00:00<00:00,  3.38it/s]\n",
      "TOTAL Epochs:  98%|█████████▊| 118/120 [05:02<00:05,  2.58s/it]"
     ]
    },
    {
     "name": "stdout",
     "output_type": "stream",
     "text": [
      "[TEST] End of Epoch 0, Avg Loss: 1.6796, Accuracy: 88.62%\n"
     ]
    },
    {
     "name": "stderr",
     "output_type": "stream",
     "text": []
    },
    {
     "name": "stdout",
     "output_type": "stream",
     "text": [
      "[TRAIN] End of Epoch 0, Avg Loss: 1.2183, Accuracy: 100.00%\n"
     ]
    },
    {
     "name": "stderr",
     "output_type": "stream",
     "text": [
      "Training Epochs: 100%|██████████| 2/2 [00:02<00:00,  1.15s/it]\n"
     ]
    },
    {
     "name": "stdout",
     "output_type": "stream",
     "text": [
      "[TRAIN] End of Epoch 1, Avg Loss: 1.2180, Accuracy: 100.00%\n"
     ]
    },
    {
     "name": "stderr",
     "output_type": "stream",
     "text": [
      "Testing Epochs: 100%|██████████| 1/1 [00:00<00:00,  3.48it/s]\n",
      "TOTAL Epochs:  99%|█████████▉| 119/120 [05:05<00:02,  2.58s/it]"
     ]
    },
    {
     "name": "stdout",
     "output_type": "stream",
     "text": [
      "[TEST] End of Epoch 0, Avg Loss: 1.7026, Accuracy: 89.29%\n"
     ]
    },
    {
     "name": "stderr",
     "output_type": "stream",
     "text": []
    },
    {
     "name": "stdout",
     "output_type": "stream",
     "text": [
      "[TRAIN] End of Epoch 0, Avg Loss: 1.2165, Accuracy: 100.00%\n"
     ]
    },
    {
     "name": "stderr",
     "output_type": "stream",
     "text": [
      "Training Epochs: 100%|██████████| 2/2 [00:02<00:00,  1.16s/it]\n"
     ]
    },
    {
     "name": "stdout",
     "output_type": "stream",
     "text": [
      "[TRAIN] End of Epoch 1, Avg Loss: 1.2173, Accuracy: 100.00%\n"
     ]
    },
    {
     "name": "stderr",
     "output_type": "stream",
     "text": [
      "Testing Epochs: 100%|██████████| 1/1 [00:00<00:00,  3.48it/s]\n",
      "TOTAL Epochs: 100%|██████████| 120/120 [05:07<00:00,  2.56s/it]"
     ]
    },
    {
     "name": "stdout",
     "output_type": "stream",
     "text": [
      "[TEST] End of Epoch 0, Avg Loss: 1.6909, Accuracy: 88.62%\n"
     ]
    },
    {
     "name": "stderr",
     "output_type": "stream",
     "text": [
      "\n"
     ]
    }
   ],
   "source": [
    "# the actual trainign loop\n",
    "train_stats = []\n",
    "test_stats = []\n",
    "for epoch in tqdm(range(TOTAL_EPOCHS), desc=\"TOTAL Epochs\", disable=(verbosity == 0)):\n",
    "    res =train_epoch(model, train_loader, epochs=2, learning_rate=0.001, device=global_device, verbose=1, scheduler=scheduler, optimizer=optimizer, loss_function=criterion)\n",
    "    train_stats.extend(res)\n",
    "    res = test_epoch(model, val_loader, epochs=1, device=global_device, verbose=1, loss_function=criterion)\n",
    "    test_stats.extend(res)\n",
    "\n"
   ]
  },
  {
   "cell_type": "code",
   "execution_count": 10,
   "metadata": {},
   "outputs": [
    {
     "data": {
      "image/png": "[encoded data removed]",
      "text/plain": [
       "<Figure size 1000x500 with 2 Axes>"
      ]
     },
     "metadata": {},
     "output_type": "display_data"
    }
   ],
   "source": [
    "# plot the training and testing loss and accuracy\n",
    "train_loss = [stat[0] for stat in train_stats]\n",
    "train_acc = [stat[1] for stat in train_stats]\n",
    "test_loss = [stat[0] for stat in test_stats]\n",
    "test_acc = [stat[1] for stat in test_stats]\n",
    "x_test = np.linspace(0, len(train_loss), len(test_loss))\n",
    "plt.figure(figsize=(10, 5))\n",
    "plt.subplot(1, 2, 1)\n",
    "plt.plot(train_loss, label='Train Loss')\n",
    "plt.plot(x_test, test_loss, label='Test Loss')\n",
    "plt.axhline(np.min(test_loss), color='r', linestyle='--', label='Test Start')\n",
    "plt.text(0, np.min(test_loss), f\"{np.min(test_loss):.4f}\", va='center', ha='left')\n",
    "plt.title('Loss')\n",
    "plt.grid()\n",
    "plt.legend()\n",
    "plt.subplot(1, 2, 2)\n",
    "plt.plot(train_acc, label='Train Accuracy')\n",
    "plt.plot(x_test, test_acc, label='Test Accuracy')\n",
    "plt.axhline(np.max(test_acc), color='r', linestyle='--', label='Test Start')\n",
    "plt.text(0, np.max(test_acc), f\"{np.max(test_acc):.2f}%\", va='center', ha='left')\n",
    "plt.title('Accuracy')\n",
    "plt.grid()\n",
    "plt.legend()\n",
    "plt.show()"
   ]
  },
  {
   "cell_type": "code",
   "execution_count": 11,
   "metadata": {},
   "outputs": [],
   "source": [
    "# !pip install seaborn"
   ]
  },
  {
   "cell_type": "code",
   "execution_count": 12,
   "metadata": {},
   "outputs": [
    {
     "name": "stderr",
     "output_type": "stream",
     "text": [
      "100%|██████████| 14/14 [00:00<00:00, 48.60it/s]\n"
     ]
    },
    {
     "data": {
      "image/png": "[encoded data removed]",
      "text/plain": [
       "<Figure size 1000x800 with 2 Axes>"
      ]
     },
     "metadata": {},
     "output_type": "display_data"
    }
   ],
   "source": [
    "from sklearn.metrics import confusion_matrix\n",
    "import seaborn as sns\n",
    "\n",
    "# Function to evaluate the model and generate the confusion matrix\n",
    "def evaluate_model(model, dataloader, device='cpu'):\n",
    "    model.to(device)\n",
    "    model.eval()\n",
    "    \n",
    "    all_preds = []\n",
    "    all_labels = []\n",
    "    \n",
    "    with torch.no_grad():\n",
    "        for ids, audio, adc1, adc2 in tqdm(dataloader):\n",
    "            adc1 = adc1.to(device)\n",
    "            adc2 = adc2.to(device)\n",
    "            ids = ids.to(device)\n",
    "            \n",
    "            adc = torch.stack((adc1, adc2), dim=1)\n",
    "            outputs = model(adc)\n",
    "            _, preds = torch.max(outputs, 1)\n",
    "            \n",
    "            all_preds.extend(preds.cpu().numpy())\n",
    "            all_labels.extend(ids.cpu().numpy())\n",
    "    \n",
    "    return all_labels, all_preds\n",
    "\n",
    "# Evaluate the model on the validation set\n",
    "labels, preds = evaluate_model(model, val_loader, device=global_device)\n",
    "\n",
    "# Generate the confusion matrix\n",
    "conf_matrix = confusion_matrix(labels, preds)\n",
    "\n",
    "# Replace IDs with dataset names\n",
    "label_names = [dataset.id_to_dataset(label) for label in range(output_length)]\n",
    "pred_names = [dataset.id_to_dataset(pred) for pred in range(output_length)]\n",
    "\n",
    "# Plot the confusion matrix\n",
    "plt.figure(figsize=(10, 8))\n",
    "sns.heatmap(conf_matrix, annot=True, fmt='d', cmap='Blues', xticklabels=pred_names, yticklabels=label_names)\n",
    "plt.xlabel('Predicted')\n",
    "plt.ylabel('True')\n",
    "plt.title('Confusion Matrix')\n",
    "plt.show()"
   ]
  }
 ],
 "metadata": {
  "kernelspec": {
   "display_name": ".venv",
   "language": "python",
   "name": "python3"
  },
  "language_info": {
   "codemirror_mode": {
    "name": "ipython",
    "version": 3
   },
   "file_extension": ".py",
   "mimetype": "text/x-python",
   "name": "python",
   "nbconvert_exporter": "python",
   "pygments_lexer": "ipython3",
   "version": "3.12.3"
  }
 },
 "nbformat": 4,
 "nbformat_minor": 2
}
